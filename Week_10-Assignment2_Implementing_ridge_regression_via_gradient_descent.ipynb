{
  "nbformat": 4,
  "nbformat_minor": 0,
  "metadata": {
    "kernelspec": {
      "display_name": "Python 2",
      "language": "python",
      "name": "python2"
    },
    "language_info": {
      "codemirror_mode": {
        "name": "ipython",
        "version": 2
      },
      "file_extension": ".py",
      "mimetype": "text/x-python",
      "name": "python",
      "nbconvert_exporter": "python",
      "pygments_lexer": "ipython2",
      "version": "2.7.15"
    },
    "colab": {
      "name": "Assignment2-Implementing ridge regression via gradient descent_REG04-NB02.ipynb",
      "provenance": [],
      "collapsed_sections": []
    }
  },
  "cells": [
    {
      "cell_type": "markdown",
      "metadata": {
        "id": "WW-uE8EVnEOR"
      },
      "source": [
        "# Regression Week 4: Ridge Regression (gradient descent)"
      ]
    },
    {
      "cell_type": "markdown",
      "metadata": {
        "id": "bUgb2NrFnEOZ"
      },
      "source": [
        "In this notebook, you will implement ridge regression via gradient descent. You will:\n",
        "* Convert an SFrame into a Numpy array\n",
        "* Write a Numpy function to compute the derivative of the regression weights with respect to a single feature\n",
        "* Write gradient descent function to compute the regression weights given an initial weight vector, step size, tolerance, and L2 penalty"
      ]
    },
    {
      "cell_type": "markdown",
      "metadata": {
        "id": "knSfTuppnEOb"
      },
      "source": [
        "# Fire up Turi Create"
      ]
    },
    {
      "cell_type": "markdown",
      "metadata": {
        "id": "nfpwl_6qnEOc"
      },
      "source": [
        "Make sure you have the latest version of Turi Create"
      ]
    },
    {
      "cell_type": "code",
      "metadata": {
        "colab": {
          "base_uri": "https://localhost:8080/",
          "height": 1000
        },
        "id": "mhmm9MSVoN9w",
        "outputId": "e7cb146a-bd3f-4750-b291-97152f014bcb"
      },
      "source": [
        "pip install turicreate"
      ],
      "execution_count": null,
      "outputs": [
        {
          "output_type": "stream",
          "text": [
            "Collecting turicreate\n",
            "\u001b[?25l  Downloading https://files.pythonhosted.org/packages/75/38/77a081ce35f012bd4789551db9e5196e766a2641cb05114ded9cc268182c/turicreate-6.4.1-cp27-cp27mu-manylinux1_x86_64.whl (91.9MB)\n",
            "\u001b[K     |████████████████████████████████| 91.9MB 45kB/s \n",
            "\u001b[?25hCollecting pillow>=5.2.0\n",
            "\u001b[?25l  Downloading https://files.pythonhosted.org/packages/12/ad/61f8dfba88c4e56196bf6d056cdbba64dc9c5dfdfbc97d02e6472feed913/Pillow-6.2.2-cp27-cp27mu-manylinux1_x86_64.whl (2.1MB)\n",
            "\u001b[K     |████████████████████████████████| 2.1MB 41.7MB/s \n",
            "\u001b[?25hRequirement already satisfied: numpy in /usr/local/lib/python2.7/dist-packages (from turicreate) (1.16.4)\n",
            "Requirement already satisfied: requests>=2.9.1 in /usr/local/lib/python2.7/dist-packages (from turicreate) (2.23.0)\n",
            "Collecting tensorflow<2.1.0,>=2.0.0\n",
            "\u001b[?25l  Downloading https://files.pythonhosted.org/packages/17/08/1ff15637a03b1565dd6cb0916b3ca6873db3a1fc69be0ed851be936e5633/tensorflow-2.0.0-cp27-cp27mu-manylinux2010_x86_64.whl (86.3MB)\n",
            "\u001b[K     |████████████████████████████████| 86.3MB 79kB/s \n",
            "\u001b[?25hRequirement already satisfied: prettytable==0.7.2 in /usr/local/lib/python2.7/dist-packages (from turicreate) (0.7.2)\n",
            "Collecting llvmlite==0.31.0\n",
            "\u001b[?25l  Downloading https://files.pythonhosted.org/packages/91/07/90cd9cdd43b287960b16dbf7929bff2267dc0b6647e8e0117a4937b19620/llvmlite-0.31.0-cp27-cp27mu-manylinux1_x86_64.whl (20.2MB)\n",
            "\u001b[K     |████████████████████████████████| 20.2MB 1.3MB/s \n",
            "\u001b[?25hRequirement already satisfied: pandas>=0.23.2 in /usr/local/lib/python2.7/dist-packages (from turicreate) (0.24.2)\n",
            "Requirement already satisfied: decorator>=4.0.9 in /usr/local/lib/python2.7/dist-packages (from turicreate) (4.4.0)\n",
            "Requirement already satisfied: scipy>=1.1.0 in /usr/local/lib/python2.7/dist-packages (from turicreate) (1.2.2)\n",
            "Requirement already satisfied: six>=1.10.0 in /usr/local/lib/python2.7/dist-packages (from turicreate) (1.15.0)\n",
            "Requirement already satisfied: resampy==0.2.1 in /usr/local/lib/python2.7/dist-packages (from turicreate) (0.2.1)\n",
            "Requirement already satisfied: numba<0.51.0 in /usr/local/lib/python2.7/dist-packages (from turicreate) (0.40.1)\n",
            "Collecting coremltools==3.3\n",
            "\u001b[?25l  Downloading https://files.pythonhosted.org/packages/46/9b/f6feac5d9369c68ee718d3c3140435452773a36ff08ef3bcc4fe378e8676/coremltools-3.3-cp27-none-manylinux1_x86_64.whl (3.4MB)\n",
            "\u001b[K     |████████████████████████████████| 3.4MB 46.9MB/s \n",
            "\u001b[?25hRequirement already satisfied: urllib3!=1.25.0,!=1.25.1,<1.26,>=1.21.1 in /usr/local/lib/python2.7/dist-packages (from requests>=2.9.1->turicreate) (1.24.3)\n",
            "Requirement already satisfied: chardet<4,>=3.0.2 in /usr/local/lib/python2.7/dist-packages (from requests>=2.9.1->turicreate) (3.0.4)\n",
            "Requirement already satisfied: certifi>=2017.4.17 in /usr/local/lib/python2.7/dist-packages (from requests>=2.9.1->turicreate) (2019.6.16)\n",
            "Requirement already satisfied: idna<3,>=2.5 in /usr/local/lib/python2.7/dist-packages (from requests>=2.9.1->turicreate) (2.8)\n",
            "Requirement already satisfied: gast==0.2.2 in /usr/local/lib/python2.7/dist-packages (from tensorflow<2.1.0,>=2.0.0->turicreate) (0.2.2)\n",
            "Requirement already satisfied: grpcio>=1.8.6 in /usr/local/lib/python2.7/dist-packages (from tensorflow<2.1.0,>=2.0.0->turicreate) (1.15.0)\n",
            "Requirement already satisfied: mock>=2.0.0 in /usr/local/lib/python2.7/dist-packages (from tensorflow<2.1.0,>=2.0.0->turicreate) (2.0.0)\n",
            "Collecting tensorboard<2.1.0,>=2.0.0\n",
            "\u001b[?25l  Downloading https://files.pythonhosted.org/packages/a7/3d/993131c622ae34f9401a81526853f2310a4834bd042420a7982fb5bc5fd0/tensorboard-2.0.2-py2-none-any.whl (3.8MB)\n",
            "\u001b[K     |████████████████████████████████| 3.8MB 32.2MB/s \n",
            "\u001b[?25hRequirement already satisfied: wrapt>=1.11.1 in /usr/local/lib/python2.7/dist-packages (from tensorflow<2.1.0,>=2.0.0->turicreate) (1.11.2)\n",
            "Requirement already satisfied: protobuf>=3.6.1 in /usr/local/lib/python2.7/dist-packages (from tensorflow<2.1.0,>=2.0.0->turicreate) (3.8.0)\n",
            "Requirement already satisfied: keras-preprocessing>=1.0.5 in /usr/local/lib/python2.7/dist-packages (from tensorflow<2.1.0,>=2.0.0->turicreate) (1.1.0)\n",
            "Requirement already satisfied: backports.weakref>=1.0rc1; python_version < \"3.4\" in /usr/local/lib/python2.7/dist-packages (from tensorflow<2.1.0,>=2.0.0->turicreate) (1.0.post1)\n",
            "Requirement already satisfied: keras-applications>=1.0.8 in /usr/local/lib/python2.7/dist-packages (from tensorflow<2.1.0,>=2.0.0->turicreate) (1.0.8)\n",
            "Requirement already satisfied: wheel in /usr/local/lib/python2.7/dist-packages (from tensorflow<2.1.0,>=2.0.0->turicreate) (0.37.0)\n",
            "Requirement already satisfied: functools32>=3.2.3 in /usr/local/lib/python2.7/dist-packages (from tensorflow<2.1.0,>=2.0.0->turicreate) (3.2.3.post2)\n",
            "Requirement already satisfied: absl-py>=0.7.0 in /usr/local/lib/python2.7/dist-packages (from tensorflow<2.1.0,>=2.0.0->turicreate) (0.7.1)\n",
            "Requirement already satisfied: opt-einsum>=2.3.2 in /usr/local/lib/python2.7/dist-packages (from tensorflow<2.1.0,>=2.0.0->turicreate) (2.3.2)\n",
            "Requirement already satisfied: termcolor>=1.1.0 in /usr/local/lib/python2.7/dist-packages (from tensorflow<2.1.0,>=2.0.0->turicreate) (1.1.0)\n",
            "Requirement already satisfied: google-pasta>=0.1.6 in /usr/local/lib/python2.7/dist-packages (from tensorflow<2.1.0,>=2.0.0->turicreate) (0.1.7)\n",
            "Requirement already satisfied: enum34>=1.1.6; python_version < \"3.4\" in /usr/local/lib/python2.7/dist-packages (from tensorflow<2.1.0,>=2.0.0->turicreate) (1.1.6)\n",
            "Collecting tensorflow-estimator<2.1.0,>=2.0.0\n",
            "\u001b[?25l  Downloading https://files.pythonhosted.org/packages/fc/08/8b927337b7019c374719145d1dceba21a8bb909b93b1ad6f8fb7d22c1ca1/tensorflow_estimator-2.0.1-py2.py3-none-any.whl (449kB)\n",
            "\u001b[K     |████████████████████████████████| 450kB 38.6MB/s \n",
            "\u001b[?25hRequirement already satisfied: astor>=0.6.0 in /usr/local/lib/python2.7/dist-packages (from tensorflow<2.1.0,>=2.0.0->turicreate) (0.8.1)\n",
            "Requirement already satisfied: pytz>=2011k in /usr/local/lib/python2.7/dist-packages (from pandas>=0.23.2->turicreate) (2018.9)\n",
            "Requirement already satisfied: python-dateutil>=2.5.0 in /usr/local/lib/python2.7/dist-packages (from pandas>=0.23.2->turicreate) (2.5.3)\n",
            "Requirement already satisfied: funcsigs in /usr/local/lib/python2.7/dist-packages (from numba<0.51.0->turicreate) (1.0.2)\n",
            "Requirement already satisfied: singledispatch in /usr/local/lib/python2.7/dist-packages (from numba<0.51.0->turicreate) (3.4.0.3)\n",
            "Requirement already satisfied: futures>=2.2.0 in /usr/local/lib/python2.7/dist-packages (from grpcio>=1.8.6->tensorflow<2.1.0,>=2.0.0->turicreate) (3.2.0)\n",
            "Requirement already satisfied: pbr>=0.11 in /usr/local/lib/python2.7/dist-packages (from mock>=2.0.0->tensorflow<2.1.0,>=2.0.0->turicreate) (5.4.0)\n",
            "Requirement already satisfied: setuptools>=41.0.0 in /usr/local/lib/python2.7/dist-packages (from tensorboard<2.1.0,>=2.0.0->tensorflow<2.1.0,>=2.0.0->turicreate) (44.1.1)\n",
            "Collecting google-auth-oauthlib<0.5,>=0.4.1\n",
            "  Downloading https://files.pythonhosted.org/packages/7b/b8/88def36e74bee9fce511c9519571f4e485e890093ab7442284f4ffaef60b/google_auth_oauthlib-0.4.1-py2.py3-none-any.whl\n",
            "Requirement already satisfied: werkzeug>=0.11.15 in /usr/local/lib/python2.7/dist-packages (from tensorboard<2.1.0,>=2.0.0->tensorflow<2.1.0,>=2.0.0->turicreate) (0.15.5)\n",
            "Requirement already satisfied: google-auth<2,>=1.6.3 in /usr/local/lib/python2.7/dist-packages (from tensorboard<2.1.0,>=2.0.0->tensorflow<2.1.0,>=2.0.0->turicreate) (1.35.0)\n",
            "Requirement already satisfied: markdown>=2.6.8 in /usr/local/lib/python2.7/dist-packages (from tensorboard<2.1.0,>=2.0.0->tensorflow<2.1.0,>=2.0.0->turicreate) (3.1.1)\n",
            "Requirement already satisfied: h5py in /usr/local/lib/python2.7/dist-packages (from keras-applications>=1.0.8->tensorflow<2.1.0,>=2.0.0->turicreate) (2.8.0)\n",
            "Requirement already satisfied: requests-oauthlib>=0.7.0 in /usr/local/lib/python2.7/dist-packages (from google-auth-oauthlib<0.5,>=0.4.1->tensorboard<2.1.0,>=2.0.0->tensorflow<2.1.0,>=2.0.0->turicreate) (1.2.0)\n",
            "Requirement already satisfied: cachetools<5.0,>=2.0.0 in /usr/local/lib/python2.7/dist-packages (from google-auth<2,>=1.6.3->tensorboard<2.1.0,>=2.0.0->tensorflow<2.1.0,>=2.0.0->turicreate) (3.1.1)\n",
            "Requirement already satisfied: pyasn1-modules>=0.2.1 in /usr/local/lib/python2.7/dist-packages (from google-auth<2,>=1.6.3->tensorboard<2.1.0,>=2.0.0->tensorflow<2.1.0,>=2.0.0->turicreate) (0.2.5)\n",
            "Requirement already satisfied: rsa<4.6; python_version < \"3.6\" in /usr/local/lib/python2.7/dist-packages (from google-auth<2,>=1.6.3->tensorboard<2.1.0,>=2.0.0->tensorflow<2.1.0,>=2.0.0->turicreate) (4.0)\n",
            "Requirement already satisfied: oauthlib>=3.0.0 in /usr/local/lib/python2.7/dist-packages (from requests-oauthlib>=0.7.0->google-auth-oauthlib<0.5,>=0.4.1->tensorboard<2.1.0,>=2.0.0->tensorflow<2.1.0,>=2.0.0->turicreate) (3.0.2)\n",
            "Requirement already satisfied: pyasn1<0.5.0,>=0.4.1 in /usr/local/lib/python2.7/dist-packages (from pyasn1-modules>=0.2.1->google-auth<2,>=1.6.3->tensorboard<2.1.0,>=2.0.0->tensorflow<2.1.0,>=2.0.0->turicreate) (0.4.5)\n",
            "\u001b[31mERROR: fastai 0.7.0 has requirement torch<0.4, but you'll have torch 1.4.0 which is incompatible.\u001b[0m\n",
            "\u001b[31mERROR: tensorboard 2.0.2 has requirement grpcio>=1.24.3, but you'll have grpcio 1.15.0 which is incompatible.\u001b[0m\n",
            "Installing collected packages: pillow, google-auth-oauthlib, tensorboard, tensorflow-estimator, tensorflow, llvmlite, coremltools, turicreate\n",
            "  Found existing installation: Pillow 4.3.0\n",
            "    Uninstalling Pillow-4.3.0:\n",
            "      Successfully uninstalled Pillow-4.3.0\n",
            "  Found existing installation: google-auth-oauthlib 0.4.0\n",
            "    Uninstalling google-auth-oauthlib-0.4.0:\n",
            "      Successfully uninstalled google-auth-oauthlib-0.4.0\n",
            "  Found existing installation: tensorboard 2.1.0\n",
            "    Uninstalling tensorboard-2.1.0:\n",
            "      Successfully uninstalled tensorboard-2.1.0\n",
            "  Found existing installation: tensorflow-estimator 1.15.0\n",
            "    Uninstalling tensorflow-estimator-1.15.0:\n",
            "      Successfully uninstalled tensorflow-estimator-1.15.0\n",
            "  Found existing installation: tensorflow 2.1.0\n",
            "    Uninstalling tensorflow-2.1.0:\n",
            "      Successfully uninstalled tensorflow-2.1.0\n",
            "  Found existing installation: llvmlite 0.29.0\n",
            "    Uninstalling llvmlite-0.29.0:\n",
            "      Successfully uninstalled llvmlite-0.29.0\n",
            "Successfully installed coremltools-3.3 google-auth-oauthlib-0.4.1 llvmlite-0.31.0 pillow-6.2.2 tensorboard-2.0.2 tensorflow-2.0.0 tensorflow-estimator-2.0.1 turicreate-6.4.1\n"
          ],
          "name": "stdout"
        },
        {
          "output_type": "display_data",
          "data": {
            "application/vnd.colab-display-data+json": {
              "pip_warning": {
                "packages": [
                  "PIL"
                ]
              }
            }
          },
          "metadata": {}
        }
      ]
    },
    {
      "cell_type": "code",
      "metadata": {
        "id": "zUHoVthxnEOd"
      },
      "source": [
        "import turicreate"
      ],
      "execution_count": null,
      "outputs": []
    },
    {
      "cell_type": "markdown",
      "metadata": {
        "id": "jT637NCinEOe"
      },
      "source": [
        "# 1. Load in house sales data\n",
        "\n",
        "Dataset is from house sales in King County, the region where the city of Seattle, WA is located."
      ]
    },
    {
      "cell_type": "code",
      "metadata": {
        "colab": {
          "base_uri": "https://localhost:8080/"
        },
        "id": "Sv_Hbi9Iox7M",
        "outputId": "e05a8b36-6c9b-4d3a-f55f-59508ce64898"
      },
      "source": [
        "from google.colab import drive\n",
        "drive.mount('/content/gdrive')"
      ],
      "execution_count": null,
      "outputs": [
        {
          "output_type": "stream",
          "text": [
            "Mounted at /content/gdrive\n"
          ],
          "name": "stdout"
        }
      ]
    },
    {
      "cell_type": "code",
      "metadata": {
        "id": "_zahRXrvnEOg"
      },
      "source": [
        "# sales = turicreate.SFrame('home_data.sframe/')\n",
        "sales = turicreate.SFrame('/content/gdrive/My Drive/Turicreate/Week 8/home_data.sframe/')"
      ],
      "execution_count": null,
      "outputs": []
    },
    {
      "cell_type": "markdown",
      "metadata": {
        "id": "G_uI19a4nEOh"
      },
      "source": [
        "If we want to do any \"feature engineering\" like creating new features or adjusting existing ones we should do this directly using the SFrames as seen in the first notebook of Week 2. For this notebook, however, we will work with the existing features."
      ]
    },
    {
      "cell_type": "markdown",
      "metadata": {
        "id": "K_0-raY3nEOj"
      },
      "source": [
        "# 2. Import useful functions from previous notebook"
      ]
    },
    {
      "cell_type": "markdown",
      "metadata": {
        "id": "Wtn4KqXunEOl"
      },
      "source": [
        "**3.** As in Week 2, we convert the SFrame into a 2D Numpy array. Copy and paste `get_numpy_data()` from the second notebook of Week 2."
      ]
    },
    {
      "cell_type": "code",
      "metadata": {
        "id": "tTcV4sVqnEOn"
      },
      "source": [
        "import numpy as np # note this allows us to refer to numpy as np instead "
      ],
      "execution_count": null,
      "outputs": []
    },
    {
      "cell_type": "code",
      "metadata": {
        "id": "DwETrW7_nEOo"
      },
      "source": [
        "def get_numpy_data(data_sframe, features, output):\n",
        "    data_sframe['constant'] = 1 # this is how you add a constant column to an SFrame\n",
        "    # add the column 'constant' to the front of the features list so that we can extract it along with the others:\n",
        "    features = ['constant'] + features # this is how you combine two lists\n",
        "\n",
        "    # select the columns of data_SFrame given by the features list into the SFrame features_sframe (now including constant):\n",
        "    features_sframe = data_sframe[features]\n",
        "\n",
        "    # the following line will convert the features_SFrame into a numpy matrix:\n",
        "    feature_matrix = features_sframe.to_numpy()\n",
        "\n",
        "    # assign the column of data_sframe associated with the output to the SArray output_sarray\n",
        "    output_sarray = data_sframe[output]\n",
        "\n",
        "    # the following will convert the SArray into a numpy array by first converting it to a list\n",
        "    output_array = output_sarray.to_numpy()\n",
        "    \n",
        "    return(feature_matrix, output_array)"
      ],
      "execution_count": null,
      "outputs": []
    },
    {
      "cell_type": "markdown",
      "metadata": {
        "id": "nO__Pt7ZnEOo"
      },
      "source": [
        "**4.** Also, copy and paste the `predict_output()` function to compute the predictions for an entire matrix of features given the matrix and the weights:"
      ]
    },
    {
      "cell_type": "code",
      "metadata": {
        "id": "mReYh_IJnEOp"
      },
      "source": [
        "def predict_output(feature_matrix, weights):\n",
        "    # assume feature_matrix is a numpy matrix containing the features as columns and weights is a corresponding numpy array\n",
        "    # create the predictions vector by using np.dot()\n",
        "    predictions = np.dot(feature_matrix, weights)\n",
        "\n",
        "    return(predictions)"
      ],
      "execution_count": null,
      "outputs": []
    },
    {
      "cell_type": "markdown",
      "metadata": {
        "id": "klmmnKcknEOq"
      },
      "source": [
        "# 5. Computing the Derivative"
      ]
    },
    {
      "cell_type": "markdown",
      "metadata": {
        "id": "myqjtmawnEOq"
      },
      "source": [
        "We are now going to move to computing the derivative of the regression cost function. Recall that the cost function is the sum over the data points of the squared difference between an observed output and a predicted output, plus the L2 penalty term.\n",
        "```\n",
        "Cost(w)\n",
        "= SUM[ (prediction - output)^2 ]\n",
        "+ l2_penalty*(w[0]^2 + w[1]^2 + ... + w[k]^2).\n",
        "```\n",
        "\n",
        "Since the derivative of a sum is the sum of the derivatives, we can take the derivative of the first part (the RSS) as we did in the notebook for the unregularized case in Week 2 and add the derivative of the regularization part.  As we saw, the derivative of the RSS with respect to `w[i]` can be written as: \n",
        "```\n",
        "2*SUM[ error*[feature_i] ].\n",
        "```\n",
        "The derivative of the regularization term with respect to `w[i]` is:\n",
        "```\n",
        "2*l2_penalty*w[i].\n",
        "```\n",
        "Summing both, we get\n",
        "```\n",
        "2*SUM[ error*[feature_i] ] + 2*l2_penalty*w[i].\n",
        "```\n",
        "That is, the derivative for the weight for feature i is the sum (over data points) of 2 times the product of the error and the feature itself, plus `2*l2_penalty*w[i]`. \n",
        "\n",
        "**We will not regularize the constant.**  Thus, in the case of the constant, the derivative is just twice the sum of the errors (without the `2*l2_penalty*w[0]` term).\n",
        "\n",
        "Recall that twice the sum of the product of two vectors is just twice the dot product of the two vectors. Therefore the derivative for the weight for feature_i is just two times the dot product between the values of feature_i and the current errors, plus `2*l2_penalty*w[i]`.\n",
        "\n",
        "**6.** With this in mind complete the following derivative function which computes the derivative of the weight given the value of the feature (over all data points) and the errors (over all data points).  To decide when to we are dealing with the constant (so we don't regularize it) we added the extra parameter to the call `feature_is_constant` which you should set to `True` when computing the derivative of the constant and `False` otherwise."
      ]
    },
    {
      "cell_type": "code",
      "metadata": {
        "id": "9HYlLEGEnEOr"
      },
      "source": [
        "def feature_derivative_ridge(errors, feature, weight, l2_penalty, feature_is_constant):\n",
        "    # If feature_is_constant is True, derivative is twice the dot product of errors and feature\n",
        "    if feature_is_constant == True:\n",
        "        derivative = 2 * np.dot(errors, feature)\n",
        "    \n",
        "    # Otherwise, derivative is twice the dot product plus 2*l2_penalty*weight\n",
        "    else:\n",
        "        derivative = 2 * np.dot(errors, feature) + 2*(l2_penalty*weight)\n",
        "    \n",
        "    return derivative"
      ],
      "execution_count": null,
      "outputs": []
    },
    {
      "cell_type": "markdown",
      "metadata": {
        "id": "rQgGpZKnnEOs"
      },
      "source": [
        "**7.** To test your feature derivartive run the following:"
      ]
    },
    {
      "cell_type": "code",
      "metadata": {
        "colab": {
          "base_uri": "https://localhost:8080/"
        },
        "id": "1VWIptfanEOs",
        "outputId": "2dc7e8d4-03bd-4eea-9a27-d84bd41c2480"
      },
      "source": [
        "(example_features, example_output) = get_numpy_data(sales, ['sqft_living'], 'price') \n",
        "my_weights = np.array([1., 10.])\n",
        "test_predictions = predict_output(example_features, my_weights) \n",
        "errors = test_predictions - example_output # prediction errors\n",
        "\n",
        "# next two lines should print the same values\n",
        "print feature_derivative_ridge(errors, example_features[:,1], my_weights[1], 1, False)\n",
        "print np.sum(errors*example_features[:,1])*2+20.\n",
        "print ''\n",
        "\n",
        "# next two lines should print the same values\n",
        "print feature_derivative_ridge(errors, example_features[:,0], my_weights[0], 1, True)\n",
        "print np.sum(errors)*2."
      ],
      "execution_count": null,
      "outputs": [
        {
          "output_type": "stream",
          "text": [
            "-56554166782350.0\n",
            "-56554166782350.0\n",
            "\n",
            "-22446749336.0\n",
            "-22446749336.0\n"
          ],
          "name": "stdout"
        }
      ]
    },
    {
      "cell_type": "markdown",
      "metadata": {
        "id": "0ZexLW4tnEOt"
      },
      "source": [
        "# Gradient Descent"
      ]
    },
    {
      "cell_type": "markdown",
      "metadata": {
        "id": "Gq7aOCTcnEOt"
      },
      "source": [
        "**8.** Now we will write a function that performs a gradient descent. The basic premise is simple. Given a starting point we update the current weights by moving in the negative gradient direction. Recall that the gradient is the direction of *increase* and therefore the negative gradient is the direction of *decrease* and we're trying to *minimize* a cost function. \n",
        "\n",
        "The amount by which we move in the negative gradient *direction*  is called the 'step size'. We stop when we are 'sufficiently close' to the optimum. Unlike in Week 2, this time we will set a **maximum number of iterations** and take gradient steps until we reach this maximum number. If no maximum number is supplied, the maximum should be set 100 by default. (Use default parameter values in Python.)\n",
        "\n",
        "With this in mind, complete the following gradient descent function below using your derivative function above. For each step in the gradient descent, we update the weight for each feature before computing our stopping criteria.\n",
        "\n",
        " The function will take the following parameters:\n",
        "\n",
        "* 2D feature matrix\n",
        "\n",
        "* array of output values\n",
        "\n",
        "* initial weights\n",
        "\n",
        "* step size\n",
        "\n",
        "* L2 penalty\n",
        "\n",
        "* maximum number of iterations"
      ]
    },
    {
      "cell_type": "markdown",
      "metadata": {
        "id": "DQAXMw0-W2BJ"
      },
      "source": [
        "# This is the given code in the assignement work sheet, that we need to modify\n",
        "\n",
        "`def ridge_regression_gradient_descent(feature_matrix, output, initial_weights, step_size, l2_penalty, max_iterations=100):`\n",
        "    \n",
        "    print 'Starting gradient descent with l2_penalty = ' + str(l2_penalty)`\n",
        "\n",
        "    \n",
        "    weights = np.array(initial_weights) # make sure it's a numpy array\n",
        "    iteration = 0 # iteration counter\n",
        "    print_frequency = 1  # for adjusting frequency of debugging output\n",
        "    \n",
        "    #while not reached maximum number of iterations:\n",
        "        iteration += 1  # increment iteration counter\n",
        "        ### === code section for adjusting frequency of debugging output. ===\n",
        "        if iteration == 10:\n",
        "            print_frequency = 10\n",
        "        if iteration == 100:\n",
        "            print_frequency = 100\n",
        "        if iteration%print_frequency==0:\n",
        "            print('Iteration = ' + str(iteration))\n",
        "        ### === end code section ===\n",
        "        \n",
        "        # compute the predictions based on feature_matrix and weights using your predict_output() function\n",
        "\n",
        "        # compute the errors as predictions - output\n",
        "\n",
        "        # from time to time, print the value of the cost function\n",
        "        if iteration%print_frequency==0:\n",
        "            print 'Cost function = ', str(np.dot(errors,errors) + l2_penalty*(np.dot(weights,weights) - weights[0]**2))\n",
        "        \n",
        "        for i in xrange(len(weights)): # loop over each weight\n",
        "            # Recall that feature_matrix[:,i] is the feature column associated with weights[i]\n",
        "            # compute the derivative for weight[i].\n",
        "            #(Remember: when i=0, you are computing the derivative of the constant!)\n",
        "\n",
        "            # subtract the step size times the derivative from the current weight\n",
        "            \n",
        "    print 'Done with gradient descent at iteration ', iteration\n",
        "    print 'Learned weights = ', str(weights)\n",
        "    return weights\n"
      ]
    },
    {
      "cell_type": "code",
      "metadata": {
        "id": "gyhzbrWtnEOv"
      },
      "source": [
        "############## when you run this and then the subsequent codes, the values that we get for ##############################################\n",
        "############## ridge_regression_gradient_descent when l2_penalty is set at 0.0 and at 1e11 ##############################################\n",
        "############## which is wrong (I guess). After waiting for 7 hours in the discussion forum @ https://www.coursera.org/learn/ml-regression/discussions/weeks/4/threads/2nSKjgNqEeywkBKTUBgfvw #####################\n",
        "############## I didnt get any answers. So I copied the next set of codes from internet and it seems to work fine #######################\n",
        "############## I will use both and see how I fare in the quiz that follows this assignment ##############################################\n",
        "\n",
        "def ridge_regression_gradient_descent(feature_matrix, output, initial_weights, step_size, l2_penalty, max_iterations=100):\n",
        "    print 'Starting gradient descent with l2_penalty = ' + str(l2_penalty)\n",
        "    \n",
        "    weights = np.array(initial_weights) # make sure it's a numpy array\n",
        "\n",
        "    iteration = 0 # iteration counter\n",
        "    print_frequency = 1  # for adjusting frequency of debugging output\n",
        "    \n",
        "    #while not reached maximum number of iterations:\n",
        "    iteration += 1  # increment iteration counter\n",
        "      ### === code section for adjusting frequency of debugging output. ===\n",
        "    if iteration == 10:\n",
        "          print_frequency = 10\n",
        "    if iteration == 100:\n",
        "          print_frequency = 100\n",
        "    if iteration%print_frequency==0:\n",
        "          print('Iteration = ' + str(iteration))\n",
        "        ### === end code section ===\n",
        "      \n",
        "        # compute the predictions based on feature_matrix and weights using your predict_output() function\n",
        "    predictions = predict_output(feature_matrix, weights)\n",
        "\n",
        "        # compute the errors as predictions - output\n",
        "    errors = predictions - output\n",
        "\n",
        "        # from time to time, print the value of the cost function\n",
        "    if iteration%print_frequency==0:\n",
        "          print 'Cost function = ', str(np.dot(errors,errors) + l2_penalty*(np.dot(weights,weights) - weights[0]**2))\n",
        "        \n",
        "    for i in xrange(len(weights)): # loop over each weight\n",
        "          # Recall that feature_matrix[:,i] is the feature column associated with weights[i]\n",
        "          # compute the derivative for weight[i].\n",
        "          #(Remember: when i=0, you are computing the derivative of the constant!)\n",
        "          derivative = feature_derivative_ridge(errors, feature_matrix[:,i], weights[i], l2_penalty, i == 0)\n",
        "\n",
        "          # subtract the step size times the derivative from the current weight\n",
        "          weights[i] = weights[i] - (step_size * derivative)\n",
        "            \n",
        "    print 'Done with gradient descent at iteration ', iteration\n",
        "    print 'Learned weights = ', str(weights)\n",
        "    return weights"
      ],
      "execution_count": null,
      "outputs": []
    },
    {
      "cell_type": "code",
      "metadata": {
        "id": "pUmif3s8Q6hN"
      },
      "source": [
        "################### dont run this if you are running the above set of codes #################################################\n",
        "################### check what happens in teh quiz and if you dont pass,    ##################################\n",
        "################### come back and run this code and teh next set of codes ##################################\n",
        "################### THE ABOVE SHIT IS NOT WORKING FOR ANY ANSWERS TO THE QUIZ #############################\n",
        "################### SO IM GOING TO RUN THIS SET OF CODES AND PROCEEDING FURTHER ##########################\n",
        "\n",
        "def ridge_regression_gradient_descent(feature_matrix, output, initial_weights, step_size, l2_penalty, max_iterations=100):\n",
        "    weights = np.array(initial_weights) # make sure it's a numpy array\n",
        "    \n",
        "    #while not reached maximum number of iterations:\n",
        "    while max_iterations > 0:\n",
        "        # compute the predictions based on feature_matrix and weights using your predict_output() function\n",
        "        predictions = predict_output(feature_matrix, weights)\n",
        "        # compute the errors as predictions - output\n",
        "        errors = predictions - output\n",
        "        for i in xrange(len(weights)): # loop over each weight\n",
        "            # Recall that feature_matrix[:,i] is the feature column associated with weights[i]\n",
        "            # compute the derivative for weight[i].\n",
        "            #(Remember: when i=0, you are computing the derivative of the constant!)\n",
        "            if i == 0:\n",
        "                feature_is_constant = True\n",
        "            else:\n",
        "                feature_is_constant = False\n",
        "            derivative = feature_derivative_ridge(errors, feature_matrix[:,i], weights[i], l2_penalty, feature_is_constant)\n",
        "\n",
        "            # subtract the step size times the derivative from the current weight\n",
        "            weights[i] = weights[i] - (step_size * derivative)\n",
        "        max_iterations -= 1            \n",
        "    return weights"
      ],
      "execution_count": null,
      "outputs": []
    },
    {
      "cell_type": "markdown",
      "metadata": {
        "id": "CiEDZBXEnEOx"
      },
      "source": [
        "# Visualizing effect of L2 penalty"
      ]
    },
    {
      "cell_type": "markdown",
      "metadata": {
        "id": "AVoswLvSnEOy"
      },
      "source": [
        "**9.** The L2 penalty gets its name because it causes weights to have small L2 norms than otherwise. Let's see how large weights get penalized. Let us consider a simple model with 1 feature:"
      ]
    },
    {
      "cell_type": "code",
      "metadata": {
        "id": "5hj9fVDRnEOy"
      },
      "source": [
        "simple_features = ['sqft_living']\n",
        "my_output = 'price'"
      ],
      "execution_count": null,
      "outputs": []
    },
    {
      "cell_type": "markdown",
      "metadata": {
        "id": "9wLaf_YKnEOz"
      },
      "source": [
        "**10.** Let us split the dataset into training set and test set. Make sure to use `seed=0`:"
      ]
    },
    {
      "cell_type": "code",
      "metadata": {
        "id": "rnckKu03nEO0"
      },
      "source": [
        "train_data,test_data = sales.random_split(.8,seed=0)"
      ],
      "execution_count": null,
      "outputs": []
    },
    {
      "cell_type": "markdown",
      "metadata": {
        "id": "7itngWI8nEO1"
      },
      "source": [
        "In this part, we will only use `'sqft_living'` to predict `'price'`. \n",
        "\n",
        "**11.** Use the `get_numpy_data` function to get a Numpy versions of your data with only this feature, for both the `train_data` and the `test_data`. "
      ]
    },
    {
      "cell_type": "code",
      "metadata": {
        "id": "vuO7bz4MnEO1"
      },
      "source": [
        "(simple_feature_matrix, output) = get_numpy_data(train_data, simple_features, my_output)\n",
        "(simple_test_feature_matrix, test_output) = get_numpy_data(test_data, simple_features, my_output)"
      ],
      "execution_count": null,
      "outputs": []
    },
    {
      "cell_type": "markdown",
      "metadata": {
        "id": "bSy42aAsnEO2"
      },
      "source": [
        "Let's set the parameters for our optimization:"
      ]
    },
    {
      "cell_type": "code",
      "metadata": {
        "id": "KUAJz-CQnEO2"
      },
      "source": [
        "initial_weights = np.array([0., 0.])\n",
        "step_size = 1e-12\n",
        "max_iterations=1000"
      ],
      "execution_count": null,
      "outputs": []
    },
    {
      "cell_type": "markdown",
      "metadata": {
        "id": "XGCdHv5TnEO2"
      },
      "source": [
        "**12.** First, let's consider no regularization.  Set the `l2_penalty` to `0.0` and run your ridge regression algorithm to learn the weights of your model.  Call your weights:\n",
        "\n",
        "`simple_weights_0_penalty`\n",
        "\n",
        "we'll use them later."
      ]
    },
    {
      "cell_type": "code",
      "metadata": {
        "colab": {
          "base_uri": "https://localhost:8080/"
        },
        "id": "cxbbXddynEO3",
        "outputId": "5cf4fef7-f711-4c9b-b564-6b24e66be40d"
      },
      "source": [
        "simple_weights_0_penalty = ridge_regression_gradient_descent(simple_feature_matrix, output, \n",
        "                                                             initial_weights, step_size, \n",
        "                                                             0.0, max_iterations)\n",
        "simple_weights_0_penalty"
      ],
      "execution_count": null,
      "outputs": [
        {
          "output_type": "execute_result",
          "data": {
            "text/plain": [
              "array([-1.63113501e-01,  2.63024369e+02])"
            ]
          },
          "metadata": {},
          "execution_count": 85
        }
      ]
    },
    {
      "cell_type": "markdown",
      "metadata": {
        "id": "z6kh4euVnEO3"
      },
      "source": [
        "**13.** Next, let's consider high regularization.  Set the `l2_penalty` to `1e11` and run your ridge regression algorithm to learn the weights of your model.  Call your weights:\n",
        "\n",
        "`simple_weights_high_penalty`\n",
        "\n",
        "we'll use them later."
      ]
    },
    {
      "cell_type": "code",
      "metadata": {
        "colab": {
          "base_uri": "https://localhost:8080/"
        },
        "id": "D4iXw71hnEO3",
        "outputId": "7831877a-d3ed-4d53-8e69-5871c2227260"
      },
      "source": [
        "simple_weights_high_penalty = ridge_regression_gradient_descent(simple_feature_matrix, output, \n",
        "                                                            initial_weights, step_size, \n",
        "                                                             1e11, max_iterations)\n",
        "\n",
        "simple_weights_high_penalty"
      ],
      "execution_count": null,
      "outputs": [
        {
          "output_type": "execute_result",
          "data": {
            "text/plain": [
              "array([  9.76730383, 124.57217565])"
            ]
          },
          "metadata": {},
          "execution_count": 86
        }
      ]
    },
    {
      "cell_type": "markdown",
      "metadata": {
        "id": "ykrjeKllnEO3"
      },
      "source": [
        "**14.** This code will plot the two learned models.  (The blue line is for the model with no regularization and the red line is for the one with high regularization.)"
      ]
    },
    {
      "cell_type": "code",
      "metadata": {
        "colab": {
          "base_uri": "https://localhost:8080/",
          "height": 371
        },
        "id": "QWJBM_nhnEO4",
        "outputId": "d5131f9d-d4a2-455a-df1a-f9fdf0bcf787"
      },
      "source": [
        "import matplotlib.pyplot as plt\n",
        "%matplotlib inline\n",
        "plt.plot(simple_feature_matrix,output,'k.',\n",
        "         simple_feature_matrix,predict_output(simple_feature_matrix, simple_weights_0_penalty),'b-',\n",
        "        simple_feature_matrix,predict_output(simple_feature_matrix, simple_weights_high_penalty),'r-')"
      ],
      "execution_count": null,
      "outputs": [
        {
          "output_type": "execute_result",
          "data": {
            "text/plain": [
              "[<matplotlib.lines.Line2D at 0x7fa1cdc54150>,\n",
              " <matplotlib.lines.Line2D at 0x7fa1cdbb9fd0>,\n",
              " <matplotlib.lines.Line2D at 0x7fa1cdbc68d0>,\n",
              " <matplotlib.lines.Line2D at 0x7fa1cdbc6910>,\n",
              " <matplotlib.lines.Line2D at 0x7fa1cdb4f190>,\n",
              " <matplotlib.lines.Line2D at 0x7fa1cdb4f1d0>]"
            ]
          },
          "metadata": {},
          "execution_count": 87
        },
        {
          "output_type": "display_data",
          "data": {
            "image/png": "[encoded data removed]",
            "text/plain": [
              "<Figure size 432x288 with 1 Axes>"
            ]
          },
          "metadata": {
            "needs_background": "light"
          }
        }
      ]
    },
    {
      "cell_type": "markdown",
      "metadata": {
        "id": "OfmK1w27nEO4"
      },
      "source": [
        "Compute the RSS on the TEST data for the following three sets of weights:\n",
        "1. The initial weights (all zeros)\n",
        "2. The weights learned with no regularization\n",
        "3. The weights learned with high regularization\n",
        "\n",
        "Which weights perform best?"
      ]
    },
    {
      "cell_type": "code",
      "metadata": {
        "colab": {
          "base_uri": "https://localhost:8080/"
        },
        "id": "2alkRZS7nEO5",
        "outputId": "cfbb0d6a-a291-46bc-d496-87989a3c68e3"
      },
      "source": [
        "initial_predictions = predict_output(simple_test_feature_matrix, initial_weights)\n",
        "initial_residuals = test_output - initial_predictions\n",
        "initial_RSS = (initial_residuals **2).sum()\n",
        "print initial_RSS"
      ],
      "execution_count": null,
      "outputs": [
        {
          "output_type": "stream",
          "text": [
            "1784273282524564.0\n"
          ],
          "name": "stdout"
        }
      ]
    },
    {
      "cell_type": "code",
      "metadata": {
        "colab": {
          "base_uri": "https://localhost:8080/"
        },
        "id": "nRugkCWPnEO5",
        "outputId": "6db94c07-c571-4e9e-9c24-7df49b2573b8"
      },
      "source": [
        "no_regularization_predictions = predict_output(simple_test_feature_matrix, simple_weights_0_penalty)\n",
        "no_regularization_residuals = test_output - no_regularization_predictions\n",
        "no_regularization_RSS = (no_regularization_residuals **2).sum()\n",
        "print no_regularization_RSS"
      ],
      "execution_count": null,
      "outputs": [
        {
          "output_type": "stream",
          "text": [
            "275723634597546.75\n"
          ],
          "name": "stdout"
        }
      ]
    },
    {
      "cell_type": "code",
      "metadata": {
        "colab": {
          "base_uri": "https://localhost:8080/"
        },
        "id": "Tv2R_k6CnEO5",
        "outputId": "86c79127-ebd2-4fed-d80e-54b0e89cfab4"
      },
      "source": [
        "regularization_predictions = predict_output(simple_test_feature_matrix, simple_weights_high_penalty)\n",
        "regularization_residuals = test_output - regularization_predictions\n",
        "regularization_RSS = (regularization_residuals **2).sum()\n",
        "print regularization_RSS"
      ],
      "execution_count": null,
      "outputs": [
        {
          "output_type": "stream",
          "text": [
            "694642100913950.1\n"
          ],
          "name": "stdout"
        }
      ]
    },
    {
      "cell_type": "markdown",
      "metadata": {
        "id": "yMfcGW5rnEO6"
      },
      "source": [
        "***QUIZ QUESTIONS***\n",
        "\n",
        "**15.**  What is the value of the coefficient for `sqft_living` that you learned with no regularization, rounded to 1 decimal place?  What about the one with high regularization?\n",
        "\n",
        "**16.** Comparing the lines you fit with the with no regularization versus high regularization, which one is steeper?\n",
        "\n",
        "**18.** What are the RSS on the test data for each of the set of weights above (initial, no regularization, high regularization)? \n"
      ]
    },
    {
      "cell_type": "markdown",
      "metadata": {
        "id": "GNeyP5innEO6"
      },
      "source": [
        "# Running a multiple regression with L2 penalty"
      ]
    },
    {
      "cell_type": "markdown",
      "metadata": {
        "id": "iDsBZ36LnEO7"
      },
      "source": [
        "**19.** Let us now consider a model with 2 features: `['sqft_living', 'sqft_living15']`."
      ]
    },
    {
      "cell_type": "markdown",
      "metadata": {
        "id": "wXl6tshYnEO7"
      },
      "source": [
        "First, create Numpy versions of your training and test data with these two features. "
      ]
    },
    {
      "cell_type": "code",
      "metadata": {
        "id": "oqfTlVXvnEO8"
      },
      "source": [
        "model_features = ['sqft_living', 'sqft_living15'] # sqft_living15 is the average squarefeet for the nearest 15 neighbors. \n",
        "my_output = 'price'\n",
        "(feature_matrix, output) = get_numpy_data(train_data, model_features, my_output)\n",
        "(test_feature_matrix, test_output) = get_numpy_data(test_data, model_features, my_output)"
      ],
      "execution_count": null,
      "outputs": []
    },
    {
      "cell_type": "markdown",
      "metadata": {
        "id": "jrKwtn3gnEO8"
      },
      "source": [
        "We need to re-inialize the weights, since we have one extra parameter. Let us also set the step size and maximum number of iterations."
      ]
    },
    {
      "cell_type": "code",
      "metadata": {
        "id": "ozrPzP0DnEO8"
      },
      "source": [
        "initial_weights = np.array([0.0,0.0,0.0])\n",
        "step_size = 1e-12\n",
        "max_iterations = 1000"
      ],
      "execution_count": null,
      "outputs": []
    },
    {
      "cell_type": "markdown",
      "metadata": {
        "id": "Em7R49LonEO9"
      },
      "source": [
        "**20.** First, let's consider no regularization.  Set the `l2_penalty` to `0.0` and run your ridge regression algorithm to learn the weights of your model.  Call your weights:\n",
        "\n",
        "`multiple_weights_0_penalty`"
      ]
    },
    {
      "cell_type": "code",
      "metadata": {
        "colab": {
          "base_uri": "https://localhost:8080/"
        },
        "id": "M-BOAcyDnEO9",
        "outputId": "6be7675b-be64-40a1-b999-23eada712e82"
      },
      "source": [
        "multiple_weights_0_penalty = ridge_regression_gradient_descent(feature_matrix, output, \n",
        "                                                               initial_weights, step_size, \n",
        "                                                               0.0, max_iterations)\n",
        "print multiple_weights_0_penalty"
      ],
      "execution_count": null,
      "outputs": [
        {
          "output_type": "stream",
          "text": [
            "[ -0.35743482 243.0541689   22.41481594]\n"
          ],
          "name": "stdout"
        }
      ]
    },
    {
      "cell_type": "markdown",
      "metadata": {
        "id": "-_ZXVUw1nEO9"
      },
      "source": [
        "**21.** Next, let's consider high regularization.  Set the `l2_penalty` to `1e11` and run your ridge regression algorithm to learn the weights of your model.  Call your weights:\n",
        "\n",
        "`multiple_weights_high_penalty`"
      ]
    },
    {
      "cell_type": "code",
      "metadata": {
        "colab": {
          "base_uri": "https://localhost:8080/"
        },
        "id": "UB9aS6XdnEO9",
        "outputId": "0b92fe17-47f2-414e-bb8f-b707d2a375e6"
      },
      "source": [
        "multiple_weights_high_penalty = ridge_regression_gradient_descent(feature_matrix, output, \n",
        "                                                               initial_weights, step_size, \n",
        "                                                               1e11, max_iterations)\n",
        "print multiple_weights_high_penalty"
      ],
      "execution_count": null,
      "outputs": [
        {
          "output_type": "stream",
          "text": [
            "[ 6.7429658  91.48927361 78.43658768]\n"
          ],
          "name": "stdout"
        }
      ]
    },
    {
      "cell_type": "markdown",
      "metadata": {
        "id": "0iL1uEpgnEO-"
      },
      "source": [
        "Compute the RSS on the TEST data for the following three sets of weights:\n",
        "1. The initial weights (all zeros)\n",
        "2. The weights learned with no regularization\n",
        "3. The weights learned with high regularization\n",
        "\n",
        "Which weights perform best?"
      ]
    },
    {
      "cell_type": "code",
      "metadata": {
        "colab": {
          "base_uri": "https://localhost:8080/"
        },
        "id": "8DXK-lSGnEO-",
        "outputId": "6eaa0da0-bd4a-497f-f1d3-d1acb18811c0"
      },
      "source": [
        "initial_predictions = predict_output(test_feature_matrix, initial_weights)\n",
        "initial_residuals = test_output - initial_predictions\n",
        "initial_RSS = (initial_residuals **2).sum()\n",
        "print initial_RSS"
      ],
      "execution_count": null,
      "outputs": [
        {
          "output_type": "stream",
          "text": [
            "1784273282524564.0\n"
          ],
          "name": "stdout"
        }
      ]
    },
    {
      "cell_type": "code",
      "metadata": {
        "colab": {
          "base_uri": "https://localhost:8080/"
        },
        "id": "M08RE8JgnEO-",
        "outputId": "d2de1244-a550-401e-af92-e19ed17d33b2"
      },
      "source": [
        "no_regularization_predictions = predict_output(test_feature_matrix, multiple_weights_0_penalty)\n",
        "no_regularization_residuals = test_output - no_regularization_predictions\n",
        "no_regularization_RSS = (no_regularization_residuals **2).sum()\n",
        "print no_regularization_RSS"
      ],
      "execution_count": null,
      "outputs": [
        {
          "output_type": "stream",
          "text": [
            "274067618287245.2\n"
          ],
          "name": "stdout"
        }
      ]
    },
    {
      "cell_type": "code",
      "metadata": {
        "colab": {
          "base_uri": "https://localhost:8080/"
        },
        "id": "2rvr_GWonEO_",
        "outputId": "44600aae-9196-418b-896a-6b198cfdb08e"
      },
      "source": [
        "regularization_predictions = predict_output(test_feature_matrix, multiple_weights_high_penalty)\n",
        "regularization_residuals = test_output - regularization_predictions\n",
        "regularization_RSS = (regularization_residuals **2).sum()\n",
        "print regularization_RSS"
      ],
      "execution_count": null,
      "outputs": [
        {
          "output_type": "stream",
          "text": [
            "500404800579555.56\n"
          ],
          "name": "stdout"
        }
      ]
    },
    {
      "cell_type": "markdown",
      "metadata": {
        "id": "1ycCMEuWnEO_"
      },
      "source": [
        "Predict the house price for the 1st house in the test set using the no regularization and high regularization models. (Remember that python starts indexing from 0.) How far is the prediction from the actual price?  Which weights perform best for the 1st house?"
      ]
    },
    {
      "cell_type": "code",
      "metadata": {
        "colab": {
          "base_uri": "https://localhost:8080/"
        },
        "id": "uGX90VUsnEO_",
        "outputId": "7e1cf8b2-1ba9-41dc-a502-1b76f7e3e20e"
      },
      "source": [
        "print no_regularization_predictions[0]\n",
        "print test_output[0] - no_regularization_predictions[0]"
      ],
      "execution_count": null,
      "outputs": [
        {
          "output_type": "stream",
          "text": [
            "387465.47646474396\n",
            "-77465.47646474396\n"
          ],
          "name": "stdout"
        }
      ]
    },
    {
      "cell_type": "code",
      "metadata": {
        "colab": {
          "base_uri": "https://localhost:8080/"
        },
        "id": "JOR1nKiQnEO_",
        "outputId": "26926583-885a-4a6d-e1a6-431aa070c808"
      },
      "source": [
        "print regularization_predictions[0]\n",
        "print test_output[0] - regularization_predictions[0]"
      ],
      "execution_count": null,
      "outputs": [
        {
          "output_type": "stream",
          "text": [
            "270453.5303048586\n",
            "39546.46969514142\n"
          ],
          "name": "stdout"
        }
      ]
    },
    {
      "cell_type": "markdown",
      "metadata": {
        "collapsed": true,
        "id": "IhXNhqsbnEPA"
      },
      "source": [
        "***QUIZ QUESTIONS***\n",
        "\n",
        "**22.** What is the value of the coefficient for `sqft_living` that you learned with no regularization, rounded to 1 decimal place?  What about the one with high regularization?\n",
        "\n",
        "**24.** What are the RSS on the test data for each of the set of weights above (initial, no regularization, high regularization)? \n",
        "\n",
        "**25.**  We make prediction for the first house in the test set using two sets of weights (no regularization vs high regularization). Which weights make better prediction <u>for that particular house</u>?"
      ]
    },
    {
      "cell_type": "code",
      "metadata": {
        "id": "ZBX_oU5tnEPA"
      },
      "source": [
        ""
      ],
      "execution_count": null,
      "outputs": []
    }
  ]
}