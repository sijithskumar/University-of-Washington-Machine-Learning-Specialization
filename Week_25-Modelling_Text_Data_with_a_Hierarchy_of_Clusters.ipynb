{
  "nbformat": 4,
  "nbformat_minor": 0,
  "metadata": {
    "kernelspec": {
      "display_name": "Python 2",
      "language": "python",
      "name": "python2"
    },
    "language_info": {
      "codemirror_mode": {
        "name": "ipython",
        "version": 2
      },
      "file_extension": ".py",
      "mimetype": "text/x-python",
      "name": "python",
      "nbconvert_exporter": "python",
      "pygments_lexer": "ipython2",
      "version": "2.7.15"
    },
    "colab": {
      "name": "Modelling Text Data with a Hierarchy of Clusters_CLU06-NB01.ipynb",
      "provenance": []
    }
  },
  "cells": [
    {
      "cell_type": "markdown",
      "metadata": {
        "id": "elA-bCiDBpB3"
      },
      "source": [
        "# Hierarchical Clustering"
      ]
    },
    {
      "cell_type": "markdown",
      "metadata": {
        "id": "RHIs65iSBpCQ"
      },
      "source": [
        "**Hierarchical clustering** refers to a class of clustering methods that seek to build a **hierarchy** of clusters, in which some clusters contain others. In this assignment, we will explore a top-down approach, recursively bipartitioning the data using k-means."
      ]
    },
    {
      "cell_type": "markdown",
      "metadata": {
        "id": "YX3dxAyrBpCV"
      },
      "source": [
        "**Note to Amazon EC2 users**: To conserve memory, make sure to stop all the other notebooks before running this notebook."
      ]
    },
    {
      "cell_type": "markdown",
      "metadata": {
        "id": "5EaJGOPHBpCX"
      },
      "source": [
        "## Import packages"
      ]
    },
    {
      "cell_type": "code",
      "metadata": {
        "colab": {
          "base_uri": "https://localhost:8080/",
          "height": 1000
        },
        "id": "2Ptk-hSjCskk",
        "outputId": "32534513-9734-457c-ada6-884f845918a7"
      },
      "source": [
        "pip install turicreate"
      ],
      "execution_count": null,
      "outputs": [
        {
          "output_type": "stream",
          "name": "stdout",
          "text": [
            "Collecting turicreate\n",
            "\u001b[?25l  Downloading https://files.pythonhosted.org/packages/75/38/77a081ce35f012bd4789551db9e5196e766a2641cb05114ded9cc268182c/turicreate-6.4.1-cp27-cp27mu-manylinux1_x86_64.whl (91.9MB)\n",
            "\u001b[K     |████████████████████████████████| 91.9MB 32kB/s \n",
            "\u001b[?25hCollecting pillow>=5.2.0\n",
            "\u001b[?25l  Downloading https://files.pythonhosted.org/packages/12/ad/61f8dfba88c4e56196bf6d056cdbba64dc9c5dfdfbc97d02e6472feed913/Pillow-6.2.2-cp27-cp27mu-manylinux1_x86_64.whl (2.1MB)\n",
            "\u001b[K     |████████████████████████████████| 2.1MB 4.3MB/s \n",
            "\u001b[?25hRequirement already satisfied: numpy in /usr/local/lib/python2.7/dist-packages (from turicreate) (1.16.4)\n",
            "Requirement already satisfied: requests>=2.9.1 in /usr/local/lib/python2.7/dist-packages (from turicreate) (2.23.0)\n",
            "Collecting tensorflow<2.1.0,>=2.0.0\n",
            "\u001b[?25l  Downloading https://files.pythonhosted.org/packages/17/08/1ff15637a03b1565dd6cb0916b3ca6873db3a1fc69be0ed851be936e5633/tensorflow-2.0.0-cp27-cp27mu-manylinux2010_x86_64.whl (86.3MB)\n",
            "\u001b[K     |████████████████████████████████| 86.3MB 36kB/s \n",
            "\u001b[?25hRequirement already satisfied: prettytable==0.7.2 in /usr/local/lib/python2.7/dist-packages (from turicreate) (0.7.2)\n",
            "Collecting llvmlite==0.31.0\n",
            "\u001b[?25l  Downloading https://files.pythonhosted.org/packages/91/07/90cd9cdd43b287960b16dbf7929bff2267dc0b6647e8e0117a4937b19620/llvmlite-0.31.0-cp27-cp27mu-manylinux1_x86_64.whl (20.2MB)\n",
            "\u001b[K     |████████████████████████████████| 20.2MB 1.4MB/s \n",
            "\u001b[?25hRequirement already satisfied: pandas>=0.23.2 in /usr/local/lib/python2.7/dist-packages (from turicreate) (0.24.2)\n",
            "Requirement already satisfied: numba<0.51.0 in /usr/local/lib/python2.7/dist-packages (from turicreate) (0.40.1)\n",
            "Requirement already satisfied: decorator>=4.0.9 in /usr/local/lib/python2.7/dist-packages (from turicreate) (4.4.0)\n",
            "Requirement already satisfied: scipy>=1.1.0 in /usr/local/lib/python2.7/dist-packages (from turicreate) (1.2.2)\n",
            "Requirement already satisfied: six>=1.10.0 in /usr/local/lib/python2.7/dist-packages (from turicreate) (1.15.0)\n",
            "Requirement already satisfied: resampy==0.2.1 in /usr/local/lib/python2.7/dist-packages (from turicreate) (0.2.1)\n",
            "Collecting coremltools==3.3\n",
            "\u001b[?25l  Downloading https://files.pythonhosted.org/packages/46/9b/f6feac5d9369c68ee718d3c3140435452773a36ff08ef3bcc4fe378e8676/coremltools-3.3-cp27-none-manylinux1_x86_64.whl (3.4MB)\n",
            "\u001b[K     |████████████████████████████████| 3.4MB 36.7MB/s \n",
            "\u001b[?25hRequirement already satisfied: urllib3!=1.25.0,!=1.25.1,<1.26,>=1.21.1 in /usr/local/lib/python2.7/dist-packages (from requests>=2.9.1->turicreate) (1.24.3)\n",
            "Requirement already satisfied: chardet<4,>=3.0.2 in /usr/local/lib/python2.7/dist-packages (from requests>=2.9.1->turicreate) (3.0.4)\n",
            "Requirement already satisfied: certifi>=2017.4.17 in /usr/local/lib/python2.7/dist-packages (from requests>=2.9.1->turicreate) (2019.6.16)\n",
            "Requirement already satisfied: idna<3,>=2.5 in /usr/local/lib/python2.7/dist-packages (from requests>=2.9.1->turicreate) (2.8)\n",
            "Requirement already satisfied: gast==0.2.2 in /usr/local/lib/python2.7/dist-packages (from tensorflow<2.1.0,>=2.0.0->turicreate) (0.2.2)\n",
            "Requirement already satisfied: grpcio>=1.8.6 in /usr/local/lib/python2.7/dist-packages (from tensorflow<2.1.0,>=2.0.0->turicreate) (1.15.0)\n",
            "Requirement already satisfied: mock>=2.0.0 in /usr/local/lib/python2.7/dist-packages (from tensorflow<2.1.0,>=2.0.0->turicreate) (2.0.0)\n",
            "Collecting tensorboard<2.1.0,>=2.0.0\n",
            "\u001b[?25l  Downloading https://files.pythonhosted.org/packages/a7/3d/993131c622ae34f9401a81526853f2310a4834bd042420a7982fb5bc5fd0/tensorboard-2.0.2-py2-none-any.whl (3.8MB)\n",
            "\u001b[K     |████████████████████████████████| 3.8MB 30.0MB/s \n",
            "\u001b[?25hRequirement already satisfied: wrapt>=1.11.1 in /usr/local/lib/python2.7/dist-packages (from tensorflow<2.1.0,>=2.0.0->turicreate) (1.11.2)\n",
            "Requirement already satisfied: protobuf>=3.6.1 in /usr/local/lib/python2.7/dist-packages (from tensorflow<2.1.0,>=2.0.0->turicreate) (3.8.0)\n",
            "Requirement already satisfied: keras-preprocessing>=1.0.5 in /usr/local/lib/python2.7/dist-packages (from tensorflow<2.1.0,>=2.0.0->turicreate) (1.1.0)\n",
            "Requirement already satisfied: backports.weakref>=1.0rc1; python_version < \"3.4\" in /usr/local/lib/python2.7/dist-packages (from tensorflow<2.1.0,>=2.0.0->turicreate) (1.0.post1)\n",
            "Requirement already satisfied: keras-applications>=1.0.8 in /usr/local/lib/python2.7/dist-packages (from tensorflow<2.1.0,>=2.0.0->turicreate) (1.0.8)\n",
            "Requirement already satisfied: wheel in /usr/local/lib/python2.7/dist-packages (from tensorflow<2.1.0,>=2.0.0->turicreate) (0.37.0)\n",
            "Requirement already satisfied: functools32>=3.2.3 in /usr/local/lib/python2.7/dist-packages (from tensorflow<2.1.0,>=2.0.0->turicreate) (3.2.3.post2)\n",
            "Requirement already satisfied: absl-py>=0.7.0 in /usr/local/lib/python2.7/dist-packages (from tensorflow<2.1.0,>=2.0.0->turicreate) (0.7.1)\n",
            "Requirement already satisfied: opt-einsum>=2.3.2 in /usr/local/lib/python2.7/dist-packages (from tensorflow<2.1.0,>=2.0.0->turicreate) (2.3.2)\n",
            "Requirement already satisfied: termcolor>=1.1.0 in /usr/local/lib/python2.7/dist-packages (from tensorflow<2.1.0,>=2.0.0->turicreate) (1.1.0)\n",
            "Requirement already satisfied: google-pasta>=0.1.6 in /usr/local/lib/python2.7/dist-packages (from tensorflow<2.1.0,>=2.0.0->turicreate) (0.1.7)\n",
            "Requirement already satisfied: enum34>=1.1.6; python_version < \"3.4\" in /usr/local/lib/python2.7/dist-packages (from tensorflow<2.1.0,>=2.0.0->turicreate) (1.1.6)\n",
            "Collecting tensorflow-estimator<2.1.0,>=2.0.0\n",
            "\u001b[?25l  Downloading https://files.pythonhosted.org/packages/fc/08/8b927337b7019c374719145d1dceba21a8bb909b93b1ad6f8fb7d22c1ca1/tensorflow_estimator-2.0.1-py2.py3-none-any.whl (449kB)\n",
            "\u001b[K     |████████████████████████████████| 450kB 56.9MB/s \n",
            "\u001b[?25hRequirement already satisfied: astor>=0.6.0 in /usr/local/lib/python2.7/dist-packages (from tensorflow<2.1.0,>=2.0.0->turicreate) (0.8.1)\n",
            "Requirement already satisfied: pytz>=2011k in /usr/local/lib/python2.7/dist-packages (from pandas>=0.23.2->turicreate) (2018.9)\n",
            "Requirement already satisfied: python-dateutil>=2.5.0 in /usr/local/lib/python2.7/dist-packages (from pandas>=0.23.2->turicreate) (2.5.3)\n",
            "Requirement already satisfied: funcsigs in /usr/local/lib/python2.7/dist-packages (from numba<0.51.0->turicreate) (1.0.2)\n",
            "Requirement already satisfied: singledispatch in /usr/local/lib/python2.7/dist-packages (from numba<0.51.0->turicreate) (3.4.0.3)\n",
            "Requirement already satisfied: futures>=2.2.0 in /usr/local/lib/python2.7/dist-packages (from grpcio>=1.8.6->tensorflow<2.1.0,>=2.0.0->turicreate) (3.2.0)\n",
            "Requirement already satisfied: pbr>=0.11 in /usr/local/lib/python2.7/dist-packages (from mock>=2.0.0->tensorflow<2.1.0,>=2.0.0->turicreate) (5.4.0)\n",
            "Requirement already satisfied: setuptools>=41.0.0 in /usr/local/lib/python2.7/dist-packages (from tensorboard<2.1.0,>=2.0.0->tensorflow<2.1.0,>=2.0.0->turicreate) (44.1.1)\n",
            "Collecting google-auth-oauthlib<0.5,>=0.4.1\n",
            "  Downloading https://files.pythonhosted.org/packages/7b/b8/88def36e74bee9fce511c9519571f4e485e890093ab7442284f4ffaef60b/google_auth_oauthlib-0.4.1-py2.py3-none-any.whl\n",
            "Requirement already satisfied: werkzeug>=0.11.15 in /usr/local/lib/python2.7/dist-packages (from tensorboard<2.1.0,>=2.0.0->tensorflow<2.1.0,>=2.0.0->turicreate) (0.15.5)\n",
            "Requirement already satisfied: google-auth<2,>=1.6.3 in /usr/local/lib/python2.7/dist-packages (from tensorboard<2.1.0,>=2.0.0->tensorflow<2.1.0,>=2.0.0->turicreate) (1.35.0)\n",
            "Requirement already satisfied: markdown>=2.6.8 in /usr/local/lib/python2.7/dist-packages (from tensorboard<2.1.0,>=2.0.0->tensorflow<2.1.0,>=2.0.0->turicreate) (3.1.1)\n",
            "Requirement already satisfied: h5py in /usr/local/lib/python2.7/dist-packages (from keras-applications>=1.0.8->tensorflow<2.1.0,>=2.0.0->turicreate) (2.8.0)\n",
            "Requirement already satisfied: requests-oauthlib>=0.7.0 in /usr/local/lib/python2.7/dist-packages (from google-auth-oauthlib<0.5,>=0.4.1->tensorboard<2.1.0,>=2.0.0->tensorflow<2.1.0,>=2.0.0->turicreate) (1.2.0)\n",
            "Requirement already satisfied: cachetools<5.0,>=2.0.0 in /usr/local/lib/python2.7/dist-packages (from google-auth<2,>=1.6.3->tensorboard<2.1.0,>=2.0.0->tensorflow<2.1.0,>=2.0.0->turicreate) (3.1.1)\n",
            "Requirement already satisfied: pyasn1-modules>=0.2.1 in /usr/local/lib/python2.7/dist-packages (from google-auth<2,>=1.6.3->tensorboard<2.1.0,>=2.0.0->tensorflow<2.1.0,>=2.0.0->turicreate) (0.2.5)\n",
            "Requirement already satisfied: rsa<4.6; python_version < \"3.6\" in /usr/local/lib/python2.7/dist-packages (from google-auth<2,>=1.6.3->tensorboard<2.1.0,>=2.0.0->tensorflow<2.1.0,>=2.0.0->turicreate) (4.0)\n",
            "Requirement already satisfied: oauthlib>=3.0.0 in /usr/local/lib/python2.7/dist-packages (from requests-oauthlib>=0.7.0->google-auth-oauthlib<0.5,>=0.4.1->tensorboard<2.1.0,>=2.0.0->tensorflow<2.1.0,>=2.0.0->turicreate) (3.0.2)\n",
            "Requirement already satisfied: pyasn1<0.5.0,>=0.4.1 in /usr/local/lib/python2.7/dist-packages (from pyasn1-modules>=0.2.1->google-auth<2,>=1.6.3->tensorboard<2.1.0,>=2.0.0->tensorflow<2.1.0,>=2.0.0->turicreate) (0.4.5)\n",
            "\u001b[31mERROR: fastai 0.7.0 has requirement torch<0.4, but you'll have torch 1.4.0 which is incompatible.\u001b[0m\n",
            "\u001b[31mERROR: tensorboard 2.0.2 has requirement grpcio>=1.24.3, but you'll have grpcio 1.15.0 which is incompatible.\u001b[0m\n",
            "Installing collected packages: pillow, google-auth-oauthlib, tensorboard, tensorflow-estimator, tensorflow, llvmlite, coremltools, turicreate\n",
            "  Found existing installation: Pillow 4.3.0\n",
            "    Uninstalling Pillow-4.3.0:\n",
            "      Successfully uninstalled Pillow-4.3.0\n",
            "  Found existing installation: google-auth-oauthlib 0.4.0\n",
            "    Uninstalling google-auth-oauthlib-0.4.0:\n",
            "      Successfully uninstalled google-auth-oauthlib-0.4.0\n",
            "  Found existing installation: tensorboard 2.1.0\n",
            "    Uninstalling tensorboard-2.1.0:\n",
            "      Successfully uninstalled tensorboard-2.1.0\n",
            "  Found existing installation: tensorflow-estimator 1.15.0\n",
            "    Uninstalling tensorflow-estimator-1.15.0:\n",
            "      Successfully uninstalled tensorflow-estimator-1.15.0\n",
            "  Found existing installation: tensorflow 2.1.0\n",
            "    Uninstalling tensorflow-2.1.0:\n",
            "      Successfully uninstalled tensorflow-2.1.0\n",
            "  Found existing installation: llvmlite 0.29.0\n",
            "    Uninstalling llvmlite-0.29.0:\n",
            "      Successfully uninstalled llvmlite-0.29.0\n",
            "Successfully installed coremltools-3.3 google-auth-oauthlib-0.4.1 llvmlite-0.31.0 pillow-6.2.2 tensorboard-2.0.2 tensorflow-2.0.0 tensorflow-estimator-2.0.1 turicreate-6.4.1\n"
          ]
        },
        {
          "output_type": "display_data",
          "data": {
            "application/vnd.colab-display-data+json": {
              "pip_warning": {
                "packages": [
                  "PIL"
                ]
              }
            }
          },
          "metadata": {}
        }
      ]
    },
    {
      "cell_type": "code",
      "metadata": {
        "id": "bJ8QARLGBpCa"
      },
      "source": [
        "from __future__ import print_function # to conform python 2.x print to python 3.x\n",
        "import turicreate\n",
        "import matplotlib.pyplot as plt\n",
        "import numpy as np\n",
        "import sys\n",
        "import os\n",
        "import time\n",
        "from scipy.sparse import csr_matrix\n",
        "from sklearn.cluster import KMeans\n",
        "from sklearn.metrics import pairwise_distances\n",
        "%matplotlib inline"
      ],
      "execution_count": null,
      "outputs": []
    },
    {
      "cell_type": "markdown",
      "metadata": {
        "id": "5093haOsBpCh"
      },
      "source": [
        "## Load the Wikipedia dataset"
      ]
    },
    {
      "cell_type": "code",
      "metadata": {
        "colab": {
          "base_uri": "https://localhost:8080/"
        },
        "id": "Au3eO-phDLsb",
        "outputId": "b577bb04-fb69-4d25-9651-4848a41de76c"
      },
      "source": [
        "from google.colab import drive\n",
        "drive.mount ('/content/gdrive')"
      ],
      "execution_count": null,
      "outputs": [
        {
          "output_type": "stream",
          "name": "stdout",
          "text": [
            "Mounted at /content/gdrive\n"
          ]
        }
      ]
    },
    {
      "cell_type": "code",
      "metadata": {
        "id": "MaTzE8NmBpCk"
      },
      "source": [
        "#wiki = turicreate.SFrame('people_wiki.sframe/')\n",
        "wiki = turicreate.SFrame('/content/gdrive/My Drive/Turicreate/Week 25/people_wiki.sframe/')"
      ],
      "execution_count": null,
      "outputs": []
    },
    {
      "cell_type": "markdown",
      "metadata": {
        "id": "AYfEL6mHBpCn"
      },
      "source": [
        "As we did in previous assignments, let's extract the TF-IDF features:"
      ]
    },
    {
      "cell_type": "code",
      "metadata": {
        "id": "WGvFBaq2BpCq"
      },
      "source": [
        "wiki['tf_idf'] = turicreate.text_analytics.tf_idf(wiki['text'])"
      ],
      "execution_count": null,
      "outputs": []
    },
    {
      "cell_type": "markdown",
      "metadata": {
        "id": "gxJaPvDYBpCw"
      },
      "source": [
        "To run k-means on this dataset, we should convert the data matrix into a sparse matrix."
      ]
    },
    {
      "cell_type": "code",
      "metadata": {
        "id": "A3lQPGNEEENR"
      },
      "source": [
        "# import pista importpista"
      ],
      "execution_count": null,
      "outputs": []
    },
    {
      "cell_type": "code",
      "metadata": {
        "id": "yJnmlCPLD7tg"
      },
      "source": [
        "import sys\n",
        "sys.path.append('/content/gdrive/My Drive/Turicreate/Week 23')"
      ],
      "execution_count": null,
      "outputs": []
    },
    {
      "cell_type": "code",
      "metadata": {
        "id": "O9oQ5fXlBpCy"
      },
      "source": [
        "from em_utilities import sframe_to_scipy # converter\n",
        "\n",
        "# This will take about a minute or two.\n",
        "wiki = wiki.add_row_number()\n",
        "tf_idf, map_word_to_index = sframe_to_scipy(wiki, 'tf_idf')"
      ],
      "execution_count": null,
      "outputs": []
    },
    {
      "cell_type": "markdown",
      "metadata": {
        "id": "K9lZ5oO2BpC0"
      },
      "source": [
        "To be consistent with the k-means assignment, let's normalize all vectors to have unit norm."
      ]
    },
    {
      "cell_type": "code",
      "metadata": {
        "id": "NeERDVYiBpC2"
      },
      "source": [
        "from sklearn.preprocessing import normalize\n",
        "tf_idf = normalize(tf_idf)"
      ],
      "execution_count": null,
      "outputs": []
    },
    {
      "cell_type": "markdown",
      "metadata": {
        "id": "6zFGD9IxBpC4"
      },
      "source": [
        "## Bipartition the Wikipedia dataset using k-means"
      ]
    },
    {
      "cell_type": "markdown",
      "metadata": {
        "id": "6UsT20pRBpC6"
      },
      "source": [
        "Recall our workflow for clustering text data with k-means:\n",
        "\n",
        "1. Load the dataframe containing a dataset, such as the Wikipedia text dataset.\n",
        "2. Extract the data matrix from the dataframe.\n",
        "3. Run k-means on the data matrix with some value of k.\n",
        "4. Visualize the clustering results using the centroids, cluster assignments, and the original dataframe. We keep the original dataframe around because the data matrix does not keep auxiliary information (in the case of the text dataset, the title of each article).\n",
        "\n",
        "Let us modify the workflow to perform bipartitioning:\n",
        "\n",
        "1. Load the dataframe containing a dataset, such as the Wikipedia text dataset.\n",
        "2. Extract the data matrix from the dataframe.\n",
        "3. Run k-means on the data matrix with k=2.\n",
        "4. Divide the data matrix into two parts using the cluster assignments.\n",
        "5. Divide the dataframe into two parts, again using the cluster assignments. This step is necessary to allow for visualization.\n",
        "6. Visualize the bipartition of data.\n",
        "\n",
        "We'd like to be able to repeat Steps 3-6 multiple times to produce a **hierarchy** of clusters such as the following:\n",
        "```\n",
        "                      (root)\n",
        "                         |\n",
        "            +------------+-------------+\n",
        "            |                          |\n",
        "         Cluster                    Cluster\n",
        "     +------+-----+             +------+-----+\n",
        "     |            |             |            |\n",
        "   Cluster     Cluster       Cluster      Cluster\n",
        "```\n",
        "Each **parent cluster** is bipartitioned to produce two **child clusters**. At the very top is the **root cluster**, which consists of the entire dataset.\n",
        "\n",
        "Now we write a wrapper function to bipartition a given cluster using k-means. There are three variables that together comprise the cluster:\n",
        "\n",
        "* `dataframe`: a subset of the original dataframe that correspond to member rows of the cluster\n",
        "* `matrix`: same set of rows, stored in sparse matrix format\n",
        "* `centroid`: the centroid of the cluster (not applicable for the root cluster)\n",
        "\n",
        "Rather than passing around the three variables separately, we package them into a Python dictionary. The wrapper function takes a single dictionary (representing a parent cluster) and returns two dictionaries (representing the child clusters)."
      ]
    },
    {
      "cell_type": "code",
      "metadata": {
        "id": "voPUz5zGBpC_"
      },
      "source": [
        "def bipartition(cluster, maxiter=400, num_runs=4, seed=None):\n",
        "    '''cluster: should be a dictionary containing the following keys\n",
        "                * dataframe: original dataframe\n",
        "                * matrix:    same data, in matrix format\n",
        "                * centroid:  centroid for this particular cluster'''\n",
        "    \n",
        "    data_matrix = cluster['matrix']\n",
        "    dataframe   = cluster['dataframe']\n",
        "    \n",
        "    # Run k-means on the data matrix with k=2. We use scikit-learn here to simplify workflow.\n",
        "    kmeans_model = KMeans(n_clusters=2, max_iter=maxiter, n_init=num_runs, random_state=seed, n_jobs=1)\n",
        "    kmeans_model.fit(data_matrix)\n",
        "    centroids, cluster_assignment = kmeans_model.cluster_centers_, kmeans_model.labels_\n",
        "    \n",
        "    # Divide the data matrix into two parts using the cluster assignments.\n",
        "    data_matrix_left_child, data_matrix_right_child = data_matrix[cluster_assignment==0], \\\n",
        "                                                      data_matrix[cluster_assignment==1]\n",
        "    \n",
        "    # Divide the dataframe into two parts, again using the cluster assignments.\n",
        "    cluster_assignment_sa = turicreate.SArray(cluster_assignment) # minor format conversion\n",
        "    dataframe_left_child, dataframe_right_child     = dataframe[cluster_assignment_sa==0], \\\n",
        "                                                      dataframe[cluster_assignment_sa==1]\n",
        "        \n",
        "    \n",
        "    # Package relevant variables for the child clusters\n",
        "    cluster_left_child  = {'matrix': data_matrix_left_child,\n",
        "                           'dataframe': dataframe_left_child,\n",
        "                           'centroid': centroids[0]}\n",
        "    cluster_right_child = {'matrix': data_matrix_right_child,\n",
        "                           'dataframe': dataframe_right_child,\n",
        "                           'centroid': centroids[1]}\n",
        "    \n",
        "    return (cluster_left_child, cluster_right_child)"
      ],
      "execution_count": null,
      "outputs": []
    },
    {
      "cell_type": "markdown",
      "metadata": {
        "id": "4aKWNkLIBpDE"
      },
      "source": [
        "The following cell performs bipartitioning of the Wikipedia dataset. Allow 2+ minutes to finish.\n",
        "\n",
        "Note. For the purpose of the assignment, we set an explicit seed (`seed=1`) to produce identical outputs for every run. In pratical applications, you might want to use different random seeds for all runs."
      ]
    },
    {
      "cell_type": "code",
      "metadata": {
        "colab": {
          "base_uri": "https://localhost:8080/"
        },
        "id": "OI3-njrIBpDF",
        "outputId": "9772c43c-6f18-494b-bb20-9986c9628190"
      },
      "source": [
        "%%time\n",
        "wiki_data = {'matrix': tf_idf, 'dataframe': wiki} # no 'centroid' for the root cluster\n",
        "left_child, right_child = bipartition(wiki_data, maxiter=100, num_runs=1, seed=0)"
      ],
      "execution_count": null,
      "outputs": [
        {
          "output_type": "stream",
          "name": "stdout",
          "text": [
            "CPU times: user 3min 23s, sys: 2.26 s, total: 3min 25s\n",
            "Wall time: 3min 23s\n"
          ]
        }
      ]
    },
    {
      "cell_type": "markdown",
      "metadata": {
        "id": "H9S_tLG-BpDH"
      },
      "source": [
        "Let's examine the contents of one of the two clusters, which we call the `left_child`, referring to the tree visualization above."
      ]
    },
    {
      "cell_type": "code",
      "metadata": {
        "colab": {
          "base_uri": "https://localhost:8080/"
        },
        "id": "FCp9yG1ZBpDJ",
        "outputId": "64b77b7e-f512-40a9-d180-453490018b66"
      },
      "source": [
        "left_child"
      ],
      "execution_count": null,
      "outputs": [
        {
          "output_type": "execute_result",
          "data": {
            "text/plain": [
              "{'centroid': array([4.15457842e-05, 9.83150338e-06, 6.27215886e-05, ...,\n",
              "        0.00000000e+00, 6.81369371e-06, 3.63626164e-06]), 'dataframe': Columns:\n",
              " \tid\tint\n",
              " \tURI\tstr\n",
              " \tname\tstr\n",
              " \ttext\tstr\n",
              " \ttf_idf\tdict\n",
              " \n",
              " Rows: Unknown\n",
              " \n",
              " Data:\n",
              " +----+-------------------------------+-------------------------------+\n",
              " | id |              URI              |              name             |\n",
              " +----+-------------------------------+-------------------------------+\n",
              " | 1  | <http://dbpedia.org/resour... |         Alfred J. Lewy        |\n",
              " | 3  | <http://dbpedia.org/resour... |      Franz Rottensteiner      |\n",
              " | 5  | <http://dbpedia.org/resour... |         Sam Henderson         |\n",
              " | 7  | <http://dbpedia.org/resour... |        Trevor Ferguson        |\n",
              " | 9  | <http://dbpedia.org/resour... |          Cathy Caruth         |\n",
              " | 10 | <http://dbpedia.org/resour... |          Sophie Crumb         |\n",
              " | 11 | <http://dbpedia.org/resour... |         Jenn Ashworth         |\n",
              " | 12 | <http://dbpedia.org/resour... |        Jonathan Hoefler       |\n",
              " | 13 | <http://dbpedia.org/resour... | Anthony Gueterbock, 18th B... |\n",
              " | 14 | <http://dbpedia.org/resour... |       David Chernushenko      |\n",
              " +----+-------------------------------+-------------------------------+\n",
              " +-------------------------------+-------------------------------+\n",
              " |              text             |             tf_idf            |\n",
              " +-------------------------------+-------------------------------+\n",
              " | alfred j lewy aka sandy le... | {'precise': 6.443200606955... |\n",
              " | franz rottensteiner born i... | {'all': 1.6431112434912472... |\n",
              " | sam henderson born october... | {'now': 1.96695239252401, ... |\n",
              " | trevor ferguson aka john f... | {'taxi': 6.052021456094502... |\n",
              " | cathy caruth born 1955 is ... | {'phenomenon': 5.750053426... |\n",
              " | sophia violet sophie crumb... | {'zwigoff': 20.58669641733... |\n",
              " | jenn ashworth is an englis... | {'gospels': 7.990763115671... |\n",
              " | jonathan hoefler born augu... | {'wordmark': 10.9864953892... |\n",
              " | anthony fitzhardinge guete... | {'sector': 4.3637590652753... |\n",
              " | david chernushenko born ju... | {'advisory': 3.44640506907... |\n",
              " +-------------------------------+-------------------------------+\n",
              " [? rows x 5 columns]\n",
              " Note: Only the head of the SFrame is printed. This SFrame is lazily evaluated.\n",
              " You can use sf.materialize() to force materialization., 'matrix': <30219x547979 sparse matrix of type '<type 'numpy.float64'>'\n",
              " \twith 5282514 stored elements in Compressed Sparse Row format>}"
            ]
          },
          "metadata": {},
          "execution_count": 10
        }
      ]
    },
    {
      "cell_type": "markdown",
      "metadata": {
        "id": "25rz2PlNBpDN"
      },
      "source": [
        "And here is the content of the other cluster we named `right_child`."
      ]
    },
    {
      "cell_type": "code",
      "metadata": {
        "colab": {
          "base_uri": "https://localhost:8080/"
        },
        "id": "zsdRR5ZaBpDR",
        "outputId": "0bdcf1bc-4f9a-4ed3-a6b0-ba612dc5b29a"
      },
      "source": [
        "right_child"
      ],
      "execution_count": null,
      "outputs": [
        {
          "output_type": "execute_result",
          "data": {
            "text/plain": [
              "{'centroid': array([2.55855043e-04, 1.64982802e-04, 1.03192980e-04, ...,\n",
              "        3.34661331e-06, 3.16086940e-06, 0.00000000e+00]), 'dataframe': Columns:\n",
              " \tid\tint\n",
              " \tURI\tstr\n",
              " \tname\tstr\n",
              " \ttext\tstr\n",
              " \ttf_idf\tdict\n",
              " \n",
              " Rows: Unknown\n",
              " \n",
              " Data:\n",
              " +----+-------------------------------+-------------------------------+\n",
              " | id |              URI              |              name             |\n",
              " +----+-------------------------------+-------------------------------+\n",
              " | 0  | <http://dbpedia.org/resour... |         Digby Morrell         |\n",
              " | 2  | <http://dbpedia.org/resour... |         Harpdog Brown         |\n",
              " | 4  | <http://dbpedia.org/resour... |             G-Enka            |\n",
              " | 6  | <http://dbpedia.org/resour... |         Aaron LaCrate         |\n",
              " | 8  | <http://dbpedia.org/resour... |          Grant Nelson         |\n",
              " | 15 | <http://dbpedia.org/resour... |         Joerg Steineck        |\n",
              " | 17 | <http://dbpedia.org/resour... | Paddy Dunne (Gaelic footba... |\n",
              " | 18 | <http://dbpedia.org/resour... |       Alexandros Mouzas       |\n",
              " | 20 | <http://dbpedia.org/resour... |         Chris Batstone        |\n",
              " | 21 | <http://dbpedia.org/resour... |         Ceiron Thomas         |\n",
              " +----+-------------------------------+-------------------------------+\n",
              " +-------------------------------+-------------------------------+\n",
              " |              text             |             tf_idf            |\n",
              " +-------------------------------+-------------------------------+\n",
              " | digby morrell born 10 octo... | {'since': 1.45537671730804... |\n",
              " | harpdog brown is a singer ... | {'just': 2.700729968710864... |\n",
              " | henry krvits born 30 decem... | {'legendary': 4.2808562943... |\n",
              " | aaron lacrate is an americ... | {'exclusive': 10.455187230... |\n",
              " | grant nelson born 27 april... | {'houston': 3.935505942157... |\n",
              " | joerg steineck is a german... | {'stoner': 8.2139066669854... |\n",
              " | paddy dunne was a gaelic f... | {'all': 3.2862224869824943... |\n",
              " | alexandros mouzas born 196... | {'dance': 7.12227500439608... |\n",
              " | chris batstone was the 200... | {'all': 1.6431112434912472... |\n",
              " | ceiron thomas born 23 octo... | {'thomas': 19.921640781374... |\n",
              " +-------------------------------+-------------------------------+\n",
              " [? rows x 5 columns]\n",
              " Note: Only the head of the SFrame is printed. This SFrame is lazily evaluated.\n",
              " You can use sf.materialize() to force materialization., 'matrix': <28852x547979 sparse matrix of type '<type 'numpy.float64'>'\n",
              " \twith 5096769 stored elements in Compressed Sparse Row format>}"
            ]
          },
          "metadata": {},
          "execution_count": 11
        }
      ]
    },
    {
      "cell_type": "markdown",
      "metadata": {
        "id": "KRYB8PUNBpDT"
      },
      "source": [
        "## Visualize the bipartition"
      ]
    },
    {
      "cell_type": "markdown",
      "metadata": {
        "id": "HGZdlaw1BpDV"
      },
      "source": [
        "We provide you with a modified version of the visualization function from the k-means assignment. For each cluster, we print the top 5 words with highest TF-IDF weights in the centroid and display excerpts for the 8 nearest neighbors of the centroid."
      ]
    },
    {
      "cell_type": "code",
      "metadata": {
        "scrolled": true,
        "id": "7wGD28xKBpDW"
      },
      "source": [
        "def display_single_tf_idf_cluster(cluster, map_index_to_word):\n",
        "    '''map_index_to_word: SFrame specifying the mapping betweeen words and column indices'''\n",
        "    \n",
        "    wiki_subset   = cluster['dataframe']\n",
        "    tf_idf_subset = cluster['matrix']\n",
        "    centroid      = cluster['centroid']\n",
        "    \n",
        "    # Print top 5 words with largest TF-IDF weights in the cluster\n",
        "    idx = centroid.argsort()[::-1]\n",
        "    for i in range(5):\n",
        "        print('{0}:{1:.3f}'.format(map_index_to_word['category'], centroid[idx[i]])),\n",
        "    print('')\n",
        "    \n",
        "    # Compute distances from the centroid to all data points in the cluster.\n",
        "    distances = pairwise_distances(tf_idf_subset, [centroid], metric='euclidean').flatten()\n",
        "    # compute nearest neighbors of the centroid within the cluster.\n",
        "    nearest_neighbors = distances.argsort()\n",
        "    # For 8 nearest neighbors, print the title as well as first 180 characters of text.\n",
        "    # Wrap the text at 80-character mark.\n",
        "    for i in range(8):\n",
        "        text = ' '.join(wiki_subset[nearest_neighbors[i]]['text'].split(None, 25)[0:25])\n",
        "        print('* {0:50s} {1:.5f}\\n  {2:s}\\n  {3:s}'.format(wiki_subset[nearest_neighbors[i]]['name'],\n",
        "              distances[nearest_neighbors[i]], text[:90], text[90:180] if len(text) > 90 else ''))\n",
        "    print('')"
      ],
      "execution_count": null,
      "outputs": []
    },
    {
      "cell_type": "markdown",
      "metadata": {
        "id": "2uY3zW1tBpDX"
      },
      "source": [
        "Let's visualize the two child clusters:"
      ]
    },
    {
      "cell_type": "code",
      "metadata": {
        "colab": {
          "base_uri": "https://localhost:8080/"
        },
        "id": "3t47rSXsBpDY",
        "outputId": "cbb0df24-2d99-4ea2-939a-168de8b1f843"
      },
      "source": [
        "display_single_tf_idf_cluster(left_child, map_word_to_index)"
      ],
      "execution_count": null,
      "outputs": [
        {
          "output_type": "stream",
          "name": "stdout",
          "text": [
            "113949:0.021\n",
            "113949:0.015\n",
            "113949:0.013\n",
            "113949:0.012\n",
            "113949:0.010\n",
            "\n",
            "* Kayee Griffin                                      0.97358\n",
            "  kayee frances griffin born 6 february 1950 is an australian politician and former australi\n",
            "  an labor party member of the new south wales legislative council serving\n",
            "* %C3%81ine Hyland                                   0.97370\n",
            "  ine hyland ne donlon is emeritus professor of education and former vicepresident of univer\n",
            "  sity college cork ireland she was born in 1942 in athboy co\n",
            "* Christine Robertson                                0.97373\n",
            "  christine mary robertson born 5 october 1948 is an australian politician and former austra\n",
            "  lian labor party member of the new south wales legislative council serving\n",
            "* Anita Kunz                                         0.97471\n",
            "  anita e kunz oc born 1956 is a canadianborn artist and illustratorkunz has lived in london\n",
            "   new york and toronto contributing to magazines and working\n",
            "* Barry Sullivan (lawyer)                            0.97488\n",
            "  barry sullivan is a chicago lawyer and as of july 1 2009 the cooney conway chair in advoca\n",
            "  cy at loyola university chicago school of law\n",
            "* Margaret Catley-Carlson                            0.97534\n",
            "  margaret catleycarlson oc born 6 october 1942 is a canadian civil servant she was chair an\n",
            "  d is now a patron of the global water partnership\n",
            "* Vanessa Gilmore                                    0.97579\n",
            "  vanessa diane gilmore born october 1956 is a judge on the united states district court for\n",
            "   the southern district of texas she was appointed to\n",
            "* James A. Joseph                                    0.97624\n",
            "  james a joseph born 1935 is an american former diplomatjoseph is professor of the practice\n",
            "   of public policy studies at duke university and founder of\n",
            "\n"
          ]
        }
      ]
    },
    {
      "cell_type": "code",
      "metadata": {
        "colab": {
          "base_uri": "https://localhost:8080/"
        },
        "id": "ct8yQam3BpDZ",
        "outputId": "50f631ef-2186-438c-b95f-2ab926bb7d17"
      },
      "source": [
        "display_single_tf_idf_cluster(right_child, map_word_to_index)"
      ],
      "execution_count": null,
      "outputs": [
        {
          "output_type": "stream",
          "name": "stdout",
          "text": [
            "113949:0.023\n",
            "113949:0.017\n",
            "113949:0.017\n",
            "113949:0.016\n",
            "113949:0.016\n",
            "\n",
            "* Patricia Scott                                     0.97143\n",
            "  patricia scott pat born july 14 1929 is a former pitcher who played in the allamerican gir\n",
            "  ls professional baseball league for parts of four seasons\n",
            "* Madonna (entertainer)                              0.97181\n",
            "  madonna louise ciccone tkoni born august 16 1958 is an american singer songwriter actress \n",
            "  and businesswoman she achieved popularity by pushing the boundaries of lyrical\n",
            "* Janet Jackson                                      0.97257\n",
            "  janet damita jo jackson born may 16 1966 is an american singer songwriter and actress know\n",
            "  n for a series of sonically innovative socially conscious and\n",
            "* Natashia Williams                                  0.97343\n",
            "  natashia williamsblach born august 2 1978 is an american actress and former wonderbra camp\n",
            "  aign model who is perhaps best known for her role as shane\n",
            "* Todd Williams                                      0.97384\n",
            "  todd michael williams born february 13 1971 in syracuse new york is a former major league \n",
            "  baseball relief pitcher he attended east syracuseminoa high school\n",
            "* Marilyn Jenkins                                    0.97430\n",
            "  marilyn a jenkins jenks born september 18 1934 is a former catcher who played in the allam\n",
            "  erican girls professional baseball league listed at 5 ft\n",
            "* Kayla Bashore Smedley                              0.97496\n",
            "  kayla bashore born february 20 1983 in daegu south korea is an american field hockey defen\n",
            "  der and midfielder now living in san diego california she\n",
            "* Cher                                               0.97510\n",
            "  cher r born cherilyn sarkisian may 20 1946 is an american singer actress and television ho\n",
            "  st described as embodying female autonomy in a maledominated industry\n",
            "\n"
          ]
        }
      ]
    },
    {
      "cell_type": "markdown",
      "metadata": {
        "id": "nO8BbLkKBpDa"
      },
      "source": [
        "The right cluster consists of athletes and artists (singers and actors/actresses), whereas the left cluster consists of non-athletes and non-artists. So far, we have a single-level hierarchy consisting of two clusters, as follows:"
      ]
    },
    {
      "cell_type": "markdown",
      "metadata": {
        "id": "2k0bvWvQBpDb"
      },
      "source": [
        "```\n",
        "                                           Wikipedia\n",
        "                                               +\n",
        "                                               |\n",
        "                    +--------------------------+--------------------+\n",
        "                    |                                               |\n",
        "                    +                                               +\n",
        "         Non-athletes/artists                                Athletes/artists\n",
        "```"
      ]
    },
    {
      "cell_type": "markdown",
      "metadata": {
        "id": "0IDbiq2GBpDc"
      },
      "source": [
        "Is this hierarchy good enough? **When building a hierarchy of clusters, we must keep our particular application in mind.** For instance, we might want to build a **directory** for Wikipedia articles. A good directory would let you quickly narrow down your search to a small set of related articles. The categories of athletes and non-athletes are too general to facilitate efficient search. For this reason, we decide to build another level into our hierarchy of clusters with the goal of getting more specific cluster structure at the lower level. To that end, we subdivide both the `athletes/artists` and `non-athletes/artists` clusters."
      ]
    },
    {
      "cell_type": "markdown",
      "metadata": {
        "id": "pFaPGRoyBpDc"
      },
      "source": [
        "## Perform recursive bipartitioning"
      ]
    },
    {
      "cell_type": "markdown",
      "metadata": {
        "id": "ly5Atqg6BpDd"
      },
      "source": [
        "### Cluster of athletes and artists"
      ]
    },
    {
      "cell_type": "markdown",
      "metadata": {
        "id": "4tb9BKvzBpDe"
      },
      "source": [
        "To help identify the clusters we've built so far, let's give them easy-to-read aliases:"
      ]
    },
    {
      "cell_type": "code",
      "metadata": {
        "id": "oF3Z68JWBpDg"
      },
      "source": [
        "non_athletes_artists   = left_child\n",
        "athletes_artists       = right_child"
      ],
      "execution_count": null,
      "outputs": []
    },
    {
      "cell_type": "markdown",
      "metadata": {
        "id": "WrhgMJ4rBpDh"
      },
      "source": [
        "Using the bipartition function, we produce two child clusters of the athlete cluster:"
      ]
    },
    {
      "cell_type": "code",
      "metadata": {
        "id": "OcFg__8IBpDi"
      },
      "source": [
        "# Bipartition the cluster of athletes and artists\n",
        "left_child_athletes_artists, right_child_athletes_artists = bipartition(athletes_artists, maxiter=100, num_runs=6, seed=1)"
      ],
      "execution_count": null,
      "outputs": []
    },
    {
      "cell_type": "markdown",
      "metadata": {
        "id": "zR5LdbY5BpDj"
      },
      "source": [
        "The left child cluster mainly consists of athletes:"
      ]
    },
    {
      "cell_type": "code",
      "metadata": {
        "colab": {
          "base_uri": "https://localhost:8080/"
        },
        "id": "2dRjMoQKBpDk",
        "outputId": "64e18b30-48be-44ae-8825-f52747c5d20c"
      },
      "source": [
        "display_single_tf_idf_cluster(left_child_athletes_artists, map_word_to_index)"
      ],
      "execution_count": null,
      "outputs": [
        {
          "output_type": "stream",
          "name": "stdout",
          "text": [
            "113949:0.036\n",
            "113949:0.032\n",
            "113949:0.027\n",
            "113949:0.026\n",
            "113949:0.025\n",
            "\n",
            "* Todd Williams                                      0.95702\n",
            "  todd michael williams born february 13 1971 in syracuse new york is a former major league \n",
            "  baseball relief pitcher he attended east syracuseminoa high school\n",
            "* Gord Sherven                                       0.95840\n",
            "  gordon r sherven born august 21 1963 in gravelbourg saskatchewan and raised in mankota sas\n",
            "  katchewan is a retired canadian professional ice hockey forward who played\n",
            "* Justin Knoedler                                    0.95907\n",
            "  justin joseph knoedler born july 17 1980 in springfield illinois is a former major league \n",
            "  baseball catcherknoedler was originally drafted by the st louis cardinals\n",
            "* Chris Day                                          0.95918\n",
            "  christopher nicholas chris day born 28 july 1975 is an english professional footballer who\n",
            "   plays as a goalkeeper for stevenageday started his career at tottenham\n",
            "* Tony Smith (footballer, born 1957)                 0.95948\n",
            "  anthony tony smith born 20 february 1957 is a former footballer who played as a central de\n",
            "  fender in the football league in the 1970s and\n",
            "* Ashley Prescott                                    0.96017\n",
            "  ashley prescott born 11 september 1972 is a former australian rules footballer he played w\n",
            "  ith the richmond and fremantle football clubs in the afl between\n",
            "* Leslie Lea                                         0.96052\n",
            "  leslie lea born 5 october 1942 in manchester is an english former professional footballer \n",
            "  he played as a midfielderlea began his professional career with blackpool\n",
            "* Tommy Anderson (footballer)                        0.96060\n",
            "  thomas cowan tommy anderson born 24 september 1934 in haddington is a scottish former prof\n",
            "  essional footballer he played as a forward and was noted for\n",
            "\n"
          ]
        }
      ]
    },
    {
      "cell_type": "markdown",
      "metadata": {
        "id": "6k6IovqJBpDl"
      },
      "source": [
        "On the other hand, the right child cluster consists mainly of artists (singers and actors/actresses):"
      ]
    },
    {
      "cell_type": "code",
      "metadata": {
        "colab": {
          "base_uri": "https://localhost:8080/"
        },
        "id": "VZMcocwSBpDl",
        "outputId": "d77dfb19-36f4-4918-8e0f-4e7d38398011"
      },
      "source": [
        "display_single_tf_idf_cluster(right_child_athletes_artists, map_word_to_index)"
      ],
      "execution_count": null,
      "outputs": [
        {
          "output_type": "stream",
          "name": "stdout",
          "text": [
            "113949:0.033\n",
            "113949:0.031\n",
            "113949:0.026\n",
            "113949:0.026\n",
            "113949:0.021\n",
            "\n",
            "* Madonna (entertainer)                              0.96003\n",
            "  madonna louise ciccone tkoni born august 16 1958 is an american singer songwriter actress \n",
            "  and businesswoman she achieved popularity by pushing the boundaries of lyrical\n",
            "* Janet Jackson                                      0.96110\n",
            "  janet damita jo jackson born may 16 1966 is an american singer songwriter and actress know\n",
            "  n for a series of sonically innovative socially conscious and\n",
            "* Cher                                               0.96531\n",
            "  cher r born cherilyn sarkisian may 20 1946 is an american singer actress and television ho\n",
            "  st described as embodying female autonomy in a maledominated industry\n",
            "* Laura Smith                                        0.96572\n",
            "  laura smith is a canadian folk singersongwriter she is best known for her 1995 single shad\n",
            "  e of your love one of the years biggest hits\n",
            "* Lizzie West                                        0.96669\n",
            "  lizzie west born in brooklyn ny on july 21 1973 is a singersongwriter her music can be des\n",
            "  cribed as a blend of many genres including\n",
            "* Anne Harris (musician)                             0.96681\n",
            "  anne harris is a singer songwriter violinist recording artist and actor based in chicago i\n",
            "  llinois she has independently produced and released four studio albums on\n",
            "* Maggie Smith                                       0.96711\n",
            "  dame margaret natalie maggie smith ch dbe born 28 december 1934 is an english actress she \n",
            "  made her stage debut in 1952 and has had\n",
            "* Natashia Williams                                  0.96715\n",
            "  natashia williamsblach born august 2 1978 is an american actress and former wonderbra camp\n",
            "  aign model who is perhaps best known for her role as shane\n",
            "\n"
          ]
        }
      ]
    },
    {
      "cell_type": "markdown",
      "metadata": {
        "id": "iXgI84ixBpDm"
      },
      "source": [
        "Our hierarchy of clusters now looks like this:\n",
        "```\n",
        "                                           Wikipedia\n",
        "                                               +\n",
        "                                               |\n",
        "                    +--------------------------+--------------------+\n",
        "                    |                                               |\n",
        "                    +                                               +\n",
        "         Non-athletes/artists                                Athletes/artists\n",
        "                                                                    +\n",
        "                                                                    |\n",
        "                                                         +----------+----------+\n",
        "                                                         |                     |\n",
        "                                                         |                     |\n",
        "                                                         +                     |\n",
        "                                                     athletes               artists\n",
        "```"
      ]
    },
    {
      "cell_type": "markdown",
      "metadata": {
        "id": "PNyFHLyuBpDn"
      },
      "source": [
        "Should we keep subdividing the clusters? If so, which cluster should we subdivide? To answer this question, we again think about our application. Since we organize our directory by topics, it would be nice to have topics that are about as coarse as each other. For instance, if one cluster is about baseball, we expect some other clusters about football, basketball, volleyball, and so forth. That is, **we would like to achieve similar level of granularity for all clusters.**\n",
        "\n",
        "Both the athletes and artists node can be subdivided more, as each one can be divided into more descriptive professions (singer/actress/painter/director, or baseball/football/basketball, etc.). Let's explore subdividing the athletes cluster further to produce finer child clusters."
      ]
    },
    {
      "cell_type": "markdown",
      "metadata": {
        "id": "BFtk1NYZBpDo"
      },
      "source": [
        "Let's give the clusters aliases as well:"
      ]
    },
    {
      "cell_type": "code",
      "metadata": {
        "id": "7ZrC0uxGBpDo"
      },
      "source": [
        "athletes    = left_child_athletes_artists\n",
        "artists     = right_child_athletes_artists"
      ],
      "execution_count": null,
      "outputs": []
    },
    {
      "cell_type": "markdown",
      "metadata": {
        "id": "Wi4dQyG3BpDq"
      },
      "source": [
        "### Cluster of athletes"
      ]
    },
    {
      "cell_type": "markdown",
      "metadata": {
        "id": "Uk0K01DgBpDq"
      },
      "source": [
        "In answering the following quiz question, take a look at the topics represented in the top documents (those closest to the centroid), as well as the list of words with highest TF-IDF weights.\n",
        "\n",
        "Let us bipartition the cluster of athletes."
      ]
    },
    {
      "cell_type": "code",
      "metadata": {
        "id": "GRg6nq4MBpDr"
      },
      "source": [
        "left_child_athletes, right_child_athletes = bipartition(athletes, maxiter=100, num_runs=6, seed=1)"
      ],
      "execution_count": null,
      "outputs": []
    },
    {
      "cell_type": "code",
      "metadata": {
        "colab": {
          "base_uri": "https://localhost:8080/"
        },
        "id": "wtCAaJbLBpDr",
        "outputId": "40c45880-ad7b-465f-9119-6f4cd5651bc2"
      },
      "source": [
        "display_single_tf_idf_cluster(left_child_athletes, map_word_to_index)\n",
        "display_single_tf_idf_cluster(right_child_athletes, map_word_to_index)"
      ],
      "execution_count": null,
      "outputs": [
        {
          "output_type": "stream",
          "name": "stdout",
          "text": [
            "113949:0.110\n",
            "113949:0.103\n",
            "113949:0.051\n",
            "113949:0.046\n",
            "113949:0.045\n",
            "\n",
            "* Steve Springer                                     0.89327\n",
            "  steven michael springer born february 11 1961 is an american former professional baseball \n",
            "  player who appeared in major league baseball as a third baseman and\n",
            "* Dave Ford                                          0.89574\n",
            "  david alan ford born december 29 1956 is a former major league baseball pitcher for the ba\n",
            "  ltimore orioles born in cleveland ohio ford attended lincolnwest\n",
            "* Todd Williams                                      0.89823\n",
            "  todd michael williams born february 13 1971 in syracuse new york is a former major league \n",
            "  baseball relief pitcher he attended east syracuseminoa high school\n",
            "* Justin Knoedler                                    0.90084\n",
            "  justin joseph knoedler born july 17 1980 in springfield illinois is a former major league \n",
            "  baseball catcherknoedler was originally drafted by the st louis cardinals\n",
            "* Kevin Nicholson (baseball)                         0.90614\n",
            "  kevin ronald nicholson born march 29 1976 is a canadian baseball shortstop he played part \n",
            "  of the 2000 season for the san diego padres of\n",
            "* Joe Strong                                         0.90645\n",
            "  joseph benjamin strong born september 9 1962 in fairfield california is a former major lea\n",
            "  gue baseball pitcher who played for the florida marlins from 2000\n",
            "* James Baldwin (baseball)                           0.90658\n",
            "  james j baldwin jr born july 15 1971 is a former major league baseball pitcher he batted a\n",
            "  nd threw righthanded in his 11season career he\n",
            "* James Garcia                                       0.90726\n",
            "  james robert garcia born february 3 1980 is an american former professional baseball pitch\n",
            "  er who played in the san francisco giants minor league system as\n",
            "\n",
            "113949:0.030\n",
            "113949:0.030\n",
            "113949:0.029\n",
            "113949:0.026\n",
            "113949:0.024\n",
            "\n",
            "* Gord Sherven                                       0.95829\n",
            "  gordon r sherven born august 21 1963 in gravelbourg saskatchewan and raised in mankota sas\n",
            "  katchewan is a retired canadian professional ice hockey forward who played\n",
            "* Ashley Prescott                                    0.95974\n",
            "  ashley prescott born 11 september 1972 is a former australian rules footballer he played w\n",
            "  ith the richmond and fremantle football clubs in the afl between\n",
            "* Jason Roberts (footballer)                         0.95975\n",
            "  jason andre davis roberts mbe born 25 january 1978 is a former professional footballer and\n",
            "   now a football punditborn in park royal london roberts was\n",
            "* Chris Day                                          0.95977\n",
            "  christopher nicholas chris day born 28 july 1975 is an english professional footballer who\n",
            "   plays as a goalkeeper for stevenageday started his career at tottenham\n",
            "* Sol Campbell                                       0.96051\n",
            "  sulzeer jeremiah sol campbell born 18 september 1974 is a former england international foo\n",
            "  tballer a central defender he had a 19year career playing in the\n",
            "* Todd Curley                                        0.96075\n",
            "  todd curley born 14 january 1973 is a former australian rules footballer who played for co\n",
            "  llingwood and the western bulldogs in the australian football league\n",
            "* Tony Smith (footballer, born 1957)                 0.96134\n",
            "  anthony tony smith born 20 february 1957 is a former footballer who played as a central de\n",
            "  fender in the football league in the 1970s and\n",
            "* Richard Ambrose                                    0.96218\n",
            "  richard ambrose born 10 june 1972 is a former australian rules footballer who played with \n",
            "  the sydney swans in the australian football league afl he\n",
            "\n"
          ]
        }
      ]
    },
    {
      "cell_type": "markdown",
      "metadata": {
        "id": "inoWHZrVBpDs"
      },
      "source": [
        "**Quiz Question**. Which diagram best describes the hierarchy right after splitting the `athletes` cluster? Refer to the quiz form for the diagrams."
      ]
    },
    {
      "cell_type": "markdown",
      "metadata": {
        "id": "W-cha6OKBpDt"
      },
      "source": [
        "**Caution**. The granularity criteria is an imperfect heuristic and must be taken with a grain of salt. It takes a lot of manual intervention to obtain a good hierarchy of clusters.\n",
        "\n",
        "* **If a cluster is highly mixed, the top articles and words may not convey the full picture of the cluster.** Thus, we may be misled if we judge the purity of clusters solely by their top documents and words. \n",
        "* **Many interesting topics are hidden somewhere inside the clusters but do not appear in the visualization.** We may need to subdivide further to discover new topics. For instance, subdividing the `ice_hockey_football` cluster led to the appearance of runners and golfers."
      ]
    },
    {
      "cell_type": "markdown",
      "metadata": {
        "id": "-95Q570xBpDt"
      },
      "source": [
        "### Cluster of non-athletes"
      ]
    },
    {
      "cell_type": "markdown",
      "metadata": {
        "id": "nf3vuX8CBpDu"
      },
      "source": [
        "Now let us subdivide the cluster of non-athletes."
      ]
    },
    {
      "cell_type": "code",
      "metadata": {
        "colab": {
          "base_uri": "https://localhost:8080/"
        },
        "id": "vq7HlGW6BpDv",
        "outputId": "ae78a4f9-d5ad-477a-a6a5-ac5e5e132d2c"
      },
      "source": [
        "%%time \n",
        "# Bipartition the cluster of non-athletes\n",
        "left_child_non_athletes_artists, right_child_non_athletes_artists = bipartition(non_athletes_artists, maxiter=100, num_runs=3, seed=1)"
      ],
      "execution_count": null,
      "outputs": [
        {
          "output_type": "stream",
          "name": "stdout",
          "text": [
            "CPU times: user 12min 4s, sys: 15.1 s, total: 12min 19s\n",
            "Wall time: 12min 3s\n"
          ]
        }
      ]
    },
    {
      "cell_type": "code",
      "metadata": {
        "colab": {
          "base_uri": "https://localhost:8080/"
        },
        "id": "8m3sF1v3BpDw",
        "outputId": "0c612a42-a1a9-4bf8-f17f-83907e58f69f"
      },
      "source": [
        "display_single_tf_idf_cluster(left_child_non_athletes_artists, map_word_to_index)"
      ],
      "execution_count": null,
      "outputs": [
        {
          "output_type": "stream",
          "name": "stdout",
          "text": [
            "113949:0.021\n",
            "113949:0.017\n",
            "113949:0.015\n",
            "113949:0.014\n",
            "113949:0.014\n",
            "\n",
            "* Anita Kunz                                         0.97141\n",
            "  anita e kunz oc born 1956 is a canadianborn artist and illustratorkunz has lived in london\n",
            "   new york and toronto contributing to magazines and working\n",
            "* %C3%81ine Hyland                                   0.97487\n",
            "  ine hyland ne donlon is emeritus professor of education and former vicepresident of univer\n",
            "  sity college cork ireland she was born in 1942 in athboy co\n",
            "* Ruth Rosen                                         0.97515\n",
            "  ruth rosen born 1956 is a pioneering historian of gender and society an awardwinning journ\n",
            "  alist and a professor emerita at university of california davisshe is\n",
            "* Catherine Hakim                                    0.97532\n",
            "  catherine hakim born 30 may 1948 is a british sociologist who specialises in womens employ\n",
            "  ment and womens issues she is currently a professorial research fellow\n",
            "* Ren%C3%A9e Fox                                     0.97544\n",
            "  rene c fox a summa cum laude graduate of smith college in 1949 earned her phd in sociology\n",
            "   in 1954 from radcliffe college harvard university\n",
            "* Melba Padilla Maggay                               0.97670\n",
            "  melba padilla maggay is a filipina writer and a social anthropologist she holds a doctorat\n",
            "  e in philippine studies a masteral degree in english literature and\n",
            "* Sandra Harding                                     0.97677\n",
            "  this article is about the american philosopher not the australian sociologist and universi\n",
            "  ty administrator of the same namesandra g harding born 1935 is an american\n",
            "* Archie Brown                                       0.97691\n",
            "  archibald haworth brown cmg fba commonly known as archie brown born 10 may 1938 is a briti\n",
            "  sh political scientist and historian in 2005 he became\n",
            "\n"
          ]
        }
      ]
    },
    {
      "cell_type": "code",
      "metadata": {
        "colab": {
          "base_uri": "https://localhost:8080/"
        },
        "id": "WjYpEd_PBpD0",
        "outputId": "5b34d32d-6ccf-4286-d20b-1460c293943f"
      },
      "source": [
        "display_single_tf_idf_cluster(right_child_non_athletes_artists, map_word_to_index)"
      ],
      "execution_count": null,
      "outputs": [
        {
          "output_type": "stream",
          "name": "stdout",
          "text": [
            "113949:0.030\n",
            "113949:0.027\n",
            "113949:0.027\n",
            "113949:0.025\n",
            "113949:0.023\n",
            "\n",
            "* Kayee Griffin                                      0.95724\n",
            "  kayee frances griffin born 6 february 1950 is an australian politician and former australi\n",
            "  an labor party member of the new south wales legislative council serving\n",
            "* Lucienne Robillard                                 0.96152\n",
            "  lucienne robillard pc born june 16 1945 is a canadian politician and a member of the liber\n",
            "  al party of canada she sat in the house\n",
            "* Marcelle Mersereau                                 0.96243\n",
            "  marcelle mersereau born february 14 1942 in pointeverte new brunswick is a canadian politi\n",
            "  cian a civil servant for most of her career she also served\n",
            "* Maureen Lyster                                     0.96244\n",
            "  maureen anne lyster born 10 september 1943 is an australian politician she was an australi\n",
            "  an labor party member of the victorian legislative assembly from 1985\n",
            "* Carol Skelton                                      0.96349\n",
            "  carol skelton pc born december 12 1945 in biggar saskatchewan is a canadian politician she\n",
            "   is a member of the security intelligence review committee which\n",
            "* Liz Cunningham                                     0.96350\n",
            "  elizabeth anne liz cunningham is an australian politician she was an independent member of\n",
            "   the legislative assembly of queensland from 1995 to 2015 representing the\n",
            "* Doug Lewis                                         0.96353\n",
            "  douglas grinslade doug lewis pc qc born april 17 1938 is a former canadian politician a ch\n",
            "  artered accountant and lawyer by training lewis entered the\n",
            "* David Anderson (British Columbia politician)       0.96379\n",
            "  david a anderson pc oc born august 16 1937 in victoria british columbia is a former canadi\n",
            "  an cabinet minister educated at victoria college in victoria\n",
            "\n"
          ]
        }
      ]
    },
    {
      "cell_type": "markdown",
      "metadata": {
        "id": "cF8UzYBqBpD1"
      },
      "source": [
        "The clusters are not as clear, but the left cluster has a tendency to show important female figures, and the right one to show politicians and government officials.\n",
        "\n",
        "Let's divide them further."
      ]
    },
    {
      "cell_type": "code",
      "metadata": {
        "id": "hBrSACueBpD3"
      },
      "source": [
        "female_figures = left_child_non_athletes_artists\n",
        "politicians_etc = right_child_non_athletes_artists"
      ],
      "execution_count": null,
      "outputs": []
    },
    {
      "cell_type": "markdown",
      "metadata": {
        "id": "OnrKF4DQBpD4"
      },
      "source": [
        "**Quiz Question**. Let us bipartition the clusters `female_figures` and `politicians`. Which diagram best describes the resulting hierarchy of clusters for the non-athletes? Refer to the quiz for the diagrams.\n",
        "\n",
        "**Note**. Use `maxiter=100, num_runs=6, seed=1` for consistency of output."
      ]
    },
    {
      "cell_type": "code",
      "metadata": {
        "id": "kj70RJT1BpD5"
      },
      "source": [
        "# Bipartition the cluster of female_figures\n",
        "left_child_female_figures, right_child_female_figures = bipartition(female_figures, maxiter=100, num_runs=8, seed=1)"
      ],
      "execution_count": null,
      "outputs": []
    },
    {
      "cell_type": "code",
      "metadata": {
        "colab": {
          "base_uri": "https://localhost:8080/"
        },
        "id": "3QjsqTDQBpD6",
        "outputId": "662b37eb-e9c7-47cc-c93c-3e59fd13de09"
      },
      "source": [
        "display_single_tf_idf_cluster(left_child_female_figures, map_word_to_index)\n",
        "display_single_tf_idf_cluster(right_child_female_figures, map_word_to_index)"
      ],
      "execution_count": null,
      "outputs": [
        {
          "output_type": "stream",
          "name": "stdout",
          "text": [
            "113949:0.017\n",
            "113949:0.015\n",
            "113949:0.013\n",
            "113949:0.013\n",
            "113949:0.011\n",
            "\n",
            "* Archie Brown                                       0.97612\n",
            "  archibald haworth brown cmg fba commonly known as archie brown born 10 may 1938 is a briti\n",
            "  sh political scientist and historian in 2005 he became\n",
            "* Timothy Luke                                       0.97651\n",
            "  timothy w luke is university distinguished professor of political science in the college o\n",
            "  f liberal arts and human sciences as well as program chair of\n",
            "* Lawrence W. Green                                  0.97701\n",
            "  lawrence w green is best known by health education researchers as the originator of the pr\n",
            "  ecede model and codeveloper of the precedeproceed model which has\n",
            "* Jerry L. Martin                                    0.97726\n",
            "  jerry l martin is chairman emeritus of the american council of trustees and alumni he serv\n",
            "  ed as president of acta from its founding in 1995\n",
            "* Loren Graham                                       0.97799\n",
            "  loren r graham born june 29 1933 in hymera indiana is a noted american historian of scienc\n",
            "  e considered the leading scholar on russian science outside\n",
            "* Robert G. Picard                                   0.97821\n",
            "  robert g picard born 1951 is an american writer and scholarone of the leading academic exp\n",
            "  erts on media businesses and considered the father of the\n",
            "* Robert Bates (political scientist)                 0.97823\n",
            "  robert hinrichs bates born 1942 is an american political scientist he is eaton professor o\n",
            "  f the science of government in the departments of government and\n",
            "* Elijah Anderson                                    0.97857\n",
            "  elijah anderson is an american sociologist he holds the william k lanman jr professorship \n",
            "  in sociology at yale university where he teaches and directs the\n",
            "\n",
            "113949:0.092\n",
            "113949:0.062\n",
            "113949:0.050\n",
            "113949:0.026\n",
            "113949:0.019\n",
            "\n",
            "* Anita Kunz                                         0.93573\n",
            "  anita e kunz oc born 1956 is a canadianborn artist and illustratorkunz has lived in london\n",
            "   new york and toronto contributing to magazines and working\n",
            "* Maryam Hashemi                                     0.94241\n",
            "  maryam hashemi persian is an iranian painter based in london uk since 2002 she grew up in \n",
            "  tehran and graduated in graphic design from azad\n",
            "* Samella Lewis                                      0.94295\n",
            "  samella sanders lewis born february 27 1924 in new orleans is an africanamerican artist pr\n",
            "  imarily a printmaker and painter author art historian and former educator\n",
            "* Lois Conner                                        0.94702\n",
            "  lois conner born 1951 is an american photographer she is noted particularly for her platin\n",
            "  um print landscapes that she produces with a 7 x 17\n",
            "* Roberta Smith                                      0.94989\n",
            "  roberta smith is an art critic for the new york times and a lecturer on contemporary artbo\n",
            "  rn in new york city and raised in lawrence\n",
            "* Lorraine O'Grady                                   0.95048\n",
            "  lorraine ogrady born 1934 is an american conceptual artist who has worked in the areas of \n",
            "  performance art and photo and video installation her work\n",
            "* Lauren Royal                                       0.95086\n",
            "  lauren royal born march 3 circa 1965 is a book writer from california royal has written bo\n",
            "  th historic and novelistic booksa selfproclaimed angels baseball fan\n",
            "* Barbara T. Smith                                   0.95126\n",
            "  barbara turner smith born 1931 pasadena california is an american artist known for her per\n",
            "  formance work in the late 1960s she studied painting art history\n",
            "\n"
          ]
        }
      ]
    },
    {
      "cell_type": "code",
      "metadata": {
        "id": "hufzAsrvBpD7"
      },
      "source": [
        "# Bipartition the cluster of politicians\n",
        "left_child_politicians_etc, right_child_politicians_etc = bipartition(politicians_etc, maxiter=100, num_runs=8, seed=1)"
      ],
      "execution_count": null,
      "outputs": []
    },
    {
      "cell_type": "code",
      "metadata": {
        "colab": {
          "base_uri": "https://localhost:8080/"
        },
        "id": "xQ-tzWDaUW7N",
        "outputId": "e4ea5a3c-107c-47bd-bce4-5d9fe77512fb"
      },
      "source": [
        "display_single_tf_idf_cluster(left_child_politicians_etc, map_word_to_index)\n",
        "display_single_tf_idf_cluster(right_child_politicians_etc, map_word_to_index)"
      ],
      "execution_count": null,
      "outputs": [
        {
          "output_type": "stream",
          "name": "stdout",
          "text": [
            "113949:0.103\n",
            "113949:0.072\n",
            "113949:0.054\n",
            "113949:0.039\n",
            "113949:0.035\n",
            "\n",
            "* William G. Young                                   0.90773\n",
            "  william glover young born 1940 is a united states federal judge for the district of massac\n",
            "  husetts young was born in huntington new york he attended\n",
            "* George B. Daniels                                  0.90920\n",
            "  george benjamin daniels born 1953 is a united states federal judge for the united states d\n",
            "  istrict court for the southern district of new yorkdaniels was\n",
            "* Barry Sullivan (lawyer)                            0.91213\n",
            "  barry sullivan is a chicago lawyer and as of july 1 2009 the cooney conway chair in advoca\n",
            "  cy at loyola university chicago school of law\n",
            "* James G. Carr                                      0.91469\n",
            "  james g carr born july 7 1940 is a federal district judge for the united states district c\n",
            "  ourt for the northern district of ohiocarr was\n",
            "* Jean Constance Hamilton                            0.91538\n",
            "  jean constance hamilton born 1945 is a senior united states district judge of the united s\n",
            "  tates district court for the eastern district of missouriborn in\n",
            "* Robinson O. Everett                                0.91573\n",
            "  robinson o everett march 18 1928 june 12 2009 was an american lawyer judge and a professor\n",
            "   of law at duke universityeverett was born in\n",
            "* Bernard Bell (attorney)                            0.91683\n",
            "  bernard bell is the associate dean for academic affairs and faculty professor of law and h\n",
            "  erbert hannoch scholar at rutgers school of lawnewark bell received\n",
            "* Pasco Bowman II                                    0.91907\n",
            "  pasco middleton bowman ii born 1933 is a senior federal judge on the united states court o\n",
            "  f appeals for the eighth circuit a former fulbright\n",
            "\n",
            "113949:0.036\n",
            "113949:0.032\n",
            "113949:0.032\n",
            "113949:0.024\n",
            "113949:0.023\n",
            "\n",
            "* Kayee Griffin                                      0.95325\n",
            "  kayee frances griffin born 6 february 1950 is an australian politician and former australi\n",
            "  an labor party member of the new south wales legislative council serving\n",
            "* Lucienne Robillard                                 0.95664\n",
            "  lucienne robillard pc born june 16 1945 is a canadian politician and a member of the liber\n",
            "  al party of canada she sat in the house\n",
            "* Maureen Lyster                                     0.95771\n",
            "  maureen anne lyster born 10 september 1943 is an australian politician she was an australi\n",
            "  an labor party member of the victorian legislative assembly from 1985\n",
            "* Marcelle Mersereau                                 0.95783\n",
            "  marcelle mersereau born february 14 1942 in pointeverte new brunswick is a canadian politi\n",
            "  cian a civil servant for most of her career she also served\n",
            "* Carol Skelton                                      0.95928\n",
            "  carol skelton pc born december 12 1945 in biggar saskatchewan is a canadian politician she\n",
            "   is a member of the security intelligence review committee which\n",
            "* Margaret Beckett                                   0.95972\n",
            "  dame margaret mary beckett dbe mp born 15 january 1943 is a british labour party politicia\n",
            "  n who has been the member of parliament mp for\n",
            "* Liz Cunningham                                     0.96009\n",
            "  elizabeth anne liz cunningham is an australian politician she was an independent member of\n",
            "   the legislative assembly of queensland from 1995 to 2015 representing the\n",
            "* Monique Landry                                     0.96012\n",
            "  monique landry pc born december 25 1937 is a former canadian politician a physiotherapist \n",
            "  and administrator she was first elected to the canadian house of\n",
            "\n"
          ]
        }
      ]
    }
  ]
}