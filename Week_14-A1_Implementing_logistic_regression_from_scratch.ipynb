{
  "nbformat": 4,
  "nbformat_minor": 0,
  "metadata": {
    "kernelspec": {
      "display_name": "Python 3",
      "language": "python",
      "name": "python3"
    },
    "language_info": {
      "codemirror_mode": {
        "name": "ipython",
        "version": 3
      },
      "file_extension": ".py",
      "mimetype": "text/x-python",
      "name": "python",
      "nbconvert_exporter": "python",
      "pygments_lexer": "ipython3",
      "version": "3.6.0"
    },
    "colab": {
      "name": "A1_Implementing logistic regression from scratch_CLA03-NB01.ipynb",
      "provenance": []
    }
  },
  "cells": [
    {
      "cell_type": "markdown",
      "metadata": {
        "id": "ouXXgLF89NRm"
      },
      "source": [
        "# Implementing logistic regression from scratch\n",
        "\n",
        "The goal of this notebook is to implement your own logistic regression classifier. You will:\n",
        "\n",
        " * Extract features from Amazon product reviews.\n",
        " * Convert an SFrame into a NumPy array.\n",
        " * Implement the link function for logistic regression.\n",
        " * Write a function to compute the derivative of the log likelihood function with respect to a single coefficient.\n",
        " * Implement gradient ascent.\n",
        " * Given a set of coefficients, predict sentiments.\n",
        " * Compute classification accuracy for the logistic regression model.\n",
        " \n",
        "Let's get started!\n",
        "    \n",
        "## Fire up Turi Create\n",
        "\n",
        "Make sure you have the latest version of Turi Create."
      ]
    },
    {
      "cell_type": "code",
      "metadata": {
        "colab": {
          "base_uri": "https://localhost:8080/"
        },
        "id": "bojmcrjx9QH7",
        "outputId": "df8b79da-ec2c-4e93-d0ae-99e04afb0861"
      },
      "source": [
        "pip install turicreate"
      ],
      "execution_count": null,
      "outputs": [
        {
          "output_type": "stream",
          "name": "stdout",
          "text": [
            "Requirement already satisfied: turicreate in /usr/local/lib/python3.7/dist-packages (6.4.1)\n",
            "Requirement already satisfied: pillow>=5.2.0 in /usr/local/lib/python3.7/dist-packages (from turicreate) (7.1.2)\n",
            "Requirement already satisfied: decorator>=4.0.9 in /usr/local/lib/python3.7/dist-packages (from turicreate) (4.4.2)\n",
            "Requirement already satisfied: resampy==0.2.1 in /usr/local/lib/python3.7/dist-packages (from turicreate) (0.2.1)\n",
            "Requirement already satisfied: tensorflow<2.1.0,>=2.0.0 in /usr/local/lib/python3.7/dist-packages (from turicreate) (2.0.4)\n",
            "Requirement already satisfied: scipy>=1.1.0 in /usr/local/lib/python3.7/dist-packages (from turicreate) (1.4.1)\n",
            "Requirement already satisfied: numba<0.51.0 in /usr/local/lib/python3.7/dist-packages (from turicreate) (0.50.1)\n",
            "Requirement already satisfied: pandas>=0.23.2 in /usr/local/lib/python3.7/dist-packages (from turicreate) (1.1.5)\n",
            "Requirement already satisfied: prettytable==0.7.2 in /usr/local/lib/python3.7/dist-packages (from turicreate) (0.7.2)\n",
            "Requirement already satisfied: coremltools==3.3 in /usr/local/lib/python3.7/dist-packages (from turicreate) (3.3)\n",
            "Requirement already satisfied: numpy in /usr/local/lib/python3.7/dist-packages (from turicreate) (1.18.5)\n",
            "Requirement already satisfied: requests>=2.9.1 in /usr/local/lib/python3.7/dist-packages (from turicreate) (2.23.0)\n",
            "Requirement already satisfied: six>=1.10.0 in /usr/local/lib/python3.7/dist-packages (from turicreate) (1.15.0)\n",
            "Requirement already satisfied: protobuf>=3.1.0 in /usr/local/lib/python3.7/dist-packages (from coremltools==3.3->turicreate) (3.17.3)\n",
            "Requirement already satisfied: setuptools in /usr/local/lib/python3.7/dist-packages (from numba<0.51.0->turicreate) (57.4.0)\n",
            "Requirement already satisfied: llvmlite<0.34,>=0.33.0.dev0 in /usr/local/lib/python3.7/dist-packages (from numba<0.51.0->turicreate) (0.33.0)\n",
            "Requirement already satisfied: python-dateutil>=2.7.3 in /usr/local/lib/python3.7/dist-packages (from pandas>=0.23.2->turicreate) (2.8.2)\n",
            "Requirement already satisfied: pytz>=2017.2 in /usr/local/lib/python3.7/dist-packages (from pandas>=0.23.2->turicreate) (2018.9)\n",
            "Requirement already satisfied: chardet<4,>=3.0.2 in /usr/local/lib/python3.7/dist-packages (from requests>=2.9.1->turicreate) (3.0.4)\n",
            "Requirement already satisfied: certifi>=2017.4.17 in /usr/local/lib/python3.7/dist-packages (from requests>=2.9.1->turicreate) (2021.5.30)\n",
            "Requirement already satisfied: idna<3,>=2.5 in /usr/local/lib/python3.7/dist-packages (from requests>=2.9.1->turicreate) (2.10)\n",
            "Requirement already satisfied: urllib3!=1.25.0,!=1.25.1,<1.26,>=1.21.1 in /usr/local/lib/python3.7/dist-packages (from requests>=2.9.1->turicreate) (1.24.3)\n",
            "Requirement already satisfied: absl-py>=0.7.0 in /usr/local/lib/python3.7/dist-packages (from tensorflow<2.1.0,>=2.0.0->turicreate) (0.12.0)\n",
            "Requirement already satisfied: tensorboard<2.1.0,>=2.0.0 in /usr/local/lib/python3.7/dist-packages (from tensorflow<2.1.0,>=2.0.0->turicreate) (2.0.2)\n",
            "Requirement already satisfied: wrapt>=1.11.1 in /usr/local/lib/python3.7/dist-packages (from tensorflow<2.1.0,>=2.0.0->turicreate) (1.12.1)\n",
            "Requirement already satisfied: grpcio>=1.8.6 in /usr/local/lib/python3.7/dist-packages (from tensorflow<2.1.0,>=2.0.0->turicreate) (1.39.0)\n",
            "Requirement already satisfied: astor>=0.6.0 in /usr/local/lib/python3.7/dist-packages (from tensorflow<2.1.0,>=2.0.0->turicreate) (0.8.1)\n",
            "Requirement already satisfied: gast==0.2.2 in /usr/local/lib/python3.7/dist-packages (from tensorflow<2.1.0,>=2.0.0->turicreate) (0.2.2)\n",
            "Requirement already satisfied: keras-applications>=1.0.8 in /usr/local/lib/python3.7/dist-packages (from tensorflow<2.1.0,>=2.0.0->turicreate) (1.0.8)\n",
            "Requirement already satisfied: tensorflow-estimator<2.1.0,>=2.0.0 in /usr/local/lib/python3.7/dist-packages (from tensorflow<2.1.0,>=2.0.0->turicreate) (2.0.1)\n",
            "Requirement already satisfied: termcolor>=1.1.0 in /usr/local/lib/python3.7/dist-packages (from tensorflow<2.1.0,>=2.0.0->turicreate) (1.1.0)\n",
            "Requirement already satisfied: wheel>=0.26 in /usr/local/lib/python3.7/dist-packages (from tensorflow<2.1.0,>=2.0.0->turicreate) (0.37.0)\n",
            "Requirement already satisfied: opt-einsum>=2.3.2 in /usr/local/lib/python3.7/dist-packages (from tensorflow<2.1.0,>=2.0.0->turicreate) (3.3.0)\n",
            "Requirement already satisfied: google-pasta>=0.1.6 in /usr/local/lib/python3.7/dist-packages (from tensorflow<2.1.0,>=2.0.0->turicreate) (0.2.0)\n",
            "Requirement already satisfied: keras-preprocessing>=1.0.5 in /usr/local/lib/python3.7/dist-packages (from tensorflow<2.1.0,>=2.0.0->turicreate) (1.1.2)\n",
            "Requirement already satisfied: h5py<=2.10.0 in /usr/local/lib/python3.7/dist-packages (from tensorflow<2.1.0,>=2.0.0->turicreate) (2.10.0)\n",
            "Requirement already satisfied: google-auth-oauthlib<0.5,>=0.4.1 in /usr/local/lib/python3.7/dist-packages (from tensorboard<2.1.0,>=2.0.0->tensorflow<2.1.0,>=2.0.0->turicreate) (0.4.5)\n",
            "Requirement already satisfied: google-auth<2,>=1.6.3 in /usr/local/lib/python3.7/dist-packages (from tensorboard<2.1.0,>=2.0.0->tensorflow<2.1.0,>=2.0.0->turicreate) (1.34.0)\n",
            "Requirement already satisfied: markdown>=2.6.8 in /usr/local/lib/python3.7/dist-packages (from tensorboard<2.1.0,>=2.0.0->tensorflow<2.1.0,>=2.0.0->turicreate) (3.3.4)\n",
            "Requirement already satisfied: werkzeug>=0.11.15 in /usr/local/lib/python3.7/dist-packages (from tensorboard<2.1.0,>=2.0.0->tensorflow<2.1.0,>=2.0.0->turicreate) (1.0.1)\n",
            "Requirement already satisfied: pyasn1-modules>=0.2.1 in /usr/local/lib/python3.7/dist-packages (from google-auth<2,>=1.6.3->tensorboard<2.1.0,>=2.0.0->tensorflow<2.1.0,>=2.0.0->turicreate) (0.2.8)\n",
            "Requirement already satisfied: rsa<5,>=3.1.4 in /usr/local/lib/python3.7/dist-packages (from google-auth<2,>=1.6.3->tensorboard<2.1.0,>=2.0.0->tensorflow<2.1.0,>=2.0.0->turicreate) (4.7.2)\n",
            "Requirement already satisfied: cachetools<5.0,>=2.0.0 in /usr/local/lib/python3.7/dist-packages (from google-auth<2,>=1.6.3->tensorboard<2.1.0,>=2.0.0->tensorflow<2.1.0,>=2.0.0->turicreate) (4.2.2)\n",
            "Requirement already satisfied: requests-oauthlib>=0.7.0 in /usr/local/lib/python3.7/dist-packages (from google-auth-oauthlib<0.5,>=0.4.1->tensorboard<2.1.0,>=2.0.0->tensorflow<2.1.0,>=2.0.0->turicreate) (1.3.0)\n",
            "Requirement already satisfied: importlib-metadata in /usr/local/lib/python3.7/dist-packages (from markdown>=2.6.8->tensorboard<2.1.0,>=2.0.0->tensorflow<2.1.0,>=2.0.0->turicreate) (4.6.4)\n",
            "Requirement already satisfied: pyasn1<0.5.0,>=0.4.6 in /usr/local/lib/python3.7/dist-packages (from pyasn1-modules>=0.2.1->google-auth<2,>=1.6.3->tensorboard<2.1.0,>=2.0.0->tensorflow<2.1.0,>=2.0.0->turicreate) (0.4.8)\n",
            "Requirement already satisfied: oauthlib>=3.0.0 in /usr/local/lib/python3.7/dist-packages (from requests-oauthlib>=0.7.0->google-auth-oauthlib<0.5,>=0.4.1->tensorboard<2.1.0,>=2.0.0->tensorflow<2.1.0,>=2.0.0->turicreate) (3.1.1)\n",
            "Requirement already satisfied: zipp>=0.5 in /usr/local/lib/python3.7/dist-packages (from importlib-metadata->markdown>=2.6.8->tensorboard<2.1.0,>=2.0.0->tensorflow<2.1.0,>=2.0.0->turicreate) (3.5.0)\n",
            "Requirement already satisfied: typing-extensions>=3.6.4 in /usr/local/lib/python3.7/dist-packages (from importlib-metadata->markdown>=2.6.8->tensorboard<2.1.0,>=2.0.0->tensorflow<2.1.0,>=2.0.0->turicreate) (3.7.4.3)\n"
          ]
        }
      ]
    },
    {
      "cell_type": "code",
      "metadata": {
        "id": "u08ExPV89NRx"
      },
      "source": [
        "import turicreate"
      ],
      "execution_count": null,
      "outputs": []
    },
    {
      "cell_type": "markdown",
      "metadata": {
        "id": "jD2PbnuI9NR1"
      },
      "source": [
        "## Load review dataset"
      ]
    },
    {
      "cell_type": "markdown",
      "metadata": {
        "id": "TlWW2ME29NR2"
      },
      "source": [
        "**1.** For this assignment, we will use a subset of the Amazon product review dataset. The subset was chosen to contain similar numbers of positive and negative reviews, as the original dataset consisted primarily of positive reviews."
      ]
    },
    {
      "cell_type": "code",
      "metadata": {
        "colab": {
          "base_uri": "https://localhost:8080/"
        },
        "id": "HruzcoFg9s_v",
        "outputId": "028336c1-9107-4446-9098-6f3e2cf81b2c"
      },
      "source": [
        "from google.colab import drive\n",
        "drive.mount ('/content/gdrive')"
      ],
      "execution_count": null,
      "outputs": [
        {
          "output_type": "stream",
          "name": "stdout",
          "text": [
            "Drive already mounted at /content/gdrive; to attempt to forcibly remount, call drive.mount(\"/content/gdrive\", force_remount=True).\n"
          ]
        }
      ]
    },
    {
      "cell_type": "code",
      "metadata": {
        "colab": {
          "base_uri": "https://localhost:8080/"
        },
        "id": "fn-JzzCALitC",
        "outputId": "be7ec39f-d4d3-4f1d-9e73-291792bd5cc5"
      },
      "source": [
        "drive.mount(\"/content/gdrive\", force_remount=True)"
      ],
      "execution_count": null,
      "outputs": [
        {
          "output_type": "stream",
          "name": "stdout",
          "text": [
            "Mounted at /content/gdrive\n"
          ]
        }
      ]
    },
    {
      "cell_type": "code",
      "metadata": {
        "id": "Zq1dC-pF9NR3"
      },
      "source": [
        "# products = turicreate.SFrame('amazon_baby_subset.sframe/')\n",
        "\n",
        "products = turicreate.SFrame('/content/gdrive/My Drive/Turicreate/Week 14/amazon_baby_subset.sframe/')"
      ],
      "execution_count": null,
      "outputs": []
    },
    {
      "cell_type": "code",
      "metadata": {
        "colab": {
          "base_uri": "https://localhost:8080/",
          "height": 449
        },
        "id": "dIDNekM3-a9m",
        "outputId": "39bb7173-d74e-49a0-be24-ef91c00eff0b"
      },
      "source": [
        "products"
      ],
      "execution_count": null,
      "outputs": [
        {
          "output_type": "execute_result",
          "data": {
            "text/html": [
              "<div style=\"max-height:1000px;max-width:1500px;overflow:auto;\"><table frame=\"box\" rules=\"cols\">\n",
              "    <tr>\n",
              "        <th style=\"padding-left: 1em; padding-right: 1em; text-align: center\">name</th>\n",
              "        <th style=\"padding-left: 1em; padding-right: 1em; text-align: center\">review</th>\n",
              "        <th style=\"padding-left: 1em; padding-right: 1em; text-align: center\">rating</th>\n",
              "        <th style=\"padding-left: 1em; padding-right: 1em; text-align: center\">sentiment</th>\n",
              "    </tr>\n",
              "    <tr>\n",
              "        <td style=\"padding-left: 1em; padding-right: 1em; text-align: center; vertical-align: top\">Stop Pacifier Sucking<br>without tears with ...</td>\n",
              "        <td style=\"padding-left: 1em; padding-right: 1em; text-align: center; vertical-align: top\">All of my kids have cried<br>non-stop when I tried to ...</td>\n",
              "        <td style=\"padding-left: 1em; padding-right: 1em; text-align: center; vertical-align: top\">5.0</td>\n",
              "        <td style=\"padding-left: 1em; padding-right: 1em; text-align: center; vertical-align: top\">1</td>\n",
              "    </tr>\n",
              "    <tr>\n",
              "        <td style=\"padding-left: 1em; padding-right: 1em; text-align: center; vertical-align: top\">Nature&#x27;s Lullabies Second<br>Year Sticker Calendar ...</td>\n",
              "        <td style=\"padding-left: 1em; padding-right: 1em; text-align: center; vertical-align: top\">We wanted to get<br>something to keep track ...</td>\n",
              "        <td style=\"padding-left: 1em; padding-right: 1em; text-align: center; vertical-align: top\">5.0</td>\n",
              "        <td style=\"padding-left: 1em; padding-right: 1em; text-align: center; vertical-align: top\">1</td>\n",
              "    </tr>\n",
              "    <tr>\n",
              "        <td style=\"padding-left: 1em; padding-right: 1em; text-align: center; vertical-align: top\">Nature&#x27;s Lullabies Second<br>Year Sticker Calendar ...</td>\n",
              "        <td style=\"padding-left: 1em; padding-right: 1em; text-align: center; vertical-align: top\">My daughter had her 1st<br>baby over a year ago. ...</td>\n",
              "        <td style=\"padding-left: 1em; padding-right: 1em; text-align: center; vertical-align: top\">5.0</td>\n",
              "        <td style=\"padding-left: 1em; padding-right: 1em; text-align: center; vertical-align: top\">1</td>\n",
              "    </tr>\n",
              "    <tr>\n",
              "        <td style=\"padding-left: 1em; padding-right: 1em; text-align: center; vertical-align: top\">Lamaze Peekaboo, I Love<br>You ...</td>\n",
              "        <td style=\"padding-left: 1em; padding-right: 1em; text-align: center; vertical-align: top\">One of baby&#x27;s first and<br>favorite books, and i ...</td>\n",
              "        <td style=\"padding-left: 1em; padding-right: 1em; text-align: center; vertical-align: top\">4.0</td>\n",
              "        <td style=\"padding-left: 1em; padding-right: 1em; text-align: center; vertical-align: top\">1</td>\n",
              "    </tr>\n",
              "    <tr>\n",
              "        <td style=\"padding-left: 1em; padding-right: 1em; text-align: center; vertical-align: top\">SoftPlay Peek-A-Boo<br>Where&#x27;s Elmo A Childr ...</td>\n",
              "        <td style=\"padding-left: 1em; padding-right: 1em; text-align: center; vertical-align: top\">Very cute interactive<br>book! My son loves this ...</td>\n",
              "        <td style=\"padding-left: 1em; padding-right: 1em; text-align: center; vertical-align: top\">5.0</td>\n",
              "        <td style=\"padding-left: 1em; padding-right: 1em; text-align: center; vertical-align: top\">1</td>\n",
              "    </tr>\n",
              "    <tr>\n",
              "        <td style=\"padding-left: 1em; padding-right: 1em; text-align: center; vertical-align: top\">Our Baby Girl Memory Book</td>\n",
              "        <td style=\"padding-left: 1em; padding-right: 1em; text-align: center; vertical-align: top\">Beautiful book, I love it<br>to record cherished t ...</td>\n",
              "        <td style=\"padding-left: 1em; padding-right: 1em; text-align: center; vertical-align: top\">5.0</td>\n",
              "        <td style=\"padding-left: 1em; padding-right: 1em; text-align: center; vertical-align: top\">1</td>\n",
              "    </tr>\n",
              "    <tr>\n",
              "        <td style=\"padding-left: 1em; padding-right: 1em; text-align: center; vertical-align: top\">Hunnt&amp;reg; Falling<br>Flowers and Birds Kids ...</td>\n",
              "        <td style=\"padding-left: 1em; padding-right: 1em; text-align: center; vertical-align: top\">Try this out for a spring<br>project !Easy ,fun and ...</td>\n",
              "        <td style=\"padding-left: 1em; padding-right: 1em; text-align: center; vertical-align: top\">5.0</td>\n",
              "        <td style=\"padding-left: 1em; padding-right: 1em; text-align: center; vertical-align: top\">1</td>\n",
              "    </tr>\n",
              "    <tr>\n",
              "        <td style=\"padding-left: 1em; padding-right: 1em; text-align: center; vertical-align: top\">Blessed By Pope Benedict<br>XVI Divine Mercy Full ...</td>\n",
              "        <td style=\"padding-left: 1em; padding-right: 1em; text-align: center; vertical-align: top\">very nice Divine Mercy<br>Pendant of Jesus now on ...</td>\n",
              "        <td style=\"padding-left: 1em; padding-right: 1em; text-align: center; vertical-align: top\">5.0</td>\n",
              "        <td style=\"padding-left: 1em; padding-right: 1em; text-align: center; vertical-align: top\">1</td>\n",
              "    </tr>\n",
              "    <tr>\n",
              "        <td style=\"padding-left: 1em; padding-right: 1em; text-align: center; vertical-align: top\">Cloth Diaper Pins<br>Stainless Steel ...</td>\n",
              "        <td style=\"padding-left: 1em; padding-right: 1em; text-align: center; vertical-align: top\">We bought the pins as my<br>6 year old Autistic son ...</td>\n",
              "        <td style=\"padding-left: 1em; padding-right: 1em; text-align: center; vertical-align: top\">4.0</td>\n",
              "        <td style=\"padding-left: 1em; padding-right: 1em; text-align: center; vertical-align: top\">1</td>\n",
              "    </tr>\n",
              "    <tr>\n",
              "        <td style=\"padding-left: 1em; padding-right: 1em; text-align: center; vertical-align: top\">Cloth Diaper Pins<br>Stainless Steel ...</td>\n",
              "        <td style=\"padding-left: 1em; padding-right: 1em; text-align: center; vertical-align: top\">It has been many years<br>since we needed diaper ...</td>\n",
              "        <td style=\"padding-left: 1em; padding-right: 1em; text-align: center; vertical-align: top\">5.0</td>\n",
              "        <td style=\"padding-left: 1em; padding-right: 1em; text-align: center; vertical-align: top\">1</td>\n",
              "    </tr>\n",
              "</table>\n",
              "[53072 rows x 4 columns]<br/>Note: Only the head of the SFrame is printed.<br/>You can use print_rows(num_rows=m, num_columns=n) to print more rows and columns.\n",
              "</div>"
            ],
            "text/plain": [
              "Columns:\n",
              "\tname\tstr\n",
              "\treview\tstr\n",
              "\trating\tfloat\n",
              "\tsentiment\tint\n",
              "\n",
              "Rows: 53072\n",
              "\n",
              "Data:\n",
              "+-------------------------------+-------------------------------+--------+-----------+\n",
              "|              name             |             review            | rating | sentiment |\n",
              "+-------------------------------+-------------------------------+--------+-----------+\n",
              "| Stop Pacifier Sucking with... | All of my kids have cried ... |  5.0   |     1     |\n",
              "| Nature's Lullabies Second ... | We wanted to get something... |  5.0   |     1     |\n",
              "| Nature's Lullabies Second ... | My daughter had her 1st ba... |  5.0   |     1     |\n",
              "|  Lamaze Peekaboo, I Love You  | One of baby's first and fa... |  4.0   |     1     |\n",
              "| SoftPlay Peek-A-Boo Where'... | Very cute interactive book... |  5.0   |     1     |\n",
              "|   Our Baby Girl Memory Book   | Beautiful book, I love it ... |  5.0   |     1     |\n",
              "| Hunnt&reg; Falling Flowers... | Try this out for a spring ... |  5.0   |     1     |\n",
              "| Blessed By Pope Benedict X... | very nice Divine Mercy Pen... |  5.0   |     1     |\n",
              "| Cloth Diaper Pins Stainles... | We bought the pins as my 6... |  4.0   |     1     |\n",
              "| Cloth Diaper Pins Stainles... | It has been many years sin... |  5.0   |     1     |\n",
              "+-------------------------------+-------------------------------+--------+-----------+\n",
              "[53072 rows x 4 columns]\n",
              "Note: Only the head of the SFrame is printed.\n",
              "You can use print_rows(num_rows=m, num_columns=n) to print more rows and columns."
            ]
          },
          "metadata": {},
          "execution_count": 4
        }
      ]
    },
    {
      "cell_type": "markdown",
      "metadata": {
        "id": "6FWg0yDF9NR4"
      },
      "source": [
        "One column of this dataset is 'sentiment', corresponding to the class label with +1 indicating a review with positive sentiment and -1 indicating one with negative sentiment."
      ]
    },
    {
      "cell_type": "code",
      "metadata": {
        "colab": {
          "base_uri": "https://localhost:8080/"
        },
        "id": "xAPjEDTO9NR5",
        "outputId": "4b1fe2ec-1fe4-49af-dfe1-56a581965d74"
      },
      "source": [
        "products['sentiment']"
      ],
      "execution_count": null,
      "outputs": [
        {
          "output_type": "execute_result",
          "data": {
            "text/plain": [
              "dtype: int\n",
              "Rows: 53072\n",
              "[1, 1, 1, 1, 1, 1, 1, 1, 1, 1, 1, 1, 1, 1, 1, 1, 1, 1, 1, 1, 1, 1, 1, 1, 1, 1, 1, 1, 1, 1, 1, 1, 1, 1, 1, 1, 1, 1, 1, 1, 1, 1, 1, 1, 1, 1, 1, 1, 1, 1, 1, 1, 1, 1, 1, 1, 1, 1, 1, 1, 1, 1, 1, 1, 1, 1, 1, 1, 1, 1, 1, 1, 1, 1, 1, 1, 1, 1, 1, 1, 1, 1, 1, 1, 1, 1, 1, 1, 1, 1, 1, 1, 1, 1, 1, 1, 1, 1, 1, 1, ... ]"
            ]
          },
          "metadata": {},
          "execution_count": 5
        }
      ]
    },
    {
      "cell_type": "markdown",
      "metadata": {
        "id": "FVISvOjf9NR7"
      },
      "source": [
        "**2.** Let us quickly explore more of this dataset.  The 'name' column indicates the name of the product.  Here we list the first 10 products in the dataset.  We then count the number of positive and negative reviews."
      ]
    },
    {
      "cell_type": "code",
      "metadata": {
        "colab": {
          "base_uri": "https://localhost:8080/"
        },
        "id": "4inTwJOn9NR9",
        "outputId": "20563156-68a5-4831-bc5d-e49d57160e90"
      },
      "source": [
        "products.head(10)['name']"
      ],
      "execution_count": null,
      "outputs": [
        {
          "output_type": "execute_result",
          "data": {
            "text/plain": [
              "dtype: str\n",
              "Rows: 10\n",
              "[\"Stop Pacifier Sucking without tears with Thumbuddy To Love's Binky Fairy Puppet and Adorable Book\", \"Nature's Lullabies Second Year Sticker Calendar\", \"Nature's Lullabies Second Year Sticker Calendar\", 'Lamaze Peekaboo, I Love You', \"SoftPlay Peek-A-Boo Where's Elmo A Children's Book\", 'Our Baby Girl Memory Book', 'Hunnt&reg; Falling Flowers and Birds Kids Nursery Home Decor Vinyl Mural Art Wall Paper Stickers', 'Blessed By Pope Benedict XVI Divine Mercy Full Color Medal', 'Cloth Diaper Pins Stainless Steel Traditional Safety Pin (Black)', 'Cloth Diaper Pins Stainless Steel Traditional Safety Pin (Black)']"
            ]
          },
          "metadata": {},
          "execution_count": 6
        }
      ]
    },
    {
      "cell_type": "code",
      "metadata": {
        "colab": {
          "base_uri": "https://localhost:8080/"
        },
        "id": "SaIvTk919NR-",
        "outputId": "1456609b-aed8-49a2-9ce3-0c90e72260cb"
      },
      "source": [
        "print('# of positive reviews =', len(products[products['sentiment']==1]))\n",
        "print('# of negative reviews =', len(products[products['sentiment']==-1]))"
      ],
      "execution_count": null,
      "outputs": [
        {
          "output_type": "stream",
          "name": "stdout",
          "text": [
            "# of positive reviews = 26579\n",
            "# of negative reviews = 26493\n"
          ]
        }
      ]
    },
    {
      "cell_type": "markdown",
      "metadata": {
        "id": "PCNt2eXc9NR_"
      },
      "source": [
        "**Note:** For this assignment, we eliminated class imbalance by choosing \n",
        "a subset of the data with a similar number of positive and negative reviews. \n",
        "\n",
        "## Apply text cleaning on the review data\n",
        "\n",
        "**3.** In this section, we will perform some simple feature cleaning using **SFrames**. The last assignment used all words in building bag-of-words features, but here we limit ourselves to 193 words (for simplicity). We compiled a list of 193 most frequent words into a JSON file. \n",
        "\n",
        "Now, we will load these words from this JSON file:"
      ]
    },
    {
      "cell_type": "code",
      "metadata": {
        "id": "vmOoaMFAKvOn"
      },
      "source": [
        "import json"
      ],
      "execution_count": null,
      "outputs": []
    },
    {
      "cell_type": "code",
      "metadata": {
        "id": "Ek2oHuzr9NSA"
      },
      "source": [
        "with open('/content/gdrive/My Drive/Turicreate/Week 14/important_words.json', 'r') as f:      # Reads the list of most frequent words\n",
        "  important_words = json.load(f)\n",
        "important_words = [str(s) for s in important_words]"
      ],
      "execution_count": null,
      "outputs": []
    },
    {
      "cell_type": "code",
      "metadata": {
        "colab": {
          "base_uri": "https://localhost:8080/"
        },
        "id": "xsZsX8Wi9NSA",
        "outputId": "ad9791d9-e014-41bf-e662-7ce27a640af4"
      },
      "source": [
        "print(important_words)"
      ],
      "execution_count": null,
      "outputs": [
        {
          "output_type": "stream",
          "name": "stdout",
          "text": [
            "['baby', 'one', 'great', 'love', 'use', 'would', 'like', 'easy', 'little', 'seat', 'old', 'well', 'get', 'also', 'really', 'son', 'time', 'bought', 'product', 'good', 'daughter', 'much', 'loves', 'stroller', 'put', 'months', 'car', 'still', 'back', 'used', 'recommend', 'first', 'even', 'perfect', 'nice', 'bag', 'two', 'using', 'got', 'fit', 'around', 'diaper', 'enough', 'month', 'price', 'go', 'could', 'soft', 'since', 'buy', 'room', 'works', 'made', 'child', 'keep', 'size', 'small', 'need', 'year', 'big', 'make', 'take', 'easily', 'think', 'crib', 'clean', 'way', 'quality', 'thing', 'better', 'without', 'set', 'new', 'every', 'cute', 'best', 'bottles', 'work', 'purchased', 'right', 'lot', 'side', 'happy', 'comfortable', 'toy', 'able', 'kids', 'bit', 'night', 'long', 'fits', 'see', 'us', 'another', 'play', 'day', 'money', 'monitor', 'tried', 'thought', 'never', 'item', 'hard', 'plastic', 'however', 'disappointed', 'reviews', 'something', 'going', 'pump', 'bottle', 'cup', 'waste', 'return', 'amazon', 'different', 'top', 'want', 'problem', 'know', 'water', 'try', 'received', 'sure', 'times', 'chair', 'find', 'hold', 'gate', 'open', 'bottom', 'away', 'actually', 'cheap', 'worked', 'getting', 'ordered', 'came', 'milk', 'bad', 'part', 'worth', 'found', 'cover', 'many', 'design', 'looking', 'weeks', 'say', 'wanted', 'look', 'place', 'purchase', 'looks', 'second', 'piece', 'box', 'pretty', 'trying', 'difficult', 'together', 'though', 'give', 'started', 'anything', 'last', 'company', 'come', 'returned', 'maybe', 'took', 'broke', 'makes', 'stay', 'instead', 'idea', 'head', 'said', 'less', 'went', 'working', 'high', 'unit', 'seems', 'picture', 'completely', 'wish', 'buying', 'babies', 'won', 'tub', 'almost', 'either']\n"
          ]
        }
      ]
    },
    {
      "cell_type": "markdown",
      "metadata": {
        "id": "KsM7_GUM9NSC"
      },
      "source": [
        "**4.** Now, we will perform 2 simple data transformations:\n",
        "\n",
        "1. Remove punctuation using [Python's built-in](https://docs.python.org/2/library/string.html) string functionality.\n",
        "2. Compute word counts (only for **important_words**)\n",
        "\n",
        "We start with *Step 1* which can be done as follows:"
      ]
    },
    {
      "cell_type": "code",
      "metadata": {
        "id": "poFdpwU59NSC"
      },
      "source": [
        "import string \n",
        "def remove_punctuation(text):\n",
        "    try: # python 2.x\n",
        "        text = text.translate(None, string.punctuation) \n",
        "    except: # python 3.x\n",
        "        translator = text.maketrans('', '', string.punctuation)\n",
        "        text = text.translate(translator)\n",
        "    return text\n",
        "\n",
        "products['review_clean'] = products['review'].apply(remove_punctuation)"
      ],
      "execution_count": null,
      "outputs": []
    },
    {
      "cell_type": "markdown",
      "metadata": {
        "id": "t66qmVXM9NSD"
      },
      "source": [
        "**5.** Now we proceed with *Step 2*. For each word in **important_words**, we compute a count for the number of times the word occurs in the review. We will store this count in a separate column (one for each word). The result of this feature processing is a single column for each word in **important_words** which keeps a count of the number of times the respective word occurs in the review text.\n",
        "\n",
        "\n",
        "**Note:** There are several ways of doing this. In this assignment, we use the built-in *count* function for Python lists. Each review string is first split into individual words and the number of occurances of a given word is counted."
      ]
    },
    {
      "cell_type": "code",
      "metadata": {
        "id": "wjyKn3pM9NSD"
      },
      "source": [
        "for word in important_words:\n",
        "    products[word] = products['review_clean'].apply(lambda s : s.split().count(word))"
      ],
      "execution_count": null,
      "outputs": []
    },
    {
      "cell_type": "markdown",
      "metadata": {
        "id": "cP37KoTi9NSE"
      },
      "source": [
        "**6.** The SFrame **products** now contains one column for each of the 193 **important_words**. As an example, the column **perfect** contains a count of the number of times the word **perfect** occurs in each of the reviews."
      ]
    },
    {
      "cell_type": "code",
      "metadata": {
        "colab": {
          "base_uri": "https://localhost:8080/"
        },
        "id": "KyxdRg-09NSE",
        "outputId": "aae3037a-1d6f-4e53-ed0f-ea866bddcd0e"
      },
      "source": [
        "products['perfect']"
      ],
      "execution_count": null,
      "outputs": [
        {
          "output_type": "execute_result",
          "data": {
            "text/plain": [
              "dtype: int\n",
              "Rows: 53072\n",
              "[0, 0, 0, 1, 0, 0, 0, 0, 0, 0, 0, 1, 0, 0, 0, 0, 0, 0, 0, 0, 0, 0, 1, 0, 1, 0, 0, 1, 0, 0, 0, 0, 0, 0, 0, 0, 0, 0, 0, 0, 0, 0, 0, 0, 0, 0, 0, 0, 0, 0, 0, 0, 0, 0, 0, 0, 0, 0, 0, 0, 0, 0, 0, 0, 0, 0, 0, 0, 0, 0, 0, 0, 0, 0, 0, 0, 0, 0, 0, 0, 0, 0, 0, 0, 0, 0, 0, 0, 0, 0, 0, 0, 0, 0, 0, 0, 0, 0, 0, 0, ... ]"
            ]
          },
          "metadata": {},
          "execution_count": 42
        }
      ]
    },
    {
      "cell_type": "markdown",
      "metadata": {
        "id": "vQUOgRSC9NSE"
      },
      "source": [
        "**7.** Now, write some code to compute the number of product reviews that contain the word **perfect**.\n",
        "\n",
        "**Hint**: \n",
        "* First create a column called `contains_perfect` which is set to 1 if the count of the word **perfect** (stored in column **perfect**) is >= 1.\n",
        "* Sum the number of 1s in the column `contains_perfect`."
      ]
    },
    {
      "cell_type": "code",
      "metadata": {
        "id": "ZZeRM6SI9NSF"
      },
      "source": [
        "products['contains_perfect'] = products['perfect'].apply(lambda x: 1 if x >= 1 else 0)"
      ],
      "execution_count": null,
      "outputs": []
    },
    {
      "cell_type": "markdown",
      "metadata": {
        "id": "vjfeQp3f9NSF"
      },
      "source": [
        "**Quiz Question**. How many reviews contain the word **perfect**?"
      ]
    },
    {
      "cell_type": "code",
      "metadata": {
        "colab": {
          "base_uri": "https://localhost:8080/"
        },
        "id": "_NaGUy3POiRt",
        "outputId": "b09945dc-b9d3-4781-8620-d49d689a668d"
      },
      "source": [
        "products['contains_perfect'].sum()"
      ],
      "execution_count": null,
      "outputs": [
        {
          "output_type": "execute_result",
          "data": {
            "text/plain": [
              "2955"
            ]
          },
          "metadata": {},
          "execution_count": 44
        }
      ]
    },
    {
      "cell_type": "markdown",
      "metadata": {
        "id": "g1iJqBDQ9NSF"
      },
      "source": [
        "## Convert SFrame to NumPy array\n",
        "\n",
        "**8.** As you have seen previously, NumPy is a powerful library for doing matrix manipulation. Let us convert our data to matrices and then implement our algorithms with matrices.\n",
        "\n",
        "First, make sure you can perform the following import. If it doesn't work, you need to go back to the terminal and run\n",
        "\n",
        "`pip install numpy`."
      ]
    },
    {
      "cell_type": "code",
      "metadata": {
        "collapsed": true,
        "id": "GMi6fon79NSG"
      },
      "source": [
        "import numpy as np"
      ],
      "execution_count": null,
      "outputs": []
    },
    {
      "cell_type": "markdown",
      "metadata": {
        "id": "e6upWG419NSH"
      },
      "source": [
        "We now provide you with a function that extracts columns from an SFrame and converts them into a NumPy array. Two arrays are returned: one representing features and another representing class labels. Note that the feature matrix includes an additional column 'intercept' to take account of the intercept term."
      ]
    },
    {
      "cell_type": "code",
      "metadata": {
        "collapsed": true,
        "id": "gZC9WYYw9NSI"
      },
      "source": [
        "def get_numpy_data(data_sframe, features, label):\n",
        "    data_sframe['intercept'] = 1\n",
        "    features = ['intercept'] + features\n",
        "    features_sframe = data_sframe[features]\n",
        "    feature_matrix = features_sframe.to_numpy()\n",
        "    label_sarray = data_sframe[label]\n",
        "    label_array = label_sarray.to_numpy()\n",
        "    return(feature_matrix, label_array)"
      ],
      "execution_count": null,
      "outputs": []
    },
    {
      "cell_type": "markdown",
      "metadata": {
        "id": "KBlf27ui9NSJ"
      },
      "source": [
        "Let us convert the data into NumPy arrays."
      ]
    },
    {
      "cell_type": "code",
      "metadata": {
        "id": "wCnYBMLR9NSK"
      },
      "source": [
        "# Warning: This may take a few minutes...\n",
        "feature_matrix, sentiment = get_numpy_data(products, important_words, 'sentiment') "
      ],
      "execution_count": null,
      "outputs": []
    },
    {
      "cell_type": "markdown",
      "metadata": {
        "id": "raBLswGi9NSK"
      },
      "source": [
        "**Are you running this notebook on an Amazon EC2 t2.micro instance?** (If you are using your own machine, please skip this section)\n",
        "\n",
        "It has been reported that t2.micro instances do not provide sufficient power to complete the conversion in acceptable amount of time. For interest of time, please refrain from running `get_numpy_data` function. Instead, download the [binary file](https://s3.amazonaws.com/static.dato.com/files/coursera/course-3/numpy-arrays/module-3-assignment-numpy-arrays.npz) containing the four NumPy arrays you'll need for the assignment. To load the arrays, run the following commands:\n",
        "```\n",
        "arrays = np.load('module-3-assignment-numpy-arrays.npz')\n",
        "feature_matrix, sentiment = arrays['feature_matrix'], arrays['sentiment']\n",
        "```"
      ]
    },
    {
      "cell_type": "code",
      "metadata": {
        "colab": {
          "base_uri": "https://localhost:8080/"
        },
        "id": "Bg8Morui9NSK",
        "outputId": "368b585a-ac1f-418c-9999-791a339806b4"
      },
      "source": [
        "feature_matrix.shape"
      ],
      "execution_count": null,
      "outputs": [
        {
          "output_type": "execute_result",
          "data": {
            "text/plain": [
              "(53072, 194)"
            ]
          },
          "metadata": {},
          "execution_count": 48
        }
      ]
    },
    {
      "cell_type": "markdown",
      "metadata": {
        "id": "NQsx6lHa9NSL"
      },
      "source": [
        "**Quiz Question:** How many features are there in the **feature_matrix**?\n",
        "\n",
        "**Quiz Question:** Assuming that the intercept is present, how does the number of features in **feature_matrix** relate to the number of features in the logistic regression model?"
      ]
    },
    {
      "cell_type": "markdown",
      "metadata": {
        "id": "tqY0-AXk9NSL"
      },
      "source": [
        "Now, let us see what the **sentiment** column looks like:"
      ]
    },
    {
      "cell_type": "code",
      "metadata": {
        "colab": {
          "base_uri": "https://localhost:8080/"
        },
        "id": "xv9eoguw9NSM",
        "outputId": "70427f72-5420-4b6b-bd66-6a633cb23467"
      },
      "source": [
        "sentiment"
      ],
      "execution_count": null,
      "outputs": [
        {
          "output_type": "execute_result",
          "data": {
            "text/plain": [
              "array([ 1,  1,  1, ..., -1, -1, -1])"
            ]
          },
          "metadata": {},
          "execution_count": 49
        }
      ]
    },
    {
      "cell_type": "markdown",
      "metadata": {
        "id": "qnsFVEux9NSM"
      },
      "source": [
        "## Estimating conditional probability with link function"
      ]
    },
    {
      "cell_type": "markdown",
      "metadata": {
        "id": "hcu31ajY9NSM"
      },
      "source": [
        "**10.** Recall from lecture that the link function is given by:\n",
        "$$\n",
        "P(y_i = +1 | \\mathbf{x}_i,\\mathbf{w}) = \\frac{1}{1 + \\exp(-\\mathbf{w}^T h(\\mathbf{x}_i))},\n",
        "$$\n",
        "\n",
        "where the feature vector $h(\\mathbf{x}_i)$ represents the word counts of **important_words** in the review  $\\mathbf{x}_i$. Complete the following function that implements the link function:"
      ]
    },
    {
      "cell_type": "code",
      "metadata": {
        "id": "LyBfeerI9NSN"
      },
      "source": [
        "'''\n",
        "produces probablistic estimate for P(y_i = +1 | x_i, w).\n",
        "estimate ranges between 0 and 1.\n",
        "'''\n",
        "def predict_probability(feature_matrix, coefficients):\n",
        "    # Take dot product of feature_matrix and coefficients  \n",
        "    # YOUR CODE HERE\n",
        "    scores = np.dot(feature_matrix, coefficients)\n",
        "    \n",
        "    # Compute P(y_i = +1 | x_i, w) using the link function\n",
        "    # YOUR CODE HERE\n",
        "    predictions = 1. / (1 + np.exp(-scores))\n",
        "    \n",
        "    # return predictions\n",
        "    return predictions"
      ],
      "execution_count": null,
      "outputs": []
    },
    {
      "cell_type": "markdown",
      "metadata": {
        "id": "WjWBO4Cu9NSN"
      },
      "source": [
        "**Aside**. How the link function works with matrix algebra\n",
        "\n",
        "Since the word counts are stored as columns in **feature_matrix**, each $i$-th row of the matrix corresponds to the feature vector $h(\\mathbf{x}_i)$:\n",
        "$$\n",
        "[\\text{feature_matrix}] =\n",
        "\\left[\n",
        "\\begin{array}{c}\n",
        "h(\\mathbf{x}_1)^T \\\\\n",
        "h(\\mathbf{x}_2)^T \\\\\n",
        "\\vdots \\\\\n",
        "h(\\mathbf{x}_N)^T\n",
        "\\end{array}\n",
        "\\right] =\n",
        "\\left[\n",
        "\\begin{array}{cccc}\n",
        "h_0(\\mathbf{x}_1) & h_1(\\mathbf{x}_1) & \\cdots & h_D(\\mathbf{x}_1) \\\\\n",
        "h_0(\\mathbf{x}_2) & h_1(\\mathbf{x}_2) & \\cdots & h_D(\\mathbf{x}_2) \\\\\n",
        "\\vdots & \\vdots & \\ddots & \\vdots \\\\\n",
        "h_0(\\mathbf{x}_N) & h_1(\\mathbf{x}_N) & \\cdots & h_D(\\mathbf{x}_N)\n",
        "\\end{array}\n",
        "\\right]\n",
        "$$\n",
        "\n",
        "By the rules of matrix multiplication, the score vector containing elements $\\mathbf{w}^T h(\\mathbf{x}_i)$ is obtained by multiplying **feature_matrix** and the coefficient vector $\\mathbf{w}$.\n",
        "$$\n",
        "[\\text{score}] =\n",
        "[\\text{feature_matrix}]\\mathbf{w} =\n",
        "\\left[\n",
        "\\begin{array}{c}\n",
        "h(\\mathbf{x}_1)^T \\\\\n",
        "h(\\mathbf{x}_2)^T \\\\\n",
        "\\vdots \\\\\n",
        "h(\\mathbf{x}_N)^T\n",
        "\\end{array}\n",
        "\\right]\n",
        "\\mathbf{w}\n",
        "= \\left[\n",
        "\\begin{array}{c}\n",
        "h(\\mathbf{x}_1)^T\\mathbf{w} \\\\\n",
        "h(\\mathbf{x}_2)^T\\mathbf{w} \\\\\n",
        "\\vdots \\\\\n",
        "h(\\mathbf{x}_N)^T\\mathbf{w}\n",
        "\\end{array}\n",
        "\\right]\n",
        "= \\left[\n",
        "\\begin{array}{c}\n",
        "\\mathbf{w}^T h(\\mathbf{x}_1) \\\\\n",
        "\\mathbf{w}^T h(\\mathbf{x}_2) \\\\\n",
        "\\vdots \\\\\n",
        "\\mathbf{w}^T h(\\mathbf{x}_N)\n",
        "\\end{array}\n",
        "\\right]\n",
        "$$"
      ]
    },
    {
      "cell_type": "markdown",
      "metadata": {
        "id": "hKcBG5hJ9NSO"
      },
      "source": [
        "**Checkpoint**\n",
        "\n",
        "Just to make sure you are on the right track, we have provided a few examples. If your `predict_probability` function is implemented correctly, then the outputs will match:"
      ]
    },
    {
      "cell_type": "code",
      "metadata": {
        "colab": {
          "base_uri": "https://localhost:8080/"
        },
        "id": "VyB6DhUY9NSP",
        "outputId": "544aae19-0c25-4c81-89fa-f714e5a980e4"
      },
      "source": [
        "dummy_feature_matrix = np.array([[1.,2.,3.], [1.,-1.,-1]])\n",
        "dummy_coefficients = np.array([1., 3., -1.])\n",
        "\n",
        "correct_scores      = np.array( [ 1.*1. + 2.*3. + 3.*(-1.),          1.*1. + (-1.)*3. + (-1.)*(-1.) ] )\n",
        "correct_predictions = np.array( [ 1./(1+np.exp(-correct_scores[0])), 1./(1+np.exp(-correct_scores[1])) ] )\n",
        "\n",
        "print('The following outputs must match ')\n",
        "print('------------------------------------------------')\n",
        "print('correct_predictions           =', correct_predictions)\n",
        "print('output of predict_probability =', predict_probability(dummy_feature_matrix, dummy_coefficients))"
      ],
      "execution_count": null,
      "outputs": [
        {
          "output_type": "stream",
          "name": "stdout",
          "text": [
            "The following outputs must match \n",
            "------------------------------------------------\n",
            "correct_predictions           = [0.98201379 0.26894142]\n",
            "output of predict_probability = [0.98201379 0.26894142]\n"
          ]
        }
      ]
    },
    {
      "cell_type": "markdown",
      "metadata": {
        "id": "GBwWCXNM9NSQ"
      },
      "source": [
        "## Compute derivative of log likelihood with respect to a single coefficient\n",
        "\n",
        "**11.** Recall from lecture:\n",
        "$$\n",
        "\\frac{\\partial\\ell}{\\partial w_j} = \\sum_{i=1}^N h_j(\\mathbf{x}_i)\\left(\\mathbf{1}[y_i = +1] - P(y_i = +1 | \\mathbf{x}_i, \\mathbf{w})\\right)\n",
        "$$\n",
        "\n",
        "We will now write a function that computes the derivative of log likelihood with respect to a single coefficient $w_j$. The function accepts two arguments:\n",
        "* `errors` vector containing $\\mathbf{1}[y_i = +1] - P(y_i = +1 | \\mathbf{x}_i, \\mathbf{w})$ for all $i$.\n",
        "* `feature` vector containing $h_j(\\mathbf{x}_i)$  for all $i$. \n",
        "\n",
        "Complete the following code block:"
      ]
    },
    {
      "cell_type": "code",
      "metadata": {
        "collapsed": true,
        "id": "9vL7vff19NSQ"
      },
      "source": [
        "def feature_derivative(errors, feature):     \n",
        "    # Compute the dot product of errors and feature\n",
        "    derivative = np.dot(errors, feature)\n",
        "    \n",
        "    # Return the derivative\n",
        "    return derivative"
      ],
      "execution_count": null,
      "outputs": []
    },
    {
      "cell_type": "markdown",
      "metadata": {
        "id": "iTYbWWtI9NSR"
      },
      "source": [
        "**12.** In the main lecture, our focus was on the likelihood.  In the advanced optional video, however, we introduced a transformation of this likelihood---called the log likelihood---that simplifies the derivation of the gradient and is more numerically stable.  Due to its numerical stability, we will use the log likelihood instead of the likelihood to assess the algorithm.\n",
        "\n",
        "The log likelihood is computed using the following formula (see the advanced optional video if you are curious about the derivation of this equation):\n",
        "\n",
        "$$\\ell\\ell(\\mathbf{w}) = \\sum_{i=1}^N \\Big( (\\mathbf{1}[y_i = +1] - 1)\\mathbf{w}^T h(\\mathbf{x}_i) - \\ln\\left(1 + \\exp(-\\mathbf{w}^T h(\\mathbf{x}_i))\\right) \\Big) $$\n",
        "\n",
        "We provide a function to compute the log likelihood for the entire dataset. "
      ]
    },
    {
      "cell_type": "code",
      "metadata": {
        "id": "GErb0PZV9NSS"
      },
      "source": [
        "def compute_log_likelihood(feature_matrix, sentiment, coefficients):\n",
        "    indicator = (sentiment==+1)\n",
        "    scores = np.dot(feature_matrix, coefficients)\n",
        "    logexp = np.log(1. + np.exp(-scores))\n",
        "    \n",
        "    # Simple check to prevent overflow\n",
        "    mask = np.isinf(logexp)\n",
        "    logexp[mask] = -scores[mask]\n",
        "    \n",
        "    lp = np.sum((indicator-1)*scores - logexp)\n",
        "    return lp"
      ],
      "execution_count": null,
      "outputs": []
    },
    {
      "cell_type": "markdown",
      "metadata": {
        "id": "7pYpg7Ex9NST"
      },
      "source": [
        "**Checkpoint**\n",
        "\n",
        "Just to make sure we are on the same page, run the following code block and check that the outputs match."
      ]
    },
    {
      "cell_type": "code",
      "metadata": {
        "colab": {
          "base_uri": "https://localhost:8080/"
        },
        "id": "4s9lyEqo9NST",
        "outputId": "0d385a3c-fb9d-4bd4-d55c-274bf099cc81"
      },
      "source": [
        "dummy_feature_matrix = np.array([[1.,2.,3.], [1.,-1.,-1]])\n",
        "dummy_coefficients = np.array([1., 3., -1.])\n",
        "dummy_sentiment = np.array([-1, 1])\n",
        "\n",
        "correct_indicators  = np.array( [ -1==+1,                                       1==+1 ] )\n",
        "correct_scores      = np.array( [ 1.*1. + 2.*3. + 3.*(-1.),                     1.*1. + (-1.)*3. + (-1.)*(-1.) ] )\n",
        "correct_first_term  = np.array( [ (correct_indicators[0]-1)*correct_scores[0],  (correct_indicators[1]-1)*correct_scores[1] ] )\n",
        "correct_second_term = np.array( [ np.log(1. + np.exp(-correct_scores[0])),      np.log(1. + np.exp(-correct_scores[1])) ] )\n",
        "\n",
        "correct_ll          =      sum( [ correct_first_term[0]-correct_second_term[0], correct_first_term[1]-correct_second_term[1] ] ) \n",
        "\n",
        "print('The following outputs must match ')\n",
        "print('------------------------------------------------')\n",
        "print('correct_log_likelihood           =', correct_ll)\n",
        "print('output of compute_log_likelihood =', compute_log_likelihood(dummy_feature_matrix, dummy_sentiment, dummy_coefficients))"
      ],
      "execution_count": null,
      "outputs": [
        {
          "output_type": "stream",
          "name": "stdout",
          "text": [
            "The following outputs must match \n",
            "------------------------------------------------\n",
            "correct_log_likelihood           = -5.331411615436032\n",
            "output of compute_log_likelihood = -5.331411615436032\n"
          ]
        }
      ]
    },
    {
      "cell_type": "markdown",
      "metadata": {
        "id": "0I80xUoF9NST"
      },
      "source": [
        "## Taking gradient steps"
      ]
    },
    {
      "cell_type": "markdown",
      "metadata": {
        "id": "qksC-YNn9NSU"
      },
      "source": [
        "**13.** Now we are ready to implement our own logistic regression. All we have to do is to write a gradient ascent function that takes gradient steps towards the optimum. \n",
        "\n",
        "Complete the following function to solve the logistic regression model using gradient ascent:"
      ]
    },
    {
      "cell_type": "code",
      "metadata": {
        "id": "FbXrlRxi9NSU"
      },
      "source": [
        "from math import sqrt\n",
        "\n",
        "def logistic_regression(feature_matrix, sentiment, initial_coefficients, step_size, max_iter):\n",
        "    coefficients = np.array(initial_coefficients) # make sure it's a numpy array\n",
        "    for itr in range(max_iter):\n",
        "\n",
        "        # Predict P(y_i = +1|x_i,w) using your predict_probability() function\n",
        "        # YOUR CODE HERE\n",
        "        predictions = predict_probability(feature_matrix, coefficients)\n",
        "        \n",
        "        # Compute indicator value for (y_i = +1)\n",
        "        indicator = (sentiment==+1)\n",
        "        \n",
        "        # Compute the errors as indicator - predictions\n",
        "        errors = indicator - predictions\n",
        "        for j in range(len(coefficients)): # loop over each coefficient\n",
        "            \n",
        "            # Recall that feature_matrix[:,j] is the feature column associated with coefficients[j].\n",
        "            # Compute the derivative for coefficients[j]. Save it in a variable called derivative\n",
        "            # YOUR CODE HERE\n",
        "            derivative = feature_derivative(errors, feature_matrix[:, j])\n",
        "            \n",
        "            # add the step size times the derivative to the current coefficient\n",
        "            ## YOUR CODE HERE\n",
        "            coefficients[j] += step_size * derivative\n",
        "        \n",
        "        # Checking whether log likelihood is increasing\n",
        "        if itr <= 15 or (itr <= 100 and itr % 10 == 0) or (itr <= 1000 and itr % 100 == 0) \\\n",
        "        or (itr <= 10000 and itr % 1000 == 0) or itr % 10000 == 0:\n",
        "            lp = compute_log_likelihood(feature_matrix, sentiment, coefficients)\n",
        "            print('iteration %*d: log likelihood of observed labels = %.8f' % \\\n",
        "                (int(np.ceil(np.log10(max_iter))), itr, lp))\n",
        "    return coefficients"
      ],
      "execution_count": null,
      "outputs": []
    },
    {
      "cell_type": "markdown",
      "metadata": {
        "id": "Efi2peYw9NSU"
      },
      "source": [
        "**14.** Now, let us run the logistic regression solver."
      ]
    },
    {
      "cell_type": "code",
      "metadata": {
        "colab": {
          "base_uri": "https://localhost:8080/"
        },
        "id": "zdI020Wx9NSV",
        "outputId": "93f52efc-3a96-4ec5-e1d9-9097a4aa9ce9"
      },
      "source": [
        "coefficients = logistic_regression(feature_matrix, sentiment, initial_coefficients=np.zeros(194),\n",
        "                                   step_size=1e-7, max_iter=301)"
      ],
      "execution_count": null,
      "outputs": [
        {
          "output_type": "stream",
          "name": "stdout",
          "text": [
            "iteration   0: log likelihood of observed labels = -36780.91768478\n",
            "iteration   1: log likelihood of observed labels = -36775.13434712\n",
            "iteration   2: log likelihood of observed labels = -36769.35713564\n",
            "iteration   3: log likelihood of observed labels = -36763.58603240\n",
            "iteration   4: log likelihood of observed labels = -36757.82101962\n",
            "iteration   5: log likelihood of observed labels = -36752.06207964\n",
            "iteration   6: log likelihood of observed labels = -36746.30919497\n",
            "iteration   7: log likelihood of observed labels = -36740.56234821\n",
            "iteration   8: log likelihood of observed labels = -36734.82152213\n",
            "iteration   9: log likelihood of observed labels = -36729.08669961\n",
            "iteration  10: log likelihood of observed labels = -36723.35786366\n",
            "iteration  11: log likelihood of observed labels = -36717.63499744\n",
            "iteration  12: log likelihood of observed labels = -36711.91808422\n",
            "iteration  13: log likelihood of observed labels = -36706.20710739\n",
            "iteration  14: log likelihood of observed labels = -36700.50205049\n",
            "iteration  15: log likelihood of observed labels = -36694.80289716\n",
            "iteration  20: log likelihood of observed labels = -36666.39512033\n",
            "iteration  30: log likelihood of observed labels = -36610.01327118\n",
            "iteration  40: log likelihood of observed labels = -36554.19728365\n",
            "iteration  50: log likelihood of observed labels = -36498.93316099\n",
            "iteration  60: log likelihood of observed labels = -36444.20783914\n",
            "iteration  70: log likelihood of observed labels = -36390.00909449\n",
            "iteration  80: log likelihood of observed labels = -36336.32546144\n",
            "iteration  90: log likelihood of observed labels = -36283.14615871\n",
            "iteration 100: log likelihood of observed labels = -36230.46102347\n",
            "iteration 200: log likelihood of observed labels = -35728.89418769\n",
            "iteration 300: log likelihood of observed labels = -35268.51212683\n"
          ]
        }
      ]
    },
    {
      "cell_type": "markdown",
      "metadata": {
        "id": "PAQcJVt19NSV"
      },
      "source": [
        "**Quiz Question:** As each iteration of gradient ascent passes, does the log likelihood increase or decrease?"
      ]
    },
    {
      "cell_type": "markdown",
      "metadata": {
        "id": "tKQvk-xX9NSV"
      },
      "source": [
        "## Predicting sentiments"
      ]
    },
    {
      "cell_type": "markdown",
      "metadata": {
        "id": "ZNavypfS9NSW"
      },
      "source": [
        "**15.** Recall from lecture that class predictions for a data point $\\mathbf{x}$ can be computed from the coefficients $\\mathbf{w}$ using the following formula:\n",
        "$$\n",
        "\\hat{y}_i = \n",
        "\\left\\{\n",
        "\\begin{array}{ll}\n",
        "      +1 & \\mathbf{x}_i^T\\mathbf{w} > 0 \\\\\n",
        "      -1 & \\mathbf{x}_i^T\\mathbf{w} \\leq 0 \\\\\n",
        "\\end{array} \n",
        "\\right.\n",
        "$$\n",
        "\n",
        "Now, we will write some code to compute class predictions. We will do this in two steps:\n",
        "* **Step 1**: First compute the **scores** using **feature_matrix** and **coefficients** using a dot product.\n",
        "* **Step 2**: Using the formula above, compute the class predictions from the scores.\n",
        "\n",
        "Step 1 can be implemented as follows:"
      ]
    },
    {
      "cell_type": "code",
      "metadata": {
        "collapsed": true,
        "id": "XC25C_y_9NSX"
      },
      "source": [
        "# Compute the scores as a dot product between feature_matrix and coefficients.\n",
        "scores = np.dot(feature_matrix, coefficients)"
      ],
      "execution_count": null,
      "outputs": []
    },
    {
      "cell_type": "markdown",
      "metadata": {
        "id": "j38SzZ-E9NSY"
      },
      "source": [
        "Now, complete the following code block for **Step 2** to compute the class predictions using the **scores** obtained above:"
      ]
    },
    {
      "cell_type": "code",
      "metadata": {
        "colab": {
          "base_uri": "https://localhost:8080/"
        },
        "id": "oW6jFMR_9NSY",
        "outputId": "f1c0bac7-4f48-4a7e-b038-f07d3e3c7ce3"
      },
      "source": [
        "class_predictions = np.array(turicreate.SArray(scores).apply(lambda x: 1 if x> 0 else -1))\n",
        "class_predictions"
      ],
      "execution_count": null,
      "outputs": [
        {
          "output_type": "execute_result",
          "data": {
            "text/plain": [
              "array([ 1, -1,  1, ..., -1,  1, -1])"
            ]
          },
          "metadata": {},
          "execution_count": 61
        }
      ]
    },
    {
      "cell_type": "markdown",
      "metadata": {
        "id": "GkUw6pwC9NSZ"
      },
      "source": [
        "**Quiz Question:** How many reviews were predicted to have positive sentiment?"
      ]
    },
    {
      "cell_type": "code",
      "metadata": {
        "colab": {
          "base_uri": "https://localhost:8080/"
        },
        "id": "-usMIZCG9NSZ",
        "outputId": "aa2eb95e-a9a4-48d8-98fb-2a3e222d2522"
      },
      "source": [
        "unique, counts = np.unique(class_predictions, return_counts=True)\n",
        "unique, counts"
      ],
      "execution_count": null,
      "outputs": [
        {
          "output_type": "execute_result",
          "data": {
            "text/plain": [
              "(array([-1,  1]), array([27946, 25126]))"
            ]
          },
          "metadata": {},
          "execution_count": 63
        }
      ]
    },
    {
      "cell_type": "code",
      "metadata": {
        "colab": {
          "base_uri": "https://localhost:8080/"
        },
        "id": "YPSu0GwUSEJb",
        "outputId": "79cf0a82-4318-44d6-947d-b76987e1dd56"
      },
      "source": [
        "len(sentiment)"
      ],
      "execution_count": null,
      "outputs": [
        {
          "output_type": "execute_result",
          "data": {
            "text/plain": [
              "53072"
            ]
          },
          "metadata": {},
          "execution_count": 64
        }
      ]
    },
    {
      "cell_type": "markdown",
      "metadata": {
        "id": "Q06K88cH9NSa"
      },
      "source": [
        "## Measuring accuracy\n",
        "\n",
        "**16.** We will now measure the classification accuracy of the model. Recall from the lecture that the classification accuracy can be computed as follows:\n",
        "\n",
        "$$\n",
        "\\mbox{accuracy} = \\frac{\\mbox{# correctly classified data points}}{\\mbox{# total data points}}\n",
        "$$\n",
        "\n",
        "Complete the following code block to compute the accuracy of the model."
      ]
    },
    {
      "cell_type": "code",
      "metadata": {
        "colab": {
          "base_uri": "https://localhost:8080/"
        },
        "id": "Uje33ckj9NSa",
        "outputId": "b3715590-bf02-4f27-9cab-0d32f9e9be8a"
      },
      "source": [
        "num_mistakes = (class_predictions != sentiment).sum() # YOUR CODE HERE\n",
        "num_correct = len(sentiment) - num_mistakes\n",
        "accuracy = num_correct/float(len(sentiment)) # YOUR CODE HERE\n",
        "print(\"-----------------------------------------------------\")\n",
        "print('# Reviews   correctly classified =', len(products) - num_mistakes)\n",
        "print('# Reviews incorrectly classified =', num_mistakes)\n",
        "print('# Reviews total                  =', len(products))\n",
        "print(\"-----------------------------------------------------\")\n",
        "print('Accuracy = %.2f' % accuracy)"
      ],
      "execution_count": null,
      "outputs": [
        {
          "output_type": "stream",
          "name": "stdout",
          "text": [
            "-----------------------------------------------------\n",
            "# Reviews   correctly classified = 39903\n",
            "# Reviews incorrectly classified = 13169\n",
            "# Reviews total                  = 53072\n",
            "-----------------------------------------------------\n",
            "Accuracy = 0.75\n"
          ]
        }
      ]
    },
    {
      "cell_type": "markdown",
      "metadata": {
        "id": "hdWAn2lp9NSb"
      },
      "source": [
        "**Quiz Question**: What is the accuracy of the model on predictions made above? (round to 2 digits of accuracy)"
      ]
    },
    {
      "cell_type": "markdown",
      "metadata": {
        "id": "9JHMhqkd9NSb"
      },
      "source": [
        "## Which words contribute most to positive & negative sentiments?"
      ]
    },
    {
      "cell_type": "markdown",
      "metadata": {
        "id": "XkIErIoo9NSc"
      },
      "source": [
        "**17.** Recall that in Module 2 assignment, we were able to compute the \"**most positive words**\". These are words that correspond most strongly with positive reviews. In order to do this, we will first do the following:\n",
        "* Treat each coefficient as a tuple, i.e. (**word**, **coefficient_value**).\n",
        "* Sort all the (**word**, **coefficient_value**) tuples by **coefficient_value** in descending order."
      ]
    },
    {
      "cell_type": "code",
      "metadata": {
        "scrolled": true,
        "id": "uhUoJ3Ms9NSc"
      },
      "source": [
        "coefficients = list(coefficients[1:]) # exclude intercept\n",
        "word_coefficient_tuples = [(word, coefficient) for word, coefficient in zip(important_words, coefficients)]\n",
        "word_coefficient_tuples = sorted(word_coefficient_tuples, key=lambda x:x[1], reverse=True)"
      ],
      "execution_count": null,
      "outputs": []
    },
    {
      "cell_type": "code",
      "metadata": {
        "colab": {
          "base_uri": "https://localhost:8080/"
        },
        "id": "9grAnwKwSwcT",
        "outputId": "d5ed143f-d9a9-42e6-c5f3-8b2258df0f3f"
      },
      "source": [
        "word_coefficient_tuples[0:5]"
      ],
      "execution_count": null,
      "outputs": [
        {
          "output_type": "execute_result",
          "data": {
            "text/plain": [
              "[('great', 0.0665460841704577),\n",
              " ('love', 0.06589076292212327),\n",
              " ('easy', 0.0647945868025784),\n",
              " ('little', 0.04543562630842137),\n",
              " ('loves', 0.04497640139490604)]"
            ]
          },
          "metadata": {},
          "execution_count": 69
        }
      ]
    },
    {
      "cell_type": "markdown",
      "metadata": {
        "id": "LcP9rMmO9NSe"
      },
      "source": [
        "Now, **word_coefficient_tuples** contains a sorted list of (**word**, **coefficient_value**) tuples. The first 10 elements in this list correspond to the words that are most positive."
      ]
    },
    {
      "cell_type": "markdown",
      "metadata": {
        "id": "ve0Bj-Jo9NSf"
      },
      "source": [
        "### Ten \"most positive\" words\n",
        "\n",
        "**18.** Now, we compute the 10 words that have the most positive coefficient values. These words are associated with positive sentiment."
      ]
    },
    {
      "cell_type": "code",
      "metadata": {
        "colab": {
          "base_uri": "https://localhost:8080/"
        },
        "id": "m8KvwN8z9NSf",
        "outputId": "a53207f2-ae25-4b33-cd19-823f5bf4500f"
      },
      "source": [
        "word_coefficient_tuples[0:10]"
      ],
      "execution_count": null,
      "outputs": [
        {
          "output_type": "execute_result",
          "data": {
            "text/plain": [
              "[('great', 0.0665460841704577),\n",
              " ('love', 0.06589076292212327),\n",
              " ('easy', 0.0647945868025784),\n",
              " ('little', 0.04543562630842137),\n",
              " ('loves', 0.04497640139490604),\n",
              " ('well', 0.030135001092107084),\n",
              " ('perfect', 0.02973993710496846),\n",
              " ('old', 0.020077541034775385),\n",
              " ('nice', 0.018408707995268992),\n",
              " ('daughter', 0.017703199905701694)]"
            ]
          },
          "metadata": {},
          "execution_count": 70
        }
      ]
    },
    {
      "cell_type": "markdown",
      "metadata": {
        "id": "1THSFoIe9NSg"
      },
      "source": [
        "**Quiz Question:** Which word is **not** present in the top 10 \"most positive\" words?\n",
        "\n",
        "- love\n",
        "- easy\n",
        "- great\n",
        "- perfect\n",
        "- cheap"
      ]
    },
    {
      "cell_type": "markdown",
      "metadata": {
        "id": "C_WkZhVz9NSg"
      },
      "source": [
        "### Ten \"most negative\" words\n",
        "\n",
        "**19.** Next, we repeat this exercise on the 10 most negative words.  That is, we compute the 10 words that have the most negative coefficient values. These words are associated with negative sentiment."
      ]
    },
    {
      "cell_type": "code",
      "metadata": {
        "colab": {
          "base_uri": "https://localhost:8080/"
        },
        "id": "9IHkvn--9NSh",
        "outputId": "df950dc9-2b9f-4810-8557-23504bcaa8be"
      },
      "source": [
        "word_coefficient_tuples[-10:]"
      ],
      "execution_count": null,
      "outputs": [
        {
          "output_type": "execute_result",
          "data": {
            "text/plain": [
              "[('monitor', -0.024482100545891717),\n",
              " ('return', -0.026592778462247283),\n",
              " ('back', -0.027742697230661334),\n",
              " ('get', -0.02871155298019258),\n",
              " ('disappointed', -0.028978976142317068),\n",
              " ('even', -0.030051249236035804),\n",
              " ('work', -0.03306951529475273),\n",
              " ('money', -0.038982037286487116),\n",
              " ('product', -0.041511033392108904),\n",
              " ('would', -0.05386014844520314)]"
            ]
          },
          "metadata": {},
          "execution_count": 71
        }
      ]
    },
    {
      "cell_type": "markdown",
      "metadata": {
        "id": "j_Lh173_9NSh"
      },
      "source": [
        "**Quiz Question:** Which word is **not** present in the top 10 \"most negative\" words?\n",
        "\n",
        "- need\n",
        "- work\n",
        "- disappointed\n",
        "- even\n",
        "- return"
      ]
    },
    {
      "cell_type": "code",
      "metadata": {
        "collapsed": true,
        "id": "YcOU1INf9NSh"
      },
      "source": [
        ""
      ],
      "execution_count": null,
      "outputs": []
    }
  ]
}