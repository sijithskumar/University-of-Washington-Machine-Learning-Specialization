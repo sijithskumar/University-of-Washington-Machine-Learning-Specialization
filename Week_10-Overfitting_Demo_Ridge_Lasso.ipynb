{
  "nbformat": 4,
  "nbformat_minor": 0,
  "metadata": {
    "kernelspec": {
      "display_name": "Python 2",
      "language": "python",
      "name": "python2"
    },
    "language_info": {
      "codemirror_mode": {
        "name": "ipython",
        "version": 2
      },
      "file_extension": ".py",
      "mimetype": "text/x-python",
      "name": "python",
      "nbconvert_exporter": "python",
      "pygments_lexer": "ipython2",
      "version": "2.7.15"
    },
    "colab": {
      "name": "Overfitting_Demo_Ridge_Lasso.ipynb",
      "provenance": [],
      "collapsed_sections": [
        "vnljskYG5Twp",
        "60nyJ3wb5Tw5"
      ]
    }
  },
  "cells": [
    {
      "cell_type": "markdown",
      "metadata": {
        "id": "DNpxn6rm5Tv5"
      },
      "source": [
        "# Overfitting demo\n",
        "\n",
        "## Create a dataset based on a true sinusoidal relationship\n",
        "Let's look at a synthetic dataset consisting of 30 points drawn from the sinusoid $y = \\sin(4x)$:"
      ]
    },
    {
      "cell_type": "code",
      "metadata": {
        "colab": {
          "base_uri": "https://localhost:8080/",
          "height": 1000
        },
        "id": "5d8SnWuH5h1C",
        "outputId": "b58dc86d-a48f-41ba-f9eb-eb8a7967fb50"
      },
      "source": [
        "pip install turicreate"
      ],
      "execution_count": null,
      "outputs": [
        {
          "output_type": "stream",
          "text": [
            "Collecting turicreate\n",
            "\u001b[?25l  Downloading https://files.pythonhosted.org/packages/75/38/77a081ce35f012bd4789551db9e5196e766a2641cb05114ded9cc268182c/turicreate-6.4.1-cp27-cp27mu-manylinux1_x86_64.whl (91.9MB)\n",
            "\u001b[K     |████████████████████████████████| 91.9MB 35kB/s \n",
            "\u001b[?25hCollecting pillow>=5.2.0\n",
            "\u001b[?25l  Downloading https://files.pythonhosted.org/packages/12/ad/61f8dfba88c4e56196bf6d056cdbba64dc9c5dfdfbc97d02e6472feed913/Pillow-6.2.2-cp27-cp27mu-manylinux1_x86_64.whl (2.1MB)\n",
            "\u001b[K     |████████████████████████████████| 2.1MB 37.0MB/s \n",
            "\u001b[?25hRequirement already satisfied: numpy in /usr/local/lib/python2.7/dist-packages (from turicreate) (1.16.4)\n",
            "Requirement already satisfied: requests>=2.9.1 in /usr/local/lib/python2.7/dist-packages (from turicreate) (2.23.0)\n",
            "Collecting tensorflow<2.1.0,>=2.0.0\n",
            "\u001b[?25l  Downloading https://files.pythonhosted.org/packages/17/08/1ff15637a03b1565dd6cb0916b3ca6873db3a1fc69be0ed851be936e5633/tensorflow-2.0.0-cp27-cp27mu-manylinux2010_x86_64.whl (86.3MB)\n",
            "\u001b[K     |████████████████████████████████| 86.3MB 34kB/s \n",
            "\u001b[?25hRequirement already satisfied: prettytable==0.7.2 in /usr/local/lib/python2.7/dist-packages (from turicreate) (0.7.2)\n",
            "Collecting llvmlite==0.31.0\n",
            "\u001b[?25l  Downloading https://files.pythonhosted.org/packages/91/07/90cd9cdd43b287960b16dbf7929bff2267dc0b6647e8e0117a4937b19620/llvmlite-0.31.0-cp27-cp27mu-manylinux1_x86_64.whl (20.2MB)\n",
            "\u001b[K     |████████████████████████████████| 20.2MB 1.2MB/s \n",
            "\u001b[?25hRequirement already satisfied: pandas>=0.23.2 in /usr/local/lib/python2.7/dist-packages (from turicreate) (0.24.2)\n",
            "Requirement already satisfied: decorator>=4.0.9 in /usr/local/lib/python2.7/dist-packages (from turicreate) (4.4.0)\n",
            "Requirement already satisfied: scipy>=1.1.0 in /usr/local/lib/python2.7/dist-packages (from turicreate) (1.2.2)\n",
            "Requirement already satisfied: six>=1.10.0 in /usr/local/lib/python2.7/dist-packages (from turicreate) (1.15.0)\n",
            "Requirement already satisfied: resampy==0.2.1 in /usr/local/lib/python2.7/dist-packages (from turicreate) (0.2.1)\n",
            "Requirement already satisfied: numba<0.51.0 in /usr/local/lib/python2.7/dist-packages (from turicreate) (0.40.1)\n",
            "Collecting coremltools==3.3\n",
            "\u001b[?25l  Downloading https://files.pythonhosted.org/packages/46/9b/f6feac5d9369c68ee718d3c3140435452773a36ff08ef3bcc4fe378e8676/coremltools-3.3-cp27-none-manylinux1_x86_64.whl (3.4MB)\n",
            "\u001b[K     |████████████████████████████████| 3.4MB 30.4MB/s \n",
            "\u001b[?25hRequirement already satisfied: urllib3!=1.25.0,!=1.25.1,<1.26,>=1.21.1 in /usr/local/lib/python2.7/dist-packages (from requests>=2.9.1->turicreate) (1.24.3)\n",
            "Requirement already satisfied: chardet<4,>=3.0.2 in /usr/local/lib/python2.7/dist-packages (from requests>=2.9.1->turicreate) (3.0.4)\n",
            "Requirement already satisfied: certifi>=2017.4.17 in /usr/local/lib/python2.7/dist-packages (from requests>=2.9.1->turicreate) (2019.6.16)\n",
            "Requirement already satisfied: idna<3,>=2.5 in /usr/local/lib/python2.7/dist-packages (from requests>=2.9.1->turicreate) (2.8)\n",
            "Requirement already satisfied: gast==0.2.2 in /usr/local/lib/python2.7/dist-packages (from tensorflow<2.1.0,>=2.0.0->turicreate) (0.2.2)\n",
            "Requirement already satisfied: grpcio>=1.8.6 in /usr/local/lib/python2.7/dist-packages (from tensorflow<2.1.0,>=2.0.0->turicreate) (1.15.0)\n",
            "Collecting tensorboard<2.1.0,>=2.0.0\n",
            "\u001b[?25l  Downloading https://files.pythonhosted.org/packages/a7/3d/993131c622ae34f9401a81526853f2310a4834bd042420a7982fb5bc5fd0/tensorboard-2.0.2-py2-none-any.whl (3.8MB)\n",
            "\u001b[K     |████████████████████████████████| 3.8MB 35.0MB/s \n",
            "\u001b[?25hRequirement already satisfied: wrapt>=1.11.1 in /usr/local/lib/python2.7/dist-packages (from tensorflow<2.1.0,>=2.0.0->turicreate) (1.11.2)\n",
            "Requirement already satisfied: protobuf>=3.6.1 in /usr/local/lib/python2.7/dist-packages (from tensorflow<2.1.0,>=2.0.0->turicreate) (3.8.0)\n",
            "Requirement already satisfied: keras-preprocessing>=1.0.5 in /usr/local/lib/python2.7/dist-packages (from tensorflow<2.1.0,>=2.0.0->turicreate) (1.1.0)\n",
            "Requirement already satisfied: backports.weakref>=1.0rc1; python_version < \"3.4\" in /usr/local/lib/python2.7/dist-packages (from tensorflow<2.1.0,>=2.0.0->turicreate) (1.0.post1)\n",
            "Requirement already satisfied: keras-applications>=1.0.8 in /usr/local/lib/python2.7/dist-packages (from tensorflow<2.1.0,>=2.0.0->turicreate) (1.0.8)\n",
            "Requirement already satisfied: wheel in /usr/local/lib/python2.7/dist-packages (from tensorflow<2.1.0,>=2.0.0->turicreate) (0.37.0)\n",
            "Requirement already satisfied: functools32>=3.2.3 in /usr/local/lib/python2.7/dist-packages (from tensorflow<2.1.0,>=2.0.0->turicreate) (3.2.3.post2)\n",
            "Requirement already satisfied: absl-py>=0.7.0 in /usr/local/lib/python2.7/dist-packages (from tensorflow<2.1.0,>=2.0.0->turicreate) (0.7.1)\n",
            "Requirement already satisfied: opt-einsum>=2.3.2 in /usr/local/lib/python2.7/dist-packages (from tensorflow<2.1.0,>=2.0.0->turicreate) (2.3.2)\n",
            "Requirement already satisfied: termcolor>=1.1.0 in /usr/local/lib/python2.7/dist-packages (from tensorflow<2.1.0,>=2.0.0->turicreate) (1.1.0)\n",
            "Requirement already satisfied: enum34>=1.1.6; python_version < \"3.4\" in /usr/local/lib/python2.7/dist-packages (from tensorflow<2.1.0,>=2.0.0->turicreate) (1.1.6)\n",
            "Requirement already satisfied: google-pasta>=0.1.6 in /usr/local/lib/python2.7/dist-packages (from tensorflow<2.1.0,>=2.0.0->turicreate) (0.1.7)\n",
            "Requirement already satisfied: mock>=2.0.0 in /usr/local/lib/python2.7/dist-packages (from tensorflow<2.1.0,>=2.0.0->turicreate) (2.0.0)\n",
            "Collecting tensorflow-estimator<2.1.0,>=2.0.0\n",
            "\u001b[?25l  Downloading https://files.pythonhosted.org/packages/fc/08/8b927337b7019c374719145d1dceba21a8bb909b93b1ad6f8fb7d22c1ca1/tensorflow_estimator-2.0.1-py2.py3-none-any.whl (449kB)\n",
            "\u001b[K     |████████████████████████████████| 450kB 46.5MB/s \n",
            "\u001b[?25hRequirement already satisfied: astor>=0.6.0 in /usr/local/lib/python2.7/dist-packages (from tensorflow<2.1.0,>=2.0.0->turicreate) (0.8.1)\n",
            "Requirement already satisfied: pytz>=2011k in /usr/local/lib/python2.7/dist-packages (from pandas>=0.23.2->turicreate) (2018.9)\n",
            "Requirement already satisfied: python-dateutil>=2.5.0 in /usr/local/lib/python2.7/dist-packages (from pandas>=0.23.2->turicreate) (2.5.3)\n",
            "Requirement already satisfied: funcsigs in /usr/local/lib/python2.7/dist-packages (from numba<0.51.0->turicreate) (1.0.2)\n",
            "Requirement already satisfied: singledispatch in /usr/local/lib/python2.7/dist-packages (from numba<0.51.0->turicreate) (3.4.0.3)\n",
            "Requirement already satisfied: futures>=2.2.0 in /usr/local/lib/python2.7/dist-packages (from grpcio>=1.8.6->tensorflow<2.1.0,>=2.0.0->turicreate) (3.2.0)\n",
            "Requirement already satisfied: setuptools>=41.0.0 in /usr/local/lib/python2.7/dist-packages (from tensorboard<2.1.0,>=2.0.0->tensorflow<2.1.0,>=2.0.0->turicreate) (44.1.1)\n",
            "Collecting google-auth-oauthlib<0.5,>=0.4.1\n",
            "  Downloading https://files.pythonhosted.org/packages/7b/b8/88def36e74bee9fce511c9519571f4e485e890093ab7442284f4ffaef60b/google_auth_oauthlib-0.4.1-py2.py3-none-any.whl\n",
            "Requirement already satisfied: werkzeug>=0.11.15 in /usr/local/lib/python2.7/dist-packages (from tensorboard<2.1.0,>=2.0.0->tensorflow<2.1.0,>=2.0.0->turicreate) (0.15.5)\n",
            "Requirement already satisfied: google-auth<2,>=1.6.3 in /usr/local/lib/python2.7/dist-packages (from tensorboard<2.1.0,>=2.0.0->tensorflow<2.1.0,>=2.0.0->turicreate) (1.35.0)\n",
            "Requirement already satisfied: markdown>=2.6.8 in /usr/local/lib/python2.7/dist-packages (from tensorboard<2.1.0,>=2.0.0->tensorflow<2.1.0,>=2.0.0->turicreate) (3.1.1)\n",
            "Requirement already satisfied: h5py in /usr/local/lib/python2.7/dist-packages (from keras-applications>=1.0.8->tensorflow<2.1.0,>=2.0.0->turicreate) (2.8.0)\n",
            "Requirement already satisfied: pbr>=0.11 in /usr/local/lib/python2.7/dist-packages (from mock>=2.0.0->tensorflow<2.1.0,>=2.0.0->turicreate) (5.4.0)\n",
            "Requirement already satisfied: requests-oauthlib>=0.7.0 in /usr/local/lib/python2.7/dist-packages (from google-auth-oauthlib<0.5,>=0.4.1->tensorboard<2.1.0,>=2.0.0->tensorflow<2.1.0,>=2.0.0->turicreate) (1.2.0)\n",
            "Requirement already satisfied: cachetools<5.0,>=2.0.0 in /usr/local/lib/python2.7/dist-packages (from google-auth<2,>=1.6.3->tensorboard<2.1.0,>=2.0.0->tensorflow<2.1.0,>=2.0.0->turicreate) (3.1.1)\n",
            "Requirement already satisfied: pyasn1-modules>=0.2.1 in /usr/local/lib/python2.7/dist-packages (from google-auth<2,>=1.6.3->tensorboard<2.1.0,>=2.0.0->tensorflow<2.1.0,>=2.0.0->turicreate) (0.2.5)\n",
            "Requirement already satisfied: rsa<4.6; python_version < \"3.6\" in /usr/local/lib/python2.7/dist-packages (from google-auth<2,>=1.6.3->tensorboard<2.1.0,>=2.0.0->tensorflow<2.1.0,>=2.0.0->turicreate) (4.0)\n",
            "Requirement already satisfied: oauthlib>=3.0.0 in /usr/local/lib/python2.7/dist-packages (from requests-oauthlib>=0.7.0->google-auth-oauthlib<0.5,>=0.4.1->tensorboard<2.1.0,>=2.0.0->tensorflow<2.1.0,>=2.0.0->turicreate) (3.0.2)\n",
            "Requirement already satisfied: pyasn1<0.5.0,>=0.4.1 in /usr/local/lib/python2.7/dist-packages (from pyasn1-modules>=0.2.1->google-auth<2,>=1.6.3->tensorboard<2.1.0,>=2.0.0->tensorflow<2.1.0,>=2.0.0->turicreate) (0.4.5)\n",
            "\u001b[31mERROR: fastai 0.7.0 has requirement torch<0.4, but you'll have torch 1.4.0 which is incompatible.\u001b[0m\n",
            "\u001b[31mERROR: tensorboard 2.0.2 has requirement grpcio>=1.24.3, but you'll have grpcio 1.15.0 which is incompatible.\u001b[0m\n",
            "Installing collected packages: pillow, google-auth-oauthlib, tensorboard, tensorflow-estimator, tensorflow, llvmlite, coremltools, turicreate\n",
            "  Found existing installation: Pillow 4.3.0\n",
            "    Uninstalling Pillow-4.3.0:\n",
            "      Successfully uninstalled Pillow-4.3.0\n",
            "  Found existing installation: google-auth-oauthlib 0.4.0\n",
            "    Uninstalling google-auth-oauthlib-0.4.0:\n",
            "      Successfully uninstalled google-auth-oauthlib-0.4.0\n",
            "  Found existing installation: tensorboard 2.1.0\n",
            "    Uninstalling tensorboard-2.1.0:\n",
            "      Successfully uninstalled tensorboard-2.1.0\n",
            "  Found existing installation: tensorflow-estimator 1.15.0\n",
            "    Uninstalling tensorflow-estimator-1.15.0:\n",
            "      Successfully uninstalled tensorflow-estimator-1.15.0\n",
            "  Found existing installation: tensorflow 2.1.0\n",
            "    Uninstalling tensorflow-2.1.0:\n",
            "      Successfully uninstalled tensorflow-2.1.0\n",
            "  Found existing installation: llvmlite 0.29.0\n",
            "    Uninstalling llvmlite-0.29.0:\n",
            "      Successfully uninstalled llvmlite-0.29.0\n",
            "Successfully installed coremltools-3.3 google-auth-oauthlib-0.4.1 llvmlite-0.31.0 pillow-6.2.2 tensorboard-2.0.2 tensorflow-2.0.0 tensorflow-estimator-2.0.1 turicreate-6.4.1\n"
          ],
          "name": "stdout"
        },
        {
          "output_type": "display_data",
          "data": {
            "application/vnd.colab-display-data+json": {
              "pip_warning": {
                "packages": [
                  "PIL"
                ]
              }
            }
          },
          "metadata": {}
        }
      ]
    },
    {
      "cell_type": "code",
      "metadata": {
        "id": "VnaTgCmL5TwC"
      },
      "source": [
        "import turicreate\n",
        "import math\n",
        "import random\n",
        "import numpy\n",
        "from matplotlib import pyplot as plt\n",
        "%matplotlib inline"
      ],
      "execution_count": null,
      "outputs": []
    },
    {
      "cell_type": "markdown",
      "metadata": {
        "id": "pp-iI_Zx5TwG"
      },
      "source": [
        "Create random 30 different values for x in interval [0,1)"
      ]
    },
    {
      "cell_type": "code",
      "metadata": {
        "id": "7m7R0n8B5TwJ"
      },
      "source": [
        "random.seed(98103)\n",
        "n = 30\n",
        "x = turicreate.SArray([random.random() for i in range(n)]).sort()"
      ],
      "execution_count": null,
      "outputs": []
    },
    {
      "cell_type": "markdown",
      "metadata": {
        "id": "__h7KfvJ5TwL"
      },
      "source": [
        "Compute y"
      ]
    },
    {
      "cell_type": "code",
      "metadata": {
        "id": "3L-_IR0G5TwL"
      },
      "source": [
        "y = x.apply(lambda x: math.sin(4*x))"
      ],
      "execution_count": null,
      "outputs": []
    },
    {
      "cell_type": "markdown",
      "metadata": {
        "id": "b_6wHJV_5TwN"
      },
      "source": [
        "Add random Gaussian noise to y"
      ]
    },
    {
      "cell_type": "code",
      "metadata": {
        "id": "Y85Py_er5TwP"
      },
      "source": [
        "random.seed(1)\n",
        "e = turicreate.SArray([random.gauss(0,1.0/3.0) for i in range(n)])\n",
        "y = y + e"
      ],
      "execution_count": null,
      "outputs": []
    },
    {
      "cell_type": "markdown",
      "metadata": {
        "id": "Fn4FJVzq5TwR"
      },
      "source": [
        "### Put data into an SFrame to manipulate later"
      ]
    },
    {
      "cell_type": "code",
      "metadata": {
        "colab": {
          "base_uri": "https://localhost:8080/",
          "height": 279
        },
        "id": "uiBVEqIq5TwU",
        "outputId": "197a9cac-626f-4c10-8372-29cedebe85e3"
      },
      "source": [
        "data = turicreate.SFrame({'X1':x,'Y':y})\n",
        "data"
      ],
      "execution_count": null,
      "outputs": [
        {
          "output_type": "execute_result",
          "data": {
            "text/plain": [
              "Columns:\n",
              "\tX1\tfloat\n",
              "\tY\tfloat\n",
              "\n",
              "Rows: 30\n",
              "\n",
              "Data:\n",
              "+-----------------+----------------+\n",
              "|        X1       |       Y        |\n",
              "+-----------------+----------------+\n",
              "| 0.0395789449501 | 0.587050191026 |\n",
              "| 0.0415680996791 | 0.648655851372 |\n",
              "| 0.0724319480801 | 0.307803309485 |\n",
              "|  0.150289044622 | 0.310748447417 |\n",
              "|  0.161334144502 | 0.237409625496 |\n",
              "|  0.191956312795 | 0.705017157224 |\n",
              "|  0.232833917145 | 0.461716676992 |\n",
              "|  0.259900980166 | 0.383260507851 |\n",
              "|  0.380145814869 | 1.06517691429  |\n",
              "|  0.432444723508 | 1.03184706949  |\n",
              "+-----------------+----------------+\n",
              "[30 rows x 2 columns]\n",
              "Note: Only the head of the SFrame is printed.\n",
              "You can use print_rows(num_rows=m, num_columns=n) to print more rows and columns."
            ],
            "text/html": [
              "<div style=\"max-height:1000px;max-width:1500px;overflow:auto;\"><table frame=\"box\" rules=\"cols\">\n",
              "    <tr>\n",
              "        <th style=\"padding-left: 1em; padding-right: 1em; text-align: center\">X1</th>\n",
              "        <th style=\"padding-left: 1em; padding-right: 1em; text-align: center\">Y</th>\n",
              "    </tr>\n",
              "    <tr>\n",
              "        <td style=\"padding-left: 1em; padding-right: 1em; text-align: center; vertical-align: top\">0.0395789449501</td>\n",
              "        <td style=\"padding-left: 1em; padding-right: 1em; text-align: center; vertical-align: top\">0.587050191026</td>\n",
              "    </tr>\n",
              "    <tr>\n",
              "        <td style=\"padding-left: 1em; padding-right: 1em; text-align: center; vertical-align: top\">0.0415680996791</td>\n",
              "        <td style=\"padding-left: 1em; padding-right: 1em; text-align: center; vertical-align: top\">0.648655851372</td>\n",
              "    </tr>\n",
              "    <tr>\n",
              "        <td style=\"padding-left: 1em; padding-right: 1em; text-align: center; vertical-align: top\">0.0724319480801</td>\n",
              "        <td style=\"padding-left: 1em; padding-right: 1em; text-align: center; vertical-align: top\">0.307803309485</td>\n",
              "    </tr>\n",
              "    <tr>\n",
              "        <td style=\"padding-left: 1em; padding-right: 1em; text-align: center; vertical-align: top\">0.150289044622</td>\n",
              "        <td style=\"padding-left: 1em; padding-right: 1em; text-align: center; vertical-align: top\">0.310748447417</td>\n",
              "    </tr>\n",
              "    <tr>\n",
              "        <td style=\"padding-left: 1em; padding-right: 1em; text-align: center; vertical-align: top\">0.161334144502</td>\n",
              "        <td style=\"padding-left: 1em; padding-right: 1em; text-align: center; vertical-align: top\">0.237409625496</td>\n",
              "    </tr>\n",
              "    <tr>\n",
              "        <td style=\"padding-left: 1em; padding-right: 1em; text-align: center; vertical-align: top\">0.191956312795</td>\n",
              "        <td style=\"padding-left: 1em; padding-right: 1em; text-align: center; vertical-align: top\">0.705017157224</td>\n",
              "    </tr>\n",
              "    <tr>\n",
              "        <td style=\"padding-left: 1em; padding-right: 1em; text-align: center; vertical-align: top\">0.232833917145</td>\n",
              "        <td style=\"padding-left: 1em; padding-right: 1em; text-align: center; vertical-align: top\">0.461716676992</td>\n",
              "    </tr>\n",
              "    <tr>\n",
              "        <td style=\"padding-left: 1em; padding-right: 1em; text-align: center; vertical-align: top\">0.259900980166</td>\n",
              "        <td style=\"padding-left: 1em; padding-right: 1em; text-align: center; vertical-align: top\">0.383260507851</td>\n",
              "    </tr>\n",
              "    <tr>\n",
              "        <td style=\"padding-left: 1em; padding-right: 1em; text-align: center; vertical-align: top\">0.380145814869</td>\n",
              "        <td style=\"padding-left: 1em; padding-right: 1em; text-align: center; vertical-align: top\">1.06517691429</td>\n",
              "    </tr>\n",
              "    <tr>\n",
              "        <td style=\"padding-left: 1em; padding-right: 1em; text-align: center; vertical-align: top\">0.432444723508</td>\n",
              "        <td style=\"padding-left: 1em; padding-right: 1em; text-align: center; vertical-align: top\">1.03184706949</td>\n",
              "    </tr>\n",
              "</table>\n",
              "[30 rows x 2 columns]<br/>Note: Only the head of the SFrame is printed.<br/>You can use print_rows(num_rows=m, num_columns=n) to print more rows and columns.\n",
              "</div>"
            ]
          },
          "metadata": {},
          "execution_count": 5
        }
      ]
    },
    {
      "cell_type": "markdown",
      "metadata": {
        "id": "L8hWRIJo5TwX"
      },
      "source": [
        "### Create a function to plot the data, since we'll do it many times"
      ]
    },
    {
      "cell_type": "code",
      "metadata": {
        "colab": {
          "base_uri": "https://localhost:8080/",
          "height": 283
        },
        "id": "oWDLFJgR5TwY",
        "outputId": "f7f3f800-1c16-4edd-c277-ab4420bcbdf6"
      },
      "source": [
        "def plot_data(data):    \n",
        "    plt.plot(data['X1'],data['Y'],'k.')\n",
        "    plt.xlabel('x')\n",
        "    plt.ylabel('y')\n",
        "\n",
        "plot_data(data)"
      ],
      "execution_count": null,
      "outputs": [
        {
          "output_type": "display_data",
          "data": {
            "image/png": "[encoded data removed]",
            "text/plain": [
              "<Figure size 432x288 with 1 Axes>"
            ]
          },
          "metadata": {
            "needs_background": "light"
          }
        }
      ]
    },
    {
      "cell_type": "markdown",
      "metadata": {
        "id": "gdwuxY8i5TwZ"
      },
      "source": [
        "## Define some useful polynomial regression functions"
      ]
    },
    {
      "cell_type": "markdown",
      "metadata": {
        "id": "lBhzFE1S5Twa"
      },
      "source": [
        "Define a function to create our features for a polynomial regression model of any degree:"
      ]
    },
    {
      "cell_type": "code",
      "metadata": {
        "colab": {
          "base_uri": "https://localhost:8080/",
          "height": 279
        },
        "id": "ssqsou_K5Twb",
        "outputId": "75d82e13-1b01-412c-f7e7-2c85887189e9"
      },
      "source": [
        "def polynomial_features(data, deg):\n",
        "    data_copy=data.copy()\n",
        "    for i in range(1,deg):\n",
        "        data_copy['X'+str(i+1)]=data_copy['X'+str(i)]*data_copy['X1']\n",
        "    return data_copy\n",
        "\n",
        "# Example: Adding columns for x^2 and x^3\n",
        "polynomial_features(data, 3)"
      ],
      "execution_count": null,
      "outputs": [
        {
          "output_type": "execute_result",
          "data": {
            "text/plain": [
              "Columns:\n",
              "\tX1\tfloat\n",
              "\tY\tfloat\n",
              "\tX2\tfloat\n",
              "\tX3\tfloat\n",
              "\n",
              "Rows: 30\n",
              "\n",
              "Data:\n",
              "+-----------------+----------------+------------------+-------------------+\n",
              "|        X1       |       Y        |        X2        |         X3        |\n",
              "+-----------------+----------------+------------------+-------------------+\n",
              "| 0.0395789449501 | 0.587050191026 | 0.00156649288336 | 6.20001355952e-05 |\n",
              "| 0.0415680996791 | 0.648655851372 | 0.00172790691093 | 7.18258067099e-05 |\n",
              "| 0.0724319480801 | 0.307803309485 | 0.00524638710267 | 0.000380006038229 |\n",
              "|  0.150289044622 | 0.310748447417 | 0.0225867969334  |  0.0033945481322  |\n",
              "|  0.161334144502 | 0.237409625496 | 0.0260287061823  |  0.00419931904442 |\n",
              "|  0.191956312795 | 0.705017157224 | 0.0368472260218  |  0.00707305764388 |\n",
              "|  0.232833917145 | 0.461716676992 | 0.0542116329729  |  0.0126223068599  |\n",
              "|  0.259900980166 | 0.383260507851 | 0.0675485194911  |  0.0175559264245  |\n",
              "|  0.380145814869 | 1.06517691429  |  0.144510840562  |  0.0549351912429  |\n",
              "|  0.432444723508 | 1.03184706949  |  0.18700843889   |  0.0808708126494  |\n",
              "+-----------------+----------------+------------------+-------------------+\n",
              "[30 rows x 4 columns]\n",
              "Note: Only the head of the SFrame is printed.\n",
              "You can use print_rows(num_rows=m, num_columns=n) to print more rows and columns."
            ],
            "text/html": [
              "<div style=\"max-height:1000px;max-width:1500px;overflow:auto;\"><table frame=\"box\" rules=\"cols\">\n",
              "    <tr>\n",
              "        <th style=\"padding-left: 1em; padding-right: 1em; text-align: center\">X1</th>\n",
              "        <th style=\"padding-left: 1em; padding-right: 1em; text-align: center\">Y</th>\n",
              "        <th style=\"padding-left: 1em; padding-right: 1em; text-align: center\">X2</th>\n",
              "        <th style=\"padding-left: 1em; padding-right: 1em; text-align: center\">X3</th>\n",
              "    </tr>\n",
              "    <tr>\n",
              "        <td style=\"padding-left: 1em; padding-right: 1em; text-align: center; vertical-align: top\">0.0395789449501</td>\n",
              "        <td style=\"padding-left: 1em; padding-right: 1em; text-align: center; vertical-align: top\">0.587050191026</td>\n",
              "        <td style=\"padding-left: 1em; padding-right: 1em; text-align: center; vertical-align: top\">0.00156649288336</td>\n",
              "        <td style=\"padding-left: 1em; padding-right: 1em; text-align: center; vertical-align: top\">6.20001355952e-05</td>\n",
              "    </tr>\n",
              "    <tr>\n",
              "        <td style=\"padding-left: 1em; padding-right: 1em; text-align: center; vertical-align: top\">0.0415680996791</td>\n",
              "        <td style=\"padding-left: 1em; padding-right: 1em; text-align: center; vertical-align: top\">0.648655851372</td>\n",
              "        <td style=\"padding-left: 1em; padding-right: 1em; text-align: center; vertical-align: top\">0.00172790691093</td>\n",
              "        <td style=\"padding-left: 1em; padding-right: 1em; text-align: center; vertical-align: top\">7.18258067099e-05</td>\n",
              "    </tr>\n",
              "    <tr>\n",
              "        <td style=\"padding-left: 1em; padding-right: 1em; text-align: center; vertical-align: top\">0.0724319480801</td>\n",
              "        <td style=\"padding-left: 1em; padding-right: 1em; text-align: center; vertical-align: top\">0.307803309485</td>\n",
              "        <td style=\"padding-left: 1em; padding-right: 1em; text-align: center; vertical-align: top\">0.00524638710267</td>\n",
              "        <td style=\"padding-left: 1em; padding-right: 1em; text-align: center; vertical-align: top\">0.000380006038229</td>\n",
              "    </tr>\n",
              "    <tr>\n",
              "        <td style=\"padding-left: 1em; padding-right: 1em; text-align: center; vertical-align: top\">0.150289044622</td>\n",
              "        <td style=\"padding-left: 1em; padding-right: 1em; text-align: center; vertical-align: top\">0.310748447417</td>\n",
              "        <td style=\"padding-left: 1em; padding-right: 1em; text-align: center; vertical-align: top\">0.0225867969334</td>\n",
              "        <td style=\"padding-left: 1em; padding-right: 1em; text-align: center; vertical-align: top\">0.0033945481322</td>\n",
              "    </tr>\n",
              "    <tr>\n",
              "        <td style=\"padding-left: 1em; padding-right: 1em; text-align: center; vertical-align: top\">0.161334144502</td>\n",
              "        <td style=\"padding-left: 1em; padding-right: 1em; text-align: center; vertical-align: top\">0.237409625496</td>\n",
              "        <td style=\"padding-left: 1em; padding-right: 1em; text-align: center; vertical-align: top\">0.0260287061823</td>\n",
              "        <td style=\"padding-left: 1em; padding-right: 1em; text-align: center; vertical-align: top\">0.00419931904442</td>\n",
              "    </tr>\n",
              "    <tr>\n",
              "        <td style=\"padding-left: 1em; padding-right: 1em; text-align: center; vertical-align: top\">0.191956312795</td>\n",
              "        <td style=\"padding-left: 1em; padding-right: 1em; text-align: center; vertical-align: top\">0.705017157224</td>\n",
              "        <td style=\"padding-left: 1em; padding-right: 1em; text-align: center; vertical-align: top\">0.0368472260218</td>\n",
              "        <td style=\"padding-left: 1em; padding-right: 1em; text-align: center; vertical-align: top\">0.00707305764388</td>\n",
              "    </tr>\n",
              "    <tr>\n",
              "        <td style=\"padding-left: 1em; padding-right: 1em; text-align: center; vertical-align: top\">0.232833917145</td>\n",
              "        <td style=\"padding-left: 1em; padding-right: 1em; text-align: center; vertical-align: top\">0.461716676992</td>\n",
              "        <td style=\"padding-left: 1em; padding-right: 1em; text-align: center; vertical-align: top\">0.0542116329729</td>\n",
              "        <td style=\"padding-left: 1em; padding-right: 1em; text-align: center; vertical-align: top\">0.0126223068599</td>\n",
              "    </tr>\n",
              "    <tr>\n",
              "        <td style=\"padding-left: 1em; padding-right: 1em; text-align: center; vertical-align: top\">0.259900980166</td>\n",
              "        <td style=\"padding-left: 1em; padding-right: 1em; text-align: center; vertical-align: top\">0.383260507851</td>\n",
              "        <td style=\"padding-left: 1em; padding-right: 1em; text-align: center; vertical-align: top\">0.0675485194911</td>\n",
              "        <td style=\"padding-left: 1em; padding-right: 1em; text-align: center; vertical-align: top\">0.0175559264245</td>\n",
              "    </tr>\n",
              "    <tr>\n",
              "        <td style=\"padding-left: 1em; padding-right: 1em; text-align: center; vertical-align: top\">0.380145814869</td>\n",
              "        <td style=\"padding-left: 1em; padding-right: 1em; text-align: center; vertical-align: top\">1.06517691429</td>\n",
              "        <td style=\"padding-left: 1em; padding-right: 1em; text-align: center; vertical-align: top\">0.144510840562</td>\n",
              "        <td style=\"padding-left: 1em; padding-right: 1em; text-align: center; vertical-align: top\">0.0549351912429</td>\n",
              "    </tr>\n",
              "    <tr>\n",
              "        <td style=\"padding-left: 1em; padding-right: 1em; text-align: center; vertical-align: top\">0.432444723508</td>\n",
              "        <td style=\"padding-left: 1em; padding-right: 1em; text-align: center; vertical-align: top\">1.03184706949</td>\n",
              "        <td style=\"padding-left: 1em; padding-right: 1em; text-align: center; vertical-align: top\">0.18700843889</td>\n",
              "        <td style=\"padding-left: 1em; padding-right: 1em; text-align: center; vertical-align: top\">0.0808708126494</td>\n",
              "    </tr>\n",
              "</table>\n",
              "[30 rows x 4 columns]<br/>Note: Only the head of the SFrame is printed.<br/>You can use print_rows(num_rows=m, num_columns=n) to print more rows and columns.\n",
              "</div>"
            ]
          },
          "metadata": {},
          "execution_count": 7
        }
      ]
    },
    {
      "cell_type": "markdown",
      "metadata": {
        "id": "9PbTJNTg5Twd"
      },
      "source": [
        "Define a function to fit a polynomial linear regression model of degree \"deg\" to the data in \"data\":"
      ]
    },
    {
      "cell_type": "code",
      "metadata": {
        "id": "pup7q7r05Twe"
      },
      "source": [
        "def polynomial_regression(data, deg):\n",
        "    model = turicreate.linear_regression.create(polynomial_features(data,deg), \n",
        "        target='Y', l2_penalty=0., l1_penalty=0.,\n",
        "        validation_set=None, verbose=False)\n",
        "    return model"
      ],
      "execution_count": null,
      "outputs": []
    },
    {
      "cell_type": "markdown",
      "metadata": {
        "id": "K90HElhq5Twe"
      },
      "source": [
        "Define function to plot data and predictions made, since we are going to use it many times."
      ]
    },
    {
      "cell_type": "code",
      "metadata": {
        "id": "cANBRv4r5Twf"
      },
      "source": [
        "def plot_poly_predictions(data, model):\n",
        "    plot_data(data)\n",
        "\n",
        "    # Get the degree of the polynomial\n",
        "    deg = len(model.coefficients['value'])-1\n",
        "    \n",
        "    # Create 200 points in the x axis and compute the predicted value for each point\n",
        "    x_pred = turicreate.SFrame({'X1':[i/200.0 for i in range(200)]})\n",
        "    y_pred = model.predict(polynomial_features(x_pred,deg))\n",
        "    \n",
        "    # plot predictions\n",
        "    plt.plot(x_pred['X1'], y_pred, 'g-', label='degree ' + str(deg) + ' fit')\n",
        "    plt.legend(loc='upper left')\n",
        "    plt.axis([0,1,-1.5,2])"
      ],
      "execution_count": null,
      "outputs": []
    },
    {
      "cell_type": "markdown",
      "metadata": {
        "id": "ZLURI1N55Twf"
      },
      "source": [
        "Create a function that prints the polynomial coefficients in a pretty way :)"
      ]
    },
    {
      "cell_type": "code",
      "metadata": {
        "id": "gF0SluoK5Twg"
      },
      "source": [
        "def print_coefficients(model):    \n",
        "    # Get the degree of the polynomial\n",
        "    deg = len(model.coefficients['value'])-1\n",
        "\n",
        "    # Get learned parameters as a list\n",
        "    w = list(model.coefficients['value'])\n",
        "\n",
        "    # Numpy has a nifty function to print out polynomials in a pretty way\n",
        "    # (We'll use it, but it needs the parameters in the reverse order)\n",
        "    print 'Learned polynomial for degree ' + str(deg) + ':'\n",
        "    w.reverse()\n",
        "    print numpy.poly1d(w)"
      ],
      "execution_count": null,
      "outputs": []
    },
    {
      "cell_type": "markdown",
      "metadata": {
        "id": "Y7jdOM2W5Twh"
      },
      "source": [
        "## Fit a degree-2 polynomial"
      ]
    },
    {
      "cell_type": "markdown",
      "metadata": {
        "id": "oT_JgxqS5Twh"
      },
      "source": [
        "Fit our degree-2 polynomial to the data generated above:"
      ]
    },
    {
      "cell_type": "code",
      "metadata": {
        "id": "5F6wiqKc5Twi"
      },
      "source": [
        "model = polynomial_regression(data, deg=2)"
      ],
      "execution_count": null,
      "outputs": []
    },
    {
      "cell_type": "markdown",
      "metadata": {
        "id": "0VO3LLED5Twi"
      },
      "source": [
        "Inspect learned parameters"
      ]
    },
    {
      "cell_type": "code",
      "metadata": {
        "colab": {
          "base_uri": "https://localhost:8080/"
        },
        "id": "dxDUMNps5Twi",
        "outputId": "c144d4b6-e452-4baa-ecde-3dca087dbfa8"
      },
      "source": [
        "print_coefficients(model)"
      ],
      "execution_count": null,
      "outputs": [
        {
          "output_type": "stream",
          "text": [
            "Learned polynomial for degree 2:\n",
            "        2\n",
            "-5.129 x + 4.147 x + 0.07471\n"
          ],
          "name": "stdout"
        }
      ]
    },
    {
      "cell_type": "markdown",
      "metadata": {
        "id": "GjhFiFQ65Twj"
      },
      "source": [
        "Form and plot our predictions along a grid of x values:"
      ]
    },
    {
      "cell_type": "code",
      "metadata": {
        "colab": {
          "base_uri": "https://localhost:8080/",
          "height": 283
        },
        "id": "kaB9PpEE5Twj",
        "outputId": "1c54e741-5107-4f6f-f3ec-b3cc4f02ef39"
      },
      "source": [
        "plot_poly_predictions(data,model)"
      ],
      "execution_count": null,
      "outputs": [
        {
          "output_type": "display_data",
          "data": {
            "image/png": "[encoded data removed]",
            "text/plain": [
              "<Figure size 432x288 with 1 Axes>"
            ]
          },
          "metadata": {
            "needs_background": "light"
          }
        }
      ]
    },
    {
      "cell_type": "markdown",
      "metadata": {
        "collapsed": true,
        "id": "er3Ifu8m5Twk"
      },
      "source": [
        "## Fit a degree-4 polynomial"
      ]
    },
    {
      "cell_type": "code",
      "metadata": {
        "colab": {
          "base_uri": "https://localhost:8080/",
          "height": 334
        },
        "id": "LTQcOH2x5Twk",
        "outputId": "32a39eef-a48b-4506-c4f5-8a869ecff84c"
      },
      "source": [
        "model = polynomial_regression(data, deg=4)\n",
        "print_coefficients(model)\n",
        "plot_poly_predictions(data,model)"
      ],
      "execution_count": null,
      "outputs": [
        {
          "output_type": "stream",
          "text": [
            "Learned polynomial for degree 4:\n",
            "       4         3         2\n",
            "23.87 x - 53.82 x + 35.23 x - 6.828 x + 0.7755\n"
          ],
          "name": "stdout"
        },
        {
          "output_type": "display_data",
          "data": {
            "image/png": "[encoded data removed]",
            "text/plain": [
              "<Figure size 432x288 with 1 Axes>"
            ]
          },
          "metadata": {
            "needs_background": "light"
          }
        }
      ]
    },
    {
      "cell_type": "markdown",
      "metadata": {
        "id": "OChYSaeU5Twl"
      },
      "source": [
        "## Fit a degree-16 polynomial"
      ]
    },
    {
      "cell_type": "code",
      "metadata": {
        "colab": {
          "base_uri": "https://localhost:8080/"
        },
        "id": "yz49PTpC5Twm",
        "outputId": "7d869b4c-d3ce-49a0-85d7-9da5245ed73e"
      },
      "source": [
        "model = polynomial_regression(data, deg=16)\n",
        "print_coefficients(model)"
      ],
      "execution_count": null,
      "outputs": [
        {
          "output_type": "stream",
          "text": [
            "Learned polynomial for degree 16:\n",
            "            16             15             14             13\n",
            "-2.004e+06 x  + 6.675e+06 x  - 3.762e+06 x  - 1.185e+07 x \n",
            "              12             11             10             9\n",
            " + 1.946e+07 x  - 5.332e+06 x  - 1.012e+07 x  + 9.083e+06 x\n",
            "              8             7             6             5             4\n",
            " - 7.702e+05 x - 2.731e+06 x + 1.844e+06 x - 5.951e+05 x + 1.138e+05 x\n",
            "              3        2\n",
            " - 1.412e+04 x + 1227 x - 70.96 x + 2.171\n"
          ],
          "name": "stdout"
        }
      ]
    },
    {
      "cell_type": "markdown",
      "metadata": {
        "id": "X6FR1glz5Twn"
      },
      "source": [
        "### Woah!!!!  Those coefficients are *crazy*!  On the order of 10^6."
      ]
    },
    {
      "cell_type": "code",
      "metadata": {
        "colab": {
          "base_uri": "https://localhost:8080/",
          "height": 283
        },
        "id": "hilNXdeb5Two",
        "outputId": "4964c77c-c919-4378-f466-c925feaab79a"
      },
      "source": [
        "plot_poly_predictions(data,model)"
      ],
      "execution_count": null,
      "outputs": [
        {
          "output_type": "display_data",
          "data": {
            "image/png": "[encoded data removed]",
            "text/plain": [
              "<Figure size 432x288 with 1 Axes>"
            ]
          },
          "metadata": {
            "needs_background": "light"
          }
        }
      ]
    },
    {
      "cell_type": "markdown",
      "metadata": {
        "id": "vnljskYG5Twp"
      },
      "source": [
        "### Above: Fit looks pretty wild, too.  Here's a clear example of how overfitting is associated with very large magnitude estimated coefficients."
      ]
    },
    {
      "cell_type": "markdown",
      "metadata": {
        "collapsed": true,
        "id": "KE0R5uRz5Twp"
      },
      "source": [
        "# Ridge Regression"
      ]
    },
    {
      "cell_type": "markdown",
      "metadata": {
        "id": "Cyr8_Q7I5Twp"
      },
      "source": [
        "Ridge regression aims to avoid overfitting by adding a cost to the RSS term of standard least squares that depends on the 2-norm of the coefficients $\\|w\\|$.  The result is penalizing fits with large coefficients.  The strength of this penalty, and thus the fit vs. model complexity balance, is controled by a parameter lambda (here called \"L2_penalty\")."
      ]
    },
    {
      "cell_type": "markdown",
      "metadata": {
        "id": "hJpRqJiM5Twp"
      },
      "source": [
        "Define our function to solve the ridge objective for a polynomial regression model of any degree:"
      ]
    },
    {
      "cell_type": "code",
      "metadata": {
        "id": "OuSL_FBT5Twq"
      },
      "source": [
        "def polynomial_ridge_regression(data, deg, l2_penalty):\n",
        "    model = turicreate.linear_regression.create(polynomial_features(data,deg), \n",
        "                                                target='Y',\n",
        "                                                l2_penalty=l2_penalty,\n",
        "                                                validation_set=None,verbose=False)\n",
        "    return model"
      ],
      "execution_count": null,
      "outputs": []
    },
    {
      "cell_type": "markdown",
      "metadata": {
        "id": "v1gspuBU5Twq"
      },
      "source": [
        "## Perform a ridge fit of a degree-16 polynomial using a *very* small penalty strength"
      ]
    },
    {
      "cell_type": "code",
      "metadata": {
        "colab": {
          "base_uri": "https://localhost:8080/"
        },
        "id": "ENITyEm05Twr",
        "outputId": "4b00d28e-abf6-4625-fd14-9a531283189d"
      },
      "source": [
        "model = polynomial_ridge_regression(data, deg=16, l2_penalty=1e-25)\n",
        "print_coefficients(model)"
      ],
      "execution_count": null,
      "outputs": [
        {
          "output_type": "stream",
          "text": [
            "Learned polynomial for degree 16:\n",
            "            16             15             14             13\n",
            "-2.004e+06 x  + 6.675e+06 x  - 3.762e+06 x  - 1.185e+07 x \n",
            "              12             11             10             9\n",
            " + 1.946e+07 x  - 5.332e+06 x  - 1.012e+07 x  + 9.083e+06 x\n",
            "              8             7             6             5             4\n",
            " - 7.702e+05 x - 2.731e+06 x + 1.844e+06 x - 5.951e+05 x + 1.138e+05 x\n",
            "              3        2\n",
            " - 1.412e+04 x + 1227 x - 70.96 x + 2.171\n"
          ],
          "name": "stdout"
        }
      ]
    },
    {
      "cell_type": "code",
      "metadata": {
        "colab": {
          "base_uri": "https://localhost:8080/",
          "height": 283
        },
        "id": "hp0NFWAG5Twt",
        "outputId": "a14275ed-703a-46be-c061-1f3ef59ef6e0"
      },
      "source": [
        "plot_poly_predictions(data,model)"
      ],
      "execution_count": null,
      "outputs": [
        {
          "output_type": "display_data",
          "data": {
            "image/png": "[encoded data removed]",
            "text/plain": [
              "<Figure size 432x288 with 1 Axes>"
            ]
          },
          "metadata": {
            "needs_background": "light"
          }
        }
      ]
    },
    {
      "cell_type": "markdown",
      "metadata": {
        "id": "4sPABgQW5Twv"
      },
      "source": [
        "## Perform a ridge fit of a degree-16 polynomial using a very large penalty strength"
      ]
    },
    {
      "cell_type": "code",
      "metadata": {
        "colab": {
          "base_uri": "https://localhost:8080/"
        },
        "id": "jflwjBJG5Twv",
        "outputId": "85a383e4-8d52-4545-f15d-35ae0fdef0cb"
      },
      "source": [
        "model = polynomial_ridge_regression(data, deg=16, l2_penalty=100)\n",
        "print_coefficients(model)"
      ],
      "execution_count": null,
      "outputs": [
        {
          "output_type": "stream",
          "text": [
            "Learned polynomial for degree 16:\n",
            "        16          15          14          13          12         11\n",
            "-0.301 x  - 0.2802 x  - 0.2604 x  - 0.2413 x  - 0.2229 x  - 0.205 x \n",
            "           10          9          8          7          6           5\n",
            " - 0.1874 x  - 0.1699 x - 0.1524 x - 0.1344 x - 0.1156 x - 0.09534 x\n",
            "            4           3           2\n",
            " - 0.07304 x - 0.04842 x - 0.02284 x - 0.002257 x + 0.6416\n"
          ],
          "name": "stdout"
        }
      ]
    },
    {
      "cell_type": "code",
      "metadata": {
        "colab": {
          "base_uri": "https://localhost:8080/",
          "height": 283
        },
        "id": "u5J4jGP85Tww",
        "outputId": "fd2b5ea5-4578-447a-afb1-017eed6465b1"
      },
      "source": [
        "plot_poly_predictions(data,model)"
      ],
      "execution_count": null,
      "outputs": [
        {
          "output_type": "display_data",
          "data": {
            "image/png": "[encoded data removed]",
            "text/plain": [
              "<Figure size 432x288 with 1 Axes>"
            ]
          },
          "metadata": {
            "needs_background": "light"
          }
        }
      ]
    },
    {
      "cell_type": "markdown",
      "metadata": {
        "id": "FYi_Gb425Tww"
      },
      "source": [
        "## Let's look at fits for a sequence of increasing lambda values"
      ]
    },
    {
      "cell_type": "code",
      "metadata": {
        "scrolled": false,
        "colab": {
          "base_uri": "https://localhost:8080/",
          "height": 1000
        },
        "id": "bnPqphSI5Twx",
        "outputId": "a07b4cef-1ee0-4614-882f-57fc03fa7d9a"
      },
      "source": [
        "for l2_penalty in [1e-25, 1e-10, 1e-6, 1e-3, 1e2]:\n",
        "    model = polynomial_ridge_regression(data, deg=16, l2_penalty=l2_penalty)\n",
        "    print 'lambda = %.2e' % l2_penalty\n",
        "    print_coefficients(model)\n",
        "    print '\\n'\n",
        "    plt.figure()\n",
        "    plot_poly_predictions(data,model)\n",
        "    plt.title('Ridge, lambda = %.2e' % l2_penalty)"
      ],
      "execution_count": null,
      "outputs": [
        {
          "output_type": "stream",
          "text": [
            "lambda = 1.00e-25\n",
            "Learned polynomial for degree 16:\n",
            "            16             15             14             13\n",
            "-2.004e+06 x  + 6.675e+06 x  - 3.762e+06 x  - 1.185e+07 x \n",
            "              12             11             10             9\n",
            " + 1.946e+07 x  - 5.332e+06 x  - 1.012e+07 x  + 9.083e+06 x\n",
            "              8             7             6             5             4\n",
            " - 7.702e+05 x - 2.731e+06 x + 1.844e+06 x - 5.951e+05 x + 1.138e+05 x\n",
            "              3        2\n",
            " - 1.412e+04 x + 1227 x - 70.96 x + 2.171\n",
            "\n",
            "\n",
            "lambda = 1.00e-10\n",
            "Learned polynomial for degree 16:\n",
            "           16             15             14            13\n",
            "4.975e+04 x  - 7.821e+04 x  - 2.265e+04 x  + 3.95e+04 x \n",
            "              12        11             10             9             8\n",
            " + 4.365e+04 x  + 3077 x  - 3.332e+04 x  - 2.786e+04 x + 1.033e+04 x\n",
            "              7        6             5             4        3         2\n",
            " + 2.962e+04 x - 1441 x - 2.597e+04 x + 1.839e+04 x - 5596 x + 866.1 x - 65.19 x + 2.159\n",
            "\n",
            "\n",
            "lambda = 1.00e-06\n",
            "Learned polynomial for degree 16:\n",
            "       16         15         14        13         12         11\n",
            "329.1 x  - 356.4 x  - 264.2 x  + 33.8 x  + 224.7 x  + 210.8 x \n",
            "          10         9       8         7         6         5         4\n",
            " + 49.62 x  - 122.4 x - 178 x - 79.13 x + 84.89 x + 144.9 x + 5.123 x\n",
            "          3         2\n",
            " - 156.9 x + 88.21 x - 14.82 x + 1.059\n",
            "\n",
            "\n",
            "lambda = 1.00e-03\n",
            "Learned polynomial for degree 16:\n",
            "       16         15         14         13         12          11\n",
            "6.364 x  - 1.596 x  - 4.807 x  - 4.778 x  - 2.776 x  + 0.1238 x \n",
            "          10         9         8         7          6         5\n",
            " + 2.977 x  + 4.926 x + 5.203 x + 3.248 x - 0.9291 x - 6.011 x\n",
            "          4         3         2\n",
            " - 8.395 x - 2.655 x + 9.861 x - 2.225 x + 0.5636\n",
            "\n",
            "\n",
            "lambda = 1.00e+02\n",
            "Learned polynomial for degree 16:\n",
            "        16          15          14          13          12         11\n",
            "-0.301 x  - 0.2802 x  - 0.2604 x  - 0.2413 x  - 0.2229 x  - 0.205 x \n",
            "           10          9          8          7          6           5\n",
            " - 0.1874 x  - 0.1699 x - 0.1524 x - 0.1344 x - 0.1156 x - 0.09534 x\n",
            "            4           3           2\n",
            " - 0.07304 x - 0.04842 x - 0.02284 x - 0.002257 x + 0.6416\n",
            "\n",
            "\n"
          ],
          "name": "stdout"
        },
        {
          "output_type": "display_data",
          "data": {
            "image/png": "[encoded data removed]",
            "text/plain": [
              "<Figure size 432x288 with 1 Axes>"
            ]
          },
          "metadata": {
            "needs_background": "light"
          }
        },
        {
          "output_type": "display_data",
          "data": {
            "image/png": "[encoded data removed]",
            "text/plain": [
              "<Figure size 432x288 with 1 Axes>"
            ]
          },
          "metadata": {
            "needs_background": "light"
          }
        },
        {
          "output_type": "display_data",
          "data": {
            "image/png": "[encoded data removed]",
            "text/plain": [
              "<Figure size 432x288 with 1 Axes>"
            ]
          },
          "metadata": {
            "needs_background": "light"
          }
        },
        {
          "output_type": "display_data",
          "data": {
            "image/png": "[encoded data removed]",
            "text/plain": [
              "<Figure size 432x288 with 1 Axes>"
            ]
          },
          "metadata": {
            "needs_background": "light"
          }
        },
        {
          "output_type": "display_data",
          "data": {
            "image/png": "[encoded data removed]",
            "text/plain": [
              "<Figure size 432x288 with 1 Axes>"
            ]
          },
          "metadata": {
            "needs_background": "light"
          }
        }
      ]
    },
    {
      "cell_type": "markdown",
      "metadata": {
        "id": "j09UrAP65Twy"
      },
      "source": [
        "## Perform a ridge fit of a degree-16 polynomial using a \"good\" penalty strength"
      ]
    },
    {
      "cell_type": "markdown",
      "metadata": {
        "id": "6vjwI5ww5Twy"
      },
      "source": [
        "We will learn about cross validation later in this course as a way to select a good value of the tuning parameter (penalty strength) lambda.  Here, we consider \"leave one out\" (LOO) cross validation, which one can show approximates average mean square error (MSE).  As a result, choosing lambda to minimize the LOO error is equivalent to choosing lambda to minimize an approximation to average MSE.\n",
        "\n",
        "_Note:_ For applying cross-validation, we will import a package called `turicreate_cross_validation`."
      ]
    },
    {
      "cell_type": "markdown",
      "metadata": {
        "id": "_FNst2R5KO2y"
      },
      "source": [
        "# The next set of code didnt run. Error:\n",
        "\n"
      ]
    },
    {
      "cell_type": "code",
      "metadata": {
        "colab": {
          "base_uri": "https://localhost:8080/"
        },
        "id": "WXwsxfZhKcOV",
        "outputId": "dd142ff9-b8b6-4308-a80f-14ecb6fb8d98"
      },
      "source": [
        "# The next set of code didnt run. \n",
        "# ImportError: No module named turicreate_cross_validation.cross_validation\n",
        "\n",
        "# ---------------------------------------------------------------------------\n",
        "# NOTE: If your import is failing due to a missing package, you can\n",
        "# manually install dependencies using either !pip or !apt.\n",
        "\n",
        "# To view examples of installing some common dependencies, click the\n",
        "# \"Open Examples\" button below.\n",
        "\n",
        "# So I clicked \"Open Examples\" and then installing these below libraries and will\n",
        "# try to run the next set of codes again\n",
        "\n",
        "!pip install matplotlib-venn\n",
        "\n",
        "!apt-get -qq install -y libfluidsynth1\n",
        "\n",
        "# https://pypi.python.org/pypi/libarchive    # Install 7zip reader libarchive\n",
        "!apt-get -qq install -y libarchive-dev && pip install -U libarchive\n",
        "import libarchive\n",
        "\n",
        "# https://pypi.python.org/pypi/pydot    # Install GraphViz & PyDot\n",
        "!apt-get -qq install -y graphviz && pip install pydot\n",
        "import pydot\n",
        "\n",
        "!pip install cartopy\n",
        "import cartopy\n",
        "\n",
        "### even after doing teh above the next set of codes didnt run. So will google about teh error to find the soution"
      ],
      "execution_count": null,
      "outputs": [
        {
          "output_type": "stream",
          "text": [
            "Requirement already satisfied: matplotlib-venn in /usr/local/lib/python2.7/dist-packages (0.11.5)\n",
            "Requirement already satisfied: scipy in /usr/local/lib/python2.7/dist-packages (from matplotlib-venn) (1.2.2)\n",
            "Requirement already satisfied: numpy in /usr/local/lib/python2.7/dist-packages (from matplotlib-venn) (1.16.4)\n",
            "Requirement already satisfied: matplotlib in /usr/local/lib/python2.7/dist-packages (from matplotlib-venn) (2.2.4)\n",
            "Requirement already satisfied: cycler>=0.10 in /usr/local/lib/python2.7/dist-packages (from matplotlib->matplotlib-venn) (0.10.0)\n",
            "Requirement already satisfied: backports.functools-lru-cache in /usr/local/lib/python2.7/dist-packages (from matplotlib->matplotlib-venn) (1.5)\n",
            "Requirement already satisfied: subprocess32 in /usr/local/lib/python2.7/dist-packages (from matplotlib->matplotlib-venn) (3.5.4)\n",
            "Requirement already satisfied: kiwisolver>=1.0.1 in /usr/local/lib/python2.7/dist-packages (from matplotlib->matplotlib-venn) (1.1.0)\n",
            "Requirement already satisfied: pytz in /usr/local/lib/python2.7/dist-packages (from matplotlib->matplotlib-venn) (2018.9)\n",
            "Requirement already satisfied: six>=1.10 in /usr/local/lib/python2.7/dist-packages (from matplotlib->matplotlib-venn) (1.15.0)\n",
            "Requirement already satisfied: python-dateutil>=2.1 in /usr/local/lib/python2.7/dist-packages (from matplotlib->matplotlib-venn) (2.5.3)\n",
            "Requirement already satisfied: pyparsing!=2.0.4,!=2.1.2,!=2.1.6,>=2.0.1 in /usr/local/lib/python2.7/dist-packages (from matplotlib->matplotlib-venn) (2.4.0)\n",
            "Requirement already satisfied: setuptools in /usr/local/lib/python2.7/dist-packages (from kiwisolver>=1.0.1->matplotlib->matplotlib-venn) (44.1.1)\n",
            "Selecting previously unselected package libfluidsynth1:amd64.\n",
            "(Reading database ... 148486 files and directories currently installed.)\n",
            "Preparing to unpack .../libfluidsynth1_1.1.9-1_amd64.deb ...\n",
            "Unpacking libfluidsynth1:amd64 (1.1.9-1) ...\n",
            "Setting up libfluidsynth1:amd64 (1.1.9-1) ...\n",
            "Processing triggers for libc-bin (2.27-3ubuntu1.2) ...\n",
            "/sbin/ldconfig.real: /usr/local/lib/python3.7/dist-packages/ideep4py/lib/libmkldnn.so.0 is not a symbolic link\n",
            "\n",
            "Selecting previously unselected package libarchive-dev:amd64.\n",
            "(Reading database ... 148491 files and directories currently installed.)\n",
            "Preparing to unpack .../libarchive-dev_3.2.2-3.1ubuntu0.7_amd64.deb ...\n",
            "Unpacking libarchive-dev:amd64 (3.2.2-3.1ubuntu0.7) ...\n",
            "Setting up libarchive-dev:amd64 (3.2.2-3.1ubuntu0.7) ...\n",
            "Processing triggers for man-db (2.8.3-2ubuntu0.1) ...\n",
            "Collecting libarchive\n",
            "  Downloading https://files.pythonhosted.org/packages/bf/d4/26f5c9835d4d648e4f22b5fb91288457698e928aaf9d4ab7eff405b7ef03/libarchive-0.4.7.tar.gz\n",
            "Requirement already satisfied, skipping upgrade: nose in /usr/local/lib/python2.7/dist-packages (from libarchive) (1.3.7)\n",
            "Building wheels for collected packages: libarchive\n",
            "  Building wheel for libarchive (setup.py) ... \u001b[?25l\u001b[?25hdone\n",
            "  Created wheel for libarchive: filename=libarchive-0.4.7-cp27-none-any.whl size=31633 sha256=e808743f55bae71ad5f9cd3f8d97f206fc68815ef5ee382a321b710827b8e3de\n",
            "  Stored in directory: /root/.cache/pip/wheels/3b/5c/fa/92ee330d259e8fa5bedbd53f67040710fe81cfa463b8711d26\n",
            "Successfully built libarchive\n",
            "Installing collected packages: libarchive\n",
            "Successfully installed libarchive-0.4.7\n",
            "Requirement already satisfied: pydot in /usr/local/lib/python2.7/dist-packages (1.3.0)\n",
            "Requirement already satisfied: pyparsing>=2.1.4 in /usr/local/lib/python2.7/dist-packages (from pydot) (2.4.0)\n",
            "Collecting cartopy\n",
            "\u001b[?25l  Downloading https://files.pythonhosted.org/packages/46/c1/04e50c9986842f00f7db0e7a65caa896840050d7328f74e5b7437aa01179/Cartopy-0.18.0.tar.gz (14.4MB)\n",
            "\u001b[K     |████████████████████████████████| 14.4MB 200kB/s \n",
            "\u001b[?25hRequirement already satisfied: numpy>=1.10 in /usr/local/lib/python2.7/dist-packages (from cartopy) (1.16.4)\n",
            "Requirement already satisfied: shapely>=1.5.6 in /usr/local/lib/python2.7/dist-packages (from cartopy) (1.6.4.post2)\n",
            "Collecting pyshp>=1.1.4\n",
            "\u001b[?25l  Downloading https://files.pythonhosted.org/packages/38/85/fbf87e7aa55103e0d06af756bdbc15cf821fa580414c23142d60a35d4f85/pyshp-2.1.3.tar.gz (219kB)\n",
            "\u001b[K     |████████████████████████████████| 225kB 56.4MB/s \n",
            "\u001b[?25hRequirement already satisfied: six>=1.3.0 in /usr/local/lib/python2.7/dist-packages (from cartopy) (1.15.0)\n",
            "Requirement already satisfied: setuptools>=0.7.2 in /usr/local/lib/python2.7/dist-packages (from cartopy) (44.1.1)\n",
            "Requirement already satisfied: futures in /usr/local/lib/python2.7/dist-packages (from cartopy) (3.2.0)\n",
            "Building wheels for collected packages: cartopy, pyshp\n",
            "  Building wheel for cartopy (setup.py) ... \u001b[?25l\u001b[?25hdone\n",
            "  Created wheel for cartopy: filename=Cartopy-0.18.0-cp27-cp27mu-linux_x86_64.whl size=14657572 sha256=a4dc6c68ba0d8bbc9da1cf38767a756c9a870e1259c1270da5225f5ac5649ef7\n",
            "  Stored in directory: /root/.cache/pip/wheels/8d/f8/da/2c05136f2162370d2baec85bfbbf91d7729ab9e248da878acd\n",
            "  Building wheel for pyshp (setup.py) ... \u001b[?25l\u001b[?25hdone\n",
            "  Created wheel for pyshp: filename=pyshp-2.1.3-cp27-none-any.whl size=37265 sha256=8ad1b22c4b4edf6d1d4c7fd3c8682f0b5a03f1b1b4b92c62f9bc649e71d2384e\n",
            "  Stored in directory: /root/.cache/pip/wheels/76/2b/d4/53e6b9a0fb0a9f9f29664cf82605af8bc81d5ab44d987896dd\n",
            "Successfully built cartopy pyshp\n",
            "Installing collected packages: pyshp, cartopy\n",
            "Successfully installed cartopy-0.18.0 pyshp-2.1.3\n"
          ],
          "name": "stdout"
        }
      ]
    },
    {
      "cell_type": "code",
      "metadata": {
        "colab": {
          "base_uri": "https://localhost:8080/"
        },
        "id": "GQAY6sVeNO9M",
        "outputId": "078f9822-d984-42e4-ac3a-64b06a017941"
      },
      "source": [
        "# so under the discussion for I searched for \"No module named turicreate_cross_validation.cross_validation\"\n",
        "# and there were couple of them asking the same questions and some of them have answers as well.\n",
        "# Im going to try the code that I feel is the leaset complex first\n",
        "\n",
        "#pip install -e git+https://github.com/Kagandi/turicreate-cross-validation.git #egg=turicreate_cross_validation\n",
        "# didnt work\n",
        "\n",
        "#### Copy Pasted teh discussion forum ####\n",
        "#### \"Note: For applying cross-validation, we will import a package called turicreate_cross_validation. To install it, please run this command on your terminal:\n",
        "#### pip install -e git+https://github.com/Kagandi/turicreate-cross-validation.git#egg=turicreate_cross_validation\n",
        "#### You can find the documentation on this package here: https://github.com/Kagandi/turicreate-cross-validation\" \n",
        "#### I did not bother to install the full package; one file is sufficient. Download it into the directory where your notebook is running with \n",
        "#### !wget https://github.com/Kagandi/turicreate-cross-validation/raw/master/turicreate_cross_validation/cross_validation.py\n",
        "####  then modify the import in the notebook like this:\n",
        "#### #import turicreate_cross_validation.cross_validation as tcv\n",
        "#### import cross_validation as tcv\n",
        "\n",
        "\n",
        "!wget https://github.com/Kagandi/turicreate-cross-validation/raw/master/turicreate_cross_validation/cross_validation.py"
      ],
      "execution_count": null,
      "outputs": [
        {
          "output_type": "stream",
          "text": [
            "--2021-08-22 00:18:56--  https://github.com/Kagandi/turicreate-cross-validation/raw/master/turicreate_cross_validation/cross_validation.py\n",
            "Resolving github.com (github.com)... 192.30.255.113\n",
            "Connecting to github.com (github.com)|192.30.255.113|:443... connected.\n",
            "HTTP request sent, awaiting response... 302 Found\n",
            "Location: https://raw.githubusercontent.com/Kagandi/turicreate-cross-validation/master/turicreate_cross_validation/cross_validation.py [following]\n",
            "--2021-08-22 00:18:56--  https://raw.githubusercontent.com/Kagandi/turicreate-cross-validation/master/turicreate_cross_validation/cross_validation.py\n",
            "Resolving raw.githubusercontent.com (raw.githubusercontent.com)... 185.199.108.133, 185.199.109.133, 185.199.110.133, ...\n",
            "Connecting to raw.githubusercontent.com (raw.githubusercontent.com)|185.199.108.133|:443... connected.\n",
            "HTTP request sent, awaiting response... 200 OK\n",
            "Length: 8286 (8.1K) [text/plain]\n",
            "Saving to: ‘cross_validation.py’\n",
            "\n",
            "cross_validation.py 100%[===================>]   8.09K  --.-KB/s    in 0s      \n",
            "\n",
            "2021-08-22 00:18:56 (65.2 MB/s) - ‘cross_validation.py’ saved [8286/8286]\n",
            "\n"
          ],
          "name": "stdout"
        }
      ]
    },
    {
      "cell_type": "code",
      "metadata": {
        "id": "MBEU7erZ5Twy"
      },
      "source": [
        "# import turicreate_cross_validation.cross_validation as tcv\n",
        "# hashed out the above code and using the below as someone suggested to do after the last line of teh previous code that seemed to work.\n",
        "\n",
        "import cross_validation as tcv\n",
        "\n",
        "# LOO cross validation -- return the average MSE\n",
        "def loo(data, deg, l2_penalty_values):\n",
        "    # Create polynomial features\n",
        "    data = polynomial_features(data, deg)\n",
        "    \n",
        "    # Create as many folds for cross validatation as number of data points\n",
        "    num_folds = len(data)\n",
        "    shuffled_data = tcv.shuffle_sframe(data, 98103)\n",
        "    folds_iterator = tcv.KFold(shuffled_data, num_folds)\n",
        "    folds = [f for f in folds_iterator]\n",
        "    \n",
        "    # for each value of l2_penalty, fit a model for each fold and compute average MSE\n",
        "    l2_penalty_mse = []\n",
        "    min_mse = None\n",
        "    best_l2_penalty = None\n",
        "    for l2_penalty in l2_penalty_values:\n",
        "        next_mse = 0.0\n",
        "        for train_set, validation_set in folds:\n",
        "            # train model\n",
        "            model = turicreate.linear_regression.create(train_set,target='Y', \n",
        "                                                        l2_penalty=l2_penalty,\n",
        "                                                        validation_set=None,verbose=False)\n",
        "            \n",
        "            # predict on validation set \n",
        "            y_test_predicted = model.predict(validation_set)\n",
        "            # compute squared error\n",
        "            next_mse += ((y_test_predicted-validation_set['Y'])**2).sum()\n",
        "            #print \"   Error so far:\", next_mse\n",
        "        # save squared error in list of MSE for each l2_penalty\n",
        "        next_mse = next_mse/num_folds\n",
        "        l2_penalty_mse.append(next_mse)\n",
        "        if min_mse is None or next_mse < min_mse:\n",
        "            min_mse = next_mse\n",
        "            best_l2_penalty = l2_penalty\n",
        "            \n",
        "    return l2_penalty_mse,best_l2_penalty"
      ],
      "execution_count": null,
      "outputs": []
    },
    {
      "cell_type": "markdown",
      "metadata": {
        "id": "TdQCUpcq5Twz"
      },
      "source": [
        "Run LOO cross validation for \"num\" values of lambda, on a log scale"
      ]
    },
    {
      "cell_type": "code",
      "metadata": {
        "id": "vwWvEOWc5Twz"
      },
      "source": [
        "l2_penalty_values = numpy.logspace(-4, 10, num=10)\n",
        "l2_penalty_mse,best_l2_penalty = loo(data, 16, l2_penalty_values)"
      ],
      "execution_count": null,
      "outputs": []
    },
    {
      "cell_type": "markdown",
      "metadata": {
        "id": "fOIFeU3X5Twz"
      },
      "source": [
        "Plot results of estimating LOO for each value of lambda"
      ]
    },
    {
      "cell_type": "code",
      "metadata": {
        "colab": {
          "base_uri": "https://localhost:8080/",
          "height": 291
        },
        "id": "LpxSJdrq5Tw0",
        "outputId": "58596cfc-73af-483f-8c23-41d50f4b9245"
      },
      "source": [
        "plt.plot(l2_penalty_values,l2_penalty_mse,'k-')\n",
        "plt.xlabel('$\\ell_2$ penalty')\n",
        "plt.ylabel('LOO cross validation error')\n",
        "plt.xscale('log')\n",
        "plt.yscale('log')"
      ],
      "execution_count": null,
      "outputs": [
        {
          "output_type": "display_data",
          "data": {
            "image/png": "[encoded data removed]",
            "text/plain": [
              "<Figure size 432x288 with 1 Axes>"
            ]
          },
          "metadata": {
            "needs_background": "light"
          }
        }
      ]
    },
    {
      "cell_type": "markdown",
      "metadata": {
        "id": "1kxWtaOw5Tw0"
      },
      "source": [
        "Find the value of lambda, $\\lambda_{\\mathrm{CV}}$, that minimizes the LOO cross validation error, and plot resulting fit"
      ]
    },
    {
      "cell_type": "code",
      "metadata": {
        "colab": {
          "base_uri": "https://localhost:8080/"
        },
        "id": "yyeo0ZtI5Tw1",
        "outputId": "2e9f239d-730e-42f2-f65d-d01b7cc72672"
      },
      "source": [
        "best_l2_penalty"
      ],
      "execution_count": null,
      "outputs": [
        {
          "output_type": "execute_result",
          "data": {
            "text/plain": [
              "0.1291549665014884"
            ]
          },
          "metadata": {},
          "execution_count": 37
        }
      ]
    },
    {
      "cell_type": "code",
      "metadata": {
        "colab": {
          "base_uri": "https://localhost:8080/"
        },
        "id": "PLOZBS_S5Tw1",
        "outputId": "c51c5601-a96b-4dfa-fc2b-b884ae403b71"
      },
      "source": [
        "model = polynomial_ridge_regression(data, deg=16, l2_penalty=best_l2_penalty)\n",
        "print_coefficients(model)"
      ],
      "execution_count": null,
      "outputs": [
        {
          "output_type": "stream",
          "text": [
            "Learned polynomial for degree 16:\n",
            "       16         15          14          13          12           11\n",
            "1.345 x  + 1.141 x  + 0.9069 x  + 0.6447 x  + 0.3569 x  + 0.04947 x \n",
            "           10          9          8         7         6         5\n",
            " - 0.2683 x  - 0.5821 x - 0.8701 x - 1.099 x - 1.216 x - 1.145 x\n",
            "           4           3          2\n",
            " - 0.7837 x - 0.07406 x + 0.7614 x + 0.7703 x + 0.3918\n"
          ],
          "name": "stdout"
        }
      ]
    },
    {
      "cell_type": "code",
      "metadata": {
        "colab": {
          "base_uri": "https://localhost:8080/",
          "height": 283
        },
        "id": "Ym44hJNc5Tw2",
        "outputId": "e9e91838-0986-4f75-d7d2-2b3f57fac7a8"
      },
      "source": [
        "plot_poly_predictions(data,model)"
      ],
      "execution_count": null,
      "outputs": [
        {
          "output_type": "display_data",
          "data": {
            "image/png": "[encoded data removed]",
            "text/plain": [
              "<Figure size 432x288 with 1 Axes>"
            ]
          },
          "metadata": {
            "needs_background": "light"
          }
        }
      ]
    },
    {
      "cell_type": "markdown",
      "metadata": {
        "collapsed": true,
        "id": "EA4JWSLu5Tw2"
      },
      "source": [
        "# Lasso Regression"
      ]
    },
    {
      "cell_type": "markdown",
      "metadata": {
        "id": "pSWu53y25Tw3"
      },
      "source": [
        "Lasso regression jointly shrinks coefficients to avoid overfitting, and implicitly performs feature selection by setting some coefficients exactly to 0 for sufficiently large penalty strength lambda (here called \"L1_penalty\").  In particular, lasso takes the RSS term of standard least squares and adds a 1-norm cost of the coefficients $\\|w\\|$."
      ]
    },
    {
      "cell_type": "markdown",
      "metadata": {
        "id": "XuauBfVb5Tw4"
      },
      "source": [
        "Define our function to solve the lasso objective for a polynomial regression model of any degree:"
      ]
    },
    {
      "cell_type": "code",
      "metadata": {
        "id": "8bxnhDnj5Tw4"
      },
      "source": [
        "def polynomial_lasso_regression(data, deg, l1_penalty):\n",
        "    model = turicreate.linear_regression.create(polynomial_features(data,deg), \n",
        "                                                target='Y', l2_penalty=0.,\n",
        "                                                l1_penalty=l1_penalty,\n",
        "                                                validation_set=None, \n",
        "                                                solver='fista', verbose=False,\n",
        "                                                max_iterations=3000, convergence_threshold=1e-10)\n",
        "    return model"
      ],
      "execution_count": null,
      "outputs": []
    },
    {
      "cell_type": "markdown",
      "metadata": {
        "id": "60nyJ3wb5Tw5"
      },
      "source": [
        "## Explore the lasso solution as a function of a few different penalty strengths"
      ]
    },
    {
      "cell_type": "markdown",
      "metadata": {
        "id": "LUcIPoJe5Tw6"
      },
      "source": [
        "We refer to lambda in the lasso case below as \"l1_penalty\""
      ]
    },
    {
      "cell_type": "code",
      "metadata": {
        "scrolled": false,
        "id": "d8bcX5rq5Tw6",
        "outputId": "67a58f0a-6651-4e34-8152-33f408deeb8f"
      },
      "source": [
        "for l1_penalty in [0.0001, 0.01, 0.1, 10]:\n",
        "    model = polynomial_lasso_regression(data, deg=16, l1_penalty=l1_penalty)\n",
        "    print 'l1_penalty = %e' % l1_penalty\n",
        "    print 'number of nonzeros = %d' % (model.coefficients['value']).nnz()\n",
        "    print_coefficients(model)\n",
        "    print '\\n'\n",
        "    plt.figure()\n",
        "    plot_poly_predictions(data,model)\n",
        "    plt.title('LASSO, lambda = %.2e, # nonzeros = %d' % (l1_penalty, (model.coefficients['value']).nnz()))"
      ],
      "execution_count": null,
      "outputs": [
        {
          "name": "stdout",
          "output_type": "stream",
          "text": [
            "l1_penalty = 1.000000e-04\n",
            "number of nonzeros = 17\n",
            "Learned polynomial for degree 16:\n",
            "       16        15         14         13         12         11\n",
            "29.02 x  + 1.35 x  - 12.72 x  - 16.93 x  - 13.82 x  - 6.698 x \n",
            "          10         9         8         7         6         5\n",
            " + 1.407 x  + 8.939 x + 12.88 x + 11.44 x + 3.759 x - 8.062 x\n",
            "          4         3         2\n",
            " - 16.28 x - 7.682 x + 17.86 x - 4.384 x + 0.685\n",
            "\n",
            "\n",
            "l1_penalty = 1.000000e-02\n",
            "number of nonzeros = 14\n",
            "Learned polynomial for degree 16:\n",
            "       16            15           11          10         9          8\n",
            "-1.18 x  - 0.001315 x  + 0.08748 x  + 0.7389 x  + 3.829 x + 0.4761 x\n",
            "           7            6          5         4             3         2\n",
            " + 0.1283 x + 0.001661 x - 0.6151 x - 10.11 x - 0.0003721 x + 6.686 x - 1.28 x + 0.5056\n",
            "\n",
            "\n",
            "l1_penalty = 1.000000e-01\n",
            "number of nonzeros = 5\n",
            "Learned polynomial for degree 16:\n",
            "       16          6        5\n",
            "2.153 x  - 0.7958 x - 3.14 x + 1.224 x + 0.3459\n",
            "\n",
            "\n",
            "l1_penalty = 1.000000e+01\n",
            "number of nonzeros = 2\n",
            "Learned polynomial for degree 16:\n",
            "        9\n",
            "-1.527 x + 0.5758\n",
            "\n",
            "\n"
          ]
        },
        {
          "data": {
            "image/png": "[encoded data removed]",
            "text/plain": [
              "<Figure size 432x288 with 1 Axes>"
            ]
          },
          "metadata": {
            "needs_background": "light"
          },
          "output_type": "display_data"
        },
        {
          "data": {
            "image/png": "[encoded data removed]",
            "text/plain": [
              "<Figure size 432x288 with 1 Axes>"
            ]
          },
          "metadata": {
            "needs_background": "light"
          },
          "output_type": "display_data"
        },
        {
          "data": {
            "image/png": "[encoded data removed]",
            "text/plain": [
              "<Figure size 432x288 with 1 Axes>"
            ]
          },
          "metadata": {
            "needs_background": "light"
          },
          "output_type": "display_data"
        },
        {
          "data": {
            "image/png": "[encoded data removed]",
            "text/plain": [
              "<Figure size 432x288 with 1 Axes>"
            ]
          },
          "metadata": {
            "needs_background": "light"
          },
          "output_type": "display_data"
        }
      ]
    },
    {
      "cell_type": "markdown",
      "metadata": {
        "collapsed": true,
        "id": "ACu6pOth5Tw7"
      },
      "source": [
        "Above: We see that as lambda increases, we get sparser and sparser solutions.  However, even for our non-sparse case for lambda=0.0001, the fit of our high-order polynomial is not too wild.  This is because, like in ridge, coefficients included in the lasso solution are shrunk relative to those of the least squares (unregularized) solution.  This leads to better behavior even without sparsity.  Of course, as lambda goes to 0, the amount of this shrinkage decreases and the lasso solution approaches the (wild) least squares solution."
      ]
    },
    {
      "cell_type": "code",
      "metadata": {
        "id": "0ckEgXZ85Tw7"
      },
      "source": [
        ""
      ],
      "execution_count": null,
      "outputs": []
    },
    {
      "cell_type": "code",
      "metadata": {
        "id": "6oHBSkit5Tw8"
      },
      "source": [
        ""
      ],
      "execution_count": null,
      "outputs": []
    }
  ]
}