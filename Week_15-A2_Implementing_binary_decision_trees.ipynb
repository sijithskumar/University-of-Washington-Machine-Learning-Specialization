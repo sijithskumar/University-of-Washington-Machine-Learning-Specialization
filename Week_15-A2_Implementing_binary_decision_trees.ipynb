{
  "nbformat": 4,
  "nbformat_minor": 0,
  "metadata": {
    "kernelspec": {
      "display_name": "Python 3",
      "language": "python",
      "name": "python3"
    },
    "language_info": {
      "codemirror_mode": {
        "name": "ipython",
        "version": 3
      },
      "file_extension": ".py",
      "mimetype": "text/x-python",
      "name": "python",
      "nbconvert_exporter": "python",
      "pygments_lexer": "ipython3",
      "version": "3.6.0"
    },
    "colab": {
      "name": "A2_Implementing binary decision trees_CLA05-NB02.ipynb",
      "provenance": []
    }
  },
  "cells": [
    {
      "cell_type": "markdown",
      "metadata": {
        "id": "AXlyRmlZj6Qv"
      },
      "source": [
        "## Implementing binary decision trees"
      ]
    },
    {
      "cell_type": "markdown",
      "metadata": {
        "id": "JlkSIE-sj6Q-"
      },
      "source": [
        "The goal of this notebook is to implement your own binary decision tree classifier. You will:\n",
        "    \n",
        "* Use SFrames to do some feature engineering.\n",
        "* Transform categorical variables into binary variables.\n",
        "* Write a function to compute the number of misclassified examples in an intermediate node.\n",
        "* Write a function to find the best feature to split on.\n",
        "* Build a binary decision tree from scratch.\n",
        "* Make predictions using the decision tree.\n",
        "* Evaluate the accuracy of the decision tree.\n",
        "* Visualize the decision at the root node.\n",
        "\n",
        "**Important Note**: In this assignment, we will focus on building decision trees where the data contain **only binary (0 or 1) features**. This allows us to avoid dealing with:\n",
        "* Multiple intermediate nodes in a split\n",
        "* The thresholding issues of real-valued features.\n",
        "\n",
        "This assignment **may be challenging**, so brace yourself :)"
      ]
    },
    {
      "cell_type": "markdown",
      "metadata": {
        "id": "vOpehuO9j6RD"
      },
      "source": [
        "# Fire up Turi Create"
      ]
    },
    {
      "cell_type": "markdown",
      "metadata": {
        "id": "rkomGfW8j6RF"
      },
      "source": [
        "Make sure you have the latest version of Turi Create."
      ]
    },
    {
      "cell_type": "code",
      "metadata": {
        "colab": {
          "base_uri": "https://localhost:8080/",
          "height": 1000
        },
        "id": "WKXG3iSjj__U",
        "outputId": "e5212f5f-a107-42fe-8879-4e7048496572"
      },
      "source": [
        "pip install turicreate"
      ],
      "execution_count": null,
      "outputs": [
        {
          "output_type": "stream",
          "name": "stdout",
          "text": [
            "Collecting turicreate\n",
            "  Downloading turicreate-6.4.1-cp37-cp37m-manylinux1_x86_64.whl (92.0 MB)\n",
            "\u001b[K     |████████████████████████████████| 92.0 MB 5.7 kB/s \n",
            "\u001b[?25hRequirement already satisfied: numpy in /usr/local/lib/python3.7/dist-packages (from turicreate) (1.19.5)\n",
            "Requirement already satisfied: six>=1.10.0 in /usr/local/lib/python3.7/dist-packages (from turicreate) (1.15.0)\n",
            "Collecting numba<0.51.0\n",
            "  Downloading numba-0.50.1-cp37-cp37m-manylinux2014_x86_64.whl (3.6 MB)\n",
            "\u001b[K     |████████████████████████████████| 3.6 MB 58.6 MB/s \n",
            "\u001b[?25hRequirement already satisfied: decorator>=4.0.9 in /usr/local/lib/python3.7/dist-packages (from turicreate) (4.4.2)\n",
            "Collecting resampy==0.2.1\n",
            "  Downloading resampy-0.2.1.tar.gz (322 kB)\n",
            "\u001b[K     |████████████████████████████████| 322 kB 49.2 MB/s \n",
            "\u001b[?25hRequirement already satisfied: requests>=2.9.1 in /usr/local/lib/python3.7/dist-packages (from turicreate) (2.23.0)\n",
            "Requirement already satisfied: scipy>=1.1.0 in /usr/local/lib/python3.7/dist-packages (from turicreate) (1.4.1)\n",
            "Collecting coremltools==3.3\n",
            "  Downloading coremltools-3.3-cp37-none-manylinux1_x86_64.whl (3.5 MB)\n",
            "\u001b[K     |████████████████████████████████| 3.5 MB 65.5 MB/s \n",
            "\u001b[?25hCollecting tensorflow<2.1.0,>=2.0.0\n",
            "  Downloading tensorflow-2.0.4-cp37-cp37m-manylinux2010_x86_64.whl (86.4 MB)\n",
            "\u001b[K     |████████████████████████████████| 86.4 MB 28 kB/s \n",
            "\u001b[?25hRequirement already satisfied: pandas>=0.23.2 in /usr/local/lib/python3.7/dist-packages (from turicreate) (1.1.5)\n",
            "Requirement already satisfied: pillow>=5.2.0 in /usr/local/lib/python3.7/dist-packages (from turicreate) (7.1.2)\n",
            "Collecting prettytable==0.7.2\n",
            "  Downloading prettytable-0.7.2.zip (28 kB)\n",
            "Requirement already satisfied: protobuf>=3.1.0 in /usr/local/lib/python3.7/dist-packages (from coremltools==3.3->turicreate) (3.17.3)\n",
            "Collecting llvmlite<0.34,>=0.33.0.dev0\n",
            "  Downloading llvmlite-0.33.0-cp37-cp37m-manylinux1_x86_64.whl (18.3 MB)\n",
            "\u001b[K     |████████████████████████████████| 18.3 MB 1.2 MB/s \n",
            "\u001b[?25hRequirement already satisfied: setuptools in /usr/local/lib/python3.7/dist-packages (from numba<0.51.0->turicreate) (57.4.0)\n",
            "Requirement already satisfied: python-dateutil>=2.7.3 in /usr/local/lib/python3.7/dist-packages (from pandas>=0.23.2->turicreate) (2.8.2)\n",
            "Requirement already satisfied: pytz>=2017.2 in /usr/local/lib/python3.7/dist-packages (from pandas>=0.23.2->turicreate) (2018.9)\n",
            "Requirement already satisfied: idna<3,>=2.5 in /usr/local/lib/python3.7/dist-packages (from requests>=2.9.1->turicreate) (2.10)\n",
            "Requirement already satisfied: chardet<4,>=3.0.2 in /usr/local/lib/python3.7/dist-packages (from requests>=2.9.1->turicreate) (3.0.4)\n",
            "Requirement already satisfied: urllib3!=1.25.0,!=1.25.1,<1.26,>=1.21.1 in /usr/local/lib/python3.7/dist-packages (from requests>=2.9.1->turicreate) (1.24.3)\n",
            "Requirement already satisfied: certifi>=2017.4.17 in /usr/local/lib/python3.7/dist-packages (from requests>=2.9.1->turicreate) (2021.5.30)\n",
            "Requirement already satisfied: google-pasta>=0.1.6 in /usr/local/lib/python3.7/dist-packages (from tensorflow<2.1.0,>=2.0.0->turicreate) (0.2.0)\n",
            "Collecting tensorflow-estimator<2.1.0,>=2.0.0\n",
            "  Downloading tensorflow_estimator-2.0.1-py2.py3-none-any.whl (449 kB)\n",
            "\u001b[K     |████████████████████████████████| 449 kB 90.1 MB/s \n",
            "\u001b[?25hRequirement already satisfied: termcolor>=1.1.0 in /usr/local/lib/python3.7/dist-packages (from tensorflow<2.1.0,>=2.0.0->turicreate) (1.1.0)\n",
            "Requirement already satisfied: keras-preprocessing>=1.0.5 in /usr/local/lib/python3.7/dist-packages (from tensorflow<2.1.0,>=2.0.0->turicreate) (1.1.2)\n",
            "Requirement already satisfied: grpcio>=1.8.6 in /usr/local/lib/python3.7/dist-packages (from tensorflow<2.1.0,>=2.0.0->turicreate) (1.39.0)\n",
            "Requirement already satisfied: wrapt>=1.11.1 in /usr/local/lib/python3.7/dist-packages (from tensorflow<2.1.0,>=2.0.0->turicreate) (1.12.1)\n",
            "Requirement already satisfied: opt-einsum>=2.3.2 in /usr/local/lib/python3.7/dist-packages (from tensorflow<2.1.0,>=2.0.0->turicreate) (3.3.0)\n",
            "Collecting h5py<=2.10.0\n",
            "  Downloading h5py-2.10.0-cp37-cp37m-manylinux1_x86_64.whl (2.9 MB)\n",
            "\u001b[K     |████████████████████████████████| 2.9 MB 64.3 MB/s \n",
            "\u001b[?25hRequirement already satisfied: wheel>=0.26 in /usr/local/lib/python3.7/dist-packages (from tensorflow<2.1.0,>=2.0.0->turicreate) (0.37.0)\n",
            "Collecting tensorboard<2.1.0,>=2.0.0\n",
            "  Downloading tensorboard-2.0.2-py3-none-any.whl (3.8 MB)\n",
            "\u001b[K     |████████████████████████████████| 3.8 MB 65.4 MB/s \n",
            "\u001b[?25hRequirement already satisfied: absl-py>=0.7.0 in /usr/local/lib/python3.7/dist-packages (from tensorflow<2.1.0,>=2.0.0->turicreate) (0.12.0)\n",
            "Requirement already satisfied: astor>=0.6.0 in /usr/local/lib/python3.7/dist-packages (from tensorflow<2.1.0,>=2.0.0->turicreate) (0.8.1)\n",
            "Collecting gast==0.2.2\n",
            "  Downloading gast-0.2.2.tar.gz (10 kB)\n",
            "Collecting keras-applications>=1.0.8\n",
            "  Downloading Keras_Applications-1.0.8-py3-none-any.whl (50 kB)\n",
            "\u001b[K     |████████████████████████████████| 50 kB 4.8 MB/s \n",
            "\u001b[?25hCollecting numpy\n",
            "  Downloading numpy-1.18.5-cp37-cp37m-manylinux1_x86_64.whl (20.1 MB)\n",
            "\u001b[K     |████████████████████████████████| 20.1 MB 1.1 MB/s \n",
            "\u001b[?25hRequirement already satisfied: markdown>=2.6.8 in /usr/local/lib/python3.7/dist-packages (from tensorboard<2.1.0,>=2.0.0->tensorflow<2.1.0,>=2.0.0->turicreate) (3.3.4)\n",
            "Requirement already satisfied: werkzeug>=0.11.15 in /usr/local/lib/python3.7/dist-packages (from tensorboard<2.1.0,>=2.0.0->tensorflow<2.1.0,>=2.0.0->turicreate) (1.0.1)\n",
            "Requirement already satisfied: google-auth-oauthlib<0.5,>=0.4.1 in /usr/local/lib/python3.7/dist-packages (from tensorboard<2.1.0,>=2.0.0->tensorflow<2.1.0,>=2.0.0->turicreate) (0.4.5)\n",
            "Requirement already satisfied: google-auth<2,>=1.6.3 in /usr/local/lib/python3.7/dist-packages (from tensorboard<2.1.0,>=2.0.0->tensorflow<2.1.0,>=2.0.0->turicreate) (1.34.0)\n",
            "Requirement already satisfied: rsa<5,>=3.1.4 in /usr/local/lib/python3.7/dist-packages (from google-auth<2,>=1.6.3->tensorboard<2.1.0,>=2.0.0->tensorflow<2.1.0,>=2.0.0->turicreate) (4.7.2)\n",
            "Requirement already satisfied: cachetools<5.0,>=2.0.0 in /usr/local/lib/python3.7/dist-packages (from google-auth<2,>=1.6.3->tensorboard<2.1.0,>=2.0.0->tensorflow<2.1.0,>=2.0.0->turicreate) (4.2.2)\n",
            "Requirement already satisfied: pyasn1-modules>=0.2.1 in /usr/local/lib/python3.7/dist-packages (from google-auth<2,>=1.6.3->tensorboard<2.1.0,>=2.0.0->tensorflow<2.1.0,>=2.0.0->turicreate) (0.2.8)\n",
            "Requirement already satisfied: requests-oauthlib>=0.7.0 in /usr/local/lib/python3.7/dist-packages (from google-auth-oauthlib<0.5,>=0.4.1->tensorboard<2.1.0,>=2.0.0->tensorflow<2.1.0,>=2.0.0->turicreate) (1.3.0)\n",
            "Requirement already satisfied: importlib-metadata in /usr/local/lib/python3.7/dist-packages (from markdown>=2.6.8->tensorboard<2.1.0,>=2.0.0->tensorflow<2.1.0,>=2.0.0->turicreate) (4.6.4)\n",
            "Requirement already satisfied: pyasn1<0.5.0,>=0.4.6 in /usr/local/lib/python3.7/dist-packages (from pyasn1-modules>=0.2.1->google-auth<2,>=1.6.3->tensorboard<2.1.0,>=2.0.0->tensorflow<2.1.0,>=2.0.0->turicreate) (0.4.8)\n",
            "Requirement already satisfied: oauthlib>=3.0.0 in /usr/local/lib/python3.7/dist-packages (from requests-oauthlib>=0.7.0->google-auth-oauthlib<0.5,>=0.4.1->tensorboard<2.1.0,>=2.0.0->tensorflow<2.1.0,>=2.0.0->turicreate) (3.1.1)\n",
            "Requirement already satisfied: typing-extensions>=3.6.4 in /usr/local/lib/python3.7/dist-packages (from importlib-metadata->markdown>=2.6.8->tensorboard<2.1.0,>=2.0.0->tensorflow<2.1.0,>=2.0.0->turicreate) (3.7.4.3)\n",
            "Requirement already satisfied: zipp>=0.5 in /usr/local/lib/python3.7/dist-packages (from importlib-metadata->markdown>=2.6.8->tensorboard<2.1.0,>=2.0.0->tensorflow<2.1.0,>=2.0.0->turicreate) (3.5.0)\n",
            "Building wheels for collected packages: prettytable, resampy, gast\n",
            "  Building wheel for prettytable (setup.py) ... \u001b[?25l\u001b[?25hdone\n",
            "  Created wheel for prettytable: filename=prettytable-0.7.2-py3-none-any.whl size=13714 sha256=44607199a50c4ac03b7eeea5253164c6d189d6cefe8608ae88084f2e8a4cbfa0\n",
            "  Stored in directory: /root/.cache/pip/wheels/b2/7f/f6/f180315b584f00445045ff1699b550fa895d09471337ce21c6\n",
            "  Building wheel for resampy (setup.py) ... \u001b[?25l\u001b[?25hdone\n",
            "  Created wheel for resampy: filename=resampy-0.2.1-py3-none-any.whl size=320860 sha256=326768a1543dac59c3393359b2b6eee2101a2c4ec355361b8de660b754535db0\n",
            "  Stored in directory: /root/.cache/pip/wheels/71/74/53/d5ceb7c5ee7a168c7d106041863e71ac3273f4a4677743a284\n",
            "  Building wheel for gast (setup.py) ... \u001b[?25l\u001b[?25hdone\n",
            "  Created wheel for gast: filename=gast-0.2.2-py3-none-any.whl size=7554 sha256=0afe5d5cf6d7389e8a50dd425a90658732a5039ad8bec543e12842e34209a767\n",
            "  Stored in directory: /root/.cache/pip/wheels/21/7f/02/420f32a803f7d0967b48dd823da3f558c5166991bfd204eef3\n",
            "Successfully built prettytable resampy gast\n",
            "Installing collected packages: numpy, llvmlite, h5py, tensorflow-estimator, tensorboard, numba, keras-applications, gast, tensorflow, resampy, prettytable, coremltools, turicreate\n",
            "  Attempting uninstall: numpy\n",
            "    Found existing installation: numpy 1.19.5\n",
            "    Uninstalling numpy-1.19.5:\n",
            "      Successfully uninstalled numpy-1.19.5\n",
            "  Attempting uninstall: llvmlite\n",
            "    Found existing installation: llvmlite 0.34.0\n",
            "    Uninstalling llvmlite-0.34.0:\n",
            "      Successfully uninstalled llvmlite-0.34.0\n",
            "  Attempting uninstall: h5py\n",
            "    Found existing installation: h5py 3.1.0\n",
            "    Uninstalling h5py-3.1.0:\n",
            "      Successfully uninstalled h5py-3.1.0\n",
            "  Attempting uninstall: tensorflow-estimator\n",
            "    Found existing installation: tensorflow-estimator 2.6.0\n",
            "    Uninstalling tensorflow-estimator-2.6.0:\n",
            "      Successfully uninstalled tensorflow-estimator-2.6.0\n",
            "  Attempting uninstall: tensorboard\n",
            "    Found existing installation: tensorboard 2.6.0\n",
            "    Uninstalling tensorboard-2.6.0:\n",
            "      Successfully uninstalled tensorboard-2.6.0\n",
            "  Attempting uninstall: numba\n",
            "    Found existing installation: numba 0.51.2\n",
            "    Uninstalling numba-0.51.2:\n",
            "      Successfully uninstalled numba-0.51.2\n",
            "  Attempting uninstall: gast\n",
            "    Found existing installation: gast 0.4.0\n",
            "    Uninstalling gast-0.4.0:\n",
            "      Successfully uninstalled gast-0.4.0\n",
            "  Attempting uninstall: tensorflow\n",
            "    Found existing installation: tensorflow 2.6.0\n",
            "    Uninstalling tensorflow-2.6.0:\n",
            "      Successfully uninstalled tensorflow-2.6.0\n",
            "  Attempting uninstall: resampy\n",
            "    Found existing installation: resampy 0.2.2\n",
            "    Uninstalling resampy-0.2.2:\n",
            "      Successfully uninstalled resampy-0.2.2\n",
            "  Attempting uninstall: prettytable\n",
            "    Found existing installation: prettytable 2.1.0\n",
            "    Uninstalling prettytable-2.1.0:\n",
            "      Successfully uninstalled prettytable-2.1.0\n",
            "\u001b[31mERROR: pip's dependency resolver does not currently take into account all the packages that are installed. This behaviour is the source of the following dependency conflicts.\n",
            "tensorflow-probability 0.13.0 requires gast>=0.3.2, but you have gast 0.2.2 which is incompatible.\n",
            "librosa 0.8.1 requires resampy>=0.2.2, but you have resampy 0.2.1 which is incompatible.\n",
            "datascience 0.10.6 requires folium==0.2.1, but you have folium 0.8.3 which is incompatible.\n",
            "albumentations 0.1.12 requires imgaug<0.2.7,>=0.2.5, but you have imgaug 0.2.9 which is incompatible.\u001b[0m\n",
            "Successfully installed coremltools-3.3 gast-0.2.2 h5py-2.10.0 keras-applications-1.0.8 llvmlite-0.33.0 numba-0.50.1 numpy-1.18.5 prettytable-0.7.2 resampy-0.2.1 tensorboard-2.0.2 tensorflow-2.0.4 tensorflow-estimator-2.0.1 turicreate-6.4.1\n"
          ]
        },
        {
          "output_type": "display_data",
          "data": {
            "application/vnd.colab-display-data+json": {
              "pip_warning": {
                "packages": [
                  "numpy"
                ]
              }
            }
          },
          "metadata": {}
        }
      ]
    },
    {
      "cell_type": "code",
      "metadata": {
        "scrolled": false,
        "id": "ru1U4W31j6RH"
      },
      "source": [
        "import turicreate"
      ],
      "execution_count": null,
      "outputs": []
    },
    {
      "cell_type": "markdown",
      "metadata": {
        "collapsed": true,
        "id": "9WdBJoMAj6RL"
      },
      "source": [
        "# Load the lending club dataset"
      ]
    },
    {
      "cell_type": "markdown",
      "metadata": {
        "id": "fFj28w5Bj6RN"
      },
      "source": [
        "**1.** We will be using the same [LendingClub](https://www.lendingclub.com/) dataset as in the previous assignment."
      ]
    },
    {
      "cell_type": "code",
      "metadata": {
        "colab": {
          "base_uri": "https://localhost:8080/"
        },
        "id": "DTvLSasElur3",
        "outputId": "92084023-78f0-4f3d-ccfb-5b8e93f7be12"
      },
      "source": [
        "from google.colab import drive\n",
        "drive.mount ('/content/gdrive')"
      ],
      "execution_count": null,
      "outputs": [
        {
          "output_type": "stream",
          "name": "stdout",
          "text": [
            "Mounted at /content/gdrive\n"
          ]
        }
      ]
    },
    {
      "cell_type": "code",
      "metadata": {
        "id": "SqWWDEEvj6RQ"
      },
      "source": [
        "#loans = turicreate.SFrame('lending-club-data.sframe/')\n",
        "\n",
        "loans = turicreate.SFrame('/content/gdrive/My Drive/Turicreate/Week 15/lending-club-data.sframe/')"
      ],
      "execution_count": null,
      "outputs": []
    },
    {
      "cell_type": "markdown",
      "metadata": {
        "id": "hJawDQIDj6RS"
      },
      "source": [
        "**2.** Like the previous assignment, we reassign the labels to have +1 for a safe loan, and -1 for a risky (bad) loan."
      ]
    },
    {
      "cell_type": "code",
      "metadata": {
        "id": "KmFX3Ynqj6RW"
      },
      "source": [
        "loans['safe_loans'] = loans['bad_loans'].apply(lambda x : +1 if x==0 else -1)\n",
        "loans = loans.remove_column('bad_loans')"
      ],
      "execution_count": null,
      "outputs": []
    },
    {
      "cell_type": "markdown",
      "metadata": {
        "id": "G2Uk5d0Ij6RY"
      },
      "source": [
        "**3.** Unlike the previous assignment where we used several features, in this assignment, we will just be using 4 categorical\n",
        "features: \n",
        "\n",
        "1. grade of the loan \n",
        "2. the length of the loan term\n",
        "3. the home ownership status: own, mortgage, rent\n",
        "4. number of years of employment.\n",
        "\n",
        "Since we are building a binary decision tree, we will have to convert these categorical features to a binary representation in a subsequent section using 1-hot encoding."
      ]
    },
    {
      "cell_type": "code",
      "metadata": {
        "scrolled": false,
        "id": "3fkeFockj6Ra"
      },
      "source": [
        "features = ['grade',              # grade of the loan\n",
        "            'term',               # the term of the loan\n",
        "            'home_ownership',     # home_ownership status: own, mortgage or rent\n",
        "            'emp_length',         # number of years of employment\n",
        "           ]\n",
        "target = 'safe_loans'\n",
        "loans = loans[features + [target]]"
      ],
      "execution_count": null,
      "outputs": []
    },
    {
      "cell_type": "markdown",
      "metadata": {
        "id": "f91ByIwOj6Rc"
      },
      "source": [
        "Let's explore what the dataset looks like."
      ]
    },
    {
      "cell_type": "code",
      "metadata": {
        "colab": {
          "base_uri": "https://localhost:8080/",
          "height": 279
        },
        "id": "SpQk7i9Xj6Rd",
        "outputId": "96acfa8a-be7a-476d-b3ab-89e14f4b1987"
      },
      "source": [
        "loans"
      ],
      "execution_count": null,
      "outputs": [
        {
          "output_type": "execute_result",
          "data": {
            "text/html": [
              "<div style=\"max-height:1000px;max-width:1500px;overflow:auto;\"><table frame=\"box\" rules=\"cols\">\n",
              "    <tr>\n",
              "        <th style=\"padding-left: 1em; padding-right: 1em; text-align: center\">grade</th>\n",
              "        <th style=\"padding-left: 1em; padding-right: 1em; text-align: center\">term</th>\n",
              "        <th style=\"padding-left: 1em; padding-right: 1em; text-align: center\">home_ownership</th>\n",
              "        <th style=\"padding-left: 1em; padding-right: 1em; text-align: center\">emp_length</th>\n",
              "        <th style=\"padding-left: 1em; padding-right: 1em; text-align: center\">safe_loans</th>\n",
              "    </tr>\n",
              "    <tr>\n",
              "        <td style=\"padding-left: 1em; padding-right: 1em; text-align: center; vertical-align: top\">B</td>\n",
              "        <td style=\"padding-left: 1em; padding-right: 1em; text-align: center; vertical-align: top\"> 36 months</td>\n",
              "        <td style=\"padding-left: 1em; padding-right: 1em; text-align: center; vertical-align: top\">RENT</td>\n",
              "        <td style=\"padding-left: 1em; padding-right: 1em; text-align: center; vertical-align: top\">10+ years</td>\n",
              "        <td style=\"padding-left: 1em; padding-right: 1em; text-align: center; vertical-align: top\">1</td>\n",
              "    </tr>\n",
              "    <tr>\n",
              "        <td style=\"padding-left: 1em; padding-right: 1em; text-align: center; vertical-align: top\">C</td>\n",
              "        <td style=\"padding-left: 1em; padding-right: 1em; text-align: center; vertical-align: top\"> 60 months</td>\n",
              "        <td style=\"padding-left: 1em; padding-right: 1em; text-align: center; vertical-align: top\">RENT</td>\n",
              "        <td style=\"padding-left: 1em; padding-right: 1em; text-align: center; vertical-align: top\">&lt; 1 year</td>\n",
              "        <td style=\"padding-left: 1em; padding-right: 1em; text-align: center; vertical-align: top\">-1</td>\n",
              "    </tr>\n",
              "    <tr>\n",
              "        <td style=\"padding-left: 1em; padding-right: 1em; text-align: center; vertical-align: top\">C</td>\n",
              "        <td style=\"padding-left: 1em; padding-right: 1em; text-align: center; vertical-align: top\"> 36 months</td>\n",
              "        <td style=\"padding-left: 1em; padding-right: 1em; text-align: center; vertical-align: top\">RENT</td>\n",
              "        <td style=\"padding-left: 1em; padding-right: 1em; text-align: center; vertical-align: top\">10+ years</td>\n",
              "        <td style=\"padding-left: 1em; padding-right: 1em; text-align: center; vertical-align: top\">1</td>\n",
              "    </tr>\n",
              "    <tr>\n",
              "        <td style=\"padding-left: 1em; padding-right: 1em; text-align: center; vertical-align: top\">C</td>\n",
              "        <td style=\"padding-left: 1em; padding-right: 1em; text-align: center; vertical-align: top\"> 36 months</td>\n",
              "        <td style=\"padding-left: 1em; padding-right: 1em; text-align: center; vertical-align: top\">RENT</td>\n",
              "        <td style=\"padding-left: 1em; padding-right: 1em; text-align: center; vertical-align: top\">10+ years</td>\n",
              "        <td style=\"padding-left: 1em; padding-right: 1em; text-align: center; vertical-align: top\">1</td>\n",
              "    </tr>\n",
              "    <tr>\n",
              "        <td style=\"padding-left: 1em; padding-right: 1em; text-align: center; vertical-align: top\">A</td>\n",
              "        <td style=\"padding-left: 1em; padding-right: 1em; text-align: center; vertical-align: top\"> 36 months</td>\n",
              "        <td style=\"padding-left: 1em; padding-right: 1em; text-align: center; vertical-align: top\">RENT</td>\n",
              "        <td style=\"padding-left: 1em; padding-right: 1em; text-align: center; vertical-align: top\">3 years</td>\n",
              "        <td style=\"padding-left: 1em; padding-right: 1em; text-align: center; vertical-align: top\">1</td>\n",
              "    </tr>\n",
              "    <tr>\n",
              "        <td style=\"padding-left: 1em; padding-right: 1em; text-align: center; vertical-align: top\">E</td>\n",
              "        <td style=\"padding-left: 1em; padding-right: 1em; text-align: center; vertical-align: top\"> 36 months</td>\n",
              "        <td style=\"padding-left: 1em; padding-right: 1em; text-align: center; vertical-align: top\">RENT</td>\n",
              "        <td style=\"padding-left: 1em; padding-right: 1em; text-align: center; vertical-align: top\">9 years</td>\n",
              "        <td style=\"padding-left: 1em; padding-right: 1em; text-align: center; vertical-align: top\">1</td>\n",
              "    </tr>\n",
              "    <tr>\n",
              "        <td style=\"padding-left: 1em; padding-right: 1em; text-align: center; vertical-align: top\">F</td>\n",
              "        <td style=\"padding-left: 1em; padding-right: 1em; text-align: center; vertical-align: top\"> 60 months</td>\n",
              "        <td style=\"padding-left: 1em; padding-right: 1em; text-align: center; vertical-align: top\">OWN</td>\n",
              "        <td style=\"padding-left: 1em; padding-right: 1em; text-align: center; vertical-align: top\">4 years</td>\n",
              "        <td style=\"padding-left: 1em; padding-right: 1em; text-align: center; vertical-align: top\">-1</td>\n",
              "    </tr>\n",
              "    <tr>\n",
              "        <td style=\"padding-left: 1em; padding-right: 1em; text-align: center; vertical-align: top\">B</td>\n",
              "        <td style=\"padding-left: 1em; padding-right: 1em; text-align: center; vertical-align: top\"> 60 months</td>\n",
              "        <td style=\"padding-left: 1em; padding-right: 1em; text-align: center; vertical-align: top\">RENT</td>\n",
              "        <td style=\"padding-left: 1em; padding-right: 1em; text-align: center; vertical-align: top\">&lt; 1 year</td>\n",
              "        <td style=\"padding-left: 1em; padding-right: 1em; text-align: center; vertical-align: top\">-1</td>\n",
              "    </tr>\n",
              "    <tr>\n",
              "        <td style=\"padding-left: 1em; padding-right: 1em; text-align: center; vertical-align: top\">C</td>\n",
              "        <td style=\"padding-left: 1em; padding-right: 1em; text-align: center; vertical-align: top\"> 60 months</td>\n",
              "        <td style=\"padding-left: 1em; padding-right: 1em; text-align: center; vertical-align: top\">OWN</td>\n",
              "        <td style=\"padding-left: 1em; padding-right: 1em; text-align: center; vertical-align: top\">5 years</td>\n",
              "        <td style=\"padding-left: 1em; padding-right: 1em; text-align: center; vertical-align: top\">1</td>\n",
              "    </tr>\n",
              "    <tr>\n",
              "        <td style=\"padding-left: 1em; padding-right: 1em; text-align: center; vertical-align: top\">B</td>\n",
              "        <td style=\"padding-left: 1em; padding-right: 1em; text-align: center; vertical-align: top\"> 36 months</td>\n",
              "        <td style=\"padding-left: 1em; padding-right: 1em; text-align: center; vertical-align: top\">OWN</td>\n",
              "        <td style=\"padding-left: 1em; padding-right: 1em; text-align: center; vertical-align: top\">10+ years</td>\n",
              "        <td style=\"padding-left: 1em; padding-right: 1em; text-align: center; vertical-align: top\">1</td>\n",
              "    </tr>\n",
              "</table>\n",
              "[122607 rows x 5 columns]<br/>Note: Only the head of the SFrame is printed.<br/>You can use print_rows(num_rows=m, num_columns=n) to print more rows and columns.\n",
              "</div>"
            ],
            "text/plain": [
              "Columns:\n",
              "\tgrade\tstr\n",
              "\tterm\tstr\n",
              "\thome_ownership\tstr\n",
              "\temp_length\tstr\n",
              "\tsafe_loans\tint\n",
              "\n",
              "Rows: 122607\n",
              "\n",
              "Data:\n",
              "+-------+------------+----------------+------------+------------+\n",
              "| grade |    term    | home_ownership | emp_length | safe_loans |\n",
              "+-------+------------+----------------+------------+------------+\n",
              "|   B   |  36 months |      RENT      | 10+ years  |     1      |\n",
              "|   C   |  60 months |      RENT      |  < 1 year  |     -1     |\n",
              "|   C   |  36 months |      RENT      | 10+ years  |     1      |\n",
              "|   C   |  36 months |      RENT      | 10+ years  |     1      |\n",
              "|   A   |  36 months |      RENT      |  3 years   |     1      |\n",
              "|   E   |  36 months |      RENT      |  9 years   |     1      |\n",
              "|   F   |  60 months |      OWN       |  4 years   |     -1     |\n",
              "|   B   |  60 months |      RENT      |  < 1 year  |     -1     |\n",
              "|   C   |  60 months |      OWN       |  5 years   |     1      |\n",
              "|   B   |  36 months |      OWN       | 10+ years  |     1      |\n",
              "+-------+------------+----------------+------------+------------+\n",
              "[122607 rows x 5 columns]\n",
              "Note: Only the head of the SFrame is printed.\n",
              "You can use print_rows(num_rows=m, num_columns=n) to print more rows and columns."
            ]
          },
          "metadata": {},
          "execution_count": 6
        }
      ]
    },
    {
      "cell_type": "markdown",
      "metadata": {
        "id": "Aead9atuj6Re"
      },
      "source": [
        "## Subsample dataset to make sure classes are balanced"
      ]
    },
    {
      "cell_type": "markdown",
      "metadata": {
        "id": "LZHZaW1Vj6Rf"
      },
      "source": [
        "**4.** Just as we did in the previous assignment, we will undersample the larger class (safe loans) in order to balance out our dataset. This means we are throwing away many data points. We use `seed=1` so everyone gets the same results."
      ]
    },
    {
      "cell_type": "code",
      "metadata": {
        "colab": {
          "base_uri": "https://localhost:8080/"
        },
        "id": "bHaimVudj6Rg",
        "outputId": "1a673934-b1b0-4a34-ab31-05adbaa1da38"
      },
      "source": [
        "safe_loans_raw = loans[loans[target] == 1]\n",
        "risky_loans_raw = loans[loans[target] == -1]\n",
        "\n",
        "# Since there are less risky loans than safe loans, find the ratio of the sizes\n",
        "# and use that percentage to undersample the safe loans.\n",
        "percentage = len(risky_loans_raw)/float(len(safe_loans_raw))\n",
        "safe_loans = safe_loans_raw.sample(percentage, seed = 1)\n",
        "risky_loans = risky_loans_raw\n",
        "loans_data = risky_loans.append(safe_loans)\n",
        "\n",
        "print(\"Percentage of safe loans                 :\", len(safe_loans) / float(len(loans_data)))\n",
        "print(\"Percentage of risky loans                :\", len(risky_loans) / float(len(loans_data)))\n",
        "print(\"Total number of loans in our new dataset :\", len(loans_data))"
      ],
      "execution_count": null,
      "outputs": [
        {
          "output_type": "stream",
          "name": "stdout",
          "text": [
            "Percentage of safe loans                 : 0.5022361744216048\n",
            "Percentage of risky loans                : 0.4977638255783951\n",
            "Total number of loans in our new dataset : 46508\n"
          ]
        }
      ]
    },
    {
      "cell_type": "markdown",
      "metadata": {
        "id": "Z_GqJgzyj6Rh"
      },
      "source": [
        "**Note:** There are many approaches for dealing with imbalanced data, including some where we modify the learning algorithm. These approaches are beyond the scope of this course, but some of them are reviewed in \"[Learning from Imbalanced Data](http://www.ele.uri.edu/faculty/he/PDFfiles/ImbalancedLearning.pdf)\" by Haibo He and Edwardo A. Garcia, *IEEE Transactions on Knowledge and Data Engineering* **21**(9) (June 26, 2009), p. 1263–1284. For this assignment, we use the simplest possible approach, where we subsample the overly represented class to get a more balanced dataset. In general, and especially when the data is highly imbalanced, we recommend using more advanced methods."
      ]
    },
    {
      "cell_type": "markdown",
      "metadata": {
        "id": "XoPR8CTHj6Rj"
      },
      "source": [
        "## Transform categorical data into binary features"
      ]
    },
    {
      "cell_type": "markdown",
      "metadata": {
        "id": "uDF9-eT3j6Rk"
      },
      "source": [
        "In this assignment, we will implement **binary decision trees** (decision trees for binary features, a specific case of categorical variables taking on two values, e.g., true/false). Since all of our features are currently categorical features, we want to turn them into binary features. \n",
        "\n",
        "For instance, the **home_ownership** feature represents the home ownership status of the loanee, which is either `own`, `mortgage` or `rent`. For example, if a data point has the feature \n",
        "```\n",
        "   {'home_ownership': 'RENT'}\n",
        "```\n",
        "we want to turn this into three features: \n",
        "```\n",
        " { \n",
        "   'home_ownership = OWN'      : 0, \n",
        "   'home_ownership = MORTGAGE' : 0, \n",
        "   'home_ownership = RENT'     : 1\n",
        " }\n",
        "```\n",
        "\n",
        "Since this code requires a few Python and Turi Create tricks, feel free to use this block of code as is. Refer to the API documentation for a deeper understanding."
      ]
    },
    {
      "cell_type": "code",
      "metadata": {
        "id": "Za73txdaj6Rl"
      },
      "source": [
        "loans_data = risky_loans.append(safe_loans)\n",
        "for feature in features:\n",
        "    loans_data_one_hot_encoded = loans_data[feature].apply(lambda x: {x: 1})    \n",
        "    loans_data_unpacked = loans_data_one_hot_encoded.unpack(column_name_prefix=feature)\n",
        "    \n",
        "    # Change None's to 0's\n",
        "    for column in loans_data_unpacked.column_names():\n",
        "        loans_data_unpacked[column] = loans_data_unpacked[column].fillna(0)\n",
        "\n",
        "    loans_data = loans_data.remove_column(feature)\n",
        "    loans_data = loans_data.add_columns(loans_data_unpacked)"
      ],
      "execution_count": null,
      "outputs": []
    },
    {
      "cell_type": "markdown",
      "metadata": {
        "id": "6NvlyXTjj6Rn"
      },
      "source": [
        "Let's see what the feature columns look like now:"
      ]
    },
    {
      "cell_type": "code",
      "metadata": {
        "colab": {
          "base_uri": "https://localhost:8080/"
        },
        "id": "3gXNt0jLj6Rn",
        "outputId": "5996ab73-a4d4-40e0-cd07-7460e3b7e94d"
      },
      "source": [
        "features = loans_data.column_names()\n",
        "features.remove('safe_loans')  # Remove the response variable\n",
        "features"
      ],
      "execution_count": null,
      "outputs": [
        {
          "output_type": "execute_result",
          "data": {
            "text/plain": [
              "['grade.A',\n",
              " 'grade.B',\n",
              " 'grade.C',\n",
              " 'grade.D',\n",
              " 'grade.E',\n",
              " 'grade.F',\n",
              " 'grade.G',\n",
              " 'term. 36 months',\n",
              " 'term. 60 months',\n",
              " 'home_ownership.MORTGAGE',\n",
              " 'home_ownership.OTHER',\n",
              " 'home_ownership.OWN',\n",
              " 'home_ownership.RENT',\n",
              " 'emp_length.1 year',\n",
              " 'emp_length.10+ years',\n",
              " 'emp_length.2 years',\n",
              " 'emp_length.3 years',\n",
              " 'emp_length.4 years',\n",
              " 'emp_length.5 years',\n",
              " 'emp_length.6 years',\n",
              " 'emp_length.7 years',\n",
              " 'emp_length.8 years',\n",
              " 'emp_length.9 years',\n",
              " 'emp_length.< 1 year',\n",
              " 'emp_length.n/a']"
            ]
          },
          "metadata": {},
          "execution_count": 9
        }
      ]
    },
    {
      "cell_type": "code",
      "metadata": {
        "colab": {
          "base_uri": "https://localhost:8080/"
        },
        "id": "8Xdv10dOj6Ro",
        "outputId": "ea25dd86-3618-4114-dd33-1ae14aa1da0e"
      },
      "source": [
        "print(\"Number of features (after binarizing categorical variables) = %s\" % len(features))"
      ],
      "execution_count": null,
      "outputs": [
        {
          "output_type": "stream",
          "name": "stdout",
          "text": [
            "Number of features (after binarizing categorical variables) = 25\n"
          ]
        }
      ]
    },
    {
      "cell_type": "code",
      "metadata": {
        "colab": {
          "base_uri": "https://localhost:8080/"
        },
        "id": "o0JS8OK4m30e",
        "outputId": "1f2882dc-0f78-4a22-aea6-4ca612575551"
      },
      "source": [
        "loans_data.head"
      ],
      "execution_count": null,
      "outputs": [
        {
          "output_type": "execute_result",
          "data": {
            "text/plain": [
              "<bound method SFrame.head of Columns:\n",
              "\tsafe_loans\tint\n",
              "\tgrade.A\tint\n",
              "\tgrade.B\tint\n",
              "\tgrade.C\tint\n",
              "\tgrade.D\tint\n",
              "\tgrade.E\tint\n",
              "\tgrade.F\tint\n",
              "\tgrade.G\tint\n",
              "\tterm. 36 months\tint\n",
              "\tterm. 60 months\tint\n",
              "\thome_ownership.MORTGAGE\tint\n",
              "\thome_ownership.OTHER\tint\n",
              "\thome_ownership.OWN\tint\n",
              "\thome_ownership.RENT\tint\n",
              "\temp_length.1 year\tint\n",
              "\temp_length.10+ years\tint\n",
              "\temp_length.2 years\tint\n",
              "\temp_length.3 years\tint\n",
              "\temp_length.4 years\tint\n",
              "\temp_length.5 years\tint\n",
              "\temp_length.6 years\tint\n",
              "\temp_length.7 years\tint\n",
              "\temp_length.8 years\tint\n",
              "\temp_length.9 years\tint\n",
              "\temp_length.< 1 year\tint\n",
              "\temp_length.n/a\tint\n",
              "\n",
              "Rows: 46508\n",
              "\n",
              "Data:\n",
              "+------------+---------+---------+---------+---------+---------+---------+---------+\n",
              "| safe_loans | grade.A | grade.B | grade.C | grade.D | grade.E | grade.F | grade.G |\n",
              "+------------+---------+---------+---------+---------+---------+---------+---------+\n",
              "|     -1     |    0    |    0    |    1    |    0    |    0    |    0    |    0    |\n",
              "|     -1     |    0    |    0    |    0    |    0    |    0    |    1    |    0    |\n",
              "|     -1     |    0    |    1    |    0    |    0    |    0    |    0    |    0    |\n",
              "|     -1     |    0    |    0    |    1    |    0    |    0    |    0    |    0    |\n",
              "|     -1     |    0    |    1    |    0    |    0    |    0    |    0    |    0    |\n",
              "|     -1     |    0    |    1    |    0    |    0    |    0    |    0    |    0    |\n",
              "|     -1     |    0    |    1    |    0    |    0    |    0    |    0    |    0    |\n",
              "|     -1     |    0    |    0    |    1    |    0    |    0    |    0    |    0    |\n",
              "|     -1     |    0    |    0    |    0    |    1    |    0    |    0    |    0    |\n",
              "|     -1     |    1    |    0    |    0    |    0    |    0    |    0    |    0    |\n",
              "+------------+---------+---------+---------+---------+---------+---------+---------+\n",
              "+-----------------+-----------------+-------------------------+----------------------+\n",
              "| term. 36 months | term. 60 months | home_ownership.MORTGAGE | home_ownership.OTHER |\n",
              "+-----------------+-----------------+-------------------------+----------------------+\n",
              "|        0        |        1        |            0            |          0           |\n",
              "|        0        |        1        |            0            |          0           |\n",
              "|        0        |        1        |            0            |          0           |\n",
              "|        1        |        0        |            0            |          0           |\n",
              "|        1        |        0        |            0            |          0           |\n",
              "|        1        |        0        |            0            |          0           |\n",
              "|        1        |        0        |            0            |          0           |\n",
              "|        1        |        0        |            0            |          0           |\n",
              "|        0        |        1        |            0            |          0           |\n",
              "|        1        |        0        |            1            |          0           |\n",
              "+-----------------+-----------------+-------------------------+----------------------+\n",
              "+--------------------+---------------------+-------------------+----------------------+\n",
              "| home_ownership.OWN | home_ownership.RENT | emp_length.1 year | emp_length.10+ years |\n",
              "+--------------------+---------------------+-------------------+----------------------+\n",
              "|         0          |          1          |         0         |          0           |\n",
              "|         1          |          0          |         0         |          0           |\n",
              "|         0          |          1          |         0         |          0           |\n",
              "|         0          |          1          |         0         |          0           |\n",
              "|         0          |          1          |         0         |          0           |\n",
              "|         0          |          1          |         0         |          1           |\n",
              "|         0          |          1          |         1         |          0           |\n",
              "|         0          |          1          |         0         |          0           |\n",
              "|         0          |          1          |         0         |          0           |\n",
              "|         0          |          0          |         0         |          1           |\n",
              "+--------------------+---------------------+-------------------+----------------------+\n",
              "+--------------------+--------------------+--------------------+--------------------+-----+\n",
              "| emp_length.2 years | emp_length.3 years | emp_length.4 years | emp_length.5 years | ... |\n",
              "+--------------------+--------------------+--------------------+--------------------+-----+\n",
              "|         0          |         0          |         0          |         0          | ... |\n",
              "|         0          |         0          |         1          |         0          | ... |\n",
              "|         0          |         0          |         0          |         0          | ... |\n",
              "|         0          |         0          |         0          |         0          | ... |\n",
              "|         0          |         1          |         0          |         0          | ... |\n",
              "|         0          |         0          |         0          |         0          | ... |\n",
              "|         0          |         0          |         0          |         0          | ... |\n",
              "|         0          |         0          |         0          |         0          | ... |\n",
              "|         1          |         0          |         0          |         0          | ... |\n",
              "|         0          |         0          |         0          |         0          | ... |\n",
              "+--------------------+--------------------+--------------------+--------------------+-----+\n",
              "[46508 rows x 26 columns]\n",
              "Note: Only the head of the SFrame is printed.\n",
              "You can use print_rows(num_rows=m, num_columns=n) to print more rows and columns.>"
            ]
          },
          "metadata": {},
          "execution_count": 14
        }
      ]
    },
    {
      "cell_type": "code",
      "metadata": {
        "colab": {
          "base_uri": "https://localhost:8080/",
          "height": 194
        },
        "id": "8s6a2Rb8nP_A",
        "outputId": "002bf979-9c27-41a6-bc52-f84b724ccff5"
      },
      "source": [
        "loans_data.head(n=1)"
      ],
      "execution_count": null,
      "outputs": [
        {
          "output_type": "execute_result",
          "data": {
            "text/html": [
              "<div style=\"max-height:1000px;max-width:1500px;overflow:auto;\"><table frame=\"box\" rules=\"cols\">\n",
              "    <tr>\n",
              "        <th style=\"padding-left: 1em; padding-right: 1em; text-align: center\">safe_loans</th>\n",
              "        <th style=\"padding-left: 1em; padding-right: 1em; text-align: center\">grade.A</th>\n",
              "        <th style=\"padding-left: 1em; padding-right: 1em; text-align: center\">grade.B</th>\n",
              "        <th style=\"padding-left: 1em; padding-right: 1em; text-align: center\">grade.C</th>\n",
              "        <th style=\"padding-left: 1em; padding-right: 1em; text-align: center\">grade.D</th>\n",
              "        <th style=\"padding-left: 1em; padding-right: 1em; text-align: center\">grade.E</th>\n",
              "        <th style=\"padding-left: 1em; padding-right: 1em; text-align: center\">grade.F</th>\n",
              "        <th style=\"padding-left: 1em; padding-right: 1em; text-align: center\">grade.G</th>\n",
              "        <th style=\"padding-left: 1em; padding-right: 1em; text-align: center\">term. 36 months</th>\n",
              "        <th style=\"padding-left: 1em; padding-right: 1em; text-align: center\">term. 60 months</th>\n",
              "    </tr>\n",
              "    <tr>\n",
              "        <td style=\"padding-left: 1em; padding-right: 1em; text-align: center; vertical-align: top\">-1</td>\n",
              "        <td style=\"padding-left: 1em; padding-right: 1em; text-align: center; vertical-align: top\">0</td>\n",
              "        <td style=\"padding-left: 1em; padding-right: 1em; text-align: center; vertical-align: top\">0</td>\n",
              "        <td style=\"padding-left: 1em; padding-right: 1em; text-align: center; vertical-align: top\">1</td>\n",
              "        <td style=\"padding-left: 1em; padding-right: 1em; text-align: center; vertical-align: top\">0</td>\n",
              "        <td style=\"padding-left: 1em; padding-right: 1em; text-align: center; vertical-align: top\">0</td>\n",
              "        <td style=\"padding-left: 1em; padding-right: 1em; text-align: center; vertical-align: top\">0</td>\n",
              "        <td style=\"padding-left: 1em; padding-right: 1em; text-align: center; vertical-align: top\">0</td>\n",
              "        <td style=\"padding-left: 1em; padding-right: 1em; text-align: center; vertical-align: top\">0</td>\n",
              "        <td style=\"padding-left: 1em; padding-right: 1em; text-align: center; vertical-align: top\">1</td>\n",
              "    </tr>\n",
              "</table>\n",
              "<table frame=\"box\" rules=\"cols\">\n",
              "    <tr>\n",
              "        <th style=\"padding-left: 1em; padding-right: 1em; text-align: center\">home_ownership.MORTGAGE</th>\n",
              "        <th style=\"padding-left: 1em; padding-right: 1em; text-align: center\">home_ownership.OTHER</th>\n",
              "        <th style=\"padding-left: 1em; padding-right: 1em; text-align: center\">home_ownership.OWN</th>\n",
              "        <th style=\"padding-left: 1em; padding-right: 1em; text-align: center\">home_ownership.RENT</th>\n",
              "        <th style=\"padding-left: 1em; padding-right: 1em; text-align: center\">emp_length.1 year</th>\n",
              "        <th style=\"padding-left: 1em; padding-right: 1em; text-align: center\">emp_length.10+ years</th>\n",
              "    </tr>\n",
              "    <tr>\n",
              "        <td style=\"padding-left: 1em; padding-right: 1em; text-align: center; vertical-align: top\">0</td>\n",
              "        <td style=\"padding-left: 1em; padding-right: 1em; text-align: center; vertical-align: top\">0</td>\n",
              "        <td style=\"padding-left: 1em; padding-right: 1em; text-align: center; vertical-align: top\">0</td>\n",
              "        <td style=\"padding-left: 1em; padding-right: 1em; text-align: center; vertical-align: top\">1</td>\n",
              "        <td style=\"padding-left: 1em; padding-right: 1em; text-align: center; vertical-align: top\">0</td>\n",
              "        <td style=\"padding-left: 1em; padding-right: 1em; text-align: center; vertical-align: top\">0</td>\n",
              "    </tr>\n",
              "</table>\n",
              "<table frame=\"box\" rules=\"cols\">\n",
              "    <tr>\n",
              "        <th style=\"padding-left: 1em; padding-right: 1em; text-align: center\">emp_length.2 years</th>\n",
              "        <th style=\"padding-left: 1em; padding-right: 1em; text-align: center\">emp_length.3 years</th>\n",
              "        <th style=\"padding-left: 1em; padding-right: 1em; text-align: center\">emp_length.4 years</th>\n",
              "        <th style=\"padding-left: 1em; padding-right: 1em; text-align: center\">emp_length.5 years</th>\n",
              "        <th style=\"padding-left: 1em; padding-right: 1em; text-align: center\">emp_length.6 years</th>\n",
              "        <th style=\"padding-left: 1em; padding-right: 1em; text-align: center\">emp_length.7 years</th>\n",
              "    </tr>\n",
              "    <tr>\n",
              "        <td style=\"padding-left: 1em; padding-right: 1em; text-align: center; vertical-align: top\">0</td>\n",
              "        <td style=\"padding-left: 1em; padding-right: 1em; text-align: center; vertical-align: top\">0</td>\n",
              "        <td style=\"padding-left: 1em; padding-right: 1em; text-align: center; vertical-align: top\">0</td>\n",
              "        <td style=\"padding-left: 1em; padding-right: 1em; text-align: center; vertical-align: top\">0</td>\n",
              "        <td style=\"padding-left: 1em; padding-right: 1em; text-align: center; vertical-align: top\">0</td>\n",
              "        <td style=\"padding-left: 1em; padding-right: 1em; text-align: center; vertical-align: top\">0</td>\n",
              "    </tr>\n",
              "</table>\n",
              "<table frame=\"box\" rules=\"cols\">\n",
              "    <tr>\n",
              "        <th style=\"padding-left: 1em; padding-right: 1em; text-align: center\">emp_length.8 years</th>\n",
              "        <th style=\"padding-left: 1em; padding-right: 1em; text-align: center\">emp_length.9 years</th>\n",
              "        <th style=\"padding-left: 1em; padding-right: 1em; text-align: center\">emp_length.&lt; 1 year</th>\n",
              "        <th style=\"padding-left: 1em; padding-right: 1em; text-align: center\">emp_length.n/a</th>\n",
              "    </tr>\n",
              "    <tr>\n",
              "        <td style=\"padding-left: 1em; padding-right: 1em; text-align: center; vertical-align: top\">0</td>\n",
              "        <td style=\"padding-left: 1em; padding-right: 1em; text-align: center; vertical-align: top\">0</td>\n",
              "        <td style=\"padding-left: 1em; padding-right: 1em; text-align: center; vertical-align: top\">1</td>\n",
              "        <td style=\"padding-left: 1em; padding-right: 1em; text-align: center; vertical-align: top\">0</td>\n",
              "    </tr>\n",
              "</table>\n",
              "[1 rows x 26 columns]<br/>\n",
              "</div>"
            ],
            "text/plain": [
              "Columns:\n",
              "\tsafe_loans\tint\n",
              "\tgrade.A\tint\n",
              "\tgrade.B\tint\n",
              "\tgrade.C\tint\n",
              "\tgrade.D\tint\n",
              "\tgrade.E\tint\n",
              "\tgrade.F\tint\n",
              "\tgrade.G\tint\n",
              "\tterm. 36 months\tint\n",
              "\tterm. 60 months\tint\n",
              "\thome_ownership.MORTGAGE\tint\n",
              "\thome_ownership.OTHER\tint\n",
              "\thome_ownership.OWN\tint\n",
              "\thome_ownership.RENT\tint\n",
              "\temp_length.1 year\tint\n",
              "\temp_length.10+ years\tint\n",
              "\temp_length.2 years\tint\n",
              "\temp_length.3 years\tint\n",
              "\temp_length.4 years\tint\n",
              "\temp_length.5 years\tint\n",
              "\temp_length.6 years\tint\n",
              "\temp_length.7 years\tint\n",
              "\temp_length.8 years\tint\n",
              "\temp_length.9 years\tint\n",
              "\temp_length.< 1 year\tint\n",
              "\temp_length.n/a\tint\n",
              "\n",
              "Rows: 1\n",
              "\n",
              "Data:\n",
              "+------------+---------+---------+---------+---------+---------+---------+---------+\n",
              "| safe_loans | grade.A | grade.B | grade.C | grade.D | grade.E | grade.F | grade.G |\n",
              "+------------+---------+---------+---------+---------+---------+---------+---------+\n",
              "|     -1     |    0    |    0    |    1    |    0    |    0    |    0    |    0    |\n",
              "+------------+---------+---------+---------+---------+---------+---------+---------+\n",
              "+-----------------+-----------------+-------------------------+----------------------+\n",
              "| term. 36 months | term. 60 months | home_ownership.MORTGAGE | home_ownership.OTHER |\n",
              "+-----------------+-----------------+-------------------------+----------------------+\n",
              "|        0        |        1        |            0            |          0           |\n",
              "+-----------------+-----------------+-------------------------+----------------------+\n",
              "+--------------------+---------------------+-------------------+----------------------+\n",
              "| home_ownership.OWN | home_ownership.RENT | emp_length.1 year | emp_length.10+ years |\n",
              "+--------------------+---------------------+-------------------+----------------------+\n",
              "|         0          |          1          |         0         |          0           |\n",
              "+--------------------+---------------------+-------------------+----------------------+\n",
              "+--------------------+--------------------+--------------------+--------------------+-----+\n",
              "| emp_length.2 years | emp_length.3 years | emp_length.4 years | emp_length.5 years | ... |\n",
              "+--------------------+--------------------+--------------------+--------------------+-----+\n",
              "|         0          |         0          |         0          |         0          | ... |\n",
              "+--------------------+--------------------+--------------------+--------------------+-----+\n",
              "[1 rows x 26 columns]"
            ]
          },
          "metadata": {},
          "execution_count": 15
        }
      ]
    },
    {
      "cell_type": "markdown",
      "metadata": {
        "id": "ziL5mPklj6Rp"
      },
      "source": [
        "Let's explore what one of these columns looks like:"
      ]
    },
    {
      "cell_type": "code",
      "metadata": {
        "colab": {
          "base_uri": "https://localhost:8080/"
        },
        "id": "xPnsuNwCj6Rp",
        "outputId": "4d1d5c13-2c38-43a7-8884-f5a2c424665c"
      },
      "source": [
        "loans_data['grade.A']"
      ],
      "execution_count": null,
      "outputs": [
        {
          "output_type": "execute_result",
          "data": {
            "text/plain": [
              "dtype: int\n",
              "Rows: 46508\n",
              "[0, 0, 0, 0, 0, 0, 0, 0, 0, 1, 0, 0, 0, 0, 0, 0, 0, 0, 0, 0, 0, 0, 0, 1, 0, 0, 0, 0, 1, 0, 0, 0, 0, 0, 0, 0, 0, 0, 0, 0, 0, 0, 0, 0, 0, 0, 1, 0, 0, 1, 0, 0, 0, 0, 0, 0, 0, 0, 0, 1, 0, 0, 1, 0, 1, 0, 0, 1, 0, 0, 0, 0, 0, 0, 0, 0, 0, 1, 0, 1, 0, 0, 0, 0, 0, 0, 1, 0, 0, 0, 0, 0, 0, 1, 1, 0, 0, 0, 1, 0, ... ]"
            ]
          },
          "metadata": {},
          "execution_count": 11
        }
      ]
    },
    {
      "cell_type": "markdown",
      "metadata": {
        "id": "l-jiOvicj6Rq"
      },
      "source": [
        "This column is set to 1 if the loan grade is A and 0 otherwise.\n",
        "\n",
        "**Checkpoint:** Make sure the following answers match up."
      ]
    },
    {
      "cell_type": "code",
      "metadata": {
        "colab": {
          "base_uri": "https://localhost:8080/"
        },
        "id": "m8glOZ2mj6Rr",
        "outputId": "5852bcbe-1c66-4869-bdc0-851e8740def0"
      },
      "source": [
        "print(\"Total number of grade.A loans : %s\" % loans_data['grade.A'].sum())\n",
        "print(\"Expexted answer               : 6422\")"
      ],
      "execution_count": null,
      "outputs": [
        {
          "output_type": "stream",
          "name": "stdout",
          "text": [
            "Total number of grade.A loans : 6422\n",
            "Expexted answer               : 6422\n"
          ]
        }
      ]
    },
    {
      "cell_type": "markdown",
      "metadata": {
        "id": "19vaN07zj6Rr"
      },
      "source": [
        "## Train-test split\n",
        "\n",
        "**6.** We split the data into a train test split with 80% of the data in the training set and 20% of the data in the test set. We use `seed=1` so that everyone gets the same result."
      ]
    },
    {
      "cell_type": "code",
      "metadata": {
        "collapsed": true,
        "id": "Lwq_jhGOj6Rs"
      },
      "source": [
        "train_data, test_data = loans_data.random_split(.8, seed=1)"
      ],
      "execution_count": null,
      "outputs": []
    },
    {
      "cell_type": "markdown",
      "metadata": {
        "id": "PYQIu45Jj6Rs"
      },
      "source": [
        "# Decision tree implementation"
      ]
    },
    {
      "cell_type": "markdown",
      "metadata": {
        "id": "fe7p51L0j6Rs"
      },
      "source": [
        "In this section, we will implement binary decision trees from scratch. There are several steps involved in building a decision tree. For that reason, we have split the entire assignment into several sections.\n",
        "\n",
        "## Function to count number of mistakes while predicting majority class\n",
        "\n",
        "Recall from the lecture that prediction at an intermediate node works by predicting the **majority class** for all data points that belong to this node.\n",
        "\n",
        "Now, we will write a function that calculates the number of **missclassified examples** when predicting the **majority class**. This will be used to help determine which feature is the best to split on at a given node of the tree.\n",
        "\n",
        "**Note**: Keep in mind that in order to compute the number of mistakes for a majority classifier, we only need the label (y values) of the data points in the node. \n",
        "\n",
        "** Steps to follow **:\n",
        "* **Step 1:** Calculate the number of safe loans and risky loans.\n",
        "* **Step 2:** Since we are assuming majority class prediction, all the data points that are **not** in the majority class are considered **mistakes**.\n",
        "* **Step 3:** Return the number of **mistakes**.\n",
        "\n",
        "\n",
        "**7.** Now, let us write the function `intermediate_node_num_mistakes` which computes the number of misclassified examples of an intermediate node given the set of labels (y values) of the data points contained in the node. Fill in the places where you find `## YOUR CODE HERE`. There are **three** places in this function for you to fill in."
      ]
    },
    {
      "cell_type": "code",
      "metadata": {
        "collapsed": true,
        "id": "EvHJilMdj6Rt"
      },
      "source": [
        "def intermediate_node_num_mistakes(labels_in_node):\n",
        "    # Corner case: If labels_in_node is empty, return 0\n",
        "    if len(labels_in_node) == 0:\n",
        "        return 0\n",
        "    \n",
        "    # Count the number of 1's (safe loans)\n",
        "    ## YOUR CODE HERE\n",
        "    num_of_positive = (labels_in_node == +1).sum()\n",
        "    \n",
        "    # Count the number of -1's (risky loans)\n",
        "    ## YOUR CODE HERE\n",
        "    num_of_negative = (labels_in_node == -1).sum()\n",
        "                \n",
        "    # Return the number of mistakes that the majority classifier makes.\n",
        "    ## YOUR CODE HERE\n",
        "    return num_of_negative if num_of_positive > num_of_negative else num_of_positive\n",
        "    "
      ],
      "execution_count": null,
      "outputs": []
    },
    {
      "cell_type": "markdown",
      "metadata": {
        "id": "t-zHTuzdj6Ru"
      },
      "source": [
        "**8.** Because there are several steps in this assignment, we have introduced some stopping points where you can check your code and make sure it is correct before proceeding. To test your `intermediate_node_num_mistakes` function, run the following code until you get a **Test passed!**, then you should proceed. Otherwise, you should spend some time figuring out where things went wrong."
      ]
    },
    {
      "cell_type": "code",
      "metadata": {
        "colab": {
          "base_uri": "https://localhost:8080/"
        },
        "id": "7PtQMh1Cj6Rv",
        "outputId": "ad71b69e-6650-466a-ddfa-b54b073d5b26"
      },
      "source": [
        "# Test case 1\n",
        "example_labels = turicreate.SArray([-1, -1, 1, 1, 1])\n",
        "if intermediate_node_num_mistakes(example_labels) == 2:\n",
        "    print('Test passed!')\n",
        "else:\n",
        "    print('Test 1 failed... try again!')\n",
        "\n",
        "# Test case 2\n",
        "example_labels = turicreate.SArray([-1, -1, 1, 1, 1, 1, 1])\n",
        "if intermediate_node_num_mistakes(example_labels) == 2:\n",
        "    print('Test passed!')\n",
        "else:\n",
        "    print('Test 2 failed... try again!')\n",
        "\n",
        "# Test case 3\n",
        "example_labels = turicreate.SArray([-1, -1, -1, -1, -1, 1, 1])\n",
        "if intermediate_node_num_mistakes(example_labels) == 2:\n",
        "    print('Test passed!')\n",
        "else:\n",
        "    print('Test 3 failed... try again!')"
      ],
      "execution_count": null,
      "outputs": [
        {
          "output_type": "stream",
          "name": "stdout",
          "text": [
            "Test passed!\n",
            "Test passed!\n",
            "Test passed!\n"
          ]
        }
      ]
    },
    {
      "cell_type": "markdown",
      "metadata": {
        "id": "5Rw7VBAuj6Rv"
      },
      "source": [
        "## Function to pick best feature to split on"
      ]
    },
    {
      "cell_type": "markdown",
      "metadata": {
        "id": "rj70Vsylj6Rx"
      },
      "source": [
        "**9.** The function **best_splitting_feature** takes 3 arguments: \n",
        "1. The data (SFrame of data which includes all of the feature columns and label column)\n",
        "2. The features to consider for splits (a list of strings of column names to consider for splits)\n",
        "3. The name of the target/label column (string)\n",
        "\n",
        "The function will loop through the list of possible features, and consider splitting on each of them. It will calculate the classification error of each split and return the feature that had the smallest classification error when split on.\n",
        "\n",
        "Recall that the **classification error** is defined as follows:\n",
        "$$\n",
        "\\mbox{classification error} = \\frac{\\mbox{# mistakes}}{\\mbox{# total examples}}\n",
        "$$\n",
        "\n",
        "Follow these steps: \n",
        "* **Step 1:** Loop over each feature in the feature list\n",
        "* **Step 2:** Within the loop, split the data into two groups: one group where all of the data has feature value 0 or False (we will call this the **left** split), and one group where all of the data has feature value 1 or True (we will call this the **right** split). Make sure the **left** split corresponds with 0 and the **right** split corresponds with 1 to ensure your implementation fits with our implementation of the tree building process.\n",
        "* **Step 3:** Calculate the number of misclassified examples in both groups of data and use the above formula to compute the **classification error**.\n",
        "* **Step 4:** If the computed error is smaller than the best error found so far, store this **feature and its error**.\n",
        "\n",
        "This may seem like a lot, but we have provided pseudocode in the comments in order to help you implement the function correctly.\n",
        "\n",
        "**Note:** Remember that since we are only dealing with binary features, we do not have to consider thresholds for real-valued features. This makes the implementation of this function much easier.\n",
        "\n",
        "Fill in the places where you find `## YOUR CODE HERE`. There are **five** places in this function for you to fill in."
      ]
    },
    {
      "cell_type": "code",
      "metadata": {
        "id": "vyyQ-tgJj6Ry"
      },
      "source": [
        "def best_splitting_feature(data, features, target):\n",
        "    \n",
        "    best_feature = None # Keep track of the best feature \n",
        "    best_error = 10     # Keep track of the best error so far \n",
        "    # Note: Since error is always <= 1, we should intialize it with something larger than 1.\n",
        "\n",
        "    # Convert to float to make sure error gets computed correctly.\n",
        "    num_data_points = float(len(data))  \n",
        "    \n",
        "    # Loop through each feature to consider splitting on that feature\n",
        "    for feature in features:\n",
        "        \n",
        "        # The left split will have all data points where the feature value is 0\n",
        "        left_split = data[data[feature] == 0]\n",
        "        \n",
        "        # The right split will have all data points where the feature value is 1\n",
        "        ## YOUR CODE HERE\n",
        "        right_split =  data[data[feature] == 1]\n",
        "            \n",
        "        # Calculate the number of misclassified examples in the left split.\n",
        "        # Remember that we implemented a function for this! (It was called intermediate_node_num_mistakes)\n",
        "        # YOUR CODE HERE\n",
        "        left_mistakes = intermediate_node_num_mistakes(left_split[target])             \n",
        "\n",
        "        # Calculate the number of misclassified examples in the right split.\n",
        "        ## YOUR CODE HERE\n",
        "        right_mistakes = intermediate_node_num_mistakes(right_split[target])\n",
        "            \n",
        "        # Compute the classification error of this split.\n",
        "        # Error = (# of mistakes (left) + # of mistakes (right)) / (# of data points)\n",
        "        ## YOUR CODE HERE\n",
        "        error = (left_mistakes + right_mistakes) / num_data_points\n",
        "\n",
        "        # If this is the best error we have found so far, store the feature as best_feature and the error as best_error\n",
        "        ## YOUR CODE HERE\n",
        "        if error < best_error:\n",
        "          best_feature = feature\n",
        "          best_error = error\n",
        "        \n",
        "    \n",
        "    return best_feature # Return the best feature we found"
      ],
      "execution_count": null,
      "outputs": []
    },
    {
      "cell_type": "markdown",
      "metadata": {
        "id": "8xvQoUqXj6R1"
      },
      "source": [
        "To test your `best_splitting_feature` function, run the following code:"
      ]
    },
    {
      "cell_type": "code",
      "metadata": {
        "colab": {
          "base_uri": "https://localhost:8080/"
        },
        "id": "RKbEDopjj6R2",
        "outputId": "af9dfa17-b609-425d-d05c-3c8b73bf1bae"
      },
      "source": [
        "if best_splitting_feature(train_data, features, 'safe_loans') == 'term. 36 months':\n",
        "    print('Test passed!')\n",
        "else:\n",
        "    print('Test failed... try again!')"
      ],
      "execution_count": null,
      "outputs": [
        {
          "output_type": "stream",
          "name": "stdout",
          "text": [
            "Test passed!\n"
          ]
        }
      ]
    },
    {
      "cell_type": "markdown",
      "metadata": {
        "id": "DXKzcNCmj6R3"
      },
      "source": [
        "## Building the tree\n",
        "\n",
        "With the above functions implemented correctly, we are now ready to build our decision tree. Each node in the decision tree is represented as a dictionary which contains the following keys and possible values:\n",
        "\n",
        "    { \n",
        "       'is_leaf'            : True/False.\n",
        "       'prediction'         : Prediction at the leaf node.\n",
        "       'left'               : (dictionary corresponding to the left tree).\n",
        "       'right'              : (dictionary corresponding to the right tree).\n",
        "       'splitting_feature'  : The feature that this node splits on.\n",
        "    }\n",
        "\n",
        "**10.** First, we will write a function that creates a leaf node given a set of target values. Fill in the places where you find `## YOUR CODE HERE`. There are **three** places in this function for you to fill in."
      ]
    },
    {
      "cell_type": "code",
      "metadata": {
        "id": "gZm9rcSJj6R4"
      },
      "source": [
        "def create_leaf(target_values):\n",
        "    \n",
        "    # Create a leaf node\n",
        "    leaf = {'splitting_feature' : None,\n",
        "            'left' : None,\n",
        "            'right' : None,\n",
        "            'is_leaf': True}   ## YOUR CODE HERE\n",
        "    \n",
        "    # Count the number of data points that are +1 and -1 in this node.\n",
        "    num_ones = len(target_values[target_values == +1])\n",
        "    num_minus_ones = len(target_values[target_values == -1])\n",
        "    \n",
        "    # For the leaf node, set the prediction to be the majority class.\n",
        "    # Store the predicted class (1 or -1) in leaf['prediction']\n",
        "    if num_ones > num_minus_ones:\n",
        "        leaf['prediction'] = +1         ## YOUR CODE HERE\n",
        "    else:\n",
        "        leaf['prediction'] = -1         ## YOUR CODE HERE\n",
        "        \n",
        "    # Return the leaf node        \n",
        "    return leaf "
      ],
      "execution_count": null,
      "outputs": []
    },
    {
      "cell_type": "markdown",
      "metadata": {
        "id": "hv8E4MUNj6R5"
      },
      "source": [
        "We have provided a function that learns the decision tree recursively and implements 3 stopping conditions:\n",
        "1. **Stopping condition 1:** All data points in a node are from the same class.\n",
        "2. **Stopping condition 2:** No more features to split on.\n",
        "3. **Additional stopping condition:** In addition to the above two stopping conditions covered in lecture, in this assignment we will also consider a stopping condition based on the **max_depth** of the tree. By not letting the tree grow too deep, we will save computational effort in the learning process. \n",
        "\n",
        "**11.** Now, we will write down the skeleton of the learning algorithm. Fill in the places where you find `## YOUR CODE HERE`. There are **seven** places in this function for you to fill in."
      ]
    },
    {
      "cell_type": "code",
      "metadata": {
        "id": "MD2bu1w8j6R5"
      },
      "source": [
        "def decision_tree_create(data, features, target, current_depth = 0, max_depth = 10):\n",
        "    remaining_features = features[:] # Make a copy of the features.\n",
        "    \n",
        "    target_values = data[target]\n",
        "    print(\"--------------------------------------------------------------------\")\n",
        "    print(\"Subtree, depth = %s (%s data points).\" % (current_depth, len(target_values)))\n",
        "\n",
        "\n",
        "    # Stopping condition 1\n",
        "    # (Check if there are mistakes at current node.\n",
        "    # Recall you wrote a function intermediate_node_num_mistakes to compute this.)\n",
        "    if intermediate_node_num_mistakes(target_values) == 0:  ## YOUR CODE HERE\n",
        "        print(\"Stopping condition 1 reached.\")\n",
        "        # If not mistakes at current node, make current node a leaf node\n",
        "        return create_leaf(target_values)\n",
        "    \n",
        "    # Stopping condition 2 (check if there are remaining features to consider splitting on)\n",
        "    if remaining_features == []:   ## YOUR CODE HERE\n",
        "        print(\"Stopping condition 2 reached.\")\n",
        "        # If there are no remaining features to consider, make current node a leaf node\n",
        "        return create_leaf(target_values)    \n",
        "    \n",
        "    # Additional stopping condition (limit tree depth)\n",
        "    if current_depth >= max_depth:  ## YOUR CODE HERE\n",
        "        print(\"Reached maximum depth. Stopping for now.\")\n",
        "        # If the max tree depth has been reached, make current node a leaf node\n",
        "        return create_leaf(target_values)\n",
        "\n",
        "    # Find the best splitting feature (recall the function best_splitting_feature implemented above)\n",
        "    ## YOUR CODE HERE\n",
        "    splitting_feature = best_splitting_feature(data, features, target)\n",
        "\n",
        "    \n",
        "    # Split on the best feature that we found. \n",
        "    left_split = data[data[splitting_feature] == 0]\n",
        "    right_split = data[data[splitting_feature] == 1]      ## YOUR CODE HERE\n",
        "    remaining_features.remove(splitting_feature)\n",
        "    print(\"Split on feature %s. (%s, %s)\" % (\\\n",
        "                      splitting_feature, len(left_split), len(right_split)))\n",
        "    \n",
        "    # Create a leaf node if the split is \"perfect\"\n",
        "    if len(left_split) == len(data):\n",
        "        print(\"Creating leaf node.\")\n",
        "        return create_leaf(left_split[target])\n",
        "    if len(right_split) == len(data):\n",
        "        print(\"Creating leaf node.\")\n",
        "        ## YOUR CODE HERE\n",
        "        return create_leaf(right_split[target])\n",
        "\n",
        "        \n",
        "    # Repeat (recurse) on left and right subtrees\n",
        "    left_tree = decision_tree_create(left_split, remaining_features, target, current_depth + 1, max_depth)        \n",
        "    ## YOUR CODE HERE\n",
        "    right_tree = decision_tree_create(right_split, remaining_features, target, current_depth + 1, max_depth)\n",
        "\n",
        "    return {'is_leaf'          : False, \n",
        "            'prediction'       : None,\n",
        "            'splitting_feature': splitting_feature,\n",
        "            'left'             : left_tree, \n",
        "            'right'            : right_tree}"
      ],
      "execution_count": null,
      "outputs": []
    },
    {
      "cell_type": "markdown",
      "metadata": {
        "id": "D8iAIzxOj6R6"
      },
      "source": [
        "Here is a recursive function to count the nodes in your tree:"
      ]
    },
    {
      "cell_type": "code",
      "metadata": {
        "id": "ZsErEfYNj6R6"
      },
      "source": [
        "def count_nodes(tree):\n",
        "    if tree['is_leaf']:\n",
        "        return 1\n",
        "    return 1 + count_nodes(tree['left']) + count_nodes(tree['right'])"
      ],
      "execution_count": null,
      "outputs": []
    },
    {
      "cell_type": "markdown",
      "metadata": {
        "id": "RxQ8e4pSj6R7"
      },
      "source": [
        "Run the following test code to check your implementation. Make sure you get **'Test passed'** before proceeding."
      ]
    },
    {
      "cell_type": "code",
      "metadata": {
        "colab": {
          "base_uri": "https://localhost:8080/"
        },
        "id": "uyYsOhGoj6R7",
        "outputId": "f2603bd1-1d9a-4054-ce59-3469298de296"
      },
      "source": [
        "small_data_decision_tree = decision_tree_create(train_data, features, 'safe_loans', max_depth = 3)\n",
        "if count_nodes(small_data_decision_tree) == 13:\n",
        "    print('Test passed!')\n",
        "else:\n",
        "    print('Test failed... try again!')\n",
        "    print('Number of nodes found                :', count_nodes(small_data_decision_tree))\n",
        "    print('Number of nodes that should be there : 13' )"
      ],
      "execution_count": null,
      "outputs": [
        {
          "output_type": "stream",
          "name": "stdout",
          "text": [
            "--------------------------------------------------------------------\n",
            "Subtree, depth = 0 (37224 data points).\n",
            "Split on feature term. 36 months. (9223, 28001)\n",
            "--------------------------------------------------------------------\n",
            "Subtree, depth = 1 (9223 data points).\n",
            "Split on feature grade.A. (9122, 101)\n",
            "--------------------------------------------------------------------\n",
            "Subtree, depth = 2 (9122 data points).\n",
            "Split on feature grade.B. (8074, 1048)\n",
            "--------------------------------------------------------------------\n",
            "Subtree, depth = 3 (8074 data points).\n",
            "Reached maximum depth. Stopping for now.\n",
            "--------------------------------------------------------------------\n",
            "Subtree, depth = 3 (1048 data points).\n",
            "Reached maximum depth. Stopping for now.\n",
            "--------------------------------------------------------------------\n",
            "Subtree, depth = 2 (101 data points).\n",
            "Split on feature emp_length.n/a. (96, 5)\n",
            "--------------------------------------------------------------------\n",
            "Subtree, depth = 3 (96 data points).\n",
            "Reached maximum depth. Stopping for now.\n",
            "--------------------------------------------------------------------\n",
            "Subtree, depth = 3 (5 data points).\n",
            "Reached maximum depth. Stopping for now.\n",
            "--------------------------------------------------------------------\n",
            "Subtree, depth = 1 (28001 data points).\n",
            "Split on feature grade.D. (23300, 4701)\n",
            "--------------------------------------------------------------------\n",
            "Subtree, depth = 2 (23300 data points).\n",
            "Split on feature grade.E. (22024, 1276)\n",
            "--------------------------------------------------------------------\n",
            "Subtree, depth = 3 (22024 data points).\n",
            "Reached maximum depth. Stopping for now.\n",
            "--------------------------------------------------------------------\n",
            "Subtree, depth = 3 (1276 data points).\n",
            "Reached maximum depth. Stopping for now.\n",
            "--------------------------------------------------------------------\n",
            "Subtree, depth = 2 (4701 data points).\n",
            "Split on feature grade.A. (4701, 0)\n",
            "Creating leaf node.\n",
            "Test passed!\n"
          ]
        }
      ]
    },
    {
      "cell_type": "markdown",
      "metadata": {
        "id": "VlCENLxqj6R8"
      },
      "source": [
        "## Build the tree!\n",
        "\n",
        "**12.** Now that all the tests are passing, we will train a tree model on the **train_data**. Limit the depth to 6 (**max_depth = 6**) to make sure the algorithm doesn't run for too long. Call this tree **my_decision_tree**. \n",
        "\n",
        "**Warning**: This code block may take 1-2 minutes to learn. "
      ]
    },
    {
      "cell_type": "code",
      "metadata": {
        "colab": {
          "base_uri": "https://localhost:8080/"
        },
        "id": "t0cUZu2Jj6R8",
        "outputId": "a4b334bc-d6f5-4560-a907-3a9d91c1db51"
      },
      "source": [
        "# Make sure to cap the depth at 6 by using max_depth = 6\n",
        "my_decision_tree = decision_tree_create(train_data, features, 'safe_loans', max_depth = 6)"
      ],
      "execution_count": null,
      "outputs": [
        {
          "output_type": "stream",
          "name": "stdout",
          "text": [
            "--------------------------------------------------------------------\n",
            "Subtree, depth = 0 (37224 data points).\n",
            "Split on feature term. 36 months. (9223, 28001)\n",
            "--------------------------------------------------------------------\n",
            "Subtree, depth = 1 (9223 data points).\n",
            "Split on feature grade.A. (9122, 101)\n",
            "--------------------------------------------------------------------\n",
            "Subtree, depth = 2 (9122 data points).\n",
            "Split on feature grade.B. (8074, 1048)\n",
            "--------------------------------------------------------------------\n",
            "Subtree, depth = 3 (8074 data points).\n",
            "Split on feature grade.C. (5884, 2190)\n",
            "--------------------------------------------------------------------\n",
            "Subtree, depth = 4 (5884 data points).\n",
            "Split on feature grade.D. (3826, 2058)\n",
            "--------------------------------------------------------------------\n",
            "Subtree, depth = 5 (3826 data points).\n",
            "Split on feature grade.E. (1693, 2133)\n",
            "--------------------------------------------------------------------\n",
            "Subtree, depth = 6 (1693 data points).\n",
            "Reached maximum depth. Stopping for now.\n",
            "--------------------------------------------------------------------\n",
            "Subtree, depth = 6 (2133 data points).\n",
            "Reached maximum depth. Stopping for now.\n",
            "--------------------------------------------------------------------\n",
            "Subtree, depth = 5 (2058 data points).\n",
            "Split on feature grade.E. (2058, 0)\n",
            "Creating leaf node.\n",
            "--------------------------------------------------------------------\n",
            "Subtree, depth = 4 (2190 data points).\n",
            "Split on feature grade.D. (2190, 0)\n",
            "Creating leaf node.\n",
            "--------------------------------------------------------------------\n",
            "Subtree, depth = 3 (1048 data points).\n",
            "Split on feature emp_length.5 years. (969, 79)\n",
            "--------------------------------------------------------------------\n",
            "Subtree, depth = 4 (969 data points).\n",
            "Split on feature grade.C. (969, 0)\n",
            "Creating leaf node.\n",
            "--------------------------------------------------------------------\n",
            "Subtree, depth = 4 (79 data points).\n",
            "Split on feature home_ownership.MORTGAGE. (34, 45)\n",
            "--------------------------------------------------------------------\n",
            "Subtree, depth = 5 (34 data points).\n",
            "Split on feature grade.C. (34, 0)\n",
            "Creating leaf node.\n",
            "--------------------------------------------------------------------\n",
            "Subtree, depth = 5 (45 data points).\n",
            "Split on feature grade.C. (45, 0)\n",
            "Creating leaf node.\n",
            "--------------------------------------------------------------------\n",
            "Subtree, depth = 2 (101 data points).\n",
            "Split on feature emp_length.n/a. (96, 5)\n",
            "--------------------------------------------------------------------\n",
            "Subtree, depth = 3 (96 data points).\n",
            "Split on feature emp_length.< 1 year. (85, 11)\n",
            "--------------------------------------------------------------------\n",
            "Subtree, depth = 4 (85 data points).\n",
            "Split on feature grade.B. (85, 0)\n",
            "Creating leaf node.\n",
            "--------------------------------------------------------------------\n",
            "Subtree, depth = 4 (11 data points).\n",
            "Split on feature grade.B. (11, 0)\n",
            "Creating leaf node.\n",
            "--------------------------------------------------------------------\n",
            "Subtree, depth = 3 (5 data points).\n",
            "Split on feature grade.B. (5, 0)\n",
            "Creating leaf node.\n",
            "--------------------------------------------------------------------\n",
            "Subtree, depth = 1 (28001 data points).\n",
            "Split on feature grade.D. (23300, 4701)\n",
            "--------------------------------------------------------------------\n",
            "Subtree, depth = 2 (23300 data points).\n",
            "Split on feature grade.E. (22024, 1276)\n",
            "--------------------------------------------------------------------\n",
            "Subtree, depth = 3 (22024 data points).\n",
            "Split on feature grade.F. (21666, 358)\n",
            "--------------------------------------------------------------------\n",
            "Subtree, depth = 4 (21666 data points).\n",
            "Split on feature emp_length.n/a. (20734, 932)\n",
            "--------------------------------------------------------------------\n",
            "Subtree, depth = 5 (20734 data points).\n",
            "Split on feature grade.G. (20638, 96)\n",
            "--------------------------------------------------------------------\n",
            "Subtree, depth = 6 (20638 data points).\n",
            "Reached maximum depth. Stopping for now.\n",
            "--------------------------------------------------------------------\n",
            "Subtree, depth = 6 (96 data points).\n",
            "Reached maximum depth. Stopping for now.\n",
            "--------------------------------------------------------------------\n",
            "Subtree, depth = 5 (932 data points).\n",
            "Split on feature grade.A. (702, 230)\n",
            "--------------------------------------------------------------------\n",
            "Subtree, depth = 6 (702 data points).\n",
            "Reached maximum depth. Stopping for now.\n",
            "--------------------------------------------------------------------\n",
            "Subtree, depth = 6 (230 data points).\n",
            "Reached maximum depth. Stopping for now.\n",
            "--------------------------------------------------------------------\n",
            "Subtree, depth = 4 (358 data points).\n",
            "Split on feature emp_length.8 years. (347, 11)\n",
            "--------------------------------------------------------------------\n",
            "Subtree, depth = 5 (347 data points).\n",
            "Split on feature grade.A. (347, 0)\n",
            "Creating leaf node.\n",
            "--------------------------------------------------------------------\n",
            "Subtree, depth = 5 (11 data points).\n",
            "Split on feature home_ownership.OWN. (9, 2)\n",
            "--------------------------------------------------------------------\n",
            "Subtree, depth = 6 (9 data points).\n",
            "Reached maximum depth. Stopping for now.\n",
            "--------------------------------------------------------------------\n",
            "Subtree, depth = 6 (2 data points).\n",
            "Stopping condition 1 reached.\n",
            "--------------------------------------------------------------------\n",
            "Subtree, depth = 3 (1276 data points).\n",
            "Split on feature grade.A. (1276, 0)\n",
            "Creating leaf node.\n",
            "--------------------------------------------------------------------\n",
            "Subtree, depth = 2 (4701 data points).\n",
            "Split on feature grade.A. (4701, 0)\n",
            "Creating leaf node.\n"
          ]
        }
      ]
    },
    {
      "cell_type": "code",
      "metadata": {
        "colab": {
          "base_uri": "https://localhost:8080/"
        },
        "id": "bbG-k8QUqCPC",
        "outputId": "632b01f7-f249-4a4f-eed7-d66b2e5c7e38"
      },
      "source": [
        "my_decision_tree"
      ],
      "execution_count": null,
      "outputs": [
        {
          "output_type": "execute_result",
          "data": {
            "text/plain": [
              "{'is_leaf': False,\n",
              " 'left': {'is_leaf': False,\n",
              "  'left': {'is_leaf': False,\n",
              "   'left': {'is_leaf': False,\n",
              "    'left': {'is_leaf': False,\n",
              "     'left': {'is_leaf': False,\n",
              "      'left': {'is_leaf': True,\n",
              "       'left': None,\n",
              "       'prediction': -1,\n",
              "       'right': None,\n",
              "       'splitting_feature': None},\n",
              "      'prediction': None,\n",
              "      'right': {'is_leaf': True,\n",
              "       'left': None,\n",
              "       'prediction': -1,\n",
              "       'right': None,\n",
              "       'splitting_feature': None},\n",
              "      'splitting_feature': 'grade.E'},\n",
              "     'prediction': None,\n",
              "     'right': {'is_leaf': True,\n",
              "      'left': None,\n",
              "      'prediction': -1,\n",
              "      'right': None,\n",
              "      'splitting_feature': None},\n",
              "     'splitting_feature': 'grade.D'},\n",
              "    'prediction': None,\n",
              "    'right': {'is_leaf': True,\n",
              "     'left': None,\n",
              "     'prediction': -1,\n",
              "     'right': None,\n",
              "     'splitting_feature': None},\n",
              "    'splitting_feature': 'grade.C'},\n",
              "   'prediction': None,\n",
              "   'right': {'is_leaf': False,\n",
              "    'left': {'is_leaf': True,\n",
              "     'left': None,\n",
              "     'prediction': -1,\n",
              "     'right': None,\n",
              "     'splitting_feature': None},\n",
              "    'prediction': None,\n",
              "    'right': {'is_leaf': False,\n",
              "     'left': {'is_leaf': True,\n",
              "      'left': None,\n",
              "      'prediction': 1,\n",
              "      'right': None,\n",
              "      'splitting_feature': None},\n",
              "     'prediction': None,\n",
              "     'right': {'is_leaf': True,\n",
              "      'left': None,\n",
              "      'prediction': -1,\n",
              "      'right': None,\n",
              "      'splitting_feature': None},\n",
              "     'splitting_feature': 'home_ownership.MORTGAGE'},\n",
              "    'splitting_feature': 'emp_length.5 years'},\n",
              "   'splitting_feature': 'grade.B'},\n",
              "  'prediction': None,\n",
              "  'right': {'is_leaf': False,\n",
              "   'left': {'is_leaf': False,\n",
              "    'left': {'is_leaf': True,\n",
              "     'left': None,\n",
              "     'prediction': 1,\n",
              "     'right': None,\n",
              "     'splitting_feature': None},\n",
              "    'prediction': None,\n",
              "    'right': {'is_leaf': True,\n",
              "     'left': None,\n",
              "     'prediction': -1,\n",
              "     'right': None,\n",
              "     'splitting_feature': None},\n",
              "    'splitting_feature': 'emp_length.< 1 year'},\n",
              "   'prediction': None,\n",
              "   'right': {'is_leaf': True,\n",
              "    'left': None,\n",
              "    'prediction': -1,\n",
              "    'right': None,\n",
              "    'splitting_feature': None},\n",
              "   'splitting_feature': 'emp_length.n/a'},\n",
              "  'splitting_feature': 'grade.A'},\n",
              " 'prediction': None,\n",
              " 'right': {'is_leaf': False,\n",
              "  'left': {'is_leaf': False,\n",
              "   'left': {'is_leaf': False,\n",
              "    'left': {'is_leaf': False,\n",
              "     'left': {'is_leaf': False,\n",
              "      'left': {'is_leaf': True,\n",
              "       'left': None,\n",
              "       'prediction': 1,\n",
              "       'right': None,\n",
              "       'splitting_feature': None},\n",
              "      'prediction': None,\n",
              "      'right': {'is_leaf': True,\n",
              "       'left': None,\n",
              "       'prediction': -1,\n",
              "       'right': None,\n",
              "       'splitting_feature': None},\n",
              "      'splitting_feature': 'grade.G'},\n",
              "     'prediction': None,\n",
              "     'right': {'is_leaf': False,\n",
              "      'left': {'is_leaf': True,\n",
              "       'left': None,\n",
              "       'prediction': -1,\n",
              "       'right': None,\n",
              "       'splitting_feature': None},\n",
              "      'prediction': None,\n",
              "      'right': {'is_leaf': True,\n",
              "       'left': None,\n",
              "       'prediction': 1,\n",
              "       'right': None,\n",
              "       'splitting_feature': None},\n",
              "      'splitting_feature': 'grade.A'},\n",
              "     'splitting_feature': 'emp_length.n/a'},\n",
              "    'prediction': None,\n",
              "    'right': {'is_leaf': False,\n",
              "     'left': {'is_leaf': True,\n",
              "      'left': None,\n",
              "      'prediction': -1,\n",
              "      'right': None,\n",
              "      'splitting_feature': None},\n",
              "     'prediction': None,\n",
              "     'right': {'is_leaf': False,\n",
              "      'left': {'is_leaf': True,\n",
              "       'left': None,\n",
              "       'prediction': 1,\n",
              "       'right': None,\n",
              "       'splitting_feature': None},\n",
              "      'prediction': None,\n",
              "      'right': {'is_leaf': True,\n",
              "       'left': None,\n",
              "       'prediction': -1,\n",
              "       'right': None,\n",
              "       'splitting_feature': None},\n",
              "      'splitting_feature': 'home_ownership.OWN'},\n",
              "     'splitting_feature': 'emp_length.8 years'},\n",
              "    'splitting_feature': 'grade.F'},\n",
              "   'prediction': None,\n",
              "   'right': {'is_leaf': True,\n",
              "    'left': None,\n",
              "    'prediction': -1,\n",
              "    'right': None,\n",
              "    'splitting_feature': None},\n",
              "   'splitting_feature': 'grade.E'},\n",
              "  'prediction': None,\n",
              "  'right': {'is_leaf': True,\n",
              "   'left': None,\n",
              "   'prediction': -1,\n",
              "   'right': None,\n",
              "   'splitting_feature': None},\n",
              "  'splitting_feature': 'grade.D'},\n",
              " 'splitting_feature': 'term. 36 months'}"
            ]
          },
          "metadata": {},
          "execution_count": 28
        }
      ]
    },
    {
      "cell_type": "markdown",
      "metadata": {
        "id": "5afYPeeDj6R8"
      },
      "source": [
        "## Making predictions with a decision tree\n",
        "\n",
        "**13.** As discussed in the lecture, we can make predictions from the decision tree with a simple recursive function. Below, we call this function `classify`, which takes in a learned `tree` and a test point `x` to classify.  We include an option `annotate` that describes the prediction path when set to `True`.\n",
        "\n",
        "Fill in the places where you find `## YOUR CODE HERE`. There is **one** place in this function for you to fill in."
      ]
    },
    {
      "cell_type": "code",
      "metadata": {
        "id": "9ZF8pTh5j6R9"
      },
      "source": [
        "def classify(tree, x, annotate = False):   \n",
        "    # if the node is a leaf node.\n",
        "    if tree['is_leaf']:\n",
        "        if annotate: \n",
        "            print(\"At leaf, predicting %s\" % tree['prediction'])\n",
        "        return tree['prediction'] \n",
        "    else:\n",
        "        # split on feature.\n",
        "        split_feature_value = x[tree['splitting_feature']]\n",
        "        if annotate: \n",
        "            print(\"Split on %s = %s\" % (tree['splitting_feature'], split_feature_value))\n",
        "        if split_feature_value == 0:\n",
        "            return classify(tree['left'], x, annotate)\n",
        "        else:\n",
        "               ### YOUR CODE HERE\n",
        "               return classify(tree['right'], x, annotate)"
      ],
      "execution_count": null,
      "outputs": []
    },
    {
      "cell_type": "markdown",
      "metadata": {
        "id": "Qci4S6NXj6R9"
      },
      "source": [
        "Now, let's consider the first example of the test set and see what `my_decision_tree` model predicts for this data point."
      ]
    },
    {
      "cell_type": "code",
      "metadata": {
        "colab": {
          "base_uri": "https://localhost:8080/"
        },
        "id": "9i0DTWkLj6R9",
        "outputId": "759106ac-4211-4adc-d604-3e36dfa1d670"
      },
      "source": [
        "test_data[0]"
      ],
      "execution_count": null,
      "outputs": [
        {
          "output_type": "execute_result",
          "data": {
            "text/plain": [
              "{'emp_length.1 year': 0,\n",
              " 'emp_length.10+ years': 0,\n",
              " 'emp_length.2 years': 1,\n",
              " 'emp_length.3 years': 0,\n",
              " 'emp_length.4 years': 0,\n",
              " 'emp_length.5 years': 0,\n",
              " 'emp_length.6 years': 0,\n",
              " 'emp_length.7 years': 0,\n",
              " 'emp_length.8 years': 0,\n",
              " 'emp_length.9 years': 0,\n",
              " 'emp_length.< 1 year': 0,\n",
              " 'emp_length.n/a': 0,\n",
              " 'grade.A': 0,\n",
              " 'grade.B': 0,\n",
              " 'grade.C': 0,\n",
              " 'grade.D': 1,\n",
              " 'grade.E': 0,\n",
              " 'grade.F': 0,\n",
              " 'grade.G': 0,\n",
              " 'home_ownership.MORTGAGE': 0,\n",
              " 'home_ownership.OTHER': 0,\n",
              " 'home_ownership.OWN': 0,\n",
              " 'home_ownership.RENT': 1,\n",
              " 'safe_loans': -1,\n",
              " 'term. 36 months': 0,\n",
              " 'term. 60 months': 1}"
            ]
          },
          "metadata": {},
          "execution_count": 30
        }
      ]
    },
    {
      "cell_type": "code",
      "metadata": {
        "colab": {
          "base_uri": "https://localhost:8080/"
        },
        "id": "vqCJlpd1j6R-",
        "outputId": "2d7c886e-9435-40c8-ba35-caf73eddbfbd"
      },
      "source": [
        "print('Predicted class: %s ' % classify(my_decision_tree, test_data[0]))"
      ],
      "execution_count": null,
      "outputs": [
        {
          "output_type": "stream",
          "name": "stdout",
          "text": [
            "Predicted class: -1 \n"
          ]
        }
      ]
    },
    {
      "cell_type": "markdown",
      "metadata": {
        "id": "aZs5EFwHj6R-"
      },
      "source": [
        "**15.** Let's add some annotations to our prediction to see what the prediction path was that lead to this predicted class:"
      ]
    },
    {
      "cell_type": "code",
      "metadata": {
        "colab": {
          "base_uri": "https://localhost:8080/"
        },
        "id": "4Ki1s_I1j6R-",
        "outputId": "4ae9806e-86a5-4ebf-8cce-ea7360abad75"
      },
      "source": [
        "classify(my_decision_tree, test_data[0], annotate=True)"
      ],
      "execution_count": null,
      "outputs": [
        {
          "output_type": "stream",
          "name": "stdout",
          "text": [
            "Split on term. 36 months = 0\n",
            "Split on grade.A = 0\n",
            "Split on grade.B = 0\n",
            "Split on grade.C = 0\n",
            "Split on grade.D = 1\n",
            "At leaf, predicting -1\n"
          ]
        },
        {
          "output_type": "execute_result",
          "data": {
            "text/plain": [
              "-1"
            ]
          },
          "metadata": {},
          "execution_count": 32
        }
      ]
    },
    {
      "cell_type": "code",
      "metadata": {
        "colab": {
          "base_uri": "https://localhost:8080/"
        },
        "id": "WiIlYsLjqaAe",
        "outputId": "9d8ac678-5de7-4aa2-8501-d8cb8e60386c"
      },
      "source": [
        "classify(small_data_decision_tree, test_data[0], annotate=True)"
      ],
      "execution_count": null,
      "outputs": [
        {
          "output_type": "stream",
          "name": "stdout",
          "text": [
            "Split on term. 36 months = 0\n",
            "Split on grade.A = 0\n",
            "Split on grade.B = 0\n",
            "At leaf, predicting -1\n"
          ]
        },
        {
          "output_type": "execute_result",
          "data": {
            "text/plain": [
              "-1"
            ]
          },
          "metadata": {},
          "execution_count": 33
        }
      ]
    },
    {
      "cell_type": "markdown",
      "metadata": {
        "id": "oVWF5nwnj6R_"
      },
      "source": [
        "**Quiz Question:** What was the feature that **my_decision_tree** first split on while making the prediction for test_data[0]?"
      ]
    },
    {
      "cell_type": "markdown",
      "metadata": {
        "id": "V0R88kdgj6R_"
      },
      "source": [
        "**Quiz Question:** What was the first feature that lead to a right split of test_data[0]?"
      ]
    },
    {
      "cell_type": "markdown",
      "metadata": {
        "id": "wxY-qrzgj6R_"
      },
      "source": [
        "**Quiz Question:** What was the last feature split on before reaching a leaf node for test_data[0]?"
      ]
    },
    {
      "cell_type": "markdown",
      "metadata": {
        "id": "he7JRW5rj6SA"
      },
      "source": [
        "## Evaluating your decision tree"
      ]
    },
    {
      "cell_type": "markdown",
      "metadata": {
        "id": "WGhihk0Fj6SA"
      },
      "source": [
        "**16.** Now, we will write a function to evaluate a decision tree by computing the classification error of the tree on the given dataset.\n",
        "\n",
        "Again, recall that the **classification error** is defined as follows:\n",
        "$$\n",
        "\\mbox{classification error} = \\frac{\\mbox{# mistakes}}{\\mbox{# total examples}}\n",
        "$$\n",
        "\n",
        "Now, write a function called `evaluate_classification_error` that takes in as input:\n",
        "1. `tree` (as described above)\n",
        "2. `data` (an SFrame)\n",
        "3. `target` (a string - the name of the target/label column)\n",
        "\n",
        "This function should calculate a prediction (class label) for each row in `data` using the decision `tree` and return the classification error computed using the above formula. Fill in the places where you find `## YOUR CODE HERE`. There is **one** place in this function for you to fill in."
      ]
    },
    {
      "cell_type": "code",
      "metadata": {
        "id": "aoRk2n_yj6SB"
      },
      "source": [
        "def evaluate_classification_error(tree, data, target):\n",
        "    # Apply the classify(tree, x) to each row in your data\n",
        "    prediction = data.apply(lambda x: classify(tree, x))\n",
        "    \n",
        "    # Once you've made the predictions, calculate the classification error and return it\n",
        "    ## YOUR CODE HERE\n",
        "    num_of_mistakes = (prediction != data[target]).sum()/float(len(data))\n",
        "    return num_of_mistakes\n",
        "    "
      ],
      "execution_count": null,
      "outputs": []
    },
    {
      "cell_type": "markdown",
      "metadata": {
        "id": "h4RZ-hImj6SB"
      },
      "source": [
        "**17.** Now, let's use this function to evaluate the classification error on the test set."
      ]
    },
    {
      "cell_type": "code",
      "metadata": {
        "colab": {
          "base_uri": "https://localhost:8080/"
        },
        "id": "OP8FjY3-j6SC",
        "outputId": "caa62800-e992-4e46-c9a1-30fb125153e0"
      },
      "source": [
        "evaluate_classification_error(my_decision_tree, test_data, target)"
      ],
      "execution_count": null,
      "outputs": [
        {
          "output_type": "execute_result",
          "data": {
            "text/plain": [
              "0.3837785437311504"
            ]
          },
          "metadata": {},
          "execution_count": 35
        }
      ]
    },
    {
      "cell_type": "markdown",
      "metadata": {
        "id": "a4G8-6LLj6SD"
      },
      "source": [
        "**Quiz Question:** Rounded to 2nd decimal point, what is the classification error of **my_decision_tree** on the **test_data**?"
      ]
    },
    {
      "cell_type": "markdown",
      "metadata": {
        "id": "TQLXha15j6SD"
      },
      "source": [
        "## Printing out a decision stump"
      ]
    },
    {
      "cell_type": "markdown",
      "metadata": {
        "id": "MxWTTwsnj6SD"
      },
      "source": [
        "**18.** As discussed in the lecture, we can print out a single decision stump (printing out the entire tree is left as an exercise to the curious reader). "
      ]
    },
    {
      "cell_type": "code",
      "metadata": {
        "id": "iS44a3eXj6SE"
      },
      "source": [
        "def print_stump(tree, name = 'root'):\n",
        "    split_name = tree['splitting_feature'] # split_name is something like 'term. 36 months'\n",
        "    if split_name is None:\n",
        "        print(\"(leaf, label: %s)\" % tree['prediction'])\n",
        "        return None\n",
        "    split_feature, split_value = split_name.split('.')\n",
        "    print('                       %s' % name)\n",
        "    print('         |---------------|----------------|')\n",
        "    print('         |                                |')\n",
        "    print('         |                                |')\n",
        "    print('         |                                |')\n",
        "    print('  [{0} == 0]               [{0} == 1]    '.format(split_name))\n",
        "    print('         |                                |')\n",
        "    print('         |                                |')\n",
        "    print('         |                                |')\n",
        "    print('    (%s)                         (%s)' \\\n",
        "        % (('leaf, label: ' + str(tree['left']['prediction']) if tree['left']['is_leaf'] else 'subtree'),\n",
        "           ('leaf, label: ' + str(tree['right']['prediction']) if tree['right']['is_leaf'] else 'subtree')))"
      ],
      "execution_count": null,
      "outputs": []
    },
    {
      "cell_type": "code",
      "metadata": {
        "colab": {
          "base_uri": "https://localhost:8080/"
        },
        "id": "mgEV6thzj6SF",
        "outputId": "c01a0c69-afa8-4a6b-cad3-ad977203a2ec"
      },
      "source": [
        "print_stump(my_decision_tree)"
      ],
      "execution_count": null,
      "outputs": [
        {
          "output_type": "stream",
          "name": "stdout",
          "text": [
            "                       root\n",
            "         |---------------|----------------|\n",
            "         |                                |\n",
            "         |                                |\n",
            "         |                                |\n",
            "  [term. 36 months == 0]               [term. 36 months == 1]    \n",
            "         |                                |\n",
            "         |                                |\n",
            "         |                                |\n",
            "    (subtree)                         (subtree)\n"
          ]
        }
      ]
    },
    {
      "cell_type": "markdown",
      "metadata": {
        "id": "FcoZcxTFj6SG"
      },
      "source": [
        "**Quiz Question:** What is the feature that is used for the split at the root node?\n",
        "\n",
        "### 20. Exploring the intermediate left subtree\n",
        "\n",
        "The tree is a recursive dictionary, so we do have access to all the nodes! We can use\n",
        "* `my_decision_tree['left']` to go left\n",
        "* `my_decision_tree['right']` to go right"
      ]
    },
    {
      "cell_type": "code",
      "metadata": {
        "colab": {
          "base_uri": "https://localhost:8080/"
        },
        "id": "gTTG11m8j6SG",
        "outputId": "fb2bb86f-c4c8-465f-caa1-2e25fefb7314"
      },
      "source": [
        "print_stump(my_decision_tree['left'], my_decision_tree['splitting_feature'])"
      ],
      "execution_count": null,
      "outputs": [
        {
          "output_type": "stream",
          "name": "stdout",
          "text": [
            "                       term. 36 months\n",
            "         |---------------|----------------|\n",
            "         |                                |\n",
            "         |                                |\n",
            "         |                                |\n",
            "  [grade.A == 0]               [grade.A == 1]    \n",
            "         |                                |\n",
            "         |                                |\n",
            "         |                                |\n",
            "    (subtree)                         (subtree)\n"
          ]
        }
      ]
    },
    {
      "cell_type": "markdown",
      "metadata": {
        "id": "ZmNYsgqMj6SG"
      },
      "source": [
        "### Exploring the left subtree of the left subtree\n"
      ]
    },
    {
      "cell_type": "code",
      "metadata": {
        "colab": {
          "base_uri": "https://localhost:8080/"
        },
        "id": "f_pl6812j6SH",
        "outputId": "4d3310bf-21b7-4118-ad2b-7a228c1ed4e0"
      },
      "source": [
        "print_stump(my_decision_tree['left']['left'], my_decision_tree['left']['splitting_feature'])"
      ],
      "execution_count": null,
      "outputs": [
        {
          "output_type": "stream",
          "name": "stdout",
          "text": [
            "                       grade.A\n",
            "         |---------------|----------------|\n",
            "         |                                |\n",
            "         |                                |\n",
            "         |                                |\n",
            "  [grade.B == 0]               [grade.B == 1]    \n",
            "         |                                |\n",
            "         |                                |\n",
            "         |                                |\n",
            "    (subtree)                         (subtree)\n"
          ]
        }
      ]
    },
    {
      "cell_type": "markdown",
      "metadata": {
        "id": "JoiCKPw-j6SH"
      },
      "source": [
        "**Quiz Question:** What is the path of the **first 3 feature splits** considered along the **left-most** branch of **my_decision_tree**?"
      ]
    },
    {
      "cell_type": "markdown",
      "metadata": {
        "id": "WseJEvUgj6SH"
      },
      "source": [
        "**Quiz Question:** What is the path of the **first 3 feature splits** considered along the **right-most** branch of **my_decision_tree**?"
      ]
    },
    {
      "cell_type": "code",
      "metadata": {
        "colab": {
          "base_uri": "https://localhost:8080/"
        },
        "id": "eXXi2eh1j6SI",
        "outputId": "bae90f1a-8b1a-4714-a5e9-eb6ee97b0feb"
      },
      "source": [
        "print_stump(my_decision_tree['right'], my_decision_tree['splitting_feature'])"
      ],
      "execution_count": null,
      "outputs": [
        {
          "output_type": "stream",
          "name": "stdout",
          "text": [
            "                       term. 36 months\n",
            "         |---------------|----------------|\n",
            "         |                                |\n",
            "         |                                |\n",
            "         |                                |\n",
            "  [grade.D == 0]               [grade.D == 1]    \n",
            "         |                                |\n",
            "         |                                |\n",
            "         |                                |\n",
            "    (subtree)                         (leaf, label: -1)\n"
          ]
        }
      ]
    }
  ]
}