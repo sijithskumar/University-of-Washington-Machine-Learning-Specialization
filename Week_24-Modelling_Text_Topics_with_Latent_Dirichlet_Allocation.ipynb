{
  "nbformat": 4,
  "nbformat_minor": 0,
  "metadata": {
    "kernelspec": {
      "display_name": "Python 3",
      "language": "python",
      "name": "python3"
    },
    "language_info": {
      "codemirror_mode": {
        "name": "ipython",
        "version": 3
      },
      "file_extension": ".py",
      "mimetype": "text/x-python",
      "name": "python",
      "nbconvert_exporter": "python",
      "pygments_lexer": "ipython3",
      "version": "3.6.8"
    },
    "colab": {
      "name": "Modelling Text Topics with Latent Dirichlet Allocation_CLU05-NB01.ipynb",
      "provenance": []
    }
  },
  "cells": [
    {
      "cell_type": "markdown",
      "metadata": {
        "id": "GE6XChYmv_GF"
      },
      "source": [
        "# Latent Dirichlet Allocation for Text Data\n",
        "\n",
        "In this assignment you will\n",
        "\n",
        "* apply standard preprocessing techniques on Wikipedia text data\n",
        "* use Turi Create to fit a Latent Dirichlet allocation (LDA) model\n",
        "* explore and interpret the results, including topic keywords and topic assignments for documents\n",
        "\n",
        "Recall that a major feature distinguishing the LDA model from our previously explored methods is the notion of *mixed membership*. Throughout the course so far, our models have assumed that each data point belongs to a single cluster. k-means determines membership simply by shortest distance to the cluster center, and Gaussian mixture models suppose that each data point is drawn from one of their component mixture distributions. In many cases, though, it is more realistic to think of data as genuinely belonging to more than one cluster or category - for example, if we have a model for text data that includes both \"Politics\" and \"World News\" categories, then an article about a recent meeting of the United Nations should have membership in both categories rather than being forced into just one.\n",
        "\n",
        "With this in mind, we will use Turi Create tools to fit an LDA model to a corpus of Wikipedia articles and examine the results to analyze the impact of a mixed membership approach. In particular, we want to identify the topics discovered by the model in terms of their most important words, and we want to use the model to predict the topic membership distribution for a given document. "
      ]
    },
    {
      "cell_type": "markdown",
      "metadata": {
        "id": "SIDNPGDKv_Gh"
      },
      "source": [
        "**Note to Amazon EC2 users**: To conserve memory, make sure to stop all the other notebooks before running this notebook."
      ]
    },
    {
      "cell_type": "markdown",
      "metadata": {
        "id": "6-WapVNLv_Gl"
      },
      "source": [
        "## Text Data Preprocessing\n",
        "We'll start by importing our familiar Wikipedia dataset."
      ]
    },
    {
      "cell_type": "code",
      "metadata": {
        "colab": {
          "base_uri": "https://localhost:8080/",
          "height": 1000
        },
        "id": "0XcQVIBExaOw",
        "outputId": "34174221-fd2b-49e3-a2ac-d69fdc4f86a8"
      },
      "source": [
        "pip install turicreate"
      ],
      "execution_count": null,
      "outputs": [
        {
          "output_type": "stream",
          "name": "stdout",
          "text": [
            "Collecting turicreate\n",
            "  Downloading turicreate-6.4.1-cp37-cp37m-manylinux1_x86_64.whl (92.0 MB)\n",
            "\u001b[K     |████████████████████████████████| 92.0 MB 13 kB/s \n",
            "\u001b[?25hRequirement already satisfied: six>=1.10.0 in /usr/local/lib/python3.7/dist-packages (from turicreate) (1.15.0)\n",
            "Collecting resampy==0.2.1\n",
            "  Downloading resampy-0.2.1.tar.gz (322 kB)\n",
            "\u001b[K     |████████████████████████████████| 322 kB 56.5 MB/s \n",
            "\u001b[?25hRequirement already satisfied: pandas>=0.23.2 in /usr/local/lib/python3.7/dist-packages (from turicreate) (1.1.5)\n",
            "Requirement already satisfied: numpy in /usr/local/lib/python3.7/dist-packages (from turicreate) (1.19.5)\n",
            "Requirement already satisfied: scipy>=1.1.0 in /usr/local/lib/python3.7/dist-packages (from turicreate) (1.4.1)\n",
            "Collecting coremltools==3.3\n",
            "  Downloading coremltools-3.3-cp37-none-manylinux1_x86_64.whl (3.5 MB)\n",
            "\u001b[K     |████████████████████████████████| 3.5 MB 37.3 MB/s \n",
            "\u001b[?25hCollecting numba<0.51.0\n",
            "  Downloading numba-0.50.1-cp37-cp37m-manylinux2014_x86_64.whl (3.6 MB)\n",
            "\u001b[K     |████████████████████████████████| 3.6 MB 40.5 MB/s \n",
            "\u001b[?25hRequirement already satisfied: requests>=2.9.1 in /usr/local/lib/python3.7/dist-packages (from turicreate) (2.23.0)\n",
            "Requirement already satisfied: pillow>=5.2.0 in /usr/local/lib/python3.7/dist-packages (from turicreate) (7.1.2)\n",
            "Requirement already satisfied: decorator>=4.0.9 in /usr/local/lib/python3.7/dist-packages (from turicreate) (4.4.2)\n",
            "Collecting prettytable==0.7.2\n",
            "  Downloading prettytable-0.7.2.zip (28 kB)\n",
            "Collecting tensorflow<2.1.0,>=2.0.0\n",
            "  Downloading tensorflow-2.0.4-cp37-cp37m-manylinux2010_x86_64.whl (86.4 MB)\n",
            "\u001b[K     |████████████████████████████████| 86.4 MB 38 kB/s \n",
            "\u001b[?25hRequirement already satisfied: protobuf>=3.1.0 in /usr/local/lib/python3.7/dist-packages (from coremltools==3.3->turicreate) (3.17.3)\n",
            "Requirement already satisfied: setuptools in /usr/local/lib/python3.7/dist-packages (from numba<0.51.0->turicreate) (57.4.0)\n",
            "Collecting llvmlite<0.34,>=0.33.0.dev0\n",
            "  Downloading llvmlite-0.33.0-cp37-cp37m-manylinux1_x86_64.whl (18.3 MB)\n",
            "\u001b[K     |████████████████████████████████| 18.3 MB 86 kB/s \n",
            "\u001b[?25hRequirement already satisfied: python-dateutil>=2.7.3 in /usr/local/lib/python3.7/dist-packages (from pandas>=0.23.2->turicreate) (2.8.2)\n",
            "Requirement already satisfied: pytz>=2017.2 in /usr/local/lib/python3.7/dist-packages (from pandas>=0.23.2->turicreate) (2018.9)\n",
            "Requirement already satisfied: chardet<4,>=3.0.2 in /usr/local/lib/python3.7/dist-packages (from requests>=2.9.1->turicreate) (3.0.4)\n",
            "Requirement already satisfied: certifi>=2017.4.17 in /usr/local/lib/python3.7/dist-packages (from requests>=2.9.1->turicreate) (2021.5.30)\n",
            "Requirement already satisfied: urllib3!=1.25.0,!=1.25.1,<1.26,>=1.21.1 in /usr/local/lib/python3.7/dist-packages (from requests>=2.9.1->turicreate) (1.24.3)\n",
            "Requirement already satisfied: idna<3,>=2.5 in /usr/local/lib/python3.7/dist-packages (from requests>=2.9.1->turicreate) (2.10)\n",
            "Requirement already satisfied: wheel>=0.26 in /usr/local/lib/python3.7/dist-packages (from tensorflow<2.1.0,>=2.0.0->turicreate) (0.37.0)\n",
            "Collecting gast==0.2.2\n",
            "  Downloading gast-0.2.2.tar.gz (10 kB)\n",
            "Requirement already satisfied: astor>=0.6.0 in /usr/local/lib/python3.7/dist-packages (from tensorflow<2.1.0,>=2.0.0->turicreate) (0.8.1)\n",
            "Collecting numpy\n",
            "  Downloading numpy-1.18.5-cp37-cp37m-manylinux1_x86_64.whl (20.1 MB)\n",
            "\u001b[K     |████████████████████████████████| 20.1 MB 1.2 MB/s \n",
            "\u001b[?25hRequirement already satisfied: termcolor>=1.1.0 in /usr/local/lib/python3.7/dist-packages (from tensorflow<2.1.0,>=2.0.0->turicreate) (1.1.0)\n",
            "Requirement already satisfied: keras-preprocessing>=1.0.5 in /usr/local/lib/python3.7/dist-packages (from tensorflow<2.1.0,>=2.0.0->turicreate) (1.1.2)\n",
            "Collecting tensorboard<2.1.0,>=2.0.0\n",
            "  Downloading tensorboard-2.0.2-py3-none-any.whl (3.8 MB)\n",
            "\u001b[K     |████████████████████████████████| 3.8 MB 70.4 MB/s \n",
            "\u001b[?25hCollecting h5py<=2.10.0\n",
            "  Downloading h5py-2.10.0-cp37-cp37m-manylinux1_x86_64.whl (2.9 MB)\n",
            "\u001b[K     |████████████████████████████████| 2.9 MB 40.3 MB/s \n",
            "\u001b[?25hRequirement already satisfied: absl-py>=0.7.0 in /usr/local/lib/python3.7/dist-packages (from tensorflow<2.1.0,>=2.0.0->turicreate) (0.12.0)\n",
            "Requirement already satisfied: grpcio>=1.8.6 in /usr/local/lib/python3.7/dist-packages (from tensorflow<2.1.0,>=2.0.0->turicreate) (1.40.0)\n",
            "Requirement already satisfied: google-pasta>=0.1.6 in /usr/local/lib/python3.7/dist-packages (from tensorflow<2.1.0,>=2.0.0->turicreate) (0.2.0)\n",
            "Requirement already satisfied: opt-einsum>=2.3.2 in /usr/local/lib/python3.7/dist-packages (from tensorflow<2.1.0,>=2.0.0->turicreate) (3.3.0)\n",
            "Collecting keras-applications>=1.0.8\n",
            "  Downloading Keras_Applications-1.0.8-py3-none-any.whl (50 kB)\n",
            "\u001b[K     |████████████████████████████████| 50 kB 5.8 MB/s \n",
            "\u001b[?25hRequirement already satisfied: wrapt>=1.11.1 in /usr/local/lib/python3.7/dist-packages (from tensorflow<2.1.0,>=2.0.0->turicreate) (1.12.1)\n",
            "Collecting tensorflow-estimator<2.1.0,>=2.0.0\n",
            "  Downloading tensorflow_estimator-2.0.1-py2.py3-none-any.whl (449 kB)\n",
            "\u001b[K     |████████████████████████████████| 449 kB 76.2 MB/s \n",
            "\u001b[?25hRequirement already satisfied: google-auth-oauthlib<0.5,>=0.4.1 in /usr/local/lib/python3.7/dist-packages (from tensorboard<2.1.0,>=2.0.0->tensorflow<2.1.0,>=2.0.0->turicreate) (0.4.6)\n",
            "Requirement already satisfied: markdown>=2.6.8 in /usr/local/lib/python3.7/dist-packages (from tensorboard<2.1.0,>=2.0.0->tensorflow<2.1.0,>=2.0.0->turicreate) (3.3.4)\n",
            "Requirement already satisfied: werkzeug>=0.11.15 in /usr/local/lib/python3.7/dist-packages (from tensorboard<2.1.0,>=2.0.0->tensorflow<2.1.0,>=2.0.0->turicreate) (1.0.1)\n",
            "Requirement already satisfied: google-auth<2,>=1.6.3 in /usr/local/lib/python3.7/dist-packages (from tensorboard<2.1.0,>=2.0.0->tensorflow<2.1.0,>=2.0.0->turicreate) (1.35.0)\n",
            "Requirement already satisfied: rsa<5,>=3.1.4 in /usr/local/lib/python3.7/dist-packages (from google-auth<2,>=1.6.3->tensorboard<2.1.0,>=2.0.0->tensorflow<2.1.0,>=2.0.0->turicreate) (4.7.2)\n",
            "Requirement already satisfied: cachetools<5.0,>=2.0.0 in /usr/local/lib/python3.7/dist-packages (from google-auth<2,>=1.6.3->tensorboard<2.1.0,>=2.0.0->tensorflow<2.1.0,>=2.0.0->turicreate) (4.2.2)\n",
            "Requirement already satisfied: pyasn1-modules>=0.2.1 in /usr/local/lib/python3.7/dist-packages (from google-auth<2,>=1.6.3->tensorboard<2.1.0,>=2.0.0->tensorflow<2.1.0,>=2.0.0->turicreate) (0.2.8)\n",
            "Requirement already satisfied: requests-oauthlib>=0.7.0 in /usr/local/lib/python3.7/dist-packages (from google-auth-oauthlib<0.5,>=0.4.1->tensorboard<2.1.0,>=2.0.0->tensorflow<2.1.0,>=2.0.0->turicreate) (1.3.0)\n",
            "Requirement already satisfied: importlib-metadata in /usr/local/lib/python3.7/dist-packages (from markdown>=2.6.8->tensorboard<2.1.0,>=2.0.0->tensorflow<2.1.0,>=2.0.0->turicreate) (4.8.1)\n",
            "Requirement already satisfied: pyasn1<0.5.0,>=0.4.6 in /usr/local/lib/python3.7/dist-packages (from pyasn1-modules>=0.2.1->google-auth<2,>=1.6.3->tensorboard<2.1.0,>=2.0.0->tensorflow<2.1.0,>=2.0.0->turicreate) (0.4.8)\n",
            "Requirement already satisfied: oauthlib>=3.0.0 in /usr/local/lib/python3.7/dist-packages (from requests-oauthlib>=0.7.0->google-auth-oauthlib<0.5,>=0.4.1->tensorboard<2.1.0,>=2.0.0->tensorflow<2.1.0,>=2.0.0->turicreate) (3.1.1)\n",
            "Requirement already satisfied: zipp>=0.5 in /usr/local/lib/python3.7/dist-packages (from importlib-metadata->markdown>=2.6.8->tensorboard<2.1.0,>=2.0.0->tensorflow<2.1.0,>=2.0.0->turicreate) (3.5.0)\n",
            "Requirement already satisfied: typing-extensions>=3.6.4 in /usr/local/lib/python3.7/dist-packages (from importlib-metadata->markdown>=2.6.8->tensorboard<2.1.0,>=2.0.0->tensorflow<2.1.0,>=2.0.0->turicreate) (3.7.4.3)\n",
            "Building wheels for collected packages: prettytable, resampy, gast\n",
            "  Building wheel for prettytable (setup.py) ... \u001b[?25l\u001b[?25hdone\n",
            "  Created wheel for prettytable: filename=prettytable-0.7.2-py3-none-any.whl size=13714 sha256=5505d6b1007fe6e30e05629710f6e9d45af286f3c5f22f58b2481e3c9629e307\n",
            "  Stored in directory: /root/.cache/pip/wheels/b2/7f/f6/f180315b584f00445045ff1699b550fa895d09471337ce21c6\n",
            "  Building wheel for resampy (setup.py) ... \u001b[?25l\u001b[?25hdone\n",
            "  Created wheel for resampy: filename=resampy-0.2.1-py3-none-any.whl size=320860 sha256=a03331491150c43a656c33e8045b8feba187bcf4afcd7f27e3d4f92cd4193abf\n",
            "  Stored in directory: /root/.cache/pip/wheels/71/74/53/d5ceb7c5ee7a168c7d106041863e71ac3273f4a4677743a284\n",
            "  Building wheel for gast (setup.py) ... \u001b[?25l\u001b[?25hdone\n",
            "  Created wheel for gast: filename=gast-0.2.2-py3-none-any.whl size=7554 sha256=a2a404fe44ae0e10ddb07c4e488d71dbf75fb86c83e892f02b678cf139e05158\n",
            "  Stored in directory: /root/.cache/pip/wheels/21/7f/02/420f32a803f7d0967b48dd823da3f558c5166991bfd204eef3\n",
            "Successfully built prettytable resampy gast\n",
            "Installing collected packages: numpy, llvmlite, h5py, tensorflow-estimator, tensorboard, numba, keras-applications, gast, tensorflow, resampy, prettytable, coremltools, turicreate\n",
            "  Attempting uninstall: numpy\n",
            "    Found existing installation: numpy 1.19.5\n",
            "    Uninstalling numpy-1.19.5:\n",
            "      Successfully uninstalled numpy-1.19.5\n",
            "  Attempting uninstall: llvmlite\n",
            "    Found existing installation: llvmlite 0.34.0\n",
            "    Uninstalling llvmlite-0.34.0:\n",
            "      Successfully uninstalled llvmlite-0.34.0\n",
            "  Attempting uninstall: h5py\n",
            "    Found existing installation: h5py 3.1.0\n",
            "    Uninstalling h5py-3.1.0:\n",
            "      Successfully uninstalled h5py-3.1.0\n",
            "  Attempting uninstall: tensorflow-estimator\n",
            "    Found existing installation: tensorflow-estimator 2.6.0\n",
            "    Uninstalling tensorflow-estimator-2.6.0:\n",
            "      Successfully uninstalled tensorflow-estimator-2.6.0\n",
            "  Attempting uninstall: tensorboard\n",
            "    Found existing installation: tensorboard 2.6.0\n",
            "    Uninstalling tensorboard-2.6.0:\n",
            "      Successfully uninstalled tensorboard-2.6.0\n",
            "  Attempting uninstall: numba\n",
            "    Found existing installation: numba 0.51.2\n",
            "    Uninstalling numba-0.51.2:\n",
            "      Successfully uninstalled numba-0.51.2\n",
            "  Attempting uninstall: gast\n",
            "    Found existing installation: gast 0.4.0\n",
            "    Uninstalling gast-0.4.0:\n",
            "      Successfully uninstalled gast-0.4.0\n",
            "  Attempting uninstall: tensorflow\n",
            "    Found existing installation: tensorflow 2.6.0\n",
            "    Uninstalling tensorflow-2.6.0:\n",
            "      Successfully uninstalled tensorflow-2.6.0\n",
            "  Attempting uninstall: resampy\n",
            "    Found existing installation: resampy 0.2.2\n",
            "    Uninstalling resampy-0.2.2:\n",
            "      Successfully uninstalled resampy-0.2.2\n",
            "  Attempting uninstall: prettytable\n",
            "    Found existing installation: prettytable 2.2.0\n",
            "    Uninstalling prettytable-2.2.0:\n",
            "      Successfully uninstalled prettytable-2.2.0\n",
            "\u001b[31mERROR: pip's dependency resolver does not currently take into account all the packages that are installed. This behaviour is the source of the following dependency conflicts.\n",
            "tensorflow-probability 0.13.0 requires gast>=0.3.2, but you have gast 0.2.2 which is incompatible.\n",
            "librosa 0.8.1 requires resampy>=0.2.2, but you have resampy 0.2.1 which is incompatible.\n",
            "datascience 0.10.6 requires folium==0.2.1, but you have folium 0.8.3 which is incompatible.\n",
            "albumentations 0.1.12 requires imgaug<0.2.7,>=0.2.5, but you have imgaug 0.2.9 which is incompatible.\u001b[0m\n",
            "Successfully installed coremltools-3.3 gast-0.2.2 h5py-2.10.0 keras-applications-1.0.8 llvmlite-0.33.0 numba-0.50.1 numpy-1.18.5 prettytable-0.7.2 resampy-0.2.1 tensorboard-2.0.2 tensorflow-2.0.4 tensorflow-estimator-2.0.1 turicreate-6.4.1\n"
          ]
        },
        {
          "output_type": "display_data",
          "data": {
            "application/vnd.colab-display-data+json": {
              "pip_warning": {
                "packages": [
                  "numpy"
                ]
              }
            }
          },
          "metadata": {}
        }
      ]
    },
    {
      "cell_type": "code",
      "metadata": {
        "id": "WwpBdWBMv_Go"
      },
      "source": [
        "from __future__ import print_function # to conform python 2.x print to python 3.x\n",
        "import turicreate\n",
        "import numpy as np\n",
        "import matplotlib.pyplot as plt\n",
        "\n",
        "%matplotlib inline"
      ],
      "execution_count": null,
      "outputs": []
    },
    {
      "cell_type": "code",
      "metadata": {
        "colab": {
          "base_uri": "https://localhost:8080/"
        },
        "id": "ywg7lnMR_lDy",
        "outputId": "f2c8c301-b11e-43d9-d6ef-9b1ecb7b88eb"
      },
      "source": [
        "from google.colab import drive\n",
        "drive.mount ('/content/gdrive')"
      ],
      "execution_count": null,
      "outputs": [
        {
          "output_type": "stream",
          "name": "stdout",
          "text": [
            "Mounted at /content/gdrive\n"
          ]
        }
      ]
    },
    {
      "cell_type": "code",
      "metadata": {
        "colab": {
          "base_uri": "https://localhost:8080/",
          "height": 449
        },
        "id": "1TnTaiGEv_Gz",
        "outputId": "74fa5430-45e5-42f7-bf59-55f2d23565b4"
      },
      "source": [
        "# import wiki data\n",
        "#wiki = turicreate.SFrame('people_wiki.sframe/')\n",
        "wiki = turicreate.SFrame('/content/gdrive/My Drive/Turicreate/Week 24/people_wiki.sframe/')\n",
        "wiki"
      ],
      "execution_count": null,
      "outputs": [
        {
          "output_type": "execute_result",
          "data": {
            "text/html": [
              "<div style=\"max-height:1000px;max-width:1500px;overflow:auto;\"><table frame=\"box\" rules=\"cols\">\n",
              "    <tr>\n",
              "        <th style=\"padding-left: 1em; padding-right: 1em; text-align: center\">URI</th>\n",
              "        <th style=\"padding-left: 1em; padding-right: 1em; text-align: center\">name</th>\n",
              "        <th style=\"padding-left: 1em; padding-right: 1em; text-align: center\">text</th>\n",
              "    </tr>\n",
              "    <tr>\n",
              "        <td style=\"padding-left: 1em; padding-right: 1em; text-align: center; vertical-align: top\">&lt;http://dbpedia.org/resou<br>rce/Digby_Morrell&gt; ...</td>\n",
              "        <td style=\"padding-left: 1em; padding-right: 1em; text-align: center; vertical-align: top\">Digby Morrell</td>\n",
              "        <td style=\"padding-left: 1em; padding-right: 1em; text-align: center; vertical-align: top\">digby morrell born 10<br>october 1979 is a former ...</td>\n",
              "    </tr>\n",
              "    <tr>\n",
              "        <td style=\"padding-left: 1em; padding-right: 1em; text-align: center; vertical-align: top\">&lt;http://dbpedia.org/resou<br>rce/Alfred_J._Lewy&gt; ...</td>\n",
              "        <td style=\"padding-left: 1em; padding-right: 1em; text-align: center; vertical-align: top\">Alfred J. Lewy</td>\n",
              "        <td style=\"padding-left: 1em; padding-right: 1em; text-align: center; vertical-align: top\">alfred j lewy aka sandy<br>lewy graduated from ...</td>\n",
              "    </tr>\n",
              "    <tr>\n",
              "        <td style=\"padding-left: 1em; padding-right: 1em; text-align: center; vertical-align: top\">&lt;http://dbpedia.org/resou<br>rce/Harpdog_Brown&gt; ...</td>\n",
              "        <td style=\"padding-left: 1em; padding-right: 1em; text-align: center; vertical-align: top\">Harpdog Brown</td>\n",
              "        <td style=\"padding-left: 1em; padding-right: 1em; text-align: center; vertical-align: top\">harpdog brown is a singer<br>and harmonica player who ...</td>\n",
              "    </tr>\n",
              "    <tr>\n",
              "        <td style=\"padding-left: 1em; padding-right: 1em; text-align: center; vertical-align: top\">&lt;http://dbpedia.org/resou<br>rce/Franz_Rottensteiner&gt; ...</td>\n",
              "        <td style=\"padding-left: 1em; padding-right: 1em; text-align: center; vertical-align: top\">Franz Rottensteiner</td>\n",
              "        <td style=\"padding-left: 1em; padding-right: 1em; text-align: center; vertical-align: top\">franz rottensteiner born<br>in waidmannsfeld lower ...</td>\n",
              "    </tr>\n",
              "    <tr>\n",
              "        <td style=\"padding-left: 1em; padding-right: 1em; text-align: center; vertical-align: top\">&lt;http://dbpedia.org/resou<br>rce/G-Enka&gt; ...</td>\n",
              "        <td style=\"padding-left: 1em; padding-right: 1em; text-align: center; vertical-align: top\">G-Enka</td>\n",
              "        <td style=\"padding-left: 1em; padding-right: 1em; text-align: center; vertical-align: top\">henry krvits born 30<br>december 1974 in tallinn ...</td>\n",
              "    </tr>\n",
              "    <tr>\n",
              "        <td style=\"padding-left: 1em; padding-right: 1em; text-align: center; vertical-align: top\">&lt;http://dbpedia.org/resou<br>rce/Sam_Henderson&gt; ...</td>\n",
              "        <td style=\"padding-left: 1em; padding-right: 1em; text-align: center; vertical-align: top\">Sam Henderson</td>\n",
              "        <td style=\"padding-left: 1em; padding-right: 1em; text-align: center; vertical-align: top\">sam henderson born<br>october 18 1969 is an ...</td>\n",
              "    </tr>\n",
              "    <tr>\n",
              "        <td style=\"padding-left: 1em; padding-right: 1em; text-align: center; vertical-align: top\">&lt;http://dbpedia.org/resou<br>rce/Aaron_LaCrate&gt; ...</td>\n",
              "        <td style=\"padding-left: 1em; padding-right: 1em; text-align: center; vertical-align: top\">Aaron LaCrate</td>\n",
              "        <td style=\"padding-left: 1em; padding-right: 1em; text-align: center; vertical-align: top\">aaron lacrate is an<br>american music producer ...</td>\n",
              "    </tr>\n",
              "    <tr>\n",
              "        <td style=\"padding-left: 1em; padding-right: 1em; text-align: center; vertical-align: top\">&lt;http://dbpedia.org/resou<br>rce/Trevor_Ferguson&gt; ...</td>\n",
              "        <td style=\"padding-left: 1em; padding-right: 1em; text-align: center; vertical-align: top\">Trevor Ferguson</td>\n",
              "        <td style=\"padding-left: 1em; padding-right: 1em; text-align: center; vertical-align: top\">trevor ferguson aka john<br>farrow born 11 november ...</td>\n",
              "    </tr>\n",
              "    <tr>\n",
              "        <td style=\"padding-left: 1em; padding-right: 1em; text-align: center; vertical-align: top\">&lt;http://dbpedia.org/resou<br>rce/Grant_Nelson&gt; ...</td>\n",
              "        <td style=\"padding-left: 1em; padding-right: 1em; text-align: center; vertical-align: top\">Grant Nelson</td>\n",
              "        <td style=\"padding-left: 1em; padding-right: 1em; text-align: center; vertical-align: top\">grant nelson born 27<br>april 1971 in london  ...</td>\n",
              "    </tr>\n",
              "    <tr>\n",
              "        <td style=\"padding-left: 1em; padding-right: 1em; text-align: center; vertical-align: top\">&lt;http://dbpedia.org/resou<br>rce/Cathy_Caruth&gt; ...</td>\n",
              "        <td style=\"padding-left: 1em; padding-right: 1em; text-align: center; vertical-align: top\">Cathy Caruth</td>\n",
              "        <td style=\"padding-left: 1em; padding-right: 1em; text-align: center; vertical-align: top\">cathy caruth born 1955 is<br>frank h t rhodes ...</td>\n",
              "    </tr>\n",
              "</table>\n",
              "[59071 rows x 3 columns]<br/>Note: Only the head of the SFrame is printed.<br/>You can use print_rows(num_rows=m, num_columns=n) to print more rows and columns.\n",
              "</div>"
            ],
            "text/plain": [
              "Columns:\n",
              "\tURI\tstr\n",
              "\tname\tstr\n",
              "\ttext\tstr\n",
              "\n",
              "Rows: 59071\n",
              "\n",
              "Data:\n",
              "+-------------------------------+---------------------+\n",
              "|              URI              |         name        |\n",
              "+-------------------------------+---------------------+\n",
              "| <http://dbpedia.org/resour... |    Digby Morrell    |\n",
              "| <http://dbpedia.org/resour... |    Alfred J. Lewy   |\n",
              "| <http://dbpedia.org/resour... |    Harpdog Brown    |\n",
              "| <http://dbpedia.org/resour... | Franz Rottensteiner |\n",
              "| <http://dbpedia.org/resour... |        G-Enka       |\n",
              "| <http://dbpedia.org/resour... |    Sam Henderson    |\n",
              "| <http://dbpedia.org/resour... |    Aaron LaCrate    |\n",
              "| <http://dbpedia.org/resour... |   Trevor Ferguson   |\n",
              "| <http://dbpedia.org/resour... |     Grant Nelson    |\n",
              "| <http://dbpedia.org/resour... |     Cathy Caruth    |\n",
              "+-------------------------------+---------------------+\n",
              "+-------------------------------+\n",
              "|              text             |\n",
              "+-------------------------------+\n",
              "| digby morrell born 10 octo... |\n",
              "| alfred j lewy aka sandy le... |\n",
              "| harpdog brown is a singer ... |\n",
              "| franz rottensteiner born i... |\n",
              "| henry krvits born 30 decem... |\n",
              "| sam henderson born october... |\n",
              "| aaron lacrate is an americ... |\n",
              "| trevor ferguson aka john f... |\n",
              "| grant nelson born 27 april... |\n",
              "| cathy caruth born 1955 is ... |\n",
              "+-------------------------------+\n",
              "[59071 rows x 3 columns]\n",
              "Note: Only the head of the SFrame is printed.\n",
              "You can use print_rows(num_rows=m, num_columns=n) to print more rows and columns."
            ]
          },
          "metadata": {},
          "execution_count": 3
        }
      ]
    },
    {
      "cell_type": "markdown",
      "metadata": {
        "id": "MOrjqhSPv_G2"
      },
      "source": [
        "In the original data, each Wikipedia article is represented by a URI, a name, and a string containing the entire text of the article. Recall from the video lectures that LDA requires documents to be represented as a _bag of words_, which ignores word ordering in the document but retains information on how many times each word appears. As we have seen in our previous encounters with text data, words such as 'the', 'a', or 'and' are by far the most frequent, but they appear so commonly in the English language that they tell us almost nothing about how similar or dissimilar two documents might be. \n",
        "\n",
        "Therefore, before we train our LDA model, we will preprocess the Wikipedia data in two steps: first, we will create a bag of words representation for each article, and then we will remove the common words that don't help us to distinguish between documents. For both of these tasks we can use pre-implemented tools from Turi Create:"
      ]
    },
    {
      "cell_type": "code",
      "metadata": {
        "id": "DFn7bk03v_G6"
      },
      "source": [
        "wiki_docs = turicreate.text_analytics.count_words(wiki['text'])\n",
        "wiki_docs = wiki_docs.dict_trim_by_keys(turicreate.text_analytics.stop_words(), exclude=True)"
      ],
      "execution_count": null,
      "outputs": []
    },
    {
      "cell_type": "markdown",
      "metadata": {
        "id": "hovo9-4_v_HA"
      },
      "source": [
        "## Model fitting and interpretation\n",
        "In the video lectures we saw that Gibbs sampling can be used to perform inference in the LDA model. In this assignment we will use a Turi Create method to learn the topic model for our Wikipedia data, and our main emphasis will be on interpreting the results. We'll begin by creating the topic model using create() from Turi Create's topic_model module.\n",
        "\n",
        "Note: This may take several minutes to run."
      ]
    },
    {
      "cell_type": "code",
      "metadata": {
        "colab": {
          "base_uri": "https://localhost:8080/",
          "height": 493
        },
        "id": "OPWHyw15v_HF",
        "outputId": "542a7b97-0d26-4b55-e526-ed860de51a7b"
      },
      "source": [
        "topic_model = turicreate.topic_model.create(wiki_docs, num_topics=10, num_iterations=200)"
      ],
      "execution_count": null,
      "outputs": [
        {
          "output_type": "display_data",
          "data": {
            "text/html": [
              "<pre>Learning a topic model</pre>"
            ],
            "text/plain": [
              "Learning a topic model"
            ]
          },
          "metadata": {}
        },
        {
          "output_type": "display_data",
          "data": {
            "text/html": [
              "<pre>       Number of documents     59071</pre>"
            ],
            "text/plain": [
              "       Number of documents     59071"
            ]
          },
          "metadata": {}
        },
        {
          "output_type": "display_data",
          "data": {
            "text/html": [
              "<pre>           Vocabulary size    547462</pre>"
            ],
            "text/plain": [
              "           Vocabulary size    547462"
            ]
          },
          "metadata": {}
        },
        {
          "output_type": "display_data",
          "data": {
            "text/html": [
              "<pre>   Running collapsed Gibbs sampling</pre>"
            ],
            "text/plain": [
              "   Running collapsed Gibbs sampling"
            ]
          },
          "metadata": {}
        },
        {
          "output_type": "display_data",
          "data": {
            "text/html": [
              "<pre>+-----------+---------------+----------------+-----------------+</pre>"
            ],
            "text/plain": [
              "+-----------+---------------+----------------+-----------------+"
            ]
          },
          "metadata": {}
        },
        {
          "output_type": "display_data",
          "data": {
            "text/html": [
              "<pre>| Iteration | Elapsed Time  | Tokens/Second  | Est. Perplexity |</pre>"
            ],
            "text/plain": [
              "| Iteration | Elapsed Time  | Tokens/Second  | Est. Perplexity |"
            ]
          },
          "metadata": {}
        },
        {
          "output_type": "display_data",
          "data": {
            "text/html": [
              "<pre>+-----------+---------------+----------------+-----------------+</pre>"
            ],
            "text/plain": [
              "+-----------+---------------+----------------+-----------------+"
            ]
          },
          "metadata": {}
        },
        {
          "output_type": "display_data",
          "data": {
            "text/html": [
              "<pre>| 10        | 15.13s        | 6.00666e+06    | 0               |</pre>"
            ],
            "text/plain": [
              "| 10        | 15.13s        | 6.00666e+06    | 0               |"
            ]
          },
          "metadata": {}
        },
        {
          "output_type": "display_data",
          "data": {
            "text/html": [
              "<pre>| 20        | 28.77s        | 5.9555e+06     | 0               |</pre>"
            ],
            "text/plain": [
              "| 20        | 28.77s        | 5.9555e+06     | 0               |"
            ]
          },
          "metadata": {}
        },
        {
          "output_type": "display_data",
          "data": {
            "text/html": [
              "<pre>| 30        | 42.17s        | 6.03197e+06    | 0               |</pre>"
            ],
            "text/plain": [
              "| 30        | 42.17s        | 6.03197e+06    | 0               |"
            ]
          },
          "metadata": {}
        },
        {
          "output_type": "display_data",
          "data": {
            "text/html": [
              "<pre>| 40        | 55.62s        | 5.87094e+06    | 0               |</pre>"
            ],
            "text/plain": [
              "| 40        | 55.62s        | 5.87094e+06    | 0               |"
            ]
          },
          "metadata": {}
        },
        {
          "output_type": "display_data",
          "data": {
            "text/html": [
              "<pre>| 50        | 1m 8s         | 5.98862e+06    | 0               |</pre>"
            ],
            "text/plain": [
              "| 50        | 1m 8s         | 5.98862e+06    | 0               |"
            ]
          },
          "metadata": {}
        },
        {
          "output_type": "display_data",
          "data": {
            "text/html": [
              "<pre>| 60        | 1m 22s        | 6.02483e+06    | 0               |</pre>"
            ],
            "text/plain": [
              "| 60        | 1m 22s        | 6.02483e+06    | 0               |"
            ]
          },
          "metadata": {}
        },
        {
          "output_type": "display_data",
          "data": {
            "text/html": [
              "<pre>| 70        | 1m 35s        | 5.79666e+06    | 0               |</pre>"
            ],
            "text/plain": [
              "| 70        | 1m 35s        | 5.79666e+06    | 0               |"
            ]
          },
          "metadata": {}
        },
        {
          "output_type": "display_data",
          "data": {
            "text/html": [
              "<pre>| 80        | 1m 48s        | 5.89227e+06    | 0               |</pre>"
            ],
            "text/plain": [
              "| 80        | 1m 48s        | 5.89227e+06    | 0               |"
            ]
          },
          "metadata": {}
        },
        {
          "output_type": "display_data",
          "data": {
            "text/html": [
              "<pre>| 90        | 2m 2s         | 5.41836e+06    | 0               |</pre>"
            ],
            "text/plain": [
              "| 90        | 2m 2s         | 5.41836e+06    | 0               |"
            ]
          },
          "metadata": {}
        },
        {
          "output_type": "display_data",
          "data": {
            "text/html": [
              "<pre>| 100       | 2m 16s        | 5.88947e+06    | 0               |</pre>"
            ],
            "text/plain": [
              "| 100       | 2m 16s        | 5.88947e+06    | 0               |"
            ]
          },
          "metadata": {}
        },
        {
          "output_type": "display_data",
          "data": {
            "text/html": [
              "<pre>| 110       | 2m 29s        | 6.09764e+06    | 0               |</pre>"
            ],
            "text/plain": [
              "| 110       | 2m 29s        | 6.09764e+06    | 0               |"
            ]
          },
          "metadata": {}
        },
        {
          "output_type": "display_data",
          "data": {
            "text/html": [
              "<pre>| 120       | 2m 42s        | 5.98705e+06    | 0               |</pre>"
            ],
            "text/plain": [
              "| 120       | 2m 42s        | 5.98705e+06    | 0               |"
            ]
          },
          "metadata": {}
        },
        {
          "output_type": "display_data",
          "data": {
            "text/html": [
              "<pre>| 130       | 2m 56s        | 6.09309e+06    | 0               |</pre>"
            ],
            "text/plain": [
              "| 130       | 2m 56s        | 6.09309e+06    | 0               |"
            ]
          },
          "metadata": {}
        },
        {
          "output_type": "display_data",
          "data": {
            "text/html": [
              "<pre>| 140       | 3m 9s         | 5.92144e+06    | 0               |</pre>"
            ],
            "text/plain": [
              "| 140       | 3m 9s         | 5.92144e+06    | 0               |"
            ]
          },
          "metadata": {}
        },
        {
          "output_type": "display_data",
          "data": {
            "text/html": [
              "<pre>| 150       | 3m 22s        | 6.01313e+06    | 0               |</pre>"
            ],
            "text/plain": [
              "| 150       | 3m 22s        | 6.01313e+06    | 0               |"
            ]
          },
          "metadata": {}
        },
        {
          "output_type": "display_data",
          "data": {
            "text/html": [
              "<pre>| 160       | 3m 36s        | 6.12512e+06    | 0               |</pre>"
            ],
            "text/plain": [
              "| 160       | 3m 36s        | 6.12512e+06    | 0               |"
            ]
          },
          "metadata": {}
        },
        {
          "output_type": "display_data",
          "data": {
            "text/html": [
              "<pre>| 170       | 3m 49s        | 5.91111e+06    | 0               |</pre>"
            ],
            "text/plain": [
              "| 170       | 3m 49s        | 5.91111e+06    | 0               |"
            ]
          },
          "metadata": {}
        },
        {
          "output_type": "display_data",
          "data": {
            "text/html": [
              "<pre>| 180       | 4m 2s         | 6.00965e+06    | 0               |</pre>"
            ],
            "text/plain": [
              "| 180       | 4m 2s         | 6.00965e+06    | 0               |"
            ]
          },
          "metadata": {}
        },
        {
          "output_type": "display_data",
          "data": {
            "text/html": [
              "<pre>| 190       | 4m 15s        | 6.0865e+06     | 0               |</pre>"
            ],
            "text/plain": [
              "| 190       | 4m 15s        | 6.0865e+06     | 0               |"
            ]
          },
          "metadata": {}
        },
        {
          "output_type": "display_data",
          "data": {
            "text/html": [
              "<pre>| 200       | 4m 29s        | 5.98201e+06    | 0               |</pre>"
            ],
            "text/plain": [
              "| 200       | 4m 29s        | 5.98201e+06    | 0               |"
            ]
          },
          "metadata": {}
        },
        {
          "output_type": "display_data",
          "data": {
            "text/html": [
              "<pre>+-----------+---------------+----------------+-----------------+</pre>"
            ],
            "text/plain": [
              "+-----------+---------------+----------------+-----------------+"
            ]
          },
          "metadata": {}
        }
      ]
    },
    {
      "cell_type": "markdown",
      "metadata": {
        "id": "x7WxIJetv_HM"
      },
      "source": [
        "Turi provides a useful summary of the model we have fitted, including the hyperparameter settings for alpha, gamma (note that Turi Create calls this parameter beta), and K (the number of topics); the structure of the output data; and some useful methods for understanding the results."
      ]
    },
    {
      "cell_type": "code",
      "metadata": {
        "colab": {
          "base_uri": "https://localhost:8080/"
        },
        "id": "TLtXpqXYv_HP",
        "outputId": "db028430-794c-489c-8e4e-8da3ba1cc321"
      },
      "source": [
        "topic_model"
      ],
      "execution_count": null,
      "outputs": [
        {
          "output_type": "execute_result",
          "data": {
            "text/plain": [
              "Class                          : TopicModel\n",
              "\n",
              "Schema\n",
              "------\n",
              "Vocabulary Size                : 547462\n",
              "\n",
              "Settings\n",
              "--------\n",
              "Number of Topics               : 10\n",
              "alpha                          : 5.0\n",
              "beta                           : 0.1\n",
              "Iterations                     : 200\n",
              "Training time                  : 270.1686\n",
              "Verbose                        : True\n",
              "\n",
              "Accessible fields             : \n",
              "m.topics                      : An SFrame containing the topics.\n",
              "m.vocabulary                  : An SArray containing the words in the vocabulary.\n",
              "Useful methods                : \n",
              "m.get_topics()                : Get the most probable words per topic.\n",
              "m.predict(new_docs)           : Make predictions for new documents."
            ]
          },
          "metadata": {},
          "execution_count": 6
        }
      ]
    },
    {
      "cell_type": "markdown",
      "metadata": {
        "id": "L5KXu-k4v_HS"
      },
      "source": [
        "It is certainly useful to have pre-implemented methods available for LDA, but as with our previous methods for clustering and retrieval, implementing and fitting the model gets us only halfway towards our objective. We now need to analyze the fitted model to understand what it has done with our data and whether it will be useful as a document classification system. This can be a challenging task in itself, particularly when the model that we use is complex. We will begin by outlining a sequence of objectives that will help us understand our model in detail. In particular, we will\n",
        "\n",
        "* get the top words in each topic and use these to identify topic themes\n",
        "* predict topic distributions for some example documents\n",
        "* compare the quality of LDA \"nearest neighbors\" to the NN output from the first assignment\n",
        "* understand the role of model hyperparameters alpha and gamma"
      ]
    },
    {
      "cell_type": "markdown",
      "metadata": {
        "id": "3B82YQljv_HU"
      },
      "source": [
        "## Load a fitted topic model\n",
        "The method used to fit the LDA model is a _randomized algorithm_, which means that it involves steps that are random; in this case, the randomness comes from Gibbs sampling, as discussed in the LDA video lectures. Because of these random steps, the algorithm will be expected to yield slighty different output for different runs on the same data - note that this is different from previously seen algorithms such as k-means or EM, which will always produce the same results given the same input and initialization.\n",
        "\n",
        "It is important to understand that variation in the results is a fundamental feature of randomized methods. However, in the context of this assignment this variation makes it difficult to evaluate the correctness of your analysis, so we will load and analyze a pre-trained model. \n",
        "\n",
        "We recommend that you spend some time exploring your own fitted topic model and compare our analysis of the pre-trained model to the same analysis applied to the model you trained above."
      ]
    },
    {
      "cell_type": "code",
      "metadata": {
        "scrolled": false,
        "id": "IQNvH1jNv_HW"
      },
      "source": [
        "topic_model = turicreate.load_model('/content/gdrive/My Drive/Turicreate/Week 24/topic_models/lda_assignment_topic_model')"
      ],
      "execution_count": null,
      "outputs": []
    },
    {
      "cell_type": "markdown",
      "metadata": {
        "id": "FNfXEmCzv_HX"
      },
      "source": [
        "# Identifying topic themes by top words\n",
        "\n",
        "We'll start by trying to identify the topics learned by our model with some major themes. As a preliminary check on the results of applying this method, it is reasonable to hope that the model has been able to learn topics that correspond to recognizable categories. In order to do this, we must first recall what exactly a 'topic' is in the context of LDA. \n",
        "\n",
        "In the video lectures on LDA we learned that a topic is a probability distribution over words in the vocabulary; that is, each topic assigns a particular probability to every one of the unique words that appears in our data. Different topics will assign different probabilities to the same word: for instance, a topic that ends up describing science and technology articles might place more probability on the word 'university' than a topic that describes sports or politics. Looking at the highest probability words in each topic will thus give us a sense of its major themes. Ideally we would find that each topic is identifiable with some clear theme _and_ that all the topics are relatively distinct.\n",
        "\n",
        "We can use the Turi Create function get_topics() to view the top words (along with their associated probabilities) from each topic.\n",
        "\n",
        "__Quiz Question:__ Identify the top 3 most probable words for the first topic. "
      ]
    },
    {
      "cell_type": "code",
      "metadata": {
        "colab": {
          "base_uri": "https://localhost:8080/",
          "height": 112
        },
        "id": "jM5yvO4rBryG",
        "outputId": "4cd18800-af48-4fc1-b1dc-474baf6fa3e1"
      },
      "source": [
        "topic_model.get_topics([0], num_words=3)"
      ],
      "execution_count": null,
      "outputs": [
        {
          "output_type": "execute_result",
          "data": {
            "text/html": [
              "<div style=\"max-height:1000px;max-width:1500px;overflow:auto;\"><table frame=\"box\" rules=\"cols\">\n",
              "    <tr>\n",
              "        <th style=\"padding-left: 1em; padding-right: 1em; text-align: center\">topic</th>\n",
              "        <th style=\"padding-left: 1em; padding-right: 1em; text-align: center\">word</th>\n",
              "        <th style=\"padding-left: 1em; padding-right: 1em; text-align: center\">score</th>\n",
              "    </tr>\n",
              "    <tr>\n",
              "        <td style=\"padding-left: 1em; padding-right: 1em; text-align: center; vertical-align: top\">0</td>\n",
              "        <td style=\"padding-left: 1em; padding-right: 1em; text-align: center; vertical-align: top\">president</td>\n",
              "        <td style=\"padding-left: 1em; padding-right: 1em; text-align: center; vertical-align: top\">0.008339770494721031</td>\n",
              "    </tr>\n",
              "    <tr>\n",
              "        <td style=\"padding-left: 1em; padding-right: 1em; text-align: center; vertical-align: top\">0</td>\n",
              "        <td style=\"padding-left: 1em; padding-right: 1em; text-align: center; vertical-align: top\">business</td>\n",
              "        <td style=\"padding-left: 1em; padding-right: 1em; text-align: center; vertical-align: top\">0.008230612437460937</td>\n",
              "    </tr>\n",
              "    <tr>\n",
              "        <td style=\"padding-left: 1em; padding-right: 1em; text-align: center; vertical-align: top\">0</td>\n",
              "        <td style=\"padding-left: 1em; padding-right: 1em; text-align: center; vertical-align: top\">board</td>\n",
              "        <td style=\"padding-left: 1em; padding-right: 1em; text-align: center; vertical-align: top\">0.007476947242117326</td>\n",
              "    </tr>\n",
              "</table>\n",
              "[3 rows x 3 columns]<br/>\n",
              "</div>"
            ],
            "text/plain": [
              "Columns:\n",
              "\ttopic\tint\n",
              "\tword\tstr\n",
              "\tscore\tfloat\n",
              "\n",
              "Rows: 3\n",
              "\n",
              "Data:\n",
              "+-------+-----------+----------------------+\n",
              "| topic |    word   |        score         |\n",
              "+-------+-----------+----------------------+\n",
              "|   0   | president | 0.008339770494721031 |\n",
              "|   0   |  business | 0.008230612437460937 |\n",
              "|   0   |   board   | 0.007476947242117326 |\n",
              "+-------+-----------+----------------------+\n",
              "[3 rows x 3 columns]"
            ]
          },
          "metadata": {},
          "execution_count": 11
        }
      ]
    },
    {
      "cell_type": "markdown",
      "metadata": {
        "id": "SgWboiYZv_HY"
      },
      "source": [
        "**Quiz Question:** What is the sum of the probabilities assigned to the top 50 words in the 3rd topic?"
      ]
    },
    {
      "cell_type": "code",
      "metadata": {
        "colab": {
          "base_uri": "https://localhost:8080/"
        },
        "id": "HcNbAn1Kv_Ha",
        "outputId": "3698c198-8ea5-4056-c008-eb444ee0a37f"
      },
      "source": [
        "sum(topic_model.get_topics([2], num_words=50)['score'])"
      ],
      "execution_count": null,
      "outputs": [
        {
          "output_type": "execute_result",
          "data": {
            "text/plain": [
              "0.18242098743820911"
            ]
          },
          "metadata": {},
          "execution_count": 12
        }
      ]
    },
    {
      "cell_type": "markdown",
      "metadata": {
        "id": "Muo6s_90v_Hb"
      },
      "source": [
        "Let's look at the top 10 words for each topic to see if we can identify any themes:"
      ]
    },
    {
      "cell_type": "code",
      "metadata": {
        "colab": {
          "base_uri": "https://localhost:8080/"
        },
        "id": "ZcM0PajWv_Hb",
        "outputId": "49ef815c-56da-4e42-8a53-170632e43b41"
      },
      "source": [
        "[x['words'] for x in topic_model.get_topics(output_type='topic_words', num_words=10)]"
      ],
      "execution_count": null,
      "outputs": [
        {
          "output_type": "execute_result",
          "data": {
            "text/plain": [
              "[['president',\n",
              "  'business',\n",
              "  'board',\n",
              "  'director',\n",
              "  'international',\n",
              "  'company',\n",
              "  'development',\n",
              "  'member',\n",
              "  'executive',\n",
              "  'served'],\n",
              " ['university',\n",
              "  'research',\n",
              "  'professor',\n",
              "  'school',\n",
              "  'college',\n",
              "  'science',\n",
              "  'institute',\n",
              "  'american',\n",
              "  'received',\n",
              "  'studies'],\n",
              " ['de',\n",
              "  'born',\n",
              "  'international',\n",
              "  'music',\n",
              "  'la',\n",
              "  'orchestra',\n",
              "  'opera',\n",
              "  'french',\n",
              "  'studied',\n",
              "  'national'],\n",
              " ['work',\n",
              "  'book',\n",
              "  'art',\n",
              "  'published',\n",
              "  'york',\n",
              "  'books',\n",
              "  'magazine',\n",
              "  'american',\n",
              "  'arts',\n",
              "  'works'],\n",
              " ['won',\n",
              "  'world',\n",
              "  'team',\n",
              "  'club',\n",
              "  'played',\n",
              "  'season',\n",
              "  'born',\n",
              "  'cup',\n",
              "  'football',\n",
              "  'championship'],\n",
              " ['years',\n",
              "  'born',\n",
              "  'time',\n",
              "  'family',\n",
              "  'father',\n",
              "  'people',\n",
              "  'children',\n",
              "  'called',\n",
              "  'found',\n",
              "  'son'],\n",
              " ['member',\n",
              "  'served',\n",
              "  'party',\n",
              "  'state',\n",
              "  'election',\n",
              "  'law',\n",
              "  'minister',\n",
              "  'elected',\n",
              "  'united',\n",
              "  'general'],\n",
              " ['league',\n",
              "  'played',\n",
              "  'season',\n",
              "  'career',\n",
              "  'games',\n",
              "  'coach',\n",
              "  'major',\n",
              "  'team',\n",
              "  'high',\n",
              "  'game'],\n",
              " ['film',\n",
              "  'award',\n",
              "  'television',\n",
              "  'series',\n",
              "  'show',\n",
              "  'radio',\n",
              "  'appeared',\n",
              "  'role',\n",
              "  'tv',\n",
              "  'theatre'],\n",
              " ['music',\n",
              "  'album',\n",
              "  'released',\n",
              "  'band',\n",
              "  'records',\n",
              "  'song',\n",
              "  'songs',\n",
              "  'recorded',\n",
              "  'jazz',\n",
              "  'singer']]"
            ]
          },
          "metadata": {},
          "execution_count": 13
        }
      ]
    },
    {
      "cell_type": "markdown",
      "metadata": {
        "id": "0ueUKUsev_Hc"
      },
      "source": [
        "We propose the following themes for each topic:\n",
        "\n",
        "- topic 0: Business\n",
        "- topic 1: Science and research\n",
        "- topic 2: International music\n",
        "- topic 3: Art and publishing\n",
        "- topic 4: Team sports\n",
        "- topic 5: Family and society\n",
        "- topic 6: Politics\n",
        "- topic 7: International athletics\n",
        "- topic 8: TV and film\n",
        "- topic 9: General music\n",
        "\n",
        "We'll save these themes for later:"
      ]
    },
    {
      "cell_type": "code",
      "metadata": {
        "id": "6dSdCoaIv_He"
      },
      "source": [
        "themes = ['business',\n",
        "          'science and research',\n",
        "          'international music',\n",
        "          'art and publishing',\n",
        "          'team sports',\n",
        "          'family and society',\n",
        "          'politics',\n",
        "          'international athletics',\n",
        "          'TV and film',\n",
        "          'general music']"
      ],
      "execution_count": null,
      "outputs": []
    },
    {
      "cell_type": "markdown",
      "metadata": {
        "id": "c-7KTm7Hv_Hf"
      },
      "source": [
        "### Measuring the importance of top words\n",
        "\n",
        "We can learn more about topics by exploring how they place probability mass (which we can think of as a weight) on each of their top words.\n",
        "\n",
        "We'll do this with two visualizations of the weights for the top words in each topic:\n",
        " - the weights of the top 100 words, sorted by the size\n",
        " - the total weight of the top 10 words\n"
      ]
    },
    {
      "cell_type": "markdown",
      "metadata": {
        "id": "YX9dCIbzv_Hg"
      },
      "source": [
        "Here's a plot for the top 100 words by weight in each topic:"
      ]
    },
    {
      "cell_type": "code",
      "metadata": {
        "colab": {
          "base_uri": "https://localhost:8080/",
          "height": 312
        },
        "id": "NnEjW1LIv_Hh",
        "outputId": "1f30996f-153a-481b-e37f-a8548b702a9a"
      },
      "source": [
        "for i in range(10):\n",
        "    plt.plot(range(100), topic_model.get_topics(topic_ids=[i], num_words=100)['score'])\n",
        "plt.xlabel('Word rank')\n",
        "plt.ylabel('Probability')\n",
        "plt.title('Probabilities of Top 100 Words in each Topic')"
      ],
      "execution_count": null,
      "outputs": [
        {
          "output_type": "execute_result",
          "data": {
            "text/plain": [
              "Text(0.5, 1.0, 'Probabilities of Top 100 Words in each Topic')"
            ]
          },
          "metadata": {},
          "execution_count": 15
        },
        {
          "output_type": "display_data",
          "data": {
            "image/png": "[encoded data removed]",
            "text/plain": [
              "<Figure size 432x288 with 1 Axes>"
            ]
          },
          "metadata": {
            "needs_background": "light"
          }
        }
      ]
    },
    {
      "cell_type": "markdown",
      "metadata": {
        "id": "cJ9JRdMDv_Hj"
      },
      "source": [
        "In the above plot, each line corresponds to one of our ten topics. Notice how for each topic, the weights drop off sharply as we move down the ranked list of most important words. This shows that the top 10-20 words in each topic are assigned a much greater weight than the remaining words - and remember from the summary of our topic model that our vocabulary has 547462 words in total!\n",
        "\n",
        "\n",
        "Next we plot the total weight assigned by each topic to its top 10 words: "
      ]
    },
    {
      "cell_type": "code",
      "metadata": {
        "colab": {
          "base_uri": "https://localhost:8080/",
          "height": 295
        },
        "id": "TyGRzeOdv_Hk",
        "outputId": "2711cceb-bbba-4435-e997-1864851349e2"
      },
      "source": [
        "top_probs = [sum(topic_model.get_topics(topic_ids=[i], num_words=10)['score']) for i in range(10)]\n",
        "\n",
        "ind = np.arange(10)\n",
        "width = 0.5\n",
        "\n",
        "fig, ax = plt.subplots()\n",
        "\n",
        "ax.bar(ind-(width/2),top_probs,width)\n",
        "ax.set_xticks(ind)\n",
        "\n",
        "plt.xlabel('Topic')\n",
        "plt.ylabel('Probability')\n",
        "plt.title('Total Probability of Top 10 Words in each Topic')\n",
        "plt.xlim(-0.5,9.5)\n",
        "plt.ylim(0,0.15)\n",
        "plt.show()"
      ],
      "execution_count": null,
      "outputs": [
        {
          "output_type": "display_data",
          "data": {
            "image/png": "[encoded data removed]",
            "text/plain": [
              "<Figure size 432x288 with 1 Axes>"
            ]
          },
          "metadata": {
            "needs_background": "light"
          }
        }
      ]
    },
    {
      "cell_type": "markdown",
      "metadata": {
        "id": "3lTPHWpjv_Hl"
      },
      "source": [
        "Here we see that, for our topic model, the top 10 words only account for a small fraction (in this case, between 5% and 13%) of their topic's total probability mass. So while we can use the top words to identify broad themes for each topic, we should keep in mind that in reality these topics are more complex than a simple 10-word summary.\n",
        "\n",
        "Finally, we observe that some 'junk' words appear highly rated in some topics despite our efforts to remove unhelpful words before fitting the model; for example, the word 'born' appears as a top 10 word in three different topics, but it doesn't help us describe these topics at all."
      ]
    },
    {
      "cell_type": "markdown",
      "metadata": {
        "id": "xn_1ABInv_Hl"
      },
      "source": [
        "# Topic distributions for some example documents\n",
        "\n",
        "As we noted in the introduction to this assignment, LDA allows for mixed membership, which means that each document can partially belong to several different topics. For each document, topic membership is expressed as a vector of weights that sum to one; the magnitude of each weight indicates the degree to which the document represents that particular topic.\n",
        "\n",
        "We'll explore this in our fitted model by looking at the topic distributions for a few example Wikipedia articles from our data set. We should find that these articles have the highest weights on the topics whose themes are most relevant to the subject of the article - for example, we'd expect an article on a politician to place relatively high weight on topics related to government, while an article about an athlete should place higher weight on topics related to sports or competition."
      ]
    },
    {
      "cell_type": "markdown",
      "metadata": {
        "id": "DsBrlvnKv_Hn"
      },
      "source": [
        "Topic distributions for documents can be obtained using Turi Create's predict() function. Turi Create uses a collapsed Gibbs sampler similar to the one described in the video lectures, where only the word assignments variables are sampled.  To get a document-specific topic proportion vector post-facto, predict() draws this vector from the conditional distribution given the sampled word assignments in the document.  Notice that, since these are draws from a _distribution_ over topics that the model has learned, we will get slightly different predictions each time we call this function on a document - we can see this below, where we predict the topic distribution for the article on Barack Obama:"
      ]
    },
    {
      "cell_type": "code",
      "metadata": {
        "colab": {
          "base_uri": "https://localhost:8080/"
        },
        "id": "14w_WT-fv_Hp",
        "outputId": "0bbea059-fc6e-4072-c9fe-cf175302a7b2"
      },
      "source": [
        "obama = turicreate.SArray([wiki_docs[int(np.where(wiki['name']=='Barack Obama')[0])]])\n",
        "pred1 = topic_model.predict(obama, output_type='probability')\n",
        "pred2 = topic_model.predict(obama, output_type='probability')\n",
        "print(turicreate.SFrame({'topics':themes, 'predictions (first draw)':pred1[0], 'predictions (second draw)':pred2[0]}))"
      ],
      "execution_count": null,
      "outputs": [
        {
          "output_type": "stream",
          "name": "stdout",
          "text": [
            "+--------------------------+---------------------------+-------------------------+\n",
            "| predictions (first draw) | predictions (second draw) |          topics         |\n",
            "+--------------------------+---------------------------+-------------------------+\n",
            "|   0.09408602150537634    |    0.09946236559139784    |         business        |\n",
            "|   0.04838709677419355    |    0.06182795698924731    |   science and research  |\n",
            "|   0.024193548387096774   |    0.03225806451612903    |   international music   |\n",
            "|   0.03225806451612903    |    0.03494623655913978    |    art and publishing   |\n",
            "|   0.051075268817204304   |    0.01881720430107527    |       team sports       |\n",
            "|   0.06989247311827956    |    0.08602150537634409    |    family and society   |\n",
            "|    0.543010752688172     |     0.5887096774193549    |         politics        |\n",
            "|   0.08870967741935484    |    0.04838709677419355    | international athletics |\n",
            "|   0.026881720430107527   |    0.013440860215053764   |       TV and film       |\n",
            "|   0.021505376344086023   |    0.016129032258064516   |      general music      |\n",
            "+--------------------------+---------------------------+-------------------------+\n",
            "[10 rows x 3 columns]\n",
            "\n"
          ]
        }
      ]
    },
    {
      "cell_type": "markdown",
      "metadata": {
        "id": "tRuGX_t7v_Hq"
      },
      "source": [
        "To get a more robust estimate of the topics for each document, we can average a large number of predictions for the same document:"
      ]
    },
    {
      "cell_type": "code",
      "metadata": {
        "id": "EjPr7AJ2v_Hr"
      },
      "source": [
        "def average_predictions(model, test_document, num_trials=100):\n",
        "    avg_preds = np.zeros((model.num_topics))\n",
        "    for i in range(num_trials):\n",
        "        avg_preds += model.predict(test_document, output_type='probability')[0]\n",
        "    avg_preds = avg_preds/num_trials\n",
        "    result = turicreate.SFrame({'topics':themes, 'average predictions':avg_preds})\n",
        "    result = result.sort('average predictions', ascending=False)\n",
        "    return result"
      ],
      "execution_count": null,
      "outputs": []
    },
    {
      "cell_type": "code",
      "metadata": {
        "colab": {
          "base_uri": "https://localhost:8080/"
        },
        "id": "gpC1Ty7Zv_Hu",
        "outputId": "c196cb57-5a79-4c88-ca9e-617ed846d14e"
      },
      "source": [
        "print(average_predictions(topic_model, obama, 100))"
      ],
      "execution_count": null,
      "outputs": [
        {
          "output_type": "stream",
          "name": "stdout",
          "text": [
            "+----------------------+-------------------------+\n",
            "| average predictions  |          topics         |\n",
            "+----------------------+-------------------------+\n",
            "|  0.5661559139784947  |         politics        |\n",
            "| 0.10029569892473121  |         business        |\n",
            "| 0.07817204301075273  |    family and society   |\n",
            "| 0.06362903225806456  |   science and research  |\n",
            "| 0.062123655913978525 | international athletics |\n",
            "| 0.03462365591397852  |       team sports       |\n",
            "| 0.02946236559139786  |   international music   |\n",
            "| 0.02491935483870968  |    art and publishing   |\n",
            "| 0.02172043010752687  |      general music      |\n",
            "| 0.018897849462365578 |       TV and film       |\n",
            "+----------------------+-------------------------+\n",
            "[10 rows x 2 columns]\n",
            "\n"
          ]
        }
      ]
    },
    {
      "cell_type": "markdown",
      "metadata": {
        "id": "pQw_Syhgv_Hw"
      },
      "source": [
        "__Quiz Question:__ What is the topic most closely associated with the article about former US President George W. Bush? Use the average results from 100 topic predictions."
      ]
    },
    {
      "cell_type": "code",
      "metadata": {
        "colab": {
          "base_uri": "https://localhost:8080/"
        },
        "id": "vHTaVANZv_Hx",
        "outputId": "b8da87f5-d285-48a8-d912-d38f12b95f65"
      },
      "source": [
        "george_bush = turicreate.SArray([wiki_docs[int(np.where(wiki['name']=='George W. Bush')[0])]])\n",
        "print (average_predictions(topic_model, george_bush, 100))"
      ],
      "execution_count": null,
      "outputs": [
        {
          "output_type": "stream",
          "name": "stdout",
          "text": [
            "+----------------------+-------------------------+\n",
            "| average predictions  |          topics         |\n",
            "+----------------------+-------------------------+\n",
            "|  0.4654385964912276  |         politics        |\n",
            "| 0.13347953216374264  |         business        |\n",
            "| 0.08540935672514617  |    family and society   |\n",
            "| 0.06871345029239764  |   science and research  |\n",
            "| 0.06672514619883038  | international athletics |\n",
            "| 0.05166666666666666  |    art and publishing   |\n",
            "| 0.04362573099415204  |      general music      |\n",
            "|  0.0333625730994152  |       TV and film       |\n",
            "| 0.031842105263157894 |       team sports       |\n",
            "| 0.01973684210526316  |   international music   |\n",
            "+----------------------+-------------------------+\n",
            "[10 rows x 2 columns]\n",
            "\n"
          ]
        }
      ]
    },
    {
      "cell_type": "markdown",
      "metadata": {
        "id": "ZGUxs8VZv_Hy"
      },
      "source": [
        "__Quiz Question:__ What are the top 3 topics corresponding to the article about English football (soccer) player Steven Gerrard? Use the average results from 100 topic predictions."
      ]
    },
    {
      "cell_type": "code",
      "metadata": {
        "colab": {
          "base_uri": "https://localhost:8080/"
        },
        "id": "wiI7ilxTv_Hz",
        "outputId": "d345e6f2-ee8a-4b58-ea57-e3dea49a46b0"
      },
      "source": [
        "steven_gerrard = turicreate.SArray([wiki_docs[int(np.where(wiki['name']=='Steven Gerrard')[0])]])\n",
        "print (average_predictions(topic_model, steven_gerrard, 100))"
      ],
      "execution_count": null,
      "outputs": [
        {
          "output_type": "stream",
          "name": "stdout",
          "text": [
            "+----------------------+-------------------------+\n",
            "| average predictions  |          topics         |\n",
            "+----------------------+-------------------------+\n",
            "|       0.69048        |       team sports       |\n",
            "| 0.06415999999999995  | international athletics |\n",
            "| 0.03588000000000003  |       TV and film       |\n",
            "| 0.03528000000000002  |      general music      |\n",
            "| 0.03524000000000003  |   international music   |\n",
            "| 0.03248000000000002  |         politics        |\n",
            "| 0.03088000000000002  |         business        |\n",
            "| 0.02608000000000002  |    art and publishing   |\n",
            "| 0.02576000000000002  |    family and society   |\n",
            "| 0.023760000000000017 |   science and research  |\n",
            "+----------------------+-------------------------+\n",
            "[10 rows x 2 columns]\n",
            "\n"
          ]
        }
      ]
    },
    {
      "cell_type": "markdown",
      "metadata": {
        "id": "QcJPXPT6v_Hz"
      },
      "source": [
        "# Comparing LDA to nearest neighbors for document retrieval\n",
        "\n",
        "So far we have found that our topic model has learned some coherent topics, we have explored these topics as probability distributions over a vocabulary, and we have seen how individual documents in our Wikipedia data set are assigned to these topics in a way that corresponds with our expectations. \n",
        "\n",
        "In this section, we will use the predicted topic distribution as a representation of each document, similar to how we have previously represented documents by word count or TF-IDF. This gives us a way of computing distances between documents, so that we can run a nearest neighbors search for a given document based on its membership in the topics that we learned from LDA. We can contrast the results with those obtained by running nearest neighbors under the usual TF-IDF representation, an approach that we explored in a previous assignment. \n",
        "\n",
        "We'll start by creating the LDA topic distribution representation for each document:"
      ]
    },
    {
      "cell_type": "code",
      "metadata": {
        "id": "rx-Ne_-Gv_H0"
      },
      "source": [
        "wiki['lda'] = topic_model.predict(wiki_docs, output_type='probability')"
      ],
      "execution_count": null,
      "outputs": []
    },
    {
      "cell_type": "markdown",
      "metadata": {
        "id": "PC69i8Bfv_H1"
      },
      "source": [
        "Next we add the TF-IDF document representations:"
      ]
    },
    {
      "cell_type": "code",
      "metadata": {
        "id": "9wBQNCXyv_H2"
      },
      "source": [
        "wiki['word_count'] = turicreate.text_analytics.count_words(wiki['text'])\n",
        "wiki['tf_idf'] = turicreate.text_analytics.tf_idf(wiki['word_count'])"
      ],
      "execution_count": null,
      "outputs": []
    },
    {
      "cell_type": "markdown",
      "metadata": {
        "id": "7BsFXkVVv_H4"
      },
      "source": [
        "For each of our two different document representations, we can use Turi Create to compute a brute-force nearest neighbors model:"
      ]
    },
    {
      "cell_type": "code",
      "metadata": {
        "colab": {
          "base_uri": "https://localhost:8080/",
          "height": 187
        },
        "id": "c0n7VOQ7v_H4",
        "outputId": "c02c629c-1bff-4381-c63e-0c71d8fe075c"
      },
      "source": [
        "model_tf_idf = turicreate.nearest_neighbors.create(wiki, label='name', features=['tf_idf'],\n",
        "                                                   method='brute_force', distance='cosine')\n",
        "model_lda_rep = turicreate.nearest_neighbors.create(wiki, label='name', features=['lda'],\n",
        "                                                    method='brute_force', distance='cosine')"
      ],
      "execution_count": null,
      "outputs": [
        {
          "output_type": "display_data",
          "data": {
            "text/html": [
              "<pre>Starting brute force nearest neighbors model training.</pre>"
            ],
            "text/plain": [
              "Starting brute force nearest neighbors model training."
            ]
          },
          "metadata": {}
        },
        {
          "output_type": "display_data",
          "data": {
            "text/html": [
              "<pre>Validating distance components.</pre>"
            ],
            "text/plain": [
              "Validating distance components."
            ]
          },
          "metadata": {}
        },
        {
          "output_type": "display_data",
          "data": {
            "text/html": [
              "<pre>Initializing model data.</pre>"
            ],
            "text/plain": [
              "Initializing model data."
            ]
          },
          "metadata": {}
        },
        {
          "output_type": "display_data",
          "data": {
            "text/html": [
              "<pre>Initializing distances.</pre>"
            ],
            "text/plain": [
              "Initializing distances."
            ]
          },
          "metadata": {}
        },
        {
          "output_type": "display_data",
          "data": {
            "text/html": [
              "<pre>Done.</pre>"
            ],
            "text/plain": [
              "Done."
            ]
          },
          "metadata": {}
        },
        {
          "output_type": "display_data",
          "data": {
            "text/html": [
              "<pre>Starting brute force nearest neighbors model training.</pre>"
            ],
            "text/plain": [
              "Starting brute force nearest neighbors model training."
            ]
          },
          "metadata": {}
        },
        {
          "output_type": "display_data",
          "data": {
            "text/html": [
              "<pre>Validating distance components.</pre>"
            ],
            "text/plain": [
              "Validating distance components."
            ]
          },
          "metadata": {}
        },
        {
          "output_type": "display_data",
          "data": {
            "text/html": [
              "<pre>Initializing model data.</pre>"
            ],
            "text/plain": [
              "Initializing model data."
            ]
          },
          "metadata": {}
        },
        {
          "output_type": "display_data",
          "data": {
            "text/html": [
              "<pre>Initializing distances.</pre>"
            ],
            "text/plain": [
              "Initializing distances."
            ]
          },
          "metadata": {}
        },
        {
          "output_type": "display_data",
          "data": {
            "text/html": [
              "<pre>Done.</pre>"
            ],
            "text/plain": [
              "Done."
            ]
          },
          "metadata": {}
        }
      ]
    },
    {
      "cell_type": "markdown",
      "metadata": {
        "id": "AsATO3y9v_H5"
      },
      "source": [
        "Let's compare these nearest neighbor models by finding the nearest neighbors under each representation on an example document. For this example we'll use Paul Krugman, an American economist:"
      ]
    },
    {
      "cell_type": "code",
      "metadata": {
        "colab": {
          "base_uri": "https://localhost:8080/",
          "height": 364
        },
        "id": "0sebgQFRv_H6",
        "outputId": "2a1383b0-0b38-4d82-f79c-364b2a20fb35"
      },
      "source": [
        "model_tf_idf.query(wiki[wiki['name'] == 'Paul Krugman'], label='name', k=10)"
      ],
      "execution_count": null,
      "outputs": [
        {
          "output_type": "display_data",
          "data": {
            "text/html": [
              "<pre>Starting pairwise querying.</pre>"
            ],
            "text/plain": [
              "Starting pairwise querying."
            ]
          },
          "metadata": {}
        },
        {
          "output_type": "display_data",
          "data": {
            "text/html": [
              "<pre>+--------------+---------+-------------+--------------+</pre>"
            ],
            "text/plain": [
              "+--------------+---------+-------------+--------------+"
            ]
          },
          "metadata": {}
        },
        {
          "output_type": "display_data",
          "data": {
            "text/html": [
              "<pre>| Query points | # Pairs | % Complete. | Elapsed Time |</pre>"
            ],
            "text/plain": [
              "| Query points | # Pairs | % Complete. | Elapsed Time |"
            ]
          },
          "metadata": {}
        },
        {
          "output_type": "display_data",
          "data": {
            "text/html": [
              "<pre>+--------------+---------+-------------+--------------+</pre>"
            ],
            "text/plain": [
              "+--------------+---------+-------------+--------------+"
            ]
          },
          "metadata": {}
        },
        {
          "output_type": "display_data",
          "data": {
            "text/html": [
              "<pre>| 0            | 1       | 0.00169288  | 22.736ms     |</pre>"
            ],
            "text/plain": [
              "| 0            | 1       | 0.00169288  | 22.736ms     |"
            ]
          },
          "metadata": {}
        },
        {
          "output_type": "display_data",
          "data": {
            "text/html": [
              "<pre>| Done         |         | 100         | 539.532ms    |</pre>"
            ],
            "text/plain": [
              "| Done         |         | 100         | 539.532ms    |"
            ]
          },
          "metadata": {}
        },
        {
          "output_type": "display_data",
          "data": {
            "text/html": [
              "<pre>+--------------+---------+-------------+--------------+</pre>"
            ],
            "text/plain": [
              "+--------------+---------+-------------+--------------+"
            ]
          },
          "metadata": {}
        },
        {
          "output_type": "execute_result",
          "data": {
            "text/html": [
              "<div style=\"max-height:1000px;max-width:1500px;overflow:auto;\"><table frame=\"box\" rules=\"cols\">\n",
              "    <tr>\n",
              "        <th style=\"padding-left: 1em; padding-right: 1em; text-align: center\">query_label</th>\n",
              "        <th style=\"padding-left: 1em; padding-right: 1em; text-align: center\">reference_label</th>\n",
              "        <th style=\"padding-left: 1em; padding-right: 1em; text-align: center\">distance</th>\n",
              "        <th style=\"padding-left: 1em; padding-right: 1em; text-align: center\">rank</th>\n",
              "    </tr>\n",
              "    <tr>\n",
              "        <td style=\"padding-left: 1em; padding-right: 1em; text-align: center; vertical-align: top\">Paul Krugman</td>\n",
              "        <td style=\"padding-left: 1em; padding-right: 1em; text-align: center; vertical-align: top\">Paul Krugman</td>\n",
              "        <td style=\"padding-left: 1em; padding-right: 1em; text-align: center; vertical-align: top\">0.0</td>\n",
              "        <td style=\"padding-left: 1em; padding-right: 1em; text-align: center; vertical-align: top\">1</td>\n",
              "    </tr>\n",
              "    <tr>\n",
              "        <td style=\"padding-left: 1em; padding-right: 1em; text-align: center; vertical-align: top\">Paul Krugman</td>\n",
              "        <td style=\"padding-left: 1em; padding-right: 1em; text-align: center; vertical-align: top\">Elise Brezis</td>\n",
              "        <td style=\"padding-left: 1em; padding-right: 1em; text-align: center; vertical-align: top\">0.7444980172622551</td>\n",
              "        <td style=\"padding-left: 1em; padding-right: 1em; text-align: center; vertical-align: top\">2</td>\n",
              "    </tr>\n",
              "    <tr>\n",
              "        <td style=\"padding-left: 1em; padding-right: 1em; text-align: center; vertical-align: top\">Paul Krugman</td>\n",
              "        <td style=\"padding-left: 1em; padding-right: 1em; text-align: center; vertical-align: top\">Maitreesh Ghatak</td>\n",
              "        <td style=\"padding-left: 1em; padding-right: 1em; text-align: center; vertical-align: top\">0.8156498483099809</td>\n",
              "        <td style=\"padding-left: 1em; padding-right: 1em; text-align: center; vertical-align: top\">3</td>\n",
              "    </tr>\n",
              "    <tr>\n",
              "        <td style=\"padding-left: 1em; padding-right: 1em; text-align: center; vertical-align: top\">Paul Krugman</td>\n",
              "        <td style=\"padding-left: 1em; padding-right: 1em; text-align: center; vertical-align: top\">Kai A. Konrad</td>\n",
              "        <td style=\"padding-left: 1em; padding-right: 1em; text-align: center; vertical-align: top\">0.8237005644064379</td>\n",
              "        <td style=\"padding-left: 1em; padding-right: 1em; text-align: center; vertical-align: top\">4</td>\n",
              "    </tr>\n",
              "    <tr>\n",
              "        <td style=\"padding-left: 1em; padding-right: 1em; text-align: center; vertical-align: top\">Paul Krugman</td>\n",
              "        <td style=\"padding-left: 1em; padding-right: 1em; text-align: center; vertical-align: top\">David Colander</td>\n",
              "        <td style=\"padding-left: 1em; padding-right: 1em; text-align: center; vertical-align: top\">0.8346259277590851</td>\n",
              "        <td style=\"padding-left: 1em; padding-right: 1em; text-align: center; vertical-align: top\">5</td>\n",
              "    </tr>\n",
              "    <tr>\n",
              "        <td style=\"padding-left: 1em; padding-right: 1em; text-align: center; vertical-align: top\">Paul Krugman</td>\n",
              "        <td style=\"padding-left: 1em; padding-right: 1em; text-align: center; vertical-align: top\">Richard Blundell</td>\n",
              "        <td style=\"padding-left: 1em; padding-right: 1em; text-align: center; vertical-align: top\">0.8379342678735122</td>\n",
              "        <td style=\"padding-left: 1em; padding-right: 1em; text-align: center; vertical-align: top\">6</td>\n",
              "    </tr>\n",
              "    <tr>\n",
              "        <td style=\"padding-left: 1em; padding-right: 1em; text-align: center; vertical-align: top\">Paul Krugman</td>\n",
              "        <td style=\"padding-left: 1em; padding-right: 1em; text-align: center; vertical-align: top\">Gordon Rausser</td>\n",
              "        <td style=\"padding-left: 1em; padding-right: 1em; text-align: center; vertical-align: top\">0.8394153470596016</td>\n",
              "        <td style=\"padding-left: 1em; padding-right: 1em; text-align: center; vertical-align: top\">7</td>\n",
              "    </tr>\n",
              "    <tr>\n",
              "        <td style=\"padding-left: 1em; padding-right: 1em; text-align: center; vertical-align: top\">Paul Krugman</td>\n",
              "        <td style=\"padding-left: 1em; padding-right: 1em; text-align: center; vertical-align: top\">Edward J. Nell</td>\n",
              "        <td style=\"padding-left: 1em; padding-right: 1em; text-align: center; vertical-align: top\">0.8421785000147988</td>\n",
              "        <td style=\"padding-left: 1em; padding-right: 1em; text-align: center; vertical-align: top\">8</td>\n",
              "    </tr>\n",
              "    <tr>\n",
              "        <td style=\"padding-left: 1em; padding-right: 1em; text-align: center; vertical-align: top\">Paul Krugman</td>\n",
              "        <td style=\"padding-left: 1em; padding-right: 1em; text-align: center; vertical-align: top\">Robin Boadway</td>\n",
              "        <td style=\"padding-left: 1em; padding-right: 1em; text-align: center; vertical-align: top\">0.8423742605956992</td>\n",
              "        <td style=\"padding-left: 1em; padding-right: 1em; text-align: center; vertical-align: top\">9</td>\n",
              "    </tr>\n",
              "    <tr>\n",
              "        <td style=\"padding-left: 1em; padding-right: 1em; text-align: center; vertical-align: top\">Paul Krugman</td>\n",
              "        <td style=\"padding-left: 1em; padding-right: 1em; text-align: center; vertical-align: top\">Tim Besley</td>\n",
              "        <td style=\"padding-left: 1em; padding-right: 1em; text-align: center; vertical-align: top\">0.8430881092528927</td>\n",
              "        <td style=\"padding-left: 1em; padding-right: 1em; text-align: center; vertical-align: top\">10</td>\n",
              "    </tr>\n",
              "</table>\n",
              "[10 rows x 4 columns]<br/>\n",
              "</div>"
            ],
            "text/plain": [
              "Columns:\n",
              "\tquery_label\tstr\n",
              "\treference_label\tstr\n",
              "\tdistance\tfloat\n",
              "\trank\tint\n",
              "\n",
              "Rows: 10\n",
              "\n",
              "Data:\n",
              "+--------------+------------------+--------------------+------+\n",
              "| query_label  | reference_label  |      distance      | rank |\n",
              "+--------------+------------------+--------------------+------+\n",
              "| Paul Krugman |   Paul Krugman   |        0.0         |  1   |\n",
              "| Paul Krugman |   Elise Brezis   | 0.7444980172622551 |  2   |\n",
              "| Paul Krugman | Maitreesh Ghatak | 0.8156498483099809 |  3   |\n",
              "| Paul Krugman |  Kai A. Konrad   | 0.8237005644064379 |  4   |\n",
              "| Paul Krugman |  David Colander  | 0.8346259277590851 |  5   |\n",
              "| Paul Krugman | Richard Blundell | 0.8379342678735122 |  6   |\n",
              "| Paul Krugman |  Gordon Rausser  | 0.8394153470596016 |  7   |\n",
              "| Paul Krugman |  Edward J. Nell  | 0.8421785000147988 |  8   |\n",
              "| Paul Krugman |  Robin Boadway   | 0.8423742605956992 |  9   |\n",
              "| Paul Krugman |    Tim Besley    | 0.8430881092528927 |  10  |\n",
              "+--------------+------------------+--------------------+------+\n",
              "[10 rows x 4 columns]"
            ]
          },
          "metadata": {},
          "execution_count": 29
        }
      ]
    },
    {
      "cell_type": "code",
      "metadata": {
        "colab": {
          "base_uri": "https://localhost:8080/",
          "height": 364
        },
        "id": "lUMg2LYMv_H6",
        "outputId": "de70d5ef-e1c0-430d-b21c-93f87c2d6ccf"
      },
      "source": [
        "model_lda_rep.query(wiki[wiki['name'] == 'Paul Krugman'], label='name', k=10)"
      ],
      "execution_count": null,
      "outputs": [
        {
          "output_type": "display_data",
          "data": {
            "text/html": [
              "<pre>Starting pairwise querying.</pre>"
            ],
            "text/plain": [
              "Starting pairwise querying."
            ]
          },
          "metadata": {}
        },
        {
          "output_type": "display_data",
          "data": {
            "text/html": [
              "<pre>+--------------+---------+-------------+--------------+</pre>"
            ],
            "text/plain": [
              "+--------------+---------+-------------+--------------+"
            ]
          },
          "metadata": {}
        },
        {
          "output_type": "display_data",
          "data": {
            "text/html": [
              "<pre>| Query points | # Pairs | % Complete. | Elapsed Time |</pre>"
            ],
            "text/plain": [
              "| Query points | # Pairs | % Complete. | Elapsed Time |"
            ]
          },
          "metadata": {}
        },
        {
          "output_type": "display_data",
          "data": {
            "text/html": [
              "<pre>+--------------+---------+-------------+--------------+</pre>"
            ],
            "text/plain": [
              "+--------------+---------+-------------+--------------+"
            ]
          },
          "metadata": {}
        },
        {
          "output_type": "display_data",
          "data": {
            "text/html": [
              "<pre>| 0            | 1       | 0.00169288  | 18.037ms     |</pre>"
            ],
            "text/plain": [
              "| 0            | 1       | 0.00169288  | 18.037ms     |"
            ]
          },
          "metadata": {}
        },
        {
          "output_type": "display_data",
          "data": {
            "text/html": [
              "<pre>| Done         |         | 100         | 60.572ms     |</pre>"
            ],
            "text/plain": [
              "| Done         |         | 100         | 60.572ms     |"
            ]
          },
          "metadata": {}
        },
        {
          "output_type": "display_data",
          "data": {
            "text/html": [
              "<pre>+--------------+---------+-------------+--------------+</pre>"
            ],
            "text/plain": [
              "+--------------+---------+-------------+--------------+"
            ]
          },
          "metadata": {}
        },
        {
          "output_type": "execute_result",
          "data": {
            "text/html": [
              "<div style=\"max-height:1000px;max-width:1500px;overflow:auto;\"><table frame=\"box\" rules=\"cols\">\n",
              "    <tr>\n",
              "        <th style=\"padding-left: 1em; padding-right: 1em; text-align: center\">query_label</th>\n",
              "        <th style=\"padding-left: 1em; padding-right: 1em; text-align: center\">reference_label</th>\n",
              "        <th style=\"padding-left: 1em; padding-right: 1em; text-align: center\">distance</th>\n",
              "        <th style=\"padding-left: 1em; padding-right: 1em; text-align: center\">rank</th>\n",
              "    </tr>\n",
              "    <tr>\n",
              "        <td style=\"padding-left: 1em; padding-right: 1em; text-align: center; vertical-align: top\">Paul Krugman</td>\n",
              "        <td style=\"padding-left: 1em; padding-right: 1em; text-align: center; vertical-align: top\">Paul Krugman</td>\n",
              "        <td style=\"padding-left: 1em; padding-right: 1em; text-align: center; vertical-align: top\">2.220446049250313e-16</td>\n",
              "        <td style=\"padding-left: 1em; padding-right: 1em; text-align: center; vertical-align: top\">1</td>\n",
              "    </tr>\n",
              "    <tr>\n",
              "        <td style=\"padding-left: 1em; padding-right: 1em; text-align: center; vertical-align: top\">Paul Krugman</td>\n",
              "        <td style=\"padding-left: 1em; padding-right: 1em; text-align: center; vertical-align: top\">John L. Sorenson</td>\n",
              "        <td style=\"padding-left: 1em; padding-right: 1em; text-align: center; vertical-align: top\">0.005135626403919513</td>\n",
              "        <td style=\"padding-left: 1em; padding-right: 1em; text-align: center; vertical-align: top\">2</td>\n",
              "    </tr>\n",
              "    <tr>\n",
              "        <td style=\"padding-left: 1em; padding-right: 1em; text-align: center; vertical-align: top\">Paul Krugman</td>\n",
              "        <td style=\"padding-left: 1em; padding-right: 1em; text-align: center; vertical-align: top\">Gwen Bell</td>\n",
              "        <td style=\"padding-left: 1em; padding-right: 1em; text-align: center; vertical-align: top\">0.0057759863461090966</td>\n",
              "        <td style=\"padding-left: 1em; padding-right: 1em; text-align: center; vertical-align: top\">3</td>\n",
              "    </tr>\n",
              "    <tr>\n",
              "        <td style=\"padding-left: 1em; padding-right: 1em; text-align: center; vertical-align: top\">Paul Krugman</td>\n",
              "        <td style=\"padding-left: 1em; padding-right: 1em; text-align: center; vertical-align: top\">Utsa Patnaik</td>\n",
              "        <td style=\"padding-left: 1em; padding-right: 1em; text-align: center; vertical-align: top\">0.006021075903413942</td>\n",
              "        <td style=\"padding-left: 1em; padding-right: 1em; text-align: center; vertical-align: top\">4</td>\n",
              "    </tr>\n",
              "    <tr>\n",
              "        <td style=\"padding-left: 1em; padding-right: 1em; text-align: center; vertical-align: top\">Paul Krugman</td>\n",
              "        <td style=\"padding-left: 1em; padding-right: 1em; text-align: center; vertical-align: top\">Shiv Visvanathan</td>\n",
              "        <td style=\"padding-left: 1em; padding-right: 1em; text-align: center; vertical-align: top\">0.007726565994254364</td>\n",
              "        <td style=\"padding-left: 1em; padding-right: 1em; text-align: center; vertical-align: top\">5</td>\n",
              "    </tr>\n",
              "    <tr>\n",
              "        <td style=\"padding-left: 1em; padding-right: 1em; text-align: center; vertical-align: top\">Paul Krugman</td>\n",
              "        <td style=\"padding-left: 1em; padding-right: 1em; text-align: center; vertical-align: top\">Walter E. Massey</td>\n",
              "        <td style=\"padding-left: 1em; padding-right: 1em; text-align: center; vertical-align: top\">0.007886373395588286</td>\n",
              "        <td style=\"padding-left: 1em; padding-right: 1em; text-align: center; vertical-align: top\">6</td>\n",
              "    </tr>\n",
              "    <tr>\n",
              "        <td style=\"padding-left: 1em; padding-right: 1em; text-align: center; vertical-align: top\">Paul Krugman</td>\n",
              "        <td style=\"padding-left: 1em; padding-right: 1em; text-align: center; vertical-align: top\">Patrick Q. Mason</td>\n",
              "        <td style=\"padding-left: 1em; padding-right: 1em; text-align: center; vertical-align: top\">0.008550729364592002</td>\n",
              "        <td style=\"padding-left: 1em; padding-right: 1em; text-align: center; vertical-align: top\">7</td>\n",
              "    </tr>\n",
              "    <tr>\n",
              "        <td style=\"padding-left: 1em; padding-right: 1em; text-align: center; vertical-align: top\">Paul Krugman</td>\n",
              "        <td style=\"padding-left: 1em; padding-right: 1em; text-align: center; vertical-align: top\">John Baer</td>\n",
              "        <td style=\"padding-left: 1em; padding-right: 1em; text-align: center; vertical-align: top\">0.008792150828745404</td>\n",
              "        <td style=\"padding-left: 1em; padding-right: 1em; text-align: center; vertical-align: top\">8</td>\n",
              "    </tr>\n",
              "    <tr>\n",
              "        <td style=\"padding-left: 1em; padding-right: 1em; text-align: center; vertical-align: top\">Paul Krugman</td>\n",
              "        <td style=\"padding-left: 1em; padding-right: 1em; text-align: center; vertical-align: top\">Emily Isaacson</td>\n",
              "        <td style=\"padding-left: 1em; padding-right: 1em; text-align: center; vertical-align: top\">0.009004253212455793</td>\n",
              "        <td style=\"padding-left: 1em; padding-right: 1em; text-align: center; vertical-align: top\">9</td>\n",
              "    </tr>\n",
              "    <tr>\n",
              "        <td style=\"padding-left: 1em; padding-right: 1em; text-align: center; vertical-align: top\">Paul Krugman</td>\n",
              "        <td style=\"padding-left: 1em; padding-right: 1em; text-align: center; vertical-align: top\">Farhat Basir Khan</td>\n",
              "        <td style=\"padding-left: 1em; padding-right: 1em; text-align: center; vertical-align: top\">0.009021481730583814</td>\n",
              "        <td style=\"padding-left: 1em; padding-right: 1em; text-align: center; vertical-align: top\">10</td>\n",
              "    </tr>\n",
              "</table>\n",
              "[10 rows x 4 columns]<br/>\n",
              "</div>"
            ],
            "text/plain": [
              "Columns:\n",
              "\tquery_label\tstr\n",
              "\treference_label\tstr\n",
              "\tdistance\tfloat\n",
              "\trank\tint\n",
              "\n",
              "Rows: 10\n",
              "\n",
              "Data:\n",
              "+--------------+-------------------+-----------------------+------+\n",
              "| query_label  |  reference_label  |        distance       | rank |\n",
              "+--------------+-------------------+-----------------------+------+\n",
              "| Paul Krugman |    Paul Krugman   | 2.220446049250313e-16 |  1   |\n",
              "| Paul Krugman |  John L. Sorenson |  0.005135626403919513 |  2   |\n",
              "| Paul Krugman |     Gwen Bell     | 0.0057759863461090966 |  3   |\n",
              "| Paul Krugman |    Utsa Patnaik   |  0.006021075903413942 |  4   |\n",
              "| Paul Krugman |  Shiv Visvanathan |  0.007726565994254364 |  5   |\n",
              "| Paul Krugman |  Walter E. Massey |  0.007886373395588286 |  6   |\n",
              "| Paul Krugman |  Patrick Q. Mason |  0.008550729364592002 |  7   |\n",
              "| Paul Krugman |     John Baer     |  0.008792150828745404 |  8   |\n",
              "| Paul Krugman |   Emily Isaacson  |  0.009004253212455793 |  9   |\n",
              "| Paul Krugman | Farhat Basir Khan |  0.009021481730583814 |  10  |\n",
              "+--------------+-------------------+-----------------------+------+\n",
              "[10 rows x 4 columns]"
            ]
          },
          "metadata": {},
          "execution_count": 30
        }
      ]
    },
    {
      "cell_type": "markdown",
      "metadata": {
        "id": "n6JIvzB7v_H7"
      },
      "source": [
        "Notice that that there is no overlap between the two sets of top 10 nearest neighbors. This doesn't necessarily mean that one representation is better or worse than the other, but rather that they are picking out different features of the documents. \n",
        "\n",
        "With TF-IDF, documents are distinguished by the frequency of uncommon words. Since similarity is defined based on the specific words used in the document, documents that are \"close\" under TF-IDF tend to be similar in terms of specific details. This is what we see in the example: the top 10 nearest neighbors are all economists from the US, UK, or Canada. \n",
        "\n",
        "Our LDA representation, on the other hand, defines similarity between documents in terms of their topic distributions. This means that documents can be \"close\" if they share similar themes, even though they may not share many of the same keywords. For the article on Paul Krugman, we expect the most important topics to be 'American college and politics' and 'science and research'. As a result, we see that the top 10 nearest neighbors are academics from a wide variety of fields, including literature, anthropology, and religious studies."
      ]
    },
    {
      "cell_type": "markdown",
      "metadata": {
        "id": "MVwJtNNev_H8"
      },
      "source": [
        "# Understanding the role of LDA model hyperparameters\n",
        "\n",
        "Finally, we'll take a look at the effect of the LDA model hyperparameters alpha and gamma on the characteristics of our fitted model. Recall that alpha is a parameter of the prior distribution over topic weights in each document, while gamma is a parameter of the prior distribution over word weights in each topic. \n",
        "\n",
        "In the video lectures, we saw that alpha and gamma can be thought of as smoothing parameters when we compute how much each document \"likes\" a topic (in the case of alpha) or how much each topic \"likes\" a word (in the case of gamma). In both cases, these parameters serve to reduce the differences across topics or words in terms of these calculated preferences; alpha makes the document preferences \"smoother\" over topics, and gamma makes the topic preferences \"smoother\" over words.\n",
        "\n",
        "Our goal in this section will be to understand how changing these parameter values affects the characteristics of the resulting topic model.\n",
        "\n",
        "__Quiz Question:__ What was the value of alpha used to fit our original topic model?"
      ]
    },
    {
      "cell_type": "code",
      "metadata": {
        "colab": {
          "base_uri": "https://localhost:8080/"
        },
        "id": "um8iMOE1v_H9",
        "outputId": "52f6db29-a1e6-4954-d37d-c18615ee617b"
      },
      "source": [
        "#topic_model['alpha']\n",
        "topic_model.alpha"
      ],
      "execution_count": null,
      "outputs": [
        {
          "output_type": "execute_result",
          "data": {
            "text/plain": [
              "5.0"
            ]
          },
          "metadata": {},
          "execution_count": 34
        }
      ]
    },
    {
      "cell_type": "markdown",
      "metadata": {
        "id": "WZoTCWpkv_H-"
      },
      "source": [
        "__Quiz Question:__ What was the value of gamma used to fit our original topic model? Remember that Turi Create uses \"beta\" instead of \"gamma\" to refer to the hyperparameter that influences topic distributions over words."
      ]
    },
    {
      "cell_type": "code",
      "metadata": {
        "colab": {
          "base_uri": "https://localhost:8080/"
        },
        "id": "ncWMqpvsv_H_",
        "outputId": "00e0e35e-5eaf-4354-90b7-cbc2fa377298"
      },
      "source": [
        "topic_model.beta"
      ],
      "execution_count": null,
      "outputs": [
        {
          "output_type": "execute_result",
          "data": {
            "text/plain": [
              "0.1"
            ]
          },
          "metadata": {},
          "execution_count": 35
        }
      ]
    },
    {
      "cell_type": "markdown",
      "metadata": {
        "id": "IE8KT6fCv_IB"
      },
      "source": [
        "We'll start by loading some topic models that have been trained using different settings of alpha and gamma. Specifically, we will start by comparing the following two models to our original topic model:\n",
        " - tpm_low_alpha, a model trained with alpha = 1 and default gamma\n",
        " - tpm_high_alpha, a model trained with alpha = 50 and default gamma"
      ]
    },
    {
      "cell_type": "code",
      "metadata": {
        "id": "oNhmcJ9Xv_IC"
      },
      "source": [
        "tpm_low_alpha = turicreate.load_model('/content/gdrive/My Drive/Turicreate/Week 24/topic_models/lda_low_alpha')\n",
        "tpm_high_alpha = turicreate.load_model('/content/gdrive/My Drive/Turicreate/Week 24/topic_models/lda_high_alpha')"
      ],
      "execution_count": null,
      "outputs": []
    },
    {
      "cell_type": "markdown",
      "metadata": {
        "id": "oC3g_pVFv_ID"
      },
      "source": [
        "### Changing the hyperparameter alpha\n",
        "\n",
        "Since alpha is responsible for smoothing document preferences over topics, the impact of changing its value should be visible when we plot the distribution of topic weights for the same document under models fit with different alpha values. In the code below, we plot the (sorted) topic weights for the Wikipedia article on Barack Obama under models fit with high, original, and low settings of alpha."
      ]
    },
    {
      "cell_type": "code",
      "metadata": {
        "colab": {
          "base_uri": "https://localhost:8080/",
          "height": 297
        },
        "id": "jL0dvV4Mv_IE",
        "outputId": "670f0721-8403-4e0c-a7c6-3161ce769ca1"
      },
      "source": [
        "a = np.sort(tpm_low_alpha.predict(obama,output_type='probability')[0])[::-1]\n",
        "b = np.sort(topic_model.predict(obama,output_type='probability')[0])[::-1]\n",
        "c = np.sort(tpm_high_alpha.predict(obama,output_type='probability')[0])[::-1]\n",
        "ind = np.arange(len(a))\n",
        "width = 0.3\n",
        "\n",
        "def param_bar_plot(a,b,c,ind,width,ylim,param,xlab,ylab):\n",
        "    fig = plt.figure()\n",
        "    ax = fig.add_subplot(111)\n",
        "\n",
        "    b1 = ax.bar(ind, a, width, color='lightskyblue')\n",
        "    b2 = ax.bar(ind+width, b, width, color='lightcoral')\n",
        "    b3 = ax.bar(ind+(2*width), c, width, color='gold')\n",
        "\n",
        "    ax.set_xticks(ind+width)\n",
        "    ax.set_xticklabels(range(10))\n",
        "    ax.set_ylabel(ylab)\n",
        "    ax.set_xlabel(xlab)\n",
        "    ax.set_ylim(0,ylim)\n",
        "    ax.legend(handles = [b1,b2,b3],labels=['low '+param,'original model','high '+param])\n",
        "\n",
        "    plt.tight_layout()\n",
        "    \n",
        "param_bar_plot(a,b,c,ind,width,ylim=1.0,param='alpha',\n",
        "               xlab='Topics (sorted by weight of top 100 words)',ylab='Topic Probability for Obama Article')"
      ],
      "execution_count": null,
      "outputs": [
        {
          "output_type": "display_data",
          "data": {
            "image/png": "[encoded data removed]",
            "text/plain": [
              "<Figure size 432x288 with 1 Axes>"
            ]
          },
          "metadata": {
            "needs_background": "light"
          }
        }
      ]
    },
    {
      "cell_type": "markdown",
      "metadata": {
        "id": "WptFfo7ev_IF"
      },
      "source": [
        "Here we can clearly see the smoothing enforced by the alpha parameter - notice that when alpha is low most of the weight in the topic distribution for this article goes to a single topic, but when alpha is high the weight is much more evenly distributed across the topics.\n",
        "\n",
        "__Quiz Question:__ How many topics are assigned a weight greater than 0.3 or less than 0.05 for the article on Paul Krugman in the **low alpha** model?  Use the average results from 100 topic predictions."
      ]
    },
    {
      "cell_type": "code",
      "metadata": {
        "colab": {
          "base_uri": "https://localhost:8080/"
        },
        "id": "aBJlRLUOv_IF",
        "outputId": "eb5562b2-697e-45d4-f7ed-07ced31e5a39"
      },
      "source": [
        "paul_krugman = turicreate.SArray([wiki_docs[int(np.where(wiki['name']=='Paul Krugman')[0])]])\n",
        "paul_krugman_low_alpha = average_predictions(tpm_low_alpha, paul_krugman, 100)\n",
        "print (paul_krugman_low_alpha[(paul_krugman_low_alpha['average predictions'] > 0.3) |\n",
        "                             (paul_krugman_low_alpha['average predictions'] < 0.05)\n",
        "                            ])\n",
        "print (len(paul_krugman_low_alpha[(paul_krugman_low_alpha['average predictions'] > 0.3) |\n",
        "                             (paul_krugman_low_alpha['average predictions'] < 0.05)\n",
        "                            ]))"
      ],
      "execution_count": null,
      "outputs": [
        {
          "output_type": "stream",
          "name": "stdout",
          "text": [
            "+----------------------+----------------------+\n",
            "| average predictions  |        topics        |\n",
            "+----------------------+----------------------+\n",
            "|  0.471172839506173   |  art and publishing  |\n",
            "| 0.017901234567901245 | science and research |\n",
            "| 0.015000000000000013 |    general music     |\n",
            "| 0.013518518518518534 |  family and society  |\n",
            "| 0.011543209876543226 |       business       |\n",
            "| 0.010864197530864206 |     TV and film      |\n",
            "| 0.009382716049382728 |       politics       |\n",
            "+----------------------+----------------------+\n",
            "[? rows x 2 columns]\n",
            "Note: Only the head of the SFrame is printed. This SFrame is lazily evaluated.\n",
            "You can use sf.materialize() to force materialization.\n",
            "7\n"
          ]
        }
      ]
    },
    {
      "cell_type": "markdown",
      "metadata": {
        "id": "3YgPVtQzv_IG"
      },
      "source": [
        "__Quiz Question:__ How many topics are assigned a weight greater than 0.3 or less than 0.05 for the article on Paul Krugman in the **high alpha** model? Use the average results from 100 topic predictions."
      ]
    },
    {
      "cell_type": "code",
      "metadata": {
        "colab": {
          "base_uri": "https://localhost:8080/"
        },
        "id": "Zo_gMVAnv_IH",
        "outputId": "820a4c28-9bbc-4d3a-e03a-575545ed69b6"
      },
      "source": [
        "paul_krugman_high_alpha = average_predictions(tpm_high_alpha, paul_krugman, 100)\n",
        "print (paul_krugman_low_alpha[(paul_krugman_high_alpha['average predictions'] > 0.3) |\n",
        "                             (paul_krugman_high_alpha['average predictions'] < 0.05)\n",
        "                            ])\n",
        "print (len(paul_krugman_low_alpha[(paul_krugman_high_alpha['average predictions'] > 0.3) |\n",
        "                             (paul_krugman_high_alpha['average predictions'] < 0.05)\n",
        "                            ]))"
      ],
      "execution_count": null,
      "outputs": [
        {
          "output_type": "stream",
          "name": "stdout",
          "text": [
            "+---------------------+--------+\n",
            "| average predictions | topics |\n",
            "+---------------------+--------+\n",
            "+---------------------+--------+\n",
            "[? rows x 2 columns]\n",
            "Note: Only the head of the SFrame is printed. This SFrame is lazily evaluated.\n",
            "You can use sf.materialize() to force materialization.\n",
            "0\n"
          ]
        }
      ]
    },
    {
      "cell_type": "markdown",
      "metadata": {
        "id": "TIuYPM73v_IH"
      },
      "source": [
        "### Changing the hyperparameter gamma\n",
        "\n",
        "Just as we were able to see the effect of alpha by plotting topic weights for a document, we expect to be able to visualize the impact of changing gamma by plotting word weights for each topic. In this case, however, there are far too many words in our vocabulary to do this effectively. Instead, we'll plot the total weight of the top 100 words and bottom 1000 words for each topic. Below, we plot the (sorted) total weights of the top 100 words and bottom 1000 from each topic in the high, original, and low gamma models."
      ]
    },
    {
      "cell_type": "markdown",
      "metadata": {
        "id": "4Cgesf9Kv_II"
      },
      "source": [
        "Now we will consider the following two models:\n",
        " - tpm_low_gamma, a model trained with gamma = 0.02 and default alpha\n",
        " - tpm_high_gamma, a model trained with gamma = 0.5 and default alpha"
      ]
    },
    {
      "cell_type": "code",
      "metadata": {
        "id": "P8gFMaXyv_IJ"
      },
      "source": [
        "#del tpm_low_alpha\n",
        "#del tpm_high_alpha\n",
        "\n",
        "\n",
        "tpm_low_gamma = turicreate.load_model('/content/gdrive/My Drive/Turicreate/Week 24/topic_models/lda_low_gamma')\n",
        "tpm_high_gamma = turicreate.load_model('/content/gdrive/My Drive/Turicreate/Week 24/topic_models/lda_high_gamma')"
      ],
      "execution_count": null,
      "outputs": []
    },
    {
      "cell_type": "code",
      "metadata": {
        "colab": {
          "base_uri": "https://localhost:8080/",
          "height": 577
        },
        "id": "wJ61H26vv_IJ",
        "outputId": "0ef265ff-6cc2-4320-bee0-32243c6f250d"
      },
      "source": [
        "a_top = np.sort([sum(tpm_low_gamma.get_topics(topic_ids=[i], num_words=100)['score']) for i in range(10)])[::-1]\n",
        "b_top = np.sort([sum(topic_model.get_topics(topic_ids=[i], num_words=100)['score']) for i in range(10)])[::-1]\n",
        "c_top = np.sort([sum(tpm_high_gamma.get_topics(topic_ids=[i], num_words=100)['score']) for i in range(10)])[::-1]\n",
        "\n",
        "a_bot = np.sort([sum(tpm_low_gamma.get_topics(topic_ids=[i], num_words=547462)[-1000:]['score']) for i in range(10)])[::-1]\n",
        "b_bot = np.sort([sum(topic_model.get_topics(topic_ids=[i], num_words=547462)[-1000:]['score']) for i in range(10)])[::-1]\n",
        "c_bot = np.sort([sum(tpm_high_gamma.get_topics(topic_ids=[i], num_words=547462)[-1000:]['score']) for i in range(10)])[::-1]\n",
        "\n",
        "ind = np.arange(len(a))\n",
        "width = 0.3\n",
        "    \n",
        "param_bar_plot(a_top, b_top, c_top, ind, width, ylim=0.6, param='gamma',\n",
        "               xlab='Topics (sorted by weight of top 100 words)', \n",
        "               ylab='Total Probability of Top 100 Words')\n",
        "\n",
        "param_bar_plot(a_bot, b_bot, c_bot, ind, width, ylim=0.0002, param='gamma',\n",
        "               xlab='Topics (sorted by weight of bottom 1000 words)',\n",
        "               ylab='Total Probability of Bottom 1000 Words')"
      ],
      "execution_count": null,
      "outputs": [
        {
          "output_type": "display_data",
          "data": {
            "image/png": "[encoded data removed]",
            "text/plain": [
              "<Figure size 432x288 with 1 Axes>"
            ]
          },
          "metadata": {
            "needs_background": "light"
          }
        },
        {
          "output_type": "display_data",
          "data": {
            "image/png": "[encoded data removed]",
            "text/plain": [
              "<Figure size 432x288 with 1 Axes>"
            ]
          },
          "metadata": {
            "needs_background": "light"
          }
        }
      ]
    },
    {
      "cell_type": "markdown",
      "metadata": {
        "collapsed": true,
        "id": "CLmEgB-Nv_IK"
      },
      "source": [
        "From these two plots we can see that the low gamma model results in higher weight placed on the top words and lower weight placed on the bottom words for each topic, while the high gamma model places relatively less weight on the top words and more weight on the bottom words. Thus increasing gamma results in topics that have a smoother distribution of weight across all the words in the vocabulary."
      ]
    },
    {
      "cell_type": "markdown",
      "metadata": {
        "id": "mGKItUkhv_IL"
      },
      "source": [
        "__Quiz Question:__ For each topic of the **low gamma model**, compute the number of words required to make a list with total probability 0.5. What is the average number of words required across all topics? (HINT: use the get\\_topics() function from Turi Create with the cdf\\_cutoff argument)."
      ]
    },
    {
      "cell_type": "code",
      "metadata": {
        "id": "4HoYbJZHv_IM"
      },
      "source": [
        "def calculate_avg_words(model, num_words=547462, cdf_cutoff=0.5, num_topics=10):\n",
        "    avg_num_of_words = []\n",
        "    for i in range(num_topics):\n",
        "        avg_num_of_words.append(len(model.get_topics(topic_ids=[i], num_words=547462, cdf_cutoff=.5)))\n",
        "    avg_num_of_words = np.mean(avg_num_of_words)\n",
        "    return avg_num_of_words"
      ],
      "execution_count": null,
      "outputs": []
    },
    {
      "cell_type": "code",
      "metadata": {
        "colab": {
          "base_uri": "https://localhost:8080/"
        },
        "id": "v4uAcpFxII63",
        "outputId": "541916bc-be30-4b1a-e7ff-30f5c36399ed"
      },
      "source": [
        "calculate_avg_words(tpm_low_gamma)"
      ],
      "execution_count": null,
      "outputs": [
        {
          "output_type": "execute_result",
          "data": {
            "text/plain": [
              "266.5"
            ]
          },
          "metadata": {},
          "execution_count": 49
        }
      ]
    },
    {
      "cell_type": "markdown",
      "metadata": {
        "id": "KgIMbMa-v_IN"
      },
      "source": [
        "__Quiz Question:__ For each topic of the **high gamma model**, compute the number of words required to make a list with total probability 0.5. What is the average number of words required across all topics? (HINT: use the get\\_topics() function from Turi Create with the cdf\\_cutoff argument)."
      ]
    },
    {
      "cell_type": "code",
      "metadata": {
        "colab": {
          "base_uri": "https://localhost:8080/"
        },
        "id": "L3KwCXvOv_IN",
        "outputId": "58e20cc5-6a25-4bcc-fd00-e248c7c439cc"
      },
      "source": [
        "calculate_avg_words(tpm_high_gamma)"
      ],
      "execution_count": null,
      "outputs": [
        {
          "output_type": "execute_result",
          "data": {
            "text/plain": [
              "849.1"
            ]
          },
          "metadata": {},
          "execution_count": 50
        }
      ]
    },
    {
      "cell_type": "markdown",
      "metadata": {
        "id": "mRaXbnkRv_IO"
      },
      "source": [
        "We have now seen how the hyperparameters alpha and gamma influence the characteristics of our LDA topic model, but we haven't said anything about what settings of alpha or gamma are best. We know that these parameters are responsible for controlling the smoothness of the topic distributions for documents and word distributions for topics, but there's no simple conversion between smoothness of these distributions and quality of the topic model. In reality, there is no universally \"best\" choice for these parameters. Instead, finding a good topic model requires that we be able to both explore the output (as we did by looking at the topics and checking some topic predictions for documents) and understand the impact of hyperparameter settings (as we have in this section)."
      ]
    }
  ]
}