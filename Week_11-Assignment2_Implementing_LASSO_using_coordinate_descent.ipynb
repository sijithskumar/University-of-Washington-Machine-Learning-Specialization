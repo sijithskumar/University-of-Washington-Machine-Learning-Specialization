{
  "nbformat": 4,
  "nbformat_minor": 0,
  "metadata": {
    "kernelspec": {
      "display_name": "Python 2",
      "language": "python",
      "name": "python2"
    },
    "language_info": {
      "codemirror_mode": {
        "name": "ipython",
        "version": 2
      },
      "file_extension": ".py",
      "mimetype": "text/x-python",
      "name": "python",
      "nbconvert_exporter": "python",
      "pygments_lexer": "ipython2",
      "version": "2.7.15"
    },
    "colab": {
      "name": "Assignment2_Implementing LASSO using coordinate descent_REG05-NB02.ipynb",
      "provenance": [],
      "collapsed_sections": []
    }
  },
  "cells": [
    {
      "cell_type": "markdown",
      "metadata": {
        "id": "pJHCEiqNaYu4"
      },
      "source": [
        "# Regression Week 5: LASSO (coordinate descent)"
      ]
    },
    {
      "cell_type": "markdown",
      "metadata": {
        "id": "wOakhs7MaYvL"
      },
      "source": [
        "In this notebook, you will implement your very own LASSO solver via coordinate descent. You will:\n",
        "* Write a function to normalize features\n",
        "* Implement coordinate descent for LASSO\n",
        "* Explore effects of L1 penalty"
      ]
    },
    {
      "cell_type": "markdown",
      "metadata": {
        "id": "4HN1NdA9aYvR"
      },
      "source": [
        "# Fire up Turi Create"
      ]
    },
    {
      "cell_type": "code",
      "metadata": {
        "colab": {
          "base_uri": "https://localhost:8080/",
          "height": 1000
        },
        "id": "UvOu07nUa7Mh",
        "outputId": "0b30d10f-9b0d-4b24-98b4-24bc6f5a3481"
      },
      "source": [
        "pip install turicreate"
      ],
      "execution_count": null,
      "outputs": [
        {
          "output_type": "stream",
          "text": [
            "Collecting turicreate\n",
            "\u001b[?25l  Downloading https://files.pythonhosted.org/packages/75/38/77a081ce35f012bd4789551db9e5196e766a2641cb05114ded9cc268182c/turicreate-6.4.1-cp27-cp27mu-manylinux1_x86_64.whl (91.9MB)\n",
            "\u001b[K     |████████████████████████████████| 91.9MB 43kB/s \n",
            "\u001b[?25hCollecting pillow>=5.2.0\n",
            "\u001b[?25l  Downloading https://files.pythonhosted.org/packages/12/ad/61f8dfba88c4e56196bf6d056cdbba64dc9c5dfdfbc97d02e6472feed913/Pillow-6.2.2-cp27-cp27mu-manylinux1_x86_64.whl (2.1MB)\n",
            "\u001b[K     |████████████████████████████████| 2.1MB 18.6MB/s \n",
            "\u001b[?25hRequirement already satisfied: numpy in /usr/local/lib/python2.7/dist-packages (from turicreate) (1.16.4)\n",
            "Requirement already satisfied: requests>=2.9.1 in /usr/local/lib/python2.7/dist-packages (from turicreate) (2.23.0)\n",
            "Collecting tensorflow<2.1.0,>=2.0.0\n",
            "\u001b[?25l  Downloading https://files.pythonhosted.org/packages/17/08/1ff15637a03b1565dd6cb0916b3ca6873db3a1fc69be0ed851be936e5633/tensorflow-2.0.0-cp27-cp27mu-manylinux2010_x86_64.whl (86.3MB)\n",
            "\u001b[K     |████████████████████████████████| 86.3MB 34kB/s \n",
            "\u001b[?25hRequirement already satisfied: prettytable==0.7.2 in /usr/local/lib/python2.7/dist-packages (from turicreate) (0.7.2)\n",
            "Collecting llvmlite==0.31.0\n",
            "\u001b[?25l  Downloading https://files.pythonhosted.org/packages/91/07/90cd9cdd43b287960b16dbf7929bff2267dc0b6647e8e0117a4937b19620/llvmlite-0.31.0-cp27-cp27mu-manylinux1_x86_64.whl (20.2MB)\n",
            "\u001b[K     |████████████████████████████████| 20.2MB 1.3MB/s \n",
            "\u001b[?25hRequirement already satisfied: pandas>=0.23.2 in /usr/local/lib/python2.7/dist-packages (from turicreate) (0.24.2)\n",
            "Requirement already satisfied: decorator>=4.0.9 in /usr/local/lib/python2.7/dist-packages (from turicreate) (4.4.0)\n",
            "Requirement already satisfied: scipy>=1.1.0 in /usr/local/lib/python2.7/dist-packages (from turicreate) (1.2.2)\n",
            "Requirement already satisfied: six>=1.10.0 in /usr/local/lib/python2.7/dist-packages (from turicreate) (1.15.0)\n",
            "Requirement already satisfied: resampy==0.2.1 in /usr/local/lib/python2.7/dist-packages (from turicreate) (0.2.1)\n",
            "Requirement already satisfied: numba<0.51.0 in /usr/local/lib/python2.7/dist-packages (from turicreate) (0.40.1)\n",
            "Collecting coremltools==3.3\n",
            "\u001b[?25l  Downloading https://files.pythonhosted.org/packages/46/9b/f6feac5d9369c68ee718d3c3140435452773a36ff08ef3bcc4fe378e8676/coremltools-3.3-cp27-none-manylinux1_x86_64.whl (3.4MB)\n",
            "\u001b[K     |████████████████████████████████| 3.4MB 18.1MB/s \n",
            "\u001b[?25hRequirement already satisfied: urllib3!=1.25.0,!=1.25.1,<1.26,>=1.21.1 in /usr/local/lib/python2.7/dist-packages (from requests>=2.9.1->turicreate) (1.24.3)\n",
            "Requirement already satisfied: chardet<4,>=3.0.2 in /usr/local/lib/python2.7/dist-packages (from requests>=2.9.1->turicreate) (3.0.4)\n",
            "Requirement already satisfied: certifi>=2017.4.17 in /usr/local/lib/python2.7/dist-packages (from requests>=2.9.1->turicreate) (2019.6.16)\n",
            "Requirement already satisfied: idna<3,>=2.5 in /usr/local/lib/python2.7/dist-packages (from requests>=2.9.1->turicreate) (2.8)\n",
            "Requirement already satisfied: gast==0.2.2 in /usr/local/lib/python2.7/dist-packages (from tensorflow<2.1.0,>=2.0.0->turicreate) (0.2.2)\n",
            "Requirement already satisfied: grpcio>=1.8.6 in /usr/local/lib/python2.7/dist-packages (from tensorflow<2.1.0,>=2.0.0->turicreate) (1.15.0)\n",
            "Collecting tensorboard<2.1.0,>=2.0.0\n",
            "\u001b[?25l  Downloading https://files.pythonhosted.org/packages/a7/3d/993131c622ae34f9401a81526853f2310a4834bd042420a7982fb5bc5fd0/tensorboard-2.0.2-py2-none-any.whl (3.8MB)\n",
            "\u001b[K     |████████████████████████████████| 3.8MB 31.1MB/s \n",
            "\u001b[?25hRequirement already satisfied: wrapt>=1.11.1 in /usr/local/lib/python2.7/dist-packages (from tensorflow<2.1.0,>=2.0.0->turicreate) (1.11.2)\n",
            "Requirement already satisfied: protobuf>=3.6.1 in /usr/local/lib/python2.7/dist-packages (from tensorflow<2.1.0,>=2.0.0->turicreate) (3.8.0)\n",
            "Requirement already satisfied: keras-preprocessing>=1.0.5 in /usr/local/lib/python2.7/dist-packages (from tensorflow<2.1.0,>=2.0.0->turicreate) (1.1.0)\n",
            "Requirement already satisfied: backports.weakref>=1.0rc1; python_version < \"3.4\" in /usr/local/lib/python2.7/dist-packages (from tensorflow<2.1.0,>=2.0.0->turicreate) (1.0.post1)\n",
            "Requirement already satisfied: keras-applications>=1.0.8 in /usr/local/lib/python2.7/dist-packages (from tensorflow<2.1.0,>=2.0.0->turicreate) (1.0.8)\n",
            "Requirement already satisfied: wheel in /usr/local/lib/python2.7/dist-packages (from tensorflow<2.1.0,>=2.0.0->turicreate) (0.37.0)\n",
            "Requirement already satisfied: functools32>=3.2.3 in /usr/local/lib/python2.7/dist-packages (from tensorflow<2.1.0,>=2.0.0->turicreate) (3.2.3.post2)\n",
            "Requirement already satisfied: absl-py>=0.7.0 in /usr/local/lib/python2.7/dist-packages (from tensorflow<2.1.0,>=2.0.0->turicreate) (0.7.1)\n",
            "Requirement already satisfied: opt-einsum>=2.3.2 in /usr/local/lib/python2.7/dist-packages (from tensorflow<2.1.0,>=2.0.0->turicreate) (2.3.2)\n",
            "Requirement already satisfied: mock>=2.0.0 in /usr/local/lib/python2.7/dist-packages (from tensorflow<2.1.0,>=2.0.0->turicreate) (2.0.0)\n",
            "Requirement already satisfied: termcolor>=1.1.0 in /usr/local/lib/python2.7/dist-packages (from tensorflow<2.1.0,>=2.0.0->turicreate) (1.1.0)\n",
            "Requirement already satisfied: google-pasta>=0.1.6 in /usr/local/lib/python2.7/dist-packages (from tensorflow<2.1.0,>=2.0.0->turicreate) (0.1.7)\n",
            "Requirement already satisfied: enum34>=1.1.6; python_version < \"3.4\" in /usr/local/lib/python2.7/dist-packages (from tensorflow<2.1.0,>=2.0.0->turicreate) (1.1.6)\n",
            "Collecting tensorflow-estimator<2.1.0,>=2.0.0\n",
            "\u001b[?25l  Downloading https://files.pythonhosted.org/packages/fc/08/8b927337b7019c374719145d1dceba21a8bb909b93b1ad6f8fb7d22c1ca1/tensorflow_estimator-2.0.1-py2.py3-none-any.whl (449kB)\n",
            "\u001b[K     |████████████████████████████████| 450kB 59.8MB/s \n",
            "\u001b[?25hRequirement already satisfied: astor>=0.6.0 in /usr/local/lib/python2.7/dist-packages (from tensorflow<2.1.0,>=2.0.0->turicreate) (0.8.1)\n",
            "Requirement already satisfied: pytz>=2011k in /usr/local/lib/python2.7/dist-packages (from pandas>=0.23.2->turicreate) (2018.9)\n",
            "Requirement already satisfied: python-dateutil>=2.5.0 in /usr/local/lib/python2.7/dist-packages (from pandas>=0.23.2->turicreate) (2.5.3)\n",
            "Requirement already satisfied: funcsigs in /usr/local/lib/python2.7/dist-packages (from numba<0.51.0->turicreate) (1.0.2)\n",
            "Requirement already satisfied: singledispatch in /usr/local/lib/python2.7/dist-packages (from numba<0.51.0->turicreate) (3.4.0.3)\n",
            "Requirement already satisfied: futures>=2.2.0 in /usr/local/lib/python2.7/dist-packages (from grpcio>=1.8.6->tensorflow<2.1.0,>=2.0.0->turicreate) (3.2.0)\n",
            "Requirement already satisfied: setuptools>=41.0.0 in /usr/local/lib/python2.7/dist-packages (from tensorboard<2.1.0,>=2.0.0->tensorflow<2.1.0,>=2.0.0->turicreate) (44.1.1)\n",
            "Collecting google-auth-oauthlib<0.5,>=0.4.1\n",
            "  Downloading https://files.pythonhosted.org/packages/7b/b8/88def36e74bee9fce511c9519571f4e485e890093ab7442284f4ffaef60b/google_auth_oauthlib-0.4.1-py2.py3-none-any.whl\n",
            "Requirement already satisfied: werkzeug>=0.11.15 in /usr/local/lib/python2.7/dist-packages (from tensorboard<2.1.0,>=2.0.0->tensorflow<2.1.0,>=2.0.0->turicreate) (0.15.5)\n",
            "Requirement already satisfied: google-auth<2,>=1.6.3 in /usr/local/lib/python2.7/dist-packages (from tensorboard<2.1.0,>=2.0.0->tensorflow<2.1.0,>=2.0.0->turicreate) (1.35.0)\n",
            "Requirement already satisfied: markdown>=2.6.8 in /usr/local/lib/python2.7/dist-packages (from tensorboard<2.1.0,>=2.0.0->tensorflow<2.1.0,>=2.0.0->turicreate) (3.1.1)\n",
            "Requirement already satisfied: h5py in /usr/local/lib/python2.7/dist-packages (from keras-applications>=1.0.8->tensorflow<2.1.0,>=2.0.0->turicreate) (2.8.0)\n",
            "Requirement already satisfied: pbr>=0.11 in /usr/local/lib/python2.7/dist-packages (from mock>=2.0.0->tensorflow<2.1.0,>=2.0.0->turicreate) (5.4.0)\n",
            "Requirement already satisfied: requests-oauthlib>=0.7.0 in /usr/local/lib/python2.7/dist-packages (from google-auth-oauthlib<0.5,>=0.4.1->tensorboard<2.1.0,>=2.0.0->tensorflow<2.1.0,>=2.0.0->turicreate) (1.2.0)\n",
            "Requirement already satisfied: cachetools<5.0,>=2.0.0 in /usr/local/lib/python2.7/dist-packages (from google-auth<2,>=1.6.3->tensorboard<2.1.0,>=2.0.0->tensorflow<2.1.0,>=2.0.0->turicreate) (3.1.1)\n",
            "Requirement already satisfied: pyasn1-modules>=0.2.1 in /usr/local/lib/python2.7/dist-packages (from google-auth<2,>=1.6.3->tensorboard<2.1.0,>=2.0.0->tensorflow<2.1.0,>=2.0.0->turicreate) (0.2.5)\n",
            "Requirement already satisfied: rsa<4.6; python_version < \"3.6\" in /usr/local/lib/python2.7/dist-packages (from google-auth<2,>=1.6.3->tensorboard<2.1.0,>=2.0.0->tensorflow<2.1.0,>=2.0.0->turicreate) (4.0)\n",
            "Requirement already satisfied: oauthlib>=3.0.0 in /usr/local/lib/python2.7/dist-packages (from requests-oauthlib>=0.7.0->google-auth-oauthlib<0.5,>=0.4.1->tensorboard<2.1.0,>=2.0.0->tensorflow<2.1.0,>=2.0.0->turicreate) (3.0.2)\n",
            "Requirement already satisfied: pyasn1<0.5.0,>=0.4.1 in /usr/local/lib/python2.7/dist-packages (from pyasn1-modules>=0.2.1->google-auth<2,>=1.6.3->tensorboard<2.1.0,>=2.0.0->tensorflow<2.1.0,>=2.0.0->turicreate) (0.4.5)\n",
            "\u001b[31mERROR: fastai 0.7.0 has requirement torch<0.4, but you'll have torch 1.4.0 which is incompatible.\u001b[0m\n",
            "\u001b[31mERROR: tensorboard 2.0.2 has requirement grpcio>=1.24.3, but you'll have grpcio 1.15.0 which is incompatible.\u001b[0m\n",
            "Installing collected packages: pillow, google-auth-oauthlib, tensorboard, tensorflow-estimator, tensorflow, llvmlite, coremltools, turicreate\n",
            "  Found existing installation: Pillow 4.3.0\n",
            "    Uninstalling Pillow-4.3.0:\n",
            "      Successfully uninstalled Pillow-4.3.0\n",
            "  Found existing installation: google-auth-oauthlib 0.4.0\n",
            "    Uninstalling google-auth-oauthlib-0.4.0:\n",
            "      Successfully uninstalled google-auth-oauthlib-0.4.0\n",
            "  Found existing installation: tensorboard 2.1.0\n",
            "    Uninstalling tensorboard-2.1.0:\n",
            "      Successfully uninstalled tensorboard-2.1.0\n",
            "  Found existing installation: tensorflow-estimator 1.15.0\n",
            "    Uninstalling tensorflow-estimator-1.15.0:\n",
            "      Successfully uninstalled tensorflow-estimator-1.15.0\n",
            "  Found existing installation: tensorflow 2.1.0\n",
            "    Uninstalling tensorflow-2.1.0:\n",
            "      Successfully uninstalled tensorflow-2.1.0\n",
            "  Found existing installation: llvmlite 0.29.0\n",
            "    Uninstalling llvmlite-0.29.0:\n",
            "      Successfully uninstalled llvmlite-0.29.0\n",
            "Successfully installed coremltools-3.3 google-auth-oauthlib-0.4.1 llvmlite-0.31.0 pillow-6.2.2 tensorboard-2.0.2 tensorflow-2.0.0 tensorflow-estimator-2.0.1 turicreate-6.4.1\n"
          ],
          "name": "stdout"
        },
        {
          "output_type": "display_data",
          "data": {
            "application/vnd.colab-display-data+json": {
              "pip_warning": {
                "packages": [
                  "PIL"
                ]
              }
            }
          },
          "metadata": {}
        }
      ]
    },
    {
      "cell_type": "code",
      "metadata": {
        "id": "n2Me-xfzaYvV"
      },
      "source": [
        "import turicreate"
      ],
      "execution_count": null,
      "outputs": []
    },
    {
      "cell_type": "markdown",
      "metadata": {
        "id": "6IX2-fIzaYvZ"
      },
      "source": [
        "# 1. Load in house sales data\n",
        "\n",
        "Dataset is from house sales in King County, the region where the city of Seattle, WA is located."
      ]
    },
    {
      "cell_type": "code",
      "metadata": {
        "colab": {
          "base_uri": "https://localhost:8080/"
        },
        "id": "1ffd4LYIbZRM",
        "outputId": "cc32588d-1c9f-4fb9-fe4b-a2125b1ea63e"
      },
      "source": [
        "from google.colab import drive\n",
        "drive.mount ('/content/gdrive')"
      ],
      "execution_count": null,
      "outputs": [
        {
          "output_type": "stream",
          "text": [
            "Mounted at /content/gdrive\n"
          ],
          "name": "stdout"
        }
      ]
    },
    {
      "cell_type": "code",
      "metadata": {
        "id": "l8C6pkcOaYvc"
      },
      "source": [
        "#sales = turicreate.SFrame('home_data.sframe/')\n",
        "\n",
        "sales = turicreate.SFrame('/content/gdrive/My Drive/Turicreate/Week 11/home_data.sframe/')\n",
        "\n",
        "# In the dataset, 'floors' was defined with type string, \n",
        "# so we'll convert them to float and then to int, before using it below\n",
        "sales['floors'] = sales['floors'].astype(float).astype(int)"
      ],
      "execution_count": null,
      "outputs": []
    },
    {
      "cell_type": "markdown",
      "metadata": {
        "id": "k3N9Hgf_aYvh"
      },
      "source": [
        "If we want to do any \"feature engineering\" like creating new features or adjusting existing ones we should do this directly using the SFrames as seen in the first notebook of Week 2. For this notebook, however, we will work with the existing features."
      ]
    },
    {
      "cell_type": "markdown",
      "metadata": {
        "id": "UxBWY0SJaYvm"
      },
      "source": [
        "# Import useful functions from previous notebook"
      ]
    },
    {
      "cell_type": "markdown",
      "metadata": {
        "id": "Q7xs1YDlaYvr"
      },
      "source": [
        "**3.** As in Week 2, we convert the SFrame into a 2D Numpy array. Copy and paste `get_num_data()` from the second notebook of Week 2."
      ]
    },
    {
      "cell_type": "code",
      "metadata": {
        "id": "iyJhAv_LaYvy"
      },
      "source": [
        "import numpy as np # note this allows us to refer to numpy as np instead "
      ],
      "execution_count": null,
      "outputs": []
    },
    {
      "cell_type": "code",
      "metadata": {
        "id": "wFvCDE0yaYv2"
      },
      "source": [
        "def get_numpy_data(data_sframe, features, output):\n",
        "    data_sframe['constant'] = 1 # this is how you add a constant column to an SFrame\n",
        "    # add the column 'constant' to the front of the features list so that we can extract it along with the others:\n",
        "    features = ['constant'] + features # this is how you combine two lists\n",
        "    # select the columns of data_SFrame given by the features list into the SFrame features_sframe (now including constant):\n",
        "    features_sframe = data_sframe[features]\n",
        "    # the following line will convert the features_SFrame into a numpy matrix:\n",
        "    feature_matrix = features_sframe.to_numpy()\n",
        "    # assign the column of data_sframe associated with the output to the SArray output_sarray\n",
        "    output_sarray = data_sframe[output]\n",
        "    # the following will convert the SArray into a numpy array by first converting it to a list\n",
        "    output_array = output_sarray.to_numpy()\n",
        "    return(feature_matrix, output_array)"
      ],
      "execution_count": null,
      "outputs": []
    },
    {
      "cell_type": "markdown",
      "metadata": {
        "id": "QZFiS0ehaYv3"
      },
      "source": [
        "**4.** Also, copy and paste the `predict_output()` function to compute the predictions for an entire matrix of features given the matrix and the weights:"
      ]
    },
    {
      "cell_type": "code",
      "metadata": {
        "id": "dMNg_W77aYv6"
      },
      "source": [
        "def predict_output(feature_matrix, weights):\n",
        "    # assume feature_matrix is a numpy matrix containing the features as columns and weights is a corresponding numpy array\n",
        "    # create the predictions vector by using np.dot()\n",
        "    predictions = np.dot(feature_matrix, weights)\n",
        "\n",
        "    return(predictions)"
      ],
      "execution_count": null,
      "outputs": []
    },
    {
      "cell_type": "markdown",
      "metadata": {
        "id": "Xf70gVuyaYv8"
      },
      "source": [
        "# Normalize features\n",
        "**5.** In the house dataset, features vary wildly in their relative magnitude: `sqft_living` is very large overall compared to `bedrooms`, for instance. As a result, weight for `sqft_living` would be much smaller than weight for `bedrooms`. This is problematic because \"small\" weights are dropped first as `l1_penalty` goes up. \n",
        "\n",
        "To give equal considerations for all features, we need to **normalize features** as discussed in the lectures: we divide each feature by its 2-norm so that the transformed feature has norm 1.\n",
        "\n",
        "Let's see how we can do this normalization easily with Numpy: let us first consider a small matrix."
      ]
    },
    {
      "cell_type": "code",
      "metadata": {
        "colab": {
          "base_uri": "https://localhost:8080/"
        },
        "id": "keExN0FHaYv_",
        "outputId": "5956ae11-dcc3-42a0-f8ce-6f823193b191"
      },
      "source": [
        "X = np.array([[3.,5.,8.],[4.,12.,15.]])\n",
        "print X"
      ],
      "execution_count": null,
      "outputs": [
        {
          "output_type": "stream",
          "text": [
            "[[ 3.  5.  8.]\n",
            " [ 4. 12. 15.]]\n"
          ],
          "name": "stdout"
        }
      ]
    },
    {
      "cell_type": "markdown",
      "metadata": {
        "id": "tXA_PmdjaYwF"
      },
      "source": [
        "Numpy provides a shorthand for computing 2-norms of each column:"
      ]
    },
    {
      "cell_type": "code",
      "metadata": {
        "colab": {
          "base_uri": "https://localhost:8080/"
        },
        "id": "d_F_ohaxaYwH",
        "outputId": "c2efe710-b5c4-40a3-db11-b9b4e24fbd45"
      },
      "source": [
        "norms = np.linalg.norm(X, axis=0) # gives [norm(X[:,0]), norm(X[:,1]), norm(X[:,2])]\n",
        "print norms"
      ],
      "execution_count": null,
      "outputs": [
        {
          "output_type": "stream",
          "text": [
            "[ 5. 13. 17.]\n"
          ],
          "name": "stdout"
        }
      ]
    },
    {
      "cell_type": "markdown",
      "metadata": {
        "id": "MUZUc0n7aYwJ"
      },
      "source": [
        "To normalize, apply element-wise division:"
      ]
    },
    {
      "cell_type": "code",
      "metadata": {
        "colab": {
          "base_uri": "https://localhost:8080/"
        },
        "id": "HIpoq9CYaYwK",
        "outputId": "49178641-e9ca-47d5-ad7d-46c8da259110"
      },
      "source": [
        "print X / norms # gives [X[:,0]/norm(X[:,0]), X[:,1]/norm(X[:,1]), X[:,2]/norm(X[:,2])]"
      ],
      "execution_count": null,
      "outputs": [
        {
          "output_type": "stream",
          "text": [
            "[[0.6        0.38461538 0.47058824]\n",
            " [0.8        0.92307692 0.88235294]]\n"
          ],
          "name": "stdout"
        }
      ]
    },
    {
      "cell_type": "markdown",
      "metadata": {
        "id": "C5nVOW87aYwM"
      },
      "source": [
        "**6.** Using the shorthand we just covered, write a short function called `normalize_features(feature_matrix)`, which normalizes columns of a given feature matrix. The function should return a pair `(normalized_features, norms)`, where the second item contains the norms of original features. As discussed in the lectures, we will use these norms to normalize the test data in the same way as we normalized the training data. "
      ]
    },
    {
      "cell_type": "code",
      "metadata": {
        "id": "0udrahxpaYwN"
      },
      "source": [
        "def normalize_features(feature_matrix):\n",
        "    norms = np.linalg.norm(feature_matrix, axis=0)\n",
        "    normalized_features = feature_matrix/norms\n",
        "    return (normalized_features, norms)"
      ],
      "execution_count": null,
      "outputs": []
    },
    {
      "cell_type": "markdown",
      "metadata": {
        "id": "jJqTQYDzaYwP"
      },
      "source": [
        "To test the function, run the following:"
      ]
    },
    {
      "cell_type": "code",
      "metadata": {
        "colab": {
          "base_uri": "https://localhost:8080/"
        },
        "id": "mICQVTaLaYwR",
        "outputId": "68a98245-0240-480f-a18e-e079f2d66388"
      },
      "source": [
        "features, norms = normalize_features(np.array([[3.,6.,9.],[4.,8.,12.]]))\n",
        "print features\n",
        "# should print\n",
        "# [[ 0.6  0.6  0.6]\n",
        "#  [ 0.8  0.8  0.8]]\n",
        "print norms\n",
        "# should print\n",
        "# [5.  10.  15.]"
      ],
      "execution_count": null,
      "outputs": [
        {
          "output_type": "stream",
          "text": [
            "[[0.6 0.6 0.6]\n",
            " [0.8 0.8 0.8]]\n",
            "[ 5. 10. 15.]\n"
          ],
          "name": "stdout"
        }
      ]
    },
    {
      "cell_type": "markdown",
      "metadata": {
        "id": "tXy6Acp1aYwS"
      },
      "source": [
        "# Implementing Coordinate Descent with normalized features"
      ]
    },
    {
      "cell_type": "markdown",
      "metadata": {
        "id": "LK4ArzwIaYwU"
      },
      "source": [
        "**7.** We seek to obtain a sparse set of weights by minimizing the LASSO cost function\n",
        "```\n",
        "SUM[ (prediction - output)^2 ] + lambda*( |w[1]| + ... + |w[k]|).\n",
        "```\n",
        "(By convention, we do not include `w[0]` in the L1 penalty term. We never want to push the intercept to zero.)\n",
        "\n",
        "The absolute value sign makes the cost function non-differentiable, so simple gradient descent is not viable (you would need to implement a method called subgradient descent). Instead, we will use **coordinate descent**: at each iteration, we will fix all weights but weight `i` and find the value of weight `i` that minimizes the objective. That is, we look for\n",
        "```\n",
        "argmin_{w[i]} [ SUM[ (prediction - output)^2 ] + lambda*( |w[1]| + ... + |w[k]|) ]\n",
        "```\n",
        "where all weights other than `w[i]` are held to be constant. We will optimize one `w[i]` at a time, circling through the weights multiple times.  \n",
        "  1. Pick a coordinate `i`\n",
        "  2. Compute `w[i]` that minimizes the cost function `SUM[ (prediction - output)^2 ] + lambda*( |w[1]| + ... + |w[k]|)`\n",
        "  3. Repeat Steps 1 and 2 for all coordinates, multiple times"
      ]
    },
    {
      "cell_type": "markdown",
      "metadata": {
        "id": "KemCHRm6aYwW"
      },
      "source": [
        "For this notebook, we use **cyclical coordinate descent with normalized features**, where we cycle through coordinates 0 to (d-1) in order, and assume the features were normalized as discussed above. The formula for optimizing each coordinate is as follows:\n",
        "```\n",
        "       ┌ (ro[i] + lambda/2)     if ro[i] < -lambda/2\n",
        "w[i] = ├ 0                      if -lambda/2 <= ro[i] <= lambda/2\n",
        "       └ (ro[i] - lambda/2)     if ro[i] > lambda/2\n",
        "```\n",
        "where\n",
        "```\n",
        "ro[i] = SUM[ [feature_i]*(output - prediction + w[i]*[feature_i]) ].\n",
        "```\n",
        "\n",
        "Note that we do not regularize the weight of the constant feature (intercept) `w[0]`, so, for this weight, the update is simply:\n",
        "```\n",
        "w[0] = ro[i]\n",
        "```"
      ]
    },
    {
      "cell_type": "markdown",
      "metadata": {
        "id": "75zp70s8aYwZ"
      },
      "source": [
        "## Effect of L1 penalty"
      ]
    },
    {
      "cell_type": "markdown",
      "metadata": {
        "id": "Nij-W94kaYwa"
      },
      "source": [
        "Let us consider a simple model with 2 features:"
      ]
    },
    {
      "cell_type": "code",
      "metadata": {
        "id": "YqVAJJoiaYwb"
      },
      "source": [
        "simple_features = ['sqft_living', 'bedrooms']\n",
        "my_output = 'price'\n",
        "(simple_feature_matrix, output) = get_numpy_data(sales, simple_features, my_output)"
      ],
      "execution_count": null,
      "outputs": []
    },
    {
      "cell_type": "markdown",
      "metadata": {
        "id": "ZJgKIZbSaYwc"
      },
      "source": [
        "Don't forget to normalize features:"
      ]
    },
    {
      "cell_type": "code",
      "metadata": {
        "id": "OHO2OOPHaYwd"
      },
      "source": [
        "simple_feature_matrix, norms = normalize_features(simple_feature_matrix)"
      ],
      "execution_count": null,
      "outputs": []
    },
    {
      "cell_type": "markdown",
      "metadata": {
        "id": "tiPzPVPPaYwe"
      },
      "source": [
        "We assign some random set of initial weights and inspect the values of `ro[i]`:"
      ]
    },
    {
      "cell_type": "code",
      "metadata": {
        "id": "Ipzi0qG7aYwf"
      },
      "source": [
        "weights = np.array([1., 4., 1.])"
      ],
      "execution_count": null,
      "outputs": []
    },
    {
      "cell_type": "markdown",
      "metadata": {
        "id": "hRiVWk2naYwh"
      },
      "source": [
        "Use `predict_output()` to make predictions on this data."
      ]
    },
    {
      "cell_type": "code",
      "metadata": {
        "id": "1yY77xOhaYwh"
      },
      "source": [
        "prediction = predict_output(simple_feature_matrix, weights)"
      ],
      "execution_count": null,
      "outputs": []
    },
    {
      "cell_type": "markdown",
      "metadata": {
        "id": "i2v7PY6OaYwi"
      },
      "source": [
        "Compute the values of `ro[i]` for each feature in this simple model, using the formula given above, using the formula:\n",
        "```\n",
        "ro[i] = SUM[ [feature_i]*(output - prediction + w[i]*[feature_i]) ]\n",
        "```\n",
        "\n",
        "*Hint: You can get a Numpy vector for feature_i using:*\n",
        "```\n",
        "simple_feature_matrix[:,i]\n",
        "```"
      ]
    },
    {
      "cell_type": "code",
      "metadata": {
        "colab": {
          "base_uri": "https://localhost:8080/"
        },
        "id": "XbQ8kIAhaYwj",
        "outputId": "db2a9a7f-3fe4-445a-954e-e12715f5fe0c"
      },
      "source": [
        "ro = [0 for i in range((simple_feature_matrix.shape)[1])]\n",
        "for j in range((simple_feature_matrix.shape)[1]):   \n",
        "    ro[j] = (simple_feature_matrix[:,j] * (output - prediction + (weights[j] * simple_feature_matrix[:,j]))).sum()\n",
        "print ro"
      ],
      "execution_count": null,
      "outputs": [
        {
          "output_type": "stream",
          "text": [
            "[79400300.03492916, 87939470.77299108, 80966698.67596565]\n"
          ],
          "name": "stdout"
        }
      ]
    },
    {
      "cell_type": "markdown",
      "metadata": {
        "id": "cOz5f8oKaYwk"
      },
      "source": [
        "***10. QUIZ QUESTION***\n",
        "\n",
        "Recall that, whenever `ro[i]` falls between `-l1_penalty/2` and `l1_penalty/2`, the corresponding weight `w[i]` is sent to zero. Now suppose we were to take one step of coordinate descent on either feature 1 or feature 2. What range of values of `l1_penalty` **would not** set `w[1]` zero, but **would** set `w[2]` to zero, if we were to take a step in that coordinate? "
      ]
    },
    {
      "cell_type": "code",
      "metadata": {
        "colab": {
          "base_uri": "https://localhost:8080/"
        },
        "id": "L7elAApUaYwy",
        "outputId": "dddbd025-b0ce-42f0-d73e-e1c93343cca7"
      },
      "source": [
        "print 2* ro[1]"
      ],
      "execution_count": null,
      "outputs": [
        {
          "output_type": "stream",
          "text": [
            "175878941.54598215\n"
          ],
          "name": "stdout"
        }
      ]
    },
    {
      "cell_type": "code",
      "metadata": {
        "colab": {
          "base_uri": "https://localhost:8080/"
        },
        "id": "DahJO9OKdfZd",
        "outputId": "440268a8-57c0-4f31-b39e-e175c9d6b6d5"
      },
      "source": [
        "print 2* ro[2]"
      ],
      "execution_count": null,
      "outputs": [
        {
          "output_type": "stream",
          "text": [
            "161933397.3519313\n"
          ],
          "name": "stdout"
        }
      ]
    },
    {
      "cell_type": "code",
      "metadata": {
        "id": "SaqpVH78djZK"
      },
      "source": [
        "# Return True if value is within the threshold ranges otherwise False\n",
        "# Looking for range -l1_penalty/2 <= ro <= l1_penalty/2\n",
        "def in_l1range(value, penalty):\n",
        "    return ( (value >= -penalty/2.) and (value <= penalty/2.) )"
      ],
      "execution_count": null,
      "outputs": []
    },
    {
      "cell_type": "code",
      "metadata": {
        "colab": {
          "base_uri": "https://localhost:8080/"
        },
        "id": "Q2kvOA1IdleM",
        "outputId": "ce58ae8d-3024-40ca-bc29-da19a197f722"
      },
      "source": [
        "for l1_penalty in [1.4e8, 1.64e8, 1.73e8, 1.9e8, 2.3e8]:\n",
        "    print in_l1range(ro[1], l1_penalty), in_l1range(ro[2], l1_penalty)"
      ],
      "execution_count": null,
      "outputs": [
        {
          "output_type": "stream",
          "text": [
            "False False\n",
            "False True\n",
            "False True\n",
            "True True\n",
            "True True\n"
          ],
          "name": "stdout"
        }
      ]
    },
    {
      "cell_type": "markdown",
      "metadata": {
        "id": "B4I3gZTwaYwz"
      },
      "source": [
        "***11. QUIZ QUESTION***\n",
        "\n",
        "What range of values of `l1_penalty` would set **both** `w[1]` and `w[2]` to zero, if we were to take a step in that coordinate? "
      ]
    },
    {
      "cell_type": "code",
      "metadata": {
        "id": "m0TiyuyZaYw1"
      },
      "source": [
        ""
      ],
      "execution_count": null,
      "outputs": []
    },
    {
      "cell_type": "markdown",
      "metadata": {
        "id": "E3o6ZAA2aYw2"
      },
      "source": [
        "So we can say that `ro[i]` quantifies the significance of the i-th feature: the larger `ro[i]` is, the more likely it is for the i-th feature to be retained."
      ]
    },
    {
      "cell_type": "markdown",
      "metadata": {
        "id": "oK1Ei065aYw3"
      },
      "source": [
        "## Single Coordinate Descent Step"
      ]
    },
    {
      "cell_type": "markdown",
      "metadata": {
        "id": "iWnVzOj3aYw4"
      },
      "source": [
        "**12.** Using the formula above, implement coordinate descent that minimizes the cost function over a single feature i. Note that the intercept (weight 0) is not regularized. The function should accept feature matrix, output, current weights, l1 penalty, and index of feature to optimize over. The function should return new weight for feature i."
      ]
    },
    {
      "cell_type": "code",
      "metadata": {
        "id": "b0PF04draYw5"
      },
      "source": [
        "def lasso_coordinate_descent_step(i, feature_matrix, output, weights, l1_penalty):\n",
        "    # compute prediction\n",
        "    prediction = predict_output(feature_matrix, weights)\n",
        "    # compute ro[i] = SUM[ [feature_i]*(output - prediction + weight[i]*[feature_i]) ]\n",
        "    ro_i = (feature_matrix[:,i] * (output - prediction + (weights[i] * feature_matrix[:,i]))).sum()\n",
        "\n",
        "    if i == 0: # intercept -- do not regularize\n",
        "        new_weight_i = ro_i \n",
        "    elif ro_i < -l1_penalty/2.:\n",
        "        new_weight_i = (ro_i + l1_penalty/2.)\n",
        "    elif ro_i > l1_penalty/2.:\n",
        "        new_weight_i = (ro_i - l1_penalty/2.)\n",
        "    else:\n",
        "        new_weight_i = 0.\n",
        "    \n",
        "    return new_weight_i"
      ],
      "execution_count": null,
      "outputs": []
    },
    {
      "cell_type": "markdown",
      "metadata": {
        "id": "ZNQ-LpxLaYw5"
      },
      "source": [
        "To test the function, run the following cell:"
      ]
    },
    {
      "cell_type": "code",
      "metadata": {
        "colab": {
          "base_uri": "https://localhost:8080/"
        },
        "id": "cmextLPQaYw6",
        "outputId": "12efe028-56c8-47c9-b633-478001894e17"
      },
      "source": [
        "# should print 0.425558846691\n",
        "import math\n",
        "print lasso_coordinate_descent_step(1, np.array([[3./math.sqrt(13),1./math.sqrt(10)],[2./math.sqrt(13),3./math.sqrt(10)]]), \n",
        "                                    np.array([1., 1.]), np.array([1., 4.]), 0.1)"
      ],
      "execution_count": null,
      "outputs": [
        {
          "output_type": "stream",
          "text": [
            "0.4255588466910251\n"
          ],
          "name": "stdout"
        }
      ]
    },
    {
      "cell_type": "markdown",
      "metadata": {
        "collapsed": true,
        "id": "HT1RlrdwaYw6"
      },
      "source": [
        "## Cyclical coordinate descent "
      ]
    },
    {
      "cell_type": "markdown",
      "metadata": {
        "id": "XtduVnD5aYw7"
      },
      "source": [
        "**13.** Now that we have a function that optimizes the cost function over a single coordinate, let us implement cyclical coordinate descent where we optimize coordinates 0, 1, ..., (d-1) in order and repeat.\n",
        "\n",
        "When do we know to stop? Each time we scan all the coordinates (features) once, we measure the change in weight for each coordinate. If no coordinate changes by more than a specified threshold, we stop."
      ]
    },
    {
      "cell_type": "markdown",
      "metadata": {
        "id": "AQeq3elGaYw7"
      },
      "source": [
        "For each iteration:\n",
        "1. As you loop over features in order and perform coordinate descent, measure how much each coordinate changes.\n",
        "2. After the loop, if the maximum change across all coordinates is falls below the tolerance, stop. Otherwise, go back to step 1.\n",
        "\n",
        "Return weights\n",
        "\n",
        "**IMPORTANT: when computing a new weight for coordinate i, make sure to incorporate the new weights for coordinates 0, 1, ..., i-1. One good way is to update your weights variable in-place. See following pseudocode for illustration.**\n",
        "```\n",
        "for i in range(len(weights)):\n",
        "    old_weights_i = weights[i] # remember old value of weight[i], as it will be overwritten\n",
        "    # the following line uses new values for weight[0], weight[1], ..., weight[i-1]\n",
        "    #     and old values for weight[i], ..., weight[d-1]\n",
        "    weights[i] = lasso_coordinate_descent_step(i, feature_matrix, output, weights, l1_penalty)\n",
        "    \n",
        "    # use old_weights_i to compute change in coordinate\n",
        "    ...\n",
        "```"
      ]
    },
    {
      "cell_type": "code",
      "metadata": {
        "id": "1WsnBaGsaYw8"
      },
      "source": [
        "def lasso_cyclical_coordinate_descent(feature_matrix, output, initial_weights, l1_penalty, tolerance):\n",
        "  D = feature_matrix.shape[1]\n",
        "  weights = np.array(initial_weights)\n",
        "  change = np.array(initial_weights) * 0.0\n",
        "  converged = False\n",
        "\n",
        "  while not converged:\n",
        "\n",
        "\n",
        "  # Evaluate over all features\n",
        "    for idx in range(D): \n",
        "      #             print 'Feature: ' + str(idx)\n",
        "      # new weight for feature\n",
        "      new_weight = lasso_coordinate_descent_step(idx, feature_matrix,\n",
        "                                                       output, weights,\n",
        "                                                       l1_penalty)\n",
        "      \n",
        "      # compute change in weight for feature\n",
        "      change[idx] = np.abs(new_weight - weights[idx])\n",
        "#             print '  -> old weight: ' + str(weights[idx]) + ', new weight: ' + str(new_weight)\n",
        "#             print '  -> abs change (new - old): ' + str(change[idx])\n",
        "#             print '  >> old weights: ', weights\n",
        "\n",
        "            # assign new weight\n",
        "      weights[idx] = new_weight\n",
        "#             print '  >> new weights: ', weights\n",
        "        # maximum change in weight, after all changes have been computed\n",
        "    max_change = max(change)\n",
        "#         print '  ** max change: ' + str(max_change)\n",
        "#         print '--------------------------------------------------'\n",
        "    if max_change < tolerance:\n",
        "      converged = True\n",
        "  return weights\n",
        "    "
      ],
      "execution_count": null,
      "outputs": []
    },
    {
      "cell_type": "markdown",
      "metadata": {
        "id": "3793eXx3aYw8"
      },
      "source": [
        "Using the following parameters, learn the weights on the sales dataset. "
      ]
    },
    {
      "cell_type": "code",
      "metadata": {
        "id": "TzUkBazlaYw-"
      },
      "source": [
        "simple_features = ['sqft_living', 'bedrooms']\n",
        "my_output = 'price'\n",
        "initial_weights = np.zeros(3)\n",
        "l1_penalty = 1e7\n",
        "tolerance = 1.0"
      ],
      "execution_count": null,
      "outputs": []
    },
    {
      "cell_type": "markdown",
      "metadata": {
        "id": "Y7LdA_scaYw_"
      },
      "source": [
        "First create a normalized version of the feature matrix, `normalized_simple_feature_matrix`."
      ]
    },
    {
      "cell_type": "code",
      "metadata": {
        "id": "412mdZ8naYxA"
      },
      "source": [
        "(simple_feature_matrix, output) = get_numpy_data(sales, simple_features, my_output)\n",
        "(normalized_simple_feature_matrix, simple_norms) = normalize_features(simple_feature_matrix) # normalize features"
      ],
      "execution_count": null,
      "outputs": []
    },
    {
      "cell_type": "markdown",
      "metadata": {
        "id": "IjpsNXYpaYxB"
      },
      "source": [
        "Then, run your implementation of LASSO coordinate descent:"
      ]
    },
    {
      "cell_type": "code",
      "metadata": {
        "id": "79sHPuDkaYxC"
      },
      "source": [
        "weights = lasso_cyclical_coordinate_descent(normalized_simple_feature_matrix, output,\n",
        "                                            initial_weights, l1_penalty, tolerance)"
      ],
      "execution_count": null,
      "outputs": []
    },
    {
      "cell_type": "code",
      "metadata": {
        "colab": {
          "base_uri": "https://localhost:8080/"
        },
        "id": "RzFWtHiqfbxa",
        "outputId": "d219d89c-2f86-43c9-b68a-4f00cb1dcc50"
      },
      "source": [
        "weights"
      ],
      "execution_count": null,
      "outputs": [
        {
          "output_type": "execute_result",
          "data": {
            "text/plain": [
              "array([21624998.36636292, 63157246.78545421,        0.        ])"
            ]
          },
          "metadata": {},
          "execution_count": 32
        }
      ]
    },
    {
      "cell_type": "markdown",
      "metadata": {
        "id": "0CvM-5IJaYxD"
      },
      "source": [
        "***QUIZ QUESTIONS***\n",
        "\n",
        "**15.**. What is the RSS of the learned model on the normalized dataset? (Hint: use the normalized feature matrix when you make predictions.)\n",
        "\n",
        "**16.** Which features had weight zero at convergence?"
      ]
    },
    {
      "cell_type": "code",
      "metadata": {
        "colab": {
          "base_uri": "https://localhost:8080/"
        },
        "id": "qqu9JJryfmEb",
        "outputId": "77c0905c-7a4c-4054-ffb4-adb3a4549ed2"
      },
      "source": [
        "prediction =  predict_output(normalized_simple_feature_matrix, weights)\n",
        "RSS = np.dot(output-prediction, output-prediction)\n",
        "print 'RSS for normalized dataset = ', RSS"
      ],
      "execution_count": null,
      "outputs": [
        {
          "output_type": "stream",
          "text": [
            "RSS for normalized dataset =  1630492481484487.8\n"
          ],
          "name": "stdout"
        }
      ]
    },
    {
      "cell_type": "markdown",
      "metadata": {
        "id": "sm-XSYNGaYxF"
      },
      "source": [
        "# Evaluating LASSO fit with more features"
      ]
    },
    {
      "cell_type": "markdown",
      "metadata": {
        "id": "pnQCE1KwaYxG"
      },
      "source": [
        "**17.** Let us split the sales dataset into training and test sets."
      ]
    },
    {
      "cell_type": "code",
      "metadata": {
        "id": "xv5W5NkFaYxH"
      },
      "source": [
        "train_data,test_data = sales.random_split(.8,seed=0)"
      ],
      "execution_count": null,
      "outputs": []
    },
    {
      "cell_type": "markdown",
      "metadata": {
        "id": "3pPXwtVzaYxJ"
      },
      "source": [
        "Let us consider the following set of features."
      ]
    },
    {
      "cell_type": "code",
      "metadata": {
        "id": "-ki0-L_OaYxK"
      },
      "source": [
        "all_features = ['bedrooms',\n",
        "                'bathrooms',\n",
        "                'sqft_living',\n",
        "                'sqft_lot',\n",
        "                'floors',\n",
        "                'waterfront', \n",
        "                'view', \n",
        "                'condition', \n",
        "                'grade',\n",
        "                'sqft_above',\n",
        "                'sqft_basement',\n",
        "                'yr_built', \n",
        "                'yr_renovated']"
      ],
      "execution_count": null,
      "outputs": []
    },
    {
      "cell_type": "markdown",
      "metadata": {
        "id": "v0dcm4PcaYxL"
      },
      "source": [
        "**18.** First, create a normalized feature matrix from the TRAINING data with these features.  (Make you store the norms for the normalization, since we'll use them later)"
      ]
    },
    {
      "cell_type": "code",
      "metadata": {
        "id": "tW3wk57saYxL"
      },
      "source": [
        "my_output = 'price'\n",
        "(feature_matrix, output) = get_numpy_data(train_data, all_features, my_output)\n",
        "normalized_feature_matrix, norms = normalize_features(feature_matrix)"
      ],
      "execution_count": null,
      "outputs": []
    },
    {
      "cell_type": "markdown",
      "metadata": {
        "id": "3ZaAavKIaYxM"
      },
      "source": [
        "**19.** First, learn the weights with `l1_penalty=1e7`, on the training data. Initialize weights to all zeros, and set the `tolerance=1`.  Call resulting weights `weights1e7`, you will need them later."
      ]
    },
    {
      "cell_type": "code",
      "metadata": {
        "id": "2vPW9QCiaYxN"
      },
      "source": [
        "initial_weights = np.zeros(len(all_features) + 1)\n",
        "l1_penalty = 1e7\n",
        "tolerance = 1.0"
      ],
      "execution_count": null,
      "outputs": []
    },
    {
      "cell_type": "code",
      "metadata": {
        "id": "1WFJKfA5gOYN"
      },
      "source": [
        "weights1e7 = lasso_cyclical_coordinate_descent(normalized_feature_matrix, output,\n",
        "                                               initial_weights, l1_penalty, tolerance)"
      ],
      "execution_count": null,
      "outputs": []
    },
    {
      "cell_type": "code",
      "metadata": {
        "colab": {
          "base_uri": "https://localhost:8080/"
        },
        "id": "9dkmxpSQgQ6e",
        "outputId": "61ade0e7-ea5b-44ef-d427-ae4c30cbe2ea"
      },
      "source": [
        "weights1e7"
      ],
      "execution_count": null,
      "outputs": [
        {
          "output_type": "execute_result",
          "data": {
            "text/plain": [
              "array([24429600.60933314,        0.        ,        0.        ,\n",
              "       48389174.35227978,        0.        ,        0.        ,\n",
              "        3317511.16271981,  7329961.9848964 ,        0.        ,\n",
              "              0.        ,        0.        ,        0.        ,\n",
              "              0.        ,        0.        ])"
            ]
          },
          "metadata": {},
          "execution_count": 40
        }
      ]
    },
    {
      "cell_type": "code",
      "metadata": {
        "colab": {
          "base_uri": "https://localhost:8080/"
        },
        "id": "jCJI_XgVgVTc",
        "outputId": "e674dffc-77cc-495a-d2b4-d96a0549af3a"
      },
      "source": [
        "feature_list = ['constant'] + all_features\n",
        "print feature_list"
      ],
      "execution_count": null,
      "outputs": [
        {
          "output_type": "stream",
          "text": [
            "['constant', 'bedrooms', 'bathrooms', 'sqft_living', 'sqft_lot', 'floors', 'waterfront', 'view', 'condition', 'grade', 'sqft_above', 'sqft_basement', 'yr_built', 'yr_renovated']\n"
          ],
          "name": "stdout"
        }
      ]
    },
    {
      "cell_type": "code",
      "metadata": {
        "colab": {
          "base_uri": "https://localhost:8080/"
        },
        "id": "msHDf5RkgY2l",
        "outputId": "c7dd5b3d-3b6f-4ece-bce6-72fd35ea325b"
      },
      "source": [
        "feature_weights1e7 = dict(zip(feature_list, weights1e7))\n",
        "for k,v in feature_weights1e7.iteritems():\n",
        "    if v != 0.0:\n",
        "        print k, v"
      ],
      "execution_count": null,
      "outputs": [
        {
          "output_type": "stream",
          "text": [
            "sqft_living 48389174.35227978\n",
            "waterfront 3317511.162719814\n",
            "constant 24429600.609333135\n",
            "view 7329961.984896399\n"
          ],
          "name": "stdout"
        }
      ]
    },
    {
      "cell_type": "markdown",
      "metadata": {
        "id": "oxhLLay0aYxN"
      },
      "source": [
        "***20. QUIZ QUESTION***\n",
        "\n",
        "What features had non-zero weight in this case?"
      ]
    },
    {
      "cell_type": "markdown",
      "metadata": {
        "collapsed": true,
        "id": "l437kQUFaYxO"
      },
      "source": [
        "**21.** Next, learn the weights with `l1_penalty=1e8`, on the training data. Initialize weights to all zeros, and set the `tolerance=1`.  Call resulting weights `weights1e8`, you will need them later."
      ]
    },
    {
      "cell_type": "code",
      "metadata": {
        "id": "OQd7haZNaYxP"
      },
      "source": [
        "l1_penalty=1e8\n",
        "tolerance = 1.0\n",
        "weights1e8 = lasso_cyclical_coordinate_descent(normalized_feature_matrix, output,\n",
        "                                               initial_weights, l1_penalty, tolerance)"
      ],
      "execution_count": null,
      "outputs": []
    },
    {
      "cell_type": "code",
      "metadata": {
        "colab": {
          "base_uri": "https://localhost:8080/"
        },
        "id": "tKebe4n6gkP3",
        "outputId": "4f5f36d7-fe6e-438a-e1b9-2d6375afd26f"
      },
      "source": [
        "weights1e8"
      ],
      "execution_count": null,
      "outputs": [
        {
          "output_type": "execute_result",
          "data": {
            "text/plain": [
              "array([71114625.75280938,        0.        ,        0.        ,\n",
              "              0.        ,        0.        ,        0.        ,\n",
              "              0.        ,        0.        ,        0.        ,\n",
              "              0.        ,        0.        ,        0.        ,\n",
              "              0.        ,        0.        ])"
            ]
          },
          "metadata": {},
          "execution_count": 44
        }
      ]
    },
    {
      "cell_type": "code",
      "metadata": {
        "colab": {
          "base_uri": "https://localhost:8080/"
        },
        "id": "k5iZx4T3gmiZ",
        "outputId": "47cdf211-6208-40e8-9cf5-5113abd9126c"
      },
      "source": [
        "feature_weights1e8 = dict(zip(feature_list, weights1e8))\n",
        "for k,v in feature_weights1e8.iteritems():\n",
        "    if v != 0.0:\n",
        "        print k, v"
      ],
      "execution_count": null,
      "outputs": [
        {
          "output_type": "stream",
          "text": [
            "constant 71114625.75280938\n"
          ],
          "name": "stdout"
        }
      ]
    },
    {
      "cell_type": "markdown",
      "metadata": {
        "id": "soIT9pJ0aYxP"
      },
      "source": [
        "***22. QUIZ QUESTION***\n",
        "\n",
        "What features had non-zero weight in this case?"
      ]
    },
    {
      "cell_type": "markdown",
      "metadata": {
        "id": "LlwmpZMoaYxQ"
      },
      "source": [
        "**23.** Finally, learn the weights with `l1_penalty=1e4`, on the training data. Initialize weights to all zeros, and set the `tolerance=5e5`.  Call resulting weights `weights1e4`, you will need them later.  (This case will take quite a bit longer to converge than the others above.)"
      ]
    },
    {
      "cell_type": "code",
      "metadata": {
        "id": "4_0FhZnhaYxQ"
      },
      "source": [
        "l1_penalty=1e4\n",
        "tolerance=5e5\n",
        "weights1e4 = lasso_cyclical_coordinate_descent(normalized_feature_matrix, output,\n",
        "                                               initial_weights, l1_penalty, tolerance)"
      ],
      "execution_count": null,
      "outputs": []
    },
    {
      "cell_type": "code",
      "metadata": {
        "colab": {
          "base_uri": "https://localhost:8080/"
        },
        "id": "8JonYwgjg8z7",
        "outputId": "87574146-3d44-4d3a-8dd0-1fd7d117e202"
      },
      "source": [
        "weights1e4"
      ],
      "execution_count": null,
      "outputs": [
        {
          "output_type": "execute_result",
          "data": {
            "text/plain": [
              "array([ 77779073.91265225, -22884012.25023361,  15348487.08089994,\n",
              "        92166869.69883077,  -2139328.08242779,  -8818455.54409491,\n",
              "         6494209.73310655,   7065162.05053198,   4119079.21006762,\n",
              "        18436483.52618778, -14566678.54514345,  -5528348.75179427,\n",
              "       -83591746.20730534,   2784276.46012858])"
            ]
          },
          "metadata": {},
          "execution_count": 47
        }
      ]
    },
    {
      "cell_type": "code",
      "metadata": {
        "colab": {
          "base_uri": "https://localhost:8080/"
        },
        "id": "vyrhONVmhIMG",
        "outputId": "1358414f-a811-48fc-ccaa-46184b1a846b"
      },
      "source": [
        "feature_weights1e4 = dict(zip(feature_list, weights1e4))\n",
        "for k,v in feature_weights1e4.iteritems():\n",
        "    if v != 0.0:\n",
        "        print k, v"
      ],
      "execution_count": null,
      "outputs": [
        {
          "output_type": "stream",
          "text": [
            "bathrooms 15348487.080899937\n",
            "sqft_above -14566678.545143453\n",
            "grade 18436483.526187778\n",
            "yr_renovated 2784276.460128576\n",
            "bedrooms -22884012.250233613\n",
            "sqft_living 92166869.69883077\n",
            "floors -8818455.544094905\n",
            "condition 4119079.2100676238\n",
            "waterfront 6494209.733106551\n",
            "constant 77779073.91265225\n",
            "sqft_basement -5528348.751794267\n",
            "yr_built -83591746.20730534\n",
            "sqft_lot -2139328.0824277927\n",
            "view 7065162.050531979\n"
          ],
          "name": "stdout"
        }
      ]
    },
    {
      "cell_type": "markdown",
      "metadata": {
        "id": "fs8wjGjDaYxR"
      },
      "source": [
        "***24. QUIZ QUESTION***\n",
        "\n",
        "What features had non-zero weight in this case?"
      ]
    },
    {
      "cell_type": "markdown",
      "metadata": {
        "id": "9Sen5Sy4aYxR"
      },
      "source": [
        "## Rescaling learned weights"
      ]
    },
    {
      "cell_type": "markdown",
      "metadata": {
        "id": "8MzpEj_TaYxS"
      },
      "source": [
        "**25.** Recall that we normalized our feature matrix, before learning the weights.  To use these weights on a test set, we must normalize the test data in the same way.\n",
        "\n",
        "Alternatively, we can rescale the learned weights to include the normalization, so we never have to worry about normalizing the test data: \n",
        "\n",
        "In this case, we must scale the resulting weights so that we can make predictions with *original* features:\n",
        " 1. Store the norms of the original features to a vector called `norms`:\n",
        "```\n",
        "features, norms = normalize_features(features)\n",
        "```\n",
        " 2. Run Lasso on the normalized features and obtain a `weights` vector\n",
        " 3. Compute the weights for the original features by performing element-wise division, i.e.\n",
        "```\n",
        "weights_normalized = weights / norms\n",
        "```\n",
        "Now, we can apply `weights_normalized` to the test data, without normalizing it!"
      ]
    },
    {
      "cell_type": "markdown",
      "metadata": {
        "id": "cnlzOkcOaYxS"
      },
      "source": [
        "**26.** Create a normalized version of each of the weights learned above. (`weights1e4`, `weights1e7`, `weights1e8`)."
      ]
    },
    {
      "cell_type": "code",
      "metadata": {
        "id": "TckU9W6AaYxT"
      },
      "source": [
        "my_output = 'price'\n",
        "(feature_matrix, output) = get_numpy_data(train_data, all_features, my_output)\n",
        "normalized_feature_matrix, norms = normalize_features(feature_matrix)"
      ],
      "execution_count": null,
      "outputs": []
    },
    {
      "cell_type": "code",
      "metadata": {
        "colab": {
          "base_uri": "https://localhost:8080/"
        },
        "id": "MlWAtdBlhWbP",
        "outputId": "0c6160c5-7a1b-4099-8bda-af11c248cfad"
      },
      "source": [
        "normalized_weights1e7 = weights1e7 / norms\n",
        "normalized_weights1e8 = weights1e8 / norms\n",
        "normalized_weights1e4 = weights1e4 / norms\n",
        "print normalized_weights1e7[3]"
      ],
      "execution_count": null,
      "outputs": [
        {
          "output_type": "stream",
          "text": [
            "161.3174562483786\n"
          ],
          "name": "stdout"
        }
      ]
    },
    {
      "cell_type": "markdown",
      "metadata": {
        "id": "zv1RurYcaYxT"
      },
      "source": [
        "To check your results, if you call `normalized_weights1e7` the normalized version of `weights1e7`, then:\n",
        "```\n",
        "print normalized_weights1e7[3]\n",
        "```\n",
        "should return 161.31745624837794."
      ]
    },
    {
      "cell_type": "markdown",
      "metadata": {
        "id": "MgGtujYfaYxU"
      },
      "source": [
        "## Evaluating each of the learned models on the test data"
      ]
    },
    {
      "cell_type": "markdown",
      "metadata": {
        "id": "QBqDedRaaYxU"
      },
      "source": [
        "**27.** Let's now evaluate the three models on the test data:"
      ]
    },
    {
      "cell_type": "code",
      "metadata": {
        "id": "8uDmzoU4aYxV"
      },
      "source": [
        "(test_feature_matrix, test_output) = get_numpy_data(test_data, all_features, 'price')"
      ],
      "execution_count": null,
      "outputs": []
    },
    {
      "cell_type": "markdown",
      "metadata": {
        "id": "0X7B56CRaYxW"
      },
      "source": [
        "Compute the RSS of each of the three normalized weights on the (unnormalized) `test_feature_matrix`:"
      ]
    },
    {
      "cell_type": "code",
      "metadata": {
        "colab": {
          "base_uri": "https://localhost:8080/"
        },
        "id": "hYCqSeJqaYxX",
        "outputId": "2e48964a-d99e-4a3c-e09b-fc0b612f1426"
      },
      "source": [
        "prediction =  predict_output(test_feature_matrix, normalized_weights1e7)\n",
        "RSS = np.dot(test_output-prediction, test_output-prediction)\n",
        "print 'RSS for model with weights1e7 = ', RSS"
      ],
      "execution_count": null,
      "outputs": [
        {
          "output_type": "stream",
          "text": [
            "RSS for model with weights1e7 =  275962079909185.25\n"
          ],
          "name": "stdout"
        }
      ]
    },
    {
      "cell_type": "code",
      "metadata": {
        "colab": {
          "base_uri": "https://localhost:8080/"
        },
        "id": "op4vt3T4aYxX",
        "outputId": "c75c9989-5321-49a9-fbd3-1afda7eb627e"
      },
      "source": [
        "prediction =  predict_output(test_feature_matrix, normalized_weights1e8)\n",
        "RSS = np.dot(test_output-prediction, test_output-prediction)\n",
        "print 'RSS for model with weights1e8 = ', RSS"
      ],
      "execution_count": null,
      "outputs": [
        {
          "output_type": "stream",
          "text": [
            "RSS for model with weights1e8 =  537166150034084.94\n"
          ],
          "name": "stdout"
        }
      ]
    },
    {
      "cell_type": "code",
      "metadata": {
        "colab": {
          "base_uri": "https://localhost:8080/"
        },
        "id": "aPsy2w1AaYxY",
        "outputId": "b9acd973-709a-4424-eaf4-f5cc8fd955bd"
      },
      "source": [
        "prediction =  predict_output(test_feature_matrix, normalized_weights1e4)\n",
        "RSS = np.dot(test_output-prediction, test_output-prediction)\n",
        "print 'RSS for model with weights1e4 = ', RSS"
      ],
      "execution_count": null,
      "outputs": [
        {
          "output_type": "stream",
          "text": [
            "RSS for model with weights1e4 =  227781004760225.3\n"
          ],
          "name": "stdout"
        }
      ]
    },
    {
      "cell_type": "markdown",
      "metadata": {
        "id": "pbtZz7v9aYxY"
      },
      "source": [
        "***28. QUIZ QUESTION***\n",
        "\n",
        "Which model performed best on the test data?"
      ]
    }
  ]
}