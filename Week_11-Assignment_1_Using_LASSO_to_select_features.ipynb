{
  "nbformat": 4,
  "nbformat_minor": 0,
  "metadata": {
    "kernelspec": {
      "display_name": "Python 2",
      "language": "python",
      "name": "python2"
    },
    "language_info": {
      "codemirror_mode": {
        "name": "ipython",
        "version": 2
      },
      "file_extension": ".py",
      "mimetype": "text/x-python",
      "name": "python",
      "nbconvert_exporter": "python",
      "pygments_lexer": "ipython2",
      "version": "2.7.15"
    },
    "colab": {
      "name": "Assignment 1_Using LASSO to select features_REG05-NB01.ipynb",
      "provenance": []
    }
  },
  "cells": [
    {
      "cell_type": "markdown",
      "metadata": {
        "id": "KPkAHBzJMobo"
      },
      "source": [
        "# Regression Week 5: Feature Selection and LASSO (Interpretation)"
      ]
    },
    {
      "cell_type": "markdown",
      "metadata": {
        "id": "fOS9Ucw6Mob5"
      },
      "source": [
        "In this notebook, you will use LASSO to select features, building on a pre-implemented solver for LASSO (using Turi Create, though you can use other solvers). You will:\n",
        "* Run LASSO with different L1 penalties.\n",
        "* Choose best L1 penalty using a validation set.\n",
        "* Choose best L1 penalty using a validation set, with additional constraint on the size of subset.\n",
        "\n",
        "In the second notebook, you will implement your own LASSO solver, using coordinate descent. "
      ]
    },
    {
      "cell_type": "markdown",
      "metadata": {
        "id": "3fWYsGYZMob_"
      },
      "source": [
        "# Fire up Turi Create"
      ]
    },
    {
      "cell_type": "code",
      "metadata": {
        "colab": {
          "base_uri": "https://localhost:8080/",
          "height": 1000
        },
        "id": "aAIccQB9NlGt",
        "outputId": "49ff28cf-b8ef-40e4-c78e-b955b9754e43"
      },
      "source": [
        "pip install turicreate"
      ],
      "execution_count": null,
      "outputs": [
        {
          "output_type": "stream",
          "text": [
            "Collecting turicreate\n",
            "\u001b[?25l  Downloading https://files.pythonhosted.org/packages/75/38/77a081ce35f012bd4789551db9e5196e766a2641cb05114ded9cc268182c/turicreate-6.4.1-cp27-cp27mu-manylinux1_x86_64.whl (91.9MB)\n",
            "\u001b[K     |████████████████████████████████| 91.9MB 61kB/s \n",
            "\u001b[?25hCollecting pillow>=5.2.0\n",
            "\u001b[?25l  Downloading https://files.pythonhosted.org/packages/12/ad/61f8dfba88c4e56196bf6d056cdbba64dc9c5dfdfbc97d02e6472feed913/Pillow-6.2.2-cp27-cp27mu-manylinux1_x86_64.whl (2.1MB)\n",
            "\u001b[K     |████████████████████████████████| 2.1MB 33.3MB/s \n",
            "\u001b[?25hRequirement already satisfied: numpy in /usr/local/lib/python2.7/dist-packages (from turicreate) (1.16.4)\n",
            "Requirement already satisfied: requests>=2.9.1 in /usr/local/lib/python2.7/dist-packages (from turicreate) (2.23.0)\n",
            "Collecting tensorflow<2.1.0,>=2.0.0\n",
            "\u001b[?25l  Downloading https://files.pythonhosted.org/packages/17/08/1ff15637a03b1565dd6cb0916b3ca6873db3a1fc69be0ed851be936e5633/tensorflow-2.0.0-cp27-cp27mu-manylinux2010_x86_64.whl (86.3MB)\n",
            "\u001b[K     |████████████████████████████████| 86.3MB 33kB/s \n",
            "\u001b[?25hRequirement already satisfied: prettytable==0.7.2 in /usr/local/lib/python2.7/dist-packages (from turicreate) (0.7.2)\n",
            "Collecting llvmlite==0.31.0\n",
            "\u001b[?25l  Downloading https://files.pythonhosted.org/packages/91/07/90cd9cdd43b287960b16dbf7929bff2267dc0b6647e8e0117a4937b19620/llvmlite-0.31.0-cp27-cp27mu-manylinux1_x86_64.whl (20.2MB)\n",
            "\u001b[K     |████████████████████████████████| 20.2MB 1.3MB/s \n",
            "\u001b[?25hRequirement already satisfied: pandas>=0.23.2 in /usr/local/lib/python2.7/dist-packages (from turicreate) (0.24.2)\n",
            "Requirement already satisfied: decorator>=4.0.9 in /usr/local/lib/python2.7/dist-packages (from turicreate) (4.4.0)\n",
            "Requirement already satisfied: scipy>=1.1.0 in /usr/local/lib/python2.7/dist-packages (from turicreate) (1.2.2)\n",
            "Requirement already satisfied: six>=1.10.0 in /usr/local/lib/python2.7/dist-packages (from turicreate) (1.15.0)\n",
            "Requirement already satisfied: resampy==0.2.1 in /usr/local/lib/python2.7/dist-packages (from turicreate) (0.2.1)\n",
            "Requirement already satisfied: numba<0.51.0 in /usr/local/lib/python2.7/dist-packages (from turicreate) (0.40.1)\n",
            "Collecting coremltools==3.3\n",
            "\u001b[?25l  Downloading https://files.pythonhosted.org/packages/46/9b/f6feac5d9369c68ee718d3c3140435452773a36ff08ef3bcc4fe378e8676/coremltools-3.3-cp27-none-manylinux1_x86_64.whl (3.4MB)\n",
            "\u001b[K     |████████████████████████████████| 3.4MB 47.5MB/s \n",
            "\u001b[?25hRequirement already satisfied: urllib3!=1.25.0,!=1.25.1,<1.26,>=1.21.1 in /usr/local/lib/python2.7/dist-packages (from requests>=2.9.1->turicreate) (1.24.3)\n",
            "Requirement already satisfied: chardet<4,>=3.0.2 in /usr/local/lib/python2.7/dist-packages (from requests>=2.9.1->turicreate) (3.0.4)\n",
            "Requirement already satisfied: certifi>=2017.4.17 in /usr/local/lib/python2.7/dist-packages (from requests>=2.9.1->turicreate) (2019.6.16)\n",
            "Requirement already satisfied: idna<3,>=2.5 in /usr/local/lib/python2.7/dist-packages (from requests>=2.9.1->turicreate) (2.8)\n",
            "Requirement already satisfied: gast==0.2.2 in /usr/local/lib/python2.7/dist-packages (from tensorflow<2.1.0,>=2.0.0->turicreate) (0.2.2)\n",
            "Requirement already satisfied: grpcio>=1.8.6 in /usr/local/lib/python2.7/dist-packages (from tensorflow<2.1.0,>=2.0.0->turicreate) (1.15.0)\n",
            "Collecting tensorboard<2.1.0,>=2.0.0\n",
            "\u001b[?25l  Downloading https://files.pythonhosted.org/packages/a7/3d/993131c622ae34f9401a81526853f2310a4834bd042420a7982fb5bc5fd0/tensorboard-2.0.2-py2-none-any.whl (3.8MB)\n",
            "\u001b[K     |████████████████████████████████| 3.8MB 44.7MB/s \n",
            "\u001b[?25hRequirement already satisfied: wrapt>=1.11.1 in /usr/local/lib/python2.7/dist-packages (from tensorflow<2.1.0,>=2.0.0->turicreate) (1.11.2)\n",
            "Requirement already satisfied: protobuf>=3.6.1 in /usr/local/lib/python2.7/dist-packages (from tensorflow<2.1.0,>=2.0.0->turicreate) (3.8.0)\n",
            "Requirement already satisfied: keras-preprocessing>=1.0.5 in /usr/local/lib/python2.7/dist-packages (from tensorflow<2.1.0,>=2.0.0->turicreate) (1.1.0)\n",
            "Requirement already satisfied: backports.weakref>=1.0rc1; python_version < \"3.4\" in /usr/local/lib/python2.7/dist-packages (from tensorflow<2.1.0,>=2.0.0->turicreate) (1.0.post1)\n",
            "Requirement already satisfied: keras-applications>=1.0.8 in /usr/local/lib/python2.7/dist-packages (from tensorflow<2.1.0,>=2.0.0->turicreate) (1.0.8)\n",
            "Requirement already satisfied: wheel in /usr/local/lib/python2.7/dist-packages (from tensorflow<2.1.0,>=2.0.0->turicreate) (0.37.0)\n",
            "Requirement already satisfied: functools32>=3.2.3 in /usr/local/lib/python2.7/dist-packages (from tensorflow<2.1.0,>=2.0.0->turicreate) (3.2.3.post2)\n",
            "Requirement already satisfied: absl-py>=0.7.0 in /usr/local/lib/python2.7/dist-packages (from tensorflow<2.1.0,>=2.0.0->turicreate) (0.7.1)\n",
            "Requirement already satisfied: opt-einsum>=2.3.2 in /usr/local/lib/python2.7/dist-packages (from tensorflow<2.1.0,>=2.0.0->turicreate) (2.3.2)\n",
            "Requirement already satisfied: termcolor>=1.1.0 in /usr/local/lib/python2.7/dist-packages (from tensorflow<2.1.0,>=2.0.0->turicreate) (1.1.0)\n",
            "Requirement already satisfied: mock>=2.0.0 in /usr/local/lib/python2.7/dist-packages (from tensorflow<2.1.0,>=2.0.0->turicreate) (2.0.0)\n",
            "Requirement already satisfied: google-pasta>=0.1.6 in /usr/local/lib/python2.7/dist-packages (from tensorflow<2.1.0,>=2.0.0->turicreate) (0.1.7)\n",
            "Requirement already satisfied: enum34>=1.1.6; python_version < \"3.4\" in /usr/local/lib/python2.7/dist-packages (from tensorflow<2.1.0,>=2.0.0->turicreate) (1.1.6)\n",
            "Collecting tensorflow-estimator<2.1.0,>=2.0.0\n",
            "\u001b[?25l  Downloading https://files.pythonhosted.org/packages/fc/08/8b927337b7019c374719145d1dceba21a8bb909b93b1ad6f8fb7d22c1ca1/tensorflow_estimator-2.0.1-py2.py3-none-any.whl (449kB)\n",
            "\u001b[K     |████████████████████████████████| 450kB 40.9MB/s \n",
            "\u001b[?25hRequirement already satisfied: astor>=0.6.0 in /usr/local/lib/python2.7/dist-packages (from tensorflow<2.1.0,>=2.0.0->turicreate) (0.8.1)\n",
            "Requirement already satisfied: pytz>=2011k in /usr/local/lib/python2.7/dist-packages (from pandas>=0.23.2->turicreate) (2018.9)\n",
            "Requirement already satisfied: python-dateutil>=2.5.0 in /usr/local/lib/python2.7/dist-packages (from pandas>=0.23.2->turicreate) (2.5.3)\n",
            "Requirement already satisfied: funcsigs in /usr/local/lib/python2.7/dist-packages (from numba<0.51.0->turicreate) (1.0.2)\n",
            "Requirement already satisfied: singledispatch in /usr/local/lib/python2.7/dist-packages (from numba<0.51.0->turicreate) (3.4.0.3)\n",
            "Requirement already satisfied: futures>=2.2.0 in /usr/local/lib/python2.7/dist-packages (from grpcio>=1.8.6->tensorflow<2.1.0,>=2.0.0->turicreate) (3.2.0)\n",
            "Requirement already satisfied: setuptools>=41.0.0 in /usr/local/lib/python2.7/dist-packages (from tensorboard<2.1.0,>=2.0.0->tensorflow<2.1.0,>=2.0.0->turicreate) (44.1.1)\n",
            "Collecting google-auth-oauthlib<0.5,>=0.4.1\n",
            "  Downloading https://files.pythonhosted.org/packages/7b/b8/88def36e74bee9fce511c9519571f4e485e890093ab7442284f4ffaef60b/google_auth_oauthlib-0.4.1-py2.py3-none-any.whl\n",
            "Requirement already satisfied: werkzeug>=0.11.15 in /usr/local/lib/python2.7/dist-packages (from tensorboard<2.1.0,>=2.0.0->tensorflow<2.1.0,>=2.0.0->turicreate) (0.15.5)\n",
            "Requirement already satisfied: google-auth<2,>=1.6.3 in /usr/local/lib/python2.7/dist-packages (from tensorboard<2.1.0,>=2.0.0->tensorflow<2.1.0,>=2.0.0->turicreate) (1.35.0)\n",
            "Requirement already satisfied: markdown>=2.6.8 in /usr/local/lib/python2.7/dist-packages (from tensorboard<2.1.0,>=2.0.0->tensorflow<2.1.0,>=2.0.0->turicreate) (3.1.1)\n",
            "Requirement already satisfied: h5py in /usr/local/lib/python2.7/dist-packages (from keras-applications>=1.0.8->tensorflow<2.1.0,>=2.0.0->turicreate) (2.8.0)\n",
            "Requirement already satisfied: pbr>=0.11 in /usr/local/lib/python2.7/dist-packages (from mock>=2.0.0->tensorflow<2.1.0,>=2.0.0->turicreate) (5.4.0)\n",
            "Requirement already satisfied: requests-oauthlib>=0.7.0 in /usr/local/lib/python2.7/dist-packages (from google-auth-oauthlib<0.5,>=0.4.1->tensorboard<2.1.0,>=2.0.0->tensorflow<2.1.0,>=2.0.0->turicreate) (1.2.0)\n",
            "Requirement already satisfied: cachetools<5.0,>=2.0.0 in /usr/local/lib/python2.7/dist-packages (from google-auth<2,>=1.6.3->tensorboard<2.1.0,>=2.0.0->tensorflow<2.1.0,>=2.0.0->turicreate) (3.1.1)\n",
            "Requirement already satisfied: pyasn1-modules>=0.2.1 in /usr/local/lib/python2.7/dist-packages (from google-auth<2,>=1.6.3->tensorboard<2.1.0,>=2.0.0->tensorflow<2.1.0,>=2.0.0->turicreate) (0.2.5)\n",
            "Requirement already satisfied: rsa<4.6; python_version < \"3.6\" in /usr/local/lib/python2.7/dist-packages (from google-auth<2,>=1.6.3->tensorboard<2.1.0,>=2.0.0->tensorflow<2.1.0,>=2.0.0->turicreate) (4.0)\n",
            "Requirement already satisfied: oauthlib>=3.0.0 in /usr/local/lib/python2.7/dist-packages (from requests-oauthlib>=0.7.0->google-auth-oauthlib<0.5,>=0.4.1->tensorboard<2.1.0,>=2.0.0->tensorflow<2.1.0,>=2.0.0->turicreate) (3.0.2)\n",
            "Requirement already satisfied: pyasn1<0.5.0,>=0.4.1 in /usr/local/lib/python2.7/dist-packages (from pyasn1-modules>=0.2.1->google-auth<2,>=1.6.3->tensorboard<2.1.0,>=2.0.0->tensorflow<2.1.0,>=2.0.0->turicreate) (0.4.5)\n",
            "\u001b[31mERROR: fastai 0.7.0 has requirement torch<0.4, but you'll have torch 1.4.0 which is incompatible.\u001b[0m\n",
            "\u001b[31mERROR: tensorboard 2.0.2 has requirement grpcio>=1.24.3, but you'll have grpcio 1.15.0 which is incompatible.\u001b[0m\n",
            "Installing collected packages: pillow, google-auth-oauthlib, tensorboard, tensorflow-estimator, tensorflow, llvmlite, coremltools, turicreate\n",
            "  Found existing installation: Pillow 4.3.0\n",
            "    Uninstalling Pillow-4.3.0:\n",
            "      Successfully uninstalled Pillow-4.3.0\n",
            "  Found existing installation: google-auth-oauthlib 0.4.0\n",
            "    Uninstalling google-auth-oauthlib-0.4.0:\n",
            "      Successfully uninstalled google-auth-oauthlib-0.4.0\n",
            "  Found existing installation: tensorboard 2.1.0\n",
            "    Uninstalling tensorboard-2.1.0:\n",
            "      Successfully uninstalled tensorboard-2.1.0\n",
            "  Found existing installation: tensorflow-estimator 1.15.0\n",
            "    Uninstalling tensorflow-estimator-1.15.0:\n",
            "      Successfully uninstalled tensorflow-estimator-1.15.0\n",
            "  Found existing installation: tensorflow 2.1.0\n",
            "    Uninstalling tensorflow-2.1.0:\n",
            "      Successfully uninstalled tensorflow-2.1.0\n",
            "  Found existing installation: llvmlite 0.29.0\n",
            "    Uninstalling llvmlite-0.29.0:\n",
            "      Successfully uninstalled llvmlite-0.29.0\n",
            "Successfully installed coremltools-3.3 google-auth-oauthlib-0.4.1 llvmlite-0.31.0 pillow-6.2.2 tensorboard-2.0.2 tensorflow-2.0.0 tensorflow-estimator-2.0.1 turicreate-6.4.1\n"
          ],
          "name": "stdout"
        },
        {
          "output_type": "display_data",
          "data": {
            "application/vnd.colab-display-data+json": {
              "pip_warning": {
                "packages": [
                  "PIL"
                ]
              }
            }
          },
          "metadata": {}
        }
      ]
    },
    {
      "cell_type": "code",
      "metadata": {
        "id": "ZYCADOrmMocC"
      },
      "source": [
        "import turicreate"
      ],
      "execution_count": null,
      "outputs": []
    },
    {
      "cell_type": "markdown",
      "metadata": {
        "id": "jFF8a5-BMocJ"
      },
      "source": [
        "# 0. Load in house sales data\n",
        "\n",
        "Dataset is from house sales in King County, the region where the city of Seattle, WA is located."
      ]
    },
    {
      "cell_type": "code",
      "metadata": {
        "scrolled": true,
        "colab": {
          "base_uri": "https://localhost:8080/"
        },
        "id": "UFR-gJkCMocL",
        "outputId": "2fc01840-09d5-4606-de88-85fdcc0fda9f"
      },
      "source": [
        "#sales = turicreate.SFrame('home_data.sframe/')\n",
        "\n",
        "from google.colab import drive\n",
        "drive.mount ('/content/gdrive')"
      ],
      "execution_count": null,
      "outputs": [
        {
          "output_type": "stream",
          "text": [
            "Mounted at /content/gdrive\n"
          ],
          "name": "stdout"
        }
      ]
    },
    {
      "cell_type": "code",
      "metadata": {
        "id": "6eiS90wvOJo5"
      },
      "source": [
        "sales = turicreate.SFrame('/content/gdrive/My Drive/Turicreate/Week 11/home_data.sframe/')"
      ],
      "execution_count": null,
      "outputs": []
    },
    {
      "cell_type": "markdown",
      "metadata": {
        "id": "avkyPe3JMocN"
      },
      "source": [
        "# 1. Create new features"
      ]
    },
    {
      "cell_type": "markdown",
      "metadata": {
        "id": "kCJSa6cFMocV"
      },
      "source": [
        "As in Week 2, we consider features that are some transformations of inputs."
      ]
    },
    {
      "cell_type": "code",
      "metadata": {
        "id": "iGurkOUZMocc"
      },
      "source": [
        "from math import log, sqrt\n",
        "sales['sqft_living_sqrt'] = sales['sqft_living'].apply(sqrt)\n",
        "sales['sqft_lot_sqrt'] = sales['sqft_lot'].apply(sqrt)\n",
        "sales['bedrooms_square'] = sales['bedrooms']*sales['bedrooms']\n",
        "\n",
        "# In the dataset, 'floors' was defined with type string, \n",
        "# so we'll convert them to float, before creating a new feature.\n",
        "sales['floors'] = sales['floors'].astype(float) \n",
        "sales['floors_square'] = sales['floors']*sales['floors']"
      ],
      "execution_count": null,
      "outputs": []
    },
    {
      "cell_type": "markdown",
      "metadata": {
        "id": "lpIbpHE5Moch"
      },
      "source": [
        "* Squaring bedrooms will increase the separation between not many bedrooms (e.g. 1) and lots of bedrooms (e.g. 4) since 1^2 = 1 but 4^2 = 16. Consequently this variable will mostly affect houses with many bedrooms.\n",
        "* On the other hand, taking square root of sqft_living will decrease the separation between big house and small house. The owner may not be exactly twice as happy for getting a house that is twice as big."
      ]
    },
    {
      "cell_type": "markdown",
      "metadata": {
        "id": "UsyWO3o4Mocm"
      },
      "source": [
        "# 2. Learn regression weights with L1 penalty"
      ]
    },
    {
      "cell_type": "markdown",
      "metadata": {
        "id": "9kYPKs8sMoco"
      },
      "source": [
        "Let us fit a model with all the features available, plus the features we just created above."
      ]
    },
    {
      "cell_type": "code",
      "metadata": {
        "id": "KtrgOEA0Mocr"
      },
      "source": [
        "all_features = ['bedrooms', 'bedrooms_square',\n",
        "                'bathrooms',\n",
        "                'sqft_living', 'sqft_living_sqrt',\n",
        "                'sqft_lot', 'sqft_lot_sqrt',\n",
        "                'floors', 'floors_square',\n",
        "                'waterfront', 'view', 'condition', 'grade',\n",
        "                'sqft_above',\n",
        "                'sqft_basement',\n",
        "                'yr_built', 'yr_renovated']"
      ],
      "execution_count": null,
      "outputs": []
    },
    {
      "cell_type": "markdown",
      "metadata": {
        "id": "3cQOn5-NMocu"
      },
      "source": [
        "Applying L1 penalty requires adding an extra parameter (`l1_penalty`) to the linear regression call in Turi Create. (Other tools may have separate implementations of LASSO.)  Note that it's important to set `l2_penalty=0` to ensure we don't introduce an additional L2 penalty."
      ]
    },
    {
      "cell_type": "code",
      "metadata": {
        "colab": {
          "base_uri": "https://localhost:8080/",
          "height": 391
        },
        "id": "n02n6npdMocw",
        "outputId": "6811199d-b151-4681-d74e-a7f8a8c48a7e"
      },
      "source": [
        "model_all = turicreate.linear_regression.create(sales, target='price', features=all_features,\n",
        "                                                validation_set=None, \n",
        "                                                l2_penalty=0., l1_penalty=1e10)"
      ],
      "execution_count": null,
      "outputs": [
        {
          "output_type": "display_data",
          "data": {
            "text/plain": [
              "Linear regression:"
            ],
            "text/html": [
              "<pre>Linear regression:</pre>"
            ]
          },
          "metadata": {}
        },
        {
          "output_type": "display_data",
          "data": {
            "text/plain": [
              "--------------------------------------------------------"
            ],
            "text/html": [
              "<pre>--------------------------------------------------------</pre>"
            ]
          },
          "metadata": {}
        },
        {
          "output_type": "display_data",
          "data": {
            "text/plain": [
              "Number of examples          : 21613"
            ],
            "text/html": [
              "<pre>Number of examples          : 21613</pre>"
            ]
          },
          "metadata": {}
        },
        {
          "output_type": "display_data",
          "data": {
            "text/plain": [
              "Number of features          : 17"
            ],
            "text/html": [
              "<pre>Number of features          : 17</pre>"
            ]
          },
          "metadata": {}
        },
        {
          "output_type": "display_data",
          "data": {
            "text/plain": [
              "Number of unpacked features : 17"
            ],
            "text/html": [
              "<pre>Number of unpacked features : 17</pre>"
            ]
          },
          "metadata": {}
        },
        {
          "output_type": "display_data",
          "data": {
            "text/plain": [
              "Number of coefficients    : 18"
            ],
            "text/html": [
              "<pre>Number of coefficients    : 18</pre>"
            ]
          },
          "metadata": {}
        },
        {
          "output_type": "display_data",
          "data": {
            "text/plain": [
              "Starting Accelerated Gradient (FISTA)"
            ],
            "text/html": [
              "<pre>Starting Accelerated Gradient (FISTA)</pre>"
            ]
          },
          "metadata": {}
        },
        {
          "output_type": "display_data",
          "data": {
            "text/plain": [
              "--------------------------------------------------------"
            ],
            "text/html": [
              "<pre>--------------------------------------------------------</pre>"
            ]
          },
          "metadata": {}
        },
        {
          "output_type": "display_data",
          "data": {
            "text/plain": [
              "Tuning step size. First iteration could take longer than subsequent iterations."
            ],
            "text/html": [
              "<pre>Tuning step size. First iteration could take longer than subsequent iterations.</pre>"
            ]
          },
          "metadata": {}
        },
        {
          "output_type": "display_data",
          "data": {
            "text/plain": [
              "+-----------+----------+-----------+--------------+--------------------+---------------------------------+"
            ],
            "text/html": [
              "<pre>+-----------+----------+-----------+--------------+--------------------+---------------------------------+</pre>"
            ]
          },
          "metadata": {}
        },
        {
          "output_type": "display_data",
          "data": {
            "text/plain": [
              "| Iteration | Passes   | Step size | Elapsed Time | Training Max Error | Training Root-Mean-Square Error |"
            ],
            "text/html": [
              "<pre>| Iteration | Passes   | Step size | Elapsed Time | Training Max Error | Training Root-Mean-Square Error |</pre>"
            ]
          },
          "metadata": {}
        },
        {
          "output_type": "display_data",
          "data": {
            "text/plain": [
              "+-----------+----------+-----------+--------------+--------------------+---------------------------------+"
            ],
            "text/html": [
              "<pre>+-----------+----------+-----------+--------------+--------------------+---------------------------------+</pre>"
            ]
          },
          "metadata": {}
        },
        {
          "output_type": "display_data",
          "data": {
            "text/plain": [
              "| 0         | 1        | 1.000000  | 1.025065     | 7700000.000000     | 653047.733994                   |"
            ],
            "text/html": [
              "<pre>| 0         | 1        | 1.000000  | 1.025065     | 7700000.000000     | 653047.733994                   |</pre>"
            ]
          },
          "metadata": {}
        },
        {
          "output_type": "display_data",
          "data": {
            "text/plain": [
              "| 1         | 2        | 0.000002  | 1.484833     | 6962915.603493     | 426631.749026                   |"
            ],
            "text/html": [
              "<pre>| 1         | 2        | 0.000002  | 1.484833     | 6962915.603493     | 426631.749026                   |</pre>"
            ]
          },
          "metadata": {}
        },
        {
          "output_type": "display_data",
          "data": {
            "text/plain": [
              "| 2         | 3        | 0.000002  | 1.528220     | 6843144.200219     | 392488.929838                   |"
            ],
            "text/html": [
              "<pre>| 2         | 3        | 0.000002  | 1.528220     | 6843144.200219     | 392488.929838                   |</pre>"
            ]
          },
          "metadata": {}
        },
        {
          "output_type": "display_data",
          "data": {
            "text/plain": [
              "| 3         | 4        | 0.000002  | 1.580018     | 6831900.032123     | 385340.166783                   |"
            ],
            "text/html": [
              "<pre>| 3         | 4        | 0.000002  | 1.580018     | 6831900.032123     | 385340.166783                   |</pre>"
            ]
          },
          "metadata": {}
        },
        {
          "output_type": "display_data",
          "data": {
            "text/plain": [
              "| 4         | 5        | 0.000002  | 1.623456     | 6847166.848958     | 384842.383767                   |"
            ],
            "text/html": [
              "<pre>| 4         | 5        | 0.000002  | 1.623456     | 6847166.848958     | 384842.383767                   |</pre>"
            ]
          },
          "metadata": {}
        },
        {
          "output_type": "display_data",
          "data": {
            "text/plain": [
              "| 5         | 6        | 0.000002  | 1.671145     | 6869667.895833     | 385998.458623                   |"
            ],
            "text/html": [
              "<pre>| 5         | 6        | 0.000002  | 1.671145     | 6869667.895833     | 385998.458623                   |</pre>"
            ]
          },
          "metadata": {}
        },
        {
          "output_type": "display_data",
          "data": {
            "text/plain": [
              "| 10        | 11       | 0.000002  | 1.872171     | 6842123.232651     | 364204.576180                   |"
            ],
            "text/html": [
              "<pre>| 10        | 11       | 0.000002  | 1.872171     | 6842123.232651     | 364204.576180                   |</pre>"
            ]
          },
          "metadata": {}
        },
        {
          "output_type": "display_data",
          "data": {
            "text/plain": [
              "+-----------+----------+-----------+--------------+--------------------+---------------------------------+"
            ],
            "text/html": [
              "<pre>+-----------+----------+-----------+--------------+--------------------+---------------------------------+</pre>"
            ]
          },
          "metadata": {}
        },
        {
          "output_type": "display_data",
          "data": {
            "text/plain": [
              "Completed (Iteration limit reached)."
            ],
            "text/html": [
              "<pre>Completed (Iteration limit reached).</pre>"
            ]
          },
          "metadata": {}
        },
        {
          "output_type": "display_data",
          "data": {
            "text/plain": [
              "This model may not be optimal. To improve it, consider increasing `max_iterations`."
            ],
            "text/html": [
              "<pre>This model may not be optimal. To improve it, consider increasing `max_iterations`.</pre>"
            ]
          },
          "metadata": {}
        }
      ]
    },
    {
      "cell_type": "markdown",
      "metadata": {
        "id": "7P39odqsMocy"
      },
      "source": [
        "Find what features had non-zero weight."
      ]
    },
    {
      "cell_type": "code",
      "metadata": {
        "colab": {
          "base_uri": "https://localhost:8080/"
        },
        "id": "qzCTuLJTPR3W",
        "outputId": "42e8948f-b9e8-4473-82e6-8592372d4e31"
      },
      "source": [
        "# non_zero_weight = model_all.get(\"coefficients\")[\"value\"]\n",
        "non_zero_weight = model_all.coefficients #[model_all[\"coefficients\"][\"value\"] > 0]\n",
        "non_zero_weight.print_rows(num_rows=20)"
      ],
      "execution_count": null,
      "outputs": [
        {
          "output_type": "stream",
          "text": [
            "+------------------+-------+---------------+--------+\n",
            "|       name       | index |     value     | stderr |\n",
            "+------------------+-------+---------------+--------+\n",
            "|   (intercept)    |  None |  274873.05595 |  None  |\n",
            "|     bedrooms     |  None |      0.0      |  None  |\n",
            "| bedrooms_square  |  None |      0.0      |  None  |\n",
            "|    bathrooms     |  None | 8468.53108691 |  None  |\n",
            "|   sqft_living    |  None | 24.4207209824 |  None  |\n",
            "| sqft_living_sqrt |  None | 350.060553386 |  None  |\n",
            "|     sqft_lot     |  None |      0.0      |  None  |\n",
            "|  sqft_lot_sqrt   |  None |      0.0      |  None  |\n",
            "|      floors      |  None |      0.0      |  None  |\n",
            "|  floors_square   |  None |      0.0      |  None  |\n",
            "|    waterfront    |  None |      0.0      |  None  |\n",
            "|       view       |  None |      0.0      |  None  |\n",
            "|    condition     |  None |      0.0      |  None  |\n",
            "|      grade       |  None | 842.068034898 |  None  |\n",
            "|    sqft_above    |  None | 20.0247224171 |  None  |\n",
            "|  sqft_basement   |  None |      0.0      |  None  |\n",
            "|     yr_built     |  None |      0.0      |  None  |\n",
            "|   yr_renovated   |  None |      0.0      |  None  |\n",
            "+------------------+-------+---------------+--------+\n",
            "[18 rows x 4 columns]\n",
            "\n"
          ],
          "name": "stdout"
        }
      ]
    },
    {
      "cell_type": "code",
      "metadata": {
        "id": "iIYT6GhJMocz"
      },
      "source": [
        "# non_zero_weight = model_all.get(\"coefficients\")[\"value\"]\n",
        "#non_zero_weight = model_all[\"coefficients\"][model_all[\"coefficients\"][\"value\"] > 0]\n",
        "#non_zero_weight.print_rows(num_rows=20)"
      ],
      "execution_count": null,
      "outputs": []
    },
    {
      "cell_type": "markdown",
      "metadata": {
        "id": "MZRiM0SCMoc1"
      },
      "source": [
        "Note that a majority of the weights have been set to zero. So by setting an L1 penalty that's large enough, we are performing a subset selection. \n",
        "\n",
        "***3. QUIZ QUESTION***:\n",
        "According to this list of weights, which of the features have been chosen by LASSO? ie., which features were assigned non-zero weights"
      ]
    },
    {
      "cell_type": "markdown",
      "metadata": {
        "id": "yCQXVmw1Moc2"
      },
      "source": [
        "# 4. Selecting an L1 penalty"
      ]
    },
    {
      "cell_type": "markdown",
      "metadata": {
        "id": "Tx_faO-wMoc5"
      },
      "source": [
        "To find a good L1 penalty, we will explore multiple values using a validation set. Let us do three way split into train, validation, and test sets:\n",
        "* Split our sales data into 2 sets: training and test\n",
        "* Further split our training data into two sets: train, validation\n",
        "\n",
        "Be *very* careful that you use seed = 1 to ensure you get the same answer!"
      ]
    },
    {
      "cell_type": "code",
      "metadata": {
        "id": "oZIcY4dlMoc6"
      },
      "source": [
        "(training_and_validation, testing) = sales.random_split(.9,seed=1) # initial train/test split\n",
        "(training, validation) = training_and_validation.random_split(0.5, seed=1) # split training into train and validate"
      ],
      "execution_count": null,
      "outputs": []
    },
    {
      "cell_type": "markdown",
      "metadata": {
        "id": "nU3Gf4RrMoc7"
      },
      "source": [
        "Next, we write a loop that does the following:\n",
        "* For `l1_penalty` in [10^1, 10^1.5, 10^2, 10^2.5, ..., 10^7] (to get this in Python, type `np.logspace(1, 7, num=13)`.)\n",
        "    * Fit a regression model with a given `l1_penalty` on TRAIN data. Specify `l1_penalty=l1_penalty` and `l2_penalty=0.` in the parameter list.\n",
        "    * Compute the RSS on VALIDATION data (here you will want to use `.predict()`) for that `l1_penalty`\n",
        "* Report which `l1_penalty` produced the lowest RSS on validation data.\n",
        "\n",
        "When you call `linear_regression.create()` make sure you set `validation_set = None`.\n",
        "\n",
        "Note: you can turn off the print out of `linear_regression.create()` with `verbose = False`"
      ]
    },
    {
      "cell_type": "code",
      "metadata": {
        "colab": {
          "base_uri": "https://localhost:8080/"
        },
        "id": "U72R8JAEMoc9",
        "outputId": "6ca3cf1b-0f17-4140-e474-876b00b8622e"
      },
      "source": [
        "import numpy as np\n",
        "import pprint \n",
        "\n",
        "validation_rss = {}\n",
        "for l1_penalty in np.logspace(1, 7, num=13):\n",
        "    model = turicreate.linear_regression.create(training, target='price', features=all_features,\n",
        "                                              validation_set=None, verbose = False,\n",
        "                                              l2_penalty=0., l1_penalty=l1_penalty)\n",
        "    predictions = model.predict(validation)\n",
        "    residuals = validation['price'] - predictions\n",
        "    rss = sum(residuals**2)\n",
        "    validation_rss[l1_penalty] = rss\n",
        "\n",
        "# pprint.pprint(result_dict)\n",
        "print min(validation_rss.items(), key=lambda x: x[1]) "
      ],
      "execution_count": null,
      "outputs": [
        {
          "output_type": "stream",
          "text": [
            "(10.0, 625766285142461.4)\n"
          ],
          "name": "stdout"
        }
      ]
    },
    {
      "cell_type": "code",
      "metadata": {
        "id": "8yIh3XWrMoc-"
      },
      "source": [
        ""
      ],
      "execution_count": null,
      "outputs": []
    },
    {
      "cell_type": "markdown",
      "metadata": {
        "id": "vDtRLrHAMoc_"
      },
      "source": [
        "*** 6. QUIZ QUESTION. *** What was the best value for the `l1_penalty`?"
      ]
    },
    {
      "cell_type": "markdown",
      "metadata": {
        "id": "y0i6A9T_ST8Z"
      },
      "source": [
        "**7.** Now that you have selected an L1 penalty, compute the RSS on TEST data for the model with the best L1 penalty."
      ]
    },
    {
      "cell_type": "code",
      "metadata": {
        "colab": {
          "base_uri": "https://localhost:8080/"
        },
        "id": "h60NqrYlModA",
        "outputId": "d0b987cb-17d3-45bb-b2f1-7153166de4e8"
      },
      "source": [
        "model_test = turicreate.linear_regression.create(training, target='price', features=all_features,\n",
        "                                              validation_set=None, verbose = False,\n",
        "                                              l2_penalty=0., l1_penalty=10.0)\n",
        "predictions_test = model.predict(testing)\n",
        "residuals_test = testing['price'] - predictions_test\n",
        "rss_test = sum(residuals_test**2)\n",
        "print rss_test"
      ],
      "execution_count": null,
      "outputs": [
        {
          "output_type": "stream",
          "text": [
            "1.56972779669e+14\n"
          ],
          "name": "stdout"
        }
      ]
    },
    {
      "cell_type": "markdown",
      "metadata": {
        "id": "_USAlJKSModB"
      },
      "source": [
        "***8. QUIZ QUESTION***\n",
        "Also, using this value of L1 penalty, how many nonzero weights do you have?"
      ]
    },
    {
      "cell_type": "code",
      "metadata": {
        "colab": {
          "base_uri": "https://localhost:8080/"
        },
        "id": "YKZRIbREModD",
        "outputId": "b69d15c7-ba0e-4459-da19-001329d6a58b"
      },
      "source": [
        "non_zero_weight_test = model_test.coefficients #[\"coefficients\"][model_test[\"coefficients\"][\"value\"] > 0]\n",
        "#print model_test[\"coefficients\"][\"value\"].nnz()\n",
        "non_zero_weight_test.print_rows(num_rows=20)"
      ],
      "execution_count": null,
      "outputs": [
        {
          "output_type": "stream",
          "text": [
            "+------------------+-------+------------------+--------+\n",
            "|       name       | index |      value       | stderr |\n",
            "+------------------+-------+------------------+--------+\n",
            "|   (intercept)    |  None |  18993.4272128   |  None  |\n",
            "|     bedrooms     |  None |  7936.96767903   |  None  |\n",
            "| bedrooms_square  |  None |  936.993368193   |  None  |\n",
            "|    bathrooms     |  None |  25409.5889341   |  None  |\n",
            "|   sqft_living    |  None |  39.1151363797   |  None  |\n",
            "| sqft_living_sqrt |  None |  1124.65021281   |  None  |\n",
            "|     sqft_lot     |  None | 0.00348361822299 |  None  |\n",
            "|  sqft_lot_sqrt   |  None |  148.258391011   |  None  |\n",
            "|      floors      |  None |   21204.335467   |  None  |\n",
            "|  floors_square   |  None |  12915.5243361   |  None  |\n",
            "|    waterfront    |  None |  601905.594545   |  None  |\n",
            "|       view       |  None |  93312.8573119   |  None  |\n",
            "|    condition     |  None |  6609.03571245   |  None  |\n",
            "|      grade       |  None |  6206.93999188   |  None  |\n",
            "|    sqft_above    |  None |  43.2870534193   |  None  |\n",
            "|  sqft_basement   |  None |  122.367827534   |  None  |\n",
            "|     yr_built     |  None |  9.43363539372   |  None  |\n",
            "|   yr_renovated   |  None |  56.0720034488   |  None  |\n",
            "+------------------+-------+------------------+--------+\n",
            "[18 rows x 4 columns]\n",
            "\n"
          ],
          "name": "stdout"
        }
      ]
    },
    {
      "cell_type": "markdown",
      "metadata": {
        "id": "gNUbhePtModE"
      },
      "source": [
        "# Limit the number of nonzero weights\n",
        "\n",
        "**9.** What if we absolutely wanted to limit ourselves to, say, 7 features? This may be important if we want to derive \"a rule of thumb\" --- an interpretable model that has only a few features in them."
      ]
    },
    {
      "cell_type": "markdown",
      "metadata": {
        "id": "6MBNYxt9ModF"
      },
      "source": [
        "In this section, you are going to implement a simple, two phase procedure to achive this goal:\n",
        "1. Explore a large range of `l1_penalty` values to find a narrow region of `l1_penalty` values where models are likely to have the desired number of non-zero weights.\n",
        "2. Further explore the narrow region you found to find a good value for `l1_penalty` that achieves the desired sparsity.  Here, we will again use a validation set to choose the best value for `l1_penalty`."
      ]
    },
    {
      "cell_type": "markdown",
      "metadata": {
        "id": "NScySSthUR1t"
      },
      "source": [
        "**10.** Assign 7 to the variable ‘max_nonzeros’."
      ]
    },
    {
      "cell_type": "code",
      "metadata": {
        "id": "4weEnbvCModH"
      },
      "source": [
        "max_nonzeros = 7"
      ],
      "execution_count": null,
      "outputs": []
    },
    {
      "cell_type": "markdown",
      "metadata": {
        "id": "2aZzLmc3ModK"
      },
      "source": [
        "## Exploring the larger range of values to find a narrow range with the desired sparsity\n",
        "\n",
        "**11.** Let's define a wide range of possible `l1_penalty_values`:"
      ]
    },
    {
      "cell_type": "code",
      "metadata": {
        "colab": {
          "base_uri": "https://localhost:8080/"
        },
        "id": "feXwWCdHModL",
        "outputId": "2b32e8aa-b910-40b0-d360-85e25c77f976"
      },
      "source": [
        "l1_penalty_values = np.logspace(8, 10, num=20)\n",
        "\n",
        "l1_penalty_values"
      ],
      "execution_count": null,
      "outputs": [
        {
          "output_type": "execute_result",
          "data": {
            "text/plain": [
              "array([1.00000000e+08, 1.27427499e+08, 1.62377674e+08, 2.06913808e+08,\n",
              "       2.63665090e+08, 3.35981829e+08, 4.28133240e+08, 5.45559478e+08,\n",
              "       6.95192796e+08, 8.85866790e+08, 1.12883789e+09, 1.43844989e+09,\n",
              "       1.83298071e+09, 2.33572147e+09, 2.97635144e+09, 3.79269019e+09,\n",
              "       4.83293024e+09, 6.15848211e+09, 7.84759970e+09, 1.00000000e+10])"
            ]
          },
          "metadata": {},
          "execution_count": 27
        }
      ]
    },
    {
      "cell_type": "markdown",
      "metadata": {
        "id": "aZ6BVOScModM"
      },
      "source": [
        "Now, implement a loop that search through this space of possible `l1_penalty` values:\n",
        "\n",
        "* For `l1_penalty` in `np.logspace(8, 10, num=20)`:\n",
        "    * Fit a regression model with a given `l1_penalty` on TRAIN data. Specify `l1_penalty=l1_penalty` and `l2_penalty=0.` in the parameter list. When you call `linear_regression.create()` make sure you set `validation_set = None`\n",
        "    * Extract the weights of the model and count the number of nonzeros. Save the number of nonzeros to a list.\n",
        "        * *Hint: `model.coefficients['value']` gives you an SArray with the parameters you learned.  If you call the method `.nnz()` on it, you will find the number of non-zero parameters!* "
      ]
    },
    {
      "cell_type": "code",
      "metadata": {
        "colab": {
          "base_uri": "https://localhost:8080/"
        },
        "id": "65EkU-XjModN",
        "outputId": "d1a12ced-ecca-4c18-fb49-71c56772d337"
      },
      "source": [
        "coef_dict = {}\n",
        "for l1_penalty in l1_penalty_values:\n",
        "    model = turicreate.linear_regression.create(training, target ='price', features=all_features,\n",
        "                                              validation_set=None, verbose=None,\n",
        "                                              l2_penalty=0., l1_penalty=l1_penalty)\n",
        "    coef_dict[l1_penalty] = model.coefficients #['coefficients']['value'].nnz()\n",
        "\n",
        "coef_dict"
      ],
      "execution_count": null,
      "outputs": [
        {
          "output_type": "execute_result",
          "data": {
            "text/plain": [
              "{100000000.0: Columns:\n",
              " \tname\tstr\n",
              " \tindex\tstr\n",
              " \tvalue\tfloat\n",
              " \tstderr\tfloat\n",
              " \n",
              " Rows: 18\n",
              " \n",
              " Data:\n",
              " +------------------+-------+------------------+--------+\n",
              " |       name       | index |      value       | stderr |\n",
              " +------------------+-------+------------------+--------+\n",
              " |   (intercept)    |  None |  25090.9173672   |  None  |\n",
              " |     bedrooms     |  None |   7789.1770611   |  None  |\n",
              " | bedrooms_square  |  None |  847.559686943   |  None  |\n",
              " |    bathrooms     |  None |  25234.2091945   |  None  |\n",
              " |   sqft_living    |  None |  39.0394459636   |  None  |\n",
              " | sqft_living_sqrt |  None |  1117.31189557   |  None  |\n",
              " |     sqft_lot     |  None | -0.0256861182399 |  None  |\n",
              " |  sqft_lot_sqrt   |  None |   143.98899197   |  None  |\n",
              " |      floors      |  None |  20695.3592396   |  None  |\n",
              " |  floors_square   |  None |  12466.6906503   |  None  |\n",
              " +------------------+-------+------------------+--------+\n",
              " [18 rows x 4 columns]\n",
              " Note: Only the head of the SFrame is printed.\n",
              " You can use print_rows(num_rows=m, num_columns=n) to print more rows and columns.,\n",
              " 127427498.57031322: Columns:\n",
              " \tname\tstr\n",
              " \tindex\tstr\n",
              " \tvalue\tfloat\n",
              " \tstderr\tfloat\n",
              " \n",
              " Rows: 18\n",
              " \n",
              " Data:\n",
              " +------------------+-------+------------------+--------+\n",
              " |       name       | index |      value       | stderr |\n",
              " +------------------+-------+------------------+--------+\n",
              " |   (intercept)    |  None |  26746.6619366   |  None  |\n",
              " |     bedrooms     |  None |  7743.97904785   |  None  |\n",
              " | bedrooms_square  |  None |  822.358945251   |  None  |\n",
              " |    bathrooms     |  None |  25178.6259306   |  None  |\n",
              " |   sqft_living    |  None |  39.0107181353   |  None  |\n",
              " | sqft_living_sqrt |  None |  1114.91071592   |  None  |\n",
              " |     sqft_lot     |  None | -0.0186630737228 |  None  |\n",
              " |  sqft_lot_sqrt   |  None |  142.519797841   |  None  |\n",
              " |      floors      |  None |  20545.8673047   |  None  |\n",
              " |  floors_square   |  None |  12339.2452502   |  None  |\n",
              " +------------------+-------+------------------+--------+\n",
              " [18 rows x 4 columns]\n",
              " Note: Only the head of the SFrame is printed.\n",
              " You can use print_rows(num_rows=m, num_columns=n) to print more rows and columns.,\n",
              " 162377673.91887242: Columns:\n",
              " \tname\tstr\n",
              " \tindex\tstr\n",
              " \tvalue\tfloat\n",
              " \tstderr\tfloat\n",
              " \n",
              " Rows: 18\n",
              " \n",
              " Data:\n",
              " +------------------+-------+------------------+--------+\n",
              " |       name       | index |      value       | stderr |\n",
              " +------------------+-------+------------------+--------+\n",
              " |   (intercept)    |  None |  28873.1810166   |  None  |\n",
              " |     bedrooms     |  None |  7691.04707569   |  None  |\n",
              " | bedrooms_square  |  None |  790.917579684   |  None  |\n",
              " |    bathrooms     |  None |  25115.2785345   |  None  |\n",
              " |   sqft_living    |  None |  38.9820788132   |  None  |\n",
              " | sqft_living_sqrt |  None |  1112.23941465   |  None  |\n",
              " |     sqft_lot     |  None | -0.0247373605808 |  None  |\n",
              " |  sqft_lot_sqrt   |  None |  140.945844751   |  None  |\n",
              " |      floors      |  None |  20365.2658969   |  None  |\n",
              " |  floors_square   |  None |  12181.1862577   |  None  |\n",
              " +------------------+-------+------------------+--------+\n",
              " [18 rows x 4 columns]\n",
              " Note: Only the head of the SFrame is printed.\n",
              " You can use print_rows(num_rows=m, num_columns=n) to print more rows and columns.,\n",
              " 206913808.111479: Columns:\n",
              " \tname\tstr\n",
              " \tindex\tstr\n",
              " \tvalue\tfloat\n",
              " \tstderr\tfloat\n",
              " \n",
              " Rows: 18\n",
              " \n",
              " Data:\n",
              " +------------------+-------+------------------+--------+\n",
              " |       name       | index |      value       | stderr |\n",
              " +------------------+-------+------------------+--------+\n",
              " |   (intercept)    |  None |  31564.6064733   |  None  |\n",
              " |     bedrooms     |  None |  7618.56776464   |  None  |\n",
              " | bedrooms_square  |  None |  750.170954883   |  None  |\n",
              " |    bathrooms     |  None |  25026.1774076   |  None  |\n",
              " |   sqft_living    |  None |  38.9359152531   |  None  |\n",
              " | sqft_living_sqrt |  None |  1108.38631937   |  None  |\n",
              " |     sqft_lot     |  None | -0.0177447627514 |  None  |\n",
              " |  sqft_lot_sqrt   |  None |  138.385325946   |  None  |\n",
              " |      floors      |  None |   20124.74672    |  None  |\n",
              " |  floors_square   |  None |  11975.4977617   |  None  |\n",
              " +------------------+-------+------------------+--------+\n",
              " [18 rows x 4 columns]\n",
              " Note: Only the head of the SFrame is printed.\n",
              " You can use print_rows(num_rows=m, num_columns=n) to print more rows and columns.,\n",
              " 263665089.87303555: Columns:\n",
              " \tname\tstr\n",
              " \tindex\tstr\n",
              " \tvalue\tfloat\n",
              " \tstderr\tfloat\n",
              " \n",
              " Rows: 18\n",
              " \n",
              " Data:\n",
              " +------------------+-------+---------------+--------+\n",
              " |       name       | index |     value     | stderr |\n",
              " +------------------+-------+---------------+--------+\n",
              " |   (intercept)    |  None | 34954.6717432 |  None  |\n",
              " |     bedrooms     |  None | 7515.37748215 |  None  |\n",
              " | bedrooms_square  |  None | 696.785359477 |  None  |\n",
              " |    bathrooms     |  None | 24894.5560924 |  None  |\n",
              " |   sqft_living    |  None |  38.856140639 |  None  |\n",
              " | sqft_living_sqrt |  None | 1102.50564365 |  None  |\n",
              " |     sqft_lot     |  None |      0.0      |  None  |\n",
              " |  sqft_lot_sqrt   |  None | 133.900307194 |  None  |\n",
              " |      floors      |  None | 19795.9303312 |  None  |\n",
              " |  floors_square   |  None | 11704.2280548 |  None  |\n",
              " +------------------+-------+---------------+--------+\n",
              " [18 rows x 4 columns]\n",
              " Note: Only the head of the SFrame is printed.\n",
              " You can use print_rows(num_rows=m, num_columns=n) to print more rows and columns.,\n",
              " 335981828.6283788: Columns:\n",
              " \tname\tstr\n",
              " \tindex\tstr\n",
              " \tvalue\tfloat\n",
              " \tstderr\tfloat\n",
              " \n",
              " Rows: 18\n",
              " \n",
              " Data:\n",
              " +------------------+-------+---------------+--------+\n",
              " |       name       | index |     value     | stderr |\n",
              " +------------------+-------+---------------+--------+\n",
              " |   (intercept)    |  None | 39314.6150486 |  None  |\n",
              " |     bedrooms     |  None | 7394.88288952 |  None  |\n",
              " | bedrooms_square  |  None | 630.253031222 |  None  |\n",
              " |    bathrooms     |  None | 24745.1217898 |  None  |\n",
              " |   sqft_living    |  None | 38.7755060169 |  None  |\n",
              " | sqft_living_sqrt |  None | 1095.99069713 |  None  |\n",
              " |     sqft_lot     |  None |      0.0      |  None  |\n",
              " |  sqft_lot_sqrt   |  None | 129.371608166 |  None  |\n",
              " |      floors      |  None | 19399.6670071 |  None  |\n",
              " |  floors_square   |  None | 11367.9574719 |  None  |\n",
              " +------------------+-------+---------------+--------+\n",
              " [18 rows x 4 columns]\n",
              " Note: Only the head of the SFrame is printed.\n",
              " You can use print_rows(num_rows=m, num_columns=n) to print more rows and columns.,\n",
              " 428133239.8719396: Columns:\n",
              " \tname\tstr\n",
              " \tindex\tstr\n",
              " \tvalue\tfloat\n",
              " \tstderr\tfloat\n",
              " \n",
              " Rows: 18\n",
              " \n",
              " Data:\n",
              " +------------------+-------+---------------+--------+\n",
              " |       name       | index |     value     | stderr |\n",
              " +------------------+-------+---------------+--------+\n",
              " |   (intercept)    |  None | 44909.3379183 |  None  |\n",
              " |     bedrooms     |  None | 7253.29314819 |  None  |\n",
              " | bedrooms_square  |  None | 547.592462374 |  None  |\n",
              " |    bathrooms     |  None | 24570.6858953 |  None  |\n",
              " |   sqft_living    |  None | 38.6822812723 |  None  |\n",
              " | sqft_living_sqrt |  None | 1088.38186842 |  None  |\n",
              " |     sqft_lot     |  None |      0.0      |  None  |\n",
              " |  sqft_lot_sqrt   |  None | 121.987113653 |  None  |\n",
              " |      floors      |  None | 18922.8216139 |  None  |\n",
              " |  floors_square   |  None | 10954.4718718 |  None  |\n",
              " +------------------+-------+---------------+--------+\n",
              " [18 rows x 4 columns]\n",
              " Note: Only the head of the SFrame is printed.\n",
              " You can use print_rows(num_rows=m, num_columns=n) to print more rows and columns.,\n",
              " 545559478.1168514: Columns:\n",
              " \tname\tstr\n",
              " \tindex\tstr\n",
              " \tvalue\tfloat\n",
              " \tstderr\tfloat\n",
              " \n",
              " Rows: 18\n",
              " \n",
              " Data:\n",
              " +------------------+-------+---------------+--------+\n",
              " |       name       | index |     value     | stderr |\n",
              " +------------------+-------+---------------+--------+\n",
              " |   (intercept)    |  None | 52030.0300806 |  None  |\n",
              " |     bedrooms     |  None | 7070.21661567 |  None  |\n",
              " | bedrooms_square  |  None | 441.775084091 |  None  |\n",
              " |    bathrooms     |  None |  24344.882055 |  None  |\n",
              " |   sqft_living    |  None |  38.561505028 |  None  |\n",
              " | sqft_living_sqrt |  None |  1078.536814  |  None  |\n",
              " |     sqft_lot     |  None |      0.0      |  None  |\n",
              " |  sqft_lot_sqrt   |  None | 112.959925773 |  None  |\n",
              " |      floors      |  None | 18308.8672364 |  None  |\n",
              " |  floors_square   |  None | 10424.1285297 |  None  |\n",
              " +------------------+-------+---------------+--------+\n",
              " [18 rows x 4 columns]\n",
              " Note: Only the head of the SFrame is printed.\n",
              " You can use print_rows(num_rows=m, num_columns=n) to print more rows and columns.,\n",
              " 695192796.1775591: Columns:\n",
              " \tname\tstr\n",
              " \tindex\tstr\n",
              " \tvalue\tfloat\n",
              " \tstderr\tfloat\n",
              " \n",
              " Rows: 18\n",
              " \n",
              " Data:\n",
              " +------------------+-------+---------------+--------+\n",
              " |       name       | index |     value     | stderr |\n",
              " +------------------+-------+---------------+--------+\n",
              " |   (intercept)    |  None | 61121.2820244 |  None  |\n",
              " |     bedrooms     |  None | 6842.36051556 |  None  |\n",
              " | bedrooms_square  |  None | 307.903660162 |  None  |\n",
              " |    bathrooms     |  None | 24063.6095875 |  None  |\n",
              " |   sqft_living    |  None | 38.4096473907 |  None  |\n",
              " | sqft_living_sqrt |  None | 1066.24937649 |  None  |\n",
              " |     sqft_lot     |  None |      0.0      |  None  |\n",
              " |  sqft_lot_sqrt   |  None | 100.193559291 |  None  |\n",
              " |      floors      |  None | 17539.4407831 |  None  |\n",
              " |  floors_square   |  None | 9755.40223411 |  None  |\n",
              " +------------------+-------+---------------+--------+\n",
              " [18 rows x 4 columns]\n",
              " Note: Only the head of the SFrame is printed.\n",
              " You can use print_rows(num_rows=m, num_columns=n) to print more rows and columns.,\n",
              " 885866790.4100832: Columns:\n",
              " \tname\tstr\n",
              " \tindex\tstr\n",
              " \tvalue\tfloat\n",
              " \tstderr\tfloat\n",
              " \n",
              " Rows: 18\n",
              " \n",
              " Data:\n",
              " +------------------+-------+---------------+--------+\n",
              " |       name       | index |     value     | stderr |\n",
              " +------------------+-------+---------------+--------+\n",
              " |   (intercept)    |  None | 72653.7628357 |  None  |\n",
              " |     bedrooms     |  None | 6537.49853878 |  None  |\n",
              " | bedrooms_square  |  None | 135.203648875 |  None  |\n",
              " |    bathrooms     |  None | 23681.2367227 |  None  |\n",
              " |   sqft_living    |  None | 38.1918646961 |  None  |\n",
              " | sqft_living_sqrt |  None | 1049.39149651 |  None  |\n",
              " |     sqft_lot     |  None |      0.0      |  None  |\n",
              " |  sqft_lot_sqrt   |  None | 83.2210162526 |  None  |\n",
              " |      floors      |  None | 16527.6347038 |  None  |\n",
              " |  floors_square   |  None | 8889.54463876 |  None  |\n",
              " +------------------+-------+---------------+--------+\n",
              " [18 rows x 4 columns]\n",
              " Note: Only the head of the SFrame is printed.\n",
              " You can use print_rows(num_rows=m, num_columns=n) to print more rows and columns.,\n",
              " 1128837891.6846883: Columns:\n",
              " \tname\tstr\n",
              " \tindex\tstr\n",
              " \tvalue\tfloat\n",
              " \tstderr\tfloat\n",
              " \n",
              " Rows: 18\n",
              " \n",
              " Data:\n",
              " +------------------+-------+---------------+--------+\n",
              " |       name       | index |     value     | stderr |\n",
              " +------------------+-------+---------------+--------+\n",
              " |   (intercept)    |  None | 87298.8276811 |  None  |\n",
              " |     bedrooms     |  None | 6137.40172251 |  None  |\n",
              " | bedrooms_square  |  None |      0.0      |  None  |\n",
              " |    bathrooms     |  None |  23168.695279 |  None  |\n",
              " |   sqft_living    |  None |  37.888523607 |  None  |\n",
              " | sqft_living_sqrt |  None | 1026.70969952 |  None  |\n",
              " |     sqft_lot     |  None |      0.0      |  None  |\n",
              " |  sqft_lot_sqrt   |  None | 60.0719852593 |  None  |\n",
              " |      floors      |  None | 15213.0294203 |  None  |\n",
              " |  floors_square   |  None | 7778.83538767 |  None  |\n",
              " +------------------+-------+---------------+--------+\n",
              " [18 rows x 4 columns]\n",
              " Note: Only the head of the SFrame is printed.\n",
              " You can use print_rows(num_rows=m, num_columns=n) to print more rows and columns.,\n",
              " 1438449888.2876658: Columns:\n",
              " \tname\tstr\n",
              " \tindex\tstr\n",
              " \tvalue\tfloat\n",
              " \tstderr\tfloat\n",
              " \n",
              " Rows: 18\n",
              " \n",
              " Data:\n",
              " +------------------+-------+---------------+--------+\n",
              " |       name       | index |     value     | stderr |\n",
              " +------------------+-------+---------------+--------+\n",
              " |   (intercept)    |  None | 105843.800016 |  None  |\n",
              " |     bedrooms     |  None | 5589.85410206 |  None  |\n",
              " | bedrooms_square  |  None |      0.0      |  None  |\n",
              " |    bathrooms     |  None | 22460.6559313 |  None  |\n",
              " |   sqft_living    |  None | 37.4484553711 |  None  |\n",
              " | sqft_living_sqrt |  None | 995.139815925 |  None  |\n",
              " |     sqft_lot     |  None |      0.0      |  None  |\n",
              " |  sqft_lot_sqrt   |  None | 29.0615219257 |  None  |\n",
              " |      floors      |  None | 13469.2490939 |  None  |\n",
              " |  floors_square   |  None | 6335.03673756 |  None  |\n",
              " +------------------+-------+---------------+--------+\n",
              " [18 rows x 4 columns]\n",
              " Note: Only the head of the SFrame is printed.\n",
              " You can use print_rows(num_rows=m, num_columns=n) to print more rows and columns.,\n",
              " 1832980710.8324375: Columns:\n",
              " \tname\tstr\n",
              " \tindex\tstr\n",
              " \tvalue\tfloat\n",
              " \tstderr\tfloat\n",
              " \n",
              " Rows: 18\n",
              " \n",
              " Data:\n",
              " +------------------+-------+---------------+--------+\n",
              " |       name       | index |     value     | stderr |\n",
              " +------------------+-------+---------------+--------+\n",
              " |   (intercept)    |  None | 129178.714228 |  None  |\n",
              " |     bedrooms     |  None | 4784.47090092 |  None  |\n",
              " | bedrooms_square  |  None |      0.0      |  None  |\n",
              " |    bathrooms     |  None | 21417.8224739 |  None  |\n",
              " |   sqft_living    |  None | 36.7460694226 |  None  |\n",
              " | sqft_living_sqrt |  None |  947.9643281  |  None  |\n",
              " |     sqft_lot     |  None |      0.0      |  None  |\n",
              " |  sqft_lot_sqrt   |  None |      0.0      |  None  |\n",
              " |      floors      |  None | 11067.1541719 |  None  |\n",
              " |  floors_square   |  None | 4415.50904975 |  None  |\n",
              " +------------------+-------+---------------+--------+\n",
              " [18 rows x 4 columns]\n",
              " Note: Only the head of the SFrame is printed.\n",
              " You can use print_rows(num_rows=m, num_columns=n) to print more rows and columns.,\n",
              " 2335721469.0901213: Columns:\n",
              " \tname\tstr\n",
              " \tindex\tstr\n",
              " \tvalue\tfloat\n",
              " \tstderr\tfloat\n",
              " \n",
              " Rows: 18\n",
              " \n",
              " Data:\n",
              " +------------------+-------+---------------+--------+\n",
              " |       name       | index |     value     | stderr |\n",
              " +------------------+-------+---------------+--------+\n",
              " |   (intercept)    |  None | 158796.200904 |  None  |\n",
              " |     bedrooms     |  None | 3707.13962925 |  None  |\n",
              " | bedrooms_square  |  None |      0.0      |  None  |\n",
              " |    bathrooms     |  None | 19985.9978368 |  None  |\n",
              " |   sqft_living    |  None | 35.6973978709 |  None  |\n",
              " | sqft_living_sqrt |  None | 882.788902805 |  None  |\n",
              " |     sqft_lot     |  None |      0.0      |  None  |\n",
              " |  sqft_lot_sqrt   |  None |      0.0      |  None  |\n",
              " |      floors      |  None |  7920.1252361 |  None  |\n",
              " |  floors_square   |  None | 1926.93051575 |  None  |\n",
              " +------------------+-------+---------------+--------+\n",
              " [18 rows x 4 columns]\n",
              " Note: Only the head of the SFrame is printed.\n",
              " You can use print_rows(num_rows=m, num_columns=n) to print more rows and columns.,\n",
              " 2976351441.6313133: Columns:\n",
              " \tname\tstr\n",
              " \tindex\tstr\n",
              " \tvalue\tfloat\n",
              " \tstderr\tfloat\n",
              " \n",
              " Rows: 18\n",
              " \n",
              " Data:\n",
              " +------------------+-------+---------------+--------+\n",
              " |       name       | index |     value     | stderr |\n",
              " +------------------+-------+---------------+--------+\n",
              " |   (intercept)    |  None | 196100.937806 |  None  |\n",
              " |     bedrooms     |  None | 2181.57432107 |  None  |\n",
              " | bedrooms_square  |  None |      0.0      |  None  |\n",
              " |    bathrooms     |  None | 17962.6966612 |  None  |\n",
              " |   sqft_living    |  None | 34.1424656512 |  None  |\n",
              " | sqft_living_sqrt |  None | 789.319789078 |  None  |\n",
              " |     sqft_lot     |  None |      0.0      |  None  |\n",
              " |  sqft_lot_sqrt   |  None |      0.0      |  None  |\n",
              " |      floors      |  None |  3665.9308176 |  None  |\n",
              " |  floors_square   |  None |      0.0      |  None  |\n",
              " +------------------+-------+---------------+--------+\n",
              " [18 rows x 4 columns]\n",
              " Note: Only the head of the SFrame is printed.\n",
              " You can use print_rows(num_rows=m, num_columns=n) to print more rows and columns.,\n",
              " 3792690190.7322536: Columns:\n",
              " \tname\tstr\n",
              " \tindex\tstr\n",
              " \tvalue\tfloat\n",
              " \tstderr\tfloat\n",
              " \n",
              " Rows: 18\n",
              " \n",
              " Data:\n",
              " +------------------+-------+---------------+--------+\n",
              " |       name       | index |     value     | stderr |\n",
              " +------------------+-------+---------------+--------+\n",
              " |   (intercept)    |  None |  240309.75932 |  None  |\n",
              " |     bedrooms     |  None |      0.0      |  None  |\n",
              " | bedrooms_square  |  None |      0.0      |  None  |\n",
              " |    bathrooms     |  None | 13840.6399577 |  None  |\n",
              " |   sqft_living    |  None | 30.5583588298 |  None  |\n",
              " | sqft_living_sqrt |  None | 592.199469213 |  None  |\n",
              " |     sqft_lot     |  None |      0.0      |  None  |\n",
              " |  sqft_lot_sqrt   |  None |      0.0      |  None  |\n",
              " |      floors      |  None |      0.0      |  None  |\n",
              " |  floors_square   |  None |      0.0      |  None  |\n",
              " +------------------+-------+---------------+--------+\n",
              " [18 rows x 4 columns]\n",
              " Note: Only the head of the SFrame is printed.\n",
              " You can use print_rows(num_rows=m, num_columns=n) to print more rows and columns.,\n",
              " 4832930238.571753: Columns:\n",
              " \tname\tstr\n",
              " \tindex\tstr\n",
              " \tvalue\tfloat\n",
              " \tstderr\tfloat\n",
              " \n",
              " Rows: 18\n",
              " \n",
              " Data:\n",
              " +------------------+-------+---------------+--------+\n",
              " |       name       | index |     value     | stderr |\n",
              " +------------------+-------+---------------+--------+\n",
              " |   (intercept)    |  None | 291783.678065 |  None  |\n",
              " |     bedrooms     |  None |      0.0      |  None  |\n",
              " | bedrooms_square  |  None |      0.0      |  None  |\n",
              " |    bathrooms     |  None | 6104.32576546 |  None  |\n",
              " |   sqft_living    |  None | 23.1701243021 |  None  |\n",
              " | sqft_living_sqrt |  None | 215.030934365 |  None  |\n",
              " |     sqft_lot     |  None |      0.0      |  None  |\n",
              " |  sqft_lot_sqrt   |  None |      0.0      |  None  |\n",
              " |      floors      |  None |      0.0      |  None  |\n",
              " |  floors_square   |  None |      0.0      |  None  |\n",
              " +------------------+-------+---------------+--------+\n",
              " [18 rows x 4 columns]\n",
              " Note: Only the head of the SFrame is printed.\n",
              " You can use print_rows(num_rows=m, num_columns=n) to print more rows and columns.,\n",
              " 6158482110.6602545: Columns:\n",
              " \tname\tstr\n",
              " \tindex\tstr\n",
              " \tvalue\tfloat\n",
              " \tstderr\tfloat\n",
              " \n",
              " Rows: 18\n",
              " \n",
              " Data:\n",
              " +------------------+-------+---------------+--------+\n",
              " |       name       | index |     value     | stderr |\n",
              " +------------------+-------+---------------+--------+\n",
              " |   (intercept)    |  None | 352383.220392 |  None  |\n",
              " |     bedrooms     |  None |      0.0      |  None  |\n",
              " | bedrooms_square  |  None |      0.0      |  None  |\n",
              " |    bathrooms     |  None |      0.0      |  None  |\n",
              " |   sqft_living    |  None | 11.5088257813 |  None  |\n",
              " | sqft_living_sqrt |  None |      0.0      |  None  |\n",
              " |     sqft_lot     |  None |      0.0      |  None  |\n",
              " |  sqft_lot_sqrt   |  None |      0.0      |  None  |\n",
              " |      floors      |  None |      0.0      |  None  |\n",
              " |  floors_square   |  None |      0.0      |  None  |\n",
              " +------------------+-------+---------------+--------+\n",
              " [18 rows x 4 columns]\n",
              " Note: Only the head of the SFrame is printed.\n",
              " You can use print_rows(num_rows=m, num_columns=n) to print more rows and columns.,\n",
              " 7847599703.514623: Columns:\n",
              " \tname\tstr\n",
              " \tindex\tstr\n",
              " \tvalue\tfloat\n",
              " \tstderr\tfloat\n",
              " \n",
              " Rows: 18\n",
              " \n",
              " Data:\n",
              " +------------------+-------+---------------+--------+\n",
              " |       name       | index |     value     | stderr |\n",
              " +------------------+-------+---------------+--------+\n",
              " |   (intercept)    |  None | 507987.962744 |  None  |\n",
              " |     bedrooms     |  None |      0.0      |  None  |\n",
              " | bedrooms_square  |  None |      0.0      |  None  |\n",
              " |    bathrooms     |  None |      0.0      |  None  |\n",
              " |   sqft_living    |  None |      0.0      |  None  |\n",
              " | sqft_living_sqrt |  None |      0.0      |  None  |\n",
              " |     sqft_lot     |  None |      0.0      |  None  |\n",
              " |  sqft_lot_sqrt   |  None |      0.0      |  None  |\n",
              " |      floors      |  None |      0.0      |  None  |\n",
              " |  floors_square   |  None |      0.0      |  None  |\n",
              " +------------------+-------+---------------+--------+\n",
              " [18 rows x 4 columns]\n",
              " Note: Only the head of the SFrame is printed.\n",
              " You can use print_rows(num_rows=m, num_columns=n) to print more rows and columns.,\n",
              " 10000000000.0: Columns:\n",
              " \tname\tstr\n",
              " \tindex\tstr\n",
              " \tvalue\tfloat\n",
              " \tstderr\tfloat\n",
              " \n",
              " Rows: 18\n",
              " \n",
              " Data:\n",
              " +------------------+-------+---------------+--------+\n",
              " |       name       | index |     value     | stderr |\n",
              " +------------------+-------+---------------+--------+\n",
              " |   (intercept)    |  None | 564482.136844 |  None  |\n",
              " |     bedrooms     |  None |      0.0      |  None  |\n",
              " | bedrooms_square  |  None |      0.0      |  None  |\n",
              " |    bathrooms     |  None |      0.0      |  None  |\n",
              " |   sqft_living    |  None |      0.0      |  None  |\n",
              " | sqft_living_sqrt |  None |      0.0      |  None  |\n",
              " |     sqft_lot     |  None |      0.0      |  None  |\n",
              " |  sqft_lot_sqrt   |  None |      0.0      |  None  |\n",
              " |      floors      |  None |      0.0      |  None  |\n",
              " |  floors_square   |  None |      0.0      |  None  |\n",
              " +------------------+-------+---------------+--------+\n",
              " [18 rows x 4 columns]\n",
              " Note: Only the head of the SFrame is printed.\n",
              " You can use print_rows(num_rows=m, num_columns=n) to print more rows and columns.}"
            ]
          },
          "metadata": {},
          "execution_count": 32
        }
      ]
    },
    {
      "cell_type": "markdown",
      "metadata": {
        "id": "B3MWG-mkModO"
      },
      "source": [
        "**12.** Out of this large range, we want to find the two ends of our desired narrow range of `l1_penalty`.  At one end, we will have `l1_penalty` values that have too few non-zeros, and at the other end, we will have an `l1_penalty` that has too many non-zeros.  \n",
        "\n",
        "More formally, find:\n",
        "* The largest `l1_penalty` that has more non-zeros than `max_nonzeros` (if we pick a penalty smaller than this value, we will definitely have too many non-zero weights)\n",
        "    * Store this value in the variable `l1_penalty_min` (we will use it later)\n",
        "* The smallest `l1_penalty` that has fewer non-zeros than `max_nonzeros` (if we pick a penalty larger than this value, we will definitely have too few non-zero weights)\n",
        "    * Store this value in the variable `l1_penalty_max` (we will use it later)\n",
        "\n",
        "\n",
        "*Hint: there are many ways to do this, e.g.:*\n",
        "* Programmatically within the loop above\n",
        "* Creating a list with the number of non-zeros for each value of `l1_penalty` and inspecting it to find the appropriate boundaries."
      ]
    },
    {
      "cell_type": "code",
      "metadata": {
        "id": "-_yVyIi8ModP"
      },
      "source": [
        "l1_penalty_min = 2976351441.6313128\n",
        "l1_penalty_max = 3792690190.7322536"
      ],
      "execution_count": null,
      "outputs": []
    },
    {
      "cell_type": "markdown",
      "metadata": {
        "id": "SSMR__REModQ"
      },
      "source": [
        "***13. QUIZ QUESTION.*** What values did you find for `l1_penalty_min` and `l1_penalty_max`, respectively? "
      ]
    },
    {
      "cell_type": "markdown",
      "metadata": {
        "id": "7xpaQTVRModS"
      },
      "source": [
        "## 14. Exploring the narrow range of values to find the solution with the right number of non-zeros that has lowest RSS on the validation set \n",
        "\n",
        "We will now explore the narrow region of `l1_penalty` values we found:"
      ]
    },
    {
      "cell_type": "code",
      "metadata": {
        "id": "TGWej7KeModT"
      },
      "source": [
        "l1_penalty_values = np.linspace(l1_penalty_min,l1_penalty_max,20)"
      ],
      "execution_count": null,
      "outputs": []
    },
    {
      "cell_type": "markdown",
      "metadata": {
        "id": "ArxtFj75ModU"
      },
      "source": [
        "* For `l1_penalty` in `np.linspace(l1_penalty_min,l1_penalty_max,20)`:\n",
        "    * Fit a regression model with a given `l1_penalty` on TRAIN data. Specify `l1_penalty=l1_penalty` and `l2_penalty=0.` in the parameter list. When you call `linear_regression.create()` make sure you set `validation_set = None`\n",
        "    * Measure the RSS of the learned model on the VALIDATION set\n",
        "\n",
        "Find the model that the lowest RSS on the VALIDATION set and has sparsity *equal* to `max_nonzeros`."
      ]
    },
    {
      "cell_type": "code",
      "metadata": {
        "id": "8fl83ci9ModV"
      },
      "source": [
        "validation_rss = {}\n",
        "for l1_penalty in l1_penalty_values:\n",
        "    model = turicreate.linear_regression.create(training, target='price', features=all_features,\n",
        "                                              validation_set=None, verbose = False,\n",
        "                                              l2_penalty=0., l1_penalty=l1_penalty)\n",
        "    predictions = model.predict(validation)\n",
        "    residuals = validation['price'] - predictions\n",
        "    rss = sum(residuals**2)\n",
        "    validation_rss[l1_penalty] = rss, model.coefficients #['coefficients']['value'].nnz()"
      ],
      "execution_count": null,
      "outputs": []
    },
    {
      "cell_type": "code",
      "metadata": {
        "colab": {
          "base_uri": "https://localhost:8080/",
          "height": 351
        },
        "id": "bccVQ6cvXNt5",
        "outputId": "1661e3a5-d761-4c8b-a2d9-ce3dc60aa255"
      },
      "source": [
        "for k,v in validation_rss.iteritems():    \n",
        "    if (v[1] == max_nonzeros) and (v[0] < bestRSS):\n",
        "        bestRSS = v[0]\n",
        "        bestl1 = k\n",
        "        \n",
        "print bestRSS, bestl1"
      ],
      "execution_count": null,
      "outputs": [
        {
          "output_type": "error",
          "ename": "NotImplementedError",
          "evalue": "ignored",
          "traceback": [
            "\u001b[0;31m\u001b[0m",
            "\u001b[0;31mNotImplementedError\u001b[0mTraceback (most recent call last)",
            "\u001b[0;32m<ipython-input-37-bfd0211c0a2d>\u001b[0m in \u001b[0;36m<module>\u001b[0;34m()\u001b[0m\n\u001b[1;32m      1\u001b[0m \u001b[0;32mfor\u001b[0m \u001b[0mk\u001b[0m\u001b[0;34m,\u001b[0m\u001b[0mv\u001b[0m \u001b[0;32min\u001b[0m \u001b[0mvalidation_rss\u001b[0m\u001b[0;34m.\u001b[0m\u001b[0miteritems\u001b[0m\u001b[0;34m(\u001b[0m\u001b[0;34m)\u001b[0m\u001b[0;34m:\u001b[0m\u001b[0;34m\u001b[0m\u001b[0m\n\u001b[0;32m----> 2\u001b[0;31m     \u001b[0;32mif\u001b[0m \u001b[0;34m(\u001b[0m\u001b[0mv\u001b[0m\u001b[0;34m[\u001b[0m\u001b[0;36m1\u001b[0m\u001b[0;34m]\u001b[0m \u001b[0;34m==\u001b[0m \u001b[0mmax_nonzeros\u001b[0m\u001b[0;34m)\u001b[0m \u001b[0;32mand\u001b[0m \u001b[0;34m(\u001b[0m\u001b[0mv\u001b[0m\u001b[0;34m[\u001b[0m\u001b[0;36m0\u001b[0m\u001b[0;34m]\u001b[0m \u001b[0;34m<\u001b[0m \u001b[0mbestRSS\u001b[0m\u001b[0;34m)\u001b[0m\u001b[0;34m:\u001b[0m\u001b[0;34m\u001b[0m\u001b[0m\n\u001b[0m\u001b[1;32m      3\u001b[0m         \u001b[0mbestRSS\u001b[0m \u001b[0;34m=\u001b[0m \u001b[0mv\u001b[0m\u001b[0;34m[\u001b[0m\u001b[0;36m0\u001b[0m\u001b[0;34m]\u001b[0m\u001b[0;34m\u001b[0m\u001b[0m\n\u001b[1;32m      4\u001b[0m         \u001b[0mbestl1\u001b[0m \u001b[0;34m=\u001b[0m \u001b[0mk\u001b[0m\u001b[0;34m\u001b[0m\u001b[0m\n\u001b[1;32m      5\u001b[0m \u001b[0;34m\u001b[0m\u001b[0m\n",
            "\u001b[0;32m/usr/local/lib/python2.7/dist-packages/turicreate/data_structures/sframe.pyc\u001b[0m in \u001b[0;36m__eq__\u001b[0;34m(self, other)\u001b[0m\n\u001b[1;32m   2450\u001b[0m \u001b[0;34m\u001b[0m\u001b[0m\n\u001b[1;32m   2451\u001b[0m     \u001b[0;32mdef\u001b[0m \u001b[0m__eq__\u001b[0m\u001b[0;34m(\u001b[0m\u001b[0mself\u001b[0m\u001b[0;34m,\u001b[0m \u001b[0mother\u001b[0m\u001b[0;34m)\u001b[0m\u001b[0;34m:\u001b[0m\u001b[0;34m\u001b[0m\u001b[0m\n\u001b[0;32m-> 2452\u001b[0;31m         \u001b[0;32mraise\u001b[0m \u001b[0mNotImplementedError\u001b[0m\u001b[0;34m\u001b[0m\u001b[0m\n\u001b[0m\u001b[1;32m   2453\u001b[0m \u001b[0;34m\u001b[0m\u001b[0m\n\u001b[1;32m   2454\u001b[0m     \u001b[0;32mdef\u001b[0m \u001b[0m__ne__\u001b[0m\u001b[0;34m(\u001b[0m\u001b[0mself\u001b[0m\u001b[0;34m,\u001b[0m \u001b[0mother\u001b[0m\u001b[0;34m)\u001b[0m\u001b[0;34m:\u001b[0m\u001b[0;34m\u001b[0m\u001b[0m\n",
            "\u001b[0;31mNotImplementedError\u001b[0m: "
          ]
        }
      ]
    },
    {
      "cell_type": "code",
      "metadata": {
        "colab": {
          "base_uri": "https://localhost:8080/",
          "height": 334
        },
        "id": "BGyZmMxJXdrj",
        "outputId": "e957d1c7-f981-4544-e4b8-5971fc21115f"
      },
      "source": [
        "for k,v in validation_rss.iteritems():\n",
        "    if (v[1] == max_nonzeros) and (v[0] < bestRSS):\n",
        "        bestRSS = v[0]\n",
        "        print k, bestRSS"
      ],
      "execution_count": null,
      "outputs": [
        {
          "output_type": "error",
          "ename": "NotImplementedError",
          "evalue": "ignored",
          "traceback": [
            "\u001b[0;31m\u001b[0m",
            "\u001b[0;31mNotImplementedError\u001b[0mTraceback (most recent call last)",
            "\u001b[0;32m<ipython-input-38-5df1e0307fc6>\u001b[0m in \u001b[0;36m<module>\u001b[0;34m()\u001b[0m\n\u001b[1;32m      1\u001b[0m \u001b[0;32mfor\u001b[0m \u001b[0mk\u001b[0m\u001b[0;34m,\u001b[0m\u001b[0mv\u001b[0m \u001b[0;32min\u001b[0m \u001b[0mvalidation_rss\u001b[0m\u001b[0;34m.\u001b[0m\u001b[0miteritems\u001b[0m\u001b[0;34m(\u001b[0m\u001b[0;34m)\u001b[0m\u001b[0;34m:\u001b[0m\u001b[0;34m\u001b[0m\u001b[0m\n\u001b[0;32m----> 2\u001b[0;31m     \u001b[0;32mif\u001b[0m \u001b[0;34m(\u001b[0m\u001b[0mv\u001b[0m\u001b[0;34m[\u001b[0m\u001b[0;36m1\u001b[0m\u001b[0;34m]\u001b[0m \u001b[0;34m==\u001b[0m \u001b[0mmax_nonzeros\u001b[0m\u001b[0;34m)\u001b[0m \u001b[0;32mand\u001b[0m \u001b[0;34m(\u001b[0m\u001b[0mv\u001b[0m\u001b[0;34m[\u001b[0m\u001b[0;36m0\u001b[0m\u001b[0;34m]\u001b[0m \u001b[0;34m<\u001b[0m \u001b[0mbestRSS\u001b[0m\u001b[0;34m)\u001b[0m\u001b[0;34m:\u001b[0m\u001b[0;34m\u001b[0m\u001b[0m\n\u001b[0m\u001b[1;32m      3\u001b[0m         \u001b[0mbestRSS\u001b[0m \u001b[0;34m=\u001b[0m \u001b[0mv\u001b[0m\u001b[0;34m[\u001b[0m\u001b[0;36m0\u001b[0m\u001b[0;34m]\u001b[0m\u001b[0;34m\u001b[0m\u001b[0m\n\u001b[1;32m      4\u001b[0m         \u001b[0;32mprint\u001b[0m \u001b[0mk\u001b[0m\u001b[0;34m,\u001b[0m \u001b[0mbestRSS\u001b[0m\u001b[0;34m\u001b[0m\u001b[0m\n",
            "\u001b[0;32m/usr/local/lib/python2.7/dist-packages/turicreate/data_structures/sframe.pyc\u001b[0m in \u001b[0;36m__eq__\u001b[0;34m(self, other)\u001b[0m\n\u001b[1;32m   2450\u001b[0m \u001b[0;34m\u001b[0m\u001b[0m\n\u001b[1;32m   2451\u001b[0m     \u001b[0;32mdef\u001b[0m \u001b[0m__eq__\u001b[0m\u001b[0;34m(\u001b[0m\u001b[0mself\u001b[0m\u001b[0;34m,\u001b[0m \u001b[0mother\u001b[0m\u001b[0;34m)\u001b[0m\u001b[0;34m:\u001b[0m\u001b[0;34m\u001b[0m\u001b[0m\n\u001b[0;32m-> 2452\u001b[0;31m         \u001b[0;32mraise\u001b[0m \u001b[0mNotImplementedError\u001b[0m\u001b[0;34m\u001b[0m\u001b[0m\n\u001b[0m\u001b[1;32m   2453\u001b[0m \u001b[0;34m\u001b[0m\u001b[0m\n\u001b[1;32m   2454\u001b[0m     \u001b[0;32mdef\u001b[0m \u001b[0m__ne__\u001b[0m\u001b[0;34m(\u001b[0m\u001b[0mself\u001b[0m\u001b[0;34m,\u001b[0m \u001b[0mother\u001b[0m\u001b[0;34m)\u001b[0m\u001b[0;34m:\u001b[0m\u001b[0;34m\u001b[0m\u001b[0m\n",
            "\u001b[0;31mNotImplementedError\u001b[0m: "
          ]
        }
      ]
    },
    {
      "cell_type": "markdown",
      "metadata": {
        "id": "uNehO6EwModV"
      },
      "source": [
        "***QUIZ QUESTIONS***\n",
        "\n",
        "**15.** What value of `l1_penalty` in our narrow range has the lowest RSS on the VALIDATION set and has sparsity *equal* to `max_nonzeros`?\n",
        "\n",
        "**16.** What features in this model have non-zero coefficients?"
      ]
    },
    {
      "cell_type": "code",
      "metadata": {
        "id": "VKl6bzMAModW"
      },
      "source": [
        "model = turicreate.linear_regression.create(training, target='price', features=all_features,\n",
        "                                              validation_set=None, verbose = False,\n",
        "                                              l2_penalty=0., l1_penalty=3448968612.16)"
      ],
      "execution_count": null,
      "outputs": []
    },
    {
      "cell_type": "code",
      "metadata": {
        "id": "PSz4K58uX4ke",
        "colab": {
          "base_uri": "https://localhost:8080/"
        },
        "outputId": "759929cc-0380-405e-fd09-6fb51be542bf"
      },
      "source": [
        "non_zero_weight_test = model.coefficients #[\"coefficients\"][model[\"coefficients\"][\"value\"] > 0]\n",
        "non_zero_weight_test.print_rows(num_rows=8)"
      ],
      "execution_count": null,
      "outputs": [
        {
          "output_type": "stream",
          "text": [
            "+------------------+-------+---------------+--------+\n",
            "|       name       | index |     value     | stderr |\n",
            "+------------------+-------+---------------+--------+\n",
            "|   (intercept)    |  None | 222253.192544 |  None  |\n",
            "|     bedrooms     |  None | 661.722717782 |  None  |\n",
            "| bedrooms_square  |  None |      0.0      |  None  |\n",
            "|    bathrooms     |  None | 15873.9572593 |  None  |\n",
            "|   sqft_living    |  None | 32.4102214513 |  None  |\n",
            "| sqft_living_sqrt |  None | 690.114773313 |  None  |\n",
            "|     sqft_lot     |  None |      0.0      |  None  |\n",
            "|  sqft_lot_sqrt   |  None |      0.0      |  None  |\n",
            "+------------------+-------+---------------+--------+\n",
            "[18 rows x 4 columns]\n",
            "\n"
          ],
          "name": "stdout"
        }
      ]
    }
  ]
}