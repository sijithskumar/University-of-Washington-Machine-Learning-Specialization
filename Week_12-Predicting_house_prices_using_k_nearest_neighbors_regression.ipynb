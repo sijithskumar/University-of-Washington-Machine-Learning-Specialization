{
  "nbformat": 4,
  "nbformat_minor": 0,
  "metadata": {
    "kernelspec": {
      "display_name": "Python 2",
      "language": "python",
      "name": "python2"
    },
    "language_info": {
      "codemirror_mode": {
        "name": "ipython",
        "version": 2
      },
      "file_extension": ".py",
      "mimetype": "text/x-python",
      "name": "python",
      "nbconvert_exporter": "python",
      "pygments_lexer": "ipython2",
      "version": "2.7.15"
    },
    "colab": {
      "name": "Predicting house prices using k-nearest neighbors regression_REG06-NB01.ipynb",
      "provenance": []
    }
  },
  "cells": [
    {
      "cell_type": "markdown",
      "metadata": {
        "id": "yQnPeFAbPUxC"
      },
      "source": [
        "# Predicting house prices using k-nearest neighbors regression\n",
        "In this notebook, you will implement k-nearest neighbors regression. You will:\n",
        "  * Find the k-nearest neighbors of a given query input\n",
        "  * Predict the output for the query input using the k-nearest neighbors\n",
        "  * Choose the best value of k using a validation set"
      ]
    },
    {
      "cell_type": "markdown",
      "metadata": {
        "id": "I-re2G4dPUxX"
      },
      "source": [
        "# 1. Fire up Turi Create"
      ]
    },
    {
      "cell_type": "code",
      "metadata": {
        "colab": {
          "base_uri": "https://localhost:8080/",
          "height": 1000
        },
        "id": "Ts_PBBidPZ99",
        "outputId": "8d4bca79-f937-430a-b810-3cf25f62a4f2"
      },
      "source": [
        "pip install turicreate"
      ],
      "execution_count": null,
      "outputs": [
        {
          "output_type": "stream",
          "text": [
            "Collecting turicreate\n",
            "\u001b[?25l  Downloading https://files.pythonhosted.org/packages/75/38/77a081ce35f012bd4789551db9e5196e766a2641cb05114ded9cc268182c/turicreate-6.4.1-cp27-cp27mu-manylinux1_x86_64.whl (91.9MB)\n",
            "\u001b[K     |████████████████████████████████| 91.9MB 96kB/s \n",
            "\u001b[?25hCollecting pillow>=5.2.0\n",
            "\u001b[?25l  Downloading https://files.pythonhosted.org/packages/12/ad/61f8dfba88c4e56196bf6d056cdbba64dc9c5dfdfbc97d02e6472feed913/Pillow-6.2.2-cp27-cp27mu-manylinux1_x86_64.whl (2.1MB)\n",
            "\u001b[K     |████████████████████████████████| 2.1MB 65.4MB/s \n",
            "\u001b[?25hRequirement already satisfied: numpy in /usr/local/lib/python2.7/dist-packages (from turicreate) (1.16.4)\n",
            "Requirement already satisfied: requests>=2.9.1 in /usr/local/lib/python2.7/dist-packages (from turicreate) (2.23.0)\n",
            "Collecting tensorflow<2.1.0,>=2.0.0\n",
            "\u001b[?25l  Downloading https://files.pythonhosted.org/packages/17/08/1ff15637a03b1565dd6cb0916b3ca6873db3a1fc69be0ed851be936e5633/tensorflow-2.0.0-cp27-cp27mu-manylinux2010_x86_64.whl (86.3MB)\n",
            "\u001b[K     |████████████████████████████████| 86.3MB 37kB/s \n",
            "\u001b[?25hRequirement already satisfied: prettytable==0.7.2 in /usr/local/lib/python2.7/dist-packages (from turicreate) (0.7.2)\n",
            "Collecting llvmlite==0.31.0\n",
            "\u001b[?25l  Downloading https://files.pythonhosted.org/packages/91/07/90cd9cdd43b287960b16dbf7929bff2267dc0b6647e8e0117a4937b19620/llvmlite-0.31.0-cp27-cp27mu-manylinux1_x86_64.whl (20.2MB)\n",
            "\u001b[K     |████████████████████████████████| 20.2MB 1.1MB/s \n",
            "\u001b[?25hRequirement already satisfied: pandas>=0.23.2 in /usr/local/lib/python2.7/dist-packages (from turicreate) (0.24.2)\n",
            "Requirement already satisfied: decorator>=4.0.9 in /usr/local/lib/python2.7/dist-packages (from turicreate) (4.4.0)\n",
            "Requirement already satisfied: scipy>=1.1.0 in /usr/local/lib/python2.7/dist-packages (from turicreate) (1.2.2)\n",
            "Requirement already satisfied: six>=1.10.0 in /usr/local/lib/python2.7/dist-packages (from turicreate) (1.15.0)\n",
            "Requirement already satisfied: resampy==0.2.1 in /usr/local/lib/python2.7/dist-packages (from turicreate) (0.2.1)\n",
            "Requirement already satisfied: numba<0.51.0 in /usr/local/lib/python2.7/dist-packages (from turicreate) (0.40.1)\n",
            "Collecting coremltools==3.3\n",
            "\u001b[?25l  Downloading https://files.pythonhosted.org/packages/46/9b/f6feac5d9369c68ee718d3c3140435452773a36ff08ef3bcc4fe378e8676/coremltools-3.3-cp27-none-manylinux1_x86_64.whl (3.4MB)\n",
            "\u001b[K     |████████████████████████████████| 3.4MB 51.6MB/s \n",
            "\u001b[?25hRequirement already satisfied: urllib3!=1.25.0,!=1.25.1,<1.26,>=1.21.1 in /usr/local/lib/python2.7/dist-packages (from requests>=2.9.1->turicreate) (1.24.3)\n",
            "Requirement already satisfied: chardet<4,>=3.0.2 in /usr/local/lib/python2.7/dist-packages (from requests>=2.9.1->turicreate) (3.0.4)\n",
            "Requirement already satisfied: certifi>=2017.4.17 in /usr/local/lib/python2.7/dist-packages (from requests>=2.9.1->turicreate) (2019.6.16)\n",
            "Requirement already satisfied: idna<3,>=2.5 in /usr/local/lib/python2.7/dist-packages (from requests>=2.9.1->turicreate) (2.8)\n",
            "Requirement already satisfied: gast==0.2.2 in /usr/local/lib/python2.7/dist-packages (from tensorflow<2.1.0,>=2.0.0->turicreate) (0.2.2)\n",
            "Requirement already satisfied: grpcio>=1.8.6 in /usr/local/lib/python2.7/dist-packages (from tensorflow<2.1.0,>=2.0.0->turicreate) (1.15.0)\n",
            "Collecting tensorboard<2.1.0,>=2.0.0\n",
            "\u001b[?25l  Downloading https://files.pythonhosted.org/packages/a7/3d/993131c622ae34f9401a81526853f2310a4834bd042420a7982fb5bc5fd0/tensorboard-2.0.2-py2-none-any.whl (3.8MB)\n",
            "\u001b[K     |████████████████████████████████| 3.8MB 55.0MB/s \n",
            "\u001b[?25hRequirement already satisfied: wrapt>=1.11.1 in /usr/local/lib/python2.7/dist-packages (from tensorflow<2.1.0,>=2.0.0->turicreate) (1.11.2)\n",
            "Requirement already satisfied: protobuf>=3.6.1 in /usr/local/lib/python2.7/dist-packages (from tensorflow<2.1.0,>=2.0.0->turicreate) (3.8.0)\n",
            "Requirement already satisfied: keras-preprocessing>=1.0.5 in /usr/local/lib/python2.7/dist-packages (from tensorflow<2.1.0,>=2.0.0->turicreate) (1.1.0)\n",
            "Requirement already satisfied: backports.weakref>=1.0rc1; python_version < \"3.4\" in /usr/local/lib/python2.7/dist-packages (from tensorflow<2.1.0,>=2.0.0->turicreate) (1.0.post1)\n",
            "Requirement already satisfied: keras-applications>=1.0.8 in /usr/local/lib/python2.7/dist-packages (from tensorflow<2.1.0,>=2.0.0->turicreate) (1.0.8)\n",
            "Requirement already satisfied: wheel in /usr/local/lib/python2.7/dist-packages (from tensorflow<2.1.0,>=2.0.0->turicreate) (0.37.0)\n",
            "Requirement already satisfied: functools32>=3.2.3 in /usr/local/lib/python2.7/dist-packages (from tensorflow<2.1.0,>=2.0.0->turicreate) (3.2.3.post2)\n",
            "Requirement already satisfied: mock>=2.0.0 in /usr/local/lib/python2.7/dist-packages (from tensorflow<2.1.0,>=2.0.0->turicreate) (2.0.0)\n",
            "Requirement already satisfied: absl-py>=0.7.0 in /usr/local/lib/python2.7/dist-packages (from tensorflow<2.1.0,>=2.0.0->turicreate) (0.7.1)\n",
            "Requirement already satisfied: opt-einsum>=2.3.2 in /usr/local/lib/python2.7/dist-packages (from tensorflow<2.1.0,>=2.0.0->turicreate) (2.3.2)\n",
            "Requirement already satisfied: termcolor>=1.1.0 in /usr/local/lib/python2.7/dist-packages (from tensorflow<2.1.0,>=2.0.0->turicreate) (1.1.0)\n",
            "Requirement already satisfied: google-pasta>=0.1.6 in /usr/local/lib/python2.7/dist-packages (from tensorflow<2.1.0,>=2.0.0->turicreate) (0.1.7)\n",
            "Requirement already satisfied: enum34>=1.1.6; python_version < \"3.4\" in /usr/local/lib/python2.7/dist-packages (from tensorflow<2.1.0,>=2.0.0->turicreate) (1.1.6)\n",
            "Collecting tensorflow-estimator<2.1.0,>=2.0.0\n",
            "\u001b[?25l  Downloading https://files.pythonhosted.org/packages/fc/08/8b927337b7019c374719145d1dceba21a8bb909b93b1ad6f8fb7d22c1ca1/tensorflow_estimator-2.0.1-py2.py3-none-any.whl (449kB)\n",
            "\u001b[K     |████████████████████████████████| 450kB 65.1MB/s \n",
            "\u001b[?25hRequirement already satisfied: astor>=0.6.0 in /usr/local/lib/python2.7/dist-packages (from tensorflow<2.1.0,>=2.0.0->turicreate) (0.8.1)\n",
            "Requirement already satisfied: pytz>=2011k in /usr/local/lib/python2.7/dist-packages (from pandas>=0.23.2->turicreate) (2018.9)\n",
            "Requirement already satisfied: python-dateutil>=2.5.0 in /usr/local/lib/python2.7/dist-packages (from pandas>=0.23.2->turicreate) (2.5.3)\n",
            "Requirement already satisfied: funcsigs in /usr/local/lib/python2.7/dist-packages (from numba<0.51.0->turicreate) (1.0.2)\n",
            "Requirement already satisfied: singledispatch in /usr/local/lib/python2.7/dist-packages (from numba<0.51.0->turicreate) (3.4.0.3)\n",
            "Requirement already satisfied: futures>=2.2.0 in /usr/local/lib/python2.7/dist-packages (from grpcio>=1.8.6->tensorflow<2.1.0,>=2.0.0->turicreate) (3.2.0)\n",
            "Requirement already satisfied: setuptools>=41.0.0 in /usr/local/lib/python2.7/dist-packages (from tensorboard<2.1.0,>=2.0.0->tensorflow<2.1.0,>=2.0.0->turicreate) (44.1.1)\n",
            "Collecting google-auth-oauthlib<0.5,>=0.4.1\n",
            "  Downloading https://files.pythonhosted.org/packages/7b/b8/88def36e74bee9fce511c9519571f4e485e890093ab7442284f4ffaef60b/google_auth_oauthlib-0.4.1-py2.py3-none-any.whl\n",
            "Requirement already satisfied: werkzeug>=0.11.15 in /usr/local/lib/python2.7/dist-packages (from tensorboard<2.1.0,>=2.0.0->tensorflow<2.1.0,>=2.0.0->turicreate) (0.15.5)\n",
            "Requirement already satisfied: google-auth<2,>=1.6.3 in /usr/local/lib/python2.7/dist-packages (from tensorboard<2.1.0,>=2.0.0->tensorflow<2.1.0,>=2.0.0->turicreate) (1.35.0)\n",
            "Requirement already satisfied: markdown>=2.6.8 in /usr/local/lib/python2.7/dist-packages (from tensorboard<2.1.0,>=2.0.0->tensorflow<2.1.0,>=2.0.0->turicreate) (3.1.1)\n",
            "Requirement already satisfied: h5py in /usr/local/lib/python2.7/dist-packages (from keras-applications>=1.0.8->tensorflow<2.1.0,>=2.0.0->turicreate) (2.8.0)\n",
            "Requirement already satisfied: pbr>=0.11 in /usr/local/lib/python2.7/dist-packages (from mock>=2.0.0->tensorflow<2.1.0,>=2.0.0->turicreate) (5.4.0)\n",
            "Requirement already satisfied: requests-oauthlib>=0.7.0 in /usr/local/lib/python2.7/dist-packages (from google-auth-oauthlib<0.5,>=0.4.1->tensorboard<2.1.0,>=2.0.0->tensorflow<2.1.0,>=2.0.0->turicreate) (1.2.0)\n",
            "Requirement already satisfied: cachetools<5.0,>=2.0.0 in /usr/local/lib/python2.7/dist-packages (from google-auth<2,>=1.6.3->tensorboard<2.1.0,>=2.0.0->tensorflow<2.1.0,>=2.0.0->turicreate) (3.1.1)\n",
            "Requirement already satisfied: pyasn1-modules>=0.2.1 in /usr/local/lib/python2.7/dist-packages (from google-auth<2,>=1.6.3->tensorboard<2.1.0,>=2.0.0->tensorflow<2.1.0,>=2.0.0->turicreate) (0.2.5)\n",
            "Requirement already satisfied: rsa<4.6; python_version < \"3.6\" in /usr/local/lib/python2.7/dist-packages (from google-auth<2,>=1.6.3->tensorboard<2.1.0,>=2.0.0->tensorflow<2.1.0,>=2.0.0->turicreate) (4.0)\n",
            "Requirement already satisfied: oauthlib>=3.0.0 in /usr/local/lib/python2.7/dist-packages (from requests-oauthlib>=0.7.0->google-auth-oauthlib<0.5,>=0.4.1->tensorboard<2.1.0,>=2.0.0->tensorflow<2.1.0,>=2.0.0->turicreate) (3.0.2)\n",
            "Requirement already satisfied: pyasn1<0.5.0,>=0.4.1 in /usr/local/lib/python2.7/dist-packages (from pyasn1-modules>=0.2.1->google-auth<2,>=1.6.3->tensorboard<2.1.0,>=2.0.0->tensorflow<2.1.0,>=2.0.0->turicreate) (0.4.5)\n",
            "\u001b[31mERROR: fastai 0.7.0 has requirement torch<0.4, but you'll have torch 1.4.0 which is incompatible.\u001b[0m\n",
            "\u001b[31mERROR: tensorboard 2.0.2 has requirement grpcio>=1.24.3, but you'll have grpcio 1.15.0 which is incompatible.\u001b[0m\n",
            "Installing collected packages: pillow, google-auth-oauthlib, tensorboard, tensorflow-estimator, tensorflow, llvmlite, coremltools, turicreate\n",
            "  Found existing installation: Pillow 4.3.0\n",
            "    Uninstalling Pillow-4.3.0:\n",
            "      Successfully uninstalled Pillow-4.3.0\n",
            "  Found existing installation: google-auth-oauthlib 0.4.0\n",
            "    Uninstalling google-auth-oauthlib-0.4.0:\n",
            "      Successfully uninstalled google-auth-oauthlib-0.4.0\n",
            "  Found existing installation: tensorboard 2.1.0\n",
            "    Uninstalling tensorboard-2.1.0:\n",
            "      Successfully uninstalled tensorboard-2.1.0\n",
            "  Found existing installation: tensorflow-estimator 1.15.0\n",
            "    Uninstalling tensorflow-estimator-1.15.0:\n",
            "      Successfully uninstalled tensorflow-estimator-1.15.0\n",
            "  Found existing installation: tensorflow 2.1.0\n",
            "    Uninstalling tensorflow-2.1.0:\n",
            "      Successfully uninstalled tensorflow-2.1.0\n",
            "  Found existing installation: llvmlite 0.29.0\n",
            "    Uninstalling llvmlite-0.29.0:\n",
            "      Successfully uninstalled llvmlite-0.29.0\n",
            "Successfully installed coremltools-3.3 google-auth-oauthlib-0.4.1 llvmlite-0.31.0 pillow-6.2.2 tensorboard-2.0.2 tensorflow-2.0.0 tensorflow-estimator-2.0.1 turicreate-6.4.1\n"
          ],
          "name": "stdout"
        },
        {
          "output_type": "display_data",
          "data": {
            "application/vnd.colab-display-data+json": {
              "pip_warning": {
                "packages": [
                  "PIL"
                ]
              }
            }
          },
          "metadata": {}
        }
      ]
    },
    {
      "cell_type": "code",
      "metadata": {
        "id": "SFI3LlFLPUxb"
      },
      "source": [
        "import turicreate"
      ],
      "execution_count": null,
      "outputs": []
    },
    {
      "cell_type": "markdown",
      "metadata": {
        "id": "DsF5Lu9IPUxg"
      },
      "source": [
        "# Load in house sales data"
      ]
    },
    {
      "cell_type": "markdown",
      "metadata": {
        "id": "3W3pNnmYPUxi"
      },
      "source": [
        "For this notebook, we use a subset of the King County housing dataset created by randomly selecting 40% of the houses in the full dataset."
      ]
    },
    {
      "cell_type": "code",
      "metadata": {
        "colab": {
          "base_uri": "https://localhost:8080/"
        },
        "id": "QZ_zzv4wQTcd",
        "outputId": "15abc9d6-7ce2-4912-91e3-a217b581250f"
      },
      "source": [
        "from google.colab import drive\n",
        "drive.mount ('/content/gdrive')"
      ],
      "execution_count": null,
      "outputs": [
        {
          "output_type": "stream",
          "text": [
            "Mounted at /content/gdrive\n"
          ],
          "name": "stdout"
        }
      ]
    },
    {
      "cell_type": "code",
      "metadata": {
        "id": "Slp0Cz35PUxl"
      },
      "source": [
        "# sales = turicreate.SFrame('home_data_small.sframe/')\n",
        "\n",
        "sales = turicreate.SFrame('/content/gdrive/My Drive/Turicreate/Week 12/home_data_small.sframe/')"
      ],
      "execution_count": null,
      "outputs": []
    },
    {
      "cell_type": "markdown",
      "metadata": {
        "id": "Yj57nKc_PUxp"
      },
      "source": [
        "# 2. Import useful functions from previous notebooks"
      ]
    },
    {
      "cell_type": "markdown",
      "metadata": {
        "id": "CRbBEQlHPUxt"
      },
      "source": [
        "**3.** To efficiently compute pairwise distances among data points, we will convert the SFrame into a 2D Numpy array. First import the numpy library and then copy and paste `get_numpy_data()` from the second notebook of Week 2."
      ]
    },
    {
      "cell_type": "code",
      "metadata": {
        "id": "ZoJtGUxgPUxz"
      },
      "source": [
        "import numpy as np # note this allows us to refer to numpy as np instead"
      ],
      "execution_count": null,
      "outputs": []
    },
    {
      "cell_type": "code",
      "metadata": {
        "id": "gv1yV2BXPUx3"
      },
      "source": [
        "def get_numpy_data(data_sframe, features, output):\n",
        "    data_sframe['constant'] = 1 # this is how you add a constant column to an SFrame\n",
        "    # add the column 'constant' to the front of the features list so that we can extract it along with the others:\n",
        "    features = ['constant'] + features # this is how you combine two lists\n",
        "    # select the columns of data_SFrame given by the features list into the SFrame features_sframe (now including constant):\n",
        "    features_sframe = data_sframe[features]\n",
        "    # the following line will convert the features_SFrame into a numpy matrix:\n",
        "    feature_matrix = features_sframe.to_numpy()\n",
        "    # assign the column of data_sframe associated with the output to the SArray output_sarray\n",
        "    output_sarray = data_sframe[output]\n",
        "    # the following will convert the SArray into a numpy array by first converting it to a list\n",
        "    output_array = output_sarray.to_numpy()\n",
        "    return(feature_matrix, output_array)"
      ],
      "execution_count": null,
      "outputs": []
    },
    {
      "cell_type": "markdown",
      "metadata": {
        "id": "gLC9bMzSPUx5"
      },
      "source": [
        "**4.** We will also need the `normalize_features()` function from Week 5 that normalizes all feature columns to unit norm. Paste this function below."
      ]
    },
    {
      "cell_type": "code",
      "metadata": {
        "id": "vbsRcEToPUx8"
      },
      "source": [
        "def normalize_features(feature_matrix):\n",
        "    norms = np.linalg.norm(feature_matrix, axis=0)\n",
        "    normalized_features = feature_matrix/norms\n",
        "    return (normalized_features, norms)"
      ],
      "execution_count": null,
      "outputs": []
    },
    {
      "cell_type": "markdown",
      "metadata": {
        "id": "C9UxxYfDPUx-"
      },
      "source": [
        "# 5. Split data into training, test, and validation sets"
      ]
    },
    {
      "cell_type": "code",
      "metadata": {
        "id": "_3ibs9WnPUyB"
      },
      "source": [
        "(train_and_validation, test) = sales.random_split(.8, seed=1) # initial train/test split\n",
        "(train, validation) = train_and_validation.random_split(.8, seed=1) # split training set into training and validation sets"
      ],
      "execution_count": null,
      "outputs": []
    },
    {
      "cell_type": "markdown",
      "metadata": {
        "id": "LCp7zXlePUyF"
      },
      "source": [
        "# Extract features and normalize"
      ]
    },
    {
      "cell_type": "markdown",
      "metadata": {
        "id": "sbfYWgwNPUyI"
      },
      "source": [
        "Using all of the numerical inputs listed in `feature_list`, transform the training, test, and validation SFrames into Numpy arrays:"
      ]
    },
    {
      "cell_type": "code",
      "metadata": {
        "id": "ROeLrhUZPUyK"
      },
      "source": [
        "feature_list = ['bedrooms',  \n",
        "                'bathrooms',  \n",
        "                'sqft_living',  \n",
        "                'sqft_lot',  \n",
        "                'floors',\n",
        "                'waterfront',  \n",
        "                'view',  \n",
        "                'condition',  \n",
        "                'grade',  \n",
        "                'sqft_above',  \n",
        "                'sqft_basement',\n",
        "                'yr_built',  \n",
        "                'yr_renovated',  \n",
        "                'lat',  \n",
        "                'long',  \n",
        "                'sqft_living15',  \n",
        "                'sqft_lot15']\n",
        "features_train, output_train = get_numpy_data(train, feature_list, 'price')\n",
        "features_test, output_test = get_numpy_data(test, feature_list, 'price')\n",
        "features_valid, output_valid = get_numpy_data(validation, feature_list, 'price')"
      ],
      "execution_count": null,
      "outputs": []
    },
    {
      "cell_type": "markdown",
      "metadata": {
        "id": "q17xSXkBPUyO"
      },
      "source": [
        "**6.** In computing distances, it is crucial to normalize features. Otherwise, for example, the `sqft_living` feature (typically on the order of thousands) would exert a much larger influence on distance than the `bedrooms` feature (typically on the order of ones). We divide each column of the training feature matrix by its 2-norm, so that the transformed column has unit norm.\n",
        "\n",
        "IMPORTANT: Make sure to store the norms of the features in the training set. The features in the test and validation sets must be divided by these same norms, so that the training, test, and validation sets are normalized consistently."
      ]
    },
    {
      "cell_type": "code",
      "metadata": {
        "id": "Y9AYIrivPUyT"
      },
      "source": [
        "features_train, norms = normalize_features(features_train) # normalize training set features (columns)\n",
        "features_test = features_test / norms # normalize test set by training set norms\n",
        "features_valid = features_valid / norms # normalize validation set by training set norms"
      ],
      "execution_count": null,
      "outputs": []
    },
    {
      "cell_type": "markdown",
      "metadata": {
        "id": "Ok3OBPj7PUyW"
      },
      "source": [
        "# Compute a single distance"
      ]
    },
    {
      "cell_type": "markdown",
      "metadata": {
        "id": "xAT3B3yUPUyX"
      },
      "source": [
        "**7.** To start, let's just explore computing the \"distance\" between two given houses.  We will take our **query house** to be the first house of the test set and look at the distance between this house and the 10th house of the training set.\n",
        "\n",
        "To see the features associated with the query house, print the first row (index 0) of the test feature matrix. You should get an 18-dimensional vector whose components are between 0 and 1."
      ]
    },
    {
      "cell_type": "code",
      "metadata": {
        "colab": {
          "base_uri": "https://localhost:8080/"
        },
        "id": "7lhwt-I2PUyY",
        "outputId": "ad55a3b5-8fb3-4676-b039-eaf72182a5f4"
      },
      "source": [
        "print features_test[0]"
      ],
      "execution_count": null,
      "outputs": [
        {
          "output_type": "stream",
          "text": [
            "[ 0.01345102  0.01551285  0.01807473  0.01759212  0.00160518  0.017059\n",
            "  0.          0.05102365  0.0116321   0.01564352  0.01362084  0.02481682\n",
            "  0.01350306  0.          0.01345386 -0.01346927  0.01375926  0.0016225 ]\n"
          ],
          "name": "stdout"
        }
      ]
    },
    {
      "cell_type": "markdown",
      "metadata": {
        "id": "E5UThtWIPUyY"
      },
      "source": [
        "Now print the 10th row (index 9) of the training feature matrix. Again, you get an 18-dimensional vector with components between 0 and 1."
      ]
    },
    {
      "cell_type": "code",
      "metadata": {
        "colab": {
          "base_uri": "https://localhost:8080/"
        },
        "id": "ZpB8TPDTPUyZ",
        "outputId": "f058f659-f91c-40bc-986c-0a70d0d8e6d2"
      },
      "source": [
        "print features_train[9]"
      ],
      "execution_count": null,
      "outputs": [
        {
          "output_type": "stream",
          "text": [
            "[ 0.01345102  0.01163464  0.00602491  0.0083488   0.00050756  0.01279425\n",
            "  0.          0.          0.01938684  0.01390535  0.0096309   0.\n",
            "  0.01302544  0.          0.01346821 -0.01346254  0.01195898  0.00156612]\n"
          ],
          "name": "stdout"
        }
      ]
    },
    {
      "cell_type": "markdown",
      "metadata": {
        "id": "VNJFG8osPUya"
      },
      "source": [
        "**8. Quiz Question**\n",
        "\n",
        "What is the Euclidean distance between the query house and the 10th house of the training set? \n",
        "\n",
        "Note: Do not use the `np.linalg.norm` function; use `np.sqrt`, `np.sum`, and the power operator (`**`) instead. The latter approach is more easily adapted to computing multiple distances at once."
      ]
    },
    {
      "cell_type": "code",
      "metadata": {
        "colab": {
          "base_uri": "https://localhost:8080/"
        },
        "id": "I5HhaSqLPUya",
        "outputId": "c71c8d09-02cc-49a0-a7d0-e12a19d460f0"
      },
      "source": [
        "euclidean_distance = np.sqrt(np.sum((features_train[9] - features_test[0])**2))\n",
        "print euclidean_distance"
      ],
      "execution_count": null,
      "outputs": [
        {
          "output_type": "stream",
          "text": [
            "0.05972359371666126\n"
          ],
          "name": "stdout"
        }
      ]
    },
    {
      "cell_type": "markdown",
      "metadata": {
        "id": "i7a1yFI7PUyb"
      },
      "source": [
        "# Compute multiple distances"
      ]
    },
    {
      "cell_type": "markdown",
      "metadata": {
        "id": "RY04e1DGPUyb"
      },
      "source": [
        "**9.** Of course, to do nearest neighbor regression, we need to compute the distance between our query house and *all* houses in the training set.  \n",
        "\n",
        "To visualize this nearest-neighbor search, let's first compute the distance from our query house (`features_test[0]`) to the first 10 houses of the training set (`features_train[0:10]`) and then search for the nearest neighbor within this small set of houses.  Through restricting ourselves to a small set of houses to begin with, we can visually scan the list of 10 distances to verify that our code for finding the nearest neighbor is working.\n",
        "\n",
        "Write a loop to compute the Euclidean distance from the query house to each of the first 10 houses in the training set."
      ]
    },
    {
      "cell_type": "code",
      "metadata": {
        "colab": {
          "base_uri": "https://localhost:8080/"
        },
        "id": "3I4I89cNPUyd",
        "outputId": "3add9d84-963f-4dae-f614-b5ba96978d07"
      },
      "source": [
        "dist_dict = {}\n",
        "for i in range(0,10):\n",
        "    dist_dict[i] = np.sqrt(np.sum((features_train[i] - features_test[0])**2))\n",
        "    print (i, np.sqrt(np.sum((features_train[i] - features_test[0])**2)))"
      ],
      "execution_count": null,
      "outputs": [
        {
          "output_type": "stream",
          "text": [
            "(0, 0.0602747091729555)\n",
            "(1, 0.08546881148827083)\n",
            "(2, 0.06149946437120284)\n",
            "(3, 0.05340273978820058)\n",
            "(4, 0.05844484063938139)\n",
            "(5, 0.05987921510184001)\n",
            "(6, 0.05463140497261526)\n",
            "(7, 0.05543108324159792)\n",
            "(8, 0.05238362784097273)\n",
            "(9, 0.05972359371666126)\n"
          ],
          "name": "stdout"
        }
      ]
    },
    {
      "cell_type": "markdown",
      "metadata": {
        "id": "_iBztz_cPUye"
      },
      "source": [
        "*** 10. QUIZ QUESTION ***\n",
        "\n",
        "Among the first 10 training houses, which house is the closest to the query house?"
      ]
    },
    {
      "cell_type": "code",
      "metadata": {
        "colab": {
          "base_uri": "https://localhost:8080/"
        },
        "id": "8MvBSYIhPUyf",
        "outputId": "40c8304e-9f2a-4dfb-dd2d-8af9157af2f3"
      },
      "source": [
        "print min(dist_dict.items(), key=lambda x: x[1]) "
      ],
      "execution_count": null,
      "outputs": [
        {
          "output_type": "stream",
          "text": [
            "(8, 0.05238362784097273)\n"
          ],
          "name": "stdout"
        }
      ]
    },
    {
      "cell_type": "markdown",
      "metadata": {
        "id": "cLahFiuUPUyg"
      },
      "source": [
        "**11.** It is computationally inefficient to loop over computing distances to all houses in our training dataset. Fortunately, many of the Numpy functions can be **vectorized**, applying the same operation over multiple values or vectors.  We now walk through this process."
      ]
    },
    {
      "cell_type": "markdown",
      "metadata": {
        "id": "D2cmqNuKPUyi"
      },
      "source": [
        "Consider the following loop that computes the element-wise difference between the features of the query house (`features_test[0]`) and the first 3 training houses (`features_train[0:3]`):"
      ]
    },
    {
      "cell_type": "code",
      "metadata": {
        "scrolled": false,
        "colab": {
          "base_uri": "https://localhost:8080/"
        },
        "id": "NYVoXIVCPUyj",
        "outputId": "8954319e-7992-4254-a862-03d78fffd87a"
      },
      "source": [
        "for i in xrange(3):\n",
        "    print features_train[i]-features_test[0]\n",
        "    # should print 3 vectors of length 18"
      ],
      "execution_count": null,
      "outputs": [
        {
          "output_type": "stream",
          "text": [
            "[ 0.00000000e+00 -3.87821276e-03 -1.20498190e-02 -1.05552733e-02\n",
            "  2.08673616e-04 -8.52950206e-03  0.00000000e+00 -5.10236549e-02\n",
            "  0.00000000e+00 -3.47633726e-03 -5.50336860e-03 -2.48168183e-02\n",
            " -1.63756198e-04  0.00000000e+00 -1.70072004e-05  1.30577772e-05\n",
            " -5.14364795e-03  6.69281453e-04]\n",
            "[ 0.00000000e+00 -3.87821276e-03 -4.51868214e-03 -2.26610387e-03\n",
            "  7.19763456e-04  0.00000000e+00  0.00000000e+00 -5.10236549e-02\n",
            "  0.00000000e+00 -3.47633726e-03  1.30705004e-03 -1.45830788e-02\n",
            " -1.91048898e-04  6.65082271e-02  4.23240653e-05  6.22415897e-06\n",
            " -2.89330197e-03  1.47606982e-03]\n",
            "[ 0.00000000e+00 -7.75642553e-03 -1.20498190e-02 -1.30002801e-02\n",
            "  1.60518166e-03 -8.52950206e-03  0.00000000e+00 -5.10236549e-02\n",
            "  0.00000000e+00 -5.21450589e-03 -8.32384500e-03 -2.48168183e-02\n",
            " -3.13866046e-04  0.00000000e+00  4.71047219e-05  1.56530415e-05\n",
            "  3.72914476e-03  1.64764925e-03]\n"
          ],
          "name": "stdout"
        }
      ]
    },
    {
      "cell_type": "markdown",
      "metadata": {
        "id": "F2wDLAEmPUyk"
      },
      "source": [
        "The subtraction operator (`-`) in Numpy is vectorized as follows:"
      ]
    },
    {
      "cell_type": "code",
      "metadata": {
        "colab": {
          "base_uri": "https://localhost:8080/"
        },
        "id": "wFv4bIm4PUyl",
        "outputId": "df8fffe0-f209-4cd4-dd90-4a28d085089f"
      },
      "source": [
        "print features_train[0:3] - features_test[0]"
      ],
      "execution_count": null,
      "outputs": [
        {
          "output_type": "stream",
          "text": [
            "[[ 0.00000000e+00 -3.87821276e-03 -1.20498190e-02 -1.05552733e-02\n",
            "   2.08673616e-04 -8.52950206e-03  0.00000000e+00 -5.10236549e-02\n",
            "   0.00000000e+00 -3.47633726e-03 -5.50336860e-03 -2.48168183e-02\n",
            "  -1.63756198e-04  0.00000000e+00 -1.70072004e-05  1.30577772e-05\n",
            "  -5.14364795e-03  6.69281453e-04]\n",
            " [ 0.00000000e+00 -3.87821276e-03 -4.51868214e-03 -2.26610387e-03\n",
            "   7.19763456e-04  0.00000000e+00  0.00000000e+00 -5.10236549e-02\n",
            "   0.00000000e+00 -3.47633726e-03  1.30705004e-03 -1.45830788e-02\n",
            "  -1.91048898e-04  6.65082271e-02  4.23240653e-05  6.22415897e-06\n",
            "  -2.89330197e-03  1.47606982e-03]\n",
            " [ 0.00000000e+00 -7.75642553e-03 -1.20498190e-02 -1.30002801e-02\n",
            "   1.60518166e-03 -8.52950206e-03  0.00000000e+00 -5.10236549e-02\n",
            "   0.00000000e+00 -5.21450589e-03 -8.32384500e-03 -2.48168183e-02\n",
            "  -3.13866046e-04  0.00000000e+00  4.71047219e-05  1.56530415e-05\n",
            "   3.72914476e-03  1.64764925e-03]]\n"
          ],
          "name": "stdout"
        }
      ]
    },
    {
      "cell_type": "markdown",
      "metadata": {
        "id": "mGWHNtDKPUyl"
      },
      "source": [
        "Note that the output of this vectorized operation is identical to that of the loop above, which can be verified below:"
      ]
    },
    {
      "cell_type": "code",
      "metadata": {
        "colab": {
          "base_uri": "https://localhost:8080/"
        },
        "id": "lBwIxeAaPUym",
        "outputId": "e169191c-1dc4-4d5b-8b89-a45da45377e7"
      },
      "source": [
        "# verify that vectorization works\n",
        "results = features_train[0:3] - features_test[0]\n",
        "print results[0] - (features_train[0]-features_test[0])\n",
        "# should print all 0's if results[0] == (features_train[0]-features_test[0])\n",
        "print results[1] - (features_train[1]-features_test[0])\n",
        "# should print all 0's if results[1] == (features_train[1]-features_test[0])\n",
        "print results[2] - (features_train[2]-features_test[0])\n",
        "# should print all 0's if results[2] == (features_train[2]-features_test[0])"
      ],
      "execution_count": null,
      "outputs": [
        {
          "output_type": "stream",
          "text": [
            "[0. 0. 0. 0. 0. 0. 0. 0. 0. 0. 0. 0. 0. 0. 0. 0. 0. 0.]\n",
            "[0. 0. 0. 0. 0. 0. 0. 0. 0. 0. 0. 0. 0. 0. 0. 0. 0. 0.]\n",
            "[0. 0. 0. 0. 0. 0. 0. 0. 0. 0. 0. 0. 0. 0. 0. 0. 0. 0.]\n"
          ],
          "name": "stdout"
        }
      ]
    },
    {
      "cell_type": "markdown",
      "metadata": {
        "id": "b1HDZgbZPUyn"
      },
      "source": [
        "Aside: it is a good idea to write tests like this cell whenever you are vectorizing a complicated operation."
      ]
    },
    {
      "cell_type": "markdown",
      "metadata": {
        "id": "nUD-e8JXPUyn"
      },
      "source": [
        "# Perform 1-nearest neighbor regression\n",
        "\n",
        "**12.** Now that we have the element-wise differences, it is not too hard to compute the Euclidean distances between our query house and all of the training houses. First, write a single-line expression to define a variable `diff` such that `diff[i]` gives the element-wise difference between the features of the query house and the `i`-th training house."
      ]
    },
    {
      "cell_type": "code",
      "metadata": {
        "id": "hkcCvstNPUyo"
      },
      "source": [
        "diff = features_train - features_test[0]"
      ],
      "execution_count": null,
      "outputs": []
    },
    {
      "cell_type": "markdown",
      "metadata": {
        "id": "BCaeZA-oPUyo"
      },
      "source": [
        "To test the code above, run the following cell, which should output a value -0.0934339605842:"
      ]
    },
    {
      "cell_type": "code",
      "metadata": {
        "colab": {
          "base_uri": "https://localhost:8080/"
        },
        "id": "clW9rS02PUyp",
        "outputId": "7629cf88-7c2d-4268-f014-33bce3b2595a"
      },
      "source": [
        "print diff[-1].sum() # sum of the feature differences between the query and last training house\n",
        "# should print -0.0934339605842"
      ],
      "execution_count": null,
      "outputs": [
        {
          "output_type": "stream",
          "text": [
            "-0.0934339605841801\n"
          ],
          "name": "stdout"
        }
      ]
    },
    {
      "cell_type": "markdown",
      "metadata": {
        "id": "kkIYBLiaPUyp"
      },
      "source": [
        "**13.** The next step in computing the Euclidean distances is to take these feature-by-feature differences in `diff`, square each, and take the sum over feature indices.  That is, compute the sum of square feature differences for each training house (row in `diff`).\n",
        "\n",
        "By default, `np.sum` sums up everything in the matrix and returns a single number. To instead sum only over a row or column, we need to specifiy the `axis` parameter described in the `np.sum` [documentation](http://docs.scipy.org/doc/numpy-1.10.1/reference/generated/numpy.sum.html). In particular, `axis=1` computes the sum across each row.\n",
        "\n",
        "Below, we compute this sum of square feature differences for all training houses and verify that the output for the 16th house in the training set is equivalent to having examined only the 16th row of `diff` and computing the sum of squares on that row alone."
      ]
    },
    {
      "cell_type": "code",
      "metadata": {
        "colab": {
          "base_uri": "https://localhost:8080/"
        },
        "id": "qniAuBeIPUyq",
        "outputId": "7e0fefc1-99e7-47b3-831f-15f75a08893d"
      },
      "source": [
        "print np.sum(diff**2, axis=1)[15] # take sum of squares across each row, and print the 16th sum\n",
        "print np.sum(diff[15]**2) # print the sum of squares for the 16th row -- should be same as above"
      ],
      "execution_count": null,
      "outputs": [
        {
          "output_type": "stream",
          "text": [
            "0.003307059028786791\n",
            "0.0033070590287867904\n"
          ],
          "name": "stdout"
        }
      ]
    },
    {
      "cell_type": "markdown",
      "metadata": {
        "id": "aRtdzh6VPUyr"
      },
      "source": [
        "With this result in mind, write a single-line expression to compute the Euclidean distances between the query house and all houses in the training set. Assign the result to a variable `distances`.\n",
        "\n",
        "**Hint**: Do not forget to take the square root of the sum of squares."
      ]
    },
    {
      "cell_type": "code",
      "metadata": {
        "id": "0cFJiEnLPUys"
      },
      "source": [
        "distances = np.sqrt(np.sum(diff**2, axis=1))"
      ],
      "execution_count": null,
      "outputs": []
    },
    {
      "cell_type": "markdown",
      "metadata": {
        "id": "5Apa5_dCPUys"
      },
      "source": [
        "To test the code above, run the following cell, which should output a value 0.0237082324496:"
      ]
    },
    {
      "cell_type": "code",
      "metadata": {
        "colab": {
          "base_uri": "https://localhost:8080/"
        },
        "id": "ysAglfy8PUyt",
        "outputId": "e5b84f4f-433d-420d-b059-c26c3d0ca18e"
      },
      "source": [
        "print distances[100] # Euclidean distance between the query house and the 101th training house\n",
        "# should print 0.0237082324496"
      ],
      "execution_count": null,
      "outputs": [
        {
          "output_type": "stream",
          "text": [
            "0.023708232449603735\n"
          ],
          "name": "stdout"
        }
      ]
    },
    {
      "cell_type": "markdown",
      "metadata": {
        "id": "GEdHX_FhPUyt"
      },
      "source": [
        "**15.** Now you are ready to write a function that computes the distances from a query house to all training houses. The function should take two parameters: (i) the matrix of training features and (ii) the single feature vector associated with the query."
      ]
    },
    {
      "cell_type": "code",
      "metadata": {
        "id": "jQWAeCVMPUyu"
      },
      "source": [
        "def compute_distances(train_matrix, query_vector):\n",
        "    diff = train_matrix - query_vector\n",
        "    distances = np.sqrt(np.sum(diff**2, axis=1))\n",
        "    return distances"
      ],
      "execution_count": null,
      "outputs": []
    },
    {
      "cell_type": "markdown",
      "metadata": {
        "id": "sQJ5RARIPUyu"
      },
      "source": [
        "*** QUIZ QUESTIONS ***\n",
        "\n",
        "**16.**  Take the query house to be third house of the test set (`features_test[2]`).  What is the index of the house in the training set that is closest to this query house?\n",
        "\n",
        "**17.**What is the predicted value of the query house based on 1-nearest neighbor regression?"
      ]
    },
    {
      "cell_type": "code",
      "metadata": {
        "colab": {
          "base_uri": "https://localhost:8080/"
        },
        "id": "-0fXNdvNPUyv",
        "outputId": "8b0183f5-c8ad-4cfc-93b8-095eb6427821"
      },
      "source": [
        "third_house_distance = compute_distances(features_train, features_test[2])\n",
        "print third_house_distance.argsort()[:1], min(third_house_distance)\n",
        "print third_house_distance[382]"
      ],
      "execution_count": null,
      "outputs": [
        {
          "output_type": "stream",
          "text": [
            "[382] 0.002860495267507927\n",
            "0.002860495267507927\n"
          ],
          "name": "stdout"
        }
      ]
    },
    {
      "cell_type": "code",
      "metadata": {
        "colab": {
          "base_uri": "https://localhost:8080/"
        },
        "id": "yYX5qFf8PUyw",
        "outputId": "4d5a2534-3faf-4eb1-e944-57e8ea0b247d"
      },
      "source": [
        "print np.argsort(third_house_distance, axis = 0)[:4]"
      ],
      "execution_count": null,
      "outputs": [
        {
          "output_type": "stream",
          "text": [
            "[ 382 1149 4087 3142]\n"
          ],
          "name": "stdout"
        }
      ]
    },
    {
      "cell_type": "code",
      "metadata": {
        "colab": {
          "base_uri": "https://localhost:8080/"
        },
        "id": "ymVOJZijWN6U",
        "outputId": "cec35efd-c605-4488-d564-35d0d7d9b283"
      },
      "source": [
        "print output_train[382]"
      ],
      "execution_count": null,
      "outputs": [
        {
          "output_type": "stream",
          "text": [
            "249000\n"
          ],
          "name": "stdout"
        }
      ]
    },
    {
      "cell_type": "markdown",
      "metadata": {
        "id": "G6dzpG61PUyw"
      },
      "source": [
        "# Perform k-nearest neighbor regression"
      ]
    },
    {
      "cell_type": "markdown",
      "metadata": {
        "id": "6Ein5XRYPUyy"
      },
      "source": [
        "For k-nearest neighbors, we need to find a *set* of k houses in the training set closest to a given query house. We then make predictions based on these k nearest neighbors."
      ]
    },
    {
      "cell_type": "markdown",
      "metadata": {
        "id": "xAGbOj9RPUyz"
      },
      "source": [
        "## Fetch k-nearest neighbors\n",
        "\n",
        "**18.** Using the functions above, implement a function that takes in\n",
        " * the value of k;\n",
        " * the feature matrix for the training houses; and\n",
        " * the feature vector of the query house\n",
        " \n",
        "and returns the indices of the k closest training houses. For instance, with 2-nearest neighbor, a return value of [5, 10] would indicate that the 6th and 11th training houses are closest to the query house.\n",
        "\n",
        "**Hint**: Look at the [documentation for `np.argsort`](http://docs.scipy.org/doc/numpy/reference/generated/numpy.argsort.html)."
      ]
    },
    {
      "cell_type": "code",
      "metadata": {
        "id": "D2SmXH-mPUy0"
      },
      "source": [
        "def compute_k_nearest_neighbors(k, features_matrix, feature_vector):\n",
        "    distances = compute_distances(features_matrix, feature_vector)\n",
        "    return np.argsort(distances, axis = 0)[:k]"
      ],
      "execution_count": null,
      "outputs": []
    },
    {
      "cell_type": "markdown",
      "metadata": {
        "id": "x2WxGMyIPUy1"
      },
      "source": [
        "*** 19. QUIZ QUESTION ***\n",
        "\n",
        "Take the query house to be third house of the test set (`features_test[2]`).  What are the indices of the 4 training houses closest to the query house?"
      ]
    },
    {
      "cell_type": "code",
      "metadata": {
        "colab": {
          "base_uri": "https://localhost:8080/"
        },
        "id": "IiEtrE3qPUy1",
        "outputId": "200d20c4-052b-42d9-fee1-1066e8e71895"
      },
      "source": [
        "print compute_k_nearest_neighbors(4, features_train, features_test[2])"
      ],
      "execution_count": null,
      "outputs": [
        {
          "output_type": "stream",
          "text": [
            "[ 382 1149 4087 3142]\n"
          ],
          "name": "stdout"
        }
      ]
    },
    {
      "cell_type": "markdown",
      "metadata": {
        "id": "wYP7T-8sPUy2"
      },
      "source": [
        "## Make a single prediction by averaging k nearest neighbor outputs"
      ]
    },
    {
      "cell_type": "markdown",
      "metadata": {
        "id": "kYD6RPN9PUy3"
      },
      "source": [
        "**20.** Now that we know how to find the k-nearest neighbors, write a function that predicts the value of a given query house. **For simplicity, take the average of the prices of the k nearest neighbors in the training set**. The function should have the following parameters:\n",
        " * the value of k;\n",
        " * the feature matrix for the training houses;\n",
        " * the output values (prices) of the training houses; and\n",
        " * the feature vector of the query house, whose price we are predicting.\n",
        " \n",
        "The function should return a predicted value of the query house.\n",
        "\n",
        "**Hint**: You can extract multiple items from a Numpy array using a list of indices. For instance, `output_train[[6, 10]]` returns the prices of the 7th and 11th training houses."
      ]
    },
    {
      "cell_type": "code",
      "metadata": {
        "id": "naYpcHHDPUy5"
      },
      "source": [
        "def compute_distances_k_avg(k, features_matrix, output_values, feature_vector):\n",
        "    k_neigbors = compute_k_nearest_neighbors(k, features_matrix, feature_vector)\n",
        "    avg_value = np.mean(output_values[k_neigbors])\n",
        "    return avg_value  "
      ],
      "execution_count": null,
      "outputs": []
    },
    {
      "cell_type": "markdown",
      "metadata": {
        "id": "cfk0mTzSPUy5"
      },
      "source": [
        "*** 21. QUIZ QUESTION ***\n",
        "\n",
        "Again taking the query house to be third house of the test set (`features_test[2]`), predict the value of the query house using k-nearest neighbors with `k=4` and the simple averaging method described and implemented above."
      ]
    },
    {
      "cell_type": "code",
      "metadata": {
        "colab": {
          "base_uri": "https://localhost:8080/"
        },
        "id": "9m1zfxwAPUy6",
        "outputId": "10fb52bb-1eff-464d-b8f5-d21a74e9b1fc"
      },
      "source": [
        "print compute_distances_k_avg(4, features_train, output_train, features_test[2])"
      ],
      "execution_count": null,
      "outputs": [
        {
          "output_type": "stream",
          "text": [
            "413987.5\n"
          ],
          "name": "stdout"
        }
      ]
    },
    {
      "cell_type": "markdown",
      "metadata": {
        "id": "PSFdXsdZPUy6"
      },
      "source": [
        "Compare this predicted value using 4-nearest neighbors to the predicted value using 1-nearest neighbor computed earlier."
      ]
    },
    {
      "cell_type": "markdown",
      "metadata": {
        "id": "Hk7YeFmLPUy7"
      },
      "source": [
        "## Make multiple predictions"
      ]
    },
    {
      "cell_type": "markdown",
      "metadata": {
        "id": "f123Qe_-PUy7"
      },
      "source": [
        "**22.** Write a function to predict the value of *each and every* house in a query set. (The query set can be any subset of the dataset, be it the test set or validation set.) The idea is to have a loop where we take each house in the query set as the query house and make a prediction for that specific house. The new function should take the following parameters:\n",
        " * the value of k;\n",
        " * the feature matrix for the training houses;\n",
        " * the output values (prices) of the training houses; and\n",
        " * the feature matrix for the query set.\n",
        " \n",
        "The function should return a set of predicted values, one for each house in the query set.\n",
        "\n",
        "**Hint**: To get the number of houses in the query set, use the `.shape` field of the query features matrix. See [the documentation](http://docs.scipy.org/doc/numpy-1.10.1/reference/generated/numpy.ndarray.shape.html)."
      ]
    },
    {
      "cell_type": "code",
      "metadata": {
        "colab": {
          "base_uri": "https://localhost:8080/"
        },
        "id": "p38mYKyNPUy8",
        "outputId": "92ed8846-d65f-46ca-abee-29d2ae15a013"
      },
      "source": [
        "print features_test[0:10].shape[0]"
      ],
      "execution_count": null,
      "outputs": [
        {
          "output_type": "stream",
          "text": [
            "10\n"
          ],
          "name": "stdout"
        }
      ]
    },
    {
      "cell_type": "code",
      "metadata": {
        "id": "TgfiXkhMXX7K"
      },
      "source": [
        "def compute_distances_k_all(k, features_matrix, output_values, feature_vector):\n",
        "    num_of_rows = feature_vector.shape[0]\n",
        "    predicted_values = []\n",
        "    for i in xrange(num_of_rows):\n",
        "        avg_value = compute_distances_k_avg(k, features_train, output_train, features_test[i])\n",
        "        predicted_values.append(avg_value)\n",
        "    return predicted_values"
      ],
      "execution_count": null,
      "outputs": []
    },
    {
      "cell_type": "markdown",
      "metadata": {
        "id": "iGV5ZMygPUy8"
      },
      "source": [
        "*** 23. QUIZ QUESTION ***\n",
        "\n",
        "Make predictions for the first 10 houses in the test set using k-nearest neighbors with `k=10`. \n",
        "\n",
        "1. What is the index of the house in this query set that has the lowest predicted value? \n",
        "2. What is the predicted value of this house?"
      ]
    },
    {
      "cell_type": "code",
      "metadata": {
        "colab": {
          "base_uri": "https://localhost:8080/"
        },
        "id": "o8VGwstNPUy9",
        "outputId": "cb4500c4-75f4-4f85-9971-875097e67baf"
      },
      "source": [
        "predicted_values = compute_distances_k_all(10, features_train, output_train, features_test[0:10])\n",
        "print predicted_values\n",
        "print predicted_values.index(min(predicted_values))"
      ],
      "execution_count": null,
      "outputs": [
        {
          "output_type": "stream",
          "text": [
            "[881300.0, 431860.0, 460595.0, 430200.0, 766750.0, 667420.0, 350032.0, 512800.7, 484000.0, 457235.0]\n",
            "6\n"
          ],
          "name": "stdout"
        }
      ]
    },
    {
      "cell_type": "code",
      "metadata": {
        "colab": {
          "base_uri": "https://localhost:8080/"
        },
        "id": "KtJ9fS--XdNE",
        "outputId": "2b302476-c399-488e-aa32-231e56ccd0e4"
      },
      "source": [
        "print min(predicted_values)"
      ],
      "execution_count": null,
      "outputs": [
        {
          "output_type": "stream",
          "text": [
            "350032.0\n"
          ],
          "name": "stdout"
        }
      ]
    },
    {
      "cell_type": "markdown",
      "metadata": {
        "id": "bRE_VwAdPUy-"
      },
      "source": [
        "## Choosing the best value of k using a validation set"
      ]
    },
    {
      "cell_type": "markdown",
      "metadata": {
        "id": "VPr6LZ4aPUy-"
      },
      "source": [
        "**24.** There remains a question of choosing the value of k to use in making predictions. Here, we use a validation set to choose this value. Write a loop that does the following:\n",
        "\n",
        "* For `k` in [1, 2, ..., 15]:\n",
        "    * Makes predictions for each house in the VALIDATION set using the k-nearest neighbors from the TRAINING set.\n",
        "    * Computes the RSS for these predictions on the VALIDATION set\n",
        "    * Stores the RSS computed above in `rss_all`\n",
        "* Report which `k` produced the lowest RSS on VALIDATION set."
      ]
    },
    {
      "cell_type": "markdown",
      "metadata": {
        "id": "Oja4KQYBPUy_"
      },
      "source": [
        "(Depending on your computing environment, this computation may take 10-15 minutes.)"
      ]
    },
    {
      "cell_type": "code",
      "metadata": {
        "id": "f6NaIPjZPUzA"
      },
      "source": [
        "rss_all = []\n",
        "for k in range(1,16):    \n",
        "    predict_value = compute_distances_k_all(k, features_train, output_train, features_valid)\n",
        "    residual = (output_valid - predict_value)\n",
        "    rss = sum(residual**2)\n",
        "    rss_all.append(rss)"
      ],
      "execution_count": null,
      "outputs": []
    },
    {
      "cell_type": "code",
      "metadata": {
        "colab": {
          "base_uri": "https://localhost:8080/"
        },
        "id": "pYcZT2JQX4PS",
        "outputId": "d59b9ab7-5a91-40ea-ec62-161b9ee1bf3f"
      },
      "source": [
        "print rss_all"
      ],
      "execution_count": null,
      "outputs": [
        {
          "output_type": "stream",
          "text": [
            "[355632427476622.0, 317939124951086.5, 313153111376088.5, 301621468995236.0, 294266734341982.4, 287781925015337.9, 287842561046849.3, 286179146468967.94, 281718696883431.6, 280358603702662.75, 278687700531166.9, 278744728841428.25, 275043861135800.9, 273895810640073.47, 272162684453609.75]\n"
          ],
          "name": "stdout"
        }
      ]
    },
    {
      "cell_type": "code",
      "metadata": {
        "colab": {
          "base_uri": "https://localhost:8080/"
        },
        "id": "K5GcLvkiX62b",
        "outputId": "3995b201-408c-4969-adfb-5f38ce5618d9"
      },
      "source": [
        "print rss_all.index(min(rss_all))"
      ],
      "execution_count": null,
      "outputs": [
        {
          "output_type": "stream",
          "text": [
            "14\n"
          ],
          "name": "stdout"
        }
      ]
    },
    {
      "cell_type": "markdown",
      "metadata": {
        "id": "7eSy4tT_PUzA"
      },
      "source": [
        "To visualize the performance as a function of `k`, plot the RSS on the VALIDATION set for each considered `k` value:"
      ]
    },
    {
      "cell_type": "code",
      "metadata": {
        "colab": {
          "base_uri": "https://localhost:8080/",
          "height": 293
        },
        "id": "zHTjmvJpPUzB",
        "outputId": "ea3386d3-2c1d-4969-94ce-2befa71cea9a"
      },
      "source": [
        "import matplotlib.pyplot as plt\n",
        "%matplotlib inline\n",
        "\n",
        "kvals = range(1, 16)\n",
        "plt.plot(kvals, rss_all,'bo-')"
      ],
      "execution_count": null,
      "outputs": [
        {
          "output_type": "execute_result",
          "data": {
            "text/plain": [
              "[<matplotlib.lines.Line2D at 0x7fb6c42f4410>]"
            ]
          },
          "metadata": {},
          "execution_count": 39
        },
        {
          "output_type": "display_data",
          "data": {
            "image/png": "[encoded data removed]",
            "text/plain": [
              "<Figure size 432x288 with 1 Axes>"
            ]
          },
          "metadata": {
            "needs_background": "light"
          }
        }
      ]
    },
    {
      "cell_type": "markdown",
      "metadata": {
        "id": "tmzTpw9LPUzB"
      },
      "source": [
        "***25. QUIZ QUESTION ***\n",
        "\n",
        "What is the RSS on the TEST data using the value of k found above?  To be clear, sum over all houses in the TEST set."
      ]
    },
    {
      "cell_type": "code",
      "metadata": {
        "colab": {
          "base_uri": "https://localhost:8080/"
        },
        "id": "dd0sGJHHPUzD",
        "outputId": "c62b6427-efe1-4b88-9784-84d497c45db3"
      },
      "source": [
        "predict_value = compute_distances_k_all(14, features_train, output_train, features_test)\n",
        "residual = (output_test - predict_value)\n",
        "rss = sum(residual**2)\n",
        "print rss"
      ],
      "execution_count": null,
      "outputs": [
        {
          "output_type": "stream",
          "text": [
            "133006256365677.28\n"
          ],
          "name": "stdout"
        }
      ]
    }
  ]
}