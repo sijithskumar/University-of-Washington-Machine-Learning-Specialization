{
  "nbformat": 4,
  "nbformat_minor": 0,
  "metadata": {
    "kernelspec": {
      "display_name": "Python 2",
      "language": "python",
      "name": "python2"
    },
    "language_info": {
      "codemirror_mode": {
        "name": "ipython",
        "version": 2
      },
      "file_extension": ".py",
      "mimetype": "text/x-python",
      "name": "python",
      "nbconvert_exporter": "python",
      "pygments_lexer": "ipython2",
      "version": "2.7.15"
    },
    "colab": {
      "name": "numpy-tutorial.ipynb",
      "provenance": [],
      "collapsed_sections": []
    }
  },
  "cells": [
    {
      "cell_type": "markdown",
      "metadata": {
        "id": "1thR6aIMRRZF"
      },
      "source": [
        "# Numpy Tutorial"
      ]
    },
    {
      "cell_type": "markdown",
      "metadata": {
        "id": "G1f9iAPqRRZM"
      },
      "source": [
        "Numpy is a computational library for Python that is optimized for operations on multi-dimensional arrays. In this notebook we will use numpy to work with 1-d arrays (often called vectors) and 2-d arrays (often called matrices).\n",
        "\n",
        "For a the full user guide and reference for numpy see: http://docs.scipy.org/doc/numpy/"
      ]
    },
    {
      "cell_type": "code",
      "metadata": {
        "collapsed": true,
        "id": "hS6q_yJ3RRZO"
      },
      "source": [
        "import numpy as np # importing this way allows us to refer to numpy as np"
      ],
      "execution_count": null,
      "outputs": []
    },
    {
      "cell_type": "markdown",
      "metadata": {
        "id": "d7hjZVRTRRZP"
      },
      "source": [
        "# Creating Numpy Arrays"
      ]
    },
    {
      "cell_type": "markdown",
      "metadata": {
        "id": "oQjmuRgdRRZQ"
      },
      "source": [
        "New arrays can be made in several ways. We can take an existing list and convert it to a numpy array:"
      ]
    },
    {
      "cell_type": "code",
      "metadata": {
        "colab": {
          "base_uri": "https://localhost:8080/"
        },
        "id": "rFSXmzRcRRZQ",
        "outputId": "50e4b6f8-eb9d-491a-d102-863ccb914887"
      },
      "source": [
        "mylist = [1., 2., 3., 4.]\n",
        "mynparray = np.array(mylist)\n",
        "mynparray"
      ],
      "execution_count": null,
      "outputs": [
        {
          "output_type": "execute_result",
          "data": {
            "text/plain": [
              "array([1., 2., 3., 4.])"
            ]
          },
          "metadata": {
            "tags": []
          },
          "execution_count": 3
        }
      ]
    },
    {
      "cell_type": "markdown",
      "metadata": {
        "id": "ucOO-iO8RRZR"
      },
      "source": [
        "You can initialize an array (of any dimension) of all ones or all zeroes with the ones() and zeros() functions:"
      ]
    },
    {
      "cell_type": "code",
      "metadata": {
        "colab": {
          "base_uri": "https://localhost:8080/"
        },
        "id": "pM5Yl30nRRZS",
        "outputId": "5714c2a8-cada-4535-9bb1-be1d503c7012"
      },
      "source": [
        "one_vector = np.ones(4)\n",
        "one_vector"
      ],
      "execution_count": null,
      "outputs": [
        {
          "output_type": "execute_result",
          "data": {
            "text/plain": [
              "array([1., 1., 1., 1.])"
            ]
          },
          "metadata": {
            "tags": []
          },
          "execution_count": 7
        }
      ]
    },
    {
      "cell_type": "code",
      "metadata": {
        "colab": {
          "base_uri": "https://localhost:8080/"
        },
        "id": "E0hDTrFwR8yF",
        "outputId": "2bd97544-9a58-4589-8e11-18f2f43cccb8"
      },
      "source": [
        "print one_vector # using print removes the array() portion"
      ],
      "execution_count": null,
      "outputs": [
        {
          "output_type": "stream",
          "text": [
            "[1. 1. 1. 1.]\n"
          ],
          "name": "stdout"
        }
      ]
    },
    {
      "cell_type": "code",
      "metadata": {
        "colab": {
          "base_uri": "https://localhost:8080/"
        },
        "id": "RE5vgzCuRRZU",
        "outputId": "cb837c67-1262-43c3-af70-9960693bb2e7"
      },
      "source": [
        "one2Darray = np.ones((2, 4)) # an 2D array with 2 \"rows\" and 4 \"columns\"\n",
        "print one2Darray"
      ],
      "execution_count": null,
      "outputs": [
        {
          "output_type": "stream",
          "text": [
            "[[1. 1. 1. 1.]\n",
            " [1. 1. 1. 1.]]\n"
          ],
          "name": "stdout"
        }
      ]
    },
    {
      "cell_type": "code",
      "metadata": {
        "colab": {
          "base_uri": "https://localhost:8080/"
        },
        "id": "uijmrpDnRRZV",
        "outputId": "a7c16fc8-268f-4d62-bcfd-7db3a73f6758"
      },
      "source": [
        "zero_vector = np.zeros(4)\n",
        "print zero_vector"
      ],
      "execution_count": null,
      "outputs": [
        {
          "output_type": "stream",
          "text": [
            "[0. 0. 0. 0.]\n"
          ],
          "name": "stdout"
        }
      ]
    },
    {
      "cell_type": "markdown",
      "metadata": {
        "id": "Nt-pMYMnRRZW"
      },
      "source": [
        "You can also initialize an empty array which will be filled with values. This is the fastest way to initialize a fixed-size numpy array however you must ensure that you replace all of the values."
      ]
    },
    {
      "cell_type": "code",
      "metadata": {
        "colab": {
          "base_uri": "https://localhost:8080/"
        },
        "id": "kjMDxbWvRRZW",
        "outputId": "8aa04509-555a-4579-9024-53c5ff8f25ff"
      },
      "source": [
        "empty_vector = np.empty(5)\n",
        "print empty_vector"
      ],
      "execution_count": null,
      "outputs": [
        {
          "output_type": "stream",
          "text": [
            "[0.   0.25 0.5  0.75 1.  ]\n"
          ],
          "name": "stdout"
        }
      ]
    },
    {
      "cell_type": "markdown",
      "metadata": {
        "id": "2Y8c1VFSRRZX"
      },
      "source": [
        "# Accessing array elements"
      ]
    },
    {
      "cell_type": "markdown",
      "metadata": {
        "id": "s3VqaWDHRRZY"
      },
      "source": [
        "Accessing an array is straight forward. For vectors you access the index by referring to it inside square brackets. Recall that indices in Python start with 0."
      ]
    },
    {
      "cell_type": "code",
      "metadata": {
        "colab": {
          "base_uri": "https://localhost:8080/"
        },
        "id": "Em1Wym6gRRZY",
        "outputId": "1af0aedc-b8ca-403f-d93d-47183947c4ff"
      },
      "source": [
        "mynparray[2]"
      ],
      "execution_count": null,
      "outputs": [
        {
          "output_type": "execute_result",
          "data": {
            "text/plain": [
              "3.0"
            ]
          },
          "metadata": {
            "tags": []
          },
          "execution_count": 12
        }
      ]
    },
    {
      "cell_type": "markdown",
      "metadata": {
        "id": "h--rMSHGRRZZ"
      },
      "source": [
        "2D arrays are accessed similarly by referring to the row and column index separated by a comma:"
      ]
    },
    {
      "cell_type": "code",
      "metadata": {
        "colab": {
          "base_uri": "https://localhost:8080/"
        },
        "id": "NtDtMLUmRRZZ",
        "outputId": "ddb23e40-90a6-47e7-8344-81767aa71198"
      },
      "source": [
        "my_matrix = np.array([[1, 2, 3], [4, 5, 6]])\n",
        "print my_matrix"
      ],
      "execution_count": null,
      "outputs": [
        {
          "output_type": "stream",
          "text": [
            "[[1 2 3]\n",
            " [4 5 6]]\n"
          ],
          "name": "stdout"
        }
      ]
    },
    {
      "cell_type": "code",
      "metadata": {
        "colab": {
          "base_uri": "https://localhost:8080/"
        },
        "id": "OYatz0a9RRZa",
        "outputId": "1b7063a3-83c0-4c21-94ea-ef86393ca70c"
      },
      "source": [
        "print my_matrix[1, 2]"
      ],
      "execution_count": null,
      "outputs": [
        {
          "output_type": "stream",
          "text": [
            "6\n"
          ],
          "name": "stdout"
        }
      ]
    },
    {
      "cell_type": "markdown",
      "metadata": {
        "id": "hLksJQoxRRZa"
      },
      "source": [
        "Sequences of indices can be accessed using ':' for example"
      ]
    },
    {
      "cell_type": "code",
      "metadata": {
        "colab": {
          "base_uri": "https://localhost:8080/"
        },
        "id": "Wvu9EsUwRRZa",
        "outputId": "a6b72b87-01ee-4707-a4c6-e3e7b276bb66"
      },
      "source": [
        "print my_matrix[0:2, 2] # recall 0:2 = [0, 1]"
      ],
      "execution_count": null,
      "outputs": [
        {
          "output_type": "stream",
          "text": [
            "[3 6]\n"
          ],
          "name": "stdout"
        }
      ]
    },
    {
      "cell_type": "code",
      "metadata": {
        "colab": {
          "base_uri": "https://localhost:8080/"
        },
        "id": "-yPiMSDxRRZb",
        "outputId": "191603b0-6f30-4503-942b-f3aaf338fba0"
      },
      "source": [
        "print my_matrix[0, 0:3]"
      ],
      "execution_count": null,
      "outputs": [
        {
          "output_type": "stream",
          "text": [
            "[1 2 3]\n"
          ],
          "name": "stdout"
        }
      ]
    },
    {
      "cell_type": "markdown",
      "metadata": {
        "id": "8haiF10sRRZb"
      },
      "source": [
        "You can also pass a list of indices. "
      ]
    },
    {
      "cell_type": "code",
      "metadata": {
        "colab": {
          "base_uri": "https://localhost:8080/"
        },
        "id": "z3gJQBqtRRZb",
        "outputId": "f8291ec1-356a-4e0a-f85e-324e4b32dbb9"
      },
      "source": [
        "fib_indices = np.array([1, 1, 2, 3])\n",
        "random_vector = np.random.random(10) # 10 random numbers between 0 and 1\n",
        "print random_vector"
      ],
      "execution_count": null,
      "outputs": [
        {
          "output_type": "stream",
          "text": [
            "[0.21221192 0.29740409 0.40157688 0.97982216 0.06938293 0.48330694\n",
            " 0.7406647  0.5317629  0.40081459 0.13918523]\n"
          ],
          "name": "stdout"
        }
      ]
    },
    {
      "cell_type": "code",
      "metadata": {
        "colab": {
          "base_uri": "https://localhost:8080/"
        },
        "id": "4OuUxD6JRRZc",
        "outputId": "8a76294f-3396-4749-fb36-3ebf52044ed7"
      },
      "source": [
        "print random_vector[fib_indices]"
      ],
      "execution_count": null,
      "outputs": [
        {
          "output_type": "stream",
          "text": [
            "[0.29740409 0.29740409 0.40157688 0.97982216]\n"
          ],
          "name": "stdout"
        }
      ]
    },
    {
      "cell_type": "markdown",
      "metadata": {
        "id": "Y3eFjOm-RRZc"
      },
      "source": [
        "You can also use true/false values to select values"
      ]
    },
    {
      "cell_type": "code",
      "metadata": {
        "colab": {
          "base_uri": "https://localhost:8080/"
        },
        "id": "95vTq-J5RRZc",
        "outputId": "2e876a0d-e82b-4b18-c1e8-13afb89a4e95"
      },
      "source": [
        "my_vector = np.array([1, 2, 3, 4])\n",
        "select_index = np.array([True, False, True, False])\n",
        "print my_vector[select_index]"
      ],
      "execution_count": null,
      "outputs": [
        {
          "output_type": "stream",
          "text": [
            "[1 3]\n"
          ],
          "name": "stdout"
        }
      ]
    },
    {
      "cell_type": "markdown",
      "metadata": {
        "id": "ei7rTUisRRZd"
      },
      "source": [
        "For 2D arrays you can select specific columns and specific rows. Passing ':' selects all rows/columns"
      ]
    },
    {
      "cell_type": "code",
      "metadata": {
        "id": "aA722kc8RRZd"
      },
      "source": [
        "select_cols = np.array([True, False, True]) # 1st and 3rd column\n",
        "select_rows = np.array([False, True]) # 2nd row"
      ],
      "execution_count": null,
      "outputs": []
    },
    {
      "cell_type": "code",
      "metadata": {
        "colab": {
          "base_uri": "https://localhost:8080/"
        },
        "id": "Vhe3LxKaRRZd",
        "outputId": "e0a1abdd-27f1-4e76-e943-35c591d91412"
      },
      "source": [
        "print my_matrix[select_rows, :] # just 2nd row but all columns"
      ],
      "execution_count": null,
      "outputs": [
        {
          "output_type": "stream",
          "text": [
            "[[4 5 6]]\n"
          ],
          "name": "stdout"
        }
      ]
    },
    {
      "cell_type": "code",
      "metadata": {
        "colab": {
          "base_uri": "https://localhost:8080/"
        },
        "id": "JHaBuiohRRZe",
        "outputId": "a4990f08-3f9d-4048-9164-fb547933feee"
      },
      "source": [
        "print my_matrix[:, select_cols] # all rows and just the 1st and 3rd column"
      ],
      "execution_count": null,
      "outputs": [
        {
          "output_type": "stream",
          "text": [
            "[[1 3]\n",
            " [4 6]]\n"
          ],
          "name": "stdout"
        }
      ]
    },
    {
      "cell_type": "markdown",
      "metadata": {
        "id": "t3sJNQZLRRZe"
      },
      "source": [
        "# Operations on Arrays"
      ]
    },
    {
      "cell_type": "markdown",
      "metadata": {
        "id": "j7IkKwcjRRZe"
      },
      "source": [
        "You can use the operations '\\*', '\\*\\*', '\\\\', '+' and '-' on numpy arrays and they operate elementwise."
      ]
    },
    {
      "cell_type": "code",
      "metadata": {
        "colab": {
          "base_uri": "https://localhost:8080/"
        },
        "id": "aHok8BRpRRZe",
        "outputId": "e64de038-0752-4ab2-c296-1193f29bb1b3"
      },
      "source": [
        "my_array = np.array([1., 2., 3., 4.])\n",
        "print my_array*my_array"
      ],
      "execution_count": null,
      "outputs": [
        {
          "output_type": "stream",
          "text": [
            "[ 1.  4.  9. 16.]\n"
          ],
          "name": "stdout"
        }
      ]
    },
    {
      "cell_type": "code",
      "metadata": {
        "colab": {
          "base_uri": "https://localhost:8080/"
        },
        "id": "DNc30U14RRZe",
        "outputId": "15fdc59a-8d0e-4f14-886c-2573dae699a3"
      },
      "source": [
        "print my_array**2"
      ],
      "execution_count": null,
      "outputs": [
        {
          "output_type": "stream",
          "text": [
            "[ 1.  4.  9. 16.]\n"
          ],
          "name": "stdout"
        }
      ]
    },
    {
      "cell_type": "code",
      "metadata": {
        "colab": {
          "base_uri": "https://localhost:8080/"
        },
        "id": "G6_W9OKGRRZf",
        "outputId": "2faa5c21-9ec8-438f-cf6c-bd7bdcf26211"
      },
      "source": [
        "print my_array - np.ones(4)"
      ],
      "execution_count": null,
      "outputs": [
        {
          "output_type": "stream",
          "text": [
            "[0. 1. 2. 3.]\n"
          ],
          "name": "stdout"
        }
      ]
    },
    {
      "cell_type": "code",
      "metadata": {
        "colab": {
          "base_uri": "https://localhost:8080/"
        },
        "id": "XfR04CUhRRZf",
        "outputId": "880ee7a3-bf33-4381-897f-acbcb860ee3d"
      },
      "source": [
        "print my_array + np.ones(4)"
      ],
      "execution_count": null,
      "outputs": [
        {
          "output_type": "stream",
          "text": [
            "[2. 3. 4. 5.]\n"
          ],
          "name": "stdout"
        }
      ]
    },
    {
      "cell_type": "code",
      "metadata": {
        "colab": {
          "base_uri": "https://localhost:8080/"
        },
        "id": "u5Stz6GgRRZf",
        "outputId": "876bbeac-ea65-4ed3-de13-4bc8d7bb947c"
      },
      "source": [
        "print my_array / 3"
      ],
      "execution_count": null,
      "outputs": [
        {
          "output_type": "stream",
          "text": [
            "[0.33333333 0.66666667 1.         1.33333333]\n"
          ],
          "name": "stdout"
        }
      ]
    },
    {
      "cell_type": "code",
      "metadata": {
        "colab": {
          "base_uri": "https://localhost:8080/"
        },
        "id": "CX63bbqlRRZf",
        "outputId": "5a6615c5-d86a-4e7e-823c-298b362df5dc"
      },
      "source": [
        "print my_array / np.array([2., 3., 4., 5.]) # = [1.0/2.0, 2.0/3.0, 3.0/4.0, 4.0/5.0]"
      ],
      "execution_count": null,
      "outputs": [
        {
          "output_type": "stream",
          "text": [
            "[0.5        0.66666667 0.75       0.8       ]\n"
          ],
          "name": "stdout"
        }
      ]
    },
    {
      "cell_type": "markdown",
      "metadata": {
        "id": "LIA5j5tiRRZg"
      },
      "source": [
        "You can compute the sum with np.sum() and the average with np.average()"
      ]
    },
    {
      "cell_type": "code",
      "metadata": {
        "colab": {
          "base_uri": "https://localhost:8080/"
        },
        "id": "JVBUgeriRRZg",
        "outputId": "041513fa-4261-4a40-d17c-362603d4b2ac"
      },
      "source": [
        "print np.sum(my_array)"
      ],
      "execution_count": null,
      "outputs": [
        {
          "output_type": "stream",
          "text": [
            "10.0\n"
          ],
          "name": "stdout"
        }
      ]
    },
    {
      "cell_type": "code",
      "metadata": {
        "colab": {
          "base_uri": "https://localhost:8080/"
        },
        "id": "lVvvC0DWRRZg",
        "outputId": "fcc7f40a-b959-45f0-9c06-764671db765e"
      },
      "source": [
        "print np.average(my_array)"
      ],
      "execution_count": null,
      "outputs": [
        {
          "output_type": "stream",
          "text": [
            "2.5\n"
          ],
          "name": "stdout"
        }
      ]
    },
    {
      "cell_type": "code",
      "metadata": {
        "colab": {
          "base_uri": "https://localhost:8080/"
        },
        "id": "2hyvjqATRRZg",
        "outputId": "30b07251-01d8-4afc-8106-17769de5e172"
      },
      "source": [
        "print np.sum(my_array)/len(my_array)"
      ],
      "execution_count": null,
      "outputs": [
        {
          "output_type": "stream",
          "text": [
            "2.5\n"
          ],
          "name": "stdout"
        }
      ]
    },
    {
      "cell_type": "markdown",
      "metadata": {
        "id": "pe_2JNdeRRZg"
      },
      "source": [
        "# The dot product"
      ]
    },
    {
      "cell_type": "markdown",
      "metadata": {
        "id": "-2SzhjLaRRZh"
      },
      "source": [
        "An important mathematical operation in linear algebra is the dot product. \n",
        "\n",
        "When we compute the dot product between two vectors we are simply multiplying them elementwise and adding them up. In numpy you can do this with np.dot()"
      ]
    },
    {
      "cell_type": "code",
      "metadata": {
        "colab": {
          "base_uri": "https://localhost:8080/"
        },
        "id": "0R0w02jVRRZh",
        "outputId": "2f54acfe-cd90-427b-ba47-93af17813e62"
      },
      "source": [
        "array1 = np.array([1., 2., 3., 4.])\n",
        "array2 = np.array([2., 3., 4., 5.])\n",
        "print np.dot(array1, array2)"
      ],
      "execution_count": null,
      "outputs": [
        {
          "output_type": "stream",
          "text": [
            "40.0\n"
          ],
          "name": "stdout"
        }
      ]
    },
    {
      "cell_type": "code",
      "metadata": {
        "colab": {
          "base_uri": "https://localhost:8080/"
        },
        "id": "78Qm0vKRRRZh",
        "outputId": "6f21ec8f-1066-4f68-a0c1-4f365b0ebd41"
      },
      "source": [
        "print np.sum(array1*array2)"
      ],
      "execution_count": null,
      "outputs": [
        {
          "output_type": "stream",
          "text": [
            "40.0\n"
          ],
          "name": "stdout"
        }
      ]
    },
    {
      "cell_type": "markdown",
      "metadata": {
        "id": "8nZZidlsRRZh"
      },
      "source": [
        "Recall that the Euclidean length (or magnitude) of a vector is the squareroot of the sum of the squares of the components. This is just the squareroot of the dot product of the vector with itself:"
      ]
    },
    {
      "cell_type": "code",
      "metadata": {
        "colab": {
          "base_uri": "https://localhost:8080/"
        },
        "id": "0YyhN9SQRRZi",
        "outputId": "89520117-1ec3-4e87-fbe2-f1a0e90e4628"
      },
      "source": [
        "array1_mag = np.sqrt(np.dot(array1, array1))\n",
        "print array1_mag"
      ],
      "execution_count": null,
      "outputs": [
        {
          "output_type": "stream",
          "text": [
            "5.477225575051661\n"
          ],
          "name": "stdout"
        }
      ]
    },
    {
      "cell_type": "code",
      "metadata": {
        "colab": {
          "base_uri": "https://localhost:8080/"
        },
        "id": "Xxtov7jbRRZi",
        "outputId": "6b6e480c-dadf-4b92-d2d4-20c189fdf65e"
      },
      "source": [
        "print np.sqrt(np.sum(array1*array1))"
      ],
      "execution_count": null,
      "outputs": [
        {
          "output_type": "stream",
          "text": [
            "5.477225575051661\n"
          ],
          "name": "stdout"
        }
      ]
    },
    {
      "cell_type": "markdown",
      "metadata": {
        "id": "FCbE65pJRRZi"
      },
      "source": [
        "We can also use the dot product when we have a 2D array (or matrix). When you have an vector with the same number of elements as the matrix (2D array) has columns you can right-multiply the matrix by the vector to get another vector with the same number of elements as the matrix has rows. For example this is how you compute the predicted values given a matrix of features and an array of weights."
      ]
    },
    {
      "cell_type": "code",
      "metadata": {
        "colab": {
          "base_uri": "https://localhost:8080/"
        },
        "id": "dL5E1Q_VRRZi",
        "outputId": "7931e36a-c1b0-45c3-e801-1a98fb7e44ab"
      },
      "source": [
        "my_features = np.array([[1., 2.], [3., 4.], [5., 6.], [7., 8.]])\n",
        "print my_features"
      ],
      "execution_count": null,
      "outputs": [
        {
          "output_type": "stream",
          "text": [
            "[[1. 2.]\n",
            " [3. 4.]\n",
            " [5. 6.]\n",
            " [7. 8.]]\n"
          ],
          "name": "stdout"
        }
      ]
    },
    {
      "cell_type": "code",
      "metadata": {
        "colab": {
          "base_uri": "https://localhost:8080/"
        },
        "id": "O1N2p9aIRRZi",
        "outputId": "a7b4af60-fee8-4b30-f98a-da202d6d7ee1"
      },
      "source": [
        "my_weights = np.array([0.4, 0.5])\n",
        "print my_weights"
      ],
      "execution_count": null,
      "outputs": [
        {
          "output_type": "stream",
          "text": [
            "[0.4 0.5]\n"
          ],
          "name": "stdout"
        }
      ]
    },
    {
      "cell_type": "code",
      "metadata": {
        "colab": {
          "base_uri": "https://localhost:8080/"
        },
        "id": "1chydabHRRZj",
        "outputId": "c8efcb09-5d11-4344-c37a-ec9c7f7adb57"
      },
      "source": [
        "my_predictions = np.dot(my_features, my_weights) # note that the weights are on the right\n",
        "print my_predictions # which has 4 elements since my_features has 4 rows"
      ],
      "execution_count": null,
      "outputs": [
        {
          "output_type": "stream",
          "text": [
            "[1.4 3.2 5.  6.8]\n"
          ],
          "name": "stdout"
        }
      ]
    },
    {
      "cell_type": "markdown",
      "metadata": {
        "id": "y_5kOQYtRRZj"
      },
      "source": [
        "Similarly if you have a vector with the same number of elements as the matrix has *rows* you can left multiply them."
      ]
    },
    {
      "cell_type": "code",
      "metadata": {
        "collapsed": true,
        "id": "2JKFVN4nRRZj"
      },
      "source": [
        "my_matrix = my_features\n",
        "my_array = np.array([0.3, 0.4, 0.5, 0.6])"
      ],
      "execution_count": null,
      "outputs": []
    },
    {
      "cell_type": "code",
      "metadata": {
        "colab": {
          "base_uri": "https://localhost:8080/"
        },
        "id": "N_FzjCODRRZk",
        "outputId": "f981bb83-9ae4-459e-9570-586e29bbad64"
      },
      "source": [
        "print np.dot(my_array, my_matrix) # which has 2 elements because my_matrix has 2 columns"
      ],
      "execution_count": null,
      "outputs": [
        {
          "output_type": "stream",
          "text": [
            "[ 8.2 10. ]\n"
          ],
          "name": "stdout"
        }
      ]
    },
    {
      "cell_type": "markdown",
      "metadata": {
        "id": "0JgO4AeLRRZk"
      },
      "source": [
        "# Multiplying Matrices"
      ]
    },
    {
      "cell_type": "markdown",
      "metadata": {
        "id": "TbymA5hlRRZk"
      },
      "source": [
        "If we have two 2D arrays (matrices) matrix_1 and matrix_2 where the number of columns of matrix_1 is the same as the number of rows of matrix_2 then we can use np.dot() to perform matrix multiplication."
      ]
    },
    {
      "cell_type": "code",
      "metadata": {
        "colab": {
          "base_uri": "https://localhost:8080/"
        },
        "id": "flc2RPSLRRZk",
        "outputId": "20f1b386-3d1f-4b6a-ec99-86fd13c74905"
      },
      "source": [
        "matrix_1 = np.array([[1., 2., 3.],[4., 5., 6.]])\n",
        "print matrix_1"
      ],
      "execution_count": null,
      "outputs": [
        {
          "output_type": "stream",
          "text": [
            "[[1. 2. 3.]\n",
            " [4. 5. 6.]]\n"
          ],
          "name": "stdout"
        }
      ]
    },
    {
      "cell_type": "code",
      "metadata": {
        "colab": {
          "base_uri": "https://localhost:8080/"
        },
        "id": "c5Ao6F3FRRZl",
        "outputId": "6cbdeef2-32db-445f-a521-c11562a50b77"
      },
      "source": [
        "matrix_2 = np.array([[1., 2.], [3., 4.], [5., 6.]])\n",
        "print matrix_2"
      ],
      "execution_count": null,
      "outputs": [
        {
          "output_type": "stream",
          "text": [
            "[[1. 2.]\n",
            " [3. 4.]\n",
            " [5. 6.]]\n"
          ],
          "name": "stdout"
        }
      ]
    },
    {
      "cell_type": "code",
      "metadata": {
        "colab": {
          "base_uri": "https://localhost:8080/"
        },
        "id": "om5goqIkRRZl",
        "outputId": "ee0fc405-9b9b-48ca-95fe-363131908c55"
      },
      "source": [
        "print np.dot(matrix_1, matrix_2)"
      ],
      "execution_count": null,
      "outputs": [
        {
          "output_type": "stream",
          "text": [
            "[[22. 28.]\n",
            " [49. 64.]]\n"
          ],
          "name": "stdout"
        }
      ]
    }
  ]
}