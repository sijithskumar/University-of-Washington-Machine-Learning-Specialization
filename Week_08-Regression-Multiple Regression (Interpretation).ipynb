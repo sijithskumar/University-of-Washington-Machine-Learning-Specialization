{
  "nbformat": 4,
  "nbformat_minor": 0,
  "metadata": {
    "kernelspec": {
      "display_name": "Python 2",
      "language": "python",
      "name": "python2"
    },
    "language_info": {
      "codemirror_mode": {
        "name": "ipython",
        "version": 2
      },
      "file_extension": ".py",
      "mimetype": "text/x-python",
      "name": "python",
      "nbconvert_exporter": "python",
      "pygments_lexer": "ipython2",
      "version": "2.7.15"
    },
    "colab": {
      "name": "Multiple Regression-REG02-NB01.ipynb",
      "provenance": []
    }
  },
  "cells": [
    {
      "cell_type": "markdown",
      "metadata": {
        "id": "zf_OexZlFLss"
      },
      "source": [
        "# Regression Week 2: Multiple Regression (Interpretation)"
      ]
    },
    {
      "cell_type": "markdown",
      "metadata": {
        "id": "kzSqN8UEFLs3"
      },
      "source": [
        "The goal of this first notebook is to explore multiple regression and feature engineering with existing Turi Create functions.\n",
        "\n",
        "In this notebook you will use data on house sales in King County to predict prices using multiple regression. You will:\n",
        "* Use SFrames to do some feature engineering\n",
        "* Use built-in Turi Create functions to compute the regression weights (coefficients/parameters)\n",
        "* Given the regression weights, predictors and outcome write a function to compute the Residual Sum of Squares\n",
        "* Look at coefficients and interpret their meanings\n",
        "* Evaluate multiple models via RSS"
      ]
    },
    {
      "cell_type": "markdown",
      "metadata": {
        "id": "7Mwisb2YFLs6"
      },
      "source": [
        "# Fire up Turi Create"
      ]
    },
    {
      "cell_type": "code",
      "metadata": {
        "colab": {
          "base_uri": "https://localhost:8080/",
          "height": 1000
        },
        "id": "ENp-1LoMFlTa",
        "outputId": "cfb8eed0-192d-4ca9-ac25-d9b8be060a24"
      },
      "source": [
        "pip install turicreate"
      ],
      "execution_count": null,
      "outputs": [
        {
          "output_type": "stream",
          "text": [
            "Collecting turicreate\n",
            "\u001b[?25l  Downloading https://files.pythonhosted.org/packages/75/38/77a081ce35f012bd4789551db9e5196e766a2641cb05114ded9cc268182c/turicreate-6.4.1-cp27-cp27mu-manylinux1_x86_64.whl (91.9MB)\n",
            "\u001b[K     |████████████████████████████████| 91.9MB 81kB/s \n",
            "\u001b[?25hCollecting pillow>=5.2.0\n",
            "\u001b[?25l  Downloading https://files.pythonhosted.org/packages/12/ad/61f8dfba88c4e56196bf6d056cdbba64dc9c5dfdfbc97d02e6472feed913/Pillow-6.2.2-cp27-cp27mu-manylinux1_x86_64.whl (2.1MB)\n",
            "\u001b[K     |████████████████████████████████| 2.1MB 22.1MB/s \n",
            "\u001b[?25hRequirement already satisfied: numpy in /usr/local/lib/python2.7/dist-packages (from turicreate) (1.16.4)\n",
            "Requirement already satisfied: requests>=2.9.1 in /usr/local/lib/python2.7/dist-packages (from turicreate) (2.23.0)\n",
            "Collecting tensorflow<2.1.0,>=2.0.0\n",
            "\u001b[?25l  Downloading https://files.pythonhosted.org/packages/17/08/1ff15637a03b1565dd6cb0916b3ca6873db3a1fc69be0ed851be936e5633/tensorflow-2.0.0-cp27-cp27mu-manylinux2010_x86_64.whl (86.3MB)\n",
            "\u001b[K     |████████████████████████████████| 86.3MB 43kB/s \n",
            "\u001b[?25hRequirement already satisfied: prettytable==0.7.2 in /usr/local/lib/python2.7/dist-packages (from turicreate) (0.7.2)\n",
            "Collecting llvmlite==0.31.0\n",
            "\u001b[?25l  Downloading https://files.pythonhosted.org/packages/91/07/90cd9cdd43b287960b16dbf7929bff2267dc0b6647e8e0117a4937b19620/llvmlite-0.31.0-cp27-cp27mu-manylinux1_x86_64.whl (20.2MB)\n",
            "\u001b[K     |████████████████████████████████| 20.2MB 1.2MB/s \n",
            "\u001b[?25hRequirement already satisfied: pandas>=0.23.2 in /usr/local/lib/python2.7/dist-packages (from turicreate) (0.24.2)\n",
            "Requirement already satisfied: decorator>=4.0.9 in /usr/local/lib/python2.7/dist-packages (from turicreate) (4.4.0)\n",
            "Requirement already satisfied: numba<0.51.0 in /usr/local/lib/python2.7/dist-packages (from turicreate) (0.40.1)\n",
            "Requirement already satisfied: scipy>=1.1.0 in /usr/local/lib/python2.7/dist-packages (from turicreate) (1.2.2)\n",
            "Requirement already satisfied: six>=1.10.0 in /usr/local/lib/python2.7/dist-packages (from turicreate) (1.15.0)\n",
            "Requirement already satisfied: resampy==0.2.1 in /usr/local/lib/python2.7/dist-packages (from turicreate) (0.2.1)\n",
            "Collecting coremltools==3.3\n",
            "\u001b[?25l  Downloading https://files.pythonhosted.org/packages/46/9b/f6feac5d9369c68ee718d3c3140435452773a36ff08ef3bcc4fe378e8676/coremltools-3.3-cp27-none-manylinux1_x86_64.whl (3.4MB)\n",
            "\u001b[K     |████████████████████████████████| 3.4MB 43.1MB/s \n",
            "\u001b[?25hRequirement already satisfied: urllib3!=1.25.0,!=1.25.1,<1.26,>=1.21.1 in /usr/local/lib/python2.7/dist-packages (from requests>=2.9.1->turicreate) (1.24.3)\n",
            "Requirement already satisfied: chardet<4,>=3.0.2 in /usr/local/lib/python2.7/dist-packages (from requests>=2.9.1->turicreate) (3.0.4)\n",
            "Requirement already satisfied: certifi>=2017.4.17 in /usr/local/lib/python2.7/dist-packages (from requests>=2.9.1->turicreate) (2019.6.16)\n",
            "Requirement already satisfied: idna<3,>=2.5 in /usr/local/lib/python2.7/dist-packages (from requests>=2.9.1->turicreate) (2.8)\n",
            "Requirement already satisfied: gast==0.2.2 in /usr/local/lib/python2.7/dist-packages (from tensorflow<2.1.0,>=2.0.0->turicreate) (0.2.2)\n",
            "Requirement already satisfied: grpcio>=1.8.6 in /usr/local/lib/python2.7/dist-packages (from tensorflow<2.1.0,>=2.0.0->turicreate) (1.15.0)\n",
            "Collecting tensorboard<2.1.0,>=2.0.0\n",
            "\u001b[?25l  Downloading https://files.pythonhosted.org/packages/a7/3d/993131c622ae34f9401a81526853f2310a4834bd042420a7982fb5bc5fd0/tensorboard-2.0.2-py2-none-any.whl (3.8MB)\n",
            "\u001b[K     |████████████████████████████████| 3.8MB 47.8MB/s \n",
            "\u001b[?25hRequirement already satisfied: wrapt>=1.11.1 in /usr/local/lib/python2.7/dist-packages (from tensorflow<2.1.0,>=2.0.0->turicreate) (1.11.2)\n",
            "Requirement already satisfied: protobuf>=3.6.1 in /usr/local/lib/python2.7/dist-packages (from tensorflow<2.1.0,>=2.0.0->turicreate) (3.8.0)\n",
            "Requirement already satisfied: keras-preprocessing>=1.0.5 in /usr/local/lib/python2.7/dist-packages (from tensorflow<2.1.0,>=2.0.0->turicreate) (1.1.0)\n",
            "Requirement already satisfied: backports.weakref>=1.0rc1; python_version < \"3.4\" in /usr/local/lib/python2.7/dist-packages (from tensorflow<2.1.0,>=2.0.0->turicreate) (1.0.post1)\n",
            "Requirement already satisfied: keras-applications>=1.0.8 in /usr/local/lib/python2.7/dist-packages (from tensorflow<2.1.0,>=2.0.0->turicreate) (1.0.8)\n",
            "Requirement already satisfied: wheel in /usr/local/lib/python2.7/dist-packages (from tensorflow<2.1.0,>=2.0.0->turicreate) (0.36.2)\n",
            "Requirement already satisfied: functools32>=3.2.3 in /usr/local/lib/python2.7/dist-packages (from tensorflow<2.1.0,>=2.0.0->turicreate) (3.2.3.post2)\n",
            "Requirement already satisfied: mock>=2.0.0 in /usr/local/lib/python2.7/dist-packages (from tensorflow<2.1.0,>=2.0.0->turicreate) (2.0.0)\n",
            "Requirement already satisfied: absl-py>=0.7.0 in /usr/local/lib/python2.7/dist-packages (from tensorflow<2.1.0,>=2.0.0->turicreate) (0.7.1)\n",
            "Requirement already satisfied: opt-einsum>=2.3.2 in /usr/local/lib/python2.7/dist-packages (from tensorflow<2.1.0,>=2.0.0->turicreate) (2.3.2)\n",
            "Requirement already satisfied: termcolor>=1.1.0 in /usr/local/lib/python2.7/dist-packages (from tensorflow<2.1.0,>=2.0.0->turicreate) (1.1.0)\n",
            "Requirement already satisfied: google-pasta>=0.1.6 in /usr/local/lib/python2.7/dist-packages (from tensorflow<2.1.0,>=2.0.0->turicreate) (0.1.7)\n",
            "Requirement already satisfied: enum34>=1.1.6; python_version < \"3.4\" in /usr/local/lib/python2.7/dist-packages (from tensorflow<2.1.0,>=2.0.0->turicreate) (1.1.6)\n",
            "Collecting tensorflow-estimator<2.1.0,>=2.0.0\n",
            "\u001b[?25l  Downloading https://files.pythonhosted.org/packages/fc/08/8b927337b7019c374719145d1dceba21a8bb909b93b1ad6f8fb7d22c1ca1/tensorflow_estimator-2.0.1-py2.py3-none-any.whl (449kB)\n",
            "\u001b[K     |████████████████████████████████| 450kB 46.9MB/s \n",
            "\u001b[?25hRequirement already satisfied: astor>=0.6.0 in /usr/local/lib/python2.7/dist-packages (from tensorflow<2.1.0,>=2.0.0->turicreate) (0.8.1)\n",
            "Requirement already satisfied: pytz>=2011k in /usr/local/lib/python2.7/dist-packages (from pandas>=0.23.2->turicreate) (2018.9)\n",
            "Requirement already satisfied: python-dateutil>=2.5.0 in /usr/local/lib/python2.7/dist-packages (from pandas>=0.23.2->turicreate) (2.5.3)\n",
            "Requirement already satisfied: funcsigs in /usr/local/lib/python2.7/dist-packages (from numba<0.51.0->turicreate) (1.0.2)\n",
            "Requirement already satisfied: singledispatch in /usr/local/lib/python2.7/dist-packages (from numba<0.51.0->turicreate) (3.4.0.3)\n",
            "Requirement already satisfied: futures>=2.2.0 in /usr/local/lib/python2.7/dist-packages (from grpcio>=1.8.6->tensorflow<2.1.0,>=2.0.0->turicreate) (3.2.0)\n",
            "Requirement already satisfied: setuptools>=41.0.0 in /usr/local/lib/python2.7/dist-packages (from tensorboard<2.1.0,>=2.0.0->tensorflow<2.1.0,>=2.0.0->turicreate) (44.1.1)\n",
            "Collecting google-auth-oauthlib<0.5,>=0.4.1\n",
            "  Downloading https://files.pythonhosted.org/packages/7b/b8/88def36e74bee9fce511c9519571f4e485e890093ab7442284f4ffaef60b/google_auth_oauthlib-0.4.1-py2.py3-none-any.whl\n",
            "Requirement already satisfied: werkzeug>=0.11.15 in /usr/local/lib/python2.7/dist-packages (from tensorboard<2.1.0,>=2.0.0->tensorflow<2.1.0,>=2.0.0->turicreate) (0.15.5)\n",
            "Requirement already satisfied: google-auth<2,>=1.6.3 in /usr/local/lib/python2.7/dist-packages (from tensorboard<2.1.0,>=2.0.0->tensorflow<2.1.0,>=2.0.0->turicreate) (1.34.0)\n",
            "Requirement already satisfied: markdown>=2.6.8 in /usr/local/lib/python2.7/dist-packages (from tensorboard<2.1.0,>=2.0.0->tensorflow<2.1.0,>=2.0.0->turicreate) (3.1.1)\n",
            "Requirement already satisfied: h5py in /usr/local/lib/python2.7/dist-packages (from keras-applications>=1.0.8->tensorflow<2.1.0,>=2.0.0->turicreate) (2.8.0)\n",
            "Requirement already satisfied: pbr>=0.11 in /usr/local/lib/python2.7/dist-packages (from mock>=2.0.0->tensorflow<2.1.0,>=2.0.0->turicreate) (5.4.0)\n",
            "Requirement already satisfied: requests-oauthlib>=0.7.0 in /usr/local/lib/python2.7/dist-packages (from google-auth-oauthlib<0.5,>=0.4.1->tensorboard<2.1.0,>=2.0.0->tensorflow<2.1.0,>=2.0.0->turicreate) (1.2.0)\n",
            "Requirement already satisfied: cachetools<5.0,>=2.0.0 in /usr/local/lib/python2.7/dist-packages (from google-auth<2,>=1.6.3->tensorboard<2.1.0,>=2.0.0->tensorflow<2.1.0,>=2.0.0->turicreate) (3.1.1)\n",
            "Requirement already satisfied: pyasn1-modules>=0.2.1 in /usr/local/lib/python2.7/dist-packages (from google-auth<2,>=1.6.3->tensorboard<2.1.0,>=2.0.0->tensorflow<2.1.0,>=2.0.0->turicreate) (0.2.5)\n",
            "Requirement already satisfied: rsa<4.6; python_version < \"3.6\" in /usr/local/lib/python2.7/dist-packages (from google-auth<2,>=1.6.3->tensorboard<2.1.0,>=2.0.0->tensorflow<2.1.0,>=2.0.0->turicreate) (4.0)\n",
            "Requirement already satisfied: oauthlib>=3.0.0 in /usr/local/lib/python2.7/dist-packages (from requests-oauthlib>=0.7.0->google-auth-oauthlib<0.5,>=0.4.1->tensorboard<2.1.0,>=2.0.0->tensorflow<2.1.0,>=2.0.0->turicreate) (3.0.2)\n",
            "Requirement already satisfied: pyasn1<0.5.0,>=0.4.1 in /usr/local/lib/python2.7/dist-packages (from pyasn1-modules>=0.2.1->google-auth<2,>=1.6.3->tensorboard<2.1.0,>=2.0.0->tensorflow<2.1.0,>=2.0.0->turicreate) (0.4.5)\n",
            "\u001b[31mERROR: fastai 0.7.0 has requirement torch<0.4, but you'll have torch 1.4.0 which is incompatible.\u001b[0m\n",
            "\u001b[31mERROR: tensorboard 2.0.2 has requirement grpcio>=1.24.3, but you'll have grpcio 1.15.0 which is incompatible.\u001b[0m\n",
            "Installing collected packages: pillow, google-auth-oauthlib, tensorboard, tensorflow-estimator, tensorflow, llvmlite, coremltools, turicreate\n",
            "  Found existing installation: Pillow 4.3.0\n",
            "    Uninstalling Pillow-4.3.0:\n",
            "      Successfully uninstalled Pillow-4.3.0\n",
            "  Found existing installation: google-auth-oauthlib 0.4.0\n",
            "    Uninstalling google-auth-oauthlib-0.4.0:\n",
            "      Successfully uninstalled google-auth-oauthlib-0.4.0\n",
            "  Found existing installation: tensorboard 2.1.0\n",
            "    Uninstalling tensorboard-2.1.0:\n",
            "      Successfully uninstalled tensorboard-2.1.0\n",
            "  Found existing installation: tensorflow-estimator 1.15.0\n",
            "    Uninstalling tensorflow-estimator-1.15.0:\n",
            "      Successfully uninstalled tensorflow-estimator-1.15.0\n",
            "  Found existing installation: tensorflow 2.1.0\n",
            "    Uninstalling tensorflow-2.1.0:\n",
            "      Successfully uninstalled tensorflow-2.1.0\n",
            "  Found existing installation: llvmlite 0.29.0\n",
            "    Uninstalling llvmlite-0.29.0:\n",
            "      Successfully uninstalled llvmlite-0.29.0\n",
            "Successfully installed coremltools-3.3 google-auth-oauthlib-0.4.1 llvmlite-0.31.0 pillow-6.2.2 tensorboard-2.0.2 tensorflow-2.0.0 tensorflow-estimator-2.0.1 turicreate-6.4.1\n"
          ],
          "name": "stdout"
        },
        {
          "output_type": "display_data",
          "data": {
            "application/vnd.colab-display-data+json": {
              "pip_warning": {
                "packages": [
                  "PIL"
                ]
              }
            }
          },
          "metadata": {
            "tags": []
          }
        }
      ]
    },
    {
      "cell_type": "code",
      "metadata": {
        "id": "nT-z26_5FLs8"
      },
      "source": [
        "import turicreate"
      ],
      "execution_count": null,
      "outputs": []
    },
    {
      "cell_type": "markdown",
      "metadata": {
        "id": "hvjiYM-xFLs9"
      },
      "source": [
        "# 1. Load in house sales data\n",
        "\n",
        "Dataset is from house sales in King County, the region where the city of Seattle, WA is located."
      ]
    },
    {
      "cell_type": "code",
      "metadata": {
        "colab": {
          "base_uri": "https://localhost:8080/"
        },
        "id": "0_eCTcmwGBtl",
        "outputId": "078bff4d-8c87-4aad-8ebb-8ea790ee4290"
      },
      "source": [
        "from google.colab import drive\n",
        "drive.mount('/content/gdrive')"
      ],
      "execution_count": null,
      "outputs": [
        {
          "output_type": "stream",
          "text": [
            "Mounted at /content/gdrive\n"
          ],
          "name": "stdout"
        }
      ]
    },
    {
      "cell_type": "code",
      "metadata": {
        "scrolled": true,
        "id": "opmRrD_QFLs_"
      },
      "source": [
        "sales = turicreate.SFrame('/content/gdrive/My Drive/Turicreate/Week 8/home_data.sframe/')"
      ],
      "execution_count": null,
      "outputs": []
    },
    {
      "cell_type": "markdown",
      "metadata": {
        "id": "8WHCs5LlFLtA"
      },
      "source": [
        "# 2. Split data into training and testing.\n",
        "We use seed=0 so that everyone running this notebook gets the same results.  In practice, you may set a random seed (or let Turi Create pick a random seed for you).  "
      ]
    },
    {
      "cell_type": "code",
      "metadata": {
        "id": "N7Y0E7MaFLtC"
      },
      "source": [
        "train_data,test_data = sales.random_split(.8,seed=0)"
      ],
      "execution_count": null,
      "outputs": []
    },
    {
      "cell_type": "markdown",
      "metadata": {
        "id": "oFfXDGlbFLtD"
      },
      "source": [
        "# Learning a multiple regression model"
      ]
    },
    {
      "cell_type": "markdown",
      "metadata": {
        "id": "AQ66QuxIFLtF"
      },
      "source": [
        "Recall we can use the following code to learn a multiple regression model predicting 'price' based on the following features:\n",
        "example_features = ['sqft_living', 'bedrooms', 'bathrooms'] on training data with the following code:\n",
        "\n",
        "(Aside: We set validation_set = None to ensure that the results are always the same)"
      ]
    },
    {
      "cell_type": "code",
      "metadata": {
        "colab": {
          "base_uri": "https://localhost:8080/",
          "height": 255
        },
        "id": "ZYlWjcUMFLtG",
        "outputId": "1cf38a07-b3b7-4af7-d388-2ca529203a34"
      },
      "source": [
        "example_features = ['sqft_living', 'bedrooms', 'bathrooms']\n",
        "example_model = turicreate.linear_regression.create(train_data, target = 'price', features = example_features, \n",
        "                                                    validation_set = None)"
      ],
      "execution_count": null,
      "outputs": [
        {
          "output_type": "display_data",
          "data": {
            "text/plain": [
              "Linear regression:"
            ],
            "text/html": [
              "<pre>Linear regression:</pre>"
            ]
          },
          "metadata": {
            "tags": []
          }
        },
        {
          "output_type": "display_data",
          "data": {
            "text/plain": [
              "--------------------------------------------------------"
            ],
            "text/html": [
              "<pre>--------------------------------------------------------</pre>"
            ]
          },
          "metadata": {
            "tags": []
          }
        },
        {
          "output_type": "display_data",
          "data": {
            "text/plain": [
              "Number of examples          : 17384"
            ],
            "text/html": [
              "<pre>Number of examples          : 17384</pre>"
            ]
          },
          "metadata": {
            "tags": []
          }
        },
        {
          "output_type": "display_data",
          "data": {
            "text/plain": [
              "Number of features          : 3"
            ],
            "text/html": [
              "<pre>Number of features          : 3</pre>"
            ]
          },
          "metadata": {
            "tags": []
          }
        },
        {
          "output_type": "display_data",
          "data": {
            "text/plain": [
              "Number of unpacked features : 3"
            ],
            "text/html": [
              "<pre>Number of unpacked features : 3</pre>"
            ]
          },
          "metadata": {
            "tags": []
          }
        },
        {
          "output_type": "display_data",
          "data": {
            "text/plain": [
              "Number of coefficients    : 4"
            ],
            "text/html": [
              "<pre>Number of coefficients    : 4</pre>"
            ]
          },
          "metadata": {
            "tags": []
          }
        },
        {
          "output_type": "display_data",
          "data": {
            "text/plain": [
              "Starting Newton Method"
            ],
            "text/html": [
              "<pre>Starting Newton Method</pre>"
            ]
          },
          "metadata": {
            "tags": []
          }
        },
        {
          "output_type": "display_data",
          "data": {
            "text/plain": [
              "--------------------------------------------------------"
            ],
            "text/html": [
              "<pre>--------------------------------------------------------</pre>"
            ]
          },
          "metadata": {
            "tags": []
          }
        },
        {
          "output_type": "display_data",
          "data": {
            "text/plain": [
              "+-----------+----------+--------------+--------------------+---------------------------------+"
            ],
            "text/html": [
              "<pre>+-----------+----------+--------------+--------------------+---------------------------------+</pre>"
            ]
          },
          "metadata": {
            "tags": []
          }
        },
        {
          "output_type": "display_data",
          "data": {
            "text/plain": [
              "| Iteration | Passes   | Elapsed Time | Training Max Error | Training Root-Mean-Square Error |"
            ],
            "text/html": [
              "<pre>| Iteration | Passes   | Elapsed Time | Training Max Error | Training Root-Mean-Square Error |</pre>"
            ]
          },
          "metadata": {
            "tags": []
          }
        },
        {
          "output_type": "display_data",
          "data": {
            "text/plain": [
              "+-----------+----------+--------------+--------------------+---------------------------------+"
            ],
            "text/html": [
              "<pre>+-----------+----------+--------------+--------------------+---------------------------------+</pre>"
            ]
          },
          "metadata": {
            "tags": []
          }
        },
        {
          "output_type": "display_data",
          "data": {
            "text/plain": [
              "| 1         | 2        | 1.011123     | 4146407.600631     | 258679.804477                   |"
            ],
            "text/html": [
              "<pre>| 1         | 2        | 1.011123     | 4146407.600631     | 258679.804477                   |</pre>"
            ]
          },
          "metadata": {
            "tags": []
          }
        },
        {
          "output_type": "display_data",
          "data": {
            "text/plain": [
              "+-----------+----------+--------------+--------------------+---------------------------------+"
            ],
            "text/html": [
              "<pre>+-----------+----------+--------------+--------------------+---------------------------------+</pre>"
            ]
          },
          "metadata": {
            "tags": []
          }
        },
        {
          "output_type": "display_data",
          "data": {
            "text/plain": [
              "SUCCESS: Optimal solution found."
            ],
            "text/html": [
              "<pre>SUCCESS: Optimal solution found.</pre>"
            ]
          },
          "metadata": {
            "tags": []
          }
        },
        {
          "output_type": "display_data",
          "data": {
            "text/plain": [
              ""
            ],
            "text/html": [
              "<pre></pre>"
            ]
          },
          "metadata": {
            "tags": []
          }
        }
      ]
    },
    {
      "cell_type": "markdown",
      "metadata": {
        "id": "FRyAMZzOFLtG"
      },
      "source": [
        "Now that we have fitted the model we can extract the regression weights (coefficients) as an SFrame as follows:"
      ]
    },
    {
      "cell_type": "code",
      "metadata": {
        "colab": {
          "base_uri": "https://localhost:8080/"
        },
        "id": "Pff3Rll6FLtH",
        "outputId": "cab7d34d-c770-4325-d9d2-435e3dd1c583"
      },
      "source": [
        "example_weight_summary = example_model.coefficients\n",
        "print example_weight_summary"
      ],
      "execution_count": null,
      "outputs": [
        {
          "output_type": "stream",
          "text": [
            "+-------------+-------+----------------+---------------+\n",
            "|     name    | index |     value      |     stderr    |\n",
            "+-------------+-------+----------------+---------------+\n",
            "| (intercept) |  None | 87910.0724924  |  7873.3381434 |\n",
            "| sqft_living |  None | 315.403440552  | 3.45570032585 |\n",
            "|   bedrooms  |  None | -65080.2155528 | 2717.45685442 |\n",
            "|  bathrooms  |  None | 6944.02019264  | 3923.11493144 |\n",
            "+-------------+-------+----------------+---------------+\n",
            "[4 rows x 4 columns]\n",
            "\n"
          ],
          "name": "stdout"
        }
      ]
    },
    {
      "cell_type": "markdown",
      "metadata": {
        "id": "kGHr6E7IFLtI"
      },
      "source": [
        "# Making Predictions\n",
        "\n",
        "In the gradient descent notebook we use numpy to do our regression. In this book we will use existing Turi Create functions to analyze multiple regressions. \n",
        "\n",
        "Recall that once a model is built we can use the .predict() function to find the predicted values for data we pass. For example using the example model above:"
      ]
    },
    {
      "cell_type": "code",
      "metadata": {
        "colab": {
          "base_uri": "https://localhost:8080/"
        },
        "id": "X3xv9OjlFLtI",
        "outputId": "79f33680-cd76-437a-d6d5-e456fbb5216e"
      },
      "source": [
        "example_predictions = example_model.predict(train_data)\n",
        "print example_predictions[0] # should be 271789.505878"
      ],
      "execution_count": null,
      "outputs": [
        {
          "output_type": "stream",
          "text": [
            "271789.505878\n"
          ],
          "name": "stdout"
        }
      ]
    },
    {
      "cell_type": "markdown",
      "metadata": {
        "id": "OBKu00-6FLtI"
      },
      "source": [
        "# Compute RSS"
      ]
    },
    {
      "cell_type": "markdown",
      "metadata": {
        "id": "UrOtVkpzFLtJ"
      },
      "source": [
        "Now that we can make predictions given the model, let's write a function to compute the RSS of the model. Complete the function below to calculate RSS given the model, data, and the outcome."
      ]
    },
    {
      "cell_type": "code",
      "metadata": {
        "id": "i5LgHr8UFLtJ"
      },
      "source": [
        "def get_residual_sum_of_squares(model, data, outcome):\n",
        "    # First get the predictions\n",
        "    predictions = model.predict(data)\n",
        "\n",
        "    # Then compute the residuals/errors\n",
        "    residuals = outcome - predictions\n",
        "    \n",
        "    # Then square and add them up\n",
        "    RSS = (residuals * residuals).sum()\n",
        "\n",
        "    return(RSS)    "
      ],
      "execution_count": null,
      "outputs": []
    },
    {
      "cell_type": "markdown",
      "metadata": {
        "id": "rMCK5L7sFLtJ"
      },
      "source": [
        "Test your function by computing the RSS on TEST data for the example model:"
      ]
    },
    {
      "cell_type": "code",
      "metadata": {
        "colab": {
          "base_uri": "https://localhost:8080/"
        },
        "id": "42CkKdACFLtK",
        "outputId": "044d3aa4-a291-4d8b-c043-750a374b2695"
      },
      "source": [
        "rss_example_train = get_residual_sum_of_squares(example_model, test_data, test_data['price'])\n",
        "print rss_example_train # should be 2.7376153833e+14"
      ],
      "execution_count": null,
      "outputs": [
        {
          "output_type": "stream",
          "text": [
            "2.7376153833e+14\n"
          ],
          "name": "stdout"
        }
      ]
    },
    {
      "cell_type": "markdown",
      "metadata": {
        "id": "kSEQMPazFLtK"
      },
      "source": [
        "# 3. Create some new features"
      ]
    },
    {
      "cell_type": "markdown",
      "metadata": {
        "id": "UpX8yhz8FLtK"
      },
      "source": [
        "Although we often think of multiple regression as including multiple different features (e.g. # of bedrooms, squarefeet, and # of bathrooms) but we can also consider transformations of existing features e.g. the log of the squarefeet or even \"interaction\" features such as the product of bedrooms and bathrooms."
      ]
    },
    {
      "cell_type": "markdown",
      "metadata": {
        "id": "YjMNOU8NFLtL"
      },
      "source": [
        "You will use the logarithm function to create a new feature. so first you should import it from the math library."
      ]
    },
    {
      "cell_type": "code",
      "metadata": {
        "id": "yhRbhYqsFLtL"
      },
      "source": [
        "from math import log"
      ],
      "execution_count": null,
      "outputs": []
    },
    {
      "cell_type": "markdown",
      "metadata": {
        "id": "ClGVqwuMFLtM"
      },
      "source": [
        "Next create the following 4 new features as column in both TEST and TRAIN data:\n",
        "* bedrooms_squared = bedrooms\\*bedrooms\n",
        "* bed_bath_rooms = bedrooms\\*bathrooms\n",
        "* log_sqft_living = log(sqft_living)\n",
        "* lat_plus_long = lat + long \n",
        "\n",
        "As an example here's the first one:"
      ]
    },
    {
      "cell_type": "code",
      "metadata": {
        "id": "zO97-bYDFLtM"
      },
      "source": [
        "train_data['bedrooms_squared'] = train_data['bedrooms'].apply(lambda x: x**2)\n",
        "test_data['bedrooms_squared'] = test_data['bedrooms'].apply(lambda x: x**2)"
      ],
      "execution_count": null,
      "outputs": []
    },
    {
      "cell_type": "code",
      "metadata": {
        "id": "aHaB-Y--FLtM"
      },
      "source": [
        "# create the remaining 3 features in both TEST and TRAIN data\n",
        "\n",
        "train_data['bed_bath_rooms'] = train_data['bedrooms'] * train_data['bathrooms']\n",
        "test_data['bed_bath_rooms'] = test_data['bedrooms'] * test_data['bathrooms']\n",
        "\n",
        "train_data['log_sqft_living'] = train_data['sqft_living'].apply(lambda x: log(x))\n",
        "test_data['log_sqft_living'] = test_data['sqft_living'].apply(lambda x: log(x))\n",
        "\n",
        "train_data['lat_plus_long'] = train_data['lat'] + train_data['long']\n",
        "test_data['lat_plus_long'] = test_data['lat'] + test_data['long']\n"
      ],
      "execution_count": null,
      "outputs": []
    },
    {
      "cell_type": "markdown",
      "metadata": {
        "id": "m3CB445KFLtN"
      },
      "source": [
        "* Squaring bedrooms will increase the separation between not many bedrooms (e.g. 1) and lots of bedrooms (e.g. 4) since 1^2 = 1 but 4^2 = 16. Consequently this feature will mostly affect houses with many bedrooms.\n",
        "* bedrooms times bathrooms gives what's called an \"interaction\" feature. It is large when *both* of them are large.\n",
        "* Taking the log of squarefeet has the effect of bringing large values closer together and spreading out small values.\n",
        "* Adding latitude to longitude is totally non-sensical but we will do it anyway (you'll see why)"
      ]
    },
    {
      "cell_type": "markdown",
      "metadata": {
        "id": "91GlFIDLFLtN"
      },
      "source": [
        "# 4. Quiz Question: \n",
        "**What is the mean (arithmetic average) value of your 4 new features on TEST data? (round to 2 digits)**"
      ]
    },
    {
      "cell_type": "code",
      "metadata": {
        "colab": {
          "base_uri": "https://localhost:8080/",
          "height": 490
        },
        "id": "QX6dvLUqFLtO",
        "outputId": "b918a682-f6e8-4fd8-de05-3394b9af70e2"
      },
      "source": [
        "train_data[['bedrooms','bathrooms','lat','long','bedrooms_squared','bed_bath_rooms','log_sqft_living','lat_plus_long']]"
      ],
      "execution_count": null,
      "outputs": [
        {
          "output_type": "execute_result",
          "data": {
            "text/plain": [
              "Columns:\n",
              "\tbedrooms\tfloat\n",
              "\tbathrooms\tfloat\n",
              "\tlat\tfloat\n",
              "\tlong\tfloat\n",
              "\tbedrooms_squared\tfloat\n",
              "\tbed_bath_rooms\tfloat\n",
              "\tlog_sqft_living\tfloat\n",
              "\tlat_plus_long\tfloat\n",
              "\n",
              "Rows: 17384\n",
              "\n",
              "Data:\n",
              "+----------+-----------+-------------+---------------+------------------+----------------+\n",
              "| bedrooms | bathrooms |     lat     |      long     | bedrooms_squared | bed_bath_rooms |\n",
              "+----------+-----------+-------------+---------------+------------------+----------------+\n",
              "|   3.0    |    1.0    | 47.51123398 | -122.25677536 |       9.0        |      3.0       |\n",
              "|   3.0    |    2.25   | 47.72102274 |  -122.3188624 |       9.0        |      6.75      |\n",
              "|   2.0    |    1.0    | 47.73792661 | -122.23319601 |       4.0        |      2.0       |\n",
              "|   4.0    |    3.0    |   47.52082  | -122.39318505 |       16.0       |      12.0      |\n",
              "|   3.0    |    2.0    | 47.61681228 | -122.04490059 |       9.0        |      6.0       |\n",
              "|   4.0    |    4.5    | 47.65611835 | -122.00528655 |       16.0       |      18.0      |\n",
              "|   3.0    |    2.25   | 47.30972002 | -122.32704857 |       9.0        |      6.75      |\n",
              "|   3.0    |    1.5    | 47.40949984 | -122.31457273 |       9.0        |      4.5       |\n",
              "|   3.0    |    1.0    | 47.51229381 | -122.33659507 |       9.0        |      3.0       |\n",
              "|   3.0    |    2.5    | 47.36840673 |  -122.0308176 |       9.0        |      7.5       |\n",
              "+----------+-----------+-------------+---------------+------------------+----------------+\n",
              "+-----------------+---------------+\n",
              "| log_sqft_living | lat_plus_long |\n",
              "+-----------------+---------------+\n",
              "|  7.07326971746  |  -74.74554138 |\n",
              "|  7.85166117789  |  -74.59783966 |\n",
              "|  6.64639051485  |  -74.4952694  |\n",
              "|  7.58069975222  |  -74.87236505 |\n",
              "|   7.4265490724  |  -74.42808831 |\n",
              "|  8.59785109443  |  -74.3491682  |\n",
              "|   7.4471683596  |  -75.01732855 |\n",
              "|  6.96602418711  |  -74.90507289 |\n",
              "|  7.48436864329  |  -74.82430126 |\n",
              "|  7.54433210805  |  -74.66241087 |\n",
              "+-----------------+---------------+\n",
              "[17384 rows x 8 columns]\n",
              "Note: Only the head of the SFrame is printed.\n",
              "You can use print_rows(num_rows=m, num_columns=n) to print more rows and columns."
            ],
            "text/html": [
              "<div style=\"max-height:1000px;max-width:1500px;overflow:auto;\"><table frame=\"box\" rules=\"cols\">\n",
              "    <tr>\n",
              "        <th style=\"padding-left: 1em; padding-right: 1em; text-align: center\">bedrooms</th>\n",
              "        <th style=\"padding-left: 1em; padding-right: 1em; text-align: center\">bathrooms</th>\n",
              "        <th style=\"padding-left: 1em; padding-right: 1em; text-align: center\">lat</th>\n",
              "        <th style=\"padding-left: 1em; padding-right: 1em; text-align: center\">long</th>\n",
              "        <th style=\"padding-left: 1em; padding-right: 1em; text-align: center\">bedrooms_squared</th>\n",
              "        <th style=\"padding-left: 1em; padding-right: 1em; text-align: center\">bed_bath_rooms</th>\n",
              "        <th style=\"padding-left: 1em; padding-right: 1em; text-align: center\">log_sqft_living</th>\n",
              "    </tr>\n",
              "    <tr>\n",
              "        <td style=\"padding-left: 1em; padding-right: 1em; text-align: center; vertical-align: top\">3.0</td>\n",
              "        <td style=\"padding-left: 1em; padding-right: 1em; text-align: center; vertical-align: top\">1.0</td>\n",
              "        <td style=\"padding-left: 1em; padding-right: 1em; text-align: center; vertical-align: top\">47.51123398</td>\n",
              "        <td style=\"padding-left: 1em; padding-right: 1em; text-align: center; vertical-align: top\">-122.25677536</td>\n",
              "        <td style=\"padding-left: 1em; padding-right: 1em; text-align: center; vertical-align: top\">9.0</td>\n",
              "        <td style=\"padding-left: 1em; padding-right: 1em; text-align: center; vertical-align: top\">3.0</td>\n",
              "        <td style=\"padding-left: 1em; padding-right: 1em; text-align: center; vertical-align: top\">7.07326971746</td>\n",
              "    </tr>\n",
              "    <tr>\n",
              "        <td style=\"padding-left: 1em; padding-right: 1em; text-align: center; vertical-align: top\">3.0</td>\n",
              "        <td style=\"padding-left: 1em; padding-right: 1em; text-align: center; vertical-align: top\">2.25</td>\n",
              "        <td style=\"padding-left: 1em; padding-right: 1em; text-align: center; vertical-align: top\">47.72102274</td>\n",
              "        <td style=\"padding-left: 1em; padding-right: 1em; text-align: center; vertical-align: top\">-122.3188624</td>\n",
              "        <td style=\"padding-left: 1em; padding-right: 1em; text-align: center; vertical-align: top\">9.0</td>\n",
              "        <td style=\"padding-left: 1em; padding-right: 1em; text-align: center; vertical-align: top\">6.75</td>\n",
              "        <td style=\"padding-left: 1em; padding-right: 1em; text-align: center; vertical-align: top\">7.85166117789</td>\n",
              "    </tr>\n",
              "    <tr>\n",
              "        <td style=\"padding-left: 1em; padding-right: 1em; text-align: center; vertical-align: top\">2.0</td>\n",
              "        <td style=\"padding-left: 1em; padding-right: 1em; text-align: center; vertical-align: top\">1.0</td>\n",
              "        <td style=\"padding-left: 1em; padding-right: 1em; text-align: center; vertical-align: top\">47.73792661</td>\n",
              "        <td style=\"padding-left: 1em; padding-right: 1em; text-align: center; vertical-align: top\">-122.23319601</td>\n",
              "        <td style=\"padding-left: 1em; padding-right: 1em; text-align: center; vertical-align: top\">4.0</td>\n",
              "        <td style=\"padding-left: 1em; padding-right: 1em; text-align: center; vertical-align: top\">2.0</td>\n",
              "        <td style=\"padding-left: 1em; padding-right: 1em; text-align: center; vertical-align: top\">6.64639051485</td>\n",
              "    </tr>\n",
              "    <tr>\n",
              "        <td style=\"padding-left: 1em; padding-right: 1em; text-align: center; vertical-align: top\">4.0</td>\n",
              "        <td style=\"padding-left: 1em; padding-right: 1em; text-align: center; vertical-align: top\">3.0</td>\n",
              "        <td style=\"padding-left: 1em; padding-right: 1em; text-align: center; vertical-align: top\">47.52082</td>\n",
              "        <td style=\"padding-left: 1em; padding-right: 1em; text-align: center; vertical-align: top\">-122.39318505</td>\n",
              "        <td style=\"padding-left: 1em; padding-right: 1em; text-align: center; vertical-align: top\">16.0</td>\n",
              "        <td style=\"padding-left: 1em; padding-right: 1em; text-align: center; vertical-align: top\">12.0</td>\n",
              "        <td style=\"padding-left: 1em; padding-right: 1em; text-align: center; vertical-align: top\">7.58069975222</td>\n",
              "    </tr>\n",
              "    <tr>\n",
              "        <td style=\"padding-left: 1em; padding-right: 1em; text-align: center; vertical-align: top\">3.0</td>\n",
              "        <td style=\"padding-left: 1em; padding-right: 1em; text-align: center; vertical-align: top\">2.0</td>\n",
              "        <td style=\"padding-left: 1em; padding-right: 1em; text-align: center; vertical-align: top\">47.61681228</td>\n",
              "        <td style=\"padding-left: 1em; padding-right: 1em; text-align: center; vertical-align: top\">-122.04490059</td>\n",
              "        <td style=\"padding-left: 1em; padding-right: 1em; text-align: center; vertical-align: top\">9.0</td>\n",
              "        <td style=\"padding-left: 1em; padding-right: 1em; text-align: center; vertical-align: top\">6.0</td>\n",
              "        <td style=\"padding-left: 1em; padding-right: 1em; text-align: center; vertical-align: top\">7.4265490724</td>\n",
              "    </tr>\n",
              "    <tr>\n",
              "        <td style=\"padding-left: 1em; padding-right: 1em; text-align: center; vertical-align: top\">4.0</td>\n",
              "        <td style=\"padding-left: 1em; padding-right: 1em; text-align: center; vertical-align: top\">4.5</td>\n",
              "        <td style=\"padding-left: 1em; padding-right: 1em; text-align: center; vertical-align: top\">47.65611835</td>\n",
              "        <td style=\"padding-left: 1em; padding-right: 1em; text-align: center; vertical-align: top\">-122.00528655</td>\n",
              "        <td style=\"padding-left: 1em; padding-right: 1em; text-align: center; vertical-align: top\">16.0</td>\n",
              "        <td style=\"padding-left: 1em; padding-right: 1em; text-align: center; vertical-align: top\">18.0</td>\n",
              "        <td style=\"padding-left: 1em; padding-right: 1em; text-align: center; vertical-align: top\">8.59785109443</td>\n",
              "    </tr>\n",
              "    <tr>\n",
              "        <td style=\"padding-left: 1em; padding-right: 1em; text-align: center; vertical-align: top\">3.0</td>\n",
              "        <td style=\"padding-left: 1em; padding-right: 1em; text-align: center; vertical-align: top\">2.25</td>\n",
              "        <td style=\"padding-left: 1em; padding-right: 1em; text-align: center; vertical-align: top\">47.30972002</td>\n",
              "        <td style=\"padding-left: 1em; padding-right: 1em; text-align: center; vertical-align: top\">-122.32704857</td>\n",
              "        <td style=\"padding-left: 1em; padding-right: 1em; text-align: center; vertical-align: top\">9.0</td>\n",
              "        <td style=\"padding-left: 1em; padding-right: 1em; text-align: center; vertical-align: top\">6.75</td>\n",
              "        <td style=\"padding-left: 1em; padding-right: 1em; text-align: center; vertical-align: top\">7.4471683596</td>\n",
              "    </tr>\n",
              "    <tr>\n",
              "        <td style=\"padding-left: 1em; padding-right: 1em; text-align: center; vertical-align: top\">3.0</td>\n",
              "        <td style=\"padding-left: 1em; padding-right: 1em; text-align: center; vertical-align: top\">1.5</td>\n",
              "        <td style=\"padding-left: 1em; padding-right: 1em; text-align: center; vertical-align: top\">47.40949984</td>\n",
              "        <td style=\"padding-left: 1em; padding-right: 1em; text-align: center; vertical-align: top\">-122.31457273</td>\n",
              "        <td style=\"padding-left: 1em; padding-right: 1em; text-align: center; vertical-align: top\">9.0</td>\n",
              "        <td style=\"padding-left: 1em; padding-right: 1em; text-align: center; vertical-align: top\">4.5</td>\n",
              "        <td style=\"padding-left: 1em; padding-right: 1em; text-align: center; vertical-align: top\">6.96602418711</td>\n",
              "    </tr>\n",
              "    <tr>\n",
              "        <td style=\"padding-left: 1em; padding-right: 1em; text-align: center; vertical-align: top\">3.0</td>\n",
              "        <td style=\"padding-left: 1em; padding-right: 1em; text-align: center; vertical-align: top\">1.0</td>\n",
              "        <td style=\"padding-left: 1em; padding-right: 1em; text-align: center; vertical-align: top\">47.51229381</td>\n",
              "        <td style=\"padding-left: 1em; padding-right: 1em; text-align: center; vertical-align: top\">-122.33659507</td>\n",
              "        <td style=\"padding-left: 1em; padding-right: 1em; text-align: center; vertical-align: top\">9.0</td>\n",
              "        <td style=\"padding-left: 1em; padding-right: 1em; text-align: center; vertical-align: top\">3.0</td>\n",
              "        <td style=\"padding-left: 1em; padding-right: 1em; text-align: center; vertical-align: top\">7.48436864329</td>\n",
              "    </tr>\n",
              "    <tr>\n",
              "        <td style=\"padding-left: 1em; padding-right: 1em; text-align: center; vertical-align: top\">3.0</td>\n",
              "        <td style=\"padding-left: 1em; padding-right: 1em; text-align: center; vertical-align: top\">2.5</td>\n",
              "        <td style=\"padding-left: 1em; padding-right: 1em; text-align: center; vertical-align: top\">47.36840673</td>\n",
              "        <td style=\"padding-left: 1em; padding-right: 1em; text-align: center; vertical-align: top\">-122.0308176</td>\n",
              "        <td style=\"padding-left: 1em; padding-right: 1em; text-align: center; vertical-align: top\">9.0</td>\n",
              "        <td style=\"padding-left: 1em; padding-right: 1em; text-align: center; vertical-align: top\">7.5</td>\n",
              "        <td style=\"padding-left: 1em; padding-right: 1em; text-align: center; vertical-align: top\">7.54433210805</td>\n",
              "    </tr>\n",
              "</table>\n",
              "<table frame=\"box\" rules=\"cols\">\n",
              "    <tr>\n",
              "        <th style=\"padding-left: 1em; padding-right: 1em; text-align: center\">lat_plus_long</th>\n",
              "    </tr>\n",
              "    <tr>\n",
              "        <td style=\"padding-left: 1em; padding-right: 1em; text-align: center; vertical-align: top\">-74.74554138</td>\n",
              "    </tr>\n",
              "    <tr>\n",
              "        <td style=\"padding-left: 1em; padding-right: 1em; text-align: center; vertical-align: top\">-74.59783966</td>\n",
              "    </tr>\n",
              "    <tr>\n",
              "        <td style=\"padding-left: 1em; padding-right: 1em; text-align: center; vertical-align: top\">-74.4952694</td>\n",
              "    </tr>\n",
              "    <tr>\n",
              "        <td style=\"padding-left: 1em; padding-right: 1em; text-align: center; vertical-align: top\">-74.87236505</td>\n",
              "    </tr>\n",
              "    <tr>\n",
              "        <td style=\"padding-left: 1em; padding-right: 1em; text-align: center; vertical-align: top\">-74.42808831</td>\n",
              "    </tr>\n",
              "    <tr>\n",
              "        <td style=\"padding-left: 1em; padding-right: 1em; text-align: center; vertical-align: top\">-74.3491682</td>\n",
              "    </tr>\n",
              "    <tr>\n",
              "        <td style=\"padding-left: 1em; padding-right: 1em; text-align: center; vertical-align: top\">-75.01732855</td>\n",
              "    </tr>\n",
              "    <tr>\n",
              "        <td style=\"padding-left: 1em; padding-right: 1em; text-align: center; vertical-align: top\">-74.90507289</td>\n",
              "    </tr>\n",
              "    <tr>\n",
              "        <td style=\"padding-left: 1em; padding-right: 1em; text-align: center; vertical-align: top\">-74.82430126</td>\n",
              "    </tr>\n",
              "    <tr>\n",
              "        <td style=\"padding-left: 1em; padding-right: 1em; text-align: center; vertical-align: top\">-74.66241087</td>\n",
              "    </tr>\n",
              "</table>\n",
              "[17384 rows x 8 columns]<br/>Note: Only the head of the SFrame is printed.<br/>You can use print_rows(num_rows=m, num_columns=n) to print more rows and columns.\n",
              "</div>"
            ]
          },
          "metadata": {
            "tags": []
          },
          "execution_count": 14
        }
      ]
    },
    {
      "cell_type": "code",
      "metadata": {
        "colab": {
          "base_uri": "https://localhost:8080/"
        },
        "id": "gj-NYlXfJivI",
        "outputId": "c8059764-420a-4d8d-9ef4-a86b97184cfb"
      },
      "source": [
        "print test_data['bedrooms_squared'].mean()\n",
        "print test_data['bed_bath_rooms'].mean()\n",
        "print test_data['log_sqft_living'].mean()\n",
        "print test_data['lat_plus_long'].mean()"
      ],
      "execution_count": null,
      "outputs": [
        {
          "output_type": "stream",
          "text": [
            "12.4466777016\n",
            "7.50390163159\n",
            "7.55027467965\n",
            "-74.6533349722\n"
          ],
          "name": "stdout"
        }
      ]
    },
    {
      "cell_type": "markdown",
      "metadata": {
        "id": "fJz5ucQuFLtO"
      },
      "source": [
        "# 5. Learning Multiple Models\n",
        "* Use `turicreate.linear_regression.create()` (or any other regression library/function) to estimate the regression coefficients/weights for predicting ‘price’ for the following three models:(In all 3 models include an intercept -- most software does this by default)."
      ]
    },
    {
      "cell_type": "markdown",
      "metadata": {
        "id": "T5-Y--bdFLtO"
      },
      "source": [
        "Now we will learn the weights for three (nested) models for predicting house prices. The first model will have the fewest features the second model will add one more feature and the third will add a few more:\n",
        "* Model 1: squarefeet, # bedrooms, # bathrooms, latitude & longitude\n",
        "* Model 2: add bedrooms\\*bathrooms\n",
        "* Model 3: Add log squarefeet, bedrooms squared, and the (nonsensical) latitude + longitude"
      ]
    },
    {
      "cell_type": "code",
      "metadata": {
        "id": "n48lei06FLtP"
      },
      "source": [
        "model_1_features = ['sqft_living', 'bedrooms', 'bathrooms', 'lat', 'long']\n",
        "model_2_features = model_1_features + ['bed_bath_rooms']\n",
        "model_3_features = model_2_features + ['bedrooms_squared', 'log_sqft_living', 'lat_plus_long']"
      ],
      "execution_count": null,
      "outputs": []
    },
    {
      "cell_type": "markdown",
      "metadata": {
        "id": "pcJKpYiOK0YQ"
      },
      "source": [
        "You’ll note that the three models here are “nested” in that all of the features of the Model 1 are in Model 2 and all of the features of Model 2 are in Model 3.  \n",
        "\n",
        "If you use `turicreate.linear_regression.create()` to estimate these models please ensure that you set validation_set = None. This way you will get the same answer every time you run the code.\n",
        "\n",
        "Learn all three models on the TRAINING data set. Save your model results for quiz questions later."
      ]
    },
    {
      "cell_type": "markdown",
      "metadata": {
        "id": "1QTvXM7pFLtP"
      },
      "source": [
        "Now that you have the features, learn the weights for the three different models for predicting target = 'price' using turicreate.linear_regression.create() and look at the value of the weights/coefficients:"
      ]
    },
    {
      "cell_type": "code",
      "metadata": {
        "colab": {
          "base_uri": "https://localhost:8080/",
          "height": 782
        },
        "id": "K9w9ASZnFLtP",
        "outputId": "8b32a805-9164-4f6a-da9b-0ecb02b43c52"
      },
      "source": [
        "# Learn the three models: (don't forget to set validation_set = None)\n",
        "model_1 = turicreate.linear_regression.create(train_data, target = 'price', features = model_1_features, \n",
        "                                                  validation_set = None)\n",
        "model_2 = turicreate.linear_regression.create(train_data, target = 'price', features = model_2_features, \n",
        "                                                  validation_set = None)\n",
        "model_3 = turicreate.linear_regression.create(train_data, target = 'price', features = model_3_features, \n",
        "                                                  validation_set = None)"
      ],
      "execution_count": null,
      "outputs": [
        {
          "output_type": "display_data",
          "data": {
            "text/plain": [
              "Linear regression:"
            ],
            "text/html": [
              "<pre>Linear regression:</pre>"
            ]
          },
          "metadata": {
            "tags": []
          }
        },
        {
          "output_type": "display_data",
          "data": {
            "text/plain": [
              "--------------------------------------------------------"
            ],
            "text/html": [
              "<pre>--------------------------------------------------------</pre>"
            ]
          },
          "metadata": {
            "tags": []
          }
        },
        {
          "output_type": "display_data",
          "data": {
            "text/plain": [
              "Number of examples          : 17384"
            ],
            "text/html": [
              "<pre>Number of examples          : 17384</pre>"
            ]
          },
          "metadata": {
            "tags": []
          }
        },
        {
          "output_type": "display_data",
          "data": {
            "text/plain": [
              "Number of features          : 5"
            ],
            "text/html": [
              "<pre>Number of features          : 5</pre>"
            ]
          },
          "metadata": {
            "tags": []
          }
        },
        {
          "output_type": "display_data",
          "data": {
            "text/plain": [
              "Number of unpacked features : 5"
            ],
            "text/html": [
              "<pre>Number of unpacked features : 5</pre>"
            ]
          },
          "metadata": {
            "tags": []
          }
        },
        {
          "output_type": "display_data",
          "data": {
            "text/plain": [
              "Number of coefficients    : 6"
            ],
            "text/html": [
              "<pre>Number of coefficients    : 6</pre>"
            ]
          },
          "metadata": {
            "tags": []
          }
        },
        {
          "output_type": "display_data",
          "data": {
            "text/plain": [
              "Starting Newton Method"
            ],
            "text/html": [
              "<pre>Starting Newton Method</pre>"
            ]
          },
          "metadata": {
            "tags": []
          }
        },
        {
          "output_type": "display_data",
          "data": {
            "text/plain": [
              "--------------------------------------------------------"
            ],
            "text/html": [
              "<pre>--------------------------------------------------------</pre>"
            ]
          },
          "metadata": {
            "tags": []
          }
        },
        {
          "output_type": "display_data",
          "data": {
            "text/plain": [
              "+-----------+----------+--------------+--------------------+---------------------------------+"
            ],
            "text/html": [
              "<pre>+-----------+----------+--------------+--------------------+---------------------------------+</pre>"
            ]
          },
          "metadata": {
            "tags": []
          }
        },
        {
          "output_type": "display_data",
          "data": {
            "text/plain": [
              "| Iteration | Passes   | Elapsed Time | Training Max Error | Training Root-Mean-Square Error |"
            ],
            "text/html": [
              "<pre>| Iteration | Passes   | Elapsed Time | Training Max Error | Training Root-Mean-Square Error |</pre>"
            ]
          },
          "metadata": {
            "tags": []
          }
        },
        {
          "output_type": "display_data",
          "data": {
            "text/plain": [
              "+-----------+----------+--------------+--------------------+---------------------------------+"
            ],
            "text/html": [
              "<pre>+-----------+----------+--------------+--------------------+---------------------------------+</pre>"
            ]
          },
          "metadata": {
            "tags": []
          }
        },
        {
          "output_type": "display_data",
          "data": {
            "text/plain": [
              "| 1         | 2        | 0.032193     | 4074878.213103     | 236378.596455                   |"
            ],
            "text/html": [
              "<pre>| 1         | 2        | 0.032193     | 4074878.213103     | 236378.596455                   |</pre>"
            ]
          },
          "metadata": {
            "tags": []
          }
        },
        {
          "output_type": "display_data",
          "data": {
            "text/plain": [
              "| 2         | 3        | 0.051972     | 4074878.213108     | 236378.596455                   |"
            ],
            "text/html": [
              "<pre>| 2         | 3        | 0.051972     | 4074878.213108     | 236378.596455                   |</pre>"
            ]
          },
          "metadata": {
            "tags": []
          }
        },
        {
          "output_type": "display_data",
          "data": {
            "text/plain": [
              "+-----------+----------+--------------+--------------------+---------------------------------+"
            ],
            "text/html": [
              "<pre>+-----------+----------+--------------+--------------------+---------------------------------+</pre>"
            ]
          },
          "metadata": {
            "tags": []
          }
        },
        {
          "output_type": "display_data",
          "data": {
            "text/plain": [
              "SUCCESS: Optimal solution found."
            ],
            "text/html": [
              "<pre>SUCCESS: Optimal solution found.</pre>"
            ]
          },
          "metadata": {
            "tags": []
          }
        },
        {
          "output_type": "display_data",
          "data": {
            "text/plain": [
              ""
            ],
            "text/html": [
              "<pre></pre>"
            ]
          },
          "metadata": {
            "tags": []
          }
        },
        {
          "output_type": "display_data",
          "data": {
            "text/plain": [
              "Linear regression:"
            ],
            "text/html": [
              "<pre>Linear regression:</pre>"
            ]
          },
          "metadata": {
            "tags": []
          }
        },
        {
          "output_type": "display_data",
          "data": {
            "text/plain": [
              "--------------------------------------------------------"
            ],
            "text/html": [
              "<pre>--------------------------------------------------------</pre>"
            ]
          },
          "metadata": {
            "tags": []
          }
        },
        {
          "output_type": "display_data",
          "data": {
            "text/plain": [
              "Number of examples          : 17384"
            ],
            "text/html": [
              "<pre>Number of examples          : 17384</pre>"
            ]
          },
          "metadata": {
            "tags": []
          }
        },
        {
          "output_type": "display_data",
          "data": {
            "text/plain": [
              "Number of features          : 6"
            ],
            "text/html": [
              "<pre>Number of features          : 6</pre>"
            ]
          },
          "metadata": {
            "tags": []
          }
        },
        {
          "output_type": "display_data",
          "data": {
            "text/plain": [
              "Number of unpacked features : 6"
            ],
            "text/html": [
              "<pre>Number of unpacked features : 6</pre>"
            ]
          },
          "metadata": {
            "tags": []
          }
        },
        {
          "output_type": "display_data",
          "data": {
            "text/plain": [
              "Number of coefficients    : 7"
            ],
            "text/html": [
              "<pre>Number of coefficients    : 7</pre>"
            ]
          },
          "metadata": {
            "tags": []
          }
        },
        {
          "output_type": "display_data",
          "data": {
            "text/plain": [
              "Starting Newton Method"
            ],
            "text/html": [
              "<pre>Starting Newton Method</pre>"
            ]
          },
          "metadata": {
            "tags": []
          }
        },
        {
          "output_type": "display_data",
          "data": {
            "text/plain": [
              "--------------------------------------------------------"
            ],
            "text/html": [
              "<pre>--------------------------------------------------------</pre>"
            ]
          },
          "metadata": {
            "tags": []
          }
        },
        {
          "output_type": "display_data",
          "data": {
            "text/plain": [
              "+-----------+----------+--------------+--------------------+---------------------------------+"
            ],
            "text/html": [
              "<pre>+-----------+----------+--------------+--------------------+---------------------------------+</pre>"
            ]
          },
          "metadata": {
            "tags": []
          }
        },
        {
          "output_type": "display_data",
          "data": {
            "text/plain": [
              "| Iteration | Passes   | Elapsed Time | Training Max Error | Training Root-Mean-Square Error |"
            ],
            "text/html": [
              "<pre>| Iteration | Passes   | Elapsed Time | Training Max Error | Training Root-Mean-Square Error |</pre>"
            ]
          },
          "metadata": {
            "tags": []
          }
        },
        {
          "output_type": "display_data",
          "data": {
            "text/plain": [
              "+-----------+----------+--------------+--------------------+---------------------------------+"
            ],
            "text/html": [
              "<pre>+-----------+----------+--------------+--------------------+---------------------------------+</pre>"
            ]
          },
          "metadata": {
            "tags": []
          }
        },
        {
          "output_type": "display_data",
          "data": {
            "text/plain": [
              "| 1         | 2        | 0.033534     | 4014170.932940     | 235190.935428                   |"
            ],
            "text/html": [
              "<pre>| 1         | 2        | 0.033534     | 4014170.932940     | 235190.935428                   |</pre>"
            ]
          },
          "metadata": {
            "tags": []
          }
        },
        {
          "output_type": "display_data",
          "data": {
            "text/plain": [
              "| 2         | 3        | 0.060673     | 4014170.932936     | 235190.935429                   |"
            ],
            "text/html": [
              "<pre>| 2         | 3        | 0.060673     | 4014170.932936     | 235190.935429                   |</pre>"
            ]
          },
          "metadata": {
            "tags": []
          }
        },
        {
          "output_type": "display_data",
          "data": {
            "text/plain": [
              "+-----------+----------+--------------+--------------------+---------------------------------+"
            ],
            "text/html": [
              "<pre>+-----------+----------+--------------+--------------------+---------------------------------+</pre>"
            ]
          },
          "metadata": {
            "tags": []
          }
        },
        {
          "output_type": "display_data",
          "data": {
            "text/plain": [
              "SUCCESS: Optimal solution found."
            ],
            "text/html": [
              "<pre>SUCCESS: Optimal solution found.</pre>"
            ]
          },
          "metadata": {
            "tags": []
          }
        },
        {
          "output_type": "display_data",
          "data": {
            "text/plain": [
              ""
            ],
            "text/html": [
              "<pre></pre>"
            ]
          },
          "metadata": {
            "tags": []
          }
        },
        {
          "output_type": "display_data",
          "data": {
            "text/plain": [
              "Linear regression:"
            ],
            "text/html": [
              "<pre>Linear regression:</pre>"
            ]
          },
          "metadata": {
            "tags": []
          }
        },
        {
          "output_type": "display_data",
          "data": {
            "text/plain": [
              "--------------------------------------------------------"
            ],
            "text/html": [
              "<pre>--------------------------------------------------------</pre>"
            ]
          },
          "metadata": {
            "tags": []
          }
        },
        {
          "output_type": "display_data",
          "data": {
            "text/plain": [
              "Number of examples          : 17384"
            ],
            "text/html": [
              "<pre>Number of examples          : 17384</pre>"
            ]
          },
          "metadata": {
            "tags": []
          }
        },
        {
          "output_type": "display_data",
          "data": {
            "text/plain": [
              "Number of features          : 9"
            ],
            "text/html": [
              "<pre>Number of features          : 9</pre>"
            ]
          },
          "metadata": {
            "tags": []
          }
        },
        {
          "output_type": "display_data",
          "data": {
            "text/plain": [
              "Number of unpacked features : 9"
            ],
            "text/html": [
              "<pre>Number of unpacked features : 9</pre>"
            ]
          },
          "metadata": {
            "tags": []
          }
        },
        {
          "output_type": "display_data",
          "data": {
            "text/plain": [
              "Number of coefficients    : 10"
            ],
            "text/html": [
              "<pre>Number of coefficients    : 10</pre>"
            ]
          },
          "metadata": {
            "tags": []
          }
        },
        {
          "output_type": "display_data",
          "data": {
            "text/plain": [
              "Starting Newton Method"
            ],
            "text/html": [
              "<pre>Starting Newton Method</pre>"
            ]
          },
          "metadata": {
            "tags": []
          }
        },
        {
          "output_type": "display_data",
          "data": {
            "text/plain": [
              "--------------------------------------------------------"
            ],
            "text/html": [
              "<pre>--------------------------------------------------------</pre>"
            ]
          },
          "metadata": {
            "tags": []
          }
        },
        {
          "output_type": "display_data",
          "data": {
            "text/plain": [
              "+-----------+----------+--------------+--------------------+---------------------------------+"
            ],
            "text/html": [
              "<pre>+-----------+----------+--------------+--------------------+---------------------------------+</pre>"
            ]
          },
          "metadata": {
            "tags": []
          }
        },
        {
          "output_type": "display_data",
          "data": {
            "text/plain": [
              "| Iteration | Passes   | Elapsed Time | Training Max Error | Training Root-Mean-Square Error |"
            ],
            "text/html": [
              "<pre>| Iteration | Passes   | Elapsed Time | Training Max Error | Training Root-Mean-Square Error |</pre>"
            ]
          },
          "metadata": {
            "tags": []
          }
        },
        {
          "output_type": "display_data",
          "data": {
            "text/plain": [
              "+-----------+----------+--------------+--------------------+---------------------------------+"
            ],
            "text/html": [
              "<pre>+-----------+----------+--------------+--------------------+---------------------------------+</pre>"
            ]
          },
          "metadata": {
            "tags": []
          }
        },
        {
          "output_type": "display_data",
          "data": {
            "text/plain": [
              "| 1         | 2        | 0.049630     | 3193229.177888     | 228200.043155                   |"
            ],
            "text/html": [
              "<pre>| 1         | 2        | 0.049630     | 3193229.177888     | 228200.043155                   |</pre>"
            ]
          },
          "metadata": {
            "tags": []
          }
        },
        {
          "output_type": "display_data",
          "data": {
            "text/plain": [
              "| 2         | 3        | 0.069722     | 3193229.177873     | 228200.043155                   |"
            ],
            "text/html": [
              "<pre>| 2         | 3        | 0.069722     | 3193229.177873     | 228200.043155                   |</pre>"
            ]
          },
          "metadata": {
            "tags": []
          }
        },
        {
          "output_type": "display_data",
          "data": {
            "text/plain": [
              "+-----------+----------+--------------+--------------------+---------------------------------+"
            ],
            "text/html": [
              "<pre>+-----------+----------+--------------+--------------------+---------------------------------+</pre>"
            ]
          },
          "metadata": {
            "tags": []
          }
        },
        {
          "output_type": "display_data",
          "data": {
            "text/plain": [
              "SUCCESS: Optimal solution found."
            ],
            "text/html": [
              "<pre>SUCCESS: Optimal solution found.</pre>"
            ]
          },
          "metadata": {
            "tags": []
          }
        },
        {
          "output_type": "display_data",
          "data": {
            "text/plain": [
              ""
            ],
            "text/html": [
              "<pre></pre>"
            ]
          },
          "metadata": {
            "tags": []
          }
        }
      ]
    },
    {
      "cell_type": "code",
      "metadata": {
        "colab": {
          "base_uri": "https://localhost:8080/"
        },
        "id": "RKr0stjmFLtP",
        "outputId": "fb5bad49-1e3c-43a0-ba84-8f9fd22f7542"
      },
      "source": [
        "# Examine/extract each model's coefficients:\n",
        "\n",
        "model_1_weight_summary = model_1.coefficients\n",
        "model_2_weight_summary = model_2.coefficients\n",
        "model_3_weight_summary = model_3.coefficients\n",
        "print model_1_weight_summary \n",
        "print model_2_weight_summary\n",
        "print model_3_weight_summary"
      ],
      "execution_count": null,
      "outputs": [
        {
          "output_type": "stream",
          "text": [
            "+-------------+-------+----------------+---------------+\n",
            "|     name    | index |     value      |     stderr    |\n",
            "+-------------+-------+----------------+---------------+\n",
            "| (intercept) |  None | -56140675.7411 | 1649985.42023 |\n",
            "| sqft_living |  None | 310.263325777  | 3.18882960407 |\n",
            "|   bedrooms  |  None | -59577.1160676 | 2487.27977322 |\n",
            "|  bathrooms  |  None | 13811.8405417  | 3593.54213297 |\n",
            "|     lat     |  None | 629865.789471  | 13120.7100323 |\n",
            "|     long    |  None | -214790.285165 | 13284.2851599 |\n",
            "+-------------+-------+----------------+---------------+\n",
            "[6 rows x 4 columns]\n",
            "\n",
            "+----------------+-------+----------------+---------------+\n",
            "|      name      | index |     value      |     stderr    |\n",
            "+----------------+-------+----------------+---------------+\n",
            "|  (intercept)   |  None | -54410676.1118 | 1650405.16537 |\n",
            "|  sqft_living   |  None | 304.449298056  | 3.20217535637 |\n",
            "|    bedrooms    |  None | -116366.043229 | 4805.54966548 |\n",
            "|   bathrooms    |  None | -77972.330513  | 7565.05991095 |\n",
            "|      lat       |  None |  625433.83494  | 13058.3530972 |\n",
            "|      long      |  None | -203958.602937 | 13268.1283704 |\n",
            "| bed_bath_rooms |  None |  26961.624909  | 1956.36561556 |\n",
            "+----------------+-------+----------------+---------------+\n",
            "[7 rows x 4 columns]\n",
            "\n",
            "+------------------+-------+----------------+---------------+\n",
            "|       name       | index |     value      |     stderr    |\n",
            "+------------------+-------+----------------+---------------+\n",
            "|   (intercept)    |  None | -52974974.0689 | 1615194.94467 |\n",
            "|   sqft_living    |  None | 529.196420569  | 7.69913498512 |\n",
            "|     bedrooms     |  None | 28948.5277464  | 9395.72889115 |\n",
            "|    bathrooms     |  None | 65661.2072397  | 10795.3380703 |\n",
            "|       lat        |  None | 704762.148443  | 787087632.007 |\n",
            "|       long       |  None | -137780.020007 | 787087632.297 |\n",
            "|  bed_bath_rooms  |  None | -8478.36410717 | 2858.95391257 |\n",
            "| bedrooms_squared |  None | -6072.38466191 | 1494.97042779 |\n",
            "| log_sqft_living  |  None | -563467.78428  | 17567.8230815 |\n",
            "|  lat_plus_long   |  None |  -83217.19791  | 787087631.989 |\n",
            "+------------------+-------+----------------+---------------+\n",
            "[10 rows x 4 columns]\n",
            "\n"
          ],
          "name": "stdout"
        }
      ]
    },
    {
      "cell_type": "markdown",
      "metadata": {
        "id": "KctbURe2FLtQ"
      },
      "source": [
        "**6. Quiz Question: What is the sign (positive or negative) for the coefficient/weight for 'bathrooms' in model 1?**\n",
        "\n",
        "**7. Quiz Question: What is the sign (positive or negative) for the coefficient/weight for 'bathrooms' in model 2?**\n",
        "\n",
        "**8.** Is the sign for the coefficient the same in both models? Think about why this might be the case.Think about what this means."
      ]
    },
    {
      "cell_type": "markdown",
      "metadata": {
        "id": "riIz9rQMFLtQ"
      },
      "source": [
        "# 9. Comparing multiple models\n",
        "* Now using your three estimated models compute the RSS (Residual Sum of Squares) on the Training data.\n",
        "\n",
        "Now that you've learned three models and extracted the model weights we want to evaluate which model is best."
      ]
    },
    {
      "cell_type": "markdown",
      "metadata": {
        "id": "yk4MqhetFLtR"
      },
      "source": [
        "First use your functions from earlier to compute the RSS on TRAINING Data for each of the three models."
      ]
    },
    {
      "cell_type": "code",
      "metadata": {
        "colab": {
          "base_uri": "https://localhost:8080/"
        },
        "id": "iz3WOfpWFLtR",
        "outputId": "9f6c7f03-b03a-4d68-b043-781689dcc75a"
      },
      "source": [
        "# Compute the RSS on TRAINING data for each of the three models and record the values:\n",
        "\n",
        "rss_model_1_train = get_residual_sum_of_squares(model_1, train_data, train_data['price'])\n",
        "rss_model_2_train = get_residual_sum_of_squares(model_2, train_data, train_data['price'])\n",
        "rss_model_3_train = get_residual_sum_of_squares(model_3, train_data, train_data['price'])\n",
        "print rss_model_1_train\n",
        "print rss_model_2_train\n",
        "print rss_model_3_train\n"
      ],
      "execution_count": null,
      "outputs": [
        {
          "output_type": "stream",
          "text": [
            "9.71328233545e+14\n",
            "9.61592067858e+14\n",
            "9.05276314552e+14\n"
          ],
          "name": "stdout"
        }
      ]
    },
    {
      "cell_type": "markdown",
      "metadata": {
        "id": "sdjIV_gMFLtR"
      },
      "source": [
        "**10. Quiz Question: Which model (1, 2 or 3) has lowest RSS on TRAINING Data?** Is this what you expected?"
      ]
    },
    {
      "cell_type": "markdown",
      "metadata": {
        "id": "PDSFQa_1FLtR"
      },
      "source": [
        "**11.** Now compute the RSS on on TEST data for each of the three models."
      ]
    },
    {
      "cell_type": "code",
      "metadata": {
        "colab": {
          "base_uri": "https://localhost:8080/"
        },
        "id": "LmFIA79bFLtS",
        "outputId": "787eec4b-33c3-4046-8fbf-bb6be11d534f"
      },
      "source": [
        "# Compute the RSS on TESTING data for each of the three models and record the values:\n",
        "\n",
        "rss_model_1_test = get_residual_sum_of_squares(model_1, test_data, test_data['price'])\n",
        "rss_model_2_test = get_residual_sum_of_squares(model_2, test_data, test_data['price'])\n",
        "rss_model_3_test = get_residual_sum_of_squares(model_3, test_data, test_data['price'])\n",
        "print rss_model_1_test\n",
        "print rss_model_2_test\n",
        "print rss_model_3_test\n"
      ],
      "execution_count": null,
      "outputs": [
        {
          "output_type": "stream",
          "text": [
            "2.26568089093e+14\n",
            "2.24368799994e+14\n",
            "2.51829318963e+14\n"
          ],
          "name": "stdout"
        }
      ]
    },
    {
      "cell_type": "markdown",
      "metadata": {
        "id": "qzbD9nMGFLtS"
      },
      "source": [
        "**12. Quiz Question: Which model (1, 2 or 3) has lowest RSS on TESTING Data?** Is this what you expected? Think about the features that were added to each model from the previous."
      ]
    },
    {
      "cell_type": "markdown",
      "metadata": {
        "id": "d_InNTEaN4by"
      },
      "source": [
        "**13.** Did you get the same answer for 9 and 11? Think about why this might be the case."
      ]
    },
    {
      "cell_type": "code",
      "metadata": {
        "id": "S-vB_PLeFLtS"
      },
      "source": [
        ""
      ],
      "execution_count": null,
      "outputs": []
    }
  ]
}