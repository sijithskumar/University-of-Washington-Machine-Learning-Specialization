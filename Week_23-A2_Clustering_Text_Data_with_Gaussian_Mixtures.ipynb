{
  "nbformat": 4,
  "nbformat_minor": 0,
  "metadata": {
    "anaconda-cloud": {},
    "kernelspec": {
      "display_name": "Python 3",
      "language": "python",
      "name": "python3"
    },
    "language_info": {
      "codemirror_mode": {
        "name": "ipython",
        "version": 3
      },
      "file_extension": ".py",
      "mimetype": "text/x-python",
      "name": "python",
      "nbconvert_exporter": "python",
      "pygments_lexer": "ipython3",
      "version": "3.6.8"
    },
    "colab": {
      "name": "A2_Clustering Text Data with Gaussian Mixtures_CLU04-NB02.ipynb",
      "provenance": []
    }
  },
  "cells": [
    {
      "cell_type": "markdown",
      "metadata": {
        "id": "GegAXI39Kc4r"
      },
      "source": [
        "## Fitting a diagonal covariance Gaussian mixture model to text data\n",
        "\n",
        "In a previous assignment, we explored k-means clustering for a high-dimensional Wikipedia dataset. We can also model this data with a mixture of Gaussians, though with increasing dimension we run into two important issues associated with using a full covariance matrix for each component.\n",
        " * Computational cost becomes prohibitive in high dimensions: score calculations have complexity cubic in the number of dimensions M if the Gaussian has a full covariance matrix.\n",
        " * A model with many parameters require more data: observe that a full covariance matrix for an M-dimensional Gaussian will have M(M+1)/2 parameters to fit. With the number of parameters growing roughly as the square of the dimension, it may quickly become impossible to find a sufficient amount of data to make good inferences.\n",
        "\n",
        "Both of these issues are avoided if we require the covariance matrix of each component to be diagonal, as then it has only M parameters to fit and the score computation decomposes into M univariate score calculations. Recall from the lecture that the M-step for the full covariance is:\n",
        "\n",
        "\\begin{align*}\n",
        "\\hat{\\Sigma}_k &= \\frac{1}{N_k^{soft}} \\sum_{i=1}^N r_{ik} (x_i-\\hat{\\mu}_k)(x_i - \\hat{\\mu}_k)^T\n",
        "\\end{align*}\n",
        "\n",
        "Note that this is a square matrix with M rows and M columns, and the above equation implies that the (v, w) element is computed by\n",
        "\n",
        "\\begin{align*}\n",
        "\\hat{\\Sigma}_{k, v, w} &= \\frac{1}{N_k^{soft}} \\sum_{i=1}^N r_{ik} (x_{iv}-\\hat{\\mu}_{kv})(x_{iw} - \\hat{\\mu}_{kw})\n",
        "\\end{align*}\n",
        "\n",
        "When we assume that this is a diagonal matrix, then non-diagonal elements are assumed to be zero and we only need to compute each of the M elements along the diagonal independently using the following equation. \n",
        "\n",
        "\\begin{align*}\n",
        "\\hat{\\sigma}^2_{k, v} &= \\hat{\\Sigma}_{k, v, v}  \\\\\n",
        "&= \\frac{1}{N_k^{soft}} \\sum_{i=1}^N r_{ik} (x_{iv}-\\hat{\\mu}_{kv})^2\n",
        "\\end{align*}\n",
        "\n",
        "In this section, we will use an EM implementation to fit a Gaussian mixture model with **diagonal** covariances to a subset of the Wikipedia dataset. The implementation uses the above equation to compute each variance term. \n",
        "\n",
        "We'll begin by importing the dataset and coming up with a useful representation for each article. After running our algorithm on the data, we will explore the output to see whether we can give a meaningful interpretation to the fitted parameters in our model."
      ]
    },
    {
      "cell_type": "markdown",
      "metadata": {
        "id": "q00qziYUKc5G"
      },
      "source": [
        "**Note to Amazon EC2 users**: To conserve memory, make sure to stop all the other notebooks before running this notebook."
      ]
    },
    {
      "cell_type": "markdown",
      "metadata": {
        "id": "tINz74c9Kc5K"
      },
      "source": [
        "## Import necessary packages"
      ]
    },
    {
      "cell_type": "code",
      "metadata": {
        "colab": {
          "base_uri": "https://localhost:8080/",
          "height": 1000
        },
        "id": "BsTQFXhELJY2",
        "outputId": "0c149125-1bc3-461c-d9cb-21966c988fa5"
      },
      "source": [
        "pip install turicreate"
      ],
      "execution_count": null,
      "outputs": [
        {
          "output_type": "stream",
          "name": "stdout",
          "text": [
            "Collecting turicreate\n",
            "  Downloading turicreate-6.4.1-cp37-cp37m-manylinux1_x86_64.whl (92.0 MB)\n",
            "\u001b[K     |████████████████████████████████| 92.0 MB 4.5 kB/s \n",
            "\u001b[?25hRequirement already satisfied: six>=1.10.0 in /usr/local/lib/python3.7/dist-packages (from turicreate) (1.15.0)\n",
            "Collecting tensorflow<2.1.0,>=2.0.0\n",
            "  Downloading tensorflow-2.0.4-cp37-cp37m-manylinux2010_x86_64.whl (86.4 MB)\n",
            "\u001b[K     |████████████████████████████████| 86.4 MB 25 kB/s \n",
            "\u001b[?25hRequirement already satisfied: pandas>=0.23.2 in /usr/local/lib/python3.7/dist-packages (from turicreate) (1.1.5)\n",
            "Requirement already satisfied: numpy in /usr/local/lib/python3.7/dist-packages (from turicreate) (1.19.5)\n",
            "Collecting prettytable==0.7.2\n",
            "  Downloading prettytable-0.7.2.zip (28 kB)\n",
            "Collecting resampy==0.2.1\n",
            "  Downloading resampy-0.2.1.tar.gz (322 kB)\n",
            "\u001b[K     |████████████████████████████████| 322 kB 50.9 MB/s \n",
            "\u001b[?25hRequirement already satisfied: pillow>=5.2.0 in /usr/local/lib/python3.7/dist-packages (from turicreate) (7.1.2)\n",
            "Requirement already satisfied: decorator>=4.0.9 in /usr/local/lib/python3.7/dist-packages (from turicreate) (4.4.2)\n",
            "Collecting numba<0.51.0\n",
            "  Downloading numba-0.50.1-cp37-cp37m-manylinux2014_x86_64.whl (3.6 MB)\n",
            "\u001b[K     |████████████████████████████████| 3.6 MB 45.7 MB/s \n",
            "\u001b[?25hRequirement already satisfied: scipy>=1.1.0 in /usr/local/lib/python3.7/dist-packages (from turicreate) (1.4.1)\n",
            "Collecting coremltools==3.3\n",
            "  Downloading coremltools-3.3-cp37-none-manylinux1_x86_64.whl (3.5 MB)\n",
            "\u001b[K     |████████████████████████████████| 3.5 MB 44.8 MB/s \n",
            "\u001b[?25hRequirement already satisfied: requests>=2.9.1 in /usr/local/lib/python3.7/dist-packages (from turicreate) (2.23.0)\n",
            "Requirement already satisfied: protobuf>=3.1.0 in /usr/local/lib/python3.7/dist-packages (from coremltools==3.3->turicreate) (3.17.3)\n",
            "Collecting llvmlite<0.34,>=0.33.0.dev0\n",
            "  Downloading llvmlite-0.33.0-cp37-cp37m-manylinux1_x86_64.whl (18.3 MB)\n",
            "\u001b[K     |████████████████████████████████| 18.3 MB 88 kB/s \n",
            "\u001b[?25hRequirement already satisfied: setuptools in /usr/local/lib/python3.7/dist-packages (from numba<0.51.0->turicreate) (57.4.0)\n",
            "Requirement already satisfied: python-dateutil>=2.7.3 in /usr/local/lib/python3.7/dist-packages (from pandas>=0.23.2->turicreate) (2.8.2)\n",
            "Requirement already satisfied: pytz>=2017.2 in /usr/local/lib/python3.7/dist-packages (from pandas>=0.23.2->turicreate) (2018.9)\n",
            "Requirement already satisfied: urllib3!=1.25.0,!=1.25.1,<1.26,>=1.21.1 in /usr/local/lib/python3.7/dist-packages (from requests>=2.9.1->turicreate) (1.24.3)\n",
            "Requirement already satisfied: idna<3,>=2.5 in /usr/local/lib/python3.7/dist-packages (from requests>=2.9.1->turicreate) (2.10)\n",
            "Requirement already satisfied: chardet<4,>=3.0.2 in /usr/local/lib/python3.7/dist-packages (from requests>=2.9.1->turicreate) (3.0.4)\n",
            "Requirement already satisfied: certifi>=2017.4.17 in /usr/local/lib/python3.7/dist-packages (from requests>=2.9.1->turicreate) (2021.5.30)\n",
            "Collecting h5py<=2.10.0\n",
            "  Downloading h5py-2.10.0-cp37-cp37m-manylinux1_x86_64.whl (2.9 MB)\n",
            "\u001b[K     |████████████████████████████████| 2.9 MB 67.0 MB/s \n",
            "\u001b[?25hRequirement already satisfied: grpcio>=1.8.6 in /usr/local/lib/python3.7/dist-packages (from tensorflow<2.1.0,>=2.0.0->turicreate) (1.39.0)\n",
            "Requirement already satisfied: termcolor>=1.1.0 in /usr/local/lib/python3.7/dist-packages (from tensorflow<2.1.0,>=2.0.0->turicreate) (1.1.0)\n",
            "Collecting tensorboard<2.1.0,>=2.0.0\n",
            "  Downloading tensorboard-2.0.2-py3-none-any.whl (3.8 MB)\n",
            "\u001b[K     |████████████████████████████████| 3.8 MB 41.8 MB/s \n",
            "\u001b[?25hCollecting keras-applications>=1.0.8\n",
            "  Downloading Keras_Applications-1.0.8-py3-none-any.whl (50 kB)\n",
            "\u001b[K     |████████████████████████████████| 50 kB 5.7 MB/s \n",
            "\u001b[?25hRequirement already satisfied: absl-py>=0.7.0 in /usr/local/lib/python3.7/dist-packages (from tensorflow<2.1.0,>=2.0.0->turicreate) (0.12.0)\n",
            "Requirement already satisfied: wrapt>=1.11.1 in /usr/local/lib/python3.7/dist-packages (from tensorflow<2.1.0,>=2.0.0->turicreate) (1.12.1)\n",
            "Collecting numpy\n",
            "  Downloading numpy-1.18.5-cp37-cp37m-manylinux1_x86_64.whl (20.1 MB)\n",
            "\u001b[K     |████████████████████████████████| 20.1 MB 1.3 MB/s \n",
            "\u001b[?25hRequirement already satisfied: opt-einsum>=2.3.2 in /usr/local/lib/python3.7/dist-packages (from tensorflow<2.1.0,>=2.0.0->turicreate) (3.3.0)\n",
            "Requirement already satisfied: keras-preprocessing>=1.0.5 in /usr/local/lib/python3.7/dist-packages (from tensorflow<2.1.0,>=2.0.0->turicreate) (1.1.2)\n",
            "Requirement already satisfied: google-pasta>=0.1.6 in /usr/local/lib/python3.7/dist-packages (from tensorflow<2.1.0,>=2.0.0->turicreate) (0.2.0)\n",
            "Requirement already satisfied: astor>=0.6.0 in /usr/local/lib/python3.7/dist-packages (from tensorflow<2.1.0,>=2.0.0->turicreate) (0.8.1)\n",
            "Requirement already satisfied: wheel>=0.26 in /usr/local/lib/python3.7/dist-packages (from tensorflow<2.1.0,>=2.0.0->turicreate) (0.37.0)\n",
            "Collecting tensorflow-estimator<2.1.0,>=2.0.0\n",
            "  Downloading tensorflow_estimator-2.0.1-py2.py3-none-any.whl (449 kB)\n",
            "\u001b[K     |████████████████████████████████| 449 kB 59.7 MB/s \n",
            "\u001b[?25hCollecting gast==0.2.2\n",
            "  Downloading gast-0.2.2.tar.gz (10 kB)\n",
            "Requirement already satisfied: markdown>=2.6.8 in /usr/local/lib/python3.7/dist-packages (from tensorboard<2.1.0,>=2.0.0->tensorflow<2.1.0,>=2.0.0->turicreate) (3.3.4)\n",
            "Requirement already satisfied: google-auth<2,>=1.6.3 in /usr/local/lib/python3.7/dist-packages (from tensorboard<2.1.0,>=2.0.0->tensorflow<2.1.0,>=2.0.0->turicreate) (1.34.0)\n",
            "Requirement already satisfied: google-auth-oauthlib<0.5,>=0.4.1 in /usr/local/lib/python3.7/dist-packages (from tensorboard<2.1.0,>=2.0.0->tensorflow<2.1.0,>=2.0.0->turicreate) (0.4.5)\n",
            "Requirement already satisfied: werkzeug>=0.11.15 in /usr/local/lib/python3.7/dist-packages (from tensorboard<2.1.0,>=2.0.0->tensorflow<2.1.0,>=2.0.0->turicreate) (1.0.1)\n",
            "Requirement already satisfied: pyasn1-modules>=0.2.1 in /usr/local/lib/python3.7/dist-packages (from google-auth<2,>=1.6.3->tensorboard<2.1.0,>=2.0.0->tensorflow<2.1.0,>=2.0.0->turicreate) (0.2.8)\n",
            "Requirement already satisfied: rsa<5,>=3.1.4 in /usr/local/lib/python3.7/dist-packages (from google-auth<2,>=1.6.3->tensorboard<2.1.0,>=2.0.0->tensorflow<2.1.0,>=2.0.0->turicreate) (4.7.2)\n",
            "Requirement already satisfied: cachetools<5.0,>=2.0.0 in /usr/local/lib/python3.7/dist-packages (from google-auth<2,>=1.6.3->tensorboard<2.1.0,>=2.0.0->tensorflow<2.1.0,>=2.0.0->turicreate) (4.2.2)\n",
            "Requirement already satisfied: requests-oauthlib>=0.7.0 in /usr/local/lib/python3.7/dist-packages (from google-auth-oauthlib<0.5,>=0.4.1->tensorboard<2.1.0,>=2.0.0->tensorflow<2.1.0,>=2.0.0->turicreate) (1.3.0)\n",
            "Requirement already satisfied: importlib-metadata in /usr/local/lib/python3.7/dist-packages (from markdown>=2.6.8->tensorboard<2.1.0,>=2.0.0->tensorflow<2.1.0,>=2.0.0->turicreate) (4.6.4)\n",
            "Requirement already satisfied: pyasn1<0.5.0,>=0.4.6 in /usr/local/lib/python3.7/dist-packages (from pyasn1-modules>=0.2.1->google-auth<2,>=1.6.3->tensorboard<2.1.0,>=2.0.0->tensorflow<2.1.0,>=2.0.0->turicreate) (0.4.8)\n",
            "Requirement already satisfied: oauthlib>=3.0.0 in /usr/local/lib/python3.7/dist-packages (from requests-oauthlib>=0.7.0->google-auth-oauthlib<0.5,>=0.4.1->tensorboard<2.1.0,>=2.0.0->tensorflow<2.1.0,>=2.0.0->turicreate) (3.1.1)\n",
            "Requirement already satisfied: zipp>=0.5 in /usr/local/lib/python3.7/dist-packages (from importlib-metadata->markdown>=2.6.8->tensorboard<2.1.0,>=2.0.0->tensorflow<2.1.0,>=2.0.0->turicreate) (3.5.0)\n",
            "Requirement already satisfied: typing-extensions>=3.6.4 in /usr/local/lib/python3.7/dist-packages (from importlib-metadata->markdown>=2.6.8->tensorboard<2.1.0,>=2.0.0->tensorflow<2.1.0,>=2.0.0->turicreate) (3.7.4.3)\n",
            "Building wheels for collected packages: prettytable, resampy, gast\n",
            "  Building wheel for prettytable (setup.py) ... \u001b[?25l\u001b[?25hdone\n",
            "  Created wheel for prettytable: filename=prettytable-0.7.2-py3-none-any.whl size=13714 sha256=bd0f84d6e61df68a87877fd8f5ae863112d77f7461ca22e0ed84404b6dd0afc1\n",
            "  Stored in directory: /root/.cache/pip/wheels/b2/7f/f6/f180315b584f00445045ff1699b550fa895d09471337ce21c6\n",
            "  Building wheel for resampy (setup.py) ... \u001b[?25l\u001b[?25hdone\n",
            "  Created wheel for resampy: filename=resampy-0.2.1-py3-none-any.whl size=320860 sha256=7c53c62db6505ed5b2db2796bc297f99129e6d71981a8fb14fcde92cdc61ec52\n",
            "  Stored in directory: /root/.cache/pip/wheels/71/74/53/d5ceb7c5ee7a168c7d106041863e71ac3273f4a4677743a284\n",
            "  Building wheel for gast (setup.py) ... \u001b[?25l\u001b[?25hdone\n",
            "  Created wheel for gast: filename=gast-0.2.2-py3-none-any.whl size=7554 sha256=3cd08866ee8802c2a257e09c40c663fcd5454192d31a86e09ba0d6e8b890a2eb\n",
            "  Stored in directory: /root/.cache/pip/wheels/21/7f/02/420f32a803f7d0967b48dd823da3f558c5166991bfd204eef3\n",
            "Successfully built prettytable resampy gast\n",
            "Installing collected packages: numpy, llvmlite, h5py, tensorflow-estimator, tensorboard, numba, keras-applications, gast, tensorflow, resampy, prettytable, coremltools, turicreate\n",
            "  Attempting uninstall: numpy\n",
            "    Found existing installation: numpy 1.19.5\n",
            "    Uninstalling numpy-1.19.5:\n",
            "      Successfully uninstalled numpy-1.19.5\n",
            "  Attempting uninstall: llvmlite\n",
            "    Found existing installation: llvmlite 0.34.0\n",
            "    Uninstalling llvmlite-0.34.0:\n",
            "      Successfully uninstalled llvmlite-0.34.0\n",
            "  Attempting uninstall: h5py\n",
            "    Found existing installation: h5py 3.1.0\n",
            "    Uninstalling h5py-3.1.0:\n",
            "      Successfully uninstalled h5py-3.1.0\n",
            "  Attempting uninstall: tensorflow-estimator\n",
            "    Found existing installation: tensorflow-estimator 2.6.0\n",
            "    Uninstalling tensorflow-estimator-2.6.0:\n",
            "      Successfully uninstalled tensorflow-estimator-2.6.0\n",
            "  Attempting uninstall: tensorboard\n",
            "    Found existing installation: tensorboard 2.6.0\n",
            "    Uninstalling tensorboard-2.6.0:\n",
            "      Successfully uninstalled tensorboard-2.6.0\n",
            "  Attempting uninstall: numba\n",
            "    Found existing installation: numba 0.51.2\n",
            "    Uninstalling numba-0.51.2:\n",
            "      Successfully uninstalled numba-0.51.2\n",
            "  Attempting uninstall: gast\n",
            "    Found existing installation: gast 0.4.0\n",
            "    Uninstalling gast-0.4.0:\n",
            "      Successfully uninstalled gast-0.4.0\n",
            "  Attempting uninstall: tensorflow\n",
            "    Found existing installation: tensorflow 2.6.0\n",
            "    Uninstalling tensorflow-2.6.0:\n",
            "      Successfully uninstalled tensorflow-2.6.0\n",
            "  Attempting uninstall: resampy\n",
            "    Found existing installation: resampy 0.2.2\n",
            "    Uninstalling resampy-0.2.2:\n",
            "      Successfully uninstalled resampy-0.2.2\n",
            "  Attempting uninstall: prettytable\n",
            "    Found existing installation: prettytable 2.1.0\n",
            "    Uninstalling prettytable-2.1.0:\n",
            "      Successfully uninstalled prettytable-2.1.0\n",
            "\u001b[31mERROR: pip's dependency resolver does not currently take into account all the packages that are installed. This behaviour is the source of the following dependency conflicts.\n",
            "tensorflow-probability 0.13.0 requires gast>=0.3.2, but you have gast 0.2.2 which is incompatible.\n",
            "librosa 0.8.1 requires resampy>=0.2.2, but you have resampy 0.2.1 which is incompatible.\n",
            "datascience 0.10.6 requires folium==0.2.1, but you have folium 0.8.3 which is incompatible.\n",
            "albumentations 0.1.12 requires imgaug<0.2.7,>=0.2.5, but you have imgaug 0.2.9 which is incompatible.\u001b[0m\n",
            "Successfully installed coremltools-3.3 gast-0.2.2 h5py-2.10.0 keras-applications-1.0.8 llvmlite-0.33.0 numba-0.50.1 numpy-1.18.5 prettytable-0.7.2 resampy-0.2.1 tensorboard-2.0.2 tensorflow-2.0.4 tensorflow-estimator-2.0.1 turicreate-6.4.1\n"
          ]
        },
        {
          "output_type": "display_data",
          "data": {
            "application/vnd.colab-display-data+json": {
              "pip_warning": {
                "packages": [
                  "numpy"
                ]
              }
            }
          },
          "metadata": {}
        }
      ]
    },
    {
      "cell_type": "code",
      "metadata": {
        "id": "BstQHQyMKc5N"
      },
      "source": [
        "from __future__ import print_function # to conform python 2.x print to python 3.x\n",
        "import turicreate"
      ],
      "execution_count": null,
      "outputs": []
    },
    {
      "cell_type": "markdown",
      "metadata": {
        "id": "vC8NlHRXKc5U"
      },
      "source": [
        "We also have a Python file containing implementations for several functions that will be used during the course of this assignment."
      ]
    },
    {
      "cell_type": "code",
      "metadata": {
        "colab": {
          "base_uri": "https://localhost:8080/"
        },
        "id": "H9XHchWrMCCk",
        "outputId": "9eb42c79-96ef-4f77-eb36-e0f5835580b0"
      },
      "source": [
        "from google.colab import drive\n",
        "drive.mount ('/content/gdrive')"
      ],
      "execution_count": null,
      "outputs": [
        {
          "output_type": "stream",
          "name": "stdout",
          "text": [
            "Mounted at /content/gdrive\n"
          ]
        }
      ]
    },
    {
      "cell_type": "code",
      "metadata": {
        "id": "HxCnMsTmCxWY"
      },
      "source": [
        "# import pista importpista"
      ],
      "execution_count": null,
      "outputs": []
    },
    {
      "cell_type": "code",
      "metadata": {
        "id": "7dYPNnTJPwbB"
      },
      "source": [
        "import sys\n",
        "sys.path.append('/content/gdrive/My Drive/Turicreate/Week 23')"
      ],
      "execution_count": null,
      "outputs": []
    },
    {
      "cell_type": "code",
      "metadata": {
        "id": "kus3QaN9Kc5W"
      },
      "source": [
        "from em_utilities import *\n",
        "\n"
      ],
      "execution_count": null,
      "outputs": []
    },
    {
      "cell_type": "markdown",
      "metadata": {
        "id": "Scj3SmmNKc5a"
      },
      "source": [
        "## Load Wikipedia data and extract TF-IDF features"
      ]
    },
    {
      "cell_type": "markdown",
      "metadata": {
        "id": "MQK5zbeMKc5e"
      },
      "source": [
        "Load Wikipedia data and transform each of the first 5000 document into a TF-IDF representation."
      ]
    },
    {
      "cell_type": "code",
      "metadata": {
        "id": "PQnvp63hKc5k"
      },
      "source": [
        "#wiki = turicreate.SFrame('people_wiki.sframe/').head(5000)\n",
        "wiki = turicreate.SFrame('/content/gdrive/My Drive/Turicreate/Week 23/people_wiki.sframe/').head (5000)\n",
        "wiki['tf_idf'] = turicreate.text_analytics.tf_idf(wiki['text'])"
      ],
      "execution_count": null,
      "outputs": []
    },
    {
      "cell_type": "code",
      "metadata": {
        "colab": {
          "base_uri": "https://localhost:8080/",
          "height": 449
        },
        "id": "efwrekGWQ1G2",
        "outputId": "ca32c139-7eaf-4b5e-8563-0081eccf27b1"
      },
      "source": [
        "wiki"
      ],
      "execution_count": null,
      "outputs": [
        {
          "output_type": "execute_result",
          "data": {
            "text/html": [
              "<div style=\"max-height:1000px;max-width:1500px;overflow:auto;\"><table frame=\"box\" rules=\"cols\">\n",
              "    <tr>\n",
              "        <th style=\"padding-left: 1em; padding-right: 1em; text-align: center\">URI</th>\n",
              "        <th style=\"padding-left: 1em; padding-right: 1em; text-align: center\">name</th>\n",
              "        <th style=\"padding-left: 1em; padding-right: 1em; text-align: center\">text</th>\n",
              "        <th style=\"padding-left: 1em; padding-right: 1em; text-align: center\">tf_idf</th>\n",
              "    </tr>\n",
              "    <tr>\n",
              "        <td style=\"padding-left: 1em; padding-right: 1em; text-align: center; vertical-align: top\">&lt;http://dbpedia.org/resou<br>rce/Digby_Morrell&gt; ...</td>\n",
              "        <td style=\"padding-left: 1em; padding-right: 1em; text-align: center; vertical-align: top\">Digby Morrell</td>\n",
              "        <td style=\"padding-left: 1em; padding-right: 1em; text-align: center; vertical-align: top\">digby morrell born 10<br>october 1979 is a former ...</td>\n",
              "        <td style=\"padding-left: 1em; padding-right: 1em; text-align: center; vertical-align: top\">{&#x27;melbourne&#x27;:<br>3.816712825623821, ...</td>\n",
              "    </tr>\n",
              "    <tr>\n",
              "        <td style=\"padding-left: 1em; padding-right: 1em; text-align: center; vertical-align: top\">&lt;http://dbpedia.org/resou<br>rce/Alfred_J._Lewy&gt; ...</td>\n",
              "        <td style=\"padding-left: 1em; padding-right: 1em; text-align: center; vertical-align: top\">Alfred J. Lewy</td>\n",
              "        <td style=\"padding-left: 1em; padding-right: 1em; text-align: center; vertical-align: top\">alfred j lewy aka sandy<br>lewy graduated from ...</td>\n",
              "        <td style=\"padding-left: 1em; padding-right: 1em; text-align: center; vertical-align: top\">{&#x27;time&#x27;:<br>1.3455363686477229, ...</td>\n",
              "    </tr>\n",
              "    <tr>\n",
              "        <td style=\"padding-left: 1em; padding-right: 1em; text-align: center; vertical-align: top\">&lt;http://dbpedia.org/resou<br>rce/Harpdog_Brown&gt; ...</td>\n",
              "        <td style=\"padding-left: 1em; padding-right: 1em; text-align: center; vertical-align: top\">Harpdog Brown</td>\n",
              "        <td style=\"padding-left: 1em; padding-right: 1em; text-align: center; vertical-align: top\">harpdog brown is a singer<br>and harmonica player who ...</td>\n",
              "        <td style=\"padding-left: 1em; padding-right: 1em; text-align: center; vertical-align: top\">{&#x27;society&#x27;:<br>2.4281483159693913, ...</td>\n",
              "    </tr>\n",
              "    <tr>\n",
              "        <td style=\"padding-left: 1em; padding-right: 1em; text-align: center; vertical-align: top\">&lt;http://dbpedia.org/resou<br>rce/Franz_Rottensteiner&gt; ...</td>\n",
              "        <td style=\"padding-left: 1em; padding-right: 1em; text-align: center; vertical-align: top\">Franz Rottensteiner</td>\n",
              "        <td style=\"padding-left: 1em; padding-right: 1em; text-align: center; vertical-align: top\">franz rottensteiner born<br>in waidmannsfeld lower ...</td>\n",
              "        <td style=\"padding-left: 1em; padding-right: 1em; text-align: center; vertical-align: top\">{&#x27;kurdlawitzpreis&#x27;:<br>8.517193191416238, ...</td>\n",
              "    </tr>\n",
              "    <tr>\n",
              "        <td style=\"padding-left: 1em; padding-right: 1em; text-align: center; vertical-align: top\">&lt;http://dbpedia.org/resou<br>rce/G-Enka&gt; ...</td>\n",
              "        <td style=\"padding-left: 1em; padding-right: 1em; text-align: center; vertical-align: top\">G-Enka</td>\n",
              "        <td style=\"padding-left: 1em; padding-right: 1em; text-align: center; vertical-align: top\">henry krvits born 30<br>december 1974 in tallinn ...</td>\n",
              "        <td style=\"padding-left: 1em; padding-right: 1em; text-align: center; vertical-align: top\">{&#x27;curtis&#x27;:<br>5.149897361429764, ...</td>\n",
              "    </tr>\n",
              "    <tr>\n",
              "        <td style=\"padding-left: 1em; padding-right: 1em; text-align: center; vertical-align: top\">&lt;http://dbpedia.org/resou<br>rce/Sam_Henderson&gt; ...</td>\n",
              "        <td style=\"padding-left: 1em; padding-right: 1em; text-align: center; vertical-align: top\">Sam Henderson</td>\n",
              "        <td style=\"padding-left: 1em; padding-right: 1em; text-align: center; vertical-align: top\">sam henderson born<br>october 18 1969 is an ...</td>\n",
              "        <td style=\"padding-left: 1em; padding-right: 1em; text-align: center; vertical-align: top\">{&#x27;asses&#x27;:<br>8.517193191416238, &#x27;s ...</td>\n",
              "    </tr>\n",
              "    <tr>\n",
              "        <td style=\"padding-left: 1em; padding-right: 1em; text-align: center; vertical-align: top\">&lt;http://dbpedia.org/resou<br>rce/Aaron_LaCrate&gt; ...</td>\n",
              "        <td style=\"padding-left: 1em; padding-right: 1em; text-align: center; vertical-align: top\">Aaron LaCrate</td>\n",
              "        <td style=\"padding-left: 1em; padding-right: 1em; text-align: center; vertical-align: top\">aaron lacrate is an<br>american music producer ...</td>\n",
              "        <td style=\"padding-left: 1em; padding-right: 1em; text-align: center; vertical-align: top\">{&#x27;streamz&#x27;:<br>8.517193191416238, ...</td>\n",
              "    </tr>\n",
              "    <tr>\n",
              "        <td style=\"padding-left: 1em; padding-right: 1em; text-align: center; vertical-align: top\">&lt;http://dbpedia.org/resou<br>rce/Trevor_Ferguson&gt; ...</td>\n",
              "        <td style=\"padding-left: 1em; padding-right: 1em; text-align: center; vertical-align: top\">Trevor Ferguson</td>\n",
              "        <td style=\"padding-left: 1em; padding-right: 1em; text-align: center; vertical-align: top\">trevor ferguson aka john<br>farrow born 11 november ...</td>\n",
              "        <td style=\"padding-left: 1em; padding-right: 1em; text-align: center; vertical-align: top\">{&#x27;concordia&#x27;:<br>6.319968614080018, ...</td>\n",
              "    </tr>\n",
              "    <tr>\n",
              "        <td style=\"padding-left: 1em; padding-right: 1em; text-align: center; vertical-align: top\">&lt;http://dbpedia.org/resou<br>rce/Grant_Nelson&gt; ...</td>\n",
              "        <td style=\"padding-left: 1em; padding-right: 1em; text-align: center; vertical-align: top\">Grant Nelson</td>\n",
              "        <td style=\"padding-left: 1em; padding-right: 1em; text-align: center; vertical-align: top\">grant nelson born 27<br>april 1971 in london  ...</td>\n",
              "        <td style=\"padding-left: 1em; padding-right: 1em; text-align: center; vertical-align: top\">{&#x27;heavies&#x27;:<br>8.517193191416238, &#x27;n ...</td>\n",
              "    </tr>\n",
              "    <tr>\n",
              "        <td style=\"padding-left: 1em; padding-right: 1em; text-align: center; vertical-align: top\">&lt;http://dbpedia.org/resou<br>rce/Cathy_Caruth&gt; ...</td>\n",
              "        <td style=\"padding-left: 1em; padding-right: 1em; text-align: center; vertical-align: top\">Cathy Caruth</td>\n",
              "        <td style=\"padding-left: 1em; padding-right: 1em; text-align: center; vertical-align: top\">cathy caruth born 1955 is<br>frank h t rhodes ...</td>\n",
              "        <td style=\"padding-left: 1em; padding-right: 1em; text-align: center; vertical-align: top\">{&#x27;2002&#x27;:<br>1.8931279636163438, ...</td>\n",
              "    </tr>\n",
              "</table>\n",
              "[5000 rows x 4 columns]<br/>Note: Only the head of the SFrame is printed.<br/>You can use print_rows(num_rows=m, num_columns=n) to print more rows and columns.\n",
              "</div>"
            ],
            "text/plain": [
              "Columns:\n",
              "\tURI\tstr\n",
              "\tname\tstr\n",
              "\ttext\tstr\n",
              "\ttf_idf\tdict\n",
              "\n",
              "Rows: 5000\n",
              "\n",
              "Data:\n",
              "+-------------------------------+---------------------+\n",
              "|              URI              |         name        |\n",
              "+-------------------------------+---------------------+\n",
              "| <http://dbpedia.org/resour... |    Digby Morrell    |\n",
              "| <http://dbpedia.org/resour... |    Alfred J. Lewy   |\n",
              "| <http://dbpedia.org/resour... |    Harpdog Brown    |\n",
              "| <http://dbpedia.org/resour... | Franz Rottensteiner |\n",
              "| <http://dbpedia.org/resour... |        G-Enka       |\n",
              "| <http://dbpedia.org/resour... |    Sam Henderson    |\n",
              "| <http://dbpedia.org/resour... |    Aaron LaCrate    |\n",
              "| <http://dbpedia.org/resour... |   Trevor Ferguson   |\n",
              "| <http://dbpedia.org/resour... |     Grant Nelson    |\n",
              "| <http://dbpedia.org/resour... |     Cathy Caruth    |\n",
              "+-------------------------------+---------------------+\n",
              "+-------------------------------+-------------------------------+\n",
              "|              text             |             tf_idf            |\n",
              "+-------------------------------+-------------------------------+\n",
              "| digby morrell born 10 octo... | {'melbourne': 3.8167128256... |\n",
              "| alfred j lewy aka sandy le... | {'time': 1.345536368647722... |\n",
              "| harpdog brown is a singer ... | {'society': 2.428148315969... |\n",
              "| franz rottensteiner born i... | {'kurdlawitzpreis': 8.5171... |\n",
              "| henry krvits born 30 decem... | {'curtis': 5.1498973614297... |\n",
              "| sam henderson born october... | {'asses': 8.51719319141623... |\n",
              "| aaron lacrate is an americ... | {'streamz': 8.517193191416... |\n",
              "| trevor ferguson aka john f... | {'concordia': 6.3199686140... |\n",
              "| grant nelson born 27 april... | {'heavies': 8.517193191416... |\n",
              "| cathy caruth born 1955 is ... | {'2002': 1.893127963616343... |\n",
              "+-------------------------------+-------------------------------+\n",
              "[5000 rows x 4 columns]\n",
              "Note: Only the head of the SFrame is printed.\n",
              "You can use print_rows(num_rows=m, num_columns=n) to print more rows and columns."
            ]
          },
          "metadata": {},
          "execution_count": 28
        }
      ]
    },
    {
      "cell_type": "markdown",
      "metadata": {
        "id": "JaJDhvuTKc5q"
      },
      "source": [
        "Using a utility we provide, we will create a sparse matrix representation of the documents. This is the same utility function you used during the previous assignment on k-means with text data."
      ]
    },
    {
      "cell_type": "code",
      "metadata": {
        "id": "88ws7NkbKc5s"
      },
      "source": [
        "wiki = wiki.add_row_number()\n",
        "tf_idf, map_word_to_index = sframe_to_scipy(wiki, 'tf_idf')\n",
        "map_index_to_word = dict([[map_word_to_index[i], i] for i in map_word_to_index.keys()])"
      ],
      "execution_count": null,
      "outputs": []
    },
    {
      "cell_type": "markdown",
      "metadata": {
        "id": "u1S3XBZ7Kc5u"
      },
      "source": [
        "As in the previous assignment, we will normalize each document's TF-IDF vector to be a unit vector. "
      ]
    },
    {
      "cell_type": "code",
      "metadata": {
        "colab": {
          "base_uri": "https://localhost:8080/"
        },
        "id": "05YArBkTKc5x",
        "outputId": "a9f35232-39e6-4cc2-93a5-30a0de2774ce"
      },
      "source": [
        "%%time\n",
        "tf_idf = normalize(tf_idf)"
      ],
      "execution_count": null,
      "outputs": [
        {
          "output_type": "stream",
          "name": "stdout",
          "text": [
            "CPU times: user 7.31 ms, sys: 2.97 ms, total: 10.3 ms\n",
            "Wall time: 18.3 ms\n"
          ]
        }
      ]
    },
    {
      "cell_type": "markdown",
      "metadata": {
        "id": "xk83BAQcKc5z"
      },
      "source": [
        "We can check that the length (Euclidean norm) of each row is now 1.0, as expected."
      ]
    },
    {
      "cell_type": "code",
      "metadata": {
        "scrolled": true,
        "colab": {
          "base_uri": "https://localhost:8080/"
        },
        "id": "CbYEggZvKc51",
        "outputId": "fb971bad-f0d8-4e2c-e840-a788195db9cc"
      },
      "source": [
        "for i in range(5):\n",
        "    doc = tf_idf[i]\n",
        "    print(np.linalg.norm(doc.todense()))"
      ],
      "execution_count": null,
      "outputs": [
        {
          "output_type": "stream",
          "name": "stdout",
          "text": [
            "1.0\n",
            "1.0\n",
            "0.9999999999999997\n",
            "1.0000000000000007\n",
            "1.0\n"
          ]
        }
      ]
    },
    {
      "cell_type": "markdown",
      "metadata": {
        "id": "_E6c1plWKc53"
      },
      "source": [
        "## EM in high dimensions\n",
        "\n",
        "EM for high-dimensional data requires some special treatment:\n",
        " * E step and M step must be vectorized as much as possible, as explicit loops are dreadfully slow in Python.\n",
        " * All operations must be cast in terms of sparse matrix operations, to take advantage of computational savings enabled by sparsity of data.\n",
        " * Initially, some words may be entirely absent from a cluster, causing the M step to produce zero mean and variance for those words.  This means any data point with one of those words will have 0 probability of being assigned to that cluster since the cluster allows for no variability (0 variance) around that count being 0 (0 mean). Since there is a small chance for those words to later appear in the cluster, we instead assign a small positive variance (~1e-10). Doing so also prevents numerical overflow.\n",
        " \n",
        "We provide the complete implementation for you in the file `em_utilities.py`. For those who are interested, you can read through the code to see how the sparse matrix implementation differs from the previous assignment. \n",
        "\n",
        "You are expected to answer some quiz questions using the results of clustering."
      ]
    },
    {
      "cell_type": "markdown",
      "metadata": {
        "id": "dGvz8tcFKc56"
      },
      "source": [
        "**Initializing mean parameters using k-means**\n",
        "\n",
        "Recall from the lectures that EM for Gaussian mixtures is very sensitive to the choice of initial means. With a bad initial set of means, EM may produce clusters that span a large area and are mostly overlapping. To eliminate such bad outcomes, we first produce a suitable set of initial means by using the cluster centers from running k-means.  That is, we first run k-means and then take the final set of means from the converged solution as the initial means in our EM algorithm."
      ]
    },
    {
      "cell_type": "code",
      "metadata": {
        "colab": {
          "base_uri": "https://localhost:8080/"
        },
        "id": "v-69vvKWKc58",
        "outputId": "c157123f-0d30-42de-bbe1-3ef261a9098b"
      },
      "source": [
        "%%time \n",
        "\n",
        "from sklearn.cluster import KMeans\n",
        "\n",
        "np.random.seed(5)\n",
        "num_clusters = 25\n",
        "\n",
        "# Use scikit-learn's k-means to simplify workflow\n",
        "#kmeans_model = KMeans(n_clusters=num_clusters, n_init=5, max_iter=400, random_state=1, n_jobs=-1) # uncomment to use parallelism -- may break on your installation\n",
        "kmeans_model = KMeans(n_clusters=num_clusters, n_init=5, max_iter=400, random_state=1, n_jobs=1)\n",
        "kmeans_model.fit(tf_idf)\n",
        "centroids, cluster_assignment = kmeans_model.cluster_centers_, kmeans_model.labels_\n",
        "\n",
        "means = [centroid for centroid in centroids]"
      ],
      "execution_count": null,
      "outputs": [
        {
          "output_type": "stream",
          "name": "stdout",
          "text": [
            "CPU times: user 2min 24s, sys: 14.4 s, total: 2min 39s\n",
            "Wall time: 2min 22s\n"
          ]
        }
      ]
    },
    {
      "cell_type": "code",
      "metadata": {
        "colab": {
          "base_uri": "https://localhost:8080/"
        },
        "id": "jTYlwCdpRyUt",
        "outputId": "50e9d522-534a-45b3-f180-3a150d54939f"
      },
      "source": [
        "cluster_assignment"
      ],
      "execution_count": null,
      "outputs": [
        {
          "output_type": "execute_result",
          "data": {
            "text/plain": [
              "array([22, 23, 15, ...,  2,  2,  8], dtype=int32)"
            ]
          },
          "metadata": {},
          "execution_count": 33
        }
      ]
    },
    {
      "cell_type": "markdown",
      "metadata": {
        "id": "NY-KBKwxKc5_"
      },
      "source": [
        "**Initializing cluster weights**\n",
        "\n",
        "We will initialize each cluster weight to be the proportion of documents assigned to that cluster by k-means above."
      ]
    },
    {
      "cell_type": "code",
      "metadata": {
        "colab": {
          "base_uri": "https://localhost:8080/"
        },
        "id": "MFG0YRFdKc6C",
        "outputId": "a4ea2125-5bc9-4f46-e7c0-2e6ff92bdff8"
      },
      "source": [
        "%%time \n",
        "\n",
        "num_docs = tf_idf.shape[0]\n",
        "weights = []\n",
        "for i in range(num_clusters):\n",
        "    # Compute the number of data points assigned to cluster i:\n",
        "    num_assigned = cluster_assignment[cluster_assignment == i].shape[0] # YOUR CODE HERE\n",
        "    w = float(num_assigned) / num_docs\n",
        "    weights.append(w)"
      ],
      "execution_count": null,
      "outputs": [
        {
          "output_type": "stream",
          "name": "stdout",
          "text": [
            "CPU times: user 500 µs, sys: 52 µs, total: 552 µs\n",
            "Wall time: 564 µs\n"
          ]
        }
      ]
    },
    {
      "cell_type": "markdown",
      "metadata": {
        "id": "Rksxl4bkKc6E"
      },
      "source": [
        "**Initializing covariances**\n",
        "\n",
        "To initialize our covariance parameters, we compute $\\hat{\\sigma}_{k, j}^2 = \\sum_{i=1}^{N}(x_{i,j} - \\hat{\\mu}_{k, j})^2$ for each feature $j$.  For features with really tiny variances, we assign 1e-8 instead to prevent numerical instability. We do this computation in a vectorized fashion in the following code block."
      ]
    },
    {
      "cell_type": "code",
      "metadata": {
        "id": "a9E_vQJIKc6F"
      },
      "source": [
        "covs = []\n",
        "for i in range(num_clusters):\n",
        "    member_rows = tf_idf[cluster_assignment==i]\n",
        "    cov = (member_rows.multiply(member_rows) - 2*member_rows.dot(diag(means[i]))).sum(axis=0).A1 / member_rows.shape[0] \\\n",
        "          + means[i]**2\n",
        "    cov[cov < 1e-8] = 1e-8\n",
        "    covs.append(cov)"
      ],
      "execution_count": null,
      "outputs": []
    },
    {
      "cell_type": "markdown",
      "metadata": {
        "id": "V7bd1Ag3Kc6H"
      },
      "source": [
        "**Running EM**\n",
        "\n",
        "Now that we have initialized all of our parameters, run EM."
      ]
    },
    {
      "cell_type": "code",
      "metadata": {
        "scrolled": true,
        "id": "bWaHx2HEKc6J"
      },
      "source": [
        "out = EM_for_high_dimension(tf_idf, means, covs, weights, cov_smoothing=1e-10)"
      ],
      "execution_count": null,
      "outputs": []
    },
    {
      "cell_type": "code",
      "metadata": {
        "colab": {
          "base_uri": "https://localhost:8080/"
        },
        "id": "00qvw9BGKc6K",
        "outputId": "96e7e2a6-69b1-403f-9fcd-1d7843a083cf"
      },
      "source": [
        "out['loglik']"
      ],
      "execution_count": null,
      "outputs": [
        {
          "output_type": "execute_result",
          "data": {
            "text/plain": [
              "[3855847476.7012835, 4844053202.46348, 4844053202.46348]"
            ]
          },
          "metadata": {},
          "execution_count": 37
        }
      ]
    },
    {
      "cell_type": "code",
      "metadata": {
        "colab": {
          "base_uri": "https://localhost:8080/"
        },
        "id": "hPDGlKZpSElF",
        "outputId": "7ad77a46-1b8f-44b9-cd92-c2564726a6fe"
      },
      "source": [
        "len(out['means'])"
      ],
      "execution_count": null,
      "outputs": [
        {
          "output_type": "execute_result",
          "data": {
            "text/plain": [
              "25"
            ]
          },
          "metadata": {},
          "execution_count": 38
        }
      ]
    },
    {
      "cell_type": "markdown",
      "metadata": {
        "id": "JnwiXOtCKc6L"
      },
      "source": [
        "## Interpret clustering results"
      ]
    },
    {
      "cell_type": "markdown",
      "metadata": {
        "id": "wziXUBEXKc6M"
      },
      "source": [
        "In contrast to k-means, EM is able to explicitly model clusters of varying sizes and proportions. The relative magnitude of variances in the word dimensions tell us much about the nature of the clusters.\n",
        "\n",
        "Write yourself a cluster visualizer as follows.  Examining each cluster's mean vector, list the 5 words with the largest mean values (5 most common words in the cluster). For each word, also include the associated variance parameter (diagonal element of the covariance matrix). \n",
        "\n",
        "A sample output may be:\n",
        "```\n",
        "==========================================================\n",
        "Cluster 0: Largest mean parameters in cluster \n",
        "\n",
        "Word        Mean        Variance    \n",
        "football    1.08e-01    8.64e-03\n",
        "season      5.80e-02    2.93e-03\n",
        "club        4.48e-02    1.99e-03\n",
        "league      3.94e-02    1.08e-03\n",
        "played      3.83e-02    8.45e-04\n",
        "...\n",
        "```"
      ]
    },
    {
      "cell_type": "code",
      "metadata": {
        "id": "Y_1ZNg6BKc6N"
      },
      "source": [
        "# Fill in the blanks\n",
        "def visualize_EM_clusters(tf_idf, means, covs, map_index_to_word):\n",
        "    print('')\n",
        "    print('==========================================================')\n",
        "    \n",
        "    num_clusters = len(means)\n",
        "    for c in range(num_clusters):\n",
        "        print('Cluster {0:d}: Largest mean parameters in cluster '.format(c))\n",
        "        print('\\n{0: <12}{1: <12}{2: <12}'.format('Word', 'Mean', 'Variance'))\n",
        "        \n",
        "        # The k'th element of sorted_word_ids should be the index of the word \n",
        "        # that has the k'th-largest value in the cluster mean. Hint: Use np.argsort().\n",
        "        sorted_word_ids = np.argsort(-means[c])  # YOUR CODE HERE\n",
        "\n",
        "        for i in sorted_word_ids[:5]:\n",
        "            print('{0: <12}{1:<10.2e}{2:10.2e}'.format(map_index_to_word[i], \n",
        "                                                       means[c][i],\n",
        "                                                       covs[c][i]))\n",
        "        print('\\n==========================================================')"
      ],
      "execution_count": null,
      "outputs": []
    },
    {
      "cell_type": "code",
      "metadata": {
        "colab": {
          "base_uri": "https://localhost:8080/"
        },
        "id": "bc5kVSmDKc6O",
        "outputId": "e684ce64-6757-49c2-afb2-81fea7c99824"
      },
      "source": [
        "'''By EM'''\n",
        "visualize_EM_clusters(tf_idf, out['means'], out['covs'], map_index_to_word)"
      ],
      "execution_count": null,
      "outputs": [
        {
          "output_type": "stream",
          "name": "stdout",
          "text": [
            "\n",
            "==========================================================\n",
            "Cluster 0: Largest mean parameters in cluster \n",
            "\n",
            "Word        Mean        Variance    \n",
            "minister    7.57e-02    7.42e-03\n",
            "election    5.89e-02    3.21e-03\n",
            "party       5.89e-02    2.61e-03\n",
            "liberal     2.93e-02    4.55e-03\n",
            "elected     2.91e-02    8.95e-04\n",
            "\n",
            "==========================================================\n",
            "Cluster 1: Largest mean parameters in cluster \n",
            "\n",
            "Word        Mean        Variance    \n",
            "film        1.76e-01    6.07e-03\n",
            "films       5.50e-02    2.97e-03\n",
            "festival    4.66e-02    3.60e-03\n",
            "feature     3.69e-02    1.81e-03\n",
            "directed    3.39e-02    2.22e-03\n",
            "\n",
            "==========================================================\n",
            "Cluster 2: Largest mean parameters in cluster \n",
            "\n",
            "Word        Mean        Variance    \n",
            "art         1.26e-01    6.83e-03\n",
            "museum      5.62e-02    7.27e-03\n",
            "gallery     3.65e-02    3.40e-03\n",
            "artist      3.61e-02    1.44e-03\n",
            "design      3.20e-02    4.59e-03\n",
            "\n",
            "==========================================================\n",
            "Cluster 3: Largest mean parameters in cluster \n",
            "\n",
            "Word        Mean        Variance    \n",
            "basketball  1.86e-01    7.78e-03\n",
            "nba         1.01e-01    1.22e-02\n",
            "points      6.25e-02    5.92e-03\n",
            "coach       5.57e-02    5.91e-03\n",
            "team        4.68e-02    1.30e-03\n",
            "\n",
            "==========================================================\n",
            "Cluster 4: Largest mean parameters in cluster \n",
            "\n",
            "Word        Mean        Variance    \n",
            "hockey      2.45e-01    1.64e-02\n",
            "nhl         1.56e-01    1.64e-02\n",
            "ice         6.40e-02    2.97e-03\n",
            "season      5.05e-02    2.52e-03\n",
            "league      4.31e-02    1.53e-03\n",
            "\n",
            "==========================================================\n",
            "Cluster 5: Largest mean parameters in cluster \n",
            "\n",
            "Word        Mean        Variance    \n",
            "republican  7.93e-02    5.20e-03\n",
            "senate      5.41e-02    6.28e-03\n",
            "house       4.64e-02    2.41e-03\n",
            "district    4.60e-02    2.37e-03\n",
            "democratic  4.46e-02    3.02e-03\n",
            "\n",
            "==========================================================\n",
            "Cluster 6: Largest mean parameters in cluster \n",
            "\n",
            "Word        Mean        Variance    \n",
            "she         1.60e-01    4.65e-03\n",
            "her         1.00e-01    3.14e-03\n",
            "miss        2.22e-02    7.76e-03\n",
            "women       1.43e-02    1.36e-03\n",
            "womens      1.21e-02    1.46e-03\n",
            "\n",
            "==========================================================\n",
            "Cluster 7: Largest mean parameters in cluster \n",
            "\n",
            "Word        Mean        Variance    \n",
            "championships7.78e-02    5.17e-03\n",
            "m           4.70e-02    7.58e-03\n",
            "olympics    4.69e-02    2.59e-03\n",
            "medal       4.28e-02    2.44e-03\n",
            "she         4.18e-02    5.99e-03\n",
            "\n",
            "==========================================================\n",
            "Cluster 8: Largest mean parameters in cluster \n",
            "\n",
            "Word        Mean        Variance    \n",
            "book        1.45e-02    9.38e-04\n",
            "published   1.23e-02    6.16e-04\n",
            "that        1.10e-02    1.73e-04\n",
            "novel       1.07e-02    1.43e-03\n",
            "he          1.04e-02    6.05e-05\n",
            "\n",
            "==========================================================\n",
            "Cluster 9: Largest mean parameters in cluster \n",
            "\n",
            "Word        Mean        Variance    \n",
            "she         1.37e-01    4.25e-03\n",
            "her         8.99e-02    2.74e-03\n",
            "actress     7.65e-02    4.29e-03\n",
            "film        5.98e-02    3.44e-03\n",
            "drama       5.03e-02    6.40e-03\n",
            "\n",
            "==========================================================\n",
            "Cluster 10: Largest mean parameters in cluster \n",
            "\n",
            "Word        Mean        Variance    \n",
            "soccer      1.15e-01    2.86e-02\n",
            "chess       4.52e-02    1.66e-02\n",
            "team        4.13e-02    2.15e-03\n",
            "coach       3.09e-02    4.45e-03\n",
            "league      3.07e-02    2.01e-03\n",
            "\n",
            "==========================================================\n",
            "Cluster 11: Largest mean parameters in cluster \n",
            "\n",
            "Word        Mean        Variance    \n",
            "president   2.52e-02    1.29e-03\n",
            "chairman    2.44e-02    1.97e-03\n",
            "committee   2.34e-02    2.38e-03\n",
            "served      2.24e-02    6.99e-04\n",
            "executive   2.15e-02    1.23e-03\n",
            "\n",
            "==========================================================\n",
            "Cluster 12: Largest mean parameters in cluster \n",
            "\n",
            "Word        Mean        Variance    \n",
            "music       7.26e-02    3.48e-03\n",
            "jazz        6.07e-02    1.14e-02\n",
            "hong        3.78e-02    9.92e-03\n",
            "kong        3.50e-02    8.64e-03\n",
            "chinese     3.12e-02    5.33e-03\n",
            "\n",
            "==========================================================\n",
            "Cluster 13: Largest mean parameters in cluster \n",
            "\n",
            "Word        Mean        Variance    \n",
            "university  3.47e-02    8.89e-04\n",
            "history     3.38e-02    2.81e-03\n",
            "philosophy  2.86e-02    5.35e-03\n",
            "professor   2.74e-02    1.08e-03\n",
            "studies     2.41e-02    1.95e-03\n",
            "\n",
            "==========================================================\n",
            "Cluster 14: Largest mean parameters in cluster \n",
            "\n",
            "Word        Mean        Variance    \n",
            "theatre     4.93e-02    6.17e-03\n",
            "actor       3.56e-02    2.91e-03\n",
            "television  3.21e-02    1.67e-03\n",
            "film        2.93e-02    1.16e-03\n",
            "comedy      2.86e-02    3.91e-03\n",
            "\n",
            "==========================================================\n",
            "Cluster 15: Largest mean parameters in cluster \n",
            "\n",
            "Word        Mean        Variance    \n",
            "album       6.76e-02    4.78e-03\n",
            "band        5.35e-02    4.21e-03\n",
            "music       4.18e-02    1.96e-03\n",
            "released    3.13e-02    1.11e-03\n",
            "song        2.50e-02    1.81e-03\n",
            "\n",
            "==========================================================\n",
            "Cluster 16: Largest mean parameters in cluster \n",
            "\n",
            "Word        Mean        Variance    \n",
            "tour        1.14e-01    1.92e-02\n",
            "pga         1.08e-01    2.65e-02\n",
            "racing      8.45e-02    8.26e-03\n",
            "championship6.27e-02    4.54e-03\n",
            "formula     6.06e-02    1.31e-02\n",
            "\n",
            "==========================================================\n",
            "Cluster 17: Largest mean parameters in cluster \n",
            "\n",
            "Word        Mean        Variance    \n",
            "news        5.76e-02    8.06e-03\n",
            "radio       5.18e-02    4.62e-03\n",
            "show        3.75e-02    2.56e-03\n",
            "bbc         3.63e-02    7.41e-03\n",
            "chef        3.27e-02    1.18e-02\n",
            "\n",
            "==========================================================\n",
            "Cluster 18: Largest mean parameters in cluster \n",
            "\n",
            "Word        Mean        Variance    \n",
            "football    1.11e-01    5.60e-03\n",
            "yards       7.37e-02    1.72e-02\n",
            "nfl         6.98e-02    9.15e-03\n",
            "coach       6.74e-02    7.85e-03\n",
            "quarterback 4.02e-02    7.16e-03\n",
            "\n",
            "==========================================================\n",
            "Cluster 19: Largest mean parameters in cluster \n",
            "\n",
            "Word        Mean        Variance    \n",
            "league      5.21e-02    3.13e-03\n",
            "club        5.04e-02    2.64e-03\n",
            "season      4.77e-02    2.30e-03\n",
            "rugby       4.35e-02    8.18e-03\n",
            "cup         4.22e-02    2.46e-03\n",
            "\n",
            "==========================================================\n",
            "Cluster 20: Largest mean parameters in cluster \n",
            "\n",
            "Word        Mean        Variance    \n",
            "orchestra   1.31e-01    1.06e-02\n",
            "music       1.23e-01    6.15e-03\n",
            "symphony    8.70e-02    1.08e-02\n",
            "conductor   8.16e-02    1.01e-02\n",
            "philharmonic4.96e-02    3.27e-03\n",
            "\n",
            "==========================================================\n",
            "Cluster 21: Largest mean parameters in cluster \n",
            "\n",
            "Word        Mean        Variance    \n",
            "law         9.52e-02    8.35e-03\n",
            "court       6.84e-02    5.24e-03\n",
            "judge       4.59e-02    4.44e-03\n",
            "attorney    3.74e-02    4.30e-03\n",
            "district    3.72e-02    4.20e-03\n",
            "\n",
            "==========================================================\n",
            "Cluster 22: Largest mean parameters in cluster \n",
            "\n",
            "Word        Mean        Variance    \n",
            "football    1.21e-01    6.14e-03\n",
            "afl         9.58e-02    1.31e-02\n",
            "australian  7.91e-02    1.58e-03\n",
            "club        5.93e-02    1.76e-03\n",
            "season      5.58e-02    1.83e-03\n",
            "\n",
            "==========================================================\n",
            "Cluster 23: Largest mean parameters in cluster \n",
            "\n",
            "Word        Mean        Variance    \n",
            "research    5.70e-02    2.68e-03\n",
            "science     3.50e-02    2.95e-03\n",
            "university  3.34e-02    7.14e-04\n",
            "professor   3.20e-02    1.26e-03\n",
            "physics     2.61e-02    5.43e-03\n",
            "\n",
            "==========================================================\n",
            "Cluster 24: Largest mean parameters in cluster \n",
            "\n",
            "Word        Mean        Variance    \n",
            "baseball    1.16e-01    5.57e-03\n",
            "league      1.03e-01    3.63e-03\n",
            "major       5.09e-02    1.19e-03\n",
            "games       4.66e-02    1.93e-03\n",
            "sox         4.55e-02    6.28e-03\n",
            "\n",
            "==========================================================\n"
          ]
        }
      ]
    },
    {
      "cell_type": "markdown",
      "metadata": {
        "id": "waf2BCX6Kc6Q"
      },
      "source": [
        "**Quiz Question**. Select all the topics that have a cluster in the model created above. [multiple choice]\n",
        "\n",
        "- Baseball\n",
        "- Basketball\n",
        "- Soccer/Football\n",
        "- Music\n",
        "- Politics\n",
        "- Law\n",
        "- Finance"
      ]
    },
    {
      "cell_type": "markdown",
      "metadata": {
        "id": "tH6CVEKQKc6R"
      },
      "source": [
        "## Comparing to random initialization"
      ]
    },
    {
      "cell_type": "markdown",
      "metadata": {
        "id": "wbXk64v1Kc6S"
      },
      "source": [
        "Create variables for randomly initializing the EM algorithm. Complete the following code block."
      ]
    },
    {
      "cell_type": "code",
      "metadata": {
        "id": "TZSpcKvYKc6T"
      },
      "source": [
        "np.random.seed(5) # See the note below to see why we set seed=5.\n",
        "num_clusters = len(means)\n",
        "num_docs, num_words = tf_idf.shape\n",
        "\n",
        "random_means = []\n",
        "random_covs = []\n",
        "random_weights = []\n",
        "\n",
        "for k in range(num_clusters):\n",
        "    \n",
        "    # Create a numpy array of length num_words with random normally distributed values.\n",
        "    # Use the standard univariate normal distribution (mean 0, variance 1).\n",
        "    # YOUR CODE HERE\n",
        "    mean = np.random.normal(0, 1, num_words)\n",
        "    \n",
        "    # Create a numpy array of length num_words with random values uniformly distributed between 1 and 5.\n",
        "    # YOUR CODE HERE\n",
        "    cov = np.random.uniform(1,6,num_words)\n",
        "\n",
        "    # Initially give each cluster equal weight.\n",
        "    # YOUR CODE HERE\n",
        "    weight = 1\n",
        "    \n",
        "    random_means.append(mean)\n",
        "    random_covs.append(cov)\n",
        "    random_weights.append(weight)"
      ],
      "execution_count": null,
      "outputs": []
    },
    {
      "cell_type": "markdown",
      "metadata": {
        "id": "8kTMmcxgKc6V"
      },
      "source": [
        "**Quiz Question**: Try fitting EM with the random initial parameters you created above. (Use `cov_smoothing=1e-5`.) Store the result to `out_random_init`. What is the final loglikelihood that the algorithm converges to?"
      ]
    },
    {
      "cell_type": "code",
      "metadata": {
        "id": "yV0D5249Kc6W"
      },
      "source": [
        "out_random_init = EM_for_high_dimension(tf_idf, random_means, random_covs, random_weights, cov_smoothing=1e-5)"
      ],
      "execution_count": null,
      "outputs": []
    },
    {
      "cell_type": "code",
      "metadata": {
        "colab": {
          "base_uri": "https://localhost:8080/"
        },
        "id": "mX6tEMDTShKZ",
        "outputId": "2aa4bbca-77c8-4dc0-96c1-9cf3f2188741"
      },
      "source": [
        "out_random_init['loglik']"
      ],
      "execution_count": null,
      "outputs": [
        {
          "output_type": "execute_result",
          "data": {
            "text/plain": [
              "[-793165435.4353752,\n",
              " 2282163613.2850637,\n",
              " 2361698188.923529,\n",
              " 2362005266.1072693,\n",
              " 2362023061.896716,\n",
              " 2362037538.064111,\n",
              " 2362037538.064111]"
            ]
          },
          "metadata": {},
          "execution_count": 43
        }
      ]
    },
    {
      "cell_type": "markdown",
      "metadata": {
        "id": "7a5DG6fXKc6W"
      },
      "source": [
        "**Quiz Question:** Is the final loglikelihood larger or smaller than the final loglikelihood we obtained above when initializing EM with the results from running k-means?"
      ]
    },
    {
      "cell_type": "code",
      "metadata": {
        "id": "WASgA7DWKc6X"
      },
      "source": [
        ""
      ],
      "execution_count": null,
      "outputs": []
    },
    {
      "cell_type": "markdown",
      "metadata": {
        "id": "Xgo0yQAIKc6Y"
      },
      "source": [
        "**Quiz Question**: For the above model, `out_random_init`, use the `visualize_EM_clusters` method you created above. Are the clusters more or less interpretable than the ones found after initializing using k-means?"
      ]
    },
    {
      "cell_type": "code",
      "metadata": {
        "colab": {
          "base_uri": "https://localhost:8080/"
        },
        "id": "Kh_HIf5YKc6Z",
        "outputId": "f8c42174-b9eb-4182-ef9b-efb4fd8f7cac"
      },
      "source": [
        "# YOUR CODE HERE. Use visualize_EM_clusters, which will require you to pass in tf_idf and map_index_to_word.\n",
        "visualize_EM_clusters(tf_idf, out_random_init['means'], out_random_init['covs'], map_index_to_word)"
      ],
      "execution_count": null,
      "outputs": [
        {
          "output_type": "stream",
          "name": "stdout",
          "text": [
            "\n",
            "==========================================================\n",
            "Cluster 0: Largest mean parameters in cluster \n",
            "\n",
            "Word        Mean        Variance    \n",
            "she         2.01e-02    3.27e-03\n",
            "award       1.54e-02    1.22e-03\n",
            "university  1.47e-02    6.55e-04\n",
            "music       1.46e-02    1.34e-03\n",
            "law         1.31e-02    2.72e-03\n",
            "\n",
            "==========================================================\n",
            "Cluster 1: Largest mean parameters in cluster \n",
            "\n",
            "Word        Mean        Variance    \n",
            "she         2.08e-02    2.95e-03\n",
            "league      1.92e-02    2.10e-03\n",
            "football    1.60e-02    2.30e-03\n",
            "season      1.55e-02    1.11e-03\n",
            "her         1.42e-02    1.44e-03\n",
            "\n",
            "==========================================================\n",
            "Cluster 2: Largest mean parameters in cluster \n",
            "\n",
            "Word        Mean        Variance    \n",
            "she         5.44e-02    6.31e-03\n",
            "her         4.99e-02    5.45e-03\n",
            "music       1.14e-02    9.95e-04\n",
            "de          1.11e-02    1.92e-03\n",
            "opera       1.01e-02    3.20e-03\n",
            "\n",
            "==========================================================\n",
            "Cluster 3: Largest mean parameters in cluster \n",
            "\n",
            "Word        Mean        Variance    \n",
            "film        2.77e-02    5.42e-03\n",
            "tour        2.59e-02    7.73e-03\n",
            "pga         1.97e-02    7.13e-03\n",
            "she         1.44e-02    1.95e-03\n",
            "he          1.40e-02    1.06e-04\n",
            "\n",
            "==========================================================\n",
            "Cluster 4: Largest mean parameters in cluster \n",
            "\n",
            "Word        Mean        Variance    \n",
            "she         1.91e-02    3.19e-03\n",
            "he          1.37e-02    1.10e-04\n",
            "university  1.36e-02    5.41e-04\n",
            "law         1.23e-02    1.90e-03\n",
            "her         1.21e-02    1.00e-03\n",
            "\n",
            "==========================================================\n",
            "Cluster 5: Largest mean parameters in cluster \n",
            "\n",
            "Word        Mean        Variance    \n",
            "she         2.04e-02    2.68e-03\n",
            "her         1.48e-02    1.23e-03\n",
            "he          1.31e-02    1.20e-04\n",
            "marathon    9.35e-03    5.20e-03\n",
            "day         9.22e-03    6.01e-04\n",
            "\n",
            "==========================================================\n",
            "Cluster 6: Largest mean parameters in cluster \n",
            "\n",
            "Word        Mean        Variance    \n",
            "she         2.60e-02    3.52e-03\n",
            "her         1.40e-02    1.15e-03\n",
            "he          1.20e-02    1.07e-04\n",
            "served      1.08e-02    3.87e-04\n",
            "election    1.02e-02    9.58e-04\n",
            "\n",
            "==========================================================\n",
            "Cluster 7: Largest mean parameters in cluster \n",
            "\n",
            "Word        Mean        Variance    \n",
            "she         3.40e-02    4.13e-03\n",
            "her         2.18e-02    1.86e-03\n",
            "music       1.58e-02    2.00e-03\n",
            "album       1.40e-02    2.05e-03\n",
            "university  1.03e-02    2.55e-04\n",
            "\n",
            "==========================================================\n",
            "Cluster 8: Largest mean parameters in cluster \n",
            "\n",
            "Word        Mean        Variance    \n",
            "league      1.89e-02    2.03e-03\n",
            "she         1.74e-02    2.64e-03\n",
            "he          1.44e-02    1.23e-04\n",
            "baseball    1.40e-02    1.84e-03\n",
            "season      1.38e-02    9.05e-04\n",
            "\n",
            "==========================================================\n",
            "Cluster 9: Largest mean parameters in cluster \n",
            "\n",
            "Word        Mean        Variance    \n",
            "she         2.95e-02    4.16e-03\n",
            "played      1.53e-02    8.48e-04\n",
            "season      1.46e-02    8.96e-04\n",
            "film        1.41e-02    2.52e-03\n",
            "team        1.41e-02    8.26e-04\n",
            "\n",
            "==========================================================\n",
            "Cluster 10: Largest mean parameters in cluster \n",
            "\n",
            "Word        Mean        Variance    \n",
            "music       1.80e-02    1.89e-03\n",
            "york        1.38e-02    7.03e-04\n",
            "he          1.33e-02    9.62e-05\n",
            "university  1.28e-02    5.71e-04\n",
            "new         1.11e-02    2.68e-04\n",
            "\n",
            "==========================================================\n",
            "Cluster 11: Largest mean parameters in cluster \n",
            "\n",
            "Word        Mean        Variance    \n",
            "she         2.16e-02    2.77e-03\n",
            "film        1.63e-02    2.20e-03\n",
            "her         1.57e-02    1.66e-03\n",
            "music       1.34e-02    1.65e-03\n",
            "university  1.32e-02    3.31e-04\n",
            "\n",
            "==========================================================\n",
            "Cluster 12: Largest mean parameters in cluster \n",
            "\n",
            "Word        Mean        Variance    \n",
            "she         1.96e-02    2.96e-03\n",
            "he          1.41e-02    1.20e-04\n",
            "music       1.31e-02    1.43e-03\n",
            "tour        1.23e-02    2.89e-03\n",
            "her         1.20e-02    1.05e-03\n",
            "\n",
            "==========================================================\n",
            "Cluster 13: Largest mean parameters in cluster \n",
            "\n",
            "Word        Mean        Variance    \n",
            "she         1.88e-02    1.81e-03\n",
            "her         1.64e-02    1.35e-03\n",
            "music       1.45e-02    1.41e-03\n",
            "art         1.37e-02    2.44e-03\n",
            "immigration 1.23e-02    6.57e-03\n",
            "\n",
            "==========================================================\n",
            "Cluster 14: Largest mean parameters in cluster \n",
            "\n",
            "Word        Mean        Variance    \n",
            "music       1.56e-02    2.07e-03\n",
            "he          1.32e-02    9.04e-05\n",
            "research    1.17e-02    1.15e-03\n",
            "miss        1.11e-02    4.44e-03\n",
            "film        1.11e-02    1.68e-03\n",
            "\n",
            "==========================================================\n",
            "Cluster 15: Largest mean parameters in cluster \n",
            "\n",
            "Word        Mean        Variance    \n",
            "she         2.33e-02    3.27e-03\n",
            "her         1.43e-02    1.46e-03\n",
            "he          1.33e-02    1.13e-04\n",
            "league      1.19e-02    1.20e-03\n",
            "games       1.12e-02    8.88e-04\n",
            "\n",
            "==========================================================\n",
            "Cluster 16: Largest mean parameters in cluster \n",
            "\n",
            "Word        Mean        Variance    \n",
            "she         2.13e-02    2.82e-03\n",
            "her         1.60e-02    1.27e-03\n",
            "film        1.36e-02    1.27e-03\n",
            "show        1.19e-02    1.03e-03\n",
            "he          1.16e-02    9.55e-05\n",
            "\n",
            "==========================================================\n",
            "Cluster 17: Largest mean parameters in cluster \n",
            "\n",
            "Word        Mean        Variance    \n",
            "film        1.80e-02    3.48e-03\n",
            "league      1.29e-02    1.38e-03\n",
            "she         1.27e-02    1.43e-03\n",
            "he          1.20e-02    1.06e-04\n",
            "her         1.17e-02    1.28e-03\n",
            "\n",
            "==========================================================\n",
            "Cluster 18: Largest mean parameters in cluster \n",
            "\n",
            "Word        Mean        Variance    \n",
            "she         4.22e-02    5.32e-03\n",
            "her         2.23e-02    1.67e-03\n",
            "band        1.59e-02    2.32e-03\n",
            "music       1.32e-02    1.00e-03\n",
            "album       1.28e-02    1.49e-03\n",
            "\n",
            "==========================================================\n",
            "Cluster 19: Largest mean parameters in cluster \n",
            "\n",
            "Word        Mean        Variance    \n",
            "league      1.56e-02    1.27e-03\n",
            "season      1.45e-02    1.05e-03\n",
            "he          1.35e-02    9.19e-05\n",
            "she         1.26e-02    1.61e-03\n",
            "club        1.14e-02    8.23e-04\n",
            "\n",
            "==========================================================\n",
            "Cluster 20: Largest mean parameters in cluster \n",
            "\n",
            "Word        Mean        Variance    \n",
            "she         2.58e-02    3.94e-03\n",
            "film        1.79e-02    2.00e-03\n",
            "her         1.46e-02    1.46e-03\n",
            "law         1.32e-02    2.53e-03\n",
            "he          1.26e-02    1.06e-04\n",
            "\n",
            "==========================================================\n",
            "Cluster 21: Largest mean parameters in cluster \n",
            "\n",
            "Word        Mean        Variance    \n",
            "she         2.09e-02    2.93e-03\n",
            "her         1.44e-02    1.36e-03\n",
            "he          1.34e-02    1.29e-04\n",
            "league      1.32e-02    1.28e-03\n",
            "season      1.20e-02    1.13e-03\n",
            "\n",
            "==========================================================\n",
            "Cluster 22: Largest mean parameters in cluster \n",
            "\n",
            "Word        Mean        Variance    \n",
            "she         1.68e-02    2.63e-03\n",
            "music       1.46e-02    1.55e-03\n",
            "he          1.30e-02    1.13e-04\n",
            "party       1.28e-02    1.05e-03\n",
            "her         1.03e-02    9.60e-04\n",
            "\n",
            "==========================================================\n",
            "Cluster 23: Largest mean parameters in cluster \n",
            "\n",
            "Word        Mean        Variance    \n",
            "she         2.32e-02    2.66e-03\n",
            "her         1.80e-02    1.60e-03\n",
            "music       1.49e-02    1.21e-03\n",
            "new         1.19e-02    2.79e-04\n",
            "film        1.16e-02    1.20e-03\n",
            "\n",
            "==========================================================\n",
            "Cluster 24: Largest mean parameters in cluster \n",
            "\n",
            "Word        Mean        Variance    \n",
            "she         2.58e-02    3.72e-03\n",
            "her         1.78e-02    1.68e-03\n",
            "album       1.54e-02    2.51e-03\n",
            "he          1.26e-02    1.23e-04\n",
            "soccer      1.13e-02    4.15e-03\n",
            "\n",
            "==========================================================\n"
          ]
        }
      ]
    },
    {
      "cell_type": "markdown",
      "metadata": {
        "collapsed": true,
        "id": "uBWcD3DoKc6a"
      },
      "source": [
        "**Note**: Random initialization may sometimes produce a superior fit than k-means initialization. We do not claim that random initialization is always worse. However, this section does illustrate that random initialization often produces much worse clustering than k-means counterpart. This is the reason why we provide the particular random seed (`np.random.seed(5)`)."
      ]
    },
    {
      "cell_type": "markdown",
      "metadata": {
        "collapsed": true,
        "id": "tnG_yispKc6b"
      },
      "source": [
        "## Takeaway\n",
        "\n",
        "In this assignment we were able to apply the EM algorithm to a mixture of Gaussians model of text data. This was made possible by modifying the model to assume a diagonal covariance for each cluster, and by modifying the implementation to use a sparse matrix representation. In the second part you explored the role of k-means initialization on the convergence of the model as well as the interpretability of the clusters."
      ]
    },
    {
      "cell_type": "code",
      "metadata": {
        "id": "lzku1tHgKc6d"
      },
      "source": [
        ""
      ],
      "execution_count": null,
      "outputs": []
    }
  ]
}